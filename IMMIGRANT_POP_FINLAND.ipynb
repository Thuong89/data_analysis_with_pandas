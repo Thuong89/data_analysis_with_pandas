{
 "cells": [
  {
   "cell_type": "markdown",
   "metadata": {
    "ExecuteTime": {
     "end_time": "2020-12-07T09:12:23.599345Z",
     "start_time": "2020-12-07T09:12:23.566667Z"
    }
   },
   "source": [
    "# GROUP WORK BY : SANDIP, SHREE AND THUONG\n",
    "\n",
    "## <span style=\"color:green\">Dataset</span>\n",
    "This dataset is about the numbers and shares of persons with immigrant background by area from 2010 to 2019\n",
    "\n",
    "These statistics apply the regional division of 1 January 2020 to the whole time series. Data for merged municipalities have been combined. Partial municipal mergers have not been taken into account in the years preceding the merger.\n",
    "\n",
    "### <span style=\"color:green\">Regions of Finland</span>\n",
    "- WHOLE COUNTRY\n",
    "- Uusimaa\n",
    "- Southwest\n",
    "- Satakunta\n",
    "- Kanta-Häme\n",
    "- Pirkanmaa\n",
    "- Päijät-Häme\n",
    "- Kymenlaakso\n",
    "- South Karelia\n",
    "- South Savo\n",
    "- North Savo\n",
    "- North Karelia\n",
    "- Central\n",
    "- South Ostrobothnia\n",
    "- Ostrobothnia\n",
    "- Central Ostrobothnia\n",
    "- North Ostrobothnia\n",
    "- Kainuu\n",
    "- Lapland\n",
    "- Åland\n",
    "\n",
    "## <span style=\"color:green\">Variables of the dataset based on regions of Finland</span>\n",
    "- Citizens of foreign countries\n",
    "\n",
    "- Persons born abroad\n",
    "\n",
    "- Foreign-language speakers\n",
    "\n",
    "- Persons with foreign background\n",
    "- Share of foreign citizens, %\n",
    "\n",
    "- Share of persons born abroad, %\n",
    "- Share of foreign-language speakers, %\n",
    "- Share of persons with foreign background , %\n",
    "- Share of foreign citizens among foreign citizens in the whole country, %\n",
    "- Share of persons born abroad among persons born abroad in the whole country, %\n",
    "- Share of foreign-language speakers among foreign-language speakers in the whole country, %\n",
    "- The foreign languages are other than Finnish, Swedish and Sami\n",
    "- Share of persons with foreign background among persons with foreign backgr. in the whole country, %\n",
    "\n",
    "## <span style=\"color:green\">Aim of this analysis</span>\n",
    "- to analyze the immigrant population in different regions of Finland and see the growth in different periods of time. \n"
   ]
  },
  {
   "cell_type": "markdown",
   "metadata": {},
   "source": [
    "## <span style=\"color:green\">Importing libraries</span>"
   ]
  },
  {
   "cell_type": "code",
   "execution_count": 1,
   "metadata": {
    "ExecuteTime": {
     "end_time": "2020-12-11T13:14:51.581198Z",
     "start_time": "2020-12-11T13:14:48.553292Z"
    }
   },
   "outputs": [
    {
     "data": {
      "text/html": [
       "        <script type=\"text/javascript\">\n",
       "        window.PlotlyConfig = {MathJaxConfig: 'local'};\n",
       "        if (window.MathJax) {MathJax.Hub.Config({SVG: {font: \"STIX-Web\"}});}\n",
       "        if (typeof require !== 'undefined') {\n",
       "        require.undef(\"plotly\");\n",
       "        requirejs.config({\n",
       "            paths: {\n",
       "                'plotly': ['https://cdn.plot.ly/plotly-latest.min']\n",
       "            }\n",
       "        });\n",
       "        require(['plotly'], function(Plotly) {\n",
       "            window._Plotly = Plotly;\n",
       "        });\n",
       "        }\n",
       "        </script>\n",
       "        "
      ]
     },
     "metadata": {},
     "output_type": "display_data"
    },
    {
     "data": {
      "text/html": [
       "        <script type=\"text/javascript\">\n",
       "        window.PlotlyConfig = {MathJaxConfig: 'local'};\n",
       "        if (window.MathJax) {MathJax.Hub.Config({SVG: {font: \"STIX-Web\"}});}\n",
       "        if (typeof require !== 'undefined') {\n",
       "        require.undef(\"plotly\");\n",
       "        requirejs.config({\n",
       "            paths: {\n",
       "                'plotly': ['https://cdn.plot.ly/plotly-latest.min']\n",
       "            }\n",
       "        });\n",
       "        require(['plotly'], function(Plotly) {\n",
       "            window._Plotly = Plotly;\n",
       "        });\n",
       "        }\n",
       "        </script>\n",
       "        "
      ]
     },
     "metadata": {},
     "output_type": "display_data"
    }
   ],
   "source": [
    "#import pandas as pd\n",
    "#import modin.pandas as pd\n",
    "\n",
    "\n",
    "import plotly.graph_objects as go\n",
    "import chart_studio.plotly as py\n",
    "import cufflinks as cf\n",
    "from plotly.offline import iplot, init_notebook_mode\n",
    "#--------------------------------------------#\n",
    "\n",
    "import pandas as pd\n",
    "import numpy as np\n",
    "\n",
    "%matplotlib inline\n",
    "\n",
    "# option for pandas to display the columns\n",
    "pd.options.display.max_columns=30\n",
    "\n",
    "# setting the notebook mode for plotly\n",
    "\n",
    "init_notebook_mode(connected=True)\n",
    "cf.go_offline(connected=True)\n",
    "\n",
    "# setting theme in cufflinks\n",
    "\n",
    "cf.set_config_file(theme=\"pearl\")\n",
    "\n",
    "from ipywidgets import interact, interactive,fixed,interact_manual\n",
    "import ipywidgets as widgets\n",
    "\n",
    "\n",
    "\n"
   ]
  },
  {
   "cell_type": "markdown",
   "metadata": {
    "ExecuteTime": {
     "end_time": "2020-12-09T09:32:48.302661Z",
     "start_time": "2020-12-09T09:32:48.293940Z"
    }
   },
   "source": [
    "## <span style=\"color:green\">Loading dataset</span>"
   ]
  },
  {
   "cell_type": "code",
   "execution_count": 2,
   "metadata": {
    "ExecuteTime": {
     "end_time": "2020-12-11T13:14:51.706800Z",
     "start_time": "2020-12-11T13:14:51.585147Z"
    }
   },
   "outputs": [
    {
     "data": {
      "text/html": [
       "<div>\n",
       "<style scoped>\n",
       "    .dataframe tbody tr th:only-of-type {\n",
       "        vertical-align: middle;\n",
       "    }\n",
       "\n",
       "    .dataframe tbody tr th {\n",
       "        vertical-align: top;\n",
       "    }\n",
       "\n",
       "    .dataframe thead th {\n",
       "        text-align: right;\n",
       "    }\n",
       "</style>\n",
       "<table border=\"1\" class=\"dataframe\">\n",
       "  <thead>\n",
       "    <tr style=\"text-align: right;\">\n",
       "      <th></th>\n",
       "      <th>Year</th>\n",
       "      <th>WHOLE COUNTRY Citizens of foreign countries</th>\n",
       "      <th>WHOLE COUNTRY Persons born abroad</th>\n",
       "      <th>WHOLE COUNTRY Foreign-language speakers</th>\n",
       "      <th>WHOLE COUNTRY Persons with foreign background</th>\n",
       "      <th>WHOLE COUNTRY Share of foreign citizens, %</th>\n",
       "      <th>WHOLE COUNTRY Share of persons born abroad, %</th>\n",
       "      <th>WHOLE COUNTRY Share of foreign-language speakers, %</th>\n",
       "      <th>WHOLE COUNTRY Share of persons with foreign background , %</th>\n",
       "      <th>WHOLE COUNTRY Share of foreign citizens among foreign citizens in the whole country, %</th>\n",
       "      <th>WHOLE COUNTRY Share of persons born abroad among persons born abroad in the whole country, %</th>\n",
       "      <th>WHOLE COUNTRY Share of foreign-language speakers among foreign-language speakers in the whole country, %</th>\n",
       "      <th>WHOLE COUNTRY Share of persons with foreign background among persons with foreign backgr. in the whole country, %</th>\n",
       "      <th>MA1 MAINLAND FINLAND Citizens of foreign countries</th>\n",
       "      <th>MA1 MAINLAND FINLAND Persons born abroad</th>\n",
       "      <th>...</th>\n",
       "      <th>MA2 ÅLAND Share of persons born abroad among persons born abroad in the whole country, %</th>\n",
       "      <th>MA2 ÅLAND Share of foreign-language speakers among foreign-language speakers in the whole country, %</th>\n",
       "      <th>MA2 ÅLAND Share of persons with foreign background among persons with foreign backgr. in the whole country, %</th>\n",
       "      <th>MK21 Åland Citizens of foreign countries</th>\n",
       "      <th>MK21 Åland Persons born abroad</th>\n",
       "      <th>MK21 Åland Foreign-language speakers</th>\n",
       "      <th>MK21 Åland Persons with foreign background</th>\n",
       "      <th>MK21 Åland Share of foreign citizens, %</th>\n",
       "      <th>MK21 Åland Share of persons born abroad, %</th>\n",
       "      <th>MK21 Åland Share of foreign-language speakers, %</th>\n",
       "      <th>MK21 Åland Share of persons with foreign background , %</th>\n",
       "      <th>MK21 Åland Share of foreign citizens among foreign citizens in the whole country, %</th>\n",
       "      <th>MK21 Åland Share of persons born abroad among persons born abroad in the whole country, %</th>\n",
       "      <th>MK21 Åland Share of foreign-language speakers among foreign-language speakers in the whole country, %</th>\n",
       "      <th>MK21 Åland Share of persons with foreign background among persons with foreign backgr. in the whole country, %</th>\n",
       "    </tr>\n",
       "  </thead>\n",
       "  <tbody>\n",
       "    <tr>\n",
       "      <th>0</th>\n",
       "      <td>2010</td>\n",
       "      <td>167954</td>\n",
       "      <td>248135</td>\n",
       "      <td>224388</td>\n",
       "      <td>237066</td>\n",
       "      <td>3.1</td>\n",
       "      <td>4.6</td>\n",
       "      <td>4.2</td>\n",
       "      <td>4.4</td>\n",
       "      <td>100.0</td>\n",
       "      <td>100.0</td>\n",
       "      <td>100.0</td>\n",
       "      <td>100.0</td>\n",
       "      <td>0</td>\n",
       "      <td>0</td>\n",
       "      <td>...</td>\n",
       "      <td>0.0</td>\n",
       "      <td>0.0</td>\n",
       "      <td>0.0</td>\n",
       "      <td>2415</td>\n",
       "      <td>3785</td>\n",
       "      <td>1462</td>\n",
       "      <td>3054</td>\n",
       "      <td>8.6</td>\n",
       "      <td>13.5</td>\n",
       "      <td>5.2</td>\n",
       "      <td>10.9</td>\n",
       "      <td>1.44</td>\n",
       "      <td>1.53</td>\n",
       "      <td>0.65</td>\n",
       "      <td>1.29</td>\n",
       "    </tr>\n",
       "    <tr>\n",
       "      <th>1</th>\n",
       "      <td>2011</td>\n",
       "      <td>183133</td>\n",
       "      <td>266148</td>\n",
       "      <td>244827</td>\n",
       "      <td>257494</td>\n",
       "      <td>3.4</td>\n",
       "      <td>4.9</td>\n",
       "      <td>4.5</td>\n",
       "      <td>4.8</td>\n",
       "      <td>100.0</td>\n",
       "      <td>100.0</td>\n",
       "      <td>100.0</td>\n",
       "      <td>100.0</td>\n",
       "      <td>0</td>\n",
       "      <td>0</td>\n",
       "      <td>...</td>\n",
       "      <td>0.0</td>\n",
       "      <td>0.0</td>\n",
       "      <td>0.0</td>\n",
       "      <td>2560</td>\n",
       "      <td>4018</td>\n",
       "      <td>1623</td>\n",
       "      <td>3293</td>\n",
       "      <td>9.0</td>\n",
       "      <td>14.2</td>\n",
       "      <td>5.7</td>\n",
       "      <td>11.6</td>\n",
       "      <td>1.40</td>\n",
       "      <td>1.51</td>\n",
       "      <td>0.66</td>\n",
       "      <td>1.28</td>\n",
       "    </tr>\n",
       "    <tr>\n",
       "      <th>2</th>\n",
       "      <td>2012</td>\n",
       "      <td>195511</td>\n",
       "      <td>285471</td>\n",
       "      <td>266949</td>\n",
       "      <td>279616</td>\n",
       "      <td>3.6</td>\n",
       "      <td>5.3</td>\n",
       "      <td>4.9</td>\n",
       "      <td>5.2</td>\n",
       "      <td>100.0</td>\n",
       "      <td>100.0</td>\n",
       "      <td>100.0</td>\n",
       "      <td>100.0</td>\n",
       "      <td>0</td>\n",
       "      <td>0</td>\n",
       "      <td>...</td>\n",
       "      <td>0.0</td>\n",
       "      <td>0.0</td>\n",
       "      <td>0.0</td>\n",
       "      <td>2610</td>\n",
       "      <td>4171</td>\n",
       "      <td>1733</td>\n",
       "      <td>3454</td>\n",
       "      <td>9.2</td>\n",
       "      <td>14.6</td>\n",
       "      <td>6.1</td>\n",
       "      <td>12.1</td>\n",
       "      <td>1.33</td>\n",
       "      <td>1.46</td>\n",
       "      <td>0.65</td>\n",
       "      <td>1.24</td>\n",
       "    </tr>\n",
       "    <tr>\n",
       "      <th>3</th>\n",
       "      <td>2013</td>\n",
       "      <td>207511</td>\n",
       "      <td>304279</td>\n",
       "      <td>289068</td>\n",
       "      <td>301524</td>\n",
       "      <td>3.8</td>\n",
       "      <td>5.6</td>\n",
       "      <td>5.3</td>\n",
       "      <td>5.5</td>\n",
       "      <td>100.0</td>\n",
       "      <td>100.0</td>\n",
       "      <td>100.0</td>\n",
       "      <td>100.0</td>\n",
       "      <td>0</td>\n",
       "      <td>0</td>\n",
       "      <td>...</td>\n",
       "      <td>0.0</td>\n",
       "      <td>0.0</td>\n",
       "      <td>0.0</td>\n",
       "      <td>2721</td>\n",
       "      <td>4316</td>\n",
       "      <td>1850</td>\n",
       "      <td>3618</td>\n",
       "      <td>9.5</td>\n",
       "      <td>15.1</td>\n",
       "      <td>6.5</td>\n",
       "      <td>12.6</td>\n",
       "      <td>1.31</td>\n",
       "      <td>1.42</td>\n",
       "      <td>0.64</td>\n",
       "      <td>1.20</td>\n",
       "    </tr>\n",
       "    <tr>\n",
       "      <th>4</th>\n",
       "      <td>2014</td>\n",
       "      <td>219675</td>\n",
       "      <td>321977</td>\n",
       "      <td>310306</td>\n",
       "      <td>322711</td>\n",
       "      <td>4.0</td>\n",
       "      <td>5.9</td>\n",
       "      <td>5.7</td>\n",
       "      <td>5.9</td>\n",
       "      <td>100.0</td>\n",
       "      <td>100.0</td>\n",
       "      <td>100.0</td>\n",
       "      <td>100.0</td>\n",
       "      <td>0</td>\n",
       "      <td>0</td>\n",
       "      <td>...</td>\n",
       "      <td>0.0</td>\n",
       "      <td>0.0</td>\n",
       "      <td>0.0</td>\n",
       "      <td>2837</td>\n",
       "      <td>4502</td>\n",
       "      <td>1986</td>\n",
       "      <td>3824</td>\n",
       "      <td>9.8</td>\n",
       "      <td>15.6</td>\n",
       "      <td>6.9</td>\n",
       "      <td>13.2</td>\n",
       "      <td>1.29</td>\n",
       "      <td>1.40</td>\n",
       "      <td>0.64</td>\n",
       "      <td>1.18</td>\n",
       "    </tr>\n",
       "    <tr>\n",
       "      <th>5</th>\n",
       "      <td>2015</td>\n",
       "      <td>229765</td>\n",
       "      <td>337162</td>\n",
       "      <td>329562</td>\n",
       "      <td>339925</td>\n",
       "      <td>4.2</td>\n",
       "      <td>6.1</td>\n",
       "      <td>6.0</td>\n",
       "      <td>6.2</td>\n",
       "      <td>100.0</td>\n",
       "      <td>100.0</td>\n",
       "      <td>100.0</td>\n",
       "      <td>100.0</td>\n",
       "      <td>0</td>\n",
       "      <td>0</td>\n",
       "      <td>...</td>\n",
       "      <td>0.0</td>\n",
       "      <td>0.0</td>\n",
       "      <td>0.0</td>\n",
       "      <td>2927</td>\n",
       "      <td>4642</td>\n",
       "      <td>2093</td>\n",
       "      <td>3862</td>\n",
       "      <td>10.1</td>\n",
       "      <td>16.0</td>\n",
       "      <td>7.2</td>\n",
       "      <td>13.3</td>\n",
       "      <td>1.27</td>\n",
       "      <td>1.38</td>\n",
       "      <td>0.64</td>\n",
       "      <td>1.14</td>\n",
       "    </tr>\n",
       "    <tr>\n",
       "      <th>6</th>\n",
       "      <td>2016</td>\n",
       "      <td>243639</td>\n",
       "      <td>357541</td>\n",
       "      <td>353993</td>\n",
       "      <td>364787</td>\n",
       "      <td>4.4</td>\n",
       "      <td>6.5</td>\n",
       "      <td>6.4</td>\n",
       "      <td>6.6</td>\n",
       "      <td>100.0</td>\n",
       "      <td>100.0</td>\n",
       "      <td>100.0</td>\n",
       "      <td>100.0</td>\n",
       "      <td>0</td>\n",
       "      <td>0</td>\n",
       "      <td>...</td>\n",
       "      <td>0.0</td>\n",
       "      <td>0.0</td>\n",
       "      <td>0.0</td>\n",
       "      <td>3092</td>\n",
       "      <td>4905</td>\n",
       "      <td>2255</td>\n",
       "      <td>4126</td>\n",
       "      <td>10.6</td>\n",
       "      <td>16.8</td>\n",
       "      <td>7.7</td>\n",
       "      <td>14.1</td>\n",
       "      <td>1.27</td>\n",
       "      <td>1.37</td>\n",
       "      <td>0.64</td>\n",
       "      <td>1.13</td>\n",
       "    </tr>\n",
       "    <tr>\n",
       "      <th>7</th>\n",
       "      <td>2017</td>\n",
       "      <td>249452</td>\n",
       "      <td>372802</td>\n",
       "      <td>373325</td>\n",
       "      <td>384123</td>\n",
       "      <td>4.5</td>\n",
       "      <td>6.8</td>\n",
       "      <td>6.8</td>\n",
       "      <td>7.0</td>\n",
       "      <td>100.0</td>\n",
       "      <td>100.0</td>\n",
       "      <td>100.0</td>\n",
       "      <td>100.0</td>\n",
       "      <td>0</td>\n",
       "      <td>0</td>\n",
       "      <td>...</td>\n",
       "      <td>0.0</td>\n",
       "      <td>0.0</td>\n",
       "      <td>0.0</td>\n",
       "      <td>3182</td>\n",
       "      <td>5082</td>\n",
       "      <td>2388</td>\n",
       "      <td>4316</td>\n",
       "      <td>10.8</td>\n",
       "      <td>17.2</td>\n",
       "      <td>8.1</td>\n",
       "      <td>14.6</td>\n",
       "      <td>1.28</td>\n",
       "      <td>1.36</td>\n",
       "      <td>0.64</td>\n",
       "      <td>1.12</td>\n",
       "    </tr>\n",
       "    <tr>\n",
       "      <th>8</th>\n",
       "      <td>2018</td>\n",
       "      <td>257572</td>\n",
       "      <td>387215</td>\n",
       "      <td>391746</td>\n",
       "      <td>402619</td>\n",
       "      <td>4.7</td>\n",
       "      <td>7.0</td>\n",
       "      <td>7.1</td>\n",
       "      <td>7.3</td>\n",
       "      <td>100.0</td>\n",
       "      <td>100.0</td>\n",
       "      <td>100.0</td>\n",
       "      <td>100.0</td>\n",
       "      <td>0</td>\n",
       "      <td>0</td>\n",
       "      <td>...</td>\n",
       "      <td>0.0</td>\n",
       "      <td>0.0</td>\n",
       "      <td>0.0</td>\n",
       "      <td>3396</td>\n",
       "      <td>5377</td>\n",
       "      <td>2538</td>\n",
       "      <td>4612</td>\n",
       "      <td>11.4</td>\n",
       "      <td>18.1</td>\n",
       "      <td>8.5</td>\n",
       "      <td>15.5</td>\n",
       "      <td>1.32</td>\n",
       "      <td>1.39</td>\n",
       "      <td>0.65</td>\n",
       "      <td>1.15</td>\n",
       "    </tr>\n",
       "    <tr>\n",
       "      <th>9</th>\n",
       "      <td>2019</td>\n",
       "      <td>267629</td>\n",
       "      <td>404179</td>\n",
       "      <td>412644</td>\n",
       "      <td>423494</td>\n",
       "      <td>4.8</td>\n",
       "      <td>7.3</td>\n",
       "      <td>7.5</td>\n",
       "      <td>7.7</td>\n",
       "      <td>100.0</td>\n",
       "      <td>100.0</td>\n",
       "      <td>100.0</td>\n",
       "      <td>100.0</td>\n",
       "      <td>0</td>\n",
       "      <td>0</td>\n",
       "      <td>...</td>\n",
       "      <td>0.0</td>\n",
       "      <td>0.0</td>\n",
       "      <td>0.0</td>\n",
       "      <td>3421</td>\n",
       "      <td>5497</td>\n",
       "      <td>2621</td>\n",
       "      <td>4758</td>\n",
       "      <td>11.4</td>\n",
       "      <td>18.4</td>\n",
       "      <td>8.8</td>\n",
       "      <td>15.9</td>\n",
       "      <td>1.28</td>\n",
       "      <td>1.36</td>\n",
       "      <td>0.64</td>\n",
       "      <td>1.12</td>\n",
       "    </tr>\n",
       "  </tbody>\n",
       "</table>\n",
       "<p>10 rows × 265 columns</p>\n",
       "</div>"
      ],
      "text/plain": [
       "   Year  WHOLE COUNTRY Citizens of foreign countries  \\\n",
       "0  2010                                       167954   \n",
       "1  2011                                       183133   \n",
       "2  2012                                       195511   \n",
       "3  2013                                       207511   \n",
       "4  2014                                       219675   \n",
       "5  2015                                       229765   \n",
       "6  2016                                       243639   \n",
       "7  2017                                       249452   \n",
       "8  2018                                       257572   \n",
       "9  2019                                       267629   \n",
       "\n",
       "   WHOLE COUNTRY Persons born abroad  WHOLE COUNTRY Foreign-language speakers  \\\n",
       "0                             248135                                   224388   \n",
       "1                             266148                                   244827   \n",
       "2                             285471                                   266949   \n",
       "3                             304279                                   289068   \n",
       "4                             321977                                   310306   \n",
       "5                             337162                                   329562   \n",
       "6                             357541                                   353993   \n",
       "7                             372802                                   373325   \n",
       "8                             387215                                   391746   \n",
       "9                             404179                                   412644   \n",
       "\n",
       "   WHOLE COUNTRY Persons with foreign background  \\\n",
       "0                                         237066   \n",
       "1                                         257494   \n",
       "2                                         279616   \n",
       "3                                         301524   \n",
       "4                                         322711   \n",
       "5                                         339925   \n",
       "6                                         364787   \n",
       "7                                         384123   \n",
       "8                                         402619   \n",
       "9                                         423494   \n",
       "\n",
       "   WHOLE COUNTRY Share of foreign citizens, %  \\\n",
       "0                                         3.1   \n",
       "1                                         3.4   \n",
       "2                                         3.6   \n",
       "3                                         3.8   \n",
       "4                                         4.0   \n",
       "5                                         4.2   \n",
       "6                                         4.4   \n",
       "7                                         4.5   \n",
       "8                                         4.7   \n",
       "9                                         4.8   \n",
       "\n",
       "   WHOLE COUNTRY Share of persons born abroad, %  \\\n",
       "0                                            4.6   \n",
       "1                                            4.9   \n",
       "2                                            5.3   \n",
       "3                                            5.6   \n",
       "4                                            5.9   \n",
       "5                                            6.1   \n",
       "6                                            6.5   \n",
       "7                                            6.8   \n",
       "8                                            7.0   \n",
       "9                                            7.3   \n",
       "\n",
       "   WHOLE COUNTRY Share of foreign-language speakers, %  \\\n",
       "0                                                4.2     \n",
       "1                                                4.5     \n",
       "2                                                4.9     \n",
       "3                                                5.3     \n",
       "4                                                5.7     \n",
       "5                                                6.0     \n",
       "6                                                6.4     \n",
       "7                                                6.8     \n",
       "8                                                7.1     \n",
       "9                                                7.5     \n",
       "\n",
       "   WHOLE COUNTRY Share of persons with foreign background , %  \\\n",
       "0                                                4.4            \n",
       "1                                                4.8            \n",
       "2                                                5.2            \n",
       "3                                                5.5            \n",
       "4                                                5.9            \n",
       "5                                                6.2            \n",
       "6                                                6.6            \n",
       "7                                                7.0            \n",
       "8                                                7.3            \n",
       "9                                                7.7            \n",
       "\n",
       "   WHOLE COUNTRY Share of foreign citizens among foreign citizens in the whole country, %  \\\n",
       "0                                              100.0                                        \n",
       "1                                              100.0                                        \n",
       "2                                              100.0                                        \n",
       "3                                              100.0                                        \n",
       "4                                              100.0                                        \n",
       "5                                              100.0                                        \n",
       "6                                              100.0                                        \n",
       "7                                              100.0                                        \n",
       "8                                              100.0                                        \n",
       "9                                              100.0                                        \n",
       "\n",
       "   WHOLE COUNTRY Share of persons born abroad among persons born abroad in the whole country, %  \\\n",
       "0                                              100.0                                              \n",
       "1                                              100.0                                              \n",
       "2                                              100.0                                              \n",
       "3                                              100.0                                              \n",
       "4                                              100.0                                              \n",
       "5                                              100.0                                              \n",
       "6                                              100.0                                              \n",
       "7                                              100.0                                              \n",
       "8                                              100.0                                              \n",
       "9                                              100.0                                              \n",
       "\n",
       "   WHOLE COUNTRY Share of foreign-language speakers among foreign-language speakers in the whole country, %  \\\n",
       "0                                              100.0                                                          \n",
       "1                                              100.0                                                          \n",
       "2                                              100.0                                                          \n",
       "3                                              100.0                                                          \n",
       "4                                              100.0                                                          \n",
       "5                                              100.0                                                          \n",
       "6                                              100.0                                                          \n",
       "7                                              100.0                                                          \n",
       "8                                              100.0                                                          \n",
       "9                                              100.0                                                          \n",
       "\n",
       "   WHOLE COUNTRY Share of persons with foreign background among persons with foreign backgr. in the whole country, %  \\\n",
       "0                                              100.0                                                                   \n",
       "1                                              100.0                                                                   \n",
       "2                                              100.0                                                                   \n",
       "3                                              100.0                                                                   \n",
       "4                                              100.0                                                                   \n",
       "5                                              100.0                                                                   \n",
       "6                                              100.0                                                                   \n",
       "7                                              100.0                                                                   \n",
       "8                                              100.0                                                                   \n",
       "9                                              100.0                                                                   \n",
       "\n",
       "   MA1 MAINLAND FINLAND Citizens of foreign countries  \\\n",
       "0                                                  0    \n",
       "1                                                  0    \n",
       "2                                                  0    \n",
       "3                                                  0    \n",
       "4                                                  0    \n",
       "5                                                  0    \n",
       "6                                                  0    \n",
       "7                                                  0    \n",
       "8                                                  0    \n",
       "9                                                  0    \n",
       "\n",
       "   MA1 MAINLAND FINLAND Persons born abroad  ...  \\\n",
       "0                                         0  ...   \n",
       "1                                         0  ...   \n",
       "2                                         0  ...   \n",
       "3                                         0  ...   \n",
       "4                                         0  ...   \n",
       "5                                         0  ...   \n",
       "6                                         0  ...   \n",
       "7                                         0  ...   \n",
       "8                                         0  ...   \n",
       "9                                         0  ...   \n",
       "\n",
       "   MA2 ÅLAND Share of persons born abroad among persons born abroad in the whole country, %  \\\n",
       "0                                                0.0                                          \n",
       "1                                                0.0                                          \n",
       "2                                                0.0                                          \n",
       "3                                                0.0                                          \n",
       "4                                                0.0                                          \n",
       "5                                                0.0                                          \n",
       "6                                                0.0                                          \n",
       "7                                                0.0                                          \n",
       "8                                                0.0                                          \n",
       "9                                                0.0                                          \n",
       "\n",
       "   MA2 ÅLAND Share of foreign-language speakers among foreign-language speakers in the whole country, %  \\\n",
       "0                                                0.0                                                      \n",
       "1                                                0.0                                                      \n",
       "2                                                0.0                                                      \n",
       "3                                                0.0                                                      \n",
       "4                                                0.0                                                      \n",
       "5                                                0.0                                                      \n",
       "6                                                0.0                                                      \n",
       "7                                                0.0                                                      \n",
       "8                                                0.0                                                      \n",
       "9                                                0.0                                                      \n",
       "\n",
       "   MA2 ÅLAND Share of persons with foreign background among persons with foreign backgr. in the whole country, %  \\\n",
       "0                                                0.0                                                               \n",
       "1                                                0.0                                                               \n",
       "2                                                0.0                                                               \n",
       "3                                                0.0                                                               \n",
       "4                                                0.0                                                               \n",
       "5                                                0.0                                                               \n",
       "6                                                0.0                                                               \n",
       "7                                                0.0                                                               \n",
       "8                                                0.0                                                               \n",
       "9                                                0.0                                                               \n",
       "\n",
       "   MK21 Åland Citizens of foreign countries  MK21 Åland Persons born abroad  \\\n",
       "0                                      2415                            3785   \n",
       "1                                      2560                            4018   \n",
       "2                                      2610                            4171   \n",
       "3                                      2721                            4316   \n",
       "4                                      2837                            4502   \n",
       "5                                      2927                            4642   \n",
       "6                                      3092                            4905   \n",
       "7                                      3182                            5082   \n",
       "8                                      3396                            5377   \n",
       "9                                      3421                            5497   \n",
       "\n",
       "   MK21 Åland Foreign-language speakers  \\\n",
       "0                                  1462   \n",
       "1                                  1623   \n",
       "2                                  1733   \n",
       "3                                  1850   \n",
       "4                                  1986   \n",
       "5                                  2093   \n",
       "6                                  2255   \n",
       "7                                  2388   \n",
       "8                                  2538   \n",
       "9                                  2621   \n",
       "\n",
       "   MK21 Åland Persons with foreign background  \\\n",
       "0                                        3054   \n",
       "1                                        3293   \n",
       "2                                        3454   \n",
       "3                                        3618   \n",
       "4                                        3824   \n",
       "5                                        3862   \n",
       "6                                        4126   \n",
       "7                                        4316   \n",
       "8                                        4612   \n",
       "9                                        4758   \n",
       "\n",
       "   MK21 Åland Share of foreign citizens, %  \\\n",
       "0                                      8.6   \n",
       "1                                      9.0   \n",
       "2                                      9.2   \n",
       "3                                      9.5   \n",
       "4                                      9.8   \n",
       "5                                     10.1   \n",
       "6                                     10.6   \n",
       "7                                     10.8   \n",
       "8                                     11.4   \n",
       "9                                     11.4   \n",
       "\n",
       "   MK21 Åland Share of persons born abroad, %  \\\n",
       "0                                        13.5   \n",
       "1                                        14.2   \n",
       "2                                        14.6   \n",
       "3                                        15.1   \n",
       "4                                        15.6   \n",
       "5                                        16.0   \n",
       "6                                        16.8   \n",
       "7                                        17.2   \n",
       "8                                        18.1   \n",
       "9                                        18.4   \n",
       "\n",
       "   MK21 Åland Share of foreign-language speakers, %  \\\n",
       "0                                               5.2   \n",
       "1                                               5.7   \n",
       "2                                               6.1   \n",
       "3                                               6.5   \n",
       "4                                               6.9   \n",
       "5                                               7.2   \n",
       "6                                               7.7   \n",
       "7                                               8.1   \n",
       "8                                               8.5   \n",
       "9                                               8.8   \n",
       "\n",
       "   MK21 Åland Share of persons with foreign background , %  \\\n",
       "0                                               10.9         \n",
       "1                                               11.6         \n",
       "2                                               12.1         \n",
       "3                                               12.6         \n",
       "4                                               13.2         \n",
       "5                                               13.3         \n",
       "6                                               14.1         \n",
       "7                                               14.6         \n",
       "8                                               15.5         \n",
       "9                                               15.9         \n",
       "\n",
       "   MK21 Åland Share of foreign citizens among foreign citizens in the whole country, %  \\\n",
       "0                                               1.44                                     \n",
       "1                                               1.40                                     \n",
       "2                                               1.33                                     \n",
       "3                                               1.31                                     \n",
       "4                                               1.29                                     \n",
       "5                                               1.27                                     \n",
       "6                                               1.27                                     \n",
       "7                                               1.28                                     \n",
       "8                                               1.32                                     \n",
       "9                                               1.28                                     \n",
       "\n",
       "   MK21 Åland Share of persons born abroad among persons born abroad in the whole country, %  \\\n",
       "0                                               1.53                                           \n",
       "1                                               1.51                                           \n",
       "2                                               1.46                                           \n",
       "3                                               1.42                                           \n",
       "4                                               1.40                                           \n",
       "5                                               1.38                                           \n",
       "6                                               1.37                                           \n",
       "7                                               1.36                                           \n",
       "8                                               1.39                                           \n",
       "9                                               1.36                                           \n",
       "\n",
       "   MK21 Åland Share of foreign-language speakers among foreign-language speakers in the whole country, %  \\\n",
       "0                                               0.65                                                       \n",
       "1                                               0.66                                                       \n",
       "2                                               0.65                                                       \n",
       "3                                               0.64                                                       \n",
       "4                                               0.64                                                       \n",
       "5                                               0.64                                                       \n",
       "6                                               0.64                                                       \n",
       "7                                               0.64                                                       \n",
       "8                                               0.65                                                       \n",
       "9                                               0.64                                                       \n",
       "\n",
       "   MK21 Åland Share of persons with foreign background among persons with foreign backgr. in the whole country, %  \n",
       "0                                               1.29                                                               \n",
       "1                                               1.28                                                               \n",
       "2                                               1.24                                                               \n",
       "3                                               1.20                                                               \n",
       "4                                               1.18                                                               \n",
       "5                                               1.14                                                               \n",
       "6                                               1.13                                                               \n",
       "7                                               1.12                                                               \n",
       "8                                               1.15                                                               \n",
       "9                                               1.12                                                               \n",
       "\n",
       "[10 rows x 265 columns]"
      ]
     },
     "execution_count": 2,
     "metadata": {},
     "output_type": "execute_result"
    }
   ],
   "source": [
    "pop = pd.read_csv(\"PopFinland.csv\",sep=\";\",skiprows=[0],encoding='latin-1')\n",
    "\n",
    "pop"
   ]
  },
  {
   "cell_type": "code",
   "execution_count": 3,
   "metadata": {
    "ExecuteTime": {
     "end_time": "2020-12-11T13:14:51.727951Z",
     "start_time": "2020-12-11T13:14:51.715234Z"
    },
    "scrolled": false
   },
   "outputs": [],
   "source": [
    "#pop = pd.read_csv(\"PopFinland.csv\",sep=\";\",header=0,skiprows=[0],encoding='latin-1')"
   ]
  },
  {
   "cell_type": "code",
   "execution_count": 4,
   "metadata": {
    "ExecuteTime": {
     "end_time": "2020-12-11T13:14:51.751543Z",
     "start_time": "2020-12-11T13:14:51.734479Z"
    }
   },
   "outputs": [
    {
     "data": {
      "text/plain": [
       "(10, 265)"
      ]
     },
     "execution_count": 4,
     "metadata": {},
     "output_type": "execute_result"
    }
   ],
   "source": [
    "pop.shape"
   ]
  },
  {
   "cell_type": "code",
   "execution_count": 5,
   "metadata": {
    "ExecuteTime": {
     "end_time": "2020-12-11T13:14:51.768353Z",
     "start_time": "2020-12-11T13:14:51.758954Z"
    },
    "scrolled": false
   },
   "outputs": [],
   "source": [
    "#pop.columns.tolist()"
   ]
  },
  {
   "cell_type": "markdown",
   "metadata": {
    "ExecuteTime": {
     "end_time": "2020-12-09T09:34:41.331315Z",
     "start_time": "2020-12-09T09:34:41.327420Z"
    }
   },
   "source": [
    "## <span style=\"color:green\">Cleaning dataset"
   ]
  },
  {
   "cell_type": "code",
   "execution_count": 6,
   "metadata": {
    "ExecuteTime": {
     "end_time": "2020-12-11T13:14:51.785131Z",
     "start_time": "2020-12-11T13:14:51.774939Z"
    }
   },
   "outputs": [],
   "source": [
    "# Removing extra letter in front of columns\n",
    "pop.columns=pop.columns.str.replace(r'(MK)\\d+\\s','')\n",
    "pop.columns=pop.columns.str.replace(r'(MA)\\d+\\s','')"
   ]
  },
  {
   "cell_type": "code",
   "execution_count": 7,
   "metadata": {
    "ExecuteTime": {
     "end_time": "2020-12-11T13:14:51.831882Z",
     "start_time": "2020-12-11T13:14:51.789460Z"
    }
   },
   "outputs": [
    {
     "data": {
      "text/html": [
       "<div>\n",
       "<style scoped>\n",
       "    .dataframe tbody tr th:only-of-type {\n",
       "        vertical-align: middle;\n",
       "    }\n",
       "\n",
       "    .dataframe tbody tr th {\n",
       "        vertical-align: top;\n",
       "    }\n",
       "\n",
       "    .dataframe thead th {\n",
       "        text-align: right;\n",
       "    }\n",
       "</style>\n",
       "<table border=\"1\" class=\"dataframe\">\n",
       "  <thead>\n",
       "    <tr style=\"text-align: right;\">\n",
       "      <th></th>\n",
       "      <th>Year</th>\n",
       "      <th>WHOLE COUNTRY Citizens of foreign countries</th>\n",
       "      <th>WHOLE COUNTRY Persons born abroad</th>\n",
       "      <th>WHOLE COUNTRY Foreign-language speakers</th>\n",
       "      <th>WHOLE COUNTRY Persons with foreign background</th>\n",
       "      <th>WHOLE COUNTRY Share of foreign citizens, %</th>\n",
       "      <th>WHOLE COUNTRY Share of persons born abroad, %</th>\n",
       "      <th>WHOLE COUNTRY Share of foreign-language speakers, %</th>\n",
       "      <th>WHOLE COUNTRY Share of persons with foreign background , %</th>\n",
       "      <th>WHOLE COUNTRY Share of foreign citizens among foreign citizens in the whole country, %</th>\n",
       "      <th>WHOLE COUNTRY Share of persons born abroad among persons born abroad in the whole country, %</th>\n",
       "      <th>WHOLE COUNTRY Share of foreign-language speakers among foreign-language speakers in the whole country, %</th>\n",
       "      <th>WHOLE COUNTRY Share of persons with foreign background among persons with foreign backgr. in the whole country, %</th>\n",
       "      <th>MAINLAND FINLAND Citizens of foreign countries</th>\n",
       "      <th>MAINLAND FINLAND Persons born abroad</th>\n",
       "      <th>...</th>\n",
       "      <th>ÅLAND Share of persons born abroad among persons born abroad in the whole country, %</th>\n",
       "      <th>ÅLAND Share of foreign-language speakers among foreign-language speakers in the whole country, %</th>\n",
       "      <th>ÅLAND Share of persons with foreign background among persons with foreign backgr. in the whole country, %</th>\n",
       "      <th>Åland Citizens of foreign countries</th>\n",
       "      <th>Åland Persons born abroad</th>\n",
       "      <th>Åland Foreign-language speakers</th>\n",
       "      <th>Åland Persons with foreign background</th>\n",
       "      <th>Åland Share of foreign citizens, %</th>\n",
       "      <th>Åland Share of persons born abroad, %</th>\n",
       "      <th>Åland Share of foreign-language speakers, %</th>\n",
       "      <th>Åland Share of persons with foreign background , %</th>\n",
       "      <th>Åland Share of foreign citizens among foreign citizens in the whole country, %</th>\n",
       "      <th>Åland Share of persons born abroad among persons born abroad in the whole country, %</th>\n",
       "      <th>Åland Share of foreign-language speakers among foreign-language speakers in the whole country, %</th>\n",
       "      <th>Åland Share of persons with foreign background among persons with foreign backgr. in the whole country, %</th>\n",
       "    </tr>\n",
       "  </thead>\n",
       "  <tbody>\n",
       "    <tr>\n",
       "      <th>0</th>\n",
       "      <td>2010</td>\n",
       "      <td>167954</td>\n",
       "      <td>248135</td>\n",
       "      <td>224388</td>\n",
       "      <td>237066</td>\n",
       "      <td>3.1</td>\n",
       "      <td>4.6</td>\n",
       "      <td>4.2</td>\n",
       "      <td>4.4</td>\n",
       "      <td>100.0</td>\n",
       "      <td>100.0</td>\n",
       "      <td>100.0</td>\n",
       "      <td>100.0</td>\n",
       "      <td>0</td>\n",
       "      <td>0</td>\n",
       "      <td>...</td>\n",
       "      <td>0.0</td>\n",
       "      <td>0.0</td>\n",
       "      <td>0.0</td>\n",
       "      <td>2415</td>\n",
       "      <td>3785</td>\n",
       "      <td>1462</td>\n",
       "      <td>3054</td>\n",
       "      <td>8.6</td>\n",
       "      <td>13.5</td>\n",
       "      <td>5.2</td>\n",
       "      <td>10.9</td>\n",
       "      <td>1.44</td>\n",
       "      <td>1.53</td>\n",
       "      <td>0.65</td>\n",
       "      <td>1.29</td>\n",
       "    </tr>\n",
       "    <tr>\n",
       "      <th>1</th>\n",
       "      <td>2011</td>\n",
       "      <td>183133</td>\n",
       "      <td>266148</td>\n",
       "      <td>244827</td>\n",
       "      <td>257494</td>\n",
       "      <td>3.4</td>\n",
       "      <td>4.9</td>\n",
       "      <td>4.5</td>\n",
       "      <td>4.8</td>\n",
       "      <td>100.0</td>\n",
       "      <td>100.0</td>\n",
       "      <td>100.0</td>\n",
       "      <td>100.0</td>\n",
       "      <td>0</td>\n",
       "      <td>0</td>\n",
       "      <td>...</td>\n",
       "      <td>0.0</td>\n",
       "      <td>0.0</td>\n",
       "      <td>0.0</td>\n",
       "      <td>2560</td>\n",
       "      <td>4018</td>\n",
       "      <td>1623</td>\n",
       "      <td>3293</td>\n",
       "      <td>9.0</td>\n",
       "      <td>14.2</td>\n",
       "      <td>5.7</td>\n",
       "      <td>11.6</td>\n",
       "      <td>1.40</td>\n",
       "      <td>1.51</td>\n",
       "      <td>0.66</td>\n",
       "      <td>1.28</td>\n",
       "    </tr>\n",
       "    <tr>\n",
       "      <th>2</th>\n",
       "      <td>2012</td>\n",
       "      <td>195511</td>\n",
       "      <td>285471</td>\n",
       "      <td>266949</td>\n",
       "      <td>279616</td>\n",
       "      <td>3.6</td>\n",
       "      <td>5.3</td>\n",
       "      <td>4.9</td>\n",
       "      <td>5.2</td>\n",
       "      <td>100.0</td>\n",
       "      <td>100.0</td>\n",
       "      <td>100.0</td>\n",
       "      <td>100.0</td>\n",
       "      <td>0</td>\n",
       "      <td>0</td>\n",
       "      <td>...</td>\n",
       "      <td>0.0</td>\n",
       "      <td>0.0</td>\n",
       "      <td>0.0</td>\n",
       "      <td>2610</td>\n",
       "      <td>4171</td>\n",
       "      <td>1733</td>\n",
       "      <td>3454</td>\n",
       "      <td>9.2</td>\n",
       "      <td>14.6</td>\n",
       "      <td>6.1</td>\n",
       "      <td>12.1</td>\n",
       "      <td>1.33</td>\n",
       "      <td>1.46</td>\n",
       "      <td>0.65</td>\n",
       "      <td>1.24</td>\n",
       "    </tr>\n",
       "  </tbody>\n",
       "</table>\n",
       "<p>3 rows × 265 columns</p>\n",
       "</div>"
      ],
      "text/plain": [
       "   Year  WHOLE COUNTRY Citizens of foreign countries  \\\n",
       "0  2010                                       167954   \n",
       "1  2011                                       183133   \n",
       "2  2012                                       195511   \n",
       "\n",
       "   WHOLE COUNTRY Persons born abroad  WHOLE COUNTRY Foreign-language speakers  \\\n",
       "0                             248135                                   224388   \n",
       "1                             266148                                   244827   \n",
       "2                             285471                                   266949   \n",
       "\n",
       "   WHOLE COUNTRY Persons with foreign background  \\\n",
       "0                                         237066   \n",
       "1                                         257494   \n",
       "2                                         279616   \n",
       "\n",
       "   WHOLE COUNTRY Share of foreign citizens, %  \\\n",
       "0                                         3.1   \n",
       "1                                         3.4   \n",
       "2                                         3.6   \n",
       "\n",
       "   WHOLE COUNTRY Share of persons born abroad, %  \\\n",
       "0                                            4.6   \n",
       "1                                            4.9   \n",
       "2                                            5.3   \n",
       "\n",
       "   WHOLE COUNTRY Share of foreign-language speakers, %  \\\n",
       "0                                                4.2     \n",
       "1                                                4.5     \n",
       "2                                                4.9     \n",
       "\n",
       "   WHOLE COUNTRY Share of persons with foreign background , %  \\\n",
       "0                                                4.4            \n",
       "1                                                4.8            \n",
       "2                                                5.2            \n",
       "\n",
       "   WHOLE COUNTRY Share of foreign citizens among foreign citizens in the whole country, %  \\\n",
       "0                                              100.0                                        \n",
       "1                                              100.0                                        \n",
       "2                                              100.0                                        \n",
       "\n",
       "   WHOLE COUNTRY Share of persons born abroad among persons born abroad in the whole country, %  \\\n",
       "0                                              100.0                                              \n",
       "1                                              100.0                                              \n",
       "2                                              100.0                                              \n",
       "\n",
       "   WHOLE COUNTRY Share of foreign-language speakers among foreign-language speakers in the whole country, %  \\\n",
       "0                                              100.0                                                          \n",
       "1                                              100.0                                                          \n",
       "2                                              100.0                                                          \n",
       "\n",
       "   WHOLE COUNTRY Share of persons with foreign background among persons with foreign backgr. in the whole country, %  \\\n",
       "0                                              100.0                                                                   \n",
       "1                                              100.0                                                                   \n",
       "2                                              100.0                                                                   \n",
       "\n",
       "   MAINLAND FINLAND Citizens of foreign countries  \\\n",
       "0                                               0   \n",
       "1                                               0   \n",
       "2                                               0   \n",
       "\n",
       "   MAINLAND FINLAND Persons born abroad  ...  \\\n",
       "0                                     0  ...   \n",
       "1                                     0  ...   \n",
       "2                                     0  ...   \n",
       "\n",
       "   ÅLAND Share of persons born abroad among persons born abroad in the whole country, %  \\\n",
       "0                                                0.0                                      \n",
       "1                                                0.0                                      \n",
       "2                                                0.0                                      \n",
       "\n",
       "   ÅLAND Share of foreign-language speakers among foreign-language speakers in the whole country, %  \\\n",
       "0                                                0.0                                                  \n",
       "1                                                0.0                                                  \n",
       "2                                                0.0                                                  \n",
       "\n",
       "   ÅLAND Share of persons with foreign background among persons with foreign backgr. in the whole country, %  \\\n",
       "0                                                0.0                                                           \n",
       "1                                                0.0                                                           \n",
       "2                                                0.0                                                           \n",
       "\n",
       "   Åland Citizens of foreign countries  Åland Persons born abroad  \\\n",
       "0                                 2415                       3785   \n",
       "1                                 2560                       4018   \n",
       "2                                 2610                       4171   \n",
       "\n",
       "   Åland Foreign-language speakers  Åland Persons with foreign background  \\\n",
       "0                             1462                                   3054   \n",
       "1                             1623                                   3293   \n",
       "2                             1733                                   3454   \n",
       "\n",
       "   Åland Share of foreign citizens, %  Åland Share of persons born abroad, %  \\\n",
       "0                                 8.6                                   13.5   \n",
       "1                                 9.0                                   14.2   \n",
       "2                                 9.2                                   14.6   \n",
       "\n",
       "   Åland Share of foreign-language speakers, %  \\\n",
       "0                                          5.2   \n",
       "1                                          5.7   \n",
       "2                                          6.1   \n",
       "\n",
       "   Åland Share of persons with foreign background , %  \\\n",
       "0                                               10.9    \n",
       "1                                               11.6    \n",
       "2                                               12.1    \n",
       "\n",
       "   Åland Share of foreign citizens among foreign citizens in the whole country, %  \\\n",
       "0                                               1.44                                \n",
       "1                                               1.40                                \n",
       "2                                               1.33                                \n",
       "\n",
       "   Åland Share of persons born abroad among persons born abroad in the whole country, %  \\\n",
       "0                                               1.53                                      \n",
       "1                                               1.51                                      \n",
       "2                                               1.46                                      \n",
       "\n",
       "   Åland Share of foreign-language speakers among foreign-language speakers in the whole country, %  \\\n",
       "0                                               0.65                                                  \n",
       "1                                               0.66                                                  \n",
       "2                                               0.65                                                  \n",
       "\n",
       "   Åland Share of persons with foreign background among persons with foreign backgr. in the whole country, %  \n",
       "0                                               1.29                                                          \n",
       "1                                               1.28                                                          \n",
       "2                                               1.24                                                          \n",
       "\n",
       "[3 rows x 265 columns]"
      ]
     },
     "execution_count": 7,
     "metadata": {},
     "output_type": "execute_result"
    }
   ],
   "source": [
    "pop.head(3)"
   ]
  },
  {
   "cell_type": "code",
   "execution_count": 8,
   "metadata": {
    "ExecuteTime": {
     "end_time": "2020-12-11T13:14:51.855016Z",
     "start_time": "2020-12-11T13:14:51.845306Z"
    }
   },
   "outputs": [],
   "source": [
    "FinnData=pop[pop.columns.drop(list(pop.filter(regex='%$')))]"
   ]
  },
  {
   "cell_type": "code",
   "execution_count": 9,
   "metadata": {
    "ExecuteTime": {
     "end_time": "2020-12-11T13:14:51.895327Z",
     "start_time": "2020-12-11T13:14:51.862076Z"
    }
   },
   "outputs": [
    {
     "data": {
      "text/html": [
       "<div>\n",
       "<style scoped>\n",
       "    .dataframe tbody tr th:only-of-type {\n",
       "        vertical-align: middle;\n",
       "    }\n",
       "\n",
       "    .dataframe tbody tr th {\n",
       "        vertical-align: top;\n",
       "    }\n",
       "\n",
       "    .dataframe thead th {\n",
       "        text-align: right;\n",
       "    }\n",
       "</style>\n",
       "<table border=\"1\" class=\"dataframe\">\n",
       "  <thead>\n",
       "    <tr style=\"text-align: right;\">\n",
       "      <th></th>\n",
       "      <th>Year</th>\n",
       "      <th>WHOLE COUNTRY Citizens of foreign countries</th>\n",
       "      <th>WHOLE COUNTRY Persons born abroad</th>\n",
       "      <th>WHOLE COUNTRY Foreign-language speakers</th>\n",
       "      <th>WHOLE COUNTRY Persons with foreign background</th>\n",
       "      <th>MAINLAND FINLAND Citizens of foreign countries</th>\n",
       "      <th>MAINLAND FINLAND Persons born abroad</th>\n",
       "      <th>MAINLAND FINLAND Foreign-language speakers</th>\n",
       "      <th>MAINLAND FINLAND Persons with foreign background</th>\n",
       "      <th>Uusimaa Citizens of foreign countries</th>\n",
       "      <th>Uusimaa Persons born abroad</th>\n",
       "      <th>Uusimaa Foreign-language speakers</th>\n",
       "      <th>Uusimaa Persons with foreign background</th>\n",
       "      <th>Southwest Finland Citizens of foreign countries</th>\n",
       "      <th>Southwest Finland Persons born abroad</th>\n",
       "      <th>...</th>\n",
       "      <th>Kainuu Persons born abroad</th>\n",
       "      <th>Kainuu Foreign-language speakers</th>\n",
       "      <th>Kainuu Persons with foreign background</th>\n",
       "      <th>Lapland Citizens of foreign countries</th>\n",
       "      <th>Lapland Persons born abroad</th>\n",
       "      <th>Lapland Foreign-language speakers</th>\n",
       "      <th>Lapland Persons with foreign background</th>\n",
       "      <th>ÅLAND Citizens of foreign countries</th>\n",
       "      <th>ÅLAND Persons born abroad</th>\n",
       "      <th>ÅLAND Foreign-language speakers</th>\n",
       "      <th>ÅLAND Persons with foreign background</th>\n",
       "      <th>Åland Citizens of foreign countries</th>\n",
       "      <th>Åland Persons born abroad</th>\n",
       "      <th>Åland Foreign-language speakers</th>\n",
       "      <th>Åland Persons with foreign background</th>\n",
       "    </tr>\n",
       "  </thead>\n",
       "  <tbody>\n",
       "    <tr>\n",
       "      <th>0</th>\n",
       "      <td>2010</td>\n",
       "      <td>167954</td>\n",
       "      <td>248135</td>\n",
       "      <td>224388</td>\n",
       "      <td>237066</td>\n",
       "      <td>0</td>\n",
       "      <td>0</td>\n",
       "      <td>0</td>\n",
       "      <td>0</td>\n",
       "      <td>86685</td>\n",
       "      <td>121352</td>\n",
       "      <td>122102</td>\n",
       "      <td>126450</td>\n",
       "      <td>14570</td>\n",
       "      <td>21978</td>\n",
       "      <td>...</td>\n",
       "      <td>1878</td>\n",
       "      <td>1605</td>\n",
       "      <td>1701</td>\n",
       "      <td>3153</td>\n",
       "      <td>6034</td>\n",
       "      <td>3167</td>\n",
       "      <td>3794</td>\n",
       "      <td>0</td>\n",
       "      <td>0</td>\n",
       "      <td>0</td>\n",
       "      <td>0</td>\n",
       "      <td>2415</td>\n",
       "      <td>3785</td>\n",
       "      <td>1462</td>\n",
       "      <td>3054</td>\n",
       "    </tr>\n",
       "    <tr>\n",
       "      <th>1</th>\n",
       "      <td>2011</td>\n",
       "      <td>183133</td>\n",
       "      <td>266148</td>\n",
       "      <td>244827</td>\n",
       "      <td>257494</td>\n",
       "      <td>0</td>\n",
       "      <td>0</td>\n",
       "      <td>0</td>\n",
       "      <td>0</td>\n",
       "      <td>94966</td>\n",
       "      <td>131101</td>\n",
       "      <td>133407</td>\n",
       "      <td>137712</td>\n",
       "      <td>15553</td>\n",
       "      <td>23203</td>\n",
       "      <td>...</td>\n",
       "      <td>1935</td>\n",
       "      <td>1666</td>\n",
       "      <td>1767</td>\n",
       "      <td>3359</td>\n",
       "      <td>6304</td>\n",
       "      <td>3467</td>\n",
       "      <td>4102</td>\n",
       "      <td>0</td>\n",
       "      <td>0</td>\n",
       "      <td>0</td>\n",
       "      <td>0</td>\n",
       "      <td>2560</td>\n",
       "      <td>4018</td>\n",
       "      <td>1623</td>\n",
       "      <td>3293</td>\n",
       "    </tr>\n",
       "    <tr>\n",
       "      <th>2</th>\n",
       "      <td>2012</td>\n",
       "      <td>195511</td>\n",
       "      <td>285471</td>\n",
       "      <td>266949</td>\n",
       "      <td>279616</td>\n",
       "      <td>0</td>\n",
       "      <td>0</td>\n",
       "      <td>0</td>\n",
       "      <td>0</td>\n",
       "      <td>102118</td>\n",
       "      <td>141965</td>\n",
       "      <td>145894</td>\n",
       "      <td>150218</td>\n",
       "      <td>16443</td>\n",
       "      <td>24708</td>\n",
       "      <td>...</td>\n",
       "      <td>1981</td>\n",
       "      <td>1733</td>\n",
       "      <td>1840</td>\n",
       "      <td>3473</td>\n",
       "      <td>6524</td>\n",
       "      <td>3681</td>\n",
       "      <td>4316</td>\n",
       "      <td>0</td>\n",
       "      <td>0</td>\n",
       "      <td>0</td>\n",
       "      <td>0</td>\n",
       "      <td>2610</td>\n",
       "      <td>4171</td>\n",
       "      <td>1733</td>\n",
       "      <td>3454</td>\n",
       "    </tr>\n",
       "    <tr>\n",
       "      <th>3</th>\n",
       "      <td>2013</td>\n",
       "      <td>207511</td>\n",
       "      <td>304279</td>\n",
       "      <td>289068</td>\n",
       "      <td>301524</td>\n",
       "      <td>0</td>\n",
       "      <td>0</td>\n",
       "      <td>0</td>\n",
       "      <td>0</td>\n",
       "      <td>109213</td>\n",
       "      <td>152458</td>\n",
       "      <td>158496</td>\n",
       "      <td>162693</td>\n",
       "      <td>17084</td>\n",
       "      <td>26082</td>\n",
       "      <td>...</td>\n",
       "      <td>2056</td>\n",
       "      <td>1811</td>\n",
       "      <td>1905</td>\n",
       "      <td>3642</td>\n",
       "      <td>6801</td>\n",
       "      <td>3971</td>\n",
       "      <td>4610</td>\n",
       "      <td>0</td>\n",
       "      <td>0</td>\n",
       "      <td>0</td>\n",
       "      <td>0</td>\n",
       "      <td>2721</td>\n",
       "      <td>4316</td>\n",
       "      <td>1850</td>\n",
       "      <td>3618</td>\n",
       "    </tr>\n",
       "    <tr>\n",
       "      <th>4</th>\n",
       "      <td>2014</td>\n",
       "      <td>219675</td>\n",
       "      <td>321977</td>\n",
       "      <td>310306</td>\n",
       "      <td>322711</td>\n",
       "      <td>0</td>\n",
       "      <td>0</td>\n",
       "      <td>0</td>\n",
       "      <td>0</td>\n",
       "      <td>116791</td>\n",
       "      <td>162824</td>\n",
       "      <td>171242</td>\n",
       "      <td>175336</td>\n",
       "      <td>18161</td>\n",
       "      <td>27547</td>\n",
       "      <td>...</td>\n",
       "      <td>2096</td>\n",
       "      <td>1856</td>\n",
       "      <td>1957</td>\n",
       "      <td>3794</td>\n",
       "      <td>7011</td>\n",
       "      <td>4231</td>\n",
       "      <td>4860</td>\n",
       "      <td>0</td>\n",
       "      <td>0</td>\n",
       "      <td>0</td>\n",
       "      <td>0</td>\n",
       "      <td>2837</td>\n",
       "      <td>4502</td>\n",
       "      <td>1986</td>\n",
       "      <td>3824</td>\n",
       "    </tr>\n",
       "    <tr>\n",
       "      <th>5</th>\n",
       "      <td>2015</td>\n",
       "      <td>229765</td>\n",
       "      <td>337162</td>\n",
       "      <td>329562</td>\n",
       "      <td>339925</td>\n",
       "      <td>0</td>\n",
       "      <td>0</td>\n",
       "      <td>0</td>\n",
       "      <td>0</td>\n",
       "      <td>123300</td>\n",
       "      <td>172143</td>\n",
       "      <td>183154</td>\n",
       "      <td>186621</td>\n",
       "      <td>18834</td>\n",
       "      <td>28690</td>\n",
       "      <td>...</td>\n",
       "      <td>2129</td>\n",
       "      <td>1896</td>\n",
       "      <td>1956</td>\n",
       "      <td>3827</td>\n",
       "      <td>7111</td>\n",
       "      <td>4367</td>\n",
       "      <td>4850</td>\n",
       "      <td>0</td>\n",
       "      <td>0</td>\n",
       "      <td>0</td>\n",
       "      <td>0</td>\n",
       "      <td>2927</td>\n",
       "      <td>4642</td>\n",
       "      <td>2093</td>\n",
       "      <td>3862</td>\n",
       "    </tr>\n",
       "    <tr>\n",
       "      <th>6</th>\n",
       "      <td>2016</td>\n",
       "      <td>243639</td>\n",
       "      <td>357541</td>\n",
       "      <td>353993</td>\n",
       "      <td>364787</td>\n",
       "      <td>0</td>\n",
       "      <td>0</td>\n",
       "      <td>0</td>\n",
       "      <td>0</td>\n",
       "      <td>130963</td>\n",
       "      <td>183459</td>\n",
       "      <td>197194</td>\n",
       "      <td>200767</td>\n",
       "      <td>19814</td>\n",
       "      <td>30092</td>\n",
       "      <td>...</td>\n",
       "      <td>2227</td>\n",
       "      <td>2010</td>\n",
       "      <td>2066</td>\n",
       "      <td>3994</td>\n",
       "      <td>7402</td>\n",
       "      <td>4665</td>\n",
       "      <td>5164</td>\n",
       "      <td>0</td>\n",
       "      <td>0</td>\n",
       "      <td>0</td>\n",
       "      <td>0</td>\n",
       "      <td>3092</td>\n",
       "      <td>4905</td>\n",
       "      <td>2255</td>\n",
       "      <td>4126</td>\n",
       "    </tr>\n",
       "    <tr>\n",
       "      <th>7</th>\n",
       "      <td>2017</td>\n",
       "      <td>249452</td>\n",
       "      <td>372802</td>\n",
       "      <td>373325</td>\n",
       "      <td>384123</td>\n",
       "      <td>0</td>\n",
       "      <td>0</td>\n",
       "      <td>0</td>\n",
       "      <td>0</td>\n",
       "      <td>135412</td>\n",
       "      <td>193255</td>\n",
       "      <td>209785</td>\n",
       "      <td>213290</td>\n",
       "      <td>20408</td>\n",
       "      <td>31544</td>\n",
       "      <td>...</td>\n",
       "      <td>2265</td>\n",
       "      <td>2052</td>\n",
       "      <td>2109</td>\n",
       "      <td>4013</td>\n",
       "      <td>7520</td>\n",
       "      <td>4839</td>\n",
       "      <td>5331</td>\n",
       "      <td>0</td>\n",
       "      <td>0</td>\n",
       "      <td>0</td>\n",
       "      <td>0</td>\n",
       "      <td>3182</td>\n",
       "      <td>5082</td>\n",
       "      <td>2388</td>\n",
       "      <td>4316</td>\n",
       "    </tr>\n",
       "    <tr>\n",
       "      <th>8</th>\n",
       "      <td>2018</td>\n",
       "      <td>257572</td>\n",
       "      <td>387215</td>\n",
       "      <td>391746</td>\n",
       "      <td>402619</td>\n",
       "      <td>0</td>\n",
       "      <td>0</td>\n",
       "      <td>0</td>\n",
       "      <td>0</td>\n",
       "      <td>141597</td>\n",
       "      <td>202957</td>\n",
       "      <td>222404</td>\n",
       "      <td>225859</td>\n",
       "      <td>21185</td>\n",
       "      <td>32898</td>\n",
       "      <td>...</td>\n",
       "      <td>2221</td>\n",
       "      <td>2002</td>\n",
       "      <td>2063</td>\n",
       "      <td>4102</td>\n",
       "      <td>7701</td>\n",
       "      <td>5038</td>\n",
       "      <td>5519</td>\n",
       "      <td>0</td>\n",
       "      <td>0</td>\n",
       "      <td>0</td>\n",
       "      <td>0</td>\n",
       "      <td>3396</td>\n",
       "      <td>5377</td>\n",
       "      <td>2538</td>\n",
       "      <td>4612</td>\n",
       "    </tr>\n",
       "    <tr>\n",
       "      <th>9</th>\n",
       "      <td>2019</td>\n",
       "      <td>267629</td>\n",
       "      <td>404179</td>\n",
       "      <td>412644</td>\n",
       "      <td>423494</td>\n",
       "      <td>0</td>\n",
       "      <td>0</td>\n",
       "      <td>0</td>\n",
       "      <td>0</td>\n",
       "      <td>149253</td>\n",
       "      <td>214768</td>\n",
       "      <td>236959</td>\n",
       "      <td>240435</td>\n",
       "      <td>21913</td>\n",
       "      <td>34140</td>\n",
       "      <td>...</td>\n",
       "      <td>2283</td>\n",
       "      <td>2090</td>\n",
       "      <td>2154</td>\n",
       "      <td>3988</td>\n",
       "      <td>7679</td>\n",
       "      <td>5032</td>\n",
       "      <td>5505</td>\n",
       "      <td>0</td>\n",
       "      <td>0</td>\n",
       "      <td>0</td>\n",
       "      <td>0</td>\n",
       "      <td>3421</td>\n",
       "      <td>5497</td>\n",
       "      <td>2621</td>\n",
       "      <td>4758</td>\n",
       "    </tr>\n",
       "  </tbody>\n",
       "</table>\n",
       "<p>10 rows × 89 columns</p>\n",
       "</div>"
      ],
      "text/plain": [
       "   Year  WHOLE COUNTRY Citizens of foreign countries  \\\n",
       "0  2010                                       167954   \n",
       "1  2011                                       183133   \n",
       "2  2012                                       195511   \n",
       "3  2013                                       207511   \n",
       "4  2014                                       219675   \n",
       "5  2015                                       229765   \n",
       "6  2016                                       243639   \n",
       "7  2017                                       249452   \n",
       "8  2018                                       257572   \n",
       "9  2019                                       267629   \n",
       "\n",
       "   WHOLE COUNTRY Persons born abroad  WHOLE COUNTRY Foreign-language speakers  \\\n",
       "0                             248135                                   224388   \n",
       "1                             266148                                   244827   \n",
       "2                             285471                                   266949   \n",
       "3                             304279                                   289068   \n",
       "4                             321977                                   310306   \n",
       "5                             337162                                   329562   \n",
       "6                             357541                                   353993   \n",
       "7                             372802                                   373325   \n",
       "8                             387215                                   391746   \n",
       "9                             404179                                   412644   \n",
       "\n",
       "   WHOLE COUNTRY Persons with foreign background  \\\n",
       "0                                         237066   \n",
       "1                                         257494   \n",
       "2                                         279616   \n",
       "3                                         301524   \n",
       "4                                         322711   \n",
       "5                                         339925   \n",
       "6                                         364787   \n",
       "7                                         384123   \n",
       "8                                         402619   \n",
       "9                                         423494   \n",
       "\n",
       "   MAINLAND FINLAND Citizens of foreign countries  \\\n",
       "0                                               0   \n",
       "1                                               0   \n",
       "2                                               0   \n",
       "3                                               0   \n",
       "4                                               0   \n",
       "5                                               0   \n",
       "6                                               0   \n",
       "7                                               0   \n",
       "8                                               0   \n",
       "9                                               0   \n",
       "\n",
       "   MAINLAND FINLAND Persons born abroad  \\\n",
       "0                                     0   \n",
       "1                                     0   \n",
       "2                                     0   \n",
       "3                                     0   \n",
       "4                                     0   \n",
       "5                                     0   \n",
       "6                                     0   \n",
       "7                                     0   \n",
       "8                                     0   \n",
       "9                                     0   \n",
       "\n",
       "   MAINLAND FINLAND Foreign-language speakers  \\\n",
       "0                                           0   \n",
       "1                                           0   \n",
       "2                                           0   \n",
       "3                                           0   \n",
       "4                                           0   \n",
       "5                                           0   \n",
       "6                                           0   \n",
       "7                                           0   \n",
       "8                                           0   \n",
       "9                                           0   \n",
       "\n",
       "   MAINLAND FINLAND Persons with foreign background  \\\n",
       "0                                                 0   \n",
       "1                                                 0   \n",
       "2                                                 0   \n",
       "3                                                 0   \n",
       "4                                                 0   \n",
       "5                                                 0   \n",
       "6                                                 0   \n",
       "7                                                 0   \n",
       "8                                                 0   \n",
       "9                                                 0   \n",
       "\n",
       "   Uusimaa Citizens of foreign countries  Uusimaa Persons born abroad  \\\n",
       "0                                  86685                       121352   \n",
       "1                                  94966                       131101   \n",
       "2                                 102118                       141965   \n",
       "3                                 109213                       152458   \n",
       "4                                 116791                       162824   \n",
       "5                                 123300                       172143   \n",
       "6                                 130963                       183459   \n",
       "7                                 135412                       193255   \n",
       "8                                 141597                       202957   \n",
       "9                                 149253                       214768   \n",
       "\n",
       "   Uusimaa Foreign-language speakers  Uusimaa Persons with foreign background  \\\n",
       "0                             122102                                   126450   \n",
       "1                             133407                                   137712   \n",
       "2                             145894                                   150218   \n",
       "3                             158496                                   162693   \n",
       "4                             171242                                   175336   \n",
       "5                             183154                                   186621   \n",
       "6                             197194                                   200767   \n",
       "7                             209785                                   213290   \n",
       "8                             222404                                   225859   \n",
       "9                             236959                                   240435   \n",
       "\n",
       "   Southwest Finland Citizens of foreign countries  \\\n",
       "0                                            14570   \n",
       "1                                            15553   \n",
       "2                                            16443   \n",
       "3                                            17084   \n",
       "4                                            18161   \n",
       "5                                            18834   \n",
       "6                                            19814   \n",
       "7                                            20408   \n",
       "8                                            21185   \n",
       "9                                            21913   \n",
       "\n",
       "   Southwest Finland Persons born abroad  ...  Kainuu Persons born abroad  \\\n",
       "0                                  21978  ...                        1878   \n",
       "1                                  23203  ...                        1935   \n",
       "2                                  24708  ...                        1981   \n",
       "3                                  26082  ...                        2056   \n",
       "4                                  27547  ...                        2096   \n",
       "5                                  28690  ...                        2129   \n",
       "6                                  30092  ...                        2227   \n",
       "7                                  31544  ...                        2265   \n",
       "8                                  32898  ...                        2221   \n",
       "9                                  34140  ...                        2283   \n",
       "\n",
       "   Kainuu Foreign-language speakers  Kainuu Persons with foreign background  \\\n",
       "0                              1605                                    1701   \n",
       "1                              1666                                    1767   \n",
       "2                              1733                                    1840   \n",
       "3                              1811                                    1905   \n",
       "4                              1856                                    1957   \n",
       "5                              1896                                    1956   \n",
       "6                              2010                                    2066   \n",
       "7                              2052                                    2109   \n",
       "8                              2002                                    2063   \n",
       "9                              2090                                    2154   \n",
       "\n",
       "   Lapland Citizens of foreign countries  Lapland Persons born abroad  \\\n",
       "0                                   3153                         6034   \n",
       "1                                   3359                         6304   \n",
       "2                                   3473                         6524   \n",
       "3                                   3642                         6801   \n",
       "4                                   3794                         7011   \n",
       "5                                   3827                         7111   \n",
       "6                                   3994                         7402   \n",
       "7                                   4013                         7520   \n",
       "8                                   4102                         7701   \n",
       "9                                   3988                         7679   \n",
       "\n",
       "   Lapland Foreign-language speakers  Lapland Persons with foreign background  \\\n",
       "0                               3167                                     3794   \n",
       "1                               3467                                     4102   \n",
       "2                               3681                                     4316   \n",
       "3                               3971                                     4610   \n",
       "4                               4231                                     4860   \n",
       "5                               4367                                     4850   \n",
       "6                               4665                                     5164   \n",
       "7                               4839                                     5331   \n",
       "8                               5038                                     5519   \n",
       "9                               5032                                     5505   \n",
       "\n",
       "   ÅLAND Citizens of foreign countries  ÅLAND Persons born abroad  \\\n",
       "0                                    0                          0   \n",
       "1                                    0                          0   \n",
       "2                                    0                          0   \n",
       "3                                    0                          0   \n",
       "4                                    0                          0   \n",
       "5                                    0                          0   \n",
       "6                                    0                          0   \n",
       "7                                    0                          0   \n",
       "8                                    0                          0   \n",
       "9                                    0                          0   \n",
       "\n",
       "   ÅLAND Foreign-language speakers  ÅLAND Persons with foreign background  \\\n",
       "0                                0                                      0   \n",
       "1                                0                                      0   \n",
       "2                                0                                      0   \n",
       "3                                0                                      0   \n",
       "4                                0                                      0   \n",
       "5                                0                                      0   \n",
       "6                                0                                      0   \n",
       "7                                0                                      0   \n",
       "8                                0                                      0   \n",
       "9                                0                                      0   \n",
       "\n",
       "   Åland Citizens of foreign countries  Åland Persons born abroad  \\\n",
       "0                                 2415                       3785   \n",
       "1                                 2560                       4018   \n",
       "2                                 2610                       4171   \n",
       "3                                 2721                       4316   \n",
       "4                                 2837                       4502   \n",
       "5                                 2927                       4642   \n",
       "6                                 3092                       4905   \n",
       "7                                 3182                       5082   \n",
       "8                                 3396                       5377   \n",
       "9                                 3421                       5497   \n",
       "\n",
       "   Åland Foreign-language speakers  Åland Persons with foreign background  \n",
       "0                             1462                                   3054  \n",
       "1                             1623                                   3293  \n",
       "2                             1733                                   3454  \n",
       "3                             1850                                   3618  \n",
       "4                             1986                                   3824  \n",
       "5                             2093                                   3862  \n",
       "6                             2255                                   4126  \n",
       "7                             2388                                   4316  \n",
       "8                             2538                                   4612  \n",
       "9                             2621                                   4758  \n",
       "\n",
       "[10 rows x 89 columns]"
      ]
     },
     "execution_count": 9,
     "metadata": {},
     "output_type": "execute_result"
    }
   ],
   "source": [
    "FinnData"
   ]
  },
  {
   "cell_type": "markdown",
   "metadata": {},
   "source": [
    "## <span style=\"color:green\">Cleaning the columns</span>"
   ]
  },
  {
   "cell_type": "code",
   "execution_count": 10,
   "metadata": {
    "ExecuteTime": {
     "end_time": "2020-12-11T13:14:51.917694Z",
     "start_time": "2020-12-11T13:14:51.899203Z"
    },
    "scrolled": true
   },
   "outputs": [
    {
     "data": {
      "text/html": [
       "<div>\n",
       "<style scoped>\n",
       "    .dataframe tbody tr th:only-of-type {\n",
       "        vertical-align: middle;\n",
       "    }\n",
       "\n",
       "    .dataframe tbody tr th {\n",
       "        vertical-align: top;\n",
       "    }\n",
       "\n",
       "    .dataframe thead th {\n",
       "        text-align: right;\n",
       "    }\n",
       "</style>\n",
       "<table border=\"1\" class=\"dataframe\">\n",
       "  <thead>\n",
       "    <tr style=\"text-align: right;\">\n",
       "      <th></th>\n",
       "      <th>0</th>\n",
       "      <th>1</th>\n",
       "      <th>2</th>\n",
       "      <th>3</th>\n",
       "      <th>4</th>\n",
       "      <th>5</th>\n",
       "      <th>6</th>\n",
       "      <th>7</th>\n",
       "      <th>8</th>\n",
       "      <th>9</th>\n",
       "    </tr>\n",
       "  </thead>\n",
       "  <tbody>\n",
       "    <tr>\n",
       "      <th>Year</th>\n",
       "      <td>2010</td>\n",
       "      <td>2011</td>\n",
       "      <td>2012</td>\n",
       "      <td>2013</td>\n",
       "      <td>2014</td>\n",
       "      <td>2015</td>\n",
       "      <td>2016</td>\n",
       "      <td>2017</td>\n",
       "      <td>2018</td>\n",
       "      <td>2019</td>\n",
       "    </tr>\n",
       "    <tr>\n",
       "      <th>WHOLE COUNTRY Citizens of foreign countries</th>\n",
       "      <td>167954</td>\n",
       "      <td>183133</td>\n",
       "      <td>195511</td>\n",
       "      <td>207511</td>\n",
       "      <td>219675</td>\n",
       "      <td>229765</td>\n",
       "      <td>243639</td>\n",
       "      <td>249452</td>\n",
       "      <td>257572</td>\n",
       "      <td>267629</td>\n",
       "    </tr>\n",
       "    <tr>\n",
       "      <th>WHOLE COUNTRY Persons born abroad</th>\n",
       "      <td>248135</td>\n",
       "      <td>266148</td>\n",
       "      <td>285471</td>\n",
       "      <td>304279</td>\n",
       "      <td>321977</td>\n",
       "      <td>337162</td>\n",
       "      <td>357541</td>\n",
       "      <td>372802</td>\n",
       "      <td>387215</td>\n",
       "      <td>404179</td>\n",
       "    </tr>\n",
       "    <tr>\n",
       "      <th>WHOLE COUNTRY Foreign-language speakers</th>\n",
       "      <td>224388</td>\n",
       "      <td>244827</td>\n",
       "      <td>266949</td>\n",
       "      <td>289068</td>\n",
       "      <td>310306</td>\n",
       "      <td>329562</td>\n",
       "      <td>353993</td>\n",
       "      <td>373325</td>\n",
       "      <td>391746</td>\n",
       "      <td>412644</td>\n",
       "    </tr>\n",
       "    <tr>\n",
       "      <th>WHOLE COUNTRY Persons with foreign background</th>\n",
       "      <td>237066</td>\n",
       "      <td>257494</td>\n",
       "      <td>279616</td>\n",
       "      <td>301524</td>\n",
       "      <td>322711</td>\n",
       "      <td>339925</td>\n",
       "      <td>364787</td>\n",
       "      <td>384123</td>\n",
       "      <td>402619</td>\n",
       "      <td>423494</td>\n",
       "    </tr>\n",
       "  </tbody>\n",
       "</table>\n",
       "</div>"
      ],
      "text/plain": [
       "                                                    0       1       2       3  \\\n",
       "Year                                             2010    2011    2012    2013   \n",
       "WHOLE COUNTRY Citizens of foreign countries    167954  183133  195511  207511   \n",
       "WHOLE COUNTRY Persons born abroad              248135  266148  285471  304279   \n",
       "WHOLE COUNTRY Foreign-language speakers        224388  244827  266949  289068   \n",
       "WHOLE COUNTRY Persons with foreign background  237066  257494  279616  301524   \n",
       "\n",
       "                                                    4       5       6       7  \\\n",
       "Year                                             2014    2015    2016    2017   \n",
       "WHOLE COUNTRY Citizens of foreign countries    219675  229765  243639  249452   \n",
       "WHOLE COUNTRY Persons born abroad              321977  337162  357541  372802   \n",
       "WHOLE COUNTRY Foreign-language speakers        310306  329562  353993  373325   \n",
       "WHOLE COUNTRY Persons with foreign background  322711  339925  364787  384123   \n",
       "\n",
       "                                                    8       9  \n",
       "Year                                             2018    2019  \n",
       "WHOLE COUNTRY Citizens of foreign countries    257572  267629  \n",
       "WHOLE COUNTRY Persons born abroad              387215  404179  \n",
       "WHOLE COUNTRY Foreign-language speakers        391746  412644  \n",
       "WHOLE COUNTRY Persons with foreign background  402619  423494  "
      ]
     },
     "execution_count": 10,
     "metadata": {},
     "output_type": "execute_result"
    }
   ],
   "source": [
    "FinnData = FinnData.T\n",
    "FinnData.head()"
   ]
  },
  {
   "cell_type": "code",
   "execution_count": 11,
   "metadata": {
    "ExecuteTime": {
     "end_time": "2020-12-11T13:14:51.930044Z",
     "start_time": "2020-12-11T13:14:51.921368Z"
    }
   },
   "outputs": [],
   "source": [
    "FinnData.reset_index(inplace=True)"
   ]
  },
  {
   "cell_type": "code",
   "execution_count": 12,
   "metadata": {
    "ExecuteTime": {
     "end_time": "2020-12-11T13:14:51.956743Z",
     "start_time": "2020-12-11T13:14:51.933943Z"
    }
   },
   "outputs": [
    {
     "data": {
      "text/html": [
       "<div>\n",
       "<style scoped>\n",
       "    .dataframe tbody tr th:only-of-type {\n",
       "        vertical-align: middle;\n",
       "    }\n",
       "\n",
       "    .dataframe tbody tr th {\n",
       "        vertical-align: top;\n",
       "    }\n",
       "\n",
       "    .dataframe thead th {\n",
       "        text-align: right;\n",
       "    }\n",
       "</style>\n",
       "<table border=\"1\" class=\"dataframe\">\n",
       "  <thead>\n",
       "    <tr style=\"text-align: right;\">\n",
       "      <th></th>\n",
       "      <th>index</th>\n",
       "      <th>0</th>\n",
       "      <th>1</th>\n",
       "      <th>2</th>\n",
       "      <th>3</th>\n",
       "      <th>4</th>\n",
       "      <th>5</th>\n",
       "      <th>6</th>\n",
       "      <th>7</th>\n",
       "      <th>8</th>\n",
       "      <th>9</th>\n",
       "    </tr>\n",
       "  </thead>\n",
       "  <tbody>\n",
       "    <tr>\n",
       "      <th>0</th>\n",
       "      <td>Year</td>\n",
       "      <td>2010</td>\n",
       "      <td>2011</td>\n",
       "      <td>2012</td>\n",
       "      <td>2013</td>\n",
       "      <td>2014</td>\n",
       "      <td>2015</td>\n",
       "      <td>2016</td>\n",
       "      <td>2017</td>\n",
       "      <td>2018</td>\n",
       "      <td>2019</td>\n",
       "    </tr>\n",
       "    <tr>\n",
       "      <th>1</th>\n",
       "      <td>WHOLE COUNTRY Citizens of foreign countries</td>\n",
       "      <td>167954</td>\n",
       "      <td>183133</td>\n",
       "      <td>195511</td>\n",
       "      <td>207511</td>\n",
       "      <td>219675</td>\n",
       "      <td>229765</td>\n",
       "      <td>243639</td>\n",
       "      <td>249452</td>\n",
       "      <td>257572</td>\n",
       "      <td>267629</td>\n",
       "    </tr>\n",
       "    <tr>\n",
       "      <th>2</th>\n",
       "      <td>WHOLE COUNTRY Persons born abroad</td>\n",
       "      <td>248135</td>\n",
       "      <td>266148</td>\n",
       "      <td>285471</td>\n",
       "      <td>304279</td>\n",
       "      <td>321977</td>\n",
       "      <td>337162</td>\n",
       "      <td>357541</td>\n",
       "      <td>372802</td>\n",
       "      <td>387215</td>\n",
       "      <td>404179</td>\n",
       "    </tr>\n",
       "  </tbody>\n",
       "</table>\n",
       "</div>"
      ],
      "text/plain": [
       "                                         index       0       1       2  \\\n",
       "0                                         Year    2010    2011    2012   \n",
       "1  WHOLE COUNTRY Citizens of foreign countries  167954  183133  195511   \n",
       "2            WHOLE COUNTRY Persons born abroad  248135  266148  285471   \n",
       "\n",
       "        3       4       5       6       7       8       9  \n",
       "0    2013    2014    2015    2016    2017    2018    2019  \n",
       "1  207511  219675  229765  243639  249452  257572  267629  \n",
       "2  304279  321977  337162  357541  372802  387215  404179  "
      ]
     },
     "execution_count": 12,
     "metadata": {},
     "output_type": "execute_result"
    }
   ],
   "source": [
    "FinnData.head(3)"
   ]
  },
  {
   "cell_type": "code",
   "execution_count": 13,
   "metadata": {
    "ExecuteTime": {
     "end_time": "2020-12-11T13:14:51.971236Z",
     "start_time": "2020-12-11T13:14:51.961405Z"
    }
   },
   "outputs": [],
   "source": [
    "# Using row 0 as the columns for the dataset\n",
    "FinnData.columns = FinnData.loc[0]"
   ]
  },
  {
   "cell_type": "code",
   "execution_count": 14,
   "metadata": {
    "ExecuteTime": {
     "end_time": "2020-12-11T13:14:52.025943Z",
     "start_time": "2020-12-11T13:14:51.986391Z"
    }
   },
   "outputs": [
    {
     "data": {
      "text/html": [
       "<div>\n",
       "<style scoped>\n",
       "    .dataframe tbody tr th:only-of-type {\n",
       "        vertical-align: middle;\n",
       "    }\n",
       "\n",
       "    .dataframe tbody tr th {\n",
       "        vertical-align: top;\n",
       "    }\n",
       "\n",
       "    .dataframe thead th {\n",
       "        text-align: right;\n",
       "    }\n",
       "</style>\n",
       "<table border=\"1\" class=\"dataframe\">\n",
       "  <thead>\n",
       "    <tr style=\"text-align: right;\">\n",
       "      <th></th>\n",
       "      <th>Year</th>\n",
       "      <th>2010</th>\n",
       "      <th>2011</th>\n",
       "      <th>2012</th>\n",
       "      <th>2013</th>\n",
       "      <th>2014</th>\n",
       "      <th>2015</th>\n",
       "      <th>2016</th>\n",
       "      <th>2017</th>\n",
       "      <th>2018</th>\n",
       "      <th>2019</th>\n",
       "    </tr>\n",
       "  </thead>\n",
       "  <tbody>\n",
       "    <tr>\n",
       "      <th>0</th>\n",
       "      <td>Year</td>\n",
       "      <td>2010</td>\n",
       "      <td>2011</td>\n",
       "      <td>2012</td>\n",
       "      <td>2013</td>\n",
       "      <td>2014</td>\n",
       "      <td>2015</td>\n",
       "      <td>2016</td>\n",
       "      <td>2017</td>\n",
       "      <td>2018</td>\n",
       "      <td>2019</td>\n",
       "    </tr>\n",
       "    <tr>\n",
       "      <th>1</th>\n",
       "      <td>WHOLE COUNTRY Citizens of foreign countries</td>\n",
       "      <td>167954</td>\n",
       "      <td>183133</td>\n",
       "      <td>195511</td>\n",
       "      <td>207511</td>\n",
       "      <td>219675</td>\n",
       "      <td>229765</td>\n",
       "      <td>243639</td>\n",
       "      <td>249452</td>\n",
       "      <td>257572</td>\n",
       "      <td>267629</td>\n",
       "    </tr>\n",
       "    <tr>\n",
       "      <th>2</th>\n",
       "      <td>WHOLE COUNTRY Persons born abroad</td>\n",
       "      <td>248135</td>\n",
       "      <td>266148</td>\n",
       "      <td>285471</td>\n",
       "      <td>304279</td>\n",
       "      <td>321977</td>\n",
       "      <td>337162</td>\n",
       "      <td>357541</td>\n",
       "      <td>372802</td>\n",
       "      <td>387215</td>\n",
       "      <td>404179</td>\n",
       "    </tr>\n",
       "    <tr>\n",
       "      <th>3</th>\n",
       "      <td>WHOLE COUNTRY Foreign-language speakers</td>\n",
       "      <td>224388</td>\n",
       "      <td>244827</td>\n",
       "      <td>266949</td>\n",
       "      <td>289068</td>\n",
       "      <td>310306</td>\n",
       "      <td>329562</td>\n",
       "      <td>353993</td>\n",
       "      <td>373325</td>\n",
       "      <td>391746</td>\n",
       "      <td>412644</td>\n",
       "    </tr>\n",
       "    <tr>\n",
       "      <th>4</th>\n",
       "      <td>WHOLE COUNTRY Persons with foreign background</td>\n",
       "      <td>237066</td>\n",
       "      <td>257494</td>\n",
       "      <td>279616</td>\n",
       "      <td>301524</td>\n",
       "      <td>322711</td>\n",
       "      <td>339925</td>\n",
       "      <td>364787</td>\n",
       "      <td>384123</td>\n",
       "      <td>402619</td>\n",
       "      <td>423494</td>\n",
       "    </tr>\n",
       "  </tbody>\n",
       "</table>\n",
       "</div>"
      ],
      "text/plain": [
       "0                                           Year    2010    2011    2012  \\\n",
       "0                                           Year    2010    2011    2012   \n",
       "1    WHOLE COUNTRY Citizens of foreign countries  167954  183133  195511   \n",
       "2              WHOLE COUNTRY Persons born abroad  248135  266148  285471   \n",
       "3        WHOLE COUNTRY Foreign-language speakers  224388  244827  266949   \n",
       "4  WHOLE COUNTRY Persons with foreign background  237066  257494  279616   \n",
       "\n",
       "0    2013    2014    2015    2016    2017    2018    2019  \n",
       "0    2013    2014    2015    2016    2017    2018    2019  \n",
       "1  207511  219675  229765  243639  249452  257572  267629  \n",
       "2  304279  321977  337162  357541  372802  387215  404179  \n",
       "3  289068  310306  329562  353993  373325  391746  412644  \n",
       "4  301524  322711  339925  364787  384123  402619  423494  "
      ]
     },
     "execution_count": 14,
     "metadata": {},
     "output_type": "execute_result"
    }
   ],
   "source": [
    "FinnData.head()"
   ]
  },
  {
   "cell_type": "code",
   "execution_count": 15,
   "metadata": {
    "ExecuteTime": {
     "end_time": "2020-12-11T13:14:52.072674Z",
     "start_time": "2020-12-11T13:14:52.034658Z"
    },
    "scrolled": true
   },
   "outputs": [
    {
     "data": {
      "text/html": [
       "<div>\n",
       "<style scoped>\n",
       "    .dataframe tbody tr th:only-of-type {\n",
       "        vertical-align: middle;\n",
       "    }\n",
       "\n",
       "    .dataframe tbody tr th {\n",
       "        vertical-align: top;\n",
       "    }\n",
       "\n",
       "    .dataframe thead th {\n",
       "        text-align: right;\n",
       "    }\n",
       "</style>\n",
       "<table border=\"1\" class=\"dataframe\">\n",
       "  <thead>\n",
       "    <tr style=\"text-align: right;\">\n",
       "      <th></th>\n",
       "      <th>Year</th>\n",
       "      <th>2010</th>\n",
       "      <th>2011</th>\n",
       "      <th>2012</th>\n",
       "      <th>2013</th>\n",
       "      <th>2014</th>\n",
       "      <th>2015</th>\n",
       "      <th>2016</th>\n",
       "      <th>2017</th>\n",
       "      <th>2018</th>\n",
       "      <th>2019</th>\n",
       "    </tr>\n",
       "  </thead>\n",
       "  <tbody>\n",
       "    <tr>\n",
       "      <th>1</th>\n",
       "      <td>WHOLE COUNTRY Citizens of foreign countries</td>\n",
       "      <td>167954</td>\n",
       "      <td>183133</td>\n",
       "      <td>195511</td>\n",
       "      <td>207511</td>\n",
       "      <td>219675</td>\n",
       "      <td>229765</td>\n",
       "      <td>243639</td>\n",
       "      <td>249452</td>\n",
       "      <td>257572</td>\n",
       "      <td>267629</td>\n",
       "    </tr>\n",
       "    <tr>\n",
       "      <th>2</th>\n",
       "      <td>WHOLE COUNTRY Persons born abroad</td>\n",
       "      <td>248135</td>\n",
       "      <td>266148</td>\n",
       "      <td>285471</td>\n",
       "      <td>304279</td>\n",
       "      <td>321977</td>\n",
       "      <td>337162</td>\n",
       "      <td>357541</td>\n",
       "      <td>372802</td>\n",
       "      <td>387215</td>\n",
       "      <td>404179</td>\n",
       "    </tr>\n",
       "    <tr>\n",
       "      <th>3</th>\n",
       "      <td>WHOLE COUNTRY Foreign-language speakers</td>\n",
       "      <td>224388</td>\n",
       "      <td>244827</td>\n",
       "      <td>266949</td>\n",
       "      <td>289068</td>\n",
       "      <td>310306</td>\n",
       "      <td>329562</td>\n",
       "      <td>353993</td>\n",
       "      <td>373325</td>\n",
       "      <td>391746</td>\n",
       "      <td>412644</td>\n",
       "    </tr>\n",
       "    <tr>\n",
       "      <th>4</th>\n",
       "      <td>WHOLE COUNTRY Persons with foreign background</td>\n",
       "      <td>237066</td>\n",
       "      <td>257494</td>\n",
       "      <td>279616</td>\n",
       "      <td>301524</td>\n",
       "      <td>322711</td>\n",
       "      <td>339925</td>\n",
       "      <td>364787</td>\n",
       "      <td>384123</td>\n",
       "      <td>402619</td>\n",
       "      <td>423494</td>\n",
       "    </tr>\n",
       "    <tr>\n",
       "      <th>5</th>\n",
       "      <td>MAINLAND FINLAND Citizens of foreign countries</td>\n",
       "      <td>0</td>\n",
       "      <td>0</td>\n",
       "      <td>0</td>\n",
       "      <td>0</td>\n",
       "      <td>0</td>\n",
       "      <td>0</td>\n",
       "      <td>0</td>\n",
       "      <td>0</td>\n",
       "      <td>0</td>\n",
       "      <td>0</td>\n",
       "    </tr>\n",
       "    <tr>\n",
       "      <th>...</th>\n",
       "      <td>...</td>\n",
       "      <td>...</td>\n",
       "      <td>...</td>\n",
       "      <td>...</td>\n",
       "      <td>...</td>\n",
       "      <td>...</td>\n",
       "      <td>...</td>\n",
       "      <td>...</td>\n",
       "      <td>...</td>\n",
       "      <td>...</td>\n",
       "      <td>...</td>\n",
       "    </tr>\n",
       "    <tr>\n",
       "      <th>84</th>\n",
       "      <td>ÅLAND Persons with foreign background</td>\n",
       "      <td>0</td>\n",
       "      <td>0</td>\n",
       "      <td>0</td>\n",
       "      <td>0</td>\n",
       "      <td>0</td>\n",
       "      <td>0</td>\n",
       "      <td>0</td>\n",
       "      <td>0</td>\n",
       "      <td>0</td>\n",
       "      <td>0</td>\n",
       "    </tr>\n",
       "    <tr>\n",
       "      <th>85</th>\n",
       "      <td>Åland Citizens of foreign countries</td>\n",
       "      <td>2415</td>\n",
       "      <td>2560</td>\n",
       "      <td>2610</td>\n",
       "      <td>2721</td>\n",
       "      <td>2837</td>\n",
       "      <td>2927</td>\n",
       "      <td>3092</td>\n",
       "      <td>3182</td>\n",
       "      <td>3396</td>\n",
       "      <td>3421</td>\n",
       "    </tr>\n",
       "    <tr>\n",
       "      <th>86</th>\n",
       "      <td>Åland Persons born abroad</td>\n",
       "      <td>3785</td>\n",
       "      <td>4018</td>\n",
       "      <td>4171</td>\n",
       "      <td>4316</td>\n",
       "      <td>4502</td>\n",
       "      <td>4642</td>\n",
       "      <td>4905</td>\n",
       "      <td>5082</td>\n",
       "      <td>5377</td>\n",
       "      <td>5497</td>\n",
       "    </tr>\n",
       "    <tr>\n",
       "      <th>87</th>\n",
       "      <td>Åland Foreign-language speakers</td>\n",
       "      <td>1462</td>\n",
       "      <td>1623</td>\n",
       "      <td>1733</td>\n",
       "      <td>1850</td>\n",
       "      <td>1986</td>\n",
       "      <td>2093</td>\n",
       "      <td>2255</td>\n",
       "      <td>2388</td>\n",
       "      <td>2538</td>\n",
       "      <td>2621</td>\n",
       "    </tr>\n",
       "    <tr>\n",
       "      <th>88</th>\n",
       "      <td>Åland Persons with foreign background</td>\n",
       "      <td>3054</td>\n",
       "      <td>3293</td>\n",
       "      <td>3454</td>\n",
       "      <td>3618</td>\n",
       "      <td>3824</td>\n",
       "      <td>3862</td>\n",
       "      <td>4126</td>\n",
       "      <td>4316</td>\n",
       "      <td>4612</td>\n",
       "      <td>4758</td>\n",
       "    </tr>\n",
       "  </tbody>\n",
       "</table>\n",
       "<p>88 rows × 11 columns</p>\n",
       "</div>"
      ],
      "text/plain": [
       "0                                             Year    2010    2011    2012  \\\n",
       "1      WHOLE COUNTRY Citizens of foreign countries  167954  183133  195511   \n",
       "2                WHOLE COUNTRY Persons born abroad  248135  266148  285471   \n",
       "3          WHOLE COUNTRY Foreign-language speakers  224388  244827  266949   \n",
       "4    WHOLE COUNTRY Persons with foreign background  237066  257494  279616   \n",
       "5   MAINLAND FINLAND Citizens of foreign countries       0       0       0   \n",
       "..                                             ...     ...     ...     ...   \n",
       "84           ÅLAND Persons with foreign background       0       0       0   \n",
       "85             Åland Citizens of foreign countries    2415    2560    2610   \n",
       "86                       Åland Persons born abroad    3785    4018    4171   \n",
       "87                 Åland Foreign-language speakers    1462    1623    1733   \n",
       "88           Åland Persons with foreign background    3054    3293    3454   \n",
       "\n",
       "0     2013    2014    2015    2016    2017    2018    2019  \n",
       "1   207511  219675  229765  243639  249452  257572  267629  \n",
       "2   304279  321977  337162  357541  372802  387215  404179  \n",
       "3   289068  310306  329562  353993  373325  391746  412644  \n",
       "4   301524  322711  339925  364787  384123  402619  423494  \n",
       "5        0       0       0       0       0       0       0  \n",
       "..     ...     ...     ...     ...     ...     ...     ...  \n",
       "84       0       0       0       0       0       0       0  \n",
       "85    2721    2837    2927    3092    3182    3396    3421  \n",
       "86    4316    4502    4642    4905    5082    5377    5497  \n",
       "87    1850    1986    2093    2255    2388    2538    2621  \n",
       "88    3618    3824    3862    4126    4316    4612    4758  \n",
       "\n",
       "[88 rows x 11 columns]"
      ]
     },
     "execution_count": 15,
     "metadata": {},
     "output_type": "execute_result"
    }
   ],
   "source": [
    "# Dropping index 0\n",
    "FinnData = FinnData.drop(0)\n",
    "FinnData"
   ]
  },
  {
   "cell_type": "markdown",
   "metadata": {
    "ExecuteTime": {
     "end_time": "2020-12-09T09:42:51.292483Z",
     "start_time": "2020-12-09T09:42:51.285768Z"
    }
   },
   "source": [
    "## <span style=\"color:green\">Cleaning the 'Year' column</span>"
   ]
  },
  {
   "cell_type": "code",
   "execution_count": 16,
   "metadata": {
    "ExecuteTime": {
     "end_time": "2020-12-11T13:14:52.095725Z",
     "start_time": "2020-12-11T13:14:52.077608Z"
    }
   },
   "outputs": [
    {
     "data": {
      "text/plain": [
       "1        WHOLE COUNTRY\n",
       "2        WHOLE COUNTRY\n",
       "3        WHOLE COUNTRY\n",
       "4        WHOLE COUNTRY\n",
       "5     MAINLAND FINLAND\n",
       "            ...       \n",
       "84               ÅLAND\n",
       "85               Åland\n",
       "86               Åland\n",
       "87               Åland\n",
       "88               Åland\n",
       "Name: Year, Length: 88, dtype: object"
      ]
     },
     "execution_count": 16,
     "metadata": {},
     "output_type": "execute_result"
    }
   ],
   "source": [
    "# Separating regions from 'Year' column from variables\n",
    "P=FinnData.Year.str.replace(r'(\\s[CPF][a-z].+)','').str.strip()\n",
    "P"
   ]
  },
  {
   "cell_type": "code",
   "execution_count": 17,
   "metadata": {
    "ExecuteTime": {
     "end_time": "2020-12-11T13:14:52.109566Z",
     "start_time": "2020-12-11T13:14:52.099302Z"
    }
   },
   "outputs": [],
   "source": [
    "# Separting the variables from the region names\n",
    "A=FinnData.Year.str.replace(r'.+(?=(\\s[CPF][a-z].+))','').str.strip()"
   ]
  },
  {
   "cell_type": "code",
   "execution_count": 18,
   "metadata": {
    "ExecuteTime": {
     "end_time": "2020-12-11T13:14:52.124137Z",
     "start_time": "2020-12-11T13:14:52.113233Z"
    }
   },
   "outputs": [
    {
     "data": {
      "text/plain": [
       "1       Citizens of foreign countries\n",
       "2                 Persons born abroad\n",
       "3           Foreign-language speakers\n",
       "4     Persons with foreign background\n",
       "5       Citizens of foreign countries\n",
       "                   ...               \n",
       "84    Persons with foreign background\n",
       "85      Citizens of foreign countries\n",
       "86                Persons born abroad\n",
       "87          Foreign-language speakers\n",
       "88    Persons with foreign background\n",
       "Name: Year, Length: 88, dtype: object"
      ]
     },
     "execution_count": 18,
     "metadata": {},
     "output_type": "execute_result"
    }
   ],
   "source": [
    "A"
   ]
  },
  {
   "cell_type": "code",
   "execution_count": 19,
   "metadata": {
    "ExecuteTime": {
     "end_time": "2020-12-11T13:14:52.150194Z",
     "start_time": "2020-12-11T13:14:52.128598Z"
    }
   },
   "outputs": [
    {
     "data": {
      "text/html": [
       "<div>\n",
       "<style scoped>\n",
       "    .dataframe tbody tr th:only-of-type {\n",
       "        vertical-align: middle;\n",
       "    }\n",
       "\n",
       "    .dataframe tbody tr th {\n",
       "        vertical-align: top;\n",
       "    }\n",
       "\n",
       "    .dataframe thead th {\n",
       "        text-align: right;\n",
       "    }\n",
       "</style>\n",
       "<table border=\"1\" class=\"dataframe\">\n",
       "  <thead>\n",
       "    <tr style=\"text-align: right;\">\n",
       "      <th></th>\n",
       "      <th>Year</th>\n",
       "      <th>2010</th>\n",
       "      <th>2011</th>\n",
       "      <th>2012</th>\n",
       "      <th>2013</th>\n",
       "      <th>2014</th>\n",
       "      <th>2015</th>\n",
       "      <th>2016</th>\n",
       "      <th>2017</th>\n",
       "      <th>2018</th>\n",
       "      <th>2019</th>\n",
       "      <th>Region</th>\n",
       "      <th>Attribute</th>\n",
       "    </tr>\n",
       "  </thead>\n",
       "  <tbody>\n",
       "    <tr>\n",
       "      <th>1</th>\n",
       "      <td>WHOLE COUNTRY Citizens of foreign countries</td>\n",
       "      <td>167954</td>\n",
       "      <td>183133</td>\n",
       "      <td>195511</td>\n",
       "      <td>207511</td>\n",
       "      <td>219675</td>\n",
       "      <td>229765</td>\n",
       "      <td>243639</td>\n",
       "      <td>249452</td>\n",
       "      <td>257572</td>\n",
       "      <td>267629</td>\n",
       "      <td>WHOLE COUNTRY</td>\n",
       "      <td>Citizens of foreign countries</td>\n",
       "    </tr>\n",
       "    <tr>\n",
       "      <th>2</th>\n",
       "      <td>WHOLE COUNTRY Persons born abroad</td>\n",
       "      <td>248135</td>\n",
       "      <td>266148</td>\n",
       "      <td>285471</td>\n",
       "      <td>304279</td>\n",
       "      <td>321977</td>\n",
       "      <td>337162</td>\n",
       "      <td>357541</td>\n",
       "      <td>372802</td>\n",
       "      <td>387215</td>\n",
       "      <td>404179</td>\n",
       "      <td>WHOLE COUNTRY</td>\n",
       "      <td>Persons born abroad</td>\n",
       "    </tr>\n",
       "    <tr>\n",
       "      <th>3</th>\n",
       "      <td>WHOLE COUNTRY Foreign-language speakers</td>\n",
       "      <td>224388</td>\n",
       "      <td>244827</td>\n",
       "      <td>266949</td>\n",
       "      <td>289068</td>\n",
       "      <td>310306</td>\n",
       "      <td>329562</td>\n",
       "      <td>353993</td>\n",
       "      <td>373325</td>\n",
       "      <td>391746</td>\n",
       "      <td>412644</td>\n",
       "      <td>WHOLE COUNTRY</td>\n",
       "      <td>Foreign-language speakers</td>\n",
       "    </tr>\n",
       "  </tbody>\n",
       "</table>\n",
       "</div>"
      ],
      "text/plain": [
       "0                                         Year    2010    2011    2012  \\\n",
       "1  WHOLE COUNTRY Citizens of foreign countries  167954  183133  195511   \n",
       "2            WHOLE COUNTRY Persons born abroad  248135  266148  285471   \n",
       "3      WHOLE COUNTRY Foreign-language speakers  224388  244827  266949   \n",
       "\n",
       "0    2013    2014    2015    2016    2017    2018    2019         Region  \\\n",
       "1  207511  219675  229765  243639  249452  257572  267629  WHOLE COUNTRY   \n",
       "2  304279  321977  337162  357541  372802  387215  404179  WHOLE COUNTRY   \n",
       "3  289068  310306  329562  353993  373325  391746  412644  WHOLE COUNTRY   \n",
       "\n",
       "0                      Attribute  \n",
       "1  Citizens of foreign countries  \n",
       "2            Persons born abroad  \n",
       "3      Foreign-language speakers  "
      ]
     },
     "execution_count": 19,
     "metadata": {},
     "output_type": "execute_result"
    }
   ],
   "source": [
    "# Adding the new columns into the dataset\n",
    "FinnData['Region']=P\n",
    "FinnData['Attribute']=A\n",
    "FinnData.head(3)"
   ]
  },
  {
   "cell_type": "code",
   "execution_count": 20,
   "metadata": {
    "ExecuteTime": {
     "end_time": "2020-12-11T13:14:52.162242Z",
     "start_time": "2020-12-11T13:14:52.154028Z"
    }
   },
   "outputs": [
    {
     "data": {
      "text/plain": [
       "Index([     'Year',        2010,        2011,        2012,        2013,\n",
       "              2014,        2015,        2016,        2017,        2018,\n",
       "              2019,    'Region', 'Attribute'],\n",
       "      dtype='object', name=0)"
      ]
     },
     "execution_count": 20,
     "metadata": {},
     "output_type": "execute_result"
    }
   ],
   "source": [
    "FinnData.columns"
   ]
  },
  {
   "cell_type": "code",
   "execution_count": 21,
   "metadata": {
    "ExecuteTime": {
     "end_time": "2020-12-11T13:14:52.174997Z",
     "start_time": "2020-12-11T13:14:52.167805Z"
    }
   },
   "outputs": [],
   "source": [
    "# Reformatting columns\n",
    "FinnData = FinnData[['Region','Attribute',2010,2011,2012,2013,2014,2015,2016,2017,2018,2019]]"
   ]
  },
  {
   "cell_type": "code",
   "execution_count": 22,
   "metadata": {
    "ExecuteTime": {
     "end_time": "2020-12-11T13:14:52.204824Z",
     "start_time": "2020-12-11T13:14:52.179471Z"
    },
    "scrolled": true
   },
   "outputs": [
    {
     "data": {
      "text/html": [
       "<div>\n",
       "<style scoped>\n",
       "    .dataframe tbody tr th:only-of-type {\n",
       "        vertical-align: middle;\n",
       "    }\n",
       "\n",
       "    .dataframe tbody tr th {\n",
       "        vertical-align: top;\n",
       "    }\n",
       "\n",
       "    .dataframe thead th {\n",
       "        text-align: right;\n",
       "    }\n",
       "</style>\n",
       "<table border=\"1\" class=\"dataframe\">\n",
       "  <thead>\n",
       "    <tr style=\"text-align: right;\">\n",
       "      <th></th>\n",
       "      <th>Region</th>\n",
       "      <th>Attribute</th>\n",
       "      <th>2010</th>\n",
       "      <th>2011</th>\n",
       "      <th>2012</th>\n",
       "      <th>2013</th>\n",
       "      <th>2014</th>\n",
       "      <th>2015</th>\n",
       "      <th>2016</th>\n",
       "      <th>2017</th>\n",
       "      <th>2018</th>\n",
       "      <th>2019</th>\n",
       "    </tr>\n",
       "  </thead>\n",
       "  <tbody>\n",
       "    <tr>\n",
       "      <th>1</th>\n",
       "      <td>WHOLE COUNTRY</td>\n",
       "      <td>Citizens of foreign countries</td>\n",
       "      <td>167954</td>\n",
       "      <td>183133</td>\n",
       "      <td>195511</td>\n",
       "      <td>207511</td>\n",
       "      <td>219675</td>\n",
       "      <td>229765</td>\n",
       "      <td>243639</td>\n",
       "      <td>249452</td>\n",
       "      <td>257572</td>\n",
       "      <td>267629</td>\n",
       "    </tr>\n",
       "    <tr>\n",
       "      <th>2</th>\n",
       "      <td>WHOLE COUNTRY</td>\n",
       "      <td>Persons born abroad</td>\n",
       "      <td>248135</td>\n",
       "      <td>266148</td>\n",
       "      <td>285471</td>\n",
       "      <td>304279</td>\n",
       "      <td>321977</td>\n",
       "      <td>337162</td>\n",
       "      <td>357541</td>\n",
       "      <td>372802</td>\n",
       "      <td>387215</td>\n",
       "      <td>404179</td>\n",
       "    </tr>\n",
       "    <tr>\n",
       "      <th>3</th>\n",
       "      <td>WHOLE COUNTRY</td>\n",
       "      <td>Foreign-language speakers</td>\n",
       "      <td>224388</td>\n",
       "      <td>244827</td>\n",
       "      <td>266949</td>\n",
       "      <td>289068</td>\n",
       "      <td>310306</td>\n",
       "      <td>329562</td>\n",
       "      <td>353993</td>\n",
       "      <td>373325</td>\n",
       "      <td>391746</td>\n",
       "      <td>412644</td>\n",
       "    </tr>\n",
       "    <tr>\n",
       "      <th>4</th>\n",
       "      <td>WHOLE COUNTRY</td>\n",
       "      <td>Persons with foreign background</td>\n",
       "      <td>237066</td>\n",
       "      <td>257494</td>\n",
       "      <td>279616</td>\n",
       "      <td>301524</td>\n",
       "      <td>322711</td>\n",
       "      <td>339925</td>\n",
       "      <td>364787</td>\n",
       "      <td>384123</td>\n",
       "      <td>402619</td>\n",
       "      <td>423494</td>\n",
       "    </tr>\n",
       "    <tr>\n",
       "      <th>5</th>\n",
       "      <td>MAINLAND FINLAND</td>\n",
       "      <td>Citizens of foreign countries</td>\n",
       "      <td>0</td>\n",
       "      <td>0</td>\n",
       "      <td>0</td>\n",
       "      <td>0</td>\n",
       "      <td>0</td>\n",
       "      <td>0</td>\n",
       "      <td>0</td>\n",
       "      <td>0</td>\n",
       "      <td>0</td>\n",
       "      <td>0</td>\n",
       "    </tr>\n",
       "    <tr>\n",
       "      <th>...</th>\n",
       "      <td>...</td>\n",
       "      <td>...</td>\n",
       "      <td>...</td>\n",
       "      <td>...</td>\n",
       "      <td>...</td>\n",
       "      <td>...</td>\n",
       "      <td>...</td>\n",
       "      <td>...</td>\n",
       "      <td>...</td>\n",
       "      <td>...</td>\n",
       "      <td>...</td>\n",
       "      <td>...</td>\n",
       "    </tr>\n",
       "    <tr>\n",
       "      <th>84</th>\n",
       "      <td>ÅLAND</td>\n",
       "      <td>Persons with foreign background</td>\n",
       "      <td>0</td>\n",
       "      <td>0</td>\n",
       "      <td>0</td>\n",
       "      <td>0</td>\n",
       "      <td>0</td>\n",
       "      <td>0</td>\n",
       "      <td>0</td>\n",
       "      <td>0</td>\n",
       "      <td>0</td>\n",
       "      <td>0</td>\n",
       "    </tr>\n",
       "    <tr>\n",
       "      <th>85</th>\n",
       "      <td>Åland</td>\n",
       "      <td>Citizens of foreign countries</td>\n",
       "      <td>2415</td>\n",
       "      <td>2560</td>\n",
       "      <td>2610</td>\n",
       "      <td>2721</td>\n",
       "      <td>2837</td>\n",
       "      <td>2927</td>\n",
       "      <td>3092</td>\n",
       "      <td>3182</td>\n",
       "      <td>3396</td>\n",
       "      <td>3421</td>\n",
       "    </tr>\n",
       "    <tr>\n",
       "      <th>86</th>\n",
       "      <td>Åland</td>\n",
       "      <td>Persons born abroad</td>\n",
       "      <td>3785</td>\n",
       "      <td>4018</td>\n",
       "      <td>4171</td>\n",
       "      <td>4316</td>\n",
       "      <td>4502</td>\n",
       "      <td>4642</td>\n",
       "      <td>4905</td>\n",
       "      <td>5082</td>\n",
       "      <td>5377</td>\n",
       "      <td>5497</td>\n",
       "    </tr>\n",
       "    <tr>\n",
       "      <th>87</th>\n",
       "      <td>Åland</td>\n",
       "      <td>Foreign-language speakers</td>\n",
       "      <td>1462</td>\n",
       "      <td>1623</td>\n",
       "      <td>1733</td>\n",
       "      <td>1850</td>\n",
       "      <td>1986</td>\n",
       "      <td>2093</td>\n",
       "      <td>2255</td>\n",
       "      <td>2388</td>\n",
       "      <td>2538</td>\n",
       "      <td>2621</td>\n",
       "    </tr>\n",
       "    <tr>\n",
       "      <th>88</th>\n",
       "      <td>Åland</td>\n",
       "      <td>Persons with foreign background</td>\n",
       "      <td>3054</td>\n",
       "      <td>3293</td>\n",
       "      <td>3454</td>\n",
       "      <td>3618</td>\n",
       "      <td>3824</td>\n",
       "      <td>3862</td>\n",
       "      <td>4126</td>\n",
       "      <td>4316</td>\n",
       "      <td>4612</td>\n",
       "      <td>4758</td>\n",
       "    </tr>\n",
       "  </tbody>\n",
       "</table>\n",
       "<p>88 rows × 12 columns</p>\n",
       "</div>"
      ],
      "text/plain": [
       "0             Region                        Attribute    2010    2011    2012  \\\n",
       "1      WHOLE COUNTRY    Citizens of foreign countries  167954  183133  195511   \n",
       "2      WHOLE COUNTRY              Persons born abroad  248135  266148  285471   \n",
       "3      WHOLE COUNTRY        Foreign-language speakers  224388  244827  266949   \n",
       "4      WHOLE COUNTRY  Persons with foreign background  237066  257494  279616   \n",
       "5   MAINLAND FINLAND    Citizens of foreign countries       0       0       0   \n",
       "..               ...                              ...     ...     ...     ...   \n",
       "84             ÅLAND  Persons with foreign background       0       0       0   \n",
       "85             Åland    Citizens of foreign countries    2415    2560    2610   \n",
       "86             Åland              Persons born abroad    3785    4018    4171   \n",
       "87             Åland        Foreign-language speakers    1462    1623    1733   \n",
       "88             Åland  Persons with foreign background    3054    3293    3454   \n",
       "\n",
       "0     2013    2014    2015    2016    2017    2018    2019  \n",
       "1   207511  219675  229765  243639  249452  257572  267629  \n",
       "2   304279  321977  337162  357541  372802  387215  404179  \n",
       "3   289068  310306  329562  353993  373325  391746  412644  \n",
       "4   301524  322711  339925  364787  384123  402619  423494  \n",
       "5        0       0       0       0       0       0       0  \n",
       "..     ...     ...     ...     ...     ...     ...     ...  \n",
       "84       0       0       0       0       0       0       0  \n",
       "85    2721    2837    2927    3092    3182    3396    3421  \n",
       "86    4316    4502    4642    4905    5082    5377    5497  \n",
       "87    1850    1986    2093    2255    2388    2538    2621  \n",
       "88    3618    3824    3862    4126    4316    4612    4758  \n",
       "\n",
       "[88 rows x 12 columns]"
      ]
     },
     "execution_count": 22,
     "metadata": {},
     "output_type": "execute_result"
    }
   ],
   "source": [
    "FinnData"
   ]
  },
  {
   "cell_type": "markdown",
   "metadata": {},
   "source": [
    "<mark> Removing all rows with 0 values"
   ]
  },
  {
   "cell_type": "code",
   "execution_count": 23,
   "metadata": {
    "ExecuteTime": {
     "end_time": "2020-12-11T13:14:52.236006Z",
     "start_time": "2020-12-11T13:14:52.225503Z"
    }
   },
   "outputs": [],
   "source": [
    "FinnData = FinnData.drop(index=[5,6,7,8,81,82,83,84], axis=0)\n",
    "\n"
   ]
  },
  {
   "cell_type": "code",
   "execution_count": 24,
   "metadata": {
    "ExecuteTime": {
     "end_time": "2020-12-11T13:14:52.311779Z",
     "start_time": "2020-12-11T13:14:52.254615Z"
    }
   },
   "outputs": [
    {
     "data": {
      "text/html": [
       "<div>\n",
       "<style scoped>\n",
       "    .dataframe tbody tr th:only-of-type {\n",
       "        vertical-align: middle;\n",
       "    }\n",
       "\n",
       "    .dataframe tbody tr th {\n",
       "        vertical-align: top;\n",
       "    }\n",
       "\n",
       "    .dataframe thead th {\n",
       "        text-align: right;\n",
       "    }\n",
       "</style>\n",
       "<table border=\"1\" class=\"dataframe\">\n",
       "  <thead>\n",
       "    <tr style=\"text-align: right;\">\n",
       "      <th></th>\n",
       "      <th>Region</th>\n",
       "      <th>Attribute</th>\n",
       "      <th>2010</th>\n",
       "      <th>2011</th>\n",
       "      <th>2012</th>\n",
       "      <th>2013</th>\n",
       "      <th>2014</th>\n",
       "      <th>2015</th>\n",
       "      <th>2016</th>\n",
       "      <th>2017</th>\n",
       "      <th>2018</th>\n",
       "      <th>2019</th>\n",
       "    </tr>\n",
       "  </thead>\n",
       "  <tbody>\n",
       "    <tr>\n",
       "      <th>1</th>\n",
       "      <td>WHOLE COUNTRY</td>\n",
       "      <td>Citizens of foreign countries</td>\n",
       "      <td>167954</td>\n",
       "      <td>183133</td>\n",
       "      <td>195511</td>\n",
       "      <td>207511</td>\n",
       "      <td>219675</td>\n",
       "      <td>229765</td>\n",
       "      <td>243639</td>\n",
       "      <td>249452</td>\n",
       "      <td>257572</td>\n",
       "      <td>267629</td>\n",
       "    </tr>\n",
       "    <tr>\n",
       "      <th>2</th>\n",
       "      <td>WHOLE COUNTRY</td>\n",
       "      <td>Persons born abroad</td>\n",
       "      <td>248135</td>\n",
       "      <td>266148</td>\n",
       "      <td>285471</td>\n",
       "      <td>304279</td>\n",
       "      <td>321977</td>\n",
       "      <td>337162</td>\n",
       "      <td>357541</td>\n",
       "      <td>372802</td>\n",
       "      <td>387215</td>\n",
       "      <td>404179</td>\n",
       "    </tr>\n",
       "    <tr>\n",
       "      <th>3</th>\n",
       "      <td>WHOLE COUNTRY</td>\n",
       "      <td>Foreign-language speakers</td>\n",
       "      <td>224388</td>\n",
       "      <td>244827</td>\n",
       "      <td>266949</td>\n",
       "      <td>289068</td>\n",
       "      <td>310306</td>\n",
       "      <td>329562</td>\n",
       "      <td>353993</td>\n",
       "      <td>373325</td>\n",
       "      <td>391746</td>\n",
       "      <td>412644</td>\n",
       "    </tr>\n",
       "    <tr>\n",
       "      <th>4</th>\n",
       "      <td>WHOLE COUNTRY</td>\n",
       "      <td>Persons with foreign background</td>\n",
       "      <td>237066</td>\n",
       "      <td>257494</td>\n",
       "      <td>279616</td>\n",
       "      <td>301524</td>\n",
       "      <td>322711</td>\n",
       "      <td>339925</td>\n",
       "      <td>364787</td>\n",
       "      <td>384123</td>\n",
       "      <td>402619</td>\n",
       "      <td>423494</td>\n",
       "    </tr>\n",
       "    <tr>\n",
       "      <th>9</th>\n",
       "      <td>Uusimaa</td>\n",
       "      <td>Citizens of foreign countries</td>\n",
       "      <td>86685</td>\n",
       "      <td>94966</td>\n",
       "      <td>102118</td>\n",
       "      <td>109213</td>\n",
       "      <td>116791</td>\n",
       "      <td>123300</td>\n",
       "      <td>130963</td>\n",
       "      <td>135412</td>\n",
       "      <td>141597</td>\n",
       "      <td>149253</td>\n",
       "    </tr>\n",
       "    <tr>\n",
       "      <th>...</th>\n",
       "      <td>...</td>\n",
       "      <td>...</td>\n",
       "      <td>...</td>\n",
       "      <td>...</td>\n",
       "      <td>...</td>\n",
       "      <td>...</td>\n",
       "      <td>...</td>\n",
       "      <td>...</td>\n",
       "      <td>...</td>\n",
       "      <td>...</td>\n",
       "      <td>...</td>\n",
       "      <td>...</td>\n",
       "    </tr>\n",
       "    <tr>\n",
       "      <th>80</th>\n",
       "      <td>Lapland</td>\n",
       "      <td>Persons with foreign background</td>\n",
       "      <td>3794</td>\n",
       "      <td>4102</td>\n",
       "      <td>4316</td>\n",
       "      <td>4610</td>\n",
       "      <td>4860</td>\n",
       "      <td>4850</td>\n",
       "      <td>5164</td>\n",
       "      <td>5331</td>\n",
       "      <td>5519</td>\n",
       "      <td>5505</td>\n",
       "    </tr>\n",
       "    <tr>\n",
       "      <th>85</th>\n",
       "      <td>Åland</td>\n",
       "      <td>Citizens of foreign countries</td>\n",
       "      <td>2415</td>\n",
       "      <td>2560</td>\n",
       "      <td>2610</td>\n",
       "      <td>2721</td>\n",
       "      <td>2837</td>\n",
       "      <td>2927</td>\n",
       "      <td>3092</td>\n",
       "      <td>3182</td>\n",
       "      <td>3396</td>\n",
       "      <td>3421</td>\n",
       "    </tr>\n",
       "    <tr>\n",
       "      <th>86</th>\n",
       "      <td>Åland</td>\n",
       "      <td>Persons born abroad</td>\n",
       "      <td>3785</td>\n",
       "      <td>4018</td>\n",
       "      <td>4171</td>\n",
       "      <td>4316</td>\n",
       "      <td>4502</td>\n",
       "      <td>4642</td>\n",
       "      <td>4905</td>\n",
       "      <td>5082</td>\n",
       "      <td>5377</td>\n",
       "      <td>5497</td>\n",
       "    </tr>\n",
       "    <tr>\n",
       "      <th>87</th>\n",
       "      <td>Åland</td>\n",
       "      <td>Foreign-language speakers</td>\n",
       "      <td>1462</td>\n",
       "      <td>1623</td>\n",
       "      <td>1733</td>\n",
       "      <td>1850</td>\n",
       "      <td>1986</td>\n",
       "      <td>2093</td>\n",
       "      <td>2255</td>\n",
       "      <td>2388</td>\n",
       "      <td>2538</td>\n",
       "      <td>2621</td>\n",
       "    </tr>\n",
       "    <tr>\n",
       "      <th>88</th>\n",
       "      <td>Åland</td>\n",
       "      <td>Persons with foreign background</td>\n",
       "      <td>3054</td>\n",
       "      <td>3293</td>\n",
       "      <td>3454</td>\n",
       "      <td>3618</td>\n",
       "      <td>3824</td>\n",
       "      <td>3862</td>\n",
       "      <td>4126</td>\n",
       "      <td>4316</td>\n",
       "      <td>4612</td>\n",
       "      <td>4758</td>\n",
       "    </tr>\n",
       "  </tbody>\n",
       "</table>\n",
       "<p>80 rows × 12 columns</p>\n",
       "</div>"
      ],
      "text/plain": [
       "0          Region                        Attribute    2010    2011    2012  \\\n",
       "1   WHOLE COUNTRY    Citizens of foreign countries  167954  183133  195511   \n",
       "2   WHOLE COUNTRY              Persons born abroad  248135  266148  285471   \n",
       "3   WHOLE COUNTRY        Foreign-language speakers  224388  244827  266949   \n",
       "4   WHOLE COUNTRY  Persons with foreign background  237066  257494  279616   \n",
       "9         Uusimaa    Citizens of foreign countries   86685   94966  102118   \n",
       "..            ...                              ...     ...     ...     ...   \n",
       "80        Lapland  Persons with foreign background    3794    4102    4316   \n",
       "85          Åland    Citizens of foreign countries    2415    2560    2610   \n",
       "86          Åland              Persons born abroad    3785    4018    4171   \n",
       "87          Åland        Foreign-language speakers    1462    1623    1733   \n",
       "88          Åland  Persons with foreign background    3054    3293    3454   \n",
       "\n",
       "0     2013    2014    2015    2016    2017    2018    2019  \n",
       "1   207511  219675  229765  243639  249452  257572  267629  \n",
       "2   304279  321977  337162  357541  372802  387215  404179  \n",
       "3   289068  310306  329562  353993  373325  391746  412644  \n",
       "4   301524  322711  339925  364787  384123  402619  423494  \n",
       "9   109213  116791  123300  130963  135412  141597  149253  \n",
       "..     ...     ...     ...     ...     ...     ...     ...  \n",
       "80    4610    4860    4850    5164    5331    5519    5505  \n",
       "85    2721    2837    2927    3092    3182    3396    3421  \n",
       "86    4316    4502    4642    4905    5082    5377    5497  \n",
       "87    1850    1986    2093    2255    2388    2538    2621  \n",
       "88    3618    3824    3862    4126    4316    4612    4758  \n",
       "\n",
       "[80 rows x 12 columns]"
      ]
     },
     "execution_count": 24,
     "metadata": {},
     "output_type": "execute_result"
    }
   ],
   "source": [
    "FinnData"
   ]
  },
  {
   "cell_type": "markdown",
   "metadata": {
    "ExecuteTime": {
     "end_time": "2020-12-10T13:58:16.205320Z",
     "start_time": "2020-12-10T13:58:16.176335Z"
    }
   },
   "source": [
    "# <mark> TIDYING DATASET METHOD 1"
   ]
  },
  {
   "cell_type": "code",
   "execution_count": 25,
   "metadata": {
    "ExecuteTime": {
     "end_time": "2020-12-11T13:14:52.340843Z",
     "start_time": "2020-12-11T13:14:52.319058Z"
    }
   },
   "outputs": [],
   "source": [
    "dfm=FinnData.melt(id_vars=['Region','Attribute'],var_name='Year')"
   ]
  },
  {
   "cell_type": "code",
   "execution_count": 26,
   "metadata": {
    "ExecuteTime": {
     "end_time": "2020-12-11T13:14:52.366328Z",
     "start_time": "2020-12-11T13:14:52.346589Z"
    }
   },
   "outputs": [
    {
     "data": {
      "text/html": [
       "<div>\n",
       "<style scoped>\n",
       "    .dataframe tbody tr th:only-of-type {\n",
       "        vertical-align: middle;\n",
       "    }\n",
       "\n",
       "    .dataframe tbody tr th {\n",
       "        vertical-align: top;\n",
       "    }\n",
       "\n",
       "    .dataframe thead th {\n",
       "        text-align: right;\n",
       "    }\n",
       "</style>\n",
       "<table border=\"1\" class=\"dataframe\">\n",
       "  <thead>\n",
       "    <tr style=\"text-align: right;\">\n",
       "      <th></th>\n",
       "      <th>Region</th>\n",
       "      <th>Attribute</th>\n",
       "      <th>Year</th>\n",
       "      <th>value</th>\n",
       "    </tr>\n",
       "  </thead>\n",
       "  <tbody>\n",
       "    <tr>\n",
       "      <th>0</th>\n",
       "      <td>WHOLE COUNTRY</td>\n",
       "      <td>Citizens of foreign countries</td>\n",
       "      <td>2010</td>\n",
       "      <td>167954</td>\n",
       "    </tr>\n",
       "    <tr>\n",
       "      <th>1</th>\n",
       "      <td>WHOLE COUNTRY</td>\n",
       "      <td>Persons born abroad</td>\n",
       "      <td>2010</td>\n",
       "      <td>248135</td>\n",
       "    </tr>\n",
       "    <tr>\n",
       "      <th>2</th>\n",
       "      <td>WHOLE COUNTRY</td>\n",
       "      <td>Foreign-language speakers</td>\n",
       "      <td>2010</td>\n",
       "      <td>224388</td>\n",
       "    </tr>\n",
       "    <tr>\n",
       "      <th>3</th>\n",
       "      <td>WHOLE COUNTRY</td>\n",
       "      <td>Persons with foreign background</td>\n",
       "      <td>2010</td>\n",
       "      <td>237066</td>\n",
       "    </tr>\n",
       "    <tr>\n",
       "      <th>4</th>\n",
       "      <td>Uusimaa</td>\n",
       "      <td>Citizens of foreign countries</td>\n",
       "      <td>2010</td>\n",
       "      <td>86685</td>\n",
       "    </tr>\n",
       "    <tr>\n",
       "      <th>...</th>\n",
       "      <td>...</td>\n",
       "      <td>...</td>\n",
       "      <td>...</td>\n",
       "      <td>...</td>\n",
       "    </tr>\n",
       "    <tr>\n",
       "      <th>795</th>\n",
       "      <td>Lapland</td>\n",
       "      <td>Persons with foreign background</td>\n",
       "      <td>2019</td>\n",
       "      <td>5505</td>\n",
       "    </tr>\n",
       "    <tr>\n",
       "      <th>796</th>\n",
       "      <td>Åland</td>\n",
       "      <td>Citizens of foreign countries</td>\n",
       "      <td>2019</td>\n",
       "      <td>3421</td>\n",
       "    </tr>\n",
       "    <tr>\n",
       "      <th>797</th>\n",
       "      <td>Åland</td>\n",
       "      <td>Persons born abroad</td>\n",
       "      <td>2019</td>\n",
       "      <td>5497</td>\n",
       "    </tr>\n",
       "    <tr>\n",
       "      <th>798</th>\n",
       "      <td>Åland</td>\n",
       "      <td>Foreign-language speakers</td>\n",
       "      <td>2019</td>\n",
       "      <td>2621</td>\n",
       "    </tr>\n",
       "    <tr>\n",
       "      <th>799</th>\n",
       "      <td>Åland</td>\n",
       "      <td>Persons with foreign background</td>\n",
       "      <td>2019</td>\n",
       "      <td>4758</td>\n",
       "    </tr>\n",
       "  </tbody>\n",
       "</table>\n",
       "<p>800 rows × 4 columns</p>\n",
       "</div>"
      ],
      "text/plain": [
       "            Region                        Attribute  Year   value\n",
       "0    WHOLE COUNTRY    Citizens of foreign countries  2010  167954\n",
       "1    WHOLE COUNTRY              Persons born abroad  2010  248135\n",
       "2    WHOLE COUNTRY        Foreign-language speakers  2010  224388\n",
       "3    WHOLE COUNTRY  Persons with foreign background  2010  237066\n",
       "4          Uusimaa    Citizens of foreign countries  2010   86685\n",
       "..             ...                              ...   ...     ...\n",
       "795        Lapland  Persons with foreign background  2019    5505\n",
       "796          Åland    Citizens of foreign countries  2019    3421\n",
       "797          Åland              Persons born abroad  2019    5497\n",
       "798          Åland        Foreign-language speakers  2019    2621\n",
       "799          Åland  Persons with foreign background  2019    4758\n",
       "\n",
       "[800 rows x 4 columns]"
      ]
     },
     "execution_count": 26,
     "metadata": {},
     "output_type": "execute_result"
    }
   ],
   "source": [
    "dfm"
   ]
  },
  {
   "cell_type": "code",
   "execution_count": 27,
   "metadata": {
    "ExecuteTime": {
     "end_time": "2020-12-11T13:14:52.395489Z",
     "start_time": "2020-12-11T13:14:52.369602Z"
    }
   },
   "outputs": [
    {
     "data": {
      "text/html": [
       "<div>\n",
       "<style scoped>\n",
       "    .dataframe tbody tr th:only-of-type {\n",
       "        vertical-align: middle;\n",
       "    }\n",
       "\n",
       "    .dataframe tbody tr th {\n",
       "        vertical-align: top;\n",
       "    }\n",
       "\n",
       "    .dataframe thead th {\n",
       "        text-align: right;\n",
       "    }\n",
       "</style>\n",
       "<table border=\"1\" class=\"dataframe\">\n",
       "  <thead>\n",
       "    <tr style=\"text-align: right;\">\n",
       "      <th></th>\n",
       "      <th>Region</th>\n",
       "      <th>Attribute</th>\n",
       "      <th>value</th>\n",
       "    </tr>\n",
       "  </thead>\n",
       "  <tbody>\n",
       "    <tr>\n",
       "      <th>0</th>\n",
       "      <td>WHOLE COUNTRY</td>\n",
       "      <td>Citizens of foreign countries</td>\n",
       "      <td>167954</td>\n",
       "    </tr>\n",
       "    <tr>\n",
       "      <th>1</th>\n",
       "      <td>WHOLE COUNTRY</td>\n",
       "      <td>Persons born abroad</td>\n",
       "      <td>248135</td>\n",
       "    </tr>\n",
       "    <tr>\n",
       "      <th>2</th>\n",
       "      <td>WHOLE COUNTRY</td>\n",
       "      <td>Foreign-language speakers</td>\n",
       "      <td>224388</td>\n",
       "    </tr>\n",
       "    <tr>\n",
       "      <th>3</th>\n",
       "      <td>WHOLE COUNTRY</td>\n",
       "      <td>Persons with foreign background</td>\n",
       "      <td>237066</td>\n",
       "    </tr>\n",
       "    <tr>\n",
       "      <th>4</th>\n",
       "      <td>Uusimaa</td>\n",
       "      <td>Citizens of foreign countries</td>\n",
       "      <td>86685</td>\n",
       "    </tr>\n",
       "    <tr>\n",
       "      <th>...</th>\n",
       "      <td>...</td>\n",
       "      <td>...</td>\n",
       "      <td>...</td>\n",
       "    </tr>\n",
       "    <tr>\n",
       "      <th>795</th>\n",
       "      <td>Lapland</td>\n",
       "      <td>Persons with foreign background</td>\n",
       "      <td>5505</td>\n",
       "    </tr>\n",
       "    <tr>\n",
       "      <th>796</th>\n",
       "      <td>Åland</td>\n",
       "      <td>Citizens of foreign countries</td>\n",
       "      <td>3421</td>\n",
       "    </tr>\n",
       "    <tr>\n",
       "      <th>797</th>\n",
       "      <td>Åland</td>\n",
       "      <td>Persons born abroad</td>\n",
       "      <td>5497</td>\n",
       "    </tr>\n",
       "    <tr>\n",
       "      <th>798</th>\n",
       "      <td>Åland</td>\n",
       "      <td>Foreign-language speakers</td>\n",
       "      <td>2621</td>\n",
       "    </tr>\n",
       "    <tr>\n",
       "      <th>799</th>\n",
       "      <td>Åland</td>\n",
       "      <td>Persons with foreign background</td>\n",
       "      <td>4758</td>\n",
       "    </tr>\n",
       "  </tbody>\n",
       "</table>\n",
       "<p>800 rows × 3 columns</p>\n",
       "</div>"
      ],
      "text/plain": [
       "            Region                        Attribute   value\n",
       "0    WHOLE COUNTRY    Citizens of foreign countries  167954\n",
       "1    WHOLE COUNTRY              Persons born abroad  248135\n",
       "2    WHOLE COUNTRY        Foreign-language speakers  224388\n",
       "3    WHOLE COUNTRY  Persons with foreign background  237066\n",
       "4          Uusimaa    Citizens of foreign countries   86685\n",
       "..             ...                              ...     ...\n",
       "795        Lapland  Persons with foreign background    5505\n",
       "796          Åland    Citizens of foreign countries    3421\n",
       "797          Åland              Persons born abroad    5497\n",
       "798          Åland        Foreign-language speakers    2621\n",
       "799          Åland  Persons with foreign background    4758\n",
       "\n",
       "[800 rows x 3 columns]"
      ]
     },
     "execution_count": 27,
     "metadata": {},
     "output_type": "execute_result"
    }
   ],
   "source": [
    "dfm1=dfm[['Region','Attribute','value']]\n",
    "dfm1"
   ]
  },
  {
   "cell_type": "code",
   "execution_count": 28,
   "metadata": {
    "ExecuteTime": {
     "end_time": "2020-12-11T13:14:52.430893Z",
     "start_time": "2020-12-11T13:14:52.400416Z"
    }
   },
   "outputs": [
    {
     "data": {
      "text/html": [
       "<div>\n",
       "<style scoped>\n",
       "    .dataframe tbody tr th:only-of-type {\n",
       "        vertical-align: middle;\n",
       "    }\n",
       "\n",
       "    .dataframe tbody tr th {\n",
       "        vertical-align: top;\n",
       "    }\n",
       "\n",
       "    .dataframe thead th {\n",
       "        text-align: right;\n",
       "    }\n",
       "</style>\n",
       "<table border=\"1\" class=\"dataframe\">\n",
       "  <thead>\n",
       "    <tr style=\"text-align: right;\">\n",
       "      <th></th>\n",
       "      <th></th>\n",
       "      <th>value</th>\n",
       "    </tr>\n",
       "    <tr>\n",
       "      <th>Region</th>\n",
       "      <th>Attribute</th>\n",
       "      <th></th>\n",
       "    </tr>\n",
       "  </thead>\n",
       "  <tbody>\n",
       "    <tr>\n",
       "      <th rowspan=\"4\" valign=\"top\">Central</th>\n",
       "      <th>Citizens of foreign countries</th>\n",
       "      <td>6309</td>\n",
       "    </tr>\n",
       "    <tr>\n",
       "      <th>Foreign-language speakers</th>\n",
       "      <td>9531</td>\n",
       "    </tr>\n",
       "    <tr>\n",
       "      <th>Persons born abroad</th>\n",
       "      <td>10731</td>\n",
       "    </tr>\n",
       "    <tr>\n",
       "      <th>Persons with foreign background</th>\n",
       "      <td>9807</td>\n",
       "    </tr>\n",
       "    <tr>\n",
       "      <th>Central Ostrobothnia</th>\n",
       "      <th>Citizens of foreign countries</th>\n",
       "      <td>1537</td>\n",
       "    </tr>\n",
       "    <tr>\n",
       "      <th>...</th>\n",
       "      <th>...</th>\n",
       "      <td>...</td>\n",
       "    </tr>\n",
       "    <tr>\n",
       "      <th>WHOLE COUNTRY</th>\n",
       "      <th>Persons with foreign background</th>\n",
       "      <td>423494</td>\n",
       "    </tr>\n",
       "    <tr>\n",
       "      <th rowspan=\"4\" valign=\"top\">Åland</th>\n",
       "      <th>Citizens of foreign countries</th>\n",
       "      <td>3421</td>\n",
       "    </tr>\n",
       "    <tr>\n",
       "      <th>Foreign-language speakers</th>\n",
       "      <td>2621</td>\n",
       "    </tr>\n",
       "    <tr>\n",
       "      <th>Persons born abroad</th>\n",
       "      <td>5497</td>\n",
       "    </tr>\n",
       "    <tr>\n",
       "      <th>Persons with foreign background</th>\n",
       "      <td>4758</td>\n",
       "    </tr>\n",
       "  </tbody>\n",
       "</table>\n",
       "<p>80 rows × 1 columns</p>\n",
       "</div>"
      ],
      "text/plain": [
       "                                                       value\n",
       "Region               Attribute                              \n",
       "Central              Citizens of foreign countries      6309\n",
       "                     Foreign-language speakers          9531\n",
       "                     Persons born abroad               10731\n",
       "                     Persons with foreign background    9807\n",
       "Central Ostrobothnia Citizens of foreign countries      1537\n",
       "...                                                      ...\n",
       "WHOLE COUNTRY        Persons with foreign background  423494\n",
       "Åland                Citizens of foreign countries      3421\n",
       "                     Foreign-language speakers          2621\n",
       "                     Persons born abroad                5497\n",
       "                     Persons with foreign background    4758\n",
       "\n",
       "[80 rows x 1 columns]"
      ]
     },
     "execution_count": 28,
     "metadata": {},
     "output_type": "execute_result"
    }
   ],
   "source": [
    "dfm2=dfm1.groupby(['Region','Attribute']).max()\n",
    "dfm2"
   ]
  },
  {
   "cell_type": "code",
   "execution_count": 29,
   "metadata": {
    "ExecuteTime": {
     "end_time": "2020-12-11T13:14:52.445986Z",
     "start_time": "2020-12-11T13:14:52.437265Z"
    }
   },
   "outputs": [],
   "source": [
    "dfm2.reset_index(inplace=True)"
   ]
  },
  {
   "cell_type": "code",
   "execution_count": 30,
   "metadata": {
    "ExecuteTime": {
     "end_time": "2020-12-11T13:14:53.191229Z",
     "start_time": "2020-12-11T13:14:52.450996Z"
    },
    "scrolled": false
   },
   "outputs": [
    {
     "name": "stderr",
     "output_type": "stream",
     "text": [
      "/Users/shreesapkota/opt/anaconda3/lib/python3.8/site-packages/cufflinks/plotlytools.py:807: FutureWarning:\n",
      "\n",
      "The pandas.np module is deprecated and will be removed from pandas in a future version. Import numpy directly instead\n",
      "\n",
      "/Users/shreesapkota/opt/anaconda3/lib/python3.8/site-packages/cufflinks/plotlytools.py:810: FutureWarning:\n",
      "\n",
      "The pandas.np module is deprecated and will be removed from pandas in a future version. Import numpy directly instead\n",
      "\n"
     ]
    },
    {
     "data": {
      "application/vnd.plotly.v1+json": {
       "config": {
        "linkText": "Export to plot.ly",
        "plotlyServerURL": "https://plot.ly",
        "showLink": true
       },
       "data": [
        {
         "marker": {
          "color": "rgba(255, 153, 51, 1.0)",
          "line": {
           "width": 1.3
          },
          "opacity": 0.8,
          "size": 12,
          "symbol": "circle"
         },
         "mode": "lines",
         "name": "Citizens of foreign countries",
         "textfont": {
          "color": "#4D5663"
         },
         "type": "scatter",
         "x": [
          "Central",
          "Central Ostrobothnia",
          "Kainuu",
          "Kanta-Häme",
          "Kymenlaakso",
          "Lapland",
          "North Karelia",
          "North Ostrobothnia",
          "North Savo",
          "Ostrobothnia",
          "Pirkanmaa",
          "Päijät-Häme",
          "Satakunta",
          "South Karelia",
          "South Ostrobothnia",
          "South Savo",
          "Southwest",
          "Uusimaa",
          "WHOLE COUNTRY",
          "Åland"
         ],
         "y": [
          6309,
          1537,
          1395,
          5206,
          7218,
          4102,
          3909,
          8908,
          5091,
          9634,
          16329,
          7134,
          6280,
          4974,
          3344,
          3241,
          21913,
          149253,
          267629,
          3421
         ]
        },
        {
         "marker": {
          "color": "rgba(55, 128, 191, 1.0)",
          "line": {
           "width": 1.3
          },
          "opacity": 0.8,
          "size": 12,
          "symbol": "circle"
         },
         "mode": "lines",
         "name": "Foreign-language speakers",
         "textfont": {
          "color": "#4D5663"
         },
         "type": "scatter",
         "x": [
          "Central",
          "Central Ostrobothnia",
          "Kainuu",
          "Kanta-Häme",
          "Kymenlaakso",
          "Lapland",
          "North Karelia",
          "North Ostrobothnia",
          "North Savo",
          "Ostrobothnia",
          "Pirkanmaa",
          "Päijät-Häme",
          "Satakunta",
          "South Karelia",
          "South Ostrobothnia",
          "South Savo",
          "Southwest",
          "Uusimaa",
          "WHOLE COUNTRY",
          "Åland"
         ],
         "y": [
          9531,
          2038,
          2090,
          7221,
          10496,
          5038,
          6249,
          12358,
          7506,
          12665,
          26166,
          10994,
          7927,
          8092,
          4344,
          4862,
          35809,
          236959,
          412644,
          2621
         ]
        },
        {
         "marker": {
          "color": "rgba(50, 171, 96, 1.0)",
          "line": {
           "width": 1.3
          },
          "opacity": 0.8,
          "size": 12,
          "symbol": "circle"
         },
         "mode": "lines",
         "name": "Persons born abroad",
         "textfont": {
          "color": "#4D5663"
         },
         "type": "scatter",
         "x": [
          "Central",
          "Central Ostrobothnia",
          "Kainuu",
          "Kanta-Häme",
          "Kymenlaakso",
          "Lapland",
          "North Karelia",
          "North Ostrobothnia",
          "North Savo",
          "Ostrobothnia",
          "Pirkanmaa",
          "Päijät-Häme",
          "Satakunta",
          "South Karelia",
          "South Ostrobothnia",
          "South Savo",
          "Southwest",
          "Uusimaa",
          "WHOLE COUNTRY",
          "Åland"
         ],
         "y": [
          10731,
          2626,
          2283,
          7359,
          10377,
          7701,
          6357,
          15377,
          7879,
          14905,
          26511,
          11135,
          8640,
          8000,
          5406,
          4925,
          34140,
          214768,
          404179,
          5497
         ]
        },
        {
         "marker": {
          "color": "rgba(128, 0, 128, 1.0)",
          "line": {
           "width": 1.3
          },
          "opacity": 0.8,
          "size": 12,
          "symbol": "circle"
         },
         "mode": "lines",
         "name": "Persons with foreign background",
         "textfont": {
          "color": "#4D5663"
         },
         "type": "scatter",
         "x": [
          "Central",
          "Central Ostrobothnia",
          "Kainuu",
          "Kanta-Häme",
          "Kymenlaakso",
          "Lapland",
          "North Karelia",
          "North Ostrobothnia",
          "North Savo",
          "Ostrobothnia",
          "Pirkanmaa",
          "Päijät-Häme",
          "Satakunta",
          "South Karelia",
          "South Ostrobothnia",
          "South Savo",
          "Southwest",
          "Uusimaa",
          "WHOLE COUNTRY",
          "Åland"
         ],
         "y": [
          9807,
          2123,
          2154,
          7337,
          10770,
          5519,
          6389,
          12744,
          7664,
          13614,
          26384,
          11285,
          8117,
          8351,
          4591,
          4945,
          36828,
          240435,
          423494,
          4758
         ]
        }
       ],
       "layout": {
        "legend": {
         "bgcolor": "#F5F6F9",
         "font": {
          "color": "#4D5663"
         }
        },
        "paper_bgcolor": "#F5F6F9",
        "plot_bgcolor": "#F5F6F9",
        "template": {
         "data": {
          "bar": [
           {
            "error_x": {
             "color": "#2a3f5f"
            },
            "error_y": {
             "color": "#2a3f5f"
            },
            "marker": {
             "line": {
              "color": "#E5ECF6",
              "width": 0.5
             }
            },
            "type": "bar"
           }
          ],
          "barpolar": [
           {
            "marker": {
             "line": {
              "color": "#E5ECF6",
              "width": 0.5
             }
            },
            "type": "barpolar"
           }
          ],
          "carpet": [
           {
            "aaxis": {
             "endlinecolor": "#2a3f5f",
             "gridcolor": "white",
             "linecolor": "white",
             "minorgridcolor": "white",
             "startlinecolor": "#2a3f5f"
            },
            "baxis": {
             "endlinecolor": "#2a3f5f",
             "gridcolor": "white",
             "linecolor": "white",
             "minorgridcolor": "white",
             "startlinecolor": "#2a3f5f"
            },
            "type": "carpet"
           }
          ],
          "choropleth": [
           {
            "colorbar": {
             "outlinewidth": 0,
             "ticks": ""
            },
            "type": "choropleth"
           }
          ],
          "contour": [
           {
            "colorbar": {
             "outlinewidth": 0,
             "ticks": ""
            },
            "colorscale": [
             [
              0,
              "#0d0887"
             ],
             [
              0.1111111111111111,
              "#46039f"
             ],
             [
              0.2222222222222222,
              "#7201a8"
             ],
             [
              0.3333333333333333,
              "#9c179e"
             ],
             [
              0.4444444444444444,
              "#bd3786"
             ],
             [
              0.5555555555555556,
              "#d8576b"
             ],
             [
              0.6666666666666666,
              "#ed7953"
             ],
             [
              0.7777777777777778,
              "#fb9f3a"
             ],
             [
              0.8888888888888888,
              "#fdca26"
             ],
             [
              1,
              "#f0f921"
             ]
            ],
            "type": "contour"
           }
          ],
          "contourcarpet": [
           {
            "colorbar": {
             "outlinewidth": 0,
             "ticks": ""
            },
            "type": "contourcarpet"
           }
          ],
          "heatmap": [
           {
            "colorbar": {
             "outlinewidth": 0,
             "ticks": ""
            },
            "colorscale": [
             [
              0,
              "#0d0887"
             ],
             [
              0.1111111111111111,
              "#46039f"
             ],
             [
              0.2222222222222222,
              "#7201a8"
             ],
             [
              0.3333333333333333,
              "#9c179e"
             ],
             [
              0.4444444444444444,
              "#bd3786"
             ],
             [
              0.5555555555555556,
              "#d8576b"
             ],
             [
              0.6666666666666666,
              "#ed7953"
             ],
             [
              0.7777777777777778,
              "#fb9f3a"
             ],
             [
              0.8888888888888888,
              "#fdca26"
             ],
             [
              1,
              "#f0f921"
             ]
            ],
            "type": "heatmap"
           }
          ],
          "heatmapgl": [
           {
            "colorbar": {
             "outlinewidth": 0,
             "ticks": ""
            },
            "colorscale": [
             [
              0,
              "#0d0887"
             ],
             [
              0.1111111111111111,
              "#46039f"
             ],
             [
              0.2222222222222222,
              "#7201a8"
             ],
             [
              0.3333333333333333,
              "#9c179e"
             ],
             [
              0.4444444444444444,
              "#bd3786"
             ],
             [
              0.5555555555555556,
              "#d8576b"
             ],
             [
              0.6666666666666666,
              "#ed7953"
             ],
             [
              0.7777777777777778,
              "#fb9f3a"
             ],
             [
              0.8888888888888888,
              "#fdca26"
             ],
             [
              1,
              "#f0f921"
             ]
            ],
            "type": "heatmapgl"
           }
          ],
          "histogram": [
           {
            "marker": {
             "colorbar": {
              "outlinewidth": 0,
              "ticks": ""
             }
            },
            "type": "histogram"
           }
          ],
          "histogram2d": [
           {
            "colorbar": {
             "outlinewidth": 0,
             "ticks": ""
            },
            "colorscale": [
             [
              0,
              "#0d0887"
             ],
             [
              0.1111111111111111,
              "#46039f"
             ],
             [
              0.2222222222222222,
              "#7201a8"
             ],
             [
              0.3333333333333333,
              "#9c179e"
             ],
             [
              0.4444444444444444,
              "#bd3786"
             ],
             [
              0.5555555555555556,
              "#d8576b"
             ],
             [
              0.6666666666666666,
              "#ed7953"
             ],
             [
              0.7777777777777778,
              "#fb9f3a"
             ],
             [
              0.8888888888888888,
              "#fdca26"
             ],
             [
              1,
              "#f0f921"
             ]
            ],
            "type": "histogram2d"
           }
          ],
          "histogram2dcontour": [
           {
            "colorbar": {
             "outlinewidth": 0,
             "ticks": ""
            },
            "colorscale": [
             [
              0,
              "#0d0887"
             ],
             [
              0.1111111111111111,
              "#46039f"
             ],
             [
              0.2222222222222222,
              "#7201a8"
             ],
             [
              0.3333333333333333,
              "#9c179e"
             ],
             [
              0.4444444444444444,
              "#bd3786"
             ],
             [
              0.5555555555555556,
              "#d8576b"
             ],
             [
              0.6666666666666666,
              "#ed7953"
             ],
             [
              0.7777777777777778,
              "#fb9f3a"
             ],
             [
              0.8888888888888888,
              "#fdca26"
             ],
             [
              1,
              "#f0f921"
             ]
            ],
            "type": "histogram2dcontour"
           }
          ],
          "mesh3d": [
           {
            "colorbar": {
             "outlinewidth": 0,
             "ticks": ""
            },
            "type": "mesh3d"
           }
          ],
          "parcoords": [
           {
            "line": {
             "colorbar": {
              "outlinewidth": 0,
              "ticks": ""
             }
            },
            "type": "parcoords"
           }
          ],
          "pie": [
           {
            "automargin": true,
            "type": "pie"
           }
          ],
          "scatter": [
           {
            "marker": {
             "colorbar": {
              "outlinewidth": 0,
              "ticks": ""
             }
            },
            "type": "scatter"
           }
          ],
          "scatter3d": [
           {
            "line": {
             "colorbar": {
              "outlinewidth": 0,
              "ticks": ""
             }
            },
            "marker": {
             "colorbar": {
              "outlinewidth": 0,
              "ticks": ""
             }
            },
            "type": "scatter3d"
           }
          ],
          "scattercarpet": [
           {
            "marker": {
             "colorbar": {
              "outlinewidth": 0,
              "ticks": ""
             }
            },
            "type": "scattercarpet"
           }
          ],
          "scattergeo": [
           {
            "marker": {
             "colorbar": {
              "outlinewidth": 0,
              "ticks": ""
             }
            },
            "type": "scattergeo"
           }
          ],
          "scattergl": [
           {
            "marker": {
             "colorbar": {
              "outlinewidth": 0,
              "ticks": ""
             }
            },
            "type": "scattergl"
           }
          ],
          "scattermapbox": [
           {
            "marker": {
             "colorbar": {
              "outlinewidth": 0,
              "ticks": ""
             }
            },
            "type": "scattermapbox"
           }
          ],
          "scatterpolar": [
           {
            "marker": {
             "colorbar": {
              "outlinewidth": 0,
              "ticks": ""
             }
            },
            "type": "scatterpolar"
           }
          ],
          "scatterpolargl": [
           {
            "marker": {
             "colorbar": {
              "outlinewidth": 0,
              "ticks": ""
             }
            },
            "type": "scatterpolargl"
           }
          ],
          "scatterternary": [
           {
            "marker": {
             "colorbar": {
              "outlinewidth": 0,
              "ticks": ""
             }
            },
            "type": "scatterternary"
           }
          ],
          "surface": [
           {
            "colorbar": {
             "outlinewidth": 0,
             "ticks": ""
            },
            "colorscale": [
             [
              0,
              "#0d0887"
             ],
             [
              0.1111111111111111,
              "#46039f"
             ],
             [
              0.2222222222222222,
              "#7201a8"
             ],
             [
              0.3333333333333333,
              "#9c179e"
             ],
             [
              0.4444444444444444,
              "#bd3786"
             ],
             [
              0.5555555555555556,
              "#d8576b"
             ],
             [
              0.6666666666666666,
              "#ed7953"
             ],
             [
              0.7777777777777778,
              "#fb9f3a"
             ],
             [
              0.8888888888888888,
              "#fdca26"
             ],
             [
              1,
              "#f0f921"
             ]
            ],
            "type": "surface"
           }
          ],
          "table": [
           {
            "cells": {
             "fill": {
              "color": "#EBF0F8"
             },
             "line": {
              "color": "white"
             }
            },
            "header": {
             "fill": {
              "color": "#C8D4E3"
             },
             "line": {
              "color": "white"
             }
            },
            "type": "table"
           }
          ]
         },
         "layout": {
          "annotationdefaults": {
           "arrowcolor": "#2a3f5f",
           "arrowhead": 0,
           "arrowwidth": 1
          },
          "coloraxis": {
           "colorbar": {
            "outlinewidth": 0,
            "ticks": ""
           }
          },
          "colorscale": {
           "diverging": [
            [
             0,
             "#8e0152"
            ],
            [
             0.1,
             "#c51b7d"
            ],
            [
             0.2,
             "#de77ae"
            ],
            [
             0.3,
             "#f1b6da"
            ],
            [
             0.4,
             "#fde0ef"
            ],
            [
             0.5,
             "#f7f7f7"
            ],
            [
             0.6,
             "#e6f5d0"
            ],
            [
             0.7,
             "#b8e186"
            ],
            [
             0.8,
             "#7fbc41"
            ],
            [
             0.9,
             "#4d9221"
            ],
            [
             1,
             "#276419"
            ]
           ],
           "sequential": [
            [
             0,
             "#0d0887"
            ],
            [
             0.1111111111111111,
             "#46039f"
            ],
            [
             0.2222222222222222,
             "#7201a8"
            ],
            [
             0.3333333333333333,
             "#9c179e"
            ],
            [
             0.4444444444444444,
             "#bd3786"
            ],
            [
             0.5555555555555556,
             "#d8576b"
            ],
            [
             0.6666666666666666,
             "#ed7953"
            ],
            [
             0.7777777777777778,
             "#fb9f3a"
            ],
            [
             0.8888888888888888,
             "#fdca26"
            ],
            [
             1,
             "#f0f921"
            ]
           ],
           "sequentialminus": [
            [
             0,
             "#0d0887"
            ],
            [
             0.1111111111111111,
             "#46039f"
            ],
            [
             0.2222222222222222,
             "#7201a8"
            ],
            [
             0.3333333333333333,
             "#9c179e"
            ],
            [
             0.4444444444444444,
             "#bd3786"
            ],
            [
             0.5555555555555556,
             "#d8576b"
            ],
            [
             0.6666666666666666,
             "#ed7953"
            ],
            [
             0.7777777777777778,
             "#fb9f3a"
            ],
            [
             0.8888888888888888,
             "#fdca26"
            ],
            [
             1,
             "#f0f921"
            ]
           ]
          },
          "colorway": [
           "#636efa",
           "#EF553B",
           "#00cc96",
           "#ab63fa",
           "#FFA15A",
           "#19d3f3",
           "#FF6692",
           "#B6E880",
           "#FF97FF",
           "#FECB52"
          ],
          "font": {
           "color": "#2a3f5f"
          },
          "geo": {
           "bgcolor": "white",
           "lakecolor": "white",
           "landcolor": "#E5ECF6",
           "showlakes": true,
           "showland": true,
           "subunitcolor": "white"
          },
          "hoverlabel": {
           "align": "left"
          },
          "hovermode": "closest",
          "mapbox": {
           "style": "light"
          },
          "paper_bgcolor": "white",
          "plot_bgcolor": "#E5ECF6",
          "polar": {
           "angularaxis": {
            "gridcolor": "white",
            "linecolor": "white",
            "ticks": ""
           },
           "bgcolor": "#E5ECF6",
           "radialaxis": {
            "gridcolor": "white",
            "linecolor": "white",
            "ticks": ""
           }
          },
          "scene": {
           "xaxis": {
            "backgroundcolor": "#E5ECF6",
            "gridcolor": "white",
            "gridwidth": 2,
            "linecolor": "white",
            "showbackground": true,
            "ticks": "",
            "zerolinecolor": "white"
           },
           "yaxis": {
            "backgroundcolor": "#E5ECF6",
            "gridcolor": "white",
            "gridwidth": 2,
            "linecolor": "white",
            "showbackground": true,
            "ticks": "",
            "zerolinecolor": "white"
           },
           "zaxis": {
            "backgroundcolor": "#E5ECF6",
            "gridcolor": "white",
            "gridwidth": 2,
            "linecolor": "white",
            "showbackground": true,
            "ticks": "",
            "zerolinecolor": "white"
           }
          },
          "shapedefaults": {
           "line": {
            "color": "#2a3f5f"
           }
          },
          "ternary": {
           "aaxis": {
            "gridcolor": "white",
            "linecolor": "white",
            "ticks": ""
           },
           "baxis": {
            "gridcolor": "white",
            "linecolor": "white",
            "ticks": ""
           },
           "bgcolor": "#E5ECF6",
           "caxis": {
            "gridcolor": "white",
            "linecolor": "white",
            "ticks": ""
           }
          },
          "title": {
           "x": 0.05
          },
          "xaxis": {
           "automargin": true,
           "gridcolor": "white",
           "linecolor": "white",
           "ticks": "",
           "title": {
            "standoff": 15
           },
           "zerolinecolor": "white",
           "zerolinewidth": 2
          },
          "yaxis": {
           "automargin": true,
           "gridcolor": "white",
           "linecolor": "white",
           "ticks": "",
           "title": {
            "standoff": 15
           },
           "zerolinecolor": "white",
           "zerolinewidth": 2
          }
         }
        },
        "title": {
         "font": {
          "color": "#4D5663"
         },
         "text": "Immigrant population in Finland on differnt categories"
        },
        "xaxis": {
         "gridcolor": "#E1E5ED",
         "showgrid": true,
         "tickfont": {
          "color": "#4D5663"
         },
         "title": {
          "font": {
           "color": "#4D5663"
          },
          "text": "Municipalities"
         },
         "zerolinecolor": "#E1E5ED"
        },
        "yaxis": {
         "gridcolor": "#E1E5ED",
         "showgrid": true,
         "tickfont": {
          "color": "#4D5663"
         },
         "title": {
          "font": {
           "color": "#4D5663"
          },
          "text": "Population"
         },
         "zerolinecolor": "#E1E5ED"
        }
       }
      },
      "text/html": [
       "<div>                            <div id=\"d1dbe072-c945-404f-9206-8596eb44b738\" class=\"plotly-graph-div\" style=\"height:525px; width:100%;\"></div>            <script type=\"text/javascript\">                require([\"plotly\"], function(Plotly) {                    window.PLOTLYENV=window.PLOTLYENV || {};\n",
       "                    window.PLOTLYENV.BASE_URL='https://plot.ly';                                    if (document.getElementById(\"d1dbe072-c945-404f-9206-8596eb44b738\")) {                    Plotly.newPlot(                        \"d1dbe072-c945-404f-9206-8596eb44b738\",                        [{\"marker\": {\"color\": \"rgba(255, 153, 51, 1.0)\", \"line\": {\"width\": 1.3}, \"opacity\": 0.8, \"size\": 12, \"symbol\": \"circle\"}, \"mode\": \"lines\", \"name\": \"Citizens of foreign countries\", \"textfont\": {\"color\": \"#4D5663\"}, \"type\": \"scatter\", \"x\": [\"Central\", \"Central Ostrobothnia\", \"Kainuu\", \"Kanta-H\\u00e4me\", \"Kymenlaakso\", \"Lapland\", \"North Karelia\", \"North Ostrobothnia\", \"North Savo\", \"Ostrobothnia\", \"Pirkanmaa\", \"P\\u00e4ij\\u00e4t-H\\u00e4me\", \"Satakunta\", \"South Karelia\", \"South Ostrobothnia\", \"South Savo\", \"Southwest\", \"Uusimaa\", \"WHOLE COUNTRY\", \"\\u00c5land\"], \"y\": [6309, 1537, 1395, 5206, 7218, 4102, 3909, 8908, 5091, 9634, 16329, 7134, 6280, 4974, 3344, 3241, 21913, 149253, 267629, 3421]}, {\"marker\": {\"color\": \"rgba(55, 128, 191, 1.0)\", \"line\": {\"width\": 1.3}, \"opacity\": 0.8, \"size\": 12, \"symbol\": \"circle\"}, \"mode\": \"lines\", \"name\": \"Foreign-language speakers\", \"textfont\": {\"color\": \"#4D5663\"}, \"type\": \"scatter\", \"x\": [\"Central\", \"Central Ostrobothnia\", \"Kainuu\", \"Kanta-H\\u00e4me\", \"Kymenlaakso\", \"Lapland\", \"North Karelia\", \"North Ostrobothnia\", \"North Savo\", \"Ostrobothnia\", \"Pirkanmaa\", \"P\\u00e4ij\\u00e4t-H\\u00e4me\", \"Satakunta\", \"South Karelia\", \"South Ostrobothnia\", \"South Savo\", \"Southwest\", \"Uusimaa\", \"WHOLE COUNTRY\", \"\\u00c5land\"], \"y\": [9531, 2038, 2090, 7221, 10496, 5038, 6249, 12358, 7506, 12665, 26166, 10994, 7927, 8092, 4344, 4862, 35809, 236959, 412644, 2621]}, {\"marker\": {\"color\": \"rgba(50, 171, 96, 1.0)\", \"line\": {\"width\": 1.3}, \"opacity\": 0.8, \"size\": 12, \"symbol\": \"circle\"}, \"mode\": \"lines\", \"name\": \"Persons born abroad\", \"textfont\": {\"color\": \"#4D5663\"}, \"type\": \"scatter\", \"x\": [\"Central\", \"Central Ostrobothnia\", \"Kainuu\", \"Kanta-H\\u00e4me\", \"Kymenlaakso\", \"Lapland\", \"North Karelia\", \"North Ostrobothnia\", \"North Savo\", \"Ostrobothnia\", \"Pirkanmaa\", \"P\\u00e4ij\\u00e4t-H\\u00e4me\", \"Satakunta\", \"South Karelia\", \"South Ostrobothnia\", \"South Savo\", \"Southwest\", \"Uusimaa\", \"WHOLE COUNTRY\", \"\\u00c5land\"], \"y\": [10731, 2626, 2283, 7359, 10377, 7701, 6357, 15377, 7879, 14905, 26511, 11135, 8640, 8000, 5406, 4925, 34140, 214768, 404179, 5497]}, {\"marker\": {\"color\": \"rgba(128, 0, 128, 1.0)\", \"line\": {\"width\": 1.3}, \"opacity\": 0.8, \"size\": 12, \"symbol\": \"circle\"}, \"mode\": \"lines\", \"name\": \"Persons with foreign background\", \"textfont\": {\"color\": \"#4D5663\"}, \"type\": \"scatter\", \"x\": [\"Central\", \"Central Ostrobothnia\", \"Kainuu\", \"Kanta-H\\u00e4me\", \"Kymenlaakso\", \"Lapland\", \"North Karelia\", \"North Ostrobothnia\", \"North Savo\", \"Ostrobothnia\", \"Pirkanmaa\", \"P\\u00e4ij\\u00e4t-H\\u00e4me\", \"Satakunta\", \"South Karelia\", \"South Ostrobothnia\", \"South Savo\", \"Southwest\", \"Uusimaa\", \"WHOLE COUNTRY\", \"\\u00c5land\"], \"y\": [9807, 2123, 2154, 7337, 10770, 5519, 6389, 12744, 7664, 13614, 26384, 11285, 8117, 8351, 4591, 4945, 36828, 240435, 423494, 4758]}],                        {\"legend\": {\"bgcolor\": \"#F5F6F9\", \"font\": {\"color\": \"#4D5663\"}}, \"paper_bgcolor\": \"#F5F6F9\", \"plot_bgcolor\": \"#F5F6F9\", \"template\": {\"data\": {\"bar\": [{\"error_x\": {\"color\": \"#2a3f5f\"}, \"error_y\": {\"color\": \"#2a3f5f\"}, \"marker\": {\"line\": {\"color\": \"#E5ECF6\", \"width\": 0.5}}, \"type\": \"bar\"}], \"barpolar\": [{\"marker\": {\"line\": {\"color\": \"#E5ECF6\", \"width\": 0.5}}, \"type\": \"barpolar\"}], \"carpet\": [{\"aaxis\": {\"endlinecolor\": \"#2a3f5f\", \"gridcolor\": \"white\", \"linecolor\": \"white\", \"minorgridcolor\": \"white\", \"startlinecolor\": \"#2a3f5f\"}, \"baxis\": {\"endlinecolor\": \"#2a3f5f\", \"gridcolor\": \"white\", \"linecolor\": \"white\", \"minorgridcolor\": \"white\", \"startlinecolor\": \"#2a3f5f\"}, \"type\": \"carpet\"}], \"choropleth\": [{\"colorbar\": {\"outlinewidth\": 0, \"ticks\": \"\"}, \"type\": \"choropleth\"}], \"contour\": [{\"colorbar\": {\"outlinewidth\": 0, \"ticks\": \"\"}, \"colorscale\": [[0.0, \"#0d0887\"], [0.1111111111111111, \"#46039f\"], [0.2222222222222222, \"#7201a8\"], [0.3333333333333333, \"#9c179e\"], [0.4444444444444444, \"#bd3786\"], [0.5555555555555556, \"#d8576b\"], [0.6666666666666666, \"#ed7953\"], [0.7777777777777778, \"#fb9f3a\"], [0.8888888888888888, \"#fdca26\"], [1.0, \"#f0f921\"]], \"type\": \"contour\"}], \"contourcarpet\": [{\"colorbar\": {\"outlinewidth\": 0, \"ticks\": \"\"}, \"type\": \"contourcarpet\"}], \"heatmap\": [{\"colorbar\": {\"outlinewidth\": 0, \"ticks\": \"\"}, \"colorscale\": [[0.0, \"#0d0887\"], [0.1111111111111111, \"#46039f\"], [0.2222222222222222, \"#7201a8\"], [0.3333333333333333, \"#9c179e\"], [0.4444444444444444, \"#bd3786\"], [0.5555555555555556, \"#d8576b\"], [0.6666666666666666, \"#ed7953\"], [0.7777777777777778, \"#fb9f3a\"], [0.8888888888888888, \"#fdca26\"], [1.0, \"#f0f921\"]], \"type\": \"heatmap\"}], \"heatmapgl\": [{\"colorbar\": {\"outlinewidth\": 0, \"ticks\": \"\"}, \"colorscale\": [[0.0, \"#0d0887\"], [0.1111111111111111, \"#46039f\"], [0.2222222222222222, \"#7201a8\"], [0.3333333333333333, \"#9c179e\"], [0.4444444444444444, \"#bd3786\"], [0.5555555555555556, \"#d8576b\"], [0.6666666666666666, \"#ed7953\"], [0.7777777777777778, \"#fb9f3a\"], [0.8888888888888888, \"#fdca26\"], [1.0, \"#f0f921\"]], \"type\": \"heatmapgl\"}], \"histogram\": [{\"marker\": {\"colorbar\": {\"outlinewidth\": 0, \"ticks\": \"\"}}, \"type\": \"histogram\"}], \"histogram2d\": [{\"colorbar\": {\"outlinewidth\": 0, \"ticks\": \"\"}, \"colorscale\": [[0.0, \"#0d0887\"], [0.1111111111111111, \"#46039f\"], [0.2222222222222222, \"#7201a8\"], [0.3333333333333333, \"#9c179e\"], [0.4444444444444444, \"#bd3786\"], [0.5555555555555556, \"#d8576b\"], [0.6666666666666666, \"#ed7953\"], [0.7777777777777778, \"#fb9f3a\"], [0.8888888888888888, \"#fdca26\"], [1.0, \"#f0f921\"]], \"type\": \"histogram2d\"}], \"histogram2dcontour\": [{\"colorbar\": {\"outlinewidth\": 0, \"ticks\": \"\"}, \"colorscale\": [[0.0, \"#0d0887\"], [0.1111111111111111, \"#46039f\"], [0.2222222222222222, \"#7201a8\"], [0.3333333333333333, \"#9c179e\"], [0.4444444444444444, \"#bd3786\"], [0.5555555555555556, \"#d8576b\"], [0.6666666666666666, \"#ed7953\"], [0.7777777777777778, \"#fb9f3a\"], [0.8888888888888888, \"#fdca26\"], [1.0, \"#f0f921\"]], \"type\": \"histogram2dcontour\"}], \"mesh3d\": [{\"colorbar\": {\"outlinewidth\": 0, \"ticks\": \"\"}, \"type\": \"mesh3d\"}], \"parcoords\": [{\"line\": {\"colorbar\": {\"outlinewidth\": 0, \"ticks\": \"\"}}, \"type\": \"parcoords\"}], \"pie\": [{\"automargin\": true, \"type\": \"pie\"}], \"scatter\": [{\"marker\": {\"colorbar\": {\"outlinewidth\": 0, \"ticks\": \"\"}}, \"type\": \"scatter\"}], \"scatter3d\": [{\"line\": {\"colorbar\": {\"outlinewidth\": 0, \"ticks\": \"\"}}, \"marker\": {\"colorbar\": {\"outlinewidth\": 0, \"ticks\": \"\"}}, \"type\": \"scatter3d\"}], \"scattercarpet\": [{\"marker\": {\"colorbar\": {\"outlinewidth\": 0, \"ticks\": \"\"}}, \"type\": \"scattercarpet\"}], \"scattergeo\": [{\"marker\": {\"colorbar\": {\"outlinewidth\": 0, \"ticks\": \"\"}}, \"type\": \"scattergeo\"}], \"scattergl\": [{\"marker\": {\"colorbar\": {\"outlinewidth\": 0, \"ticks\": \"\"}}, \"type\": \"scattergl\"}], \"scattermapbox\": [{\"marker\": {\"colorbar\": {\"outlinewidth\": 0, \"ticks\": \"\"}}, \"type\": \"scattermapbox\"}], \"scatterpolar\": [{\"marker\": {\"colorbar\": {\"outlinewidth\": 0, \"ticks\": \"\"}}, \"type\": \"scatterpolar\"}], \"scatterpolargl\": [{\"marker\": {\"colorbar\": {\"outlinewidth\": 0, \"ticks\": \"\"}}, \"type\": \"scatterpolargl\"}], \"scatterternary\": [{\"marker\": {\"colorbar\": {\"outlinewidth\": 0, \"ticks\": \"\"}}, \"type\": \"scatterternary\"}], \"surface\": [{\"colorbar\": {\"outlinewidth\": 0, \"ticks\": \"\"}, \"colorscale\": [[0.0, \"#0d0887\"], [0.1111111111111111, \"#46039f\"], [0.2222222222222222, \"#7201a8\"], [0.3333333333333333, \"#9c179e\"], [0.4444444444444444, \"#bd3786\"], [0.5555555555555556, \"#d8576b\"], [0.6666666666666666, \"#ed7953\"], [0.7777777777777778, \"#fb9f3a\"], [0.8888888888888888, \"#fdca26\"], [1.0, \"#f0f921\"]], \"type\": \"surface\"}], \"table\": [{\"cells\": {\"fill\": {\"color\": \"#EBF0F8\"}, \"line\": {\"color\": \"white\"}}, \"header\": {\"fill\": {\"color\": \"#C8D4E3\"}, \"line\": {\"color\": \"white\"}}, \"type\": \"table\"}]}, \"layout\": {\"annotationdefaults\": {\"arrowcolor\": \"#2a3f5f\", \"arrowhead\": 0, \"arrowwidth\": 1}, \"coloraxis\": {\"colorbar\": {\"outlinewidth\": 0, \"ticks\": \"\"}}, \"colorscale\": {\"diverging\": [[0, \"#8e0152\"], [0.1, \"#c51b7d\"], [0.2, \"#de77ae\"], [0.3, \"#f1b6da\"], [0.4, \"#fde0ef\"], [0.5, \"#f7f7f7\"], [0.6, \"#e6f5d0\"], [0.7, \"#b8e186\"], [0.8, \"#7fbc41\"], [0.9, \"#4d9221\"], [1, \"#276419\"]], \"sequential\": [[0.0, \"#0d0887\"], [0.1111111111111111, \"#46039f\"], [0.2222222222222222, \"#7201a8\"], [0.3333333333333333, \"#9c179e\"], [0.4444444444444444, \"#bd3786\"], [0.5555555555555556, \"#d8576b\"], [0.6666666666666666, \"#ed7953\"], [0.7777777777777778, \"#fb9f3a\"], [0.8888888888888888, \"#fdca26\"], [1.0, \"#f0f921\"]], \"sequentialminus\": [[0.0, \"#0d0887\"], [0.1111111111111111, \"#46039f\"], [0.2222222222222222, \"#7201a8\"], [0.3333333333333333, \"#9c179e\"], [0.4444444444444444, \"#bd3786\"], [0.5555555555555556, \"#d8576b\"], [0.6666666666666666, \"#ed7953\"], [0.7777777777777778, \"#fb9f3a\"], [0.8888888888888888, \"#fdca26\"], [1.0, \"#f0f921\"]]}, \"colorway\": [\"#636efa\", \"#EF553B\", \"#00cc96\", \"#ab63fa\", \"#FFA15A\", \"#19d3f3\", \"#FF6692\", \"#B6E880\", \"#FF97FF\", \"#FECB52\"], \"font\": {\"color\": \"#2a3f5f\"}, \"geo\": {\"bgcolor\": \"white\", \"lakecolor\": \"white\", \"landcolor\": \"#E5ECF6\", \"showlakes\": true, \"showland\": true, \"subunitcolor\": \"white\"}, \"hoverlabel\": {\"align\": \"left\"}, \"hovermode\": \"closest\", \"mapbox\": {\"style\": \"light\"}, \"paper_bgcolor\": \"white\", \"plot_bgcolor\": \"#E5ECF6\", \"polar\": {\"angularaxis\": {\"gridcolor\": \"white\", \"linecolor\": \"white\", \"ticks\": \"\"}, \"bgcolor\": \"#E5ECF6\", \"radialaxis\": {\"gridcolor\": \"white\", \"linecolor\": \"white\", \"ticks\": \"\"}}, \"scene\": {\"xaxis\": {\"backgroundcolor\": \"#E5ECF6\", \"gridcolor\": \"white\", \"gridwidth\": 2, \"linecolor\": \"white\", \"showbackground\": true, \"ticks\": \"\", \"zerolinecolor\": \"white\"}, \"yaxis\": {\"backgroundcolor\": \"#E5ECF6\", \"gridcolor\": \"white\", \"gridwidth\": 2, \"linecolor\": \"white\", \"showbackground\": true, \"ticks\": \"\", \"zerolinecolor\": \"white\"}, \"zaxis\": {\"backgroundcolor\": \"#E5ECF6\", \"gridcolor\": \"white\", \"gridwidth\": 2, \"linecolor\": \"white\", \"showbackground\": true, \"ticks\": \"\", \"zerolinecolor\": \"white\"}}, \"shapedefaults\": {\"line\": {\"color\": \"#2a3f5f\"}}, \"ternary\": {\"aaxis\": {\"gridcolor\": \"white\", \"linecolor\": \"white\", \"ticks\": \"\"}, \"baxis\": {\"gridcolor\": \"white\", \"linecolor\": \"white\", \"ticks\": \"\"}, \"bgcolor\": \"#E5ECF6\", \"caxis\": {\"gridcolor\": \"white\", \"linecolor\": \"white\", \"ticks\": \"\"}}, \"title\": {\"x\": 0.05}, \"xaxis\": {\"automargin\": true, \"gridcolor\": \"white\", \"linecolor\": \"white\", \"ticks\": \"\", \"title\": {\"standoff\": 15}, \"zerolinecolor\": \"white\", \"zerolinewidth\": 2}, \"yaxis\": {\"automargin\": true, \"gridcolor\": \"white\", \"linecolor\": \"white\", \"ticks\": \"\", \"title\": {\"standoff\": 15}, \"zerolinecolor\": \"white\", \"zerolinewidth\": 2}}}, \"title\": {\"font\": {\"color\": \"#4D5663\"}, \"text\": \"Immigrant population in Finland on differnt categories\"}, \"xaxis\": {\"gridcolor\": \"#E1E5ED\", \"showgrid\": true, \"tickfont\": {\"color\": \"#4D5663\"}, \"title\": {\"font\": {\"color\": \"#4D5663\"}, \"text\": \"Municipalities\"}, \"zerolinecolor\": \"#E1E5ED\"}, \"yaxis\": {\"gridcolor\": \"#E1E5ED\", \"showgrid\": true, \"tickfont\": {\"color\": \"#4D5663\"}, \"title\": {\"font\": {\"color\": \"#4D5663\"}, \"text\": \"Population\"}, \"zerolinecolor\": \"#E1E5ED\"}},                        {\"showLink\": true, \"linkText\": \"Export to plot.ly\", \"plotlyServerURL\": \"https://plot.ly\", \"responsive\": true}                    ).then(function(){\n",
       "                            \n",
       "var gd = document.getElementById('d1dbe072-c945-404f-9206-8596eb44b738');\n",
       "var x = new MutationObserver(function (mutations, observer) {{\n",
       "        var display = window.getComputedStyle(gd).display;\n",
       "        if (!display || display === 'none') {{\n",
       "            console.log([gd, 'removed!']);\n",
       "            Plotly.purge(gd);\n",
       "            observer.disconnect();\n",
       "        }}\n",
       "}});\n",
       "\n",
       "// Listen for the removal of the full notebook cells\n",
       "var notebookContainer = gd.closest('#notebook-container');\n",
       "if (notebookContainer) {{\n",
       "    x.observe(notebookContainer, {childList: true});\n",
       "}}\n",
       "\n",
       "// Listen for the clearing of the current output cell\n",
       "var outputEl = gd.closest('.output');\n",
       "if (outputEl) {{\n",
       "    x.observe(outputEl, {childList: true});\n",
       "}}\n",
       "\n",
       "                        })                };                });            </script>        </div>"
      ]
     },
     "metadata": {},
     "output_type": "display_data"
    }
   ],
   "source": [
    "dfm2.iplot(mode='lines',x='Region',y='value',categories='Attribute',\n",
    "              xTitle='Municipalities', yTitle='Population',title='Immigrant population in Finland on differnt categories')"
   ]
  },
  {
   "cell_type": "markdown",
   "metadata": {},
   "source": [
    "We can see the immigrant population trend in different municipalites of Finland. Persons with foreign background has the highest values according to the figure above"
   ]
  },
  {
   "cell_type": "markdown",
   "metadata": {},
   "source": [
    "# <mark> TIDYING DATASET METHOD 2"
   ]
  },
  {
   "cell_type": "code",
   "execution_count": 31,
   "metadata": {
    "ExecuteTime": {
     "end_time": "2020-12-11T13:14:53.229320Z",
     "start_time": "2020-12-11T13:14:53.193610Z"
    }
   },
   "outputs": [],
   "source": [
    "pi=dfm.pivot_table(index='Region',columns='Attribute',values='value',aggfunc=np.max)"
   ]
  },
  {
   "cell_type": "code",
   "execution_count": 32,
   "metadata": {
    "ExecuteTime": {
     "end_time": "2020-12-11T13:14:53.255820Z",
     "start_time": "2020-12-11T13:14:53.232380Z"
    }
   },
   "outputs": [
    {
     "data": {
      "text/html": [
       "<div>\n",
       "<style scoped>\n",
       "    .dataframe tbody tr th:only-of-type {\n",
       "        vertical-align: middle;\n",
       "    }\n",
       "\n",
       "    .dataframe tbody tr th {\n",
       "        vertical-align: top;\n",
       "    }\n",
       "\n",
       "    .dataframe thead th {\n",
       "        text-align: right;\n",
       "    }\n",
       "</style>\n",
       "<table border=\"1\" class=\"dataframe\">\n",
       "  <thead>\n",
       "    <tr style=\"text-align: right;\">\n",
       "      <th>Attribute</th>\n",
       "      <th>Citizens of foreign countries</th>\n",
       "      <th>Foreign-language speakers</th>\n",
       "      <th>Persons born abroad</th>\n",
       "      <th>Persons with foreign background</th>\n",
       "    </tr>\n",
       "    <tr>\n",
       "      <th>Region</th>\n",
       "      <th></th>\n",
       "      <th></th>\n",
       "      <th></th>\n",
       "      <th></th>\n",
       "    </tr>\n",
       "  </thead>\n",
       "  <tbody>\n",
       "    <tr>\n",
       "      <th>Central</th>\n",
       "      <td>6309</td>\n",
       "      <td>9531</td>\n",
       "      <td>10731</td>\n",
       "      <td>9807</td>\n",
       "    </tr>\n",
       "    <tr>\n",
       "      <th>Central Ostrobothnia</th>\n",
       "      <td>1537</td>\n",
       "      <td>2038</td>\n",
       "      <td>2626</td>\n",
       "      <td>2123</td>\n",
       "    </tr>\n",
       "    <tr>\n",
       "      <th>Kainuu</th>\n",
       "      <td>1395</td>\n",
       "      <td>2090</td>\n",
       "      <td>2283</td>\n",
       "      <td>2154</td>\n",
       "    </tr>\n",
       "    <tr>\n",
       "      <th>Kanta-Häme</th>\n",
       "      <td>5206</td>\n",
       "      <td>7221</td>\n",
       "      <td>7359</td>\n",
       "      <td>7337</td>\n",
       "    </tr>\n",
       "    <tr>\n",
       "      <th>Kymenlaakso</th>\n",
       "      <td>7218</td>\n",
       "      <td>10496</td>\n",
       "      <td>10377</td>\n",
       "      <td>10770</td>\n",
       "    </tr>\n",
       "    <tr>\n",
       "      <th>Lapland</th>\n",
       "      <td>4102</td>\n",
       "      <td>5038</td>\n",
       "      <td>7701</td>\n",
       "      <td>5519</td>\n",
       "    </tr>\n",
       "    <tr>\n",
       "      <th>North Karelia</th>\n",
       "      <td>3909</td>\n",
       "      <td>6249</td>\n",
       "      <td>6357</td>\n",
       "      <td>6389</td>\n",
       "    </tr>\n",
       "    <tr>\n",
       "      <th>North Ostrobothnia</th>\n",
       "      <td>8908</td>\n",
       "      <td>12358</td>\n",
       "      <td>15377</td>\n",
       "      <td>12744</td>\n",
       "    </tr>\n",
       "    <tr>\n",
       "      <th>North Savo</th>\n",
       "      <td>5091</td>\n",
       "      <td>7506</td>\n",
       "      <td>7879</td>\n",
       "      <td>7664</td>\n",
       "    </tr>\n",
       "    <tr>\n",
       "      <th>Ostrobothnia</th>\n",
       "      <td>9634</td>\n",
       "      <td>12665</td>\n",
       "      <td>14905</td>\n",
       "      <td>13614</td>\n",
       "    </tr>\n",
       "    <tr>\n",
       "      <th>Pirkanmaa</th>\n",
       "      <td>16329</td>\n",
       "      <td>26166</td>\n",
       "      <td>26511</td>\n",
       "      <td>26384</td>\n",
       "    </tr>\n",
       "    <tr>\n",
       "      <th>Päijät-Häme</th>\n",
       "      <td>7134</td>\n",
       "      <td>10994</td>\n",
       "      <td>11135</td>\n",
       "      <td>11285</td>\n",
       "    </tr>\n",
       "    <tr>\n",
       "      <th>Satakunta</th>\n",
       "      <td>6280</td>\n",
       "      <td>7927</td>\n",
       "      <td>8640</td>\n",
       "      <td>8117</td>\n",
       "    </tr>\n",
       "    <tr>\n",
       "      <th>South Karelia</th>\n",
       "      <td>4974</td>\n",
       "      <td>8092</td>\n",
       "      <td>8000</td>\n",
       "      <td>8351</td>\n",
       "    </tr>\n",
       "    <tr>\n",
       "      <th>South Ostrobothnia</th>\n",
       "      <td>3344</td>\n",
       "      <td>4344</td>\n",
       "      <td>5406</td>\n",
       "      <td>4591</td>\n",
       "    </tr>\n",
       "    <tr>\n",
       "      <th>South Savo</th>\n",
       "      <td>3241</td>\n",
       "      <td>4862</td>\n",
       "      <td>4925</td>\n",
       "      <td>4945</td>\n",
       "    </tr>\n",
       "    <tr>\n",
       "      <th>Southwest</th>\n",
       "      <td>21913</td>\n",
       "      <td>35809</td>\n",
       "      <td>34140</td>\n",
       "      <td>36828</td>\n",
       "    </tr>\n",
       "    <tr>\n",
       "      <th>Uusimaa</th>\n",
       "      <td>149253</td>\n",
       "      <td>236959</td>\n",
       "      <td>214768</td>\n",
       "      <td>240435</td>\n",
       "    </tr>\n",
       "    <tr>\n",
       "      <th>WHOLE COUNTRY</th>\n",
       "      <td>267629</td>\n",
       "      <td>412644</td>\n",
       "      <td>404179</td>\n",
       "      <td>423494</td>\n",
       "    </tr>\n",
       "    <tr>\n",
       "      <th>Åland</th>\n",
       "      <td>3421</td>\n",
       "      <td>2621</td>\n",
       "      <td>5497</td>\n",
       "      <td>4758</td>\n",
       "    </tr>\n",
       "  </tbody>\n",
       "</table>\n",
       "</div>"
      ],
      "text/plain": [
       "Attribute             Citizens of foreign countries  \\\n",
       "Region                                                \n",
       "Central                                        6309   \n",
       "Central Ostrobothnia                           1537   \n",
       "Kainuu                                         1395   \n",
       "Kanta-Häme                                     5206   \n",
       "Kymenlaakso                                    7218   \n",
       "Lapland                                        4102   \n",
       "North Karelia                                  3909   \n",
       "North Ostrobothnia                             8908   \n",
       "North Savo                                     5091   \n",
       "Ostrobothnia                                   9634   \n",
       "Pirkanmaa                                     16329   \n",
       "Päijät-Häme                                    7134   \n",
       "Satakunta                                      6280   \n",
       "South Karelia                                  4974   \n",
       "South Ostrobothnia                             3344   \n",
       "South Savo                                     3241   \n",
       "Southwest                                     21913   \n",
       "Uusimaa                                      149253   \n",
       "WHOLE COUNTRY                                267629   \n",
       "Åland                                          3421   \n",
       "\n",
       "Attribute             Foreign-language speakers  Persons born abroad  \\\n",
       "Region                                                                 \n",
       "Central                                    9531                10731   \n",
       "Central Ostrobothnia                       2038                 2626   \n",
       "Kainuu                                     2090                 2283   \n",
       "Kanta-Häme                                 7221                 7359   \n",
       "Kymenlaakso                               10496                10377   \n",
       "Lapland                                    5038                 7701   \n",
       "North Karelia                              6249                 6357   \n",
       "North Ostrobothnia                        12358                15377   \n",
       "North Savo                                 7506                 7879   \n",
       "Ostrobothnia                              12665                14905   \n",
       "Pirkanmaa                                 26166                26511   \n",
       "Päijät-Häme                               10994                11135   \n",
       "Satakunta                                  7927                 8640   \n",
       "South Karelia                              8092                 8000   \n",
       "South Ostrobothnia                         4344                 5406   \n",
       "South Savo                                 4862                 4925   \n",
       "Southwest                                 35809                34140   \n",
       "Uusimaa                                  236959               214768   \n",
       "WHOLE COUNTRY                            412644               404179   \n",
       "Åland                                      2621                 5497   \n",
       "\n",
       "Attribute             Persons with foreign background  \n",
       "Region                                                 \n",
       "Central                                          9807  \n",
       "Central Ostrobothnia                             2123  \n",
       "Kainuu                                           2154  \n",
       "Kanta-Häme                                       7337  \n",
       "Kymenlaakso                                     10770  \n",
       "Lapland                                          5519  \n",
       "North Karelia                                    6389  \n",
       "North Ostrobothnia                              12744  \n",
       "North Savo                                       7664  \n",
       "Ostrobothnia                                    13614  \n",
       "Pirkanmaa                                       26384  \n",
       "Päijät-Häme                                     11285  \n",
       "Satakunta                                        8117  \n",
       "South Karelia                                    8351  \n",
       "South Ostrobothnia                               4591  \n",
       "South Savo                                       4945  \n",
       "Southwest                                       36828  \n",
       "Uusimaa                                        240435  \n",
       "WHOLE COUNTRY                                  423494  \n",
       "Åland                                            4758  "
      ]
     },
     "execution_count": 32,
     "metadata": {},
     "output_type": "execute_result"
    }
   ],
   "source": [
    "pi"
   ]
  },
  {
   "cell_type": "code",
   "execution_count": 33,
   "metadata": {
    "ExecuteTime": {
     "end_time": "2020-12-11T13:14:53.356171Z",
     "start_time": "2020-12-11T13:14:53.260404Z"
    }
   },
   "outputs": [
    {
     "data": {
      "application/vnd.plotly.v1+json": {
       "config": {
        "linkText": "Export to plot.ly",
        "plotlyServerURL": "https://plot.ly",
        "showLink": true
       },
       "data": [
        {
         "marker": {
          "color": "rgba(255, 153, 51, 0.6)",
          "line": {
           "color": "rgba(255, 153, 51, 1.0)",
           "width": 1
          }
         },
         "name": "Citizens of foreign countries",
         "orientation": "v",
         "text": "",
         "type": "bar",
         "x": [
          "Central",
          "Central Ostrobothnia",
          "Kainuu",
          "Kanta-Häme",
          "Kymenlaakso",
          "Lapland",
          "North Karelia",
          "North Ostrobothnia",
          "North Savo",
          "Ostrobothnia",
          "Pirkanmaa",
          "Päijät-Häme",
          "Satakunta",
          "South Karelia",
          "South Ostrobothnia",
          "South Savo",
          "Southwest",
          "Uusimaa",
          "WHOLE COUNTRY",
          "Åland"
         ],
         "y": [
          6309,
          1537,
          1395,
          5206,
          7218,
          4102,
          3909,
          8908,
          5091,
          9634,
          16329,
          7134,
          6280,
          4974,
          3344,
          3241,
          21913,
          149253,
          267629,
          3421
         ]
        },
        {
         "marker": {
          "color": "rgba(55, 128, 191, 0.6)",
          "line": {
           "color": "rgba(55, 128, 191, 1.0)",
           "width": 1
          }
         },
         "name": "Foreign-language speakers",
         "orientation": "v",
         "text": "",
         "type": "bar",
         "x": [
          "Central",
          "Central Ostrobothnia",
          "Kainuu",
          "Kanta-Häme",
          "Kymenlaakso",
          "Lapland",
          "North Karelia",
          "North Ostrobothnia",
          "North Savo",
          "Ostrobothnia",
          "Pirkanmaa",
          "Päijät-Häme",
          "Satakunta",
          "South Karelia",
          "South Ostrobothnia",
          "South Savo",
          "Southwest",
          "Uusimaa",
          "WHOLE COUNTRY",
          "Åland"
         ],
         "y": [
          9531,
          2038,
          2090,
          7221,
          10496,
          5038,
          6249,
          12358,
          7506,
          12665,
          26166,
          10994,
          7927,
          8092,
          4344,
          4862,
          35809,
          236959,
          412644,
          2621
         ]
        },
        {
         "marker": {
          "color": "rgba(50, 171, 96, 0.6)",
          "line": {
           "color": "rgba(50, 171, 96, 1.0)",
           "width": 1
          }
         },
         "name": "Persons born abroad",
         "orientation": "v",
         "text": "",
         "type": "bar",
         "x": [
          "Central",
          "Central Ostrobothnia",
          "Kainuu",
          "Kanta-Häme",
          "Kymenlaakso",
          "Lapland",
          "North Karelia",
          "North Ostrobothnia",
          "North Savo",
          "Ostrobothnia",
          "Pirkanmaa",
          "Päijät-Häme",
          "Satakunta",
          "South Karelia",
          "South Ostrobothnia",
          "South Savo",
          "Southwest",
          "Uusimaa",
          "WHOLE COUNTRY",
          "Åland"
         ],
         "y": [
          10731,
          2626,
          2283,
          7359,
          10377,
          7701,
          6357,
          15377,
          7879,
          14905,
          26511,
          11135,
          8640,
          8000,
          5406,
          4925,
          34140,
          214768,
          404179,
          5497
         ]
        },
        {
         "marker": {
          "color": "rgba(128, 0, 128, 0.6)",
          "line": {
           "color": "rgba(128, 0, 128, 1.0)",
           "width": 1
          }
         },
         "name": "Persons with foreign background",
         "orientation": "v",
         "text": "",
         "type": "bar",
         "x": [
          "Central",
          "Central Ostrobothnia",
          "Kainuu",
          "Kanta-Häme",
          "Kymenlaakso",
          "Lapland",
          "North Karelia",
          "North Ostrobothnia",
          "North Savo",
          "Ostrobothnia",
          "Pirkanmaa",
          "Päijät-Häme",
          "Satakunta",
          "South Karelia",
          "South Ostrobothnia",
          "South Savo",
          "Southwest",
          "Uusimaa",
          "WHOLE COUNTRY",
          "Åland"
         ],
         "y": [
          9807,
          2123,
          2154,
          7337,
          10770,
          5519,
          6389,
          12744,
          7664,
          13614,
          26384,
          11285,
          8117,
          8351,
          4591,
          4945,
          36828,
          240435,
          423494,
          4758
         ]
        }
       ],
       "layout": {
        "legend": {
         "bgcolor": "#F5F6F9",
         "font": {
          "color": "#4D5663"
         }
        },
        "paper_bgcolor": "#F5F6F9",
        "plot_bgcolor": "#F5F6F9",
        "template": {
         "data": {
          "bar": [
           {
            "error_x": {
             "color": "#2a3f5f"
            },
            "error_y": {
             "color": "#2a3f5f"
            },
            "marker": {
             "line": {
              "color": "#E5ECF6",
              "width": 0.5
             }
            },
            "type": "bar"
           }
          ],
          "barpolar": [
           {
            "marker": {
             "line": {
              "color": "#E5ECF6",
              "width": 0.5
             }
            },
            "type": "barpolar"
           }
          ],
          "carpet": [
           {
            "aaxis": {
             "endlinecolor": "#2a3f5f",
             "gridcolor": "white",
             "linecolor": "white",
             "minorgridcolor": "white",
             "startlinecolor": "#2a3f5f"
            },
            "baxis": {
             "endlinecolor": "#2a3f5f",
             "gridcolor": "white",
             "linecolor": "white",
             "minorgridcolor": "white",
             "startlinecolor": "#2a3f5f"
            },
            "type": "carpet"
           }
          ],
          "choropleth": [
           {
            "colorbar": {
             "outlinewidth": 0,
             "ticks": ""
            },
            "type": "choropleth"
           }
          ],
          "contour": [
           {
            "colorbar": {
             "outlinewidth": 0,
             "ticks": ""
            },
            "colorscale": [
             [
              0,
              "#0d0887"
             ],
             [
              0.1111111111111111,
              "#46039f"
             ],
             [
              0.2222222222222222,
              "#7201a8"
             ],
             [
              0.3333333333333333,
              "#9c179e"
             ],
             [
              0.4444444444444444,
              "#bd3786"
             ],
             [
              0.5555555555555556,
              "#d8576b"
             ],
             [
              0.6666666666666666,
              "#ed7953"
             ],
             [
              0.7777777777777778,
              "#fb9f3a"
             ],
             [
              0.8888888888888888,
              "#fdca26"
             ],
             [
              1,
              "#f0f921"
             ]
            ],
            "type": "contour"
           }
          ],
          "contourcarpet": [
           {
            "colorbar": {
             "outlinewidth": 0,
             "ticks": ""
            },
            "type": "contourcarpet"
           }
          ],
          "heatmap": [
           {
            "colorbar": {
             "outlinewidth": 0,
             "ticks": ""
            },
            "colorscale": [
             [
              0,
              "#0d0887"
             ],
             [
              0.1111111111111111,
              "#46039f"
             ],
             [
              0.2222222222222222,
              "#7201a8"
             ],
             [
              0.3333333333333333,
              "#9c179e"
             ],
             [
              0.4444444444444444,
              "#bd3786"
             ],
             [
              0.5555555555555556,
              "#d8576b"
             ],
             [
              0.6666666666666666,
              "#ed7953"
             ],
             [
              0.7777777777777778,
              "#fb9f3a"
             ],
             [
              0.8888888888888888,
              "#fdca26"
             ],
             [
              1,
              "#f0f921"
             ]
            ],
            "type": "heatmap"
           }
          ],
          "heatmapgl": [
           {
            "colorbar": {
             "outlinewidth": 0,
             "ticks": ""
            },
            "colorscale": [
             [
              0,
              "#0d0887"
             ],
             [
              0.1111111111111111,
              "#46039f"
             ],
             [
              0.2222222222222222,
              "#7201a8"
             ],
             [
              0.3333333333333333,
              "#9c179e"
             ],
             [
              0.4444444444444444,
              "#bd3786"
             ],
             [
              0.5555555555555556,
              "#d8576b"
             ],
             [
              0.6666666666666666,
              "#ed7953"
             ],
             [
              0.7777777777777778,
              "#fb9f3a"
             ],
             [
              0.8888888888888888,
              "#fdca26"
             ],
             [
              1,
              "#f0f921"
             ]
            ],
            "type": "heatmapgl"
           }
          ],
          "histogram": [
           {
            "marker": {
             "colorbar": {
              "outlinewidth": 0,
              "ticks": ""
             }
            },
            "type": "histogram"
           }
          ],
          "histogram2d": [
           {
            "colorbar": {
             "outlinewidth": 0,
             "ticks": ""
            },
            "colorscale": [
             [
              0,
              "#0d0887"
             ],
             [
              0.1111111111111111,
              "#46039f"
             ],
             [
              0.2222222222222222,
              "#7201a8"
             ],
             [
              0.3333333333333333,
              "#9c179e"
             ],
             [
              0.4444444444444444,
              "#bd3786"
             ],
             [
              0.5555555555555556,
              "#d8576b"
             ],
             [
              0.6666666666666666,
              "#ed7953"
             ],
             [
              0.7777777777777778,
              "#fb9f3a"
             ],
             [
              0.8888888888888888,
              "#fdca26"
             ],
             [
              1,
              "#f0f921"
             ]
            ],
            "type": "histogram2d"
           }
          ],
          "histogram2dcontour": [
           {
            "colorbar": {
             "outlinewidth": 0,
             "ticks": ""
            },
            "colorscale": [
             [
              0,
              "#0d0887"
             ],
             [
              0.1111111111111111,
              "#46039f"
             ],
             [
              0.2222222222222222,
              "#7201a8"
             ],
             [
              0.3333333333333333,
              "#9c179e"
             ],
             [
              0.4444444444444444,
              "#bd3786"
             ],
             [
              0.5555555555555556,
              "#d8576b"
             ],
             [
              0.6666666666666666,
              "#ed7953"
             ],
             [
              0.7777777777777778,
              "#fb9f3a"
             ],
             [
              0.8888888888888888,
              "#fdca26"
             ],
             [
              1,
              "#f0f921"
             ]
            ],
            "type": "histogram2dcontour"
           }
          ],
          "mesh3d": [
           {
            "colorbar": {
             "outlinewidth": 0,
             "ticks": ""
            },
            "type": "mesh3d"
           }
          ],
          "parcoords": [
           {
            "line": {
             "colorbar": {
              "outlinewidth": 0,
              "ticks": ""
             }
            },
            "type": "parcoords"
           }
          ],
          "pie": [
           {
            "automargin": true,
            "type": "pie"
           }
          ],
          "scatter": [
           {
            "marker": {
             "colorbar": {
              "outlinewidth": 0,
              "ticks": ""
             }
            },
            "type": "scatter"
           }
          ],
          "scatter3d": [
           {
            "line": {
             "colorbar": {
              "outlinewidth": 0,
              "ticks": ""
             }
            },
            "marker": {
             "colorbar": {
              "outlinewidth": 0,
              "ticks": ""
             }
            },
            "type": "scatter3d"
           }
          ],
          "scattercarpet": [
           {
            "marker": {
             "colorbar": {
              "outlinewidth": 0,
              "ticks": ""
             }
            },
            "type": "scattercarpet"
           }
          ],
          "scattergeo": [
           {
            "marker": {
             "colorbar": {
              "outlinewidth": 0,
              "ticks": ""
             }
            },
            "type": "scattergeo"
           }
          ],
          "scattergl": [
           {
            "marker": {
             "colorbar": {
              "outlinewidth": 0,
              "ticks": ""
             }
            },
            "type": "scattergl"
           }
          ],
          "scattermapbox": [
           {
            "marker": {
             "colorbar": {
              "outlinewidth": 0,
              "ticks": ""
             }
            },
            "type": "scattermapbox"
           }
          ],
          "scatterpolar": [
           {
            "marker": {
             "colorbar": {
              "outlinewidth": 0,
              "ticks": ""
             }
            },
            "type": "scatterpolar"
           }
          ],
          "scatterpolargl": [
           {
            "marker": {
             "colorbar": {
              "outlinewidth": 0,
              "ticks": ""
             }
            },
            "type": "scatterpolargl"
           }
          ],
          "scatterternary": [
           {
            "marker": {
             "colorbar": {
              "outlinewidth": 0,
              "ticks": ""
             }
            },
            "type": "scatterternary"
           }
          ],
          "surface": [
           {
            "colorbar": {
             "outlinewidth": 0,
             "ticks": ""
            },
            "colorscale": [
             [
              0,
              "#0d0887"
             ],
             [
              0.1111111111111111,
              "#46039f"
             ],
             [
              0.2222222222222222,
              "#7201a8"
             ],
             [
              0.3333333333333333,
              "#9c179e"
             ],
             [
              0.4444444444444444,
              "#bd3786"
             ],
             [
              0.5555555555555556,
              "#d8576b"
             ],
             [
              0.6666666666666666,
              "#ed7953"
             ],
             [
              0.7777777777777778,
              "#fb9f3a"
             ],
             [
              0.8888888888888888,
              "#fdca26"
             ],
             [
              1,
              "#f0f921"
             ]
            ],
            "type": "surface"
           }
          ],
          "table": [
           {
            "cells": {
             "fill": {
              "color": "#EBF0F8"
             },
             "line": {
              "color": "white"
             }
            },
            "header": {
             "fill": {
              "color": "#C8D4E3"
             },
             "line": {
              "color": "white"
             }
            },
            "type": "table"
           }
          ]
         },
         "layout": {
          "annotationdefaults": {
           "arrowcolor": "#2a3f5f",
           "arrowhead": 0,
           "arrowwidth": 1
          },
          "coloraxis": {
           "colorbar": {
            "outlinewidth": 0,
            "ticks": ""
           }
          },
          "colorscale": {
           "diverging": [
            [
             0,
             "#8e0152"
            ],
            [
             0.1,
             "#c51b7d"
            ],
            [
             0.2,
             "#de77ae"
            ],
            [
             0.3,
             "#f1b6da"
            ],
            [
             0.4,
             "#fde0ef"
            ],
            [
             0.5,
             "#f7f7f7"
            ],
            [
             0.6,
             "#e6f5d0"
            ],
            [
             0.7,
             "#b8e186"
            ],
            [
             0.8,
             "#7fbc41"
            ],
            [
             0.9,
             "#4d9221"
            ],
            [
             1,
             "#276419"
            ]
           ],
           "sequential": [
            [
             0,
             "#0d0887"
            ],
            [
             0.1111111111111111,
             "#46039f"
            ],
            [
             0.2222222222222222,
             "#7201a8"
            ],
            [
             0.3333333333333333,
             "#9c179e"
            ],
            [
             0.4444444444444444,
             "#bd3786"
            ],
            [
             0.5555555555555556,
             "#d8576b"
            ],
            [
             0.6666666666666666,
             "#ed7953"
            ],
            [
             0.7777777777777778,
             "#fb9f3a"
            ],
            [
             0.8888888888888888,
             "#fdca26"
            ],
            [
             1,
             "#f0f921"
            ]
           ],
           "sequentialminus": [
            [
             0,
             "#0d0887"
            ],
            [
             0.1111111111111111,
             "#46039f"
            ],
            [
             0.2222222222222222,
             "#7201a8"
            ],
            [
             0.3333333333333333,
             "#9c179e"
            ],
            [
             0.4444444444444444,
             "#bd3786"
            ],
            [
             0.5555555555555556,
             "#d8576b"
            ],
            [
             0.6666666666666666,
             "#ed7953"
            ],
            [
             0.7777777777777778,
             "#fb9f3a"
            ],
            [
             0.8888888888888888,
             "#fdca26"
            ],
            [
             1,
             "#f0f921"
            ]
           ]
          },
          "colorway": [
           "#636efa",
           "#EF553B",
           "#00cc96",
           "#ab63fa",
           "#FFA15A",
           "#19d3f3",
           "#FF6692",
           "#B6E880",
           "#FF97FF",
           "#FECB52"
          ],
          "font": {
           "color": "#2a3f5f"
          },
          "geo": {
           "bgcolor": "white",
           "lakecolor": "white",
           "landcolor": "#E5ECF6",
           "showlakes": true,
           "showland": true,
           "subunitcolor": "white"
          },
          "hoverlabel": {
           "align": "left"
          },
          "hovermode": "closest",
          "mapbox": {
           "style": "light"
          },
          "paper_bgcolor": "white",
          "plot_bgcolor": "#E5ECF6",
          "polar": {
           "angularaxis": {
            "gridcolor": "white",
            "linecolor": "white",
            "ticks": ""
           },
           "bgcolor": "#E5ECF6",
           "radialaxis": {
            "gridcolor": "white",
            "linecolor": "white",
            "ticks": ""
           }
          },
          "scene": {
           "xaxis": {
            "backgroundcolor": "#E5ECF6",
            "gridcolor": "white",
            "gridwidth": 2,
            "linecolor": "white",
            "showbackground": true,
            "ticks": "",
            "zerolinecolor": "white"
           },
           "yaxis": {
            "backgroundcolor": "#E5ECF6",
            "gridcolor": "white",
            "gridwidth": 2,
            "linecolor": "white",
            "showbackground": true,
            "ticks": "",
            "zerolinecolor": "white"
           },
           "zaxis": {
            "backgroundcolor": "#E5ECF6",
            "gridcolor": "white",
            "gridwidth": 2,
            "linecolor": "white",
            "showbackground": true,
            "ticks": "",
            "zerolinecolor": "white"
           }
          },
          "shapedefaults": {
           "line": {
            "color": "#2a3f5f"
           }
          },
          "ternary": {
           "aaxis": {
            "gridcolor": "white",
            "linecolor": "white",
            "ticks": ""
           },
           "baxis": {
            "gridcolor": "white",
            "linecolor": "white",
            "ticks": ""
           },
           "bgcolor": "#E5ECF6",
           "caxis": {
            "gridcolor": "white",
            "linecolor": "white",
            "ticks": ""
           }
          },
          "title": {
           "x": 0.05
          },
          "xaxis": {
           "automargin": true,
           "gridcolor": "white",
           "linecolor": "white",
           "ticks": "",
           "title": {
            "standoff": 15
           },
           "zerolinecolor": "white",
           "zerolinewidth": 2
          },
          "yaxis": {
           "automargin": true,
           "gridcolor": "white",
           "linecolor": "white",
           "ticks": "",
           "title": {
            "standoff": 15
           },
           "zerolinecolor": "white",
           "zerolinewidth": 2
          }
         }
        },
        "title": {
         "font": {
          "color": "#4D5663"
         },
         "text": "Immigrant population on different categories"
        },
        "xaxis": {
         "gridcolor": "#E1E5ED",
         "showgrid": true,
         "tickfont": {
          "color": "#4D5663"
         },
         "title": {
          "font": {
           "color": "#4D5663"
          },
          "text": "Municipalities"
         },
         "zerolinecolor": "#E1E5ED"
        },
        "yaxis": {
         "gridcolor": "#E1E5ED",
         "showgrid": true,
         "tickfont": {
          "color": "#4D5663"
         },
         "title": {
          "font": {
           "color": "#4D5663"
          },
          "text": "Population"
         },
         "zerolinecolor": "#E1E5ED"
        }
       }
      },
      "text/html": [
       "<div>                            <div id=\"64c4aa96-0614-41aa-99dd-268fb213a07a\" class=\"plotly-graph-div\" style=\"height:525px; width:100%;\"></div>            <script type=\"text/javascript\">                require([\"plotly\"], function(Plotly) {                    window.PLOTLYENV=window.PLOTLYENV || {};\n",
       "                    window.PLOTLYENV.BASE_URL='https://plot.ly';                                    if (document.getElementById(\"64c4aa96-0614-41aa-99dd-268fb213a07a\")) {                    Plotly.newPlot(                        \"64c4aa96-0614-41aa-99dd-268fb213a07a\",                        [{\"marker\": {\"color\": \"rgba(255, 153, 51, 0.6)\", \"line\": {\"color\": \"rgba(255, 153, 51, 1.0)\", \"width\": 1}}, \"name\": \"Citizens of foreign countries\", \"orientation\": \"v\", \"text\": \"\", \"type\": \"bar\", \"x\": [\"Central\", \"Central Ostrobothnia\", \"Kainuu\", \"Kanta-H\\u00e4me\", \"Kymenlaakso\", \"Lapland\", \"North Karelia\", \"North Ostrobothnia\", \"North Savo\", \"Ostrobothnia\", \"Pirkanmaa\", \"P\\u00e4ij\\u00e4t-H\\u00e4me\", \"Satakunta\", \"South Karelia\", \"South Ostrobothnia\", \"South Savo\", \"Southwest\", \"Uusimaa\", \"WHOLE COUNTRY\", \"\\u00c5land\"], \"y\": [6309, 1537, 1395, 5206, 7218, 4102, 3909, 8908, 5091, 9634, 16329, 7134, 6280, 4974, 3344, 3241, 21913, 149253, 267629, 3421]}, {\"marker\": {\"color\": \"rgba(55, 128, 191, 0.6)\", \"line\": {\"color\": \"rgba(55, 128, 191, 1.0)\", \"width\": 1}}, \"name\": \"Foreign-language speakers\", \"orientation\": \"v\", \"text\": \"\", \"type\": \"bar\", \"x\": [\"Central\", \"Central Ostrobothnia\", \"Kainuu\", \"Kanta-H\\u00e4me\", \"Kymenlaakso\", \"Lapland\", \"North Karelia\", \"North Ostrobothnia\", \"North Savo\", \"Ostrobothnia\", \"Pirkanmaa\", \"P\\u00e4ij\\u00e4t-H\\u00e4me\", \"Satakunta\", \"South Karelia\", \"South Ostrobothnia\", \"South Savo\", \"Southwest\", \"Uusimaa\", \"WHOLE COUNTRY\", \"\\u00c5land\"], \"y\": [9531, 2038, 2090, 7221, 10496, 5038, 6249, 12358, 7506, 12665, 26166, 10994, 7927, 8092, 4344, 4862, 35809, 236959, 412644, 2621]}, {\"marker\": {\"color\": \"rgba(50, 171, 96, 0.6)\", \"line\": {\"color\": \"rgba(50, 171, 96, 1.0)\", \"width\": 1}}, \"name\": \"Persons born abroad\", \"orientation\": \"v\", \"text\": \"\", \"type\": \"bar\", \"x\": [\"Central\", \"Central Ostrobothnia\", \"Kainuu\", \"Kanta-H\\u00e4me\", \"Kymenlaakso\", \"Lapland\", \"North Karelia\", \"North Ostrobothnia\", \"North Savo\", \"Ostrobothnia\", \"Pirkanmaa\", \"P\\u00e4ij\\u00e4t-H\\u00e4me\", \"Satakunta\", \"South Karelia\", \"South Ostrobothnia\", \"South Savo\", \"Southwest\", \"Uusimaa\", \"WHOLE COUNTRY\", \"\\u00c5land\"], \"y\": [10731, 2626, 2283, 7359, 10377, 7701, 6357, 15377, 7879, 14905, 26511, 11135, 8640, 8000, 5406, 4925, 34140, 214768, 404179, 5497]}, {\"marker\": {\"color\": \"rgba(128, 0, 128, 0.6)\", \"line\": {\"color\": \"rgba(128, 0, 128, 1.0)\", \"width\": 1}}, \"name\": \"Persons with foreign background\", \"orientation\": \"v\", \"text\": \"\", \"type\": \"bar\", \"x\": [\"Central\", \"Central Ostrobothnia\", \"Kainuu\", \"Kanta-H\\u00e4me\", \"Kymenlaakso\", \"Lapland\", \"North Karelia\", \"North Ostrobothnia\", \"North Savo\", \"Ostrobothnia\", \"Pirkanmaa\", \"P\\u00e4ij\\u00e4t-H\\u00e4me\", \"Satakunta\", \"South Karelia\", \"South Ostrobothnia\", \"South Savo\", \"Southwest\", \"Uusimaa\", \"WHOLE COUNTRY\", \"\\u00c5land\"], \"y\": [9807, 2123, 2154, 7337, 10770, 5519, 6389, 12744, 7664, 13614, 26384, 11285, 8117, 8351, 4591, 4945, 36828, 240435, 423494, 4758]}],                        {\"legend\": {\"bgcolor\": \"#F5F6F9\", \"font\": {\"color\": \"#4D5663\"}}, \"paper_bgcolor\": \"#F5F6F9\", \"plot_bgcolor\": \"#F5F6F9\", \"template\": {\"data\": {\"bar\": [{\"error_x\": {\"color\": \"#2a3f5f\"}, \"error_y\": {\"color\": \"#2a3f5f\"}, \"marker\": {\"line\": {\"color\": \"#E5ECF6\", \"width\": 0.5}}, \"type\": \"bar\"}], \"barpolar\": [{\"marker\": {\"line\": {\"color\": \"#E5ECF6\", \"width\": 0.5}}, \"type\": \"barpolar\"}], \"carpet\": [{\"aaxis\": {\"endlinecolor\": \"#2a3f5f\", \"gridcolor\": \"white\", \"linecolor\": \"white\", \"minorgridcolor\": \"white\", \"startlinecolor\": \"#2a3f5f\"}, \"baxis\": {\"endlinecolor\": \"#2a3f5f\", \"gridcolor\": \"white\", \"linecolor\": \"white\", \"minorgridcolor\": \"white\", \"startlinecolor\": \"#2a3f5f\"}, \"type\": \"carpet\"}], \"choropleth\": [{\"colorbar\": {\"outlinewidth\": 0, \"ticks\": \"\"}, \"type\": \"choropleth\"}], \"contour\": [{\"colorbar\": {\"outlinewidth\": 0, \"ticks\": \"\"}, \"colorscale\": [[0.0, \"#0d0887\"], [0.1111111111111111, \"#46039f\"], [0.2222222222222222, \"#7201a8\"], [0.3333333333333333, \"#9c179e\"], [0.4444444444444444, \"#bd3786\"], [0.5555555555555556, \"#d8576b\"], [0.6666666666666666, \"#ed7953\"], [0.7777777777777778, \"#fb9f3a\"], [0.8888888888888888, \"#fdca26\"], [1.0, \"#f0f921\"]], \"type\": \"contour\"}], \"contourcarpet\": [{\"colorbar\": {\"outlinewidth\": 0, \"ticks\": \"\"}, \"type\": \"contourcarpet\"}], \"heatmap\": [{\"colorbar\": {\"outlinewidth\": 0, \"ticks\": \"\"}, \"colorscale\": [[0.0, \"#0d0887\"], [0.1111111111111111, \"#46039f\"], [0.2222222222222222, \"#7201a8\"], [0.3333333333333333, \"#9c179e\"], [0.4444444444444444, \"#bd3786\"], [0.5555555555555556, \"#d8576b\"], [0.6666666666666666, \"#ed7953\"], [0.7777777777777778, \"#fb9f3a\"], [0.8888888888888888, \"#fdca26\"], [1.0, \"#f0f921\"]], \"type\": \"heatmap\"}], \"heatmapgl\": [{\"colorbar\": {\"outlinewidth\": 0, \"ticks\": \"\"}, \"colorscale\": [[0.0, \"#0d0887\"], [0.1111111111111111, \"#46039f\"], [0.2222222222222222, \"#7201a8\"], [0.3333333333333333, \"#9c179e\"], [0.4444444444444444, \"#bd3786\"], [0.5555555555555556, \"#d8576b\"], [0.6666666666666666, \"#ed7953\"], [0.7777777777777778, \"#fb9f3a\"], [0.8888888888888888, \"#fdca26\"], [1.0, \"#f0f921\"]], \"type\": \"heatmapgl\"}], \"histogram\": [{\"marker\": {\"colorbar\": {\"outlinewidth\": 0, \"ticks\": \"\"}}, \"type\": \"histogram\"}], \"histogram2d\": [{\"colorbar\": {\"outlinewidth\": 0, \"ticks\": \"\"}, \"colorscale\": [[0.0, \"#0d0887\"], [0.1111111111111111, \"#46039f\"], [0.2222222222222222, \"#7201a8\"], [0.3333333333333333, \"#9c179e\"], [0.4444444444444444, \"#bd3786\"], [0.5555555555555556, \"#d8576b\"], [0.6666666666666666, \"#ed7953\"], [0.7777777777777778, \"#fb9f3a\"], [0.8888888888888888, \"#fdca26\"], [1.0, \"#f0f921\"]], \"type\": \"histogram2d\"}], \"histogram2dcontour\": [{\"colorbar\": {\"outlinewidth\": 0, \"ticks\": \"\"}, \"colorscale\": [[0.0, \"#0d0887\"], [0.1111111111111111, \"#46039f\"], [0.2222222222222222, \"#7201a8\"], [0.3333333333333333, \"#9c179e\"], [0.4444444444444444, \"#bd3786\"], [0.5555555555555556, \"#d8576b\"], [0.6666666666666666, \"#ed7953\"], [0.7777777777777778, \"#fb9f3a\"], [0.8888888888888888, \"#fdca26\"], [1.0, \"#f0f921\"]], \"type\": \"histogram2dcontour\"}], \"mesh3d\": [{\"colorbar\": {\"outlinewidth\": 0, \"ticks\": \"\"}, \"type\": \"mesh3d\"}], \"parcoords\": [{\"line\": {\"colorbar\": {\"outlinewidth\": 0, \"ticks\": \"\"}}, \"type\": \"parcoords\"}], \"pie\": [{\"automargin\": true, \"type\": \"pie\"}], \"scatter\": [{\"marker\": {\"colorbar\": {\"outlinewidth\": 0, \"ticks\": \"\"}}, \"type\": \"scatter\"}], \"scatter3d\": [{\"line\": {\"colorbar\": {\"outlinewidth\": 0, \"ticks\": \"\"}}, \"marker\": {\"colorbar\": {\"outlinewidth\": 0, \"ticks\": \"\"}}, \"type\": \"scatter3d\"}], \"scattercarpet\": [{\"marker\": {\"colorbar\": {\"outlinewidth\": 0, \"ticks\": \"\"}}, \"type\": \"scattercarpet\"}], \"scattergeo\": [{\"marker\": {\"colorbar\": {\"outlinewidth\": 0, \"ticks\": \"\"}}, \"type\": \"scattergeo\"}], \"scattergl\": [{\"marker\": {\"colorbar\": {\"outlinewidth\": 0, \"ticks\": \"\"}}, \"type\": \"scattergl\"}], \"scattermapbox\": [{\"marker\": {\"colorbar\": {\"outlinewidth\": 0, \"ticks\": \"\"}}, \"type\": \"scattermapbox\"}], \"scatterpolar\": [{\"marker\": {\"colorbar\": {\"outlinewidth\": 0, \"ticks\": \"\"}}, \"type\": \"scatterpolar\"}], \"scatterpolargl\": [{\"marker\": {\"colorbar\": {\"outlinewidth\": 0, \"ticks\": \"\"}}, \"type\": \"scatterpolargl\"}], \"scatterternary\": [{\"marker\": {\"colorbar\": {\"outlinewidth\": 0, \"ticks\": \"\"}}, \"type\": \"scatterternary\"}], \"surface\": [{\"colorbar\": {\"outlinewidth\": 0, \"ticks\": \"\"}, \"colorscale\": [[0.0, \"#0d0887\"], [0.1111111111111111, \"#46039f\"], [0.2222222222222222, \"#7201a8\"], [0.3333333333333333, \"#9c179e\"], [0.4444444444444444, \"#bd3786\"], [0.5555555555555556, \"#d8576b\"], [0.6666666666666666, \"#ed7953\"], [0.7777777777777778, \"#fb9f3a\"], [0.8888888888888888, \"#fdca26\"], [1.0, \"#f0f921\"]], \"type\": \"surface\"}], \"table\": [{\"cells\": {\"fill\": {\"color\": \"#EBF0F8\"}, \"line\": {\"color\": \"white\"}}, \"header\": {\"fill\": {\"color\": \"#C8D4E3\"}, \"line\": {\"color\": \"white\"}}, \"type\": \"table\"}]}, \"layout\": {\"annotationdefaults\": {\"arrowcolor\": \"#2a3f5f\", \"arrowhead\": 0, \"arrowwidth\": 1}, \"coloraxis\": {\"colorbar\": {\"outlinewidth\": 0, \"ticks\": \"\"}}, \"colorscale\": {\"diverging\": [[0, \"#8e0152\"], [0.1, \"#c51b7d\"], [0.2, \"#de77ae\"], [0.3, \"#f1b6da\"], [0.4, \"#fde0ef\"], [0.5, \"#f7f7f7\"], [0.6, \"#e6f5d0\"], [0.7, \"#b8e186\"], [0.8, \"#7fbc41\"], [0.9, \"#4d9221\"], [1, \"#276419\"]], \"sequential\": [[0.0, \"#0d0887\"], [0.1111111111111111, \"#46039f\"], [0.2222222222222222, \"#7201a8\"], [0.3333333333333333, \"#9c179e\"], [0.4444444444444444, \"#bd3786\"], [0.5555555555555556, \"#d8576b\"], [0.6666666666666666, \"#ed7953\"], [0.7777777777777778, \"#fb9f3a\"], [0.8888888888888888, \"#fdca26\"], [1.0, \"#f0f921\"]], \"sequentialminus\": [[0.0, \"#0d0887\"], [0.1111111111111111, \"#46039f\"], [0.2222222222222222, \"#7201a8\"], [0.3333333333333333, \"#9c179e\"], [0.4444444444444444, \"#bd3786\"], [0.5555555555555556, \"#d8576b\"], [0.6666666666666666, \"#ed7953\"], [0.7777777777777778, \"#fb9f3a\"], [0.8888888888888888, \"#fdca26\"], [1.0, \"#f0f921\"]]}, \"colorway\": [\"#636efa\", \"#EF553B\", \"#00cc96\", \"#ab63fa\", \"#FFA15A\", \"#19d3f3\", \"#FF6692\", \"#B6E880\", \"#FF97FF\", \"#FECB52\"], \"font\": {\"color\": \"#2a3f5f\"}, \"geo\": {\"bgcolor\": \"white\", \"lakecolor\": \"white\", \"landcolor\": \"#E5ECF6\", \"showlakes\": true, \"showland\": true, \"subunitcolor\": \"white\"}, \"hoverlabel\": {\"align\": \"left\"}, \"hovermode\": \"closest\", \"mapbox\": {\"style\": \"light\"}, \"paper_bgcolor\": \"white\", \"plot_bgcolor\": \"#E5ECF6\", \"polar\": {\"angularaxis\": {\"gridcolor\": \"white\", \"linecolor\": \"white\", \"ticks\": \"\"}, \"bgcolor\": \"#E5ECF6\", \"radialaxis\": {\"gridcolor\": \"white\", \"linecolor\": \"white\", \"ticks\": \"\"}}, \"scene\": {\"xaxis\": {\"backgroundcolor\": \"#E5ECF6\", \"gridcolor\": \"white\", \"gridwidth\": 2, \"linecolor\": \"white\", \"showbackground\": true, \"ticks\": \"\", \"zerolinecolor\": \"white\"}, \"yaxis\": {\"backgroundcolor\": \"#E5ECF6\", \"gridcolor\": \"white\", \"gridwidth\": 2, \"linecolor\": \"white\", \"showbackground\": true, \"ticks\": \"\", \"zerolinecolor\": \"white\"}, \"zaxis\": {\"backgroundcolor\": \"#E5ECF6\", \"gridcolor\": \"white\", \"gridwidth\": 2, \"linecolor\": \"white\", \"showbackground\": true, \"ticks\": \"\", \"zerolinecolor\": \"white\"}}, \"shapedefaults\": {\"line\": {\"color\": \"#2a3f5f\"}}, \"ternary\": {\"aaxis\": {\"gridcolor\": \"white\", \"linecolor\": \"white\", \"ticks\": \"\"}, \"baxis\": {\"gridcolor\": \"white\", \"linecolor\": \"white\", \"ticks\": \"\"}, \"bgcolor\": \"#E5ECF6\", \"caxis\": {\"gridcolor\": \"white\", \"linecolor\": \"white\", \"ticks\": \"\"}}, \"title\": {\"x\": 0.05}, \"xaxis\": {\"automargin\": true, \"gridcolor\": \"white\", \"linecolor\": \"white\", \"ticks\": \"\", \"title\": {\"standoff\": 15}, \"zerolinecolor\": \"white\", \"zerolinewidth\": 2}, \"yaxis\": {\"automargin\": true, \"gridcolor\": \"white\", \"linecolor\": \"white\", \"ticks\": \"\", \"title\": {\"standoff\": 15}, \"zerolinecolor\": \"white\", \"zerolinewidth\": 2}}}, \"title\": {\"font\": {\"color\": \"#4D5663\"}, \"text\": \"Immigrant population on different categories\"}, \"xaxis\": {\"gridcolor\": \"#E1E5ED\", \"showgrid\": true, \"tickfont\": {\"color\": \"#4D5663\"}, \"title\": {\"font\": {\"color\": \"#4D5663\"}, \"text\": \"Municipalities\"}, \"zerolinecolor\": \"#E1E5ED\"}, \"yaxis\": {\"gridcolor\": \"#E1E5ED\", \"showgrid\": true, \"tickfont\": {\"color\": \"#4D5663\"}, \"title\": {\"font\": {\"color\": \"#4D5663\"}, \"text\": \"Population\"}, \"zerolinecolor\": \"#E1E5ED\"}},                        {\"showLink\": true, \"linkText\": \"Export to plot.ly\", \"plotlyServerURL\": \"https://plot.ly\", \"responsive\": true}                    ).then(function(){\n",
       "                            \n",
       "var gd = document.getElementById('64c4aa96-0614-41aa-99dd-268fb213a07a');\n",
       "var x = new MutationObserver(function (mutations, observer) {{\n",
       "        var display = window.getComputedStyle(gd).display;\n",
       "        if (!display || display === 'none') {{\n",
       "            console.log([gd, 'removed!']);\n",
       "            Plotly.purge(gd);\n",
       "            observer.disconnect();\n",
       "        }}\n",
       "}});\n",
       "\n",
       "// Listen for the removal of the full notebook cells\n",
       "var notebookContainer = gd.closest('#notebook-container');\n",
       "if (notebookContainer) {{\n",
       "    x.observe(notebookContainer, {childList: true});\n",
       "}}\n",
       "\n",
       "// Listen for the clearing of the current output cell\n",
       "var outputEl = gd.closest('.output');\n",
       "if (outputEl) {{\n",
       "    x.observe(outputEl, {childList: true});\n",
       "}}\n",
       "\n",
       "                        })                };                });            </script>        </div>"
      ]
     },
     "metadata": {},
     "output_type": "display_data"
    }
   ],
   "source": [
    "pi.iplot(kind='bar',title= 'Immigrant population on different categories', xTitle='Municipalities',yTitle='Population')"
   ]
  },
  {
   "cell_type": "markdown",
   "metadata": {},
   "source": [
    "From the graph above we can see the population trend in various municipalites in Finland. We can see that North Ostrobothnia, Pirkanmaa, Southwest and Uusimaa has the highest number of foreigners living. "
   ]
  },
  {
   "cell_type": "markdown",
   "metadata": {
    "ExecuteTime": {
     "end_time": "2020-12-11T13:07:53.770353Z",
     "start_time": "2020-12-11T13:07:53.765975Z"
    }
   },
   "source": [
    "# <mark>TIDYING DATASET Method3"
   ]
  },
  {
   "cell_type": "markdown",
   "metadata": {},
   "source": [
    "Below, we will analysis on the basis of only one attribute. The attribute that we have choosen is 'Citizen of the foreign countries. The region of choose this attribute is it represents the overall population of foreign citizens in Finland as a whole"
   ]
  },
  {
   "cell_type": "code",
   "execution_count": 34,
   "metadata": {
    "ExecuteTime": {
     "end_time": "2020-12-11T13:14:53.401548Z",
     "start_time": "2020-12-11T13:14:53.359822Z"
    },
    "scrolled": false
   },
   "outputs": [
    {
     "data": {
      "text/html": [
       "<div>\n",
       "<style scoped>\n",
       "    .dataframe tbody tr th:only-of-type {\n",
       "        vertical-align: middle;\n",
       "    }\n",
       "\n",
       "    .dataframe tbody tr th {\n",
       "        vertical-align: top;\n",
       "    }\n",
       "\n",
       "    .dataframe thead th {\n",
       "        text-align: right;\n",
       "    }\n",
       "</style>\n",
       "<table border=\"1\" class=\"dataframe\">\n",
       "  <thead>\n",
       "    <tr style=\"text-align: right;\">\n",
       "      <th></th>\n",
       "      <th>Region</th>\n",
       "      <th>Attribute</th>\n",
       "      <th>2010</th>\n",
       "      <th>2011</th>\n",
       "      <th>2012</th>\n",
       "      <th>2013</th>\n",
       "      <th>2014</th>\n",
       "      <th>2015</th>\n",
       "      <th>2016</th>\n",
       "      <th>2017</th>\n",
       "      <th>2018</th>\n",
       "      <th>2019</th>\n",
       "    </tr>\n",
       "  </thead>\n",
       "  <tbody>\n",
       "    <tr>\n",
       "      <th>1</th>\n",
       "      <td>WHOLE COUNTRY</td>\n",
       "      <td>Citizens of foreign countries</td>\n",
       "      <td>167954</td>\n",
       "      <td>183133</td>\n",
       "      <td>195511</td>\n",
       "      <td>207511</td>\n",
       "      <td>219675</td>\n",
       "      <td>229765</td>\n",
       "      <td>243639</td>\n",
       "      <td>249452</td>\n",
       "      <td>257572</td>\n",
       "      <td>267629</td>\n",
       "    </tr>\n",
       "    <tr>\n",
       "      <th>9</th>\n",
       "      <td>Uusimaa</td>\n",
       "      <td>Citizens of foreign countries</td>\n",
       "      <td>86685</td>\n",
       "      <td>94966</td>\n",
       "      <td>102118</td>\n",
       "      <td>109213</td>\n",
       "      <td>116791</td>\n",
       "      <td>123300</td>\n",
       "      <td>130963</td>\n",
       "      <td>135412</td>\n",
       "      <td>141597</td>\n",
       "      <td>149253</td>\n",
       "    </tr>\n",
       "    <tr>\n",
       "      <th>13</th>\n",
       "      <td>Southwest</td>\n",
       "      <td>Citizens of foreign countries</td>\n",
       "      <td>14570</td>\n",
       "      <td>15553</td>\n",
       "      <td>16443</td>\n",
       "      <td>17084</td>\n",
       "      <td>18161</td>\n",
       "      <td>18834</td>\n",
       "      <td>19814</td>\n",
       "      <td>20408</td>\n",
       "      <td>21185</td>\n",
       "      <td>21913</td>\n",
       "    </tr>\n",
       "    <tr>\n",
       "      <th>17</th>\n",
       "      <td>Satakunta</td>\n",
       "      <td>Citizens of foreign countries</td>\n",
       "      <td>3016</td>\n",
       "      <td>3340</td>\n",
       "      <td>3805</td>\n",
       "      <td>4268</td>\n",
       "      <td>4631</td>\n",
       "      <td>4941</td>\n",
       "      <td>5479</td>\n",
       "      <td>5833</td>\n",
       "      <td>6095</td>\n",
       "      <td>6280</td>\n",
       "    </tr>\n",
       "    <tr>\n",
       "      <th>21</th>\n",
       "      <td>Kanta-Häme</td>\n",
       "      <td>Citizens of foreign countries</td>\n",
       "      <td>3045</td>\n",
       "      <td>3356</td>\n",
       "      <td>3836</td>\n",
       "      <td>4237</td>\n",
       "      <td>4566</td>\n",
       "      <td>4794</td>\n",
       "      <td>5079</td>\n",
       "      <td>5206</td>\n",
       "      <td>5059</td>\n",
       "      <td>5118</td>\n",
       "    </tr>\n",
       "  </tbody>\n",
       "</table>\n",
       "</div>"
      ],
      "text/plain": [
       "0          Region                      Attribute    2010    2011    2012  \\\n",
       "1   WHOLE COUNTRY  Citizens of foreign countries  167954  183133  195511   \n",
       "9         Uusimaa  Citizens of foreign countries   86685   94966  102118   \n",
       "13      Southwest  Citizens of foreign countries   14570   15553   16443   \n",
       "17      Satakunta  Citizens of foreign countries    3016    3340    3805   \n",
       "21     Kanta-Häme  Citizens of foreign countries    3045    3356    3836   \n",
       "\n",
       "0     2013    2014    2015    2016    2017    2018    2019  \n",
       "1   207511  219675  229765  243639  249452  257572  267629  \n",
       "9   109213  116791  123300  130963  135412  141597  149253  \n",
       "13   17084   18161   18834   19814   20408   21185   21913  \n",
       "17    4268    4631    4941    5479    5833    6095    6280  \n",
       "21    4237    4566    4794    5079    5206    5059    5118  "
      ]
     },
     "execution_count": 34,
     "metadata": {},
     "output_type": "execute_result"
    }
   ],
   "source": [
    "df = FinnData.query(\"Attribute=='Citizens of foreign countries'\")\n",
    "df.head()"
   ]
  },
  {
   "cell_type": "markdown",
   "metadata": {},
   "source": [
    "## <span style=\"color:green\"> Removing unnecessary column</span>"
   ]
  },
  {
   "cell_type": "code",
   "execution_count": 35,
   "metadata": {
    "ExecuteTime": {
     "end_time": "2020-12-11T13:14:53.425781Z",
     "start_time": "2020-12-11T13:14:53.412986Z"
    }
   },
   "outputs": [],
   "source": [
    "\n",
    "df1 = df.drop(columns='Attribute')\n",
    "df1 = df1.reset_index()\n"
   ]
  },
  {
   "cell_type": "code",
   "execution_count": 36,
   "metadata": {
    "ExecuteTime": {
     "end_time": "2020-12-11T13:14:53.456071Z",
     "start_time": "2020-12-11T13:14:53.431821Z"
    }
   },
   "outputs": [
    {
     "data": {
      "text/html": [
       "<div>\n",
       "<style scoped>\n",
       "    .dataframe tbody tr th:only-of-type {\n",
       "        vertical-align: middle;\n",
       "    }\n",
       "\n",
       "    .dataframe tbody tr th {\n",
       "        vertical-align: top;\n",
       "    }\n",
       "\n",
       "    .dataframe thead th {\n",
       "        text-align: right;\n",
       "    }\n",
       "</style>\n",
       "<table border=\"1\" class=\"dataframe\">\n",
       "  <thead>\n",
       "    <tr style=\"text-align: right;\">\n",
       "      <th></th>\n",
       "      <th>Region</th>\n",
       "      <th>2010</th>\n",
       "      <th>2011</th>\n",
       "      <th>2012</th>\n",
       "      <th>2013</th>\n",
       "      <th>2014</th>\n",
       "      <th>2015</th>\n",
       "      <th>2016</th>\n",
       "      <th>2017</th>\n",
       "      <th>2018</th>\n",
       "      <th>2019</th>\n",
       "    </tr>\n",
       "  </thead>\n",
       "  <tbody>\n",
       "    <tr>\n",
       "      <th>0</th>\n",
       "      <td>WHOLE COUNTRY</td>\n",
       "      <td>167954</td>\n",
       "      <td>183133</td>\n",
       "      <td>195511</td>\n",
       "      <td>207511</td>\n",
       "      <td>219675</td>\n",
       "      <td>229765</td>\n",
       "      <td>243639</td>\n",
       "      <td>249452</td>\n",
       "      <td>257572</td>\n",
       "      <td>267629</td>\n",
       "    </tr>\n",
       "    <tr>\n",
       "      <th>1</th>\n",
       "      <td>Uusimaa</td>\n",
       "      <td>86685</td>\n",
       "      <td>94966</td>\n",
       "      <td>102118</td>\n",
       "      <td>109213</td>\n",
       "      <td>116791</td>\n",
       "      <td>123300</td>\n",
       "      <td>130963</td>\n",
       "      <td>135412</td>\n",
       "      <td>141597</td>\n",
       "      <td>149253</td>\n",
       "    </tr>\n",
       "    <tr>\n",
       "      <th>2</th>\n",
       "      <td>Southwest</td>\n",
       "      <td>14570</td>\n",
       "      <td>15553</td>\n",
       "      <td>16443</td>\n",
       "      <td>17084</td>\n",
       "      <td>18161</td>\n",
       "      <td>18834</td>\n",
       "      <td>19814</td>\n",
       "      <td>20408</td>\n",
       "      <td>21185</td>\n",
       "      <td>21913</td>\n",
       "    </tr>\n",
       "    <tr>\n",
       "      <th>3</th>\n",
       "      <td>Satakunta</td>\n",
       "      <td>3016</td>\n",
       "      <td>3340</td>\n",
       "      <td>3805</td>\n",
       "      <td>4268</td>\n",
       "      <td>4631</td>\n",
       "      <td>4941</td>\n",
       "      <td>5479</td>\n",
       "      <td>5833</td>\n",
       "      <td>6095</td>\n",
       "      <td>6280</td>\n",
       "    </tr>\n",
       "    <tr>\n",
       "      <th>4</th>\n",
       "      <td>Kanta-Häme</td>\n",
       "      <td>3045</td>\n",
       "      <td>3356</td>\n",
       "      <td>3836</td>\n",
       "      <td>4237</td>\n",
       "      <td>4566</td>\n",
       "      <td>4794</td>\n",
       "      <td>5079</td>\n",
       "      <td>5206</td>\n",
       "      <td>5059</td>\n",
       "      <td>5118</td>\n",
       "    </tr>\n",
       "  </tbody>\n",
       "</table>\n",
       "</div>"
      ],
      "text/plain": [
       "0         Region    2010    2011    2012    2013    2014    2015    2016  \\\n",
       "0  WHOLE COUNTRY  167954  183133  195511  207511  219675  229765  243639   \n",
       "1        Uusimaa   86685   94966  102118  109213  116791  123300  130963   \n",
       "2      Southwest   14570   15553   16443   17084   18161   18834   19814   \n",
       "3      Satakunta    3016    3340    3805    4268    4631    4941    5479   \n",
       "4     Kanta-Häme    3045    3356    3836    4237    4566    4794    5079   \n",
       "\n",
       "0    2017    2018    2019  \n",
       "0  249452  257572  267629  \n",
       "1  135412  141597  149253  \n",
       "2   20408   21185   21913  \n",
       "3    5833    6095    6280  \n",
       "4    5206    5059    5118  "
      ]
     },
     "execution_count": 36,
     "metadata": {},
     "output_type": "execute_result"
    }
   ],
   "source": [
    "df1 = df1.drop(columns='index')\n",
    "df1.head()"
   ]
  },
  {
   "cell_type": "code",
   "execution_count": 38,
   "metadata": {
    "ExecuteTime": {
     "end_time": "2020-12-11T13:16:08.841157Z",
     "start_time": "2020-12-11T13:16:08.835685Z"
    },
    "scrolled": true
   },
   "outputs": [],
   "source": [
    "#df1 = df1.drop(index=[1,20], axis=0)\n"
   ]
  },
  {
   "cell_type": "code",
   "execution_count": 39,
   "metadata": {
    "ExecuteTime": {
     "end_time": "2020-12-11T13:16:10.075005Z",
     "start_time": "2020-12-11T13:16:10.057489Z"
    }
   },
   "outputs": [
    {
     "data": {
      "text/html": [
       "<div>\n",
       "<style scoped>\n",
       "    .dataframe tbody tr th:only-of-type {\n",
       "        vertical-align: middle;\n",
       "    }\n",
       "\n",
       "    .dataframe tbody tr th {\n",
       "        vertical-align: top;\n",
       "    }\n",
       "\n",
       "    .dataframe thead th {\n",
       "        text-align: right;\n",
       "    }\n",
       "</style>\n",
       "<table border=\"1\" class=\"dataframe\">\n",
       "  <thead>\n",
       "    <tr style=\"text-align: right;\">\n",
       "      <th></th>\n",
       "      <th>Region</th>\n",
       "      <th>2010</th>\n",
       "      <th>2011</th>\n",
       "      <th>2012</th>\n",
       "      <th>2013</th>\n",
       "      <th>2014</th>\n",
       "      <th>2015</th>\n",
       "      <th>2016</th>\n",
       "      <th>2017</th>\n",
       "      <th>2018</th>\n",
       "      <th>2019</th>\n",
       "    </tr>\n",
       "  </thead>\n",
       "  <tbody>\n",
       "    <tr>\n",
       "      <th>0</th>\n",
       "      <td>WHOLE COUNTRY</td>\n",
       "      <td>167954</td>\n",
       "      <td>183133</td>\n",
       "      <td>195511</td>\n",
       "      <td>207511</td>\n",
       "      <td>219675</td>\n",
       "      <td>229765</td>\n",
       "      <td>243639</td>\n",
       "      <td>249452</td>\n",
       "      <td>257572</td>\n",
       "      <td>267629</td>\n",
       "    </tr>\n",
       "    <tr>\n",
       "      <th>1</th>\n",
       "      <td>Uusimaa</td>\n",
       "      <td>86685</td>\n",
       "      <td>94966</td>\n",
       "      <td>102118</td>\n",
       "      <td>109213</td>\n",
       "      <td>116791</td>\n",
       "      <td>123300</td>\n",
       "      <td>130963</td>\n",
       "      <td>135412</td>\n",
       "      <td>141597</td>\n",
       "      <td>149253</td>\n",
       "    </tr>\n",
       "    <tr>\n",
       "      <th>2</th>\n",
       "      <td>Southwest</td>\n",
       "      <td>14570</td>\n",
       "      <td>15553</td>\n",
       "      <td>16443</td>\n",
       "      <td>17084</td>\n",
       "      <td>18161</td>\n",
       "      <td>18834</td>\n",
       "      <td>19814</td>\n",
       "      <td>20408</td>\n",
       "      <td>21185</td>\n",
       "      <td>21913</td>\n",
       "    </tr>\n",
       "    <tr>\n",
       "      <th>3</th>\n",
       "      <td>Satakunta</td>\n",
       "      <td>3016</td>\n",
       "      <td>3340</td>\n",
       "      <td>3805</td>\n",
       "      <td>4268</td>\n",
       "      <td>4631</td>\n",
       "      <td>4941</td>\n",
       "      <td>5479</td>\n",
       "      <td>5833</td>\n",
       "      <td>6095</td>\n",
       "      <td>6280</td>\n",
       "    </tr>\n",
       "    <tr>\n",
       "      <th>4</th>\n",
       "      <td>Kanta-Häme</td>\n",
       "      <td>3045</td>\n",
       "      <td>3356</td>\n",
       "      <td>3836</td>\n",
       "      <td>4237</td>\n",
       "      <td>4566</td>\n",
       "      <td>4794</td>\n",
       "      <td>5079</td>\n",
       "      <td>5206</td>\n",
       "      <td>5059</td>\n",
       "      <td>5118</td>\n",
       "    </tr>\n",
       "  </tbody>\n",
       "</table>\n",
       "</div>"
      ],
      "text/plain": [
       "0         Region    2010    2011    2012    2013    2014    2015    2016  \\\n",
       "0  WHOLE COUNTRY  167954  183133  195511  207511  219675  229765  243639   \n",
       "1        Uusimaa   86685   94966  102118  109213  116791  123300  130963   \n",
       "2      Southwest   14570   15553   16443   17084   18161   18834   19814   \n",
       "3      Satakunta    3016    3340    3805    4268    4631    4941    5479   \n",
       "4     Kanta-Häme    3045    3356    3836    4237    4566    4794    5079   \n",
       "\n",
       "0    2017    2018    2019  \n",
       "0  249452  257572  267629  \n",
       "1  135412  141597  149253  \n",
       "2   20408   21185   21913  \n",
       "3    5833    6095    6280  \n",
       "4    5206    5059    5118  "
      ]
     },
     "execution_count": 39,
     "metadata": {},
     "output_type": "execute_result"
    }
   ],
   "source": [
    "df1.head()"
   ]
  },
  {
   "cell_type": "code",
   "execution_count": 40,
   "metadata": {
    "ExecuteTime": {
     "end_time": "2020-12-11T13:16:11.502523Z",
     "start_time": "2020-12-11T13:16:11.497305Z"
    }
   },
   "outputs": [],
   "source": [
    "df3 = df1.set_index('Region')"
   ]
  },
  {
   "cell_type": "code",
   "execution_count": 41,
   "metadata": {
    "ExecuteTime": {
     "end_time": "2020-12-11T13:16:12.329336Z",
     "start_time": "2020-12-11T13:16:12.312916Z"
    }
   },
   "outputs": [
    {
     "data": {
      "text/html": [
       "<div>\n",
       "<style scoped>\n",
       "    .dataframe tbody tr th:only-of-type {\n",
       "        vertical-align: middle;\n",
       "    }\n",
       "\n",
       "    .dataframe tbody tr th {\n",
       "        vertical-align: top;\n",
       "    }\n",
       "\n",
       "    .dataframe thead th {\n",
       "        text-align: right;\n",
       "    }\n",
       "</style>\n",
       "<table border=\"1\" class=\"dataframe\">\n",
       "  <thead>\n",
       "    <tr style=\"text-align: right;\">\n",
       "      <th></th>\n",
       "      <th>2010</th>\n",
       "      <th>2011</th>\n",
       "      <th>2012</th>\n",
       "      <th>2013</th>\n",
       "      <th>2014</th>\n",
       "      <th>2015</th>\n",
       "      <th>2016</th>\n",
       "      <th>2017</th>\n",
       "      <th>2018</th>\n",
       "      <th>2019</th>\n",
       "    </tr>\n",
       "    <tr>\n",
       "      <th>Region</th>\n",
       "      <th></th>\n",
       "      <th></th>\n",
       "      <th></th>\n",
       "      <th></th>\n",
       "      <th></th>\n",
       "      <th></th>\n",
       "      <th></th>\n",
       "      <th></th>\n",
       "      <th></th>\n",
       "      <th></th>\n",
       "    </tr>\n",
       "  </thead>\n",
       "  <tbody>\n",
       "    <tr>\n",
       "      <th>WHOLE COUNTRY</th>\n",
       "      <td>167954</td>\n",
       "      <td>183133</td>\n",
       "      <td>195511</td>\n",
       "      <td>207511</td>\n",
       "      <td>219675</td>\n",
       "      <td>229765</td>\n",
       "      <td>243639</td>\n",
       "      <td>249452</td>\n",
       "      <td>257572</td>\n",
       "      <td>267629</td>\n",
       "    </tr>\n",
       "    <tr>\n",
       "      <th>Uusimaa</th>\n",
       "      <td>86685</td>\n",
       "      <td>94966</td>\n",
       "      <td>102118</td>\n",
       "      <td>109213</td>\n",
       "      <td>116791</td>\n",
       "      <td>123300</td>\n",
       "      <td>130963</td>\n",
       "      <td>135412</td>\n",
       "      <td>141597</td>\n",
       "      <td>149253</td>\n",
       "    </tr>\n",
       "    <tr>\n",
       "      <th>Southwest</th>\n",
       "      <td>14570</td>\n",
       "      <td>15553</td>\n",
       "      <td>16443</td>\n",
       "      <td>17084</td>\n",
       "      <td>18161</td>\n",
       "      <td>18834</td>\n",
       "      <td>19814</td>\n",
       "      <td>20408</td>\n",
       "      <td>21185</td>\n",
       "      <td>21913</td>\n",
       "    </tr>\n",
       "    <tr>\n",
       "      <th>Satakunta</th>\n",
       "      <td>3016</td>\n",
       "      <td>3340</td>\n",
       "      <td>3805</td>\n",
       "      <td>4268</td>\n",
       "      <td>4631</td>\n",
       "      <td>4941</td>\n",
       "      <td>5479</td>\n",
       "      <td>5833</td>\n",
       "      <td>6095</td>\n",
       "      <td>6280</td>\n",
       "    </tr>\n",
       "    <tr>\n",
       "      <th>Kanta-Häme</th>\n",
       "      <td>3045</td>\n",
       "      <td>3356</td>\n",
       "      <td>3836</td>\n",
       "      <td>4237</td>\n",
       "      <td>4566</td>\n",
       "      <td>4794</td>\n",
       "      <td>5079</td>\n",
       "      <td>5206</td>\n",
       "      <td>5059</td>\n",
       "      <td>5118</td>\n",
       "    </tr>\n",
       "  </tbody>\n",
       "</table>\n",
       "</div>"
      ],
      "text/plain": [
       "0                2010    2011    2012    2013    2014    2015    2016    2017  \\\n",
       "Region                                                                          \n",
       "WHOLE COUNTRY  167954  183133  195511  207511  219675  229765  243639  249452   \n",
       "Uusimaa         86685   94966  102118  109213  116791  123300  130963  135412   \n",
       "Southwest       14570   15553   16443   17084   18161   18834   19814   20408   \n",
       "Satakunta        3016    3340    3805    4268    4631    4941    5479    5833   \n",
       "Kanta-Häme       3045    3356    3836    4237    4566    4794    5079    5206   \n",
       "\n",
       "0                2018    2019  \n",
       "Region                         \n",
       "WHOLE COUNTRY  257572  267629  \n",
       "Uusimaa        141597  149253  \n",
       "Southwest       21185   21913  \n",
       "Satakunta        6095    6280  \n",
       "Kanta-Häme       5059    5118  "
      ]
     },
     "execution_count": 41,
     "metadata": {},
     "output_type": "execute_result"
    }
   ],
   "source": [
    "df3.head()"
   ]
  },
  {
   "cell_type": "code",
   "execution_count": 45,
   "metadata": {
    "ExecuteTime": {
     "end_time": "2020-12-11T13:16:29.623990Z",
     "start_time": "2020-12-11T13:16:29.618349Z"
    }
   },
   "outputs": [],
   "source": [
    "def func(region):  \n",
    "    u = df3.loc[region]\n",
    "    u.iplot(kind='bar',title= 'Foreign citizens in Finland from 2010-2019',\n",
    "            xTitle='Years',yTitle='Population')\n",
    "\n"
   ]
  },
  {
   "cell_type": "code",
   "execution_count": 43,
   "metadata": {
    "ExecuteTime": {
     "end_time": "2020-12-11T13:16:15.243161Z",
     "start_time": "2020-12-11T13:16:15.073246Z"
    }
   },
   "outputs": [
    {
     "data": {
      "application/vnd.jupyter.widget-view+json": {
       "model_id": "c48fe5eb67a64594a0782dc55ba70419",
       "version_major": 2,
       "version_minor": 0
      },
      "text/plain": [
       "interactive(children=(Dropdown(description='region', options=('WHOLE COUNTRY', 'Uusimaa', 'Southwest', 'Sataku…"
      ]
     },
     "metadata": {},
     "output_type": "display_data"
    }
   ],
   "source": [
    "interact(func,region=df3.index);"
   ]
  },
  {
   "cell_type": "code",
   "execution_count": 44,
   "metadata": {
    "ExecuteTime": {
     "end_time": "2020-12-11T13:16:21.323886Z",
     "start_time": "2020-12-11T13:16:21.226048Z"
    }
   },
   "outputs": [
    {
     "data": {
      "application/vnd.plotly.v1+json": {
       "config": {
        "linkText": "Export to plot.ly",
        "plotlyServerURL": "https://plot.ly",
        "showLink": true
       },
       "data": [
        {
         "marker": {
          "color": "rgba(255, 153, 51, 0.8)",
          "line": {
           "color": "rgba(255, 153, 51, 1.0)",
           "width": 1
          }
         },
         "name": "2010",
         "orientation": "v",
         "text": "",
         "type": "bar",
         "x": [
          "WHOLE COUNTRY",
          "Uusimaa",
          "Southwest",
          "Satakunta",
          "Kanta-Häme",
          "Pirkanmaa",
          "Päijät-Häme",
          "Kymenlaakso",
          "South Karelia",
          "South Savo",
          "North Savo",
          "North Karelia",
          "Central",
          "South Ostrobothnia",
          "Ostrobothnia",
          "Central Ostrobothnia",
          "North Ostrobothnia",
          "Kainuu",
          "Lapland",
          "Åland"
         ],
         "y": [
          167954,
          86685,
          14570,
          3016,
          3045,
          11411,
          4924,
          5494,
          3597,
          2368,
          3099,
          2987,
          4349,
          2113,
          6750,
          1066,
          5558,
          1354,
          3153,
          2415
         ]
        },
        {
         "marker": {
          "color": "rgba(55, 128, 191, 0.8)",
          "line": {
           "color": "rgba(55, 128, 191, 1.0)",
           "width": 1
          }
         },
         "name": "2011",
         "orientation": "v",
         "text": "",
         "type": "bar",
         "x": [
          "WHOLE COUNTRY",
          "Uusimaa",
          "Southwest",
          "Satakunta",
          "Kanta-Häme",
          "Pirkanmaa",
          "Päijät-Häme",
          "Kymenlaakso",
          "South Karelia",
          "South Savo",
          "North Savo",
          "North Karelia",
          "Central",
          "South Ostrobothnia",
          "Ostrobothnia",
          "Central Ostrobothnia",
          "North Ostrobothnia",
          "Kainuu",
          "Lapland",
          "Åland"
         ],
         "y": [
          183133,
          94966,
          15553,
          3340,
          3356,
          12351,
          5263,
          5978,
          3908,
          2479,
          3470,
          3235,
          4687,
          2434,
          7608,
          1193,
          6033,
          1360,
          3359,
          2560
         ]
        },
        {
         "marker": {
          "color": "rgba(50, 171, 96, 0.8)",
          "line": {
           "color": "rgba(50, 171, 96, 1.0)",
           "width": 1
          }
         },
         "name": "2012",
         "orientation": "v",
         "text": "",
         "type": "bar",
         "x": [
          "WHOLE COUNTRY",
          "Uusimaa",
          "Southwest",
          "Satakunta",
          "Kanta-Häme",
          "Pirkanmaa",
          "Päijät-Häme",
          "Kymenlaakso",
          "South Karelia",
          "South Savo",
          "North Savo",
          "North Karelia",
          "Central",
          "South Ostrobothnia",
          "Ostrobothnia",
          "Central Ostrobothnia",
          "North Ostrobothnia",
          "Kainuu",
          "Lapland",
          "Åland"
         ],
         "y": [
          195511,
          102118,
          16443,
          3805,
          3836,
          12663,
          5595,
          6411,
          4179,
          2635,
          3854,
          3400,
          4902,
          2743,
          7943,
          1255,
          6286,
          1360,
          3473,
          2610
         ]
        },
        {
         "marker": {
          "color": "rgba(128, 0, 128, 0.8)",
          "line": {
           "color": "rgba(128, 0, 128, 1.0)",
           "width": 1
          }
         },
         "name": "2013",
         "orientation": "v",
         "text": "",
         "type": "bar",
         "x": [
          "WHOLE COUNTRY",
          "Uusimaa",
          "Southwest",
          "Satakunta",
          "Kanta-Häme",
          "Pirkanmaa",
          "Päijät-Häme",
          "Kymenlaakso",
          "South Karelia",
          "South Savo",
          "North Savo",
          "North Karelia",
          "Central",
          "South Ostrobothnia",
          "Ostrobothnia",
          "Central Ostrobothnia",
          "North Ostrobothnia",
          "Kainuu",
          "Lapland",
          "Åland"
         ],
         "y": [
          207511,
          109213,
          17084,
          4268,
          4237,
          13305,
          5789,
          6685,
          4421,
          2752,
          4128,
          3654,
          5059,
          3004,
          8252,
          1293,
          6676,
          1328,
          3642,
          2721
         ]
        },
        {
         "marker": {
          "color": "rgba(219, 64, 82, 0.8)",
          "line": {
           "color": "rgba(219, 64, 82, 1.0)",
           "width": 1
          }
         },
         "name": "2014",
         "orientation": "v",
         "text": "",
         "type": "bar",
         "x": [
          "WHOLE COUNTRY",
          "Uusimaa",
          "Southwest",
          "Satakunta",
          "Kanta-Häme",
          "Pirkanmaa",
          "Päijät-Häme",
          "Kymenlaakso",
          "South Karelia",
          "South Savo",
          "North Savo",
          "North Karelia",
          "Central",
          "South Ostrobothnia",
          "Ostrobothnia",
          "Central Ostrobothnia",
          "North Ostrobothnia",
          "Kainuu",
          "Lapland",
          "Åland"
         ],
         "y": [
          219675,
          116791,
          18161,
          4631,
          4566,
          13738,
          5894,
          6949,
          4588,
          2830,
          4472,
          3747,
          5303,
          3165,
          8599,
          1292,
          6983,
          1335,
          3794,
          2837
         ]
        },
        {
         "marker": {
          "color": "rgba(0, 128, 128, 0.8)",
          "line": {
           "color": "rgba(0, 128, 128, 1.0)",
           "width": 1
          }
         },
         "name": "2015",
         "orientation": "v",
         "text": "",
         "type": "bar",
         "x": [
          "WHOLE COUNTRY",
          "Uusimaa",
          "Southwest",
          "Satakunta",
          "Kanta-Häme",
          "Pirkanmaa",
          "Päijät-Häme",
          "Kymenlaakso",
          "South Karelia",
          "South Savo",
          "North Savo",
          "North Karelia",
          "Central",
          "South Ostrobothnia",
          "Ostrobothnia",
          "Central Ostrobothnia",
          "North Ostrobothnia",
          "Kainuu",
          "Lapland",
          "Åland"
         ],
         "y": [
          229765,
          123300,
          18834,
          4941,
          4794,
          14208,
          5993,
          6986,
          4764,
          2997,
          4697,
          3697,
          5515,
          3147,
          9002,
          1424,
          7355,
          1357,
          3827,
          2927
         ]
        },
        {
         "marker": {
          "color": "rgba(255, 255, 51, 0.8)",
          "line": {
           "color": "rgba(255, 255, 51, 1.0)",
           "width": 1
          }
         },
         "name": "2016",
         "orientation": "v",
         "text": "",
         "type": "bar",
         "x": [
          "WHOLE COUNTRY",
          "Uusimaa",
          "Southwest",
          "Satakunta",
          "Kanta-Häme",
          "Pirkanmaa",
          "Päijät-Häme",
          "Kymenlaakso",
          "South Karelia",
          "South Savo",
          "North Savo",
          "North Karelia",
          "Central",
          "South Ostrobothnia",
          "Ostrobothnia",
          "Central Ostrobothnia",
          "North Ostrobothnia",
          "Kainuu",
          "Lapland",
          "Åland"
         ],
         "y": [
          243639,
          130963,
          19814,
          5479,
          5079,
          15040,
          6524,
          7218,
          4974,
          3241,
          4974,
          3881,
          6026,
          3180,
          9174,
          1537,
          8054,
          1395,
          3994,
          3092
         ]
        },
        {
         "marker": {
          "color": "rgba(128, 128, 0, 0.8)",
          "line": {
           "color": "rgba(128, 128, 0, 1.0)",
           "width": 1
          }
         },
         "name": "2017",
         "orientation": "v",
         "text": "",
         "type": "bar",
         "x": [
          "WHOLE COUNTRY",
          "Uusimaa",
          "Southwest",
          "Satakunta",
          "Kanta-Häme",
          "Pirkanmaa",
          "Päijät-Häme",
          "Kymenlaakso",
          "South Karelia",
          "South Savo",
          "North Savo",
          "North Karelia",
          "Central",
          "South Ostrobothnia",
          "Ostrobothnia",
          "Central Ostrobothnia",
          "North Ostrobothnia",
          "Kainuu",
          "Lapland",
          "Åland"
         ],
         "y": [
          249452,
          135412,
          20408,
          5833,
          5206,
          15308,
          6730,
          6706,
          4882,
          3172,
          5011,
          3819,
          6152,
          3150,
          9400,
          1461,
          8231,
          1376,
          4013,
          3182
         ]
        },
        {
         "marker": {
          "color": "rgba(251, 128, 114, 0.8)",
          "line": {
           "color": "rgba(251, 128, 114, 1.0)",
           "width": 1
          }
         },
         "name": "2018",
         "orientation": "v",
         "text": "",
         "type": "bar",
         "x": [
          "WHOLE COUNTRY",
          "Uusimaa",
          "Southwest",
          "Satakunta",
          "Kanta-Häme",
          "Pirkanmaa",
          "Päijät-Häme",
          "Kymenlaakso",
          "South Karelia",
          "South Savo",
          "North Savo",
          "North Karelia",
          "Central",
          "South Ostrobothnia",
          "Ostrobothnia",
          "Central Ostrobothnia",
          "North Ostrobothnia",
          "Kainuu",
          "Lapland",
          "Åland"
         ],
         "y": [
          257572,
          141597,
          21185,
          6095,
          5059,
          15679,
          7032,
          6493,
          4776,
          3191,
          5091,
          3774,
          6121,
          3227,
          9519,
          1425,
          8483,
          1327,
          4102,
          3396
         ]
        },
        {
         "marker": {
          "color": "rgba(128, 177, 211, 0.8)",
          "line": {
           "color": "rgba(128, 177, 211, 1.0)",
           "width": 1
          }
         },
         "name": "2019",
         "orientation": "v",
         "text": "",
         "type": "bar",
         "x": [
          "WHOLE COUNTRY",
          "Uusimaa",
          "Southwest",
          "Satakunta",
          "Kanta-Häme",
          "Pirkanmaa",
          "Päijät-Häme",
          "Kymenlaakso",
          "South Karelia",
          "South Savo",
          "North Savo",
          "North Karelia",
          "Central",
          "South Ostrobothnia",
          "Ostrobothnia",
          "Central Ostrobothnia",
          "North Ostrobothnia",
          "Kainuu",
          "Lapland",
          "Åland"
         ],
         "y": [
          267629,
          149253,
          21913,
          6280,
          5118,
          16329,
          7134,
          6270,
          4785,
          3180,
          5050,
          3909,
          6309,
          3344,
          9634,
          1447,
          8908,
          1357,
          3988,
          3421
         ]
        }
       ],
       "layout": {
        "legend": {
         "bgcolor": "#F5F6F9",
         "font": {
          "color": "#4D5663"
         }
        },
        "paper_bgcolor": "#F5F6F9",
        "plot_bgcolor": "#F5F6F9",
        "template": {
         "data": {
          "bar": [
           {
            "error_x": {
             "color": "#2a3f5f"
            },
            "error_y": {
             "color": "#2a3f5f"
            },
            "marker": {
             "line": {
              "color": "#E5ECF6",
              "width": 0.5
             }
            },
            "type": "bar"
           }
          ],
          "barpolar": [
           {
            "marker": {
             "line": {
              "color": "#E5ECF6",
              "width": 0.5
             }
            },
            "type": "barpolar"
           }
          ],
          "carpet": [
           {
            "aaxis": {
             "endlinecolor": "#2a3f5f",
             "gridcolor": "white",
             "linecolor": "white",
             "minorgridcolor": "white",
             "startlinecolor": "#2a3f5f"
            },
            "baxis": {
             "endlinecolor": "#2a3f5f",
             "gridcolor": "white",
             "linecolor": "white",
             "minorgridcolor": "white",
             "startlinecolor": "#2a3f5f"
            },
            "type": "carpet"
           }
          ],
          "choropleth": [
           {
            "colorbar": {
             "outlinewidth": 0,
             "ticks": ""
            },
            "type": "choropleth"
           }
          ],
          "contour": [
           {
            "colorbar": {
             "outlinewidth": 0,
             "ticks": ""
            },
            "colorscale": [
             [
              0,
              "#0d0887"
             ],
             [
              0.1111111111111111,
              "#46039f"
             ],
             [
              0.2222222222222222,
              "#7201a8"
             ],
             [
              0.3333333333333333,
              "#9c179e"
             ],
             [
              0.4444444444444444,
              "#bd3786"
             ],
             [
              0.5555555555555556,
              "#d8576b"
             ],
             [
              0.6666666666666666,
              "#ed7953"
             ],
             [
              0.7777777777777778,
              "#fb9f3a"
             ],
             [
              0.8888888888888888,
              "#fdca26"
             ],
             [
              1,
              "#f0f921"
             ]
            ],
            "type": "contour"
           }
          ],
          "contourcarpet": [
           {
            "colorbar": {
             "outlinewidth": 0,
             "ticks": ""
            },
            "type": "contourcarpet"
           }
          ],
          "heatmap": [
           {
            "colorbar": {
             "outlinewidth": 0,
             "ticks": ""
            },
            "colorscale": [
             [
              0,
              "#0d0887"
             ],
             [
              0.1111111111111111,
              "#46039f"
             ],
             [
              0.2222222222222222,
              "#7201a8"
             ],
             [
              0.3333333333333333,
              "#9c179e"
             ],
             [
              0.4444444444444444,
              "#bd3786"
             ],
             [
              0.5555555555555556,
              "#d8576b"
             ],
             [
              0.6666666666666666,
              "#ed7953"
             ],
             [
              0.7777777777777778,
              "#fb9f3a"
             ],
             [
              0.8888888888888888,
              "#fdca26"
             ],
             [
              1,
              "#f0f921"
             ]
            ],
            "type": "heatmap"
           }
          ],
          "heatmapgl": [
           {
            "colorbar": {
             "outlinewidth": 0,
             "ticks": ""
            },
            "colorscale": [
             [
              0,
              "#0d0887"
             ],
             [
              0.1111111111111111,
              "#46039f"
             ],
             [
              0.2222222222222222,
              "#7201a8"
             ],
             [
              0.3333333333333333,
              "#9c179e"
             ],
             [
              0.4444444444444444,
              "#bd3786"
             ],
             [
              0.5555555555555556,
              "#d8576b"
             ],
             [
              0.6666666666666666,
              "#ed7953"
             ],
             [
              0.7777777777777778,
              "#fb9f3a"
             ],
             [
              0.8888888888888888,
              "#fdca26"
             ],
             [
              1,
              "#f0f921"
             ]
            ],
            "type": "heatmapgl"
           }
          ],
          "histogram": [
           {
            "marker": {
             "colorbar": {
              "outlinewidth": 0,
              "ticks": ""
             }
            },
            "type": "histogram"
           }
          ],
          "histogram2d": [
           {
            "colorbar": {
             "outlinewidth": 0,
             "ticks": ""
            },
            "colorscale": [
             [
              0,
              "#0d0887"
             ],
             [
              0.1111111111111111,
              "#46039f"
             ],
             [
              0.2222222222222222,
              "#7201a8"
             ],
             [
              0.3333333333333333,
              "#9c179e"
             ],
             [
              0.4444444444444444,
              "#bd3786"
             ],
             [
              0.5555555555555556,
              "#d8576b"
             ],
             [
              0.6666666666666666,
              "#ed7953"
             ],
             [
              0.7777777777777778,
              "#fb9f3a"
             ],
             [
              0.8888888888888888,
              "#fdca26"
             ],
             [
              1,
              "#f0f921"
             ]
            ],
            "type": "histogram2d"
           }
          ],
          "histogram2dcontour": [
           {
            "colorbar": {
             "outlinewidth": 0,
             "ticks": ""
            },
            "colorscale": [
             [
              0,
              "#0d0887"
             ],
             [
              0.1111111111111111,
              "#46039f"
             ],
             [
              0.2222222222222222,
              "#7201a8"
             ],
             [
              0.3333333333333333,
              "#9c179e"
             ],
             [
              0.4444444444444444,
              "#bd3786"
             ],
             [
              0.5555555555555556,
              "#d8576b"
             ],
             [
              0.6666666666666666,
              "#ed7953"
             ],
             [
              0.7777777777777778,
              "#fb9f3a"
             ],
             [
              0.8888888888888888,
              "#fdca26"
             ],
             [
              1,
              "#f0f921"
             ]
            ],
            "type": "histogram2dcontour"
           }
          ],
          "mesh3d": [
           {
            "colorbar": {
             "outlinewidth": 0,
             "ticks": ""
            },
            "type": "mesh3d"
           }
          ],
          "parcoords": [
           {
            "line": {
             "colorbar": {
              "outlinewidth": 0,
              "ticks": ""
             }
            },
            "type": "parcoords"
           }
          ],
          "pie": [
           {
            "automargin": true,
            "type": "pie"
           }
          ],
          "scatter": [
           {
            "marker": {
             "colorbar": {
              "outlinewidth": 0,
              "ticks": ""
             }
            },
            "type": "scatter"
           }
          ],
          "scatter3d": [
           {
            "line": {
             "colorbar": {
              "outlinewidth": 0,
              "ticks": ""
             }
            },
            "marker": {
             "colorbar": {
              "outlinewidth": 0,
              "ticks": ""
             }
            },
            "type": "scatter3d"
           }
          ],
          "scattercarpet": [
           {
            "marker": {
             "colorbar": {
              "outlinewidth": 0,
              "ticks": ""
             }
            },
            "type": "scattercarpet"
           }
          ],
          "scattergeo": [
           {
            "marker": {
             "colorbar": {
              "outlinewidth": 0,
              "ticks": ""
             }
            },
            "type": "scattergeo"
           }
          ],
          "scattergl": [
           {
            "marker": {
             "colorbar": {
              "outlinewidth": 0,
              "ticks": ""
             }
            },
            "type": "scattergl"
           }
          ],
          "scattermapbox": [
           {
            "marker": {
             "colorbar": {
              "outlinewidth": 0,
              "ticks": ""
             }
            },
            "type": "scattermapbox"
           }
          ],
          "scatterpolar": [
           {
            "marker": {
             "colorbar": {
              "outlinewidth": 0,
              "ticks": ""
             }
            },
            "type": "scatterpolar"
           }
          ],
          "scatterpolargl": [
           {
            "marker": {
             "colorbar": {
              "outlinewidth": 0,
              "ticks": ""
             }
            },
            "type": "scatterpolargl"
           }
          ],
          "scatterternary": [
           {
            "marker": {
             "colorbar": {
              "outlinewidth": 0,
              "ticks": ""
             }
            },
            "type": "scatterternary"
           }
          ],
          "surface": [
           {
            "colorbar": {
             "outlinewidth": 0,
             "ticks": ""
            },
            "colorscale": [
             [
              0,
              "#0d0887"
             ],
             [
              0.1111111111111111,
              "#46039f"
             ],
             [
              0.2222222222222222,
              "#7201a8"
             ],
             [
              0.3333333333333333,
              "#9c179e"
             ],
             [
              0.4444444444444444,
              "#bd3786"
             ],
             [
              0.5555555555555556,
              "#d8576b"
             ],
             [
              0.6666666666666666,
              "#ed7953"
             ],
             [
              0.7777777777777778,
              "#fb9f3a"
             ],
             [
              0.8888888888888888,
              "#fdca26"
             ],
             [
              1,
              "#f0f921"
             ]
            ],
            "type": "surface"
           }
          ],
          "table": [
           {
            "cells": {
             "fill": {
              "color": "#EBF0F8"
             },
             "line": {
              "color": "white"
             }
            },
            "header": {
             "fill": {
              "color": "#C8D4E3"
             },
             "line": {
              "color": "white"
             }
            },
            "type": "table"
           }
          ]
         },
         "layout": {
          "annotationdefaults": {
           "arrowcolor": "#2a3f5f",
           "arrowhead": 0,
           "arrowwidth": 1
          },
          "coloraxis": {
           "colorbar": {
            "outlinewidth": 0,
            "ticks": ""
           }
          },
          "colorscale": {
           "diverging": [
            [
             0,
             "#8e0152"
            ],
            [
             0.1,
             "#c51b7d"
            ],
            [
             0.2,
             "#de77ae"
            ],
            [
             0.3,
             "#f1b6da"
            ],
            [
             0.4,
             "#fde0ef"
            ],
            [
             0.5,
             "#f7f7f7"
            ],
            [
             0.6,
             "#e6f5d0"
            ],
            [
             0.7,
             "#b8e186"
            ],
            [
             0.8,
             "#7fbc41"
            ],
            [
             0.9,
             "#4d9221"
            ],
            [
             1,
             "#276419"
            ]
           ],
           "sequential": [
            [
             0,
             "#0d0887"
            ],
            [
             0.1111111111111111,
             "#46039f"
            ],
            [
             0.2222222222222222,
             "#7201a8"
            ],
            [
             0.3333333333333333,
             "#9c179e"
            ],
            [
             0.4444444444444444,
             "#bd3786"
            ],
            [
             0.5555555555555556,
             "#d8576b"
            ],
            [
             0.6666666666666666,
             "#ed7953"
            ],
            [
             0.7777777777777778,
             "#fb9f3a"
            ],
            [
             0.8888888888888888,
             "#fdca26"
            ],
            [
             1,
             "#f0f921"
            ]
           ],
           "sequentialminus": [
            [
             0,
             "#0d0887"
            ],
            [
             0.1111111111111111,
             "#46039f"
            ],
            [
             0.2222222222222222,
             "#7201a8"
            ],
            [
             0.3333333333333333,
             "#9c179e"
            ],
            [
             0.4444444444444444,
             "#bd3786"
            ],
            [
             0.5555555555555556,
             "#d8576b"
            ],
            [
             0.6666666666666666,
             "#ed7953"
            ],
            [
             0.7777777777777778,
             "#fb9f3a"
            ],
            [
             0.8888888888888888,
             "#fdca26"
            ],
            [
             1,
             "#f0f921"
            ]
           ]
          },
          "colorway": [
           "#636efa",
           "#EF553B",
           "#00cc96",
           "#ab63fa",
           "#FFA15A",
           "#19d3f3",
           "#FF6692",
           "#B6E880",
           "#FF97FF",
           "#FECB52"
          ],
          "font": {
           "color": "#2a3f5f"
          },
          "geo": {
           "bgcolor": "white",
           "lakecolor": "white",
           "landcolor": "#E5ECF6",
           "showlakes": true,
           "showland": true,
           "subunitcolor": "white"
          },
          "hoverlabel": {
           "align": "left"
          },
          "hovermode": "closest",
          "mapbox": {
           "style": "light"
          },
          "paper_bgcolor": "white",
          "plot_bgcolor": "#E5ECF6",
          "polar": {
           "angularaxis": {
            "gridcolor": "white",
            "linecolor": "white",
            "ticks": ""
           },
           "bgcolor": "#E5ECF6",
           "radialaxis": {
            "gridcolor": "white",
            "linecolor": "white",
            "ticks": ""
           }
          },
          "scene": {
           "xaxis": {
            "backgroundcolor": "#E5ECF6",
            "gridcolor": "white",
            "gridwidth": 2,
            "linecolor": "white",
            "showbackground": true,
            "ticks": "",
            "zerolinecolor": "white"
           },
           "yaxis": {
            "backgroundcolor": "#E5ECF6",
            "gridcolor": "white",
            "gridwidth": 2,
            "linecolor": "white",
            "showbackground": true,
            "ticks": "",
            "zerolinecolor": "white"
           },
           "zaxis": {
            "backgroundcolor": "#E5ECF6",
            "gridcolor": "white",
            "gridwidth": 2,
            "linecolor": "white",
            "showbackground": true,
            "ticks": "",
            "zerolinecolor": "white"
           }
          },
          "shapedefaults": {
           "line": {
            "color": "#2a3f5f"
           }
          },
          "ternary": {
           "aaxis": {
            "gridcolor": "white",
            "linecolor": "white",
            "ticks": ""
           },
           "baxis": {
            "gridcolor": "white",
            "linecolor": "white",
            "ticks": ""
           },
           "bgcolor": "#E5ECF6",
           "caxis": {
            "gridcolor": "white",
            "linecolor": "white",
            "ticks": ""
           }
          },
          "title": {
           "x": 0.05
          },
          "xaxis": {
           "automargin": true,
           "gridcolor": "white",
           "linecolor": "white",
           "ticks": "",
           "title": {
            "standoff": 15
           },
           "zerolinecolor": "white",
           "zerolinewidth": 2
          },
          "yaxis": {
           "automargin": true,
           "gridcolor": "white",
           "linecolor": "white",
           "ticks": "",
           "title": {
            "standoff": 15
           },
           "zerolinecolor": "white",
           "zerolinewidth": 2
          }
         }
        },
        "title": {
         "font": {
          "color": "#4D5663"
         },
         "text": "Immigrant population from 2010-2019"
        },
        "xaxis": {
         "gridcolor": "#E1E5ED",
         "showgrid": true,
         "tickfont": {
          "color": "#4D5663"
         },
         "title": {
          "font": {
           "color": "#4D5663"
          },
          "text": ""
         },
         "zerolinecolor": "#E1E5ED"
        },
        "yaxis": {
         "gridcolor": "#E1E5ED",
         "showgrid": true,
         "tickfont": {
          "color": "#4D5663"
         },
         "title": {
          "font": {
           "color": "#4D5663"
          },
          "text": ""
         },
         "zerolinecolor": "#E1E5ED"
        }
       }
      },
      "text/html": [
       "<div>                            <div id=\"0368a047-ceb0-4c1f-b777-e08171ebdada\" class=\"plotly-graph-div\" style=\"height:525px; width:100%;\"></div>            <script type=\"text/javascript\">                require([\"plotly\"], function(Plotly) {                    window.PLOTLYENV=window.PLOTLYENV || {};\n",
       "                    window.PLOTLYENV.BASE_URL='https://plot.ly';                                    if (document.getElementById(\"0368a047-ceb0-4c1f-b777-e08171ebdada\")) {                    Plotly.newPlot(                        \"0368a047-ceb0-4c1f-b777-e08171ebdada\",                        [{\"marker\": {\"color\": \"rgba(255, 153, 51, 0.8)\", \"line\": {\"color\": \"rgba(255, 153, 51, 1.0)\", \"width\": 1}}, \"name\": \"2010\", \"orientation\": \"v\", \"text\": \"\", \"type\": \"bar\", \"x\": [\"WHOLE COUNTRY\", \"Uusimaa\", \"Southwest\", \"Satakunta\", \"Kanta-H\\u00e4me\", \"Pirkanmaa\", \"P\\u00e4ij\\u00e4t-H\\u00e4me\", \"Kymenlaakso\", \"South Karelia\", \"South Savo\", \"North Savo\", \"North Karelia\", \"Central\", \"South Ostrobothnia\", \"Ostrobothnia\", \"Central Ostrobothnia\", \"North Ostrobothnia\", \"Kainuu\", \"Lapland\", \"\\u00c5land\"], \"y\": [167954, 86685, 14570, 3016, 3045, 11411, 4924, 5494, 3597, 2368, 3099, 2987, 4349, 2113, 6750, 1066, 5558, 1354, 3153, 2415]}, {\"marker\": {\"color\": \"rgba(55, 128, 191, 0.8)\", \"line\": {\"color\": \"rgba(55, 128, 191, 1.0)\", \"width\": 1}}, \"name\": \"2011\", \"orientation\": \"v\", \"text\": \"\", \"type\": \"bar\", \"x\": [\"WHOLE COUNTRY\", \"Uusimaa\", \"Southwest\", \"Satakunta\", \"Kanta-H\\u00e4me\", \"Pirkanmaa\", \"P\\u00e4ij\\u00e4t-H\\u00e4me\", \"Kymenlaakso\", \"South Karelia\", \"South Savo\", \"North Savo\", \"North Karelia\", \"Central\", \"South Ostrobothnia\", \"Ostrobothnia\", \"Central Ostrobothnia\", \"North Ostrobothnia\", \"Kainuu\", \"Lapland\", \"\\u00c5land\"], \"y\": [183133, 94966, 15553, 3340, 3356, 12351, 5263, 5978, 3908, 2479, 3470, 3235, 4687, 2434, 7608, 1193, 6033, 1360, 3359, 2560]}, {\"marker\": {\"color\": \"rgba(50, 171, 96, 0.8)\", \"line\": {\"color\": \"rgba(50, 171, 96, 1.0)\", \"width\": 1}}, \"name\": \"2012\", \"orientation\": \"v\", \"text\": \"\", \"type\": \"bar\", \"x\": [\"WHOLE COUNTRY\", \"Uusimaa\", \"Southwest\", \"Satakunta\", \"Kanta-H\\u00e4me\", \"Pirkanmaa\", \"P\\u00e4ij\\u00e4t-H\\u00e4me\", \"Kymenlaakso\", \"South Karelia\", \"South Savo\", \"North Savo\", \"North Karelia\", \"Central\", \"South Ostrobothnia\", \"Ostrobothnia\", \"Central Ostrobothnia\", \"North Ostrobothnia\", \"Kainuu\", \"Lapland\", \"\\u00c5land\"], \"y\": [195511, 102118, 16443, 3805, 3836, 12663, 5595, 6411, 4179, 2635, 3854, 3400, 4902, 2743, 7943, 1255, 6286, 1360, 3473, 2610]}, {\"marker\": {\"color\": \"rgba(128, 0, 128, 0.8)\", \"line\": {\"color\": \"rgba(128, 0, 128, 1.0)\", \"width\": 1}}, \"name\": \"2013\", \"orientation\": \"v\", \"text\": \"\", \"type\": \"bar\", \"x\": [\"WHOLE COUNTRY\", \"Uusimaa\", \"Southwest\", \"Satakunta\", \"Kanta-H\\u00e4me\", \"Pirkanmaa\", \"P\\u00e4ij\\u00e4t-H\\u00e4me\", \"Kymenlaakso\", \"South Karelia\", \"South Savo\", \"North Savo\", \"North Karelia\", \"Central\", \"South Ostrobothnia\", \"Ostrobothnia\", \"Central Ostrobothnia\", \"North Ostrobothnia\", \"Kainuu\", \"Lapland\", \"\\u00c5land\"], \"y\": [207511, 109213, 17084, 4268, 4237, 13305, 5789, 6685, 4421, 2752, 4128, 3654, 5059, 3004, 8252, 1293, 6676, 1328, 3642, 2721]}, {\"marker\": {\"color\": \"rgba(219, 64, 82, 0.8)\", \"line\": {\"color\": \"rgba(219, 64, 82, 1.0)\", \"width\": 1}}, \"name\": \"2014\", \"orientation\": \"v\", \"text\": \"\", \"type\": \"bar\", \"x\": [\"WHOLE COUNTRY\", \"Uusimaa\", \"Southwest\", \"Satakunta\", \"Kanta-H\\u00e4me\", \"Pirkanmaa\", \"P\\u00e4ij\\u00e4t-H\\u00e4me\", \"Kymenlaakso\", \"South Karelia\", \"South Savo\", \"North Savo\", \"North Karelia\", \"Central\", \"South Ostrobothnia\", \"Ostrobothnia\", \"Central Ostrobothnia\", \"North Ostrobothnia\", \"Kainuu\", \"Lapland\", \"\\u00c5land\"], \"y\": [219675, 116791, 18161, 4631, 4566, 13738, 5894, 6949, 4588, 2830, 4472, 3747, 5303, 3165, 8599, 1292, 6983, 1335, 3794, 2837]}, {\"marker\": {\"color\": \"rgba(0, 128, 128, 0.8)\", \"line\": {\"color\": \"rgba(0, 128, 128, 1.0)\", \"width\": 1}}, \"name\": \"2015\", \"orientation\": \"v\", \"text\": \"\", \"type\": \"bar\", \"x\": [\"WHOLE COUNTRY\", \"Uusimaa\", \"Southwest\", \"Satakunta\", \"Kanta-H\\u00e4me\", \"Pirkanmaa\", \"P\\u00e4ij\\u00e4t-H\\u00e4me\", \"Kymenlaakso\", \"South Karelia\", \"South Savo\", \"North Savo\", \"North Karelia\", \"Central\", \"South Ostrobothnia\", \"Ostrobothnia\", \"Central Ostrobothnia\", \"North Ostrobothnia\", \"Kainuu\", \"Lapland\", \"\\u00c5land\"], \"y\": [229765, 123300, 18834, 4941, 4794, 14208, 5993, 6986, 4764, 2997, 4697, 3697, 5515, 3147, 9002, 1424, 7355, 1357, 3827, 2927]}, {\"marker\": {\"color\": \"rgba(255, 255, 51, 0.8)\", \"line\": {\"color\": \"rgba(255, 255, 51, 1.0)\", \"width\": 1}}, \"name\": \"2016\", \"orientation\": \"v\", \"text\": \"\", \"type\": \"bar\", \"x\": [\"WHOLE COUNTRY\", \"Uusimaa\", \"Southwest\", \"Satakunta\", \"Kanta-H\\u00e4me\", \"Pirkanmaa\", \"P\\u00e4ij\\u00e4t-H\\u00e4me\", \"Kymenlaakso\", \"South Karelia\", \"South Savo\", \"North Savo\", \"North Karelia\", \"Central\", \"South Ostrobothnia\", \"Ostrobothnia\", \"Central Ostrobothnia\", \"North Ostrobothnia\", \"Kainuu\", \"Lapland\", \"\\u00c5land\"], \"y\": [243639, 130963, 19814, 5479, 5079, 15040, 6524, 7218, 4974, 3241, 4974, 3881, 6026, 3180, 9174, 1537, 8054, 1395, 3994, 3092]}, {\"marker\": {\"color\": \"rgba(128, 128, 0, 0.8)\", \"line\": {\"color\": \"rgba(128, 128, 0, 1.0)\", \"width\": 1}}, \"name\": \"2017\", \"orientation\": \"v\", \"text\": \"\", \"type\": \"bar\", \"x\": [\"WHOLE COUNTRY\", \"Uusimaa\", \"Southwest\", \"Satakunta\", \"Kanta-H\\u00e4me\", \"Pirkanmaa\", \"P\\u00e4ij\\u00e4t-H\\u00e4me\", \"Kymenlaakso\", \"South Karelia\", \"South Savo\", \"North Savo\", \"North Karelia\", \"Central\", \"South Ostrobothnia\", \"Ostrobothnia\", \"Central Ostrobothnia\", \"North Ostrobothnia\", \"Kainuu\", \"Lapland\", \"\\u00c5land\"], \"y\": [249452, 135412, 20408, 5833, 5206, 15308, 6730, 6706, 4882, 3172, 5011, 3819, 6152, 3150, 9400, 1461, 8231, 1376, 4013, 3182]}, {\"marker\": {\"color\": \"rgba(251, 128, 114, 0.8)\", \"line\": {\"color\": \"rgba(251, 128, 114, 1.0)\", \"width\": 1}}, \"name\": \"2018\", \"orientation\": \"v\", \"text\": \"\", \"type\": \"bar\", \"x\": [\"WHOLE COUNTRY\", \"Uusimaa\", \"Southwest\", \"Satakunta\", \"Kanta-H\\u00e4me\", \"Pirkanmaa\", \"P\\u00e4ij\\u00e4t-H\\u00e4me\", \"Kymenlaakso\", \"South Karelia\", \"South Savo\", \"North Savo\", \"North Karelia\", \"Central\", \"South Ostrobothnia\", \"Ostrobothnia\", \"Central Ostrobothnia\", \"North Ostrobothnia\", \"Kainuu\", \"Lapland\", \"\\u00c5land\"], \"y\": [257572, 141597, 21185, 6095, 5059, 15679, 7032, 6493, 4776, 3191, 5091, 3774, 6121, 3227, 9519, 1425, 8483, 1327, 4102, 3396]}, {\"marker\": {\"color\": \"rgba(128, 177, 211, 0.8)\", \"line\": {\"color\": \"rgba(128, 177, 211, 1.0)\", \"width\": 1}}, \"name\": \"2019\", \"orientation\": \"v\", \"text\": \"\", \"type\": \"bar\", \"x\": [\"WHOLE COUNTRY\", \"Uusimaa\", \"Southwest\", \"Satakunta\", \"Kanta-H\\u00e4me\", \"Pirkanmaa\", \"P\\u00e4ij\\u00e4t-H\\u00e4me\", \"Kymenlaakso\", \"South Karelia\", \"South Savo\", \"North Savo\", \"North Karelia\", \"Central\", \"South Ostrobothnia\", \"Ostrobothnia\", \"Central Ostrobothnia\", \"North Ostrobothnia\", \"Kainuu\", \"Lapland\", \"\\u00c5land\"], \"y\": [267629, 149253, 21913, 6280, 5118, 16329, 7134, 6270, 4785, 3180, 5050, 3909, 6309, 3344, 9634, 1447, 8908, 1357, 3988, 3421]}],                        {\"legend\": {\"bgcolor\": \"#F5F6F9\", \"font\": {\"color\": \"#4D5663\"}}, \"paper_bgcolor\": \"#F5F6F9\", \"plot_bgcolor\": \"#F5F6F9\", \"template\": {\"data\": {\"bar\": [{\"error_x\": {\"color\": \"#2a3f5f\"}, \"error_y\": {\"color\": \"#2a3f5f\"}, \"marker\": {\"line\": {\"color\": \"#E5ECF6\", \"width\": 0.5}}, \"type\": \"bar\"}], \"barpolar\": [{\"marker\": {\"line\": {\"color\": \"#E5ECF6\", \"width\": 0.5}}, \"type\": \"barpolar\"}], \"carpet\": [{\"aaxis\": {\"endlinecolor\": \"#2a3f5f\", \"gridcolor\": \"white\", \"linecolor\": \"white\", \"minorgridcolor\": \"white\", \"startlinecolor\": \"#2a3f5f\"}, \"baxis\": {\"endlinecolor\": \"#2a3f5f\", \"gridcolor\": \"white\", \"linecolor\": \"white\", \"minorgridcolor\": \"white\", \"startlinecolor\": \"#2a3f5f\"}, \"type\": \"carpet\"}], \"choropleth\": [{\"colorbar\": {\"outlinewidth\": 0, \"ticks\": \"\"}, \"type\": \"choropleth\"}], \"contour\": [{\"colorbar\": {\"outlinewidth\": 0, \"ticks\": \"\"}, \"colorscale\": [[0.0, \"#0d0887\"], [0.1111111111111111, \"#46039f\"], [0.2222222222222222, \"#7201a8\"], [0.3333333333333333, \"#9c179e\"], [0.4444444444444444, \"#bd3786\"], [0.5555555555555556, \"#d8576b\"], [0.6666666666666666, \"#ed7953\"], [0.7777777777777778, \"#fb9f3a\"], [0.8888888888888888, \"#fdca26\"], [1.0, \"#f0f921\"]], \"type\": \"contour\"}], \"contourcarpet\": [{\"colorbar\": {\"outlinewidth\": 0, \"ticks\": \"\"}, \"type\": \"contourcarpet\"}], \"heatmap\": [{\"colorbar\": {\"outlinewidth\": 0, \"ticks\": \"\"}, \"colorscale\": [[0.0, \"#0d0887\"], [0.1111111111111111, \"#46039f\"], [0.2222222222222222, \"#7201a8\"], [0.3333333333333333, \"#9c179e\"], [0.4444444444444444, \"#bd3786\"], [0.5555555555555556, \"#d8576b\"], [0.6666666666666666, \"#ed7953\"], [0.7777777777777778, \"#fb9f3a\"], [0.8888888888888888, \"#fdca26\"], [1.0, \"#f0f921\"]], \"type\": \"heatmap\"}], \"heatmapgl\": [{\"colorbar\": {\"outlinewidth\": 0, \"ticks\": \"\"}, \"colorscale\": [[0.0, \"#0d0887\"], [0.1111111111111111, \"#46039f\"], [0.2222222222222222, \"#7201a8\"], [0.3333333333333333, \"#9c179e\"], [0.4444444444444444, \"#bd3786\"], [0.5555555555555556, \"#d8576b\"], [0.6666666666666666, \"#ed7953\"], [0.7777777777777778, \"#fb9f3a\"], [0.8888888888888888, \"#fdca26\"], [1.0, \"#f0f921\"]], \"type\": \"heatmapgl\"}], \"histogram\": [{\"marker\": {\"colorbar\": {\"outlinewidth\": 0, \"ticks\": \"\"}}, \"type\": \"histogram\"}], \"histogram2d\": [{\"colorbar\": {\"outlinewidth\": 0, \"ticks\": \"\"}, \"colorscale\": [[0.0, \"#0d0887\"], [0.1111111111111111, \"#46039f\"], [0.2222222222222222, \"#7201a8\"], [0.3333333333333333, \"#9c179e\"], [0.4444444444444444, \"#bd3786\"], [0.5555555555555556, \"#d8576b\"], [0.6666666666666666, \"#ed7953\"], [0.7777777777777778, \"#fb9f3a\"], [0.8888888888888888, \"#fdca26\"], [1.0, \"#f0f921\"]], \"type\": \"histogram2d\"}], \"histogram2dcontour\": [{\"colorbar\": {\"outlinewidth\": 0, \"ticks\": \"\"}, \"colorscale\": [[0.0, \"#0d0887\"], [0.1111111111111111, \"#46039f\"], [0.2222222222222222, \"#7201a8\"], [0.3333333333333333, \"#9c179e\"], [0.4444444444444444, \"#bd3786\"], [0.5555555555555556, \"#d8576b\"], [0.6666666666666666, \"#ed7953\"], [0.7777777777777778, \"#fb9f3a\"], [0.8888888888888888, \"#fdca26\"], [1.0, \"#f0f921\"]], \"type\": \"histogram2dcontour\"}], \"mesh3d\": [{\"colorbar\": {\"outlinewidth\": 0, \"ticks\": \"\"}, \"type\": \"mesh3d\"}], \"parcoords\": [{\"line\": {\"colorbar\": {\"outlinewidth\": 0, \"ticks\": \"\"}}, \"type\": \"parcoords\"}], \"pie\": [{\"automargin\": true, \"type\": \"pie\"}], \"scatter\": [{\"marker\": {\"colorbar\": {\"outlinewidth\": 0, \"ticks\": \"\"}}, \"type\": \"scatter\"}], \"scatter3d\": [{\"line\": {\"colorbar\": {\"outlinewidth\": 0, \"ticks\": \"\"}}, \"marker\": {\"colorbar\": {\"outlinewidth\": 0, \"ticks\": \"\"}}, \"type\": \"scatter3d\"}], \"scattercarpet\": [{\"marker\": {\"colorbar\": {\"outlinewidth\": 0, \"ticks\": \"\"}}, \"type\": \"scattercarpet\"}], \"scattergeo\": [{\"marker\": {\"colorbar\": {\"outlinewidth\": 0, \"ticks\": \"\"}}, \"type\": \"scattergeo\"}], \"scattergl\": [{\"marker\": {\"colorbar\": {\"outlinewidth\": 0, \"ticks\": \"\"}}, \"type\": \"scattergl\"}], \"scattermapbox\": [{\"marker\": {\"colorbar\": {\"outlinewidth\": 0, \"ticks\": \"\"}}, \"type\": \"scattermapbox\"}], \"scatterpolar\": [{\"marker\": {\"colorbar\": {\"outlinewidth\": 0, \"ticks\": \"\"}}, \"type\": \"scatterpolar\"}], \"scatterpolargl\": [{\"marker\": {\"colorbar\": {\"outlinewidth\": 0, \"ticks\": \"\"}}, \"type\": \"scatterpolargl\"}], \"scatterternary\": [{\"marker\": {\"colorbar\": {\"outlinewidth\": 0, \"ticks\": \"\"}}, \"type\": \"scatterternary\"}], \"surface\": [{\"colorbar\": {\"outlinewidth\": 0, \"ticks\": \"\"}, \"colorscale\": [[0.0, \"#0d0887\"], [0.1111111111111111, \"#46039f\"], [0.2222222222222222, \"#7201a8\"], [0.3333333333333333, \"#9c179e\"], [0.4444444444444444, \"#bd3786\"], [0.5555555555555556, \"#d8576b\"], [0.6666666666666666, \"#ed7953\"], [0.7777777777777778, \"#fb9f3a\"], [0.8888888888888888, \"#fdca26\"], [1.0, \"#f0f921\"]], \"type\": \"surface\"}], \"table\": [{\"cells\": {\"fill\": {\"color\": \"#EBF0F8\"}, \"line\": {\"color\": \"white\"}}, \"header\": {\"fill\": {\"color\": \"#C8D4E3\"}, \"line\": {\"color\": \"white\"}}, \"type\": \"table\"}]}, \"layout\": {\"annotationdefaults\": {\"arrowcolor\": \"#2a3f5f\", \"arrowhead\": 0, \"arrowwidth\": 1}, \"coloraxis\": {\"colorbar\": {\"outlinewidth\": 0, \"ticks\": \"\"}}, \"colorscale\": {\"diverging\": [[0, \"#8e0152\"], [0.1, \"#c51b7d\"], [0.2, \"#de77ae\"], [0.3, \"#f1b6da\"], [0.4, \"#fde0ef\"], [0.5, \"#f7f7f7\"], [0.6, \"#e6f5d0\"], [0.7, \"#b8e186\"], [0.8, \"#7fbc41\"], [0.9, \"#4d9221\"], [1, \"#276419\"]], \"sequential\": [[0.0, \"#0d0887\"], [0.1111111111111111, \"#46039f\"], [0.2222222222222222, \"#7201a8\"], [0.3333333333333333, \"#9c179e\"], [0.4444444444444444, \"#bd3786\"], [0.5555555555555556, \"#d8576b\"], [0.6666666666666666, \"#ed7953\"], [0.7777777777777778, \"#fb9f3a\"], [0.8888888888888888, \"#fdca26\"], [1.0, \"#f0f921\"]], \"sequentialminus\": [[0.0, \"#0d0887\"], [0.1111111111111111, \"#46039f\"], [0.2222222222222222, \"#7201a8\"], [0.3333333333333333, \"#9c179e\"], [0.4444444444444444, \"#bd3786\"], [0.5555555555555556, \"#d8576b\"], [0.6666666666666666, \"#ed7953\"], [0.7777777777777778, \"#fb9f3a\"], [0.8888888888888888, \"#fdca26\"], [1.0, \"#f0f921\"]]}, \"colorway\": [\"#636efa\", \"#EF553B\", \"#00cc96\", \"#ab63fa\", \"#FFA15A\", \"#19d3f3\", \"#FF6692\", \"#B6E880\", \"#FF97FF\", \"#FECB52\"], \"font\": {\"color\": \"#2a3f5f\"}, \"geo\": {\"bgcolor\": \"white\", \"lakecolor\": \"white\", \"landcolor\": \"#E5ECF6\", \"showlakes\": true, \"showland\": true, \"subunitcolor\": \"white\"}, \"hoverlabel\": {\"align\": \"left\"}, \"hovermode\": \"closest\", \"mapbox\": {\"style\": \"light\"}, \"paper_bgcolor\": \"white\", \"plot_bgcolor\": \"#E5ECF6\", \"polar\": {\"angularaxis\": {\"gridcolor\": \"white\", \"linecolor\": \"white\", \"ticks\": \"\"}, \"bgcolor\": \"#E5ECF6\", \"radialaxis\": {\"gridcolor\": \"white\", \"linecolor\": \"white\", \"ticks\": \"\"}}, \"scene\": {\"xaxis\": {\"backgroundcolor\": \"#E5ECF6\", \"gridcolor\": \"white\", \"gridwidth\": 2, \"linecolor\": \"white\", \"showbackground\": true, \"ticks\": \"\", \"zerolinecolor\": \"white\"}, \"yaxis\": {\"backgroundcolor\": \"#E5ECF6\", \"gridcolor\": \"white\", \"gridwidth\": 2, \"linecolor\": \"white\", \"showbackground\": true, \"ticks\": \"\", \"zerolinecolor\": \"white\"}, \"zaxis\": {\"backgroundcolor\": \"#E5ECF6\", \"gridcolor\": \"white\", \"gridwidth\": 2, \"linecolor\": \"white\", \"showbackground\": true, \"ticks\": \"\", \"zerolinecolor\": \"white\"}}, \"shapedefaults\": {\"line\": {\"color\": \"#2a3f5f\"}}, \"ternary\": {\"aaxis\": {\"gridcolor\": \"white\", \"linecolor\": \"white\", \"ticks\": \"\"}, \"baxis\": {\"gridcolor\": \"white\", \"linecolor\": \"white\", \"ticks\": \"\"}, \"bgcolor\": \"#E5ECF6\", \"caxis\": {\"gridcolor\": \"white\", \"linecolor\": \"white\", \"ticks\": \"\"}}, \"title\": {\"x\": 0.05}, \"xaxis\": {\"automargin\": true, \"gridcolor\": \"white\", \"linecolor\": \"white\", \"ticks\": \"\", \"title\": {\"standoff\": 15}, \"zerolinecolor\": \"white\", \"zerolinewidth\": 2}, \"yaxis\": {\"automargin\": true, \"gridcolor\": \"white\", \"linecolor\": \"white\", \"ticks\": \"\", \"title\": {\"standoff\": 15}, \"zerolinecolor\": \"white\", \"zerolinewidth\": 2}}}, \"title\": {\"font\": {\"color\": \"#4D5663\"}, \"text\": \"Immigrant population from 2010-2019\"}, \"xaxis\": {\"gridcolor\": \"#E1E5ED\", \"showgrid\": true, \"tickfont\": {\"color\": \"#4D5663\"}, \"title\": {\"font\": {\"color\": \"#4D5663\"}, \"text\": \"\"}, \"zerolinecolor\": \"#E1E5ED\"}, \"yaxis\": {\"gridcolor\": \"#E1E5ED\", \"showgrid\": true, \"tickfont\": {\"color\": \"#4D5663\"}, \"title\": {\"font\": {\"color\": \"#4D5663\"}, \"text\": \"\"}, \"zerolinecolor\": \"#E1E5ED\"}},                        {\"showLink\": true, \"linkText\": \"Export to plot.ly\", \"plotlyServerURL\": \"https://plot.ly\", \"responsive\": true}                    ).then(function(){\n",
       "                            \n",
       "var gd = document.getElementById('0368a047-ceb0-4c1f-b777-e08171ebdada');\n",
       "var x = new MutationObserver(function (mutations, observer) {{\n",
       "        var display = window.getComputedStyle(gd).display;\n",
       "        if (!display || display === 'none') {{\n",
       "            console.log([gd, 'removed!']);\n",
       "            Plotly.purge(gd);\n",
       "            observer.disconnect();\n",
       "        }}\n",
       "}});\n",
       "\n",
       "// Listen for the removal of the full notebook cells\n",
       "var notebookContainer = gd.closest('#notebook-container');\n",
       "if (notebookContainer) {{\n",
       "    x.observe(notebookContainer, {childList: true});\n",
       "}}\n",
       "\n",
       "// Listen for the clearing of the current output cell\n",
       "var outputEl = gd.closest('.output');\n",
       "if (outputEl) {{\n",
       "    x.observe(outputEl, {childList: true});\n",
       "}}\n",
       "\n",
       "                        })                };                });            </script>        </div>"
      ]
     },
     "metadata": {},
     "output_type": "display_data"
    }
   ],
   "source": [
    "df1.iplot(kind='bar',x='Region',y=['value','Year'],\n",
    "          categories='Region',\n",
    "         title='Immigrant population from 2010-2019')"
   ]
  },
  {
   "cell_type": "markdown",
   "metadata": {},
   "source": [
    "# <span style=\"color:green\">Conclusion</span>\n",
    "We can see that there is a sharp increase in foreign citizens in Filand since 2010. The highest number of increase is in Uusimaa region. We can also see unsteady population in many regions like South Karelia, North Karelia, South Ostrobothnia, Central Ostrobothnia. Though the population in those areas seems to be increase after 2010 till 2014/15, the trend has been up and down after that. The lowest foreign population is in Kainuu region by 2019 with 1357 foreigners. "
   ]
  },
  {
   "cell_type": "code",
   "execution_count": null,
   "metadata": {},
   "outputs": [],
   "source": []
  }
 ],
 "metadata": {
  "kernelspec": {
   "display_name": "Python 3",
   "language": "python",
   "name": "python3"
  },
  "language_info": {
   "codemirror_mode": {
    "name": "ipython",
    "version": 3
   },
   "file_extension": ".py",
   "mimetype": "text/x-python",
   "name": "python",
   "nbconvert_exporter": "python",
   "pygments_lexer": "ipython3",
   "version": "3.8.3"
  },
  "latex_envs": {
   "LaTeX_envs_menu_present": true,
   "autoclose": false,
   "autocomplete": true,
   "bibliofile": "biblio.bib",
   "cite_by": "apalike",
   "current_citInitial": 1,
   "eqLabelWithNumbers": true,
   "eqNumInitial": 1,
   "hotkeys": {
    "equation": "Ctrl-E",
    "itemize": "Ctrl-I"
   },
   "labels_anchors": false,
   "latex_user_defs": false,
   "report_style_numbering": false,
   "user_envs_cfg": false
  },
  "toc": {
   "base_numbering": 1,
   "nav_menu": {},
   "number_sections": true,
   "sideBar": true,
   "skip_h1_title": false,
   "title_cell": "Table of Contents",
   "title_sidebar": "Contents",
   "toc_cell": false,
   "toc_position": {},
   "toc_section_display": true,
   "toc_window_display": false
  },
  "varInspector": {
   "cols": {
    "lenName": 16,
    "lenType": 16,
    "lenVar": 40
   },
   "kernels_config": {
    "python": {
     "delete_cmd_postfix": "",
     "delete_cmd_prefix": "del ",
     "library": "var_list.py",
     "varRefreshCmd": "print(var_dic_list())"
    },
    "r": {
     "delete_cmd_postfix": ") ",
     "delete_cmd_prefix": "rm(",
     "library": "var_list.r",
     "varRefreshCmd": "cat(var_dic_list()) "
    }
   },
   "types_to_exclude": [
    "module",
    "function",
    "builtin_function_or_method",
    "instance",
    "_Feature"
   ],
   "window_display": false
  }
 },
 "nbformat": 4,
 "nbformat_minor": 4
}
