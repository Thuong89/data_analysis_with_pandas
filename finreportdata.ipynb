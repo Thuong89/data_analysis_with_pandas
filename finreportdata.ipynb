{
 "cells": [
  {
   "cell_type": "markdown",
   "metadata": {},
   "source": [
    " <b> Team Members</b>\n",
    " \n",
    " <i> Sandip Pandey</i>\n",
    " \n",
    " <i> Shree Sapkota</i>\n",
    " \n",
    " <i> Thuong Nguyen</i>"
   ]
  },
  {
   "cell_type": "markdown",
   "metadata": {},
   "source": [
    " # Dataset (Statistics Finland)\n",
    " Statistics Finland combines collected data with its own expertise to produce statistics and information services.\n",
    "Founded in 1865, Statistics Finland is the only Finnish public authority specifically established for statistics. It produces the vast majority of Finnish official statistics and is a significant international actor in the field of statistics.\n",
    "\n",
    "We collected the Immigrants and integration dataset from there vast database collections for data analysis purposes. This dataset collects information on foreigners visiting Finland throughout the years depending on the regions of the country as well as overall whole country. For data analysis purposes, we have gathered information on Citizens of foreign countries, Persons born abroad, Foreign-language speakers and Persons with foreign background depending on the regions."
   ]
  },
  {
   "cell_type": "markdown",
   "metadata": {},
   "source": [
    "## Regions of Finland\n",
    "- WHOLE COUNTRY\n",
    "- Uusimaa\n",
    "- Southwest\n",
    "- Satakunta\n",
    "- Kanta-Häme\n",
    "- Pirkanmaa\n",
    "- Päijät-Häme\n",
    "- Kymenlaakso\n",
    "- South Karelia\n",
    "- South Savo\n",
    "- North Savo\n",
    "- North Karelia\n",
    "- Central\n",
    "- South Ostrobothnia\n",
    "- Ostrobothnia\n",
    "- Central Ostrobothnia\n",
    "- North Ostrobothnia\n",
    "- Kainuu\n",
    "- Lapland\n",
    "- Åland"
   ]
  },
  {
   "cell_type": "markdown",
   "metadata": {},
   "source": [
    "## <span style=\"color:green\">Variables of the dataset based on regions of Finland</span>\n",
    "- Citizens of foreign countries\n",
    "\n",
    "- Persons born abroad\n",
    "\n",
    "- Foreign-language speakers\n",
    "\n",
    "- Persons with foreign background\n",
    "- Share of foreign citizens, %\n",
    "\n",
    "- Share of persons born abroad, %\n",
    "- Share of foreign-language speakers, %\n",
    "- Share of persons with foreign background , %\n",
    "- Share of foreign citizens among foreign citizens in the whole country, %\n",
    "- Share of persons born abroad among persons born abroad in the whole country, %\n",
    "- Share of foreign-language speakers among foreign-language speakers in the whole country, %\n",
    "- The foreign languages are other than Finnish, Swedish and Sami\n",
    "- Share of persons with foreign background among persons with foreign backgr. in the whole country, %\n"
   ]
  },
  {
   "cell_type": "markdown",
   "metadata": {},
   "source": [
    "# Analysis\n",
    "<b>Untidy part</b>\n",
    "- Splitting the dataset on basis of Regions to see the different values.\n",
    "- Checking the maximum values for each regions foreigners information.\n",
    "- Plotting the graphs to see the trend of the foreigners moving to Finland.\n",
    "- Plotting the plotly graph according to the dataset.\n",
    "\n",
    "<b>Tidy part</b>\n",
    "- Grouping the dataset according to the Regions and foreigners informations.\n",
    "- Checking different years data according to the Regions.\n",
    "- Visualization of the tidy data to see different trends of the foreigners coming to Finland.\n",
    "\n",
    "\n"
   ]
  },
  {
   "cell_type": "code",
   "execution_count": 798,
   "metadata": {
    "ExecuteTime": {
     "end_time": "2020-12-15T08:05:35.835100Z",
     "start_time": "2020-12-15T08:05:35.817018Z"
    }
   },
   "outputs": [
    {
     "data": {
      "text/html": [
       "        <script type=\"text/javascript\">\n",
       "        window.PlotlyConfig = {MathJaxConfig: 'local'};\n",
       "        if (window.MathJax) {MathJax.Hub.Config({SVG: {font: \"STIX-Web\"}});}\n",
       "        if (typeof require !== 'undefined') {\n",
       "        require.undef(\"plotly\");\n",
       "        requirejs.config({\n",
       "            paths: {\n",
       "                'plotly': ['https://cdn.plot.ly/plotly-latest.min']\n",
       "            }\n",
       "        });\n",
       "        require(['plotly'], function(Plotly) {\n",
       "            window._Plotly = Plotly;\n",
       "        });\n",
       "        }\n",
       "        </script>\n",
       "        "
      ]
     },
     "metadata": {},
     "output_type": "display_data"
    },
    {
     "data": {
      "text/html": [
       "        <script type=\"text/javascript\">\n",
       "        window.PlotlyConfig = {MathJaxConfig: 'local'};\n",
       "        if (window.MathJax) {MathJax.Hub.Config({SVG: {font: \"STIX-Web\"}});}\n",
       "        if (typeof require !== 'undefined') {\n",
       "        require.undef(\"plotly\");\n",
       "        requirejs.config({\n",
       "            paths: {\n",
       "                'plotly': ['https://cdn.plot.ly/plotly-latest.min']\n",
       "            }\n",
       "        });\n",
       "        require(['plotly'], function(Plotly) {\n",
       "            window._Plotly = Plotly;\n",
       "        });\n",
       "        }\n",
       "        </script>\n",
       "        "
      ]
     },
     "metadata": {},
     "output_type": "display_data"
    }
   ],
   "source": [
    "#importing all the libraries\n",
    "import pandas as pd\n",
    "import numpy as np\n",
    "#importing all the necessary libraries for visualization\n",
    "import matplotlib.pyplot as plt\n",
    "import ipywidgets as widgets\n",
    "from ipywidgets import interact\n",
    "import plotly.graph_objects as go\n",
    "import cufflinks as cf\n",
    "from plotly.offline import iplot,init_notebook_mode\n",
    "\n",
    "init_notebook_mode(connected=True)\n",
    "cf.go_offline(connected=True)\n"
   ]
  },
  {
   "cell_type": "markdown",
   "metadata": {},
   "source": [
    "#  Loading the csv file"
   ]
  },
  {
   "cell_type": "code",
   "execution_count": 799,
   "metadata": {
    "ExecuteTime": {
     "end_time": "2020-12-15T08:05:38.480041Z",
     "start_time": "2020-12-15T08:05:38.210045Z"
    }
   },
   "outputs": [],
   "source": [
    "# Loading the csv file\n",
    "data=pd.read_csv('PopFinland.csv',sep=';',header=[0],skiprows=[0],encoding='latin-1')"
   ]
  },
  {
   "cell_type": "code",
   "execution_count": 800,
   "metadata": {
    "ExecuteTime": {
     "end_time": "2020-12-15T08:05:39.277861Z",
     "start_time": "2020-12-15T08:05:39.244119Z"
    },
    "scrolled": true
   },
   "outputs": [
    {
     "data": {
      "text/html": [
       "<div>\n",
       "<style scoped>\n",
       "    .dataframe tbody tr th:only-of-type {\n",
       "        vertical-align: middle;\n",
       "    }\n",
       "\n",
       "    .dataframe tbody tr th {\n",
       "        vertical-align: top;\n",
       "    }\n",
       "\n",
       "    .dataframe thead th {\n",
       "        text-align: right;\n",
       "    }\n",
       "</style>\n",
       "<table border=\"1\" class=\"dataframe\">\n",
       "  <thead>\n",
       "    <tr style=\"text-align: right;\">\n",
       "      <th></th>\n",
       "      <th>Year</th>\n",
       "      <th>WHOLE COUNTRY Citizens of foreign countries</th>\n",
       "      <th>WHOLE COUNTRY Persons born abroad</th>\n",
       "      <th>WHOLE COUNTRY Foreign-language speakers</th>\n",
       "      <th>WHOLE COUNTRY Persons with foreign background</th>\n",
       "      <th>WHOLE COUNTRY Share of foreign citizens, %</th>\n",
       "      <th>WHOLE COUNTRY Share of persons born abroad, %</th>\n",
       "      <th>WHOLE COUNTRY Share of foreign-language speakers, %</th>\n",
       "      <th>WHOLE COUNTRY Share of persons with foreign background , %</th>\n",
       "      <th>WHOLE COUNTRY Share of foreign citizens among foreign citizens in the whole country, %</th>\n",
       "      <th>...</th>\n",
       "      <th>MK21 Åland Foreign-language speakers</th>\n",
       "      <th>MK21 Åland Persons with foreign background</th>\n",
       "      <th>MK21 Åland Share of foreign citizens, %</th>\n",
       "      <th>MK21 Åland Share of persons born abroad, %</th>\n",
       "      <th>MK21 Åland Share of foreign-language speakers, %</th>\n",
       "      <th>MK21 Åland Share of persons with foreign background , %</th>\n",
       "      <th>MK21 Åland Share of foreign citizens among foreign citizens in the whole country, %</th>\n",
       "      <th>MK21 Åland Share of persons born abroad among persons born abroad in the whole country, %</th>\n",
       "      <th>MK21 Åland Share of foreign-language speakers among foreign-language speakers in the whole country, %</th>\n",
       "      <th>MK21 Åland Share of persons with foreign background among persons with foreign backgr. in the whole country, %</th>\n",
       "    </tr>\n",
       "  </thead>\n",
       "  <tbody>\n",
       "    <tr>\n",
       "      <th>0</th>\n",
       "      <td>2010</td>\n",
       "      <td>167954</td>\n",
       "      <td>248135</td>\n",
       "      <td>224388</td>\n",
       "      <td>237066</td>\n",
       "      <td>3.1</td>\n",
       "      <td>4.6</td>\n",
       "      <td>4.2</td>\n",
       "      <td>4.4</td>\n",
       "      <td>100.0</td>\n",
       "      <td>...</td>\n",
       "      <td>1462</td>\n",
       "      <td>3054</td>\n",
       "      <td>8.6</td>\n",
       "      <td>13.5</td>\n",
       "      <td>5.2</td>\n",
       "      <td>10.9</td>\n",
       "      <td>1.44</td>\n",
       "      <td>1.53</td>\n",
       "      <td>0.65</td>\n",
       "      <td>1.29</td>\n",
       "    </tr>\n",
       "    <tr>\n",
       "      <th>1</th>\n",
       "      <td>2011</td>\n",
       "      <td>183133</td>\n",
       "      <td>266148</td>\n",
       "      <td>244827</td>\n",
       "      <td>257494</td>\n",
       "      <td>3.4</td>\n",
       "      <td>4.9</td>\n",
       "      <td>4.5</td>\n",
       "      <td>4.8</td>\n",
       "      <td>100.0</td>\n",
       "      <td>...</td>\n",
       "      <td>1623</td>\n",
       "      <td>3293</td>\n",
       "      <td>9.0</td>\n",
       "      <td>14.2</td>\n",
       "      <td>5.7</td>\n",
       "      <td>11.6</td>\n",
       "      <td>1.40</td>\n",
       "      <td>1.51</td>\n",
       "      <td>0.66</td>\n",
       "      <td>1.28</td>\n",
       "    </tr>\n",
       "    <tr>\n",
       "      <th>2</th>\n",
       "      <td>2012</td>\n",
       "      <td>195511</td>\n",
       "      <td>285471</td>\n",
       "      <td>266949</td>\n",
       "      <td>279616</td>\n",
       "      <td>3.6</td>\n",
       "      <td>5.3</td>\n",
       "      <td>4.9</td>\n",
       "      <td>5.2</td>\n",
       "      <td>100.0</td>\n",
       "      <td>...</td>\n",
       "      <td>1733</td>\n",
       "      <td>3454</td>\n",
       "      <td>9.2</td>\n",
       "      <td>14.6</td>\n",
       "      <td>6.1</td>\n",
       "      <td>12.1</td>\n",
       "      <td>1.33</td>\n",
       "      <td>1.46</td>\n",
       "      <td>0.65</td>\n",
       "      <td>1.24</td>\n",
       "    </tr>\n",
       "    <tr>\n",
       "      <th>3</th>\n",
       "      <td>2013</td>\n",
       "      <td>207511</td>\n",
       "      <td>304279</td>\n",
       "      <td>289068</td>\n",
       "      <td>301524</td>\n",
       "      <td>3.8</td>\n",
       "      <td>5.6</td>\n",
       "      <td>5.3</td>\n",
       "      <td>5.5</td>\n",
       "      <td>100.0</td>\n",
       "      <td>...</td>\n",
       "      <td>1850</td>\n",
       "      <td>3618</td>\n",
       "      <td>9.5</td>\n",
       "      <td>15.1</td>\n",
       "      <td>6.5</td>\n",
       "      <td>12.6</td>\n",
       "      <td>1.31</td>\n",
       "      <td>1.42</td>\n",
       "      <td>0.64</td>\n",
       "      <td>1.20</td>\n",
       "    </tr>\n",
       "    <tr>\n",
       "      <th>4</th>\n",
       "      <td>2014</td>\n",
       "      <td>219675</td>\n",
       "      <td>321977</td>\n",
       "      <td>310306</td>\n",
       "      <td>322711</td>\n",
       "      <td>4.0</td>\n",
       "      <td>5.9</td>\n",
       "      <td>5.7</td>\n",
       "      <td>5.9</td>\n",
       "      <td>100.0</td>\n",
       "      <td>...</td>\n",
       "      <td>1986</td>\n",
       "      <td>3824</td>\n",
       "      <td>9.8</td>\n",
       "      <td>15.6</td>\n",
       "      <td>6.9</td>\n",
       "      <td>13.2</td>\n",
       "      <td>1.29</td>\n",
       "      <td>1.40</td>\n",
       "      <td>0.64</td>\n",
       "      <td>1.18</td>\n",
       "    </tr>\n",
       "    <tr>\n",
       "      <th>5</th>\n",
       "      <td>2015</td>\n",
       "      <td>229765</td>\n",
       "      <td>337162</td>\n",
       "      <td>329562</td>\n",
       "      <td>339925</td>\n",
       "      <td>4.2</td>\n",
       "      <td>6.1</td>\n",
       "      <td>6.0</td>\n",
       "      <td>6.2</td>\n",
       "      <td>100.0</td>\n",
       "      <td>...</td>\n",
       "      <td>2093</td>\n",
       "      <td>3862</td>\n",
       "      <td>10.1</td>\n",
       "      <td>16.0</td>\n",
       "      <td>7.2</td>\n",
       "      <td>13.3</td>\n",
       "      <td>1.27</td>\n",
       "      <td>1.38</td>\n",
       "      <td>0.64</td>\n",
       "      <td>1.14</td>\n",
       "    </tr>\n",
       "    <tr>\n",
       "      <th>6</th>\n",
       "      <td>2016</td>\n",
       "      <td>243639</td>\n",
       "      <td>357541</td>\n",
       "      <td>353993</td>\n",
       "      <td>364787</td>\n",
       "      <td>4.4</td>\n",
       "      <td>6.5</td>\n",
       "      <td>6.4</td>\n",
       "      <td>6.6</td>\n",
       "      <td>100.0</td>\n",
       "      <td>...</td>\n",
       "      <td>2255</td>\n",
       "      <td>4126</td>\n",
       "      <td>10.6</td>\n",
       "      <td>16.8</td>\n",
       "      <td>7.7</td>\n",
       "      <td>14.1</td>\n",
       "      <td>1.27</td>\n",
       "      <td>1.37</td>\n",
       "      <td>0.64</td>\n",
       "      <td>1.13</td>\n",
       "    </tr>\n",
       "    <tr>\n",
       "      <th>7</th>\n",
       "      <td>2017</td>\n",
       "      <td>249452</td>\n",
       "      <td>372802</td>\n",
       "      <td>373325</td>\n",
       "      <td>384123</td>\n",
       "      <td>4.5</td>\n",
       "      <td>6.8</td>\n",
       "      <td>6.8</td>\n",
       "      <td>7.0</td>\n",
       "      <td>100.0</td>\n",
       "      <td>...</td>\n",
       "      <td>2388</td>\n",
       "      <td>4316</td>\n",
       "      <td>10.8</td>\n",
       "      <td>17.2</td>\n",
       "      <td>8.1</td>\n",
       "      <td>14.6</td>\n",
       "      <td>1.28</td>\n",
       "      <td>1.36</td>\n",
       "      <td>0.64</td>\n",
       "      <td>1.12</td>\n",
       "    </tr>\n",
       "    <tr>\n",
       "      <th>8</th>\n",
       "      <td>2018</td>\n",
       "      <td>257572</td>\n",
       "      <td>387215</td>\n",
       "      <td>391746</td>\n",
       "      <td>402619</td>\n",
       "      <td>4.7</td>\n",
       "      <td>7.0</td>\n",
       "      <td>7.1</td>\n",
       "      <td>7.3</td>\n",
       "      <td>100.0</td>\n",
       "      <td>...</td>\n",
       "      <td>2538</td>\n",
       "      <td>4612</td>\n",
       "      <td>11.4</td>\n",
       "      <td>18.1</td>\n",
       "      <td>8.5</td>\n",
       "      <td>15.5</td>\n",
       "      <td>1.32</td>\n",
       "      <td>1.39</td>\n",
       "      <td>0.65</td>\n",
       "      <td>1.15</td>\n",
       "    </tr>\n",
       "    <tr>\n",
       "      <th>9</th>\n",
       "      <td>2019</td>\n",
       "      <td>267629</td>\n",
       "      <td>404179</td>\n",
       "      <td>412644</td>\n",
       "      <td>423494</td>\n",
       "      <td>4.8</td>\n",
       "      <td>7.3</td>\n",
       "      <td>7.5</td>\n",
       "      <td>7.7</td>\n",
       "      <td>100.0</td>\n",
       "      <td>...</td>\n",
       "      <td>2621</td>\n",
       "      <td>4758</td>\n",
       "      <td>11.4</td>\n",
       "      <td>18.4</td>\n",
       "      <td>8.8</td>\n",
       "      <td>15.9</td>\n",
       "      <td>1.28</td>\n",
       "      <td>1.36</td>\n",
       "      <td>0.64</td>\n",
       "      <td>1.12</td>\n",
       "    </tr>\n",
       "  </tbody>\n",
       "</table>\n",
       "<p>10 rows × 265 columns</p>\n",
       "</div>"
      ],
      "text/plain": [
       "   Year  WHOLE COUNTRY Citizens of foreign countries  \\\n",
       "0  2010                                       167954   \n",
       "1  2011                                       183133   \n",
       "2  2012                                       195511   \n",
       "3  2013                                       207511   \n",
       "4  2014                                       219675   \n",
       "5  2015                                       229765   \n",
       "6  2016                                       243639   \n",
       "7  2017                                       249452   \n",
       "8  2018                                       257572   \n",
       "9  2019                                       267629   \n",
       "\n",
       "   WHOLE COUNTRY Persons born abroad  WHOLE COUNTRY Foreign-language speakers  \\\n",
       "0                             248135                                   224388   \n",
       "1                             266148                                   244827   \n",
       "2                             285471                                   266949   \n",
       "3                             304279                                   289068   \n",
       "4                             321977                                   310306   \n",
       "5                             337162                                   329562   \n",
       "6                             357541                                   353993   \n",
       "7                             372802                                   373325   \n",
       "8                             387215                                   391746   \n",
       "9                             404179                                   412644   \n",
       "\n",
       "   WHOLE COUNTRY Persons with foreign background  \\\n",
       "0                                         237066   \n",
       "1                                         257494   \n",
       "2                                         279616   \n",
       "3                                         301524   \n",
       "4                                         322711   \n",
       "5                                         339925   \n",
       "6                                         364787   \n",
       "7                                         384123   \n",
       "8                                         402619   \n",
       "9                                         423494   \n",
       "\n",
       "   WHOLE COUNTRY Share of foreign citizens, %  \\\n",
       "0                                         3.1   \n",
       "1                                         3.4   \n",
       "2                                         3.6   \n",
       "3                                         3.8   \n",
       "4                                         4.0   \n",
       "5                                         4.2   \n",
       "6                                         4.4   \n",
       "7                                         4.5   \n",
       "8                                         4.7   \n",
       "9                                         4.8   \n",
       "\n",
       "   WHOLE COUNTRY Share of persons born abroad, %  \\\n",
       "0                                            4.6   \n",
       "1                                            4.9   \n",
       "2                                            5.3   \n",
       "3                                            5.6   \n",
       "4                                            5.9   \n",
       "5                                            6.1   \n",
       "6                                            6.5   \n",
       "7                                            6.8   \n",
       "8                                            7.0   \n",
       "9                                            7.3   \n",
       "\n",
       "   WHOLE COUNTRY Share of foreign-language speakers, %  \\\n",
       "0                                                4.2     \n",
       "1                                                4.5     \n",
       "2                                                4.9     \n",
       "3                                                5.3     \n",
       "4                                                5.7     \n",
       "5                                                6.0     \n",
       "6                                                6.4     \n",
       "7                                                6.8     \n",
       "8                                                7.1     \n",
       "9                                                7.5     \n",
       "\n",
       "   WHOLE COUNTRY Share of persons with foreign background , %  \\\n",
       "0                                                4.4            \n",
       "1                                                4.8            \n",
       "2                                                5.2            \n",
       "3                                                5.5            \n",
       "4                                                5.9            \n",
       "5                                                6.2            \n",
       "6                                                6.6            \n",
       "7                                                7.0            \n",
       "8                                                7.3            \n",
       "9                                                7.7            \n",
       "\n",
       "   WHOLE COUNTRY Share of foreign citizens among foreign citizens in the whole country, %  \\\n",
       "0                                              100.0                                        \n",
       "1                                              100.0                                        \n",
       "2                                              100.0                                        \n",
       "3                                              100.0                                        \n",
       "4                                              100.0                                        \n",
       "5                                              100.0                                        \n",
       "6                                              100.0                                        \n",
       "7                                              100.0                                        \n",
       "8                                              100.0                                        \n",
       "9                                              100.0                                        \n",
       "\n",
       "   ...  MK21 Åland Foreign-language speakers  \\\n",
       "0  ...                                  1462   \n",
       "1  ...                                  1623   \n",
       "2  ...                                  1733   \n",
       "3  ...                                  1850   \n",
       "4  ...                                  1986   \n",
       "5  ...                                  2093   \n",
       "6  ...                                  2255   \n",
       "7  ...                                  2388   \n",
       "8  ...                                  2538   \n",
       "9  ...                                  2621   \n",
       "\n",
       "   MK21 Åland Persons with foreign background  \\\n",
       "0                                        3054   \n",
       "1                                        3293   \n",
       "2                                        3454   \n",
       "3                                        3618   \n",
       "4                                        3824   \n",
       "5                                        3862   \n",
       "6                                        4126   \n",
       "7                                        4316   \n",
       "8                                        4612   \n",
       "9                                        4758   \n",
       "\n",
       "   MK21 Åland Share of foreign citizens, %  \\\n",
       "0                                      8.6   \n",
       "1                                      9.0   \n",
       "2                                      9.2   \n",
       "3                                      9.5   \n",
       "4                                      9.8   \n",
       "5                                     10.1   \n",
       "6                                     10.6   \n",
       "7                                     10.8   \n",
       "8                                     11.4   \n",
       "9                                     11.4   \n",
       "\n",
       "   MK21 Åland Share of persons born abroad, %  \\\n",
       "0                                        13.5   \n",
       "1                                        14.2   \n",
       "2                                        14.6   \n",
       "3                                        15.1   \n",
       "4                                        15.6   \n",
       "5                                        16.0   \n",
       "6                                        16.8   \n",
       "7                                        17.2   \n",
       "8                                        18.1   \n",
       "9                                        18.4   \n",
       "\n",
       "   MK21 Åland Share of foreign-language speakers, %  \\\n",
       "0                                               5.2   \n",
       "1                                               5.7   \n",
       "2                                               6.1   \n",
       "3                                               6.5   \n",
       "4                                               6.9   \n",
       "5                                               7.2   \n",
       "6                                               7.7   \n",
       "7                                               8.1   \n",
       "8                                               8.5   \n",
       "9                                               8.8   \n",
       "\n",
       "   MK21 Åland Share of persons with foreign background , %  \\\n",
       "0                                               10.9         \n",
       "1                                               11.6         \n",
       "2                                               12.1         \n",
       "3                                               12.6         \n",
       "4                                               13.2         \n",
       "5                                               13.3         \n",
       "6                                               14.1         \n",
       "7                                               14.6         \n",
       "8                                               15.5         \n",
       "9                                               15.9         \n",
       "\n",
       "   MK21 Åland Share of foreign citizens among foreign citizens in the whole country, %  \\\n",
       "0                                               1.44                                     \n",
       "1                                               1.40                                     \n",
       "2                                               1.33                                     \n",
       "3                                               1.31                                     \n",
       "4                                               1.29                                     \n",
       "5                                               1.27                                     \n",
       "6                                               1.27                                     \n",
       "7                                               1.28                                     \n",
       "8                                               1.32                                     \n",
       "9                                               1.28                                     \n",
       "\n",
       "   MK21 Åland Share of persons born abroad among persons born abroad in the whole country, %  \\\n",
       "0                                               1.53                                           \n",
       "1                                               1.51                                           \n",
       "2                                               1.46                                           \n",
       "3                                               1.42                                           \n",
       "4                                               1.40                                           \n",
       "5                                               1.38                                           \n",
       "6                                               1.37                                           \n",
       "7                                               1.36                                           \n",
       "8                                               1.39                                           \n",
       "9                                               1.36                                           \n",
       "\n",
       "   MK21 Åland Share of foreign-language speakers among foreign-language speakers in the whole country, %  \\\n",
       "0                                               0.65                                                       \n",
       "1                                               0.66                                                       \n",
       "2                                               0.65                                                       \n",
       "3                                               0.64                                                       \n",
       "4                                               0.64                                                       \n",
       "5                                               0.64                                                       \n",
       "6                                               0.64                                                       \n",
       "7                                               0.64                                                       \n",
       "8                                               0.65                                                       \n",
       "9                                               0.64                                                       \n",
       "\n",
       "   MK21 Åland Share of persons with foreign background among persons with foreign backgr. in the whole country, %  \n",
       "0                                               1.29                                                               \n",
       "1                                               1.28                                                               \n",
       "2                                               1.24                                                               \n",
       "3                                               1.20                                                               \n",
       "4                                               1.18                                                               \n",
       "5                                               1.14                                                               \n",
       "6                                               1.13                                                               \n",
       "7                                               1.12                                                               \n",
       "8                                               1.15                                                               \n",
       "9                                               1.12                                                               \n",
       "\n",
       "[10 rows x 265 columns]"
      ]
     },
     "execution_count": 800,
     "metadata": {},
     "output_type": "execute_result"
    }
   ],
   "source": [
    "data"
   ]
  },
  {
   "cell_type": "code",
   "execution_count": 801,
   "metadata": {
    "ExecuteTime": {
     "end_time": "2020-12-15T08:05:40.515454Z",
     "start_time": "2020-12-15T08:05:40.495467Z"
    }
   },
   "outputs": [
    {
     "name": "stdout",
     "output_type": "stream",
     "text": [
      "<class 'pandas.core.frame.DataFrame'>\n",
      "RangeIndex: 10 entries, 0 to 9\n",
      "Columns: 265 entries, Year to MK21 Åland Share of persons with foreign background among persons with foreign backgr. in the whole country, %\n",
      "dtypes: float64(176), int64(89)\n",
      "memory usage: 20.8 KB\n"
     ]
    }
   ],
   "source": [
    "data.info()"
   ]
  },
  {
   "cell_type": "markdown",
   "metadata": {},
   "source": [
    "<b>This dataset includes too many columns whcih will make the data analysis confusing. Therefore, we decided to stick with only fewer columns so we can analyize more locations data. It was decided that all the percentage value to be dropped from the dataset so we will only have data representing the whole numbers. Here, we have removed the unnecessary columns using % sign as a pattern to remove all the columns which have % sign since these columns are not necessary for our data analysis purposes.</b>"
   ]
  },
  {
   "cell_type": "code",
   "execution_count": 802,
   "metadata": {
    "ExecuteTime": {
     "end_time": "2020-12-15T08:05:41.870414Z",
     "start_time": "2020-12-15T08:05:41.843989Z"
    },
    "scrolled": false
   },
   "outputs": [
    {
     "data": {
      "text/html": [
       "<div>\n",
       "<style scoped>\n",
       "    .dataframe tbody tr th:only-of-type {\n",
       "        vertical-align: middle;\n",
       "    }\n",
       "\n",
       "    .dataframe tbody tr th {\n",
       "        vertical-align: top;\n",
       "    }\n",
       "\n",
       "    .dataframe thead th {\n",
       "        text-align: right;\n",
       "    }\n",
       "</style>\n",
       "<table border=\"1\" class=\"dataframe\">\n",
       "  <thead>\n",
       "    <tr style=\"text-align: right;\">\n",
       "      <th></th>\n",
       "      <th>Year</th>\n",
       "      <th>WHOLE COUNTRY Citizens of foreign countries</th>\n",
       "      <th>WHOLE COUNTRY Persons born abroad</th>\n",
       "      <th>WHOLE COUNTRY Foreign-language speakers</th>\n",
       "      <th>WHOLE COUNTRY Persons with foreign background</th>\n",
       "      <th>MA1 MAINLAND FINLAND Citizens of foreign countries</th>\n",
       "      <th>MA1 MAINLAND FINLAND Persons born abroad</th>\n",
       "      <th>MA1 MAINLAND FINLAND Foreign-language speakers</th>\n",
       "      <th>MA1 MAINLAND FINLAND Persons with foreign background</th>\n",
       "      <th>MK01 Uusimaa Citizens of foreign countries</th>\n",
       "      <th>...</th>\n",
       "      <th>MK19 Lapland Foreign-language speakers</th>\n",
       "      <th>MK19 Lapland Persons with foreign background</th>\n",
       "      <th>MA2 ÅLAND Citizens of foreign countries</th>\n",
       "      <th>MA2 ÅLAND Persons born abroad</th>\n",
       "      <th>MA2 ÅLAND Foreign-language speakers</th>\n",
       "      <th>MA2 ÅLAND Persons with foreign background</th>\n",
       "      <th>MK21 Åland Citizens of foreign countries</th>\n",
       "      <th>MK21 Åland Persons born abroad</th>\n",
       "      <th>MK21 Åland Foreign-language speakers</th>\n",
       "      <th>MK21 Åland Persons with foreign background</th>\n",
       "    </tr>\n",
       "  </thead>\n",
       "  <tbody>\n",
       "    <tr>\n",
       "      <th>0</th>\n",
       "      <td>2010</td>\n",
       "      <td>167954</td>\n",
       "      <td>248135</td>\n",
       "      <td>224388</td>\n",
       "      <td>237066</td>\n",
       "      <td>0</td>\n",
       "      <td>0</td>\n",
       "      <td>0</td>\n",
       "      <td>0</td>\n",
       "      <td>86685</td>\n",
       "      <td>...</td>\n",
       "      <td>3167</td>\n",
       "      <td>3794</td>\n",
       "      <td>0</td>\n",
       "      <td>0</td>\n",
       "      <td>0</td>\n",
       "      <td>0</td>\n",
       "      <td>2415</td>\n",
       "      <td>3785</td>\n",
       "      <td>1462</td>\n",
       "      <td>3054</td>\n",
       "    </tr>\n",
       "    <tr>\n",
       "      <th>1</th>\n",
       "      <td>2011</td>\n",
       "      <td>183133</td>\n",
       "      <td>266148</td>\n",
       "      <td>244827</td>\n",
       "      <td>257494</td>\n",
       "      <td>0</td>\n",
       "      <td>0</td>\n",
       "      <td>0</td>\n",
       "      <td>0</td>\n",
       "      <td>94966</td>\n",
       "      <td>...</td>\n",
       "      <td>3467</td>\n",
       "      <td>4102</td>\n",
       "      <td>0</td>\n",
       "      <td>0</td>\n",
       "      <td>0</td>\n",
       "      <td>0</td>\n",
       "      <td>2560</td>\n",
       "      <td>4018</td>\n",
       "      <td>1623</td>\n",
       "      <td>3293</td>\n",
       "    </tr>\n",
       "    <tr>\n",
       "      <th>2</th>\n",
       "      <td>2012</td>\n",
       "      <td>195511</td>\n",
       "      <td>285471</td>\n",
       "      <td>266949</td>\n",
       "      <td>279616</td>\n",
       "      <td>0</td>\n",
       "      <td>0</td>\n",
       "      <td>0</td>\n",
       "      <td>0</td>\n",
       "      <td>102118</td>\n",
       "      <td>...</td>\n",
       "      <td>3681</td>\n",
       "      <td>4316</td>\n",
       "      <td>0</td>\n",
       "      <td>0</td>\n",
       "      <td>0</td>\n",
       "      <td>0</td>\n",
       "      <td>2610</td>\n",
       "      <td>4171</td>\n",
       "      <td>1733</td>\n",
       "      <td>3454</td>\n",
       "    </tr>\n",
       "    <tr>\n",
       "      <th>3</th>\n",
       "      <td>2013</td>\n",
       "      <td>207511</td>\n",
       "      <td>304279</td>\n",
       "      <td>289068</td>\n",
       "      <td>301524</td>\n",
       "      <td>0</td>\n",
       "      <td>0</td>\n",
       "      <td>0</td>\n",
       "      <td>0</td>\n",
       "      <td>109213</td>\n",
       "      <td>...</td>\n",
       "      <td>3971</td>\n",
       "      <td>4610</td>\n",
       "      <td>0</td>\n",
       "      <td>0</td>\n",
       "      <td>0</td>\n",
       "      <td>0</td>\n",
       "      <td>2721</td>\n",
       "      <td>4316</td>\n",
       "      <td>1850</td>\n",
       "      <td>3618</td>\n",
       "    </tr>\n",
       "    <tr>\n",
       "      <th>4</th>\n",
       "      <td>2014</td>\n",
       "      <td>219675</td>\n",
       "      <td>321977</td>\n",
       "      <td>310306</td>\n",
       "      <td>322711</td>\n",
       "      <td>0</td>\n",
       "      <td>0</td>\n",
       "      <td>0</td>\n",
       "      <td>0</td>\n",
       "      <td>116791</td>\n",
       "      <td>...</td>\n",
       "      <td>4231</td>\n",
       "      <td>4860</td>\n",
       "      <td>0</td>\n",
       "      <td>0</td>\n",
       "      <td>0</td>\n",
       "      <td>0</td>\n",
       "      <td>2837</td>\n",
       "      <td>4502</td>\n",
       "      <td>1986</td>\n",
       "      <td>3824</td>\n",
       "    </tr>\n",
       "    <tr>\n",
       "      <th>5</th>\n",
       "      <td>2015</td>\n",
       "      <td>229765</td>\n",
       "      <td>337162</td>\n",
       "      <td>329562</td>\n",
       "      <td>339925</td>\n",
       "      <td>0</td>\n",
       "      <td>0</td>\n",
       "      <td>0</td>\n",
       "      <td>0</td>\n",
       "      <td>123300</td>\n",
       "      <td>...</td>\n",
       "      <td>4367</td>\n",
       "      <td>4850</td>\n",
       "      <td>0</td>\n",
       "      <td>0</td>\n",
       "      <td>0</td>\n",
       "      <td>0</td>\n",
       "      <td>2927</td>\n",
       "      <td>4642</td>\n",
       "      <td>2093</td>\n",
       "      <td>3862</td>\n",
       "    </tr>\n",
       "    <tr>\n",
       "      <th>6</th>\n",
       "      <td>2016</td>\n",
       "      <td>243639</td>\n",
       "      <td>357541</td>\n",
       "      <td>353993</td>\n",
       "      <td>364787</td>\n",
       "      <td>0</td>\n",
       "      <td>0</td>\n",
       "      <td>0</td>\n",
       "      <td>0</td>\n",
       "      <td>130963</td>\n",
       "      <td>...</td>\n",
       "      <td>4665</td>\n",
       "      <td>5164</td>\n",
       "      <td>0</td>\n",
       "      <td>0</td>\n",
       "      <td>0</td>\n",
       "      <td>0</td>\n",
       "      <td>3092</td>\n",
       "      <td>4905</td>\n",
       "      <td>2255</td>\n",
       "      <td>4126</td>\n",
       "    </tr>\n",
       "    <tr>\n",
       "      <th>7</th>\n",
       "      <td>2017</td>\n",
       "      <td>249452</td>\n",
       "      <td>372802</td>\n",
       "      <td>373325</td>\n",
       "      <td>384123</td>\n",
       "      <td>0</td>\n",
       "      <td>0</td>\n",
       "      <td>0</td>\n",
       "      <td>0</td>\n",
       "      <td>135412</td>\n",
       "      <td>...</td>\n",
       "      <td>4839</td>\n",
       "      <td>5331</td>\n",
       "      <td>0</td>\n",
       "      <td>0</td>\n",
       "      <td>0</td>\n",
       "      <td>0</td>\n",
       "      <td>3182</td>\n",
       "      <td>5082</td>\n",
       "      <td>2388</td>\n",
       "      <td>4316</td>\n",
       "    </tr>\n",
       "    <tr>\n",
       "      <th>8</th>\n",
       "      <td>2018</td>\n",
       "      <td>257572</td>\n",
       "      <td>387215</td>\n",
       "      <td>391746</td>\n",
       "      <td>402619</td>\n",
       "      <td>0</td>\n",
       "      <td>0</td>\n",
       "      <td>0</td>\n",
       "      <td>0</td>\n",
       "      <td>141597</td>\n",
       "      <td>...</td>\n",
       "      <td>5038</td>\n",
       "      <td>5519</td>\n",
       "      <td>0</td>\n",
       "      <td>0</td>\n",
       "      <td>0</td>\n",
       "      <td>0</td>\n",
       "      <td>3396</td>\n",
       "      <td>5377</td>\n",
       "      <td>2538</td>\n",
       "      <td>4612</td>\n",
       "    </tr>\n",
       "    <tr>\n",
       "      <th>9</th>\n",
       "      <td>2019</td>\n",
       "      <td>267629</td>\n",
       "      <td>404179</td>\n",
       "      <td>412644</td>\n",
       "      <td>423494</td>\n",
       "      <td>0</td>\n",
       "      <td>0</td>\n",
       "      <td>0</td>\n",
       "      <td>0</td>\n",
       "      <td>149253</td>\n",
       "      <td>...</td>\n",
       "      <td>5032</td>\n",
       "      <td>5505</td>\n",
       "      <td>0</td>\n",
       "      <td>0</td>\n",
       "      <td>0</td>\n",
       "      <td>0</td>\n",
       "      <td>3421</td>\n",
       "      <td>5497</td>\n",
       "      <td>2621</td>\n",
       "      <td>4758</td>\n",
       "    </tr>\n",
       "  </tbody>\n",
       "</table>\n",
       "<p>10 rows × 89 columns</p>\n",
       "</div>"
      ],
      "text/plain": [
       "   Year  WHOLE COUNTRY Citizens of foreign countries  \\\n",
       "0  2010                                       167954   \n",
       "1  2011                                       183133   \n",
       "2  2012                                       195511   \n",
       "3  2013                                       207511   \n",
       "4  2014                                       219675   \n",
       "5  2015                                       229765   \n",
       "6  2016                                       243639   \n",
       "7  2017                                       249452   \n",
       "8  2018                                       257572   \n",
       "9  2019                                       267629   \n",
       "\n",
       "   WHOLE COUNTRY Persons born abroad  WHOLE COUNTRY Foreign-language speakers  \\\n",
       "0                             248135                                   224388   \n",
       "1                             266148                                   244827   \n",
       "2                             285471                                   266949   \n",
       "3                             304279                                   289068   \n",
       "4                             321977                                   310306   \n",
       "5                             337162                                   329562   \n",
       "6                             357541                                   353993   \n",
       "7                             372802                                   373325   \n",
       "8                             387215                                   391746   \n",
       "9                             404179                                   412644   \n",
       "\n",
       "   WHOLE COUNTRY Persons with foreign background  \\\n",
       "0                                         237066   \n",
       "1                                         257494   \n",
       "2                                         279616   \n",
       "3                                         301524   \n",
       "4                                         322711   \n",
       "5                                         339925   \n",
       "6                                         364787   \n",
       "7                                         384123   \n",
       "8                                         402619   \n",
       "9                                         423494   \n",
       "\n",
       "   MA1 MAINLAND FINLAND Citizens of foreign countries  \\\n",
       "0                                                  0    \n",
       "1                                                  0    \n",
       "2                                                  0    \n",
       "3                                                  0    \n",
       "4                                                  0    \n",
       "5                                                  0    \n",
       "6                                                  0    \n",
       "7                                                  0    \n",
       "8                                                  0    \n",
       "9                                                  0    \n",
       "\n",
       "   MA1 MAINLAND FINLAND Persons born abroad  \\\n",
       "0                                         0   \n",
       "1                                         0   \n",
       "2                                         0   \n",
       "3                                         0   \n",
       "4                                         0   \n",
       "5                                         0   \n",
       "6                                         0   \n",
       "7                                         0   \n",
       "8                                         0   \n",
       "9                                         0   \n",
       "\n",
       "   MA1 MAINLAND FINLAND Foreign-language speakers  \\\n",
       "0                                               0   \n",
       "1                                               0   \n",
       "2                                               0   \n",
       "3                                               0   \n",
       "4                                               0   \n",
       "5                                               0   \n",
       "6                                               0   \n",
       "7                                               0   \n",
       "8                                               0   \n",
       "9                                               0   \n",
       "\n",
       "   MA1 MAINLAND FINLAND Persons with foreign background  \\\n",
       "0                                                  0      \n",
       "1                                                  0      \n",
       "2                                                  0      \n",
       "3                                                  0      \n",
       "4                                                  0      \n",
       "5                                                  0      \n",
       "6                                                  0      \n",
       "7                                                  0      \n",
       "8                                                  0      \n",
       "9                                                  0      \n",
       "\n",
       "   MK01 Uusimaa Citizens of foreign countries  ...  \\\n",
       "0                                       86685  ...   \n",
       "1                                       94966  ...   \n",
       "2                                      102118  ...   \n",
       "3                                      109213  ...   \n",
       "4                                      116791  ...   \n",
       "5                                      123300  ...   \n",
       "6                                      130963  ...   \n",
       "7                                      135412  ...   \n",
       "8                                      141597  ...   \n",
       "9                                      149253  ...   \n",
       "\n",
       "   MK19 Lapland Foreign-language speakers  \\\n",
       "0                                    3167   \n",
       "1                                    3467   \n",
       "2                                    3681   \n",
       "3                                    3971   \n",
       "4                                    4231   \n",
       "5                                    4367   \n",
       "6                                    4665   \n",
       "7                                    4839   \n",
       "8                                    5038   \n",
       "9                                    5032   \n",
       "\n",
       "   MK19 Lapland Persons with foreign background  \\\n",
       "0                                          3794   \n",
       "1                                          4102   \n",
       "2                                          4316   \n",
       "3                                          4610   \n",
       "4                                          4860   \n",
       "5                                          4850   \n",
       "6                                          5164   \n",
       "7                                          5331   \n",
       "8                                          5519   \n",
       "9                                          5505   \n",
       "\n",
       "   MA2 ÅLAND Citizens of foreign countries  MA2 ÅLAND Persons born abroad  \\\n",
       "0                                        0                              0   \n",
       "1                                        0                              0   \n",
       "2                                        0                              0   \n",
       "3                                        0                              0   \n",
       "4                                        0                              0   \n",
       "5                                        0                              0   \n",
       "6                                        0                              0   \n",
       "7                                        0                              0   \n",
       "8                                        0                              0   \n",
       "9                                        0                              0   \n",
       "\n",
       "   MA2 ÅLAND Foreign-language speakers  \\\n",
       "0                                    0   \n",
       "1                                    0   \n",
       "2                                    0   \n",
       "3                                    0   \n",
       "4                                    0   \n",
       "5                                    0   \n",
       "6                                    0   \n",
       "7                                    0   \n",
       "8                                    0   \n",
       "9                                    0   \n",
       "\n",
       "   MA2 ÅLAND Persons with foreign background  \\\n",
       "0                                          0   \n",
       "1                                          0   \n",
       "2                                          0   \n",
       "3                                          0   \n",
       "4                                          0   \n",
       "5                                          0   \n",
       "6                                          0   \n",
       "7                                          0   \n",
       "8                                          0   \n",
       "9                                          0   \n",
       "\n",
       "   MK21 Åland Citizens of foreign countries  MK21 Åland Persons born abroad  \\\n",
       "0                                      2415                            3785   \n",
       "1                                      2560                            4018   \n",
       "2                                      2610                            4171   \n",
       "3                                      2721                            4316   \n",
       "4                                      2837                            4502   \n",
       "5                                      2927                            4642   \n",
       "6                                      3092                            4905   \n",
       "7                                      3182                            5082   \n",
       "8                                      3396                            5377   \n",
       "9                                      3421                            5497   \n",
       "\n",
       "   MK21 Åland Foreign-language speakers  \\\n",
       "0                                  1462   \n",
       "1                                  1623   \n",
       "2                                  1733   \n",
       "3                                  1850   \n",
       "4                                  1986   \n",
       "5                                  2093   \n",
       "6                                  2255   \n",
       "7                                  2388   \n",
       "8                                  2538   \n",
       "9                                  2621   \n",
       "\n",
       "   MK21 Åland Persons with foreign background  \n",
       "0                                        3054  \n",
       "1                                        3293  \n",
       "2                                        3454  \n",
       "3                                        3618  \n",
       "4                                        3824  \n",
       "5                                        3862  \n",
       "6                                        4126  \n",
       "7                                        4316  \n",
       "8                                        4612  \n",
       "9                                        4758  \n",
       "\n",
       "[10 rows x 89 columns]"
      ]
     },
     "execution_count": 802,
     "metadata": {},
     "output_type": "execute_result"
    }
   ],
   "source": [
    "data=data[data.columns[~data.columns.str.contains(r'\\%$')]]\n",
    "data"
   ]
  },
  {
   "cell_type": "markdown",
   "metadata": {},
   "source": [
    " Now, the data set is reduced to 89 columns from 265 columns."
   ]
  },
  {
   "cell_type": "code",
   "execution_count": 803,
   "metadata": {
    "ExecuteTime": {
     "end_time": "2020-12-15T08:05:43.461251Z",
     "start_time": "2020-12-15T08:05:43.455522Z"
    },
    "scrolled": true
   },
   "outputs": [
    {
     "data": {
      "text/plain": [
       "(10, 89)"
      ]
     },
     "execution_count": 803,
     "metadata": {},
     "output_type": "execute_result"
    }
   ],
   "source": [
    "data.columns\n",
    "data.shape"
   ]
  },
  {
   "cell_type": "code",
   "execution_count": 804,
   "metadata": {
    "ExecuteTime": {
     "end_time": "2020-12-15T08:05:44.146668Z",
     "start_time": "2020-12-15T08:05:44.126460Z"
    }
   },
   "outputs": [
    {
     "data": {
      "text/html": [
       "<div>\n",
       "<style scoped>\n",
       "    .dataframe tbody tr th:only-of-type {\n",
       "        vertical-align: middle;\n",
       "    }\n",
       "\n",
       "    .dataframe tbody tr th {\n",
       "        vertical-align: top;\n",
       "    }\n",
       "\n",
       "    .dataframe thead th {\n",
       "        text-align: right;\n",
       "    }\n",
       "</style>\n",
       "<table border=\"1\" class=\"dataframe\">\n",
       "  <thead>\n",
       "    <tr style=\"text-align: right;\">\n",
       "      <th></th>\n",
       "      <th>0</th>\n",
       "      <th>1</th>\n",
       "      <th>2</th>\n",
       "      <th>3</th>\n",
       "      <th>4</th>\n",
       "      <th>5</th>\n",
       "      <th>6</th>\n",
       "      <th>7</th>\n",
       "      <th>8</th>\n",
       "      <th>9</th>\n",
       "    </tr>\n",
       "  </thead>\n",
       "  <tbody>\n",
       "    <tr>\n",
       "      <th>Year</th>\n",
       "      <td>2010</td>\n",
       "      <td>2011</td>\n",
       "      <td>2012</td>\n",
       "      <td>2013</td>\n",
       "      <td>2014</td>\n",
       "      <td>2015</td>\n",
       "      <td>2016</td>\n",
       "      <td>2017</td>\n",
       "      <td>2018</td>\n",
       "      <td>2019</td>\n",
       "    </tr>\n",
       "    <tr>\n",
       "      <th>WHOLE COUNTRY Citizens of foreign countries</th>\n",
       "      <td>167954</td>\n",
       "      <td>183133</td>\n",
       "      <td>195511</td>\n",
       "      <td>207511</td>\n",
       "      <td>219675</td>\n",
       "      <td>229765</td>\n",
       "      <td>243639</td>\n",
       "      <td>249452</td>\n",
       "      <td>257572</td>\n",
       "      <td>267629</td>\n",
       "    </tr>\n",
       "    <tr>\n",
       "      <th>WHOLE COUNTRY Persons born abroad</th>\n",
       "      <td>248135</td>\n",
       "      <td>266148</td>\n",
       "      <td>285471</td>\n",
       "      <td>304279</td>\n",
       "      <td>321977</td>\n",
       "      <td>337162</td>\n",
       "      <td>357541</td>\n",
       "      <td>372802</td>\n",
       "      <td>387215</td>\n",
       "      <td>404179</td>\n",
       "    </tr>\n",
       "    <tr>\n",
       "      <th>WHOLE COUNTRY Foreign-language speakers</th>\n",
       "      <td>224388</td>\n",
       "      <td>244827</td>\n",
       "      <td>266949</td>\n",
       "      <td>289068</td>\n",
       "      <td>310306</td>\n",
       "      <td>329562</td>\n",
       "      <td>353993</td>\n",
       "      <td>373325</td>\n",
       "      <td>391746</td>\n",
       "      <td>412644</td>\n",
       "    </tr>\n",
       "    <tr>\n",
       "      <th>WHOLE COUNTRY Persons with foreign background</th>\n",
       "      <td>237066</td>\n",
       "      <td>257494</td>\n",
       "      <td>279616</td>\n",
       "      <td>301524</td>\n",
       "      <td>322711</td>\n",
       "      <td>339925</td>\n",
       "      <td>364787</td>\n",
       "      <td>384123</td>\n",
       "      <td>402619</td>\n",
       "      <td>423494</td>\n",
       "    </tr>\n",
       "    <tr>\n",
       "      <th>...</th>\n",
       "      <td>...</td>\n",
       "      <td>...</td>\n",
       "      <td>...</td>\n",
       "      <td>...</td>\n",
       "      <td>...</td>\n",
       "      <td>...</td>\n",
       "      <td>...</td>\n",
       "      <td>...</td>\n",
       "      <td>...</td>\n",
       "      <td>...</td>\n",
       "    </tr>\n",
       "    <tr>\n",
       "      <th>MA2 ÅLAND Persons with foreign background</th>\n",
       "      <td>0</td>\n",
       "      <td>0</td>\n",
       "      <td>0</td>\n",
       "      <td>0</td>\n",
       "      <td>0</td>\n",
       "      <td>0</td>\n",
       "      <td>0</td>\n",
       "      <td>0</td>\n",
       "      <td>0</td>\n",
       "      <td>0</td>\n",
       "    </tr>\n",
       "    <tr>\n",
       "      <th>MK21 Åland Citizens of foreign countries</th>\n",
       "      <td>2415</td>\n",
       "      <td>2560</td>\n",
       "      <td>2610</td>\n",
       "      <td>2721</td>\n",
       "      <td>2837</td>\n",
       "      <td>2927</td>\n",
       "      <td>3092</td>\n",
       "      <td>3182</td>\n",
       "      <td>3396</td>\n",
       "      <td>3421</td>\n",
       "    </tr>\n",
       "    <tr>\n",
       "      <th>MK21 Åland Persons born abroad</th>\n",
       "      <td>3785</td>\n",
       "      <td>4018</td>\n",
       "      <td>4171</td>\n",
       "      <td>4316</td>\n",
       "      <td>4502</td>\n",
       "      <td>4642</td>\n",
       "      <td>4905</td>\n",
       "      <td>5082</td>\n",
       "      <td>5377</td>\n",
       "      <td>5497</td>\n",
       "    </tr>\n",
       "    <tr>\n",
       "      <th>MK21 Åland Foreign-language speakers</th>\n",
       "      <td>1462</td>\n",
       "      <td>1623</td>\n",
       "      <td>1733</td>\n",
       "      <td>1850</td>\n",
       "      <td>1986</td>\n",
       "      <td>2093</td>\n",
       "      <td>2255</td>\n",
       "      <td>2388</td>\n",
       "      <td>2538</td>\n",
       "      <td>2621</td>\n",
       "    </tr>\n",
       "    <tr>\n",
       "      <th>MK21 Åland Persons with foreign background</th>\n",
       "      <td>3054</td>\n",
       "      <td>3293</td>\n",
       "      <td>3454</td>\n",
       "      <td>3618</td>\n",
       "      <td>3824</td>\n",
       "      <td>3862</td>\n",
       "      <td>4126</td>\n",
       "      <td>4316</td>\n",
       "      <td>4612</td>\n",
       "      <td>4758</td>\n",
       "    </tr>\n",
       "  </tbody>\n",
       "</table>\n",
       "<p>89 rows × 10 columns</p>\n",
       "</div>"
      ],
      "text/plain": [
       "                                                    0       1       2       3  \\\n",
       "Year                                             2010    2011    2012    2013   \n",
       "WHOLE COUNTRY Citizens of foreign countries    167954  183133  195511  207511   \n",
       "WHOLE COUNTRY Persons born abroad              248135  266148  285471  304279   \n",
       "WHOLE COUNTRY Foreign-language speakers        224388  244827  266949  289068   \n",
       "WHOLE COUNTRY Persons with foreign background  237066  257494  279616  301524   \n",
       "...                                               ...     ...     ...     ...   \n",
       "MA2 ÅLAND Persons with foreign background           0       0       0       0   \n",
       "MK21 Åland Citizens of foreign countries         2415    2560    2610    2721   \n",
       "MK21 Åland Persons born abroad                   3785    4018    4171    4316   \n",
       "MK21 Åland Foreign-language speakers             1462    1623    1733    1850   \n",
       "MK21 Åland Persons with foreign background       3054    3293    3454    3618   \n",
       "\n",
       "                                                    4       5       6       7  \\\n",
       "Year                                             2014    2015    2016    2017   \n",
       "WHOLE COUNTRY Citizens of foreign countries    219675  229765  243639  249452   \n",
       "WHOLE COUNTRY Persons born abroad              321977  337162  357541  372802   \n",
       "WHOLE COUNTRY Foreign-language speakers        310306  329562  353993  373325   \n",
       "WHOLE COUNTRY Persons with foreign background  322711  339925  364787  384123   \n",
       "...                                               ...     ...     ...     ...   \n",
       "MA2 ÅLAND Persons with foreign background           0       0       0       0   \n",
       "MK21 Åland Citizens of foreign countries         2837    2927    3092    3182   \n",
       "MK21 Åland Persons born abroad                   4502    4642    4905    5082   \n",
       "MK21 Åland Foreign-language speakers             1986    2093    2255    2388   \n",
       "MK21 Åland Persons with foreign background       3824    3862    4126    4316   \n",
       "\n",
       "                                                    8       9  \n",
       "Year                                             2018    2019  \n",
       "WHOLE COUNTRY Citizens of foreign countries    257572  267629  \n",
       "WHOLE COUNTRY Persons born abroad              387215  404179  \n",
       "WHOLE COUNTRY Foreign-language speakers        391746  412644  \n",
       "WHOLE COUNTRY Persons with foreign background  402619  423494  \n",
       "...                                               ...     ...  \n",
       "MA2 ÅLAND Persons with foreign background           0       0  \n",
       "MK21 Åland Citizens of foreign countries         3396    3421  \n",
       "MK21 Åland Persons born abroad                   5377    5497  \n",
       "MK21 Åland Foreign-language speakers             2538    2621  \n",
       "MK21 Åland Persons with foreign background       4612    4758  \n",
       "\n",
       "[89 rows x 10 columns]"
      ]
     },
     "execution_count": 804,
     "metadata": {},
     "output_type": "execute_result"
    }
   ],
   "source": [
    "data=data.T\n",
    "data"
   ]
  },
  {
   "cell_type": "markdown",
   "metadata": {},
   "source": [
    " Data is transposed to change the rows and columns value for further analysis purposes."
   ]
  },
  {
   "cell_type": "markdown",
   "metadata": {},
   "source": [
    "<b> Resetting the index </b>"
   ]
  },
  {
   "cell_type": "code",
   "execution_count": 805,
   "metadata": {
    "ExecuteTime": {
     "end_time": "2020-12-15T08:05:46.077365Z",
     "start_time": "2020-12-15T08:05:46.057866Z"
    }
   },
   "outputs": [
    {
     "data": {
      "text/html": [
       "<div>\n",
       "<style scoped>\n",
       "    .dataframe tbody tr th:only-of-type {\n",
       "        vertical-align: middle;\n",
       "    }\n",
       "\n",
       "    .dataframe tbody tr th {\n",
       "        vertical-align: top;\n",
       "    }\n",
       "\n",
       "    .dataframe thead th {\n",
       "        text-align: right;\n",
       "    }\n",
       "</style>\n",
       "<table border=\"1\" class=\"dataframe\">\n",
       "  <thead>\n",
       "    <tr style=\"text-align: right;\">\n",
       "      <th></th>\n",
       "      <th>index</th>\n",
       "      <th>0</th>\n",
       "      <th>1</th>\n",
       "      <th>2</th>\n",
       "      <th>3</th>\n",
       "      <th>4</th>\n",
       "      <th>5</th>\n",
       "      <th>6</th>\n",
       "      <th>7</th>\n",
       "      <th>8</th>\n",
       "      <th>9</th>\n",
       "    </tr>\n",
       "  </thead>\n",
       "  <tbody>\n",
       "    <tr>\n",
       "      <th>0</th>\n",
       "      <td>Year</td>\n",
       "      <td>2010</td>\n",
       "      <td>2011</td>\n",
       "      <td>2012</td>\n",
       "      <td>2013</td>\n",
       "      <td>2014</td>\n",
       "      <td>2015</td>\n",
       "      <td>2016</td>\n",
       "      <td>2017</td>\n",
       "      <td>2018</td>\n",
       "      <td>2019</td>\n",
       "    </tr>\n",
       "    <tr>\n",
       "      <th>1</th>\n",
       "      <td>WHOLE COUNTRY Citizens of foreign countries</td>\n",
       "      <td>167954</td>\n",
       "      <td>183133</td>\n",
       "      <td>195511</td>\n",
       "      <td>207511</td>\n",
       "      <td>219675</td>\n",
       "      <td>229765</td>\n",
       "      <td>243639</td>\n",
       "      <td>249452</td>\n",
       "      <td>257572</td>\n",
       "      <td>267629</td>\n",
       "    </tr>\n",
       "    <tr>\n",
       "      <th>2</th>\n",
       "      <td>WHOLE COUNTRY Persons born abroad</td>\n",
       "      <td>248135</td>\n",
       "      <td>266148</td>\n",
       "      <td>285471</td>\n",
       "      <td>304279</td>\n",
       "      <td>321977</td>\n",
       "      <td>337162</td>\n",
       "      <td>357541</td>\n",
       "      <td>372802</td>\n",
       "      <td>387215</td>\n",
       "      <td>404179</td>\n",
       "    </tr>\n",
       "    <tr>\n",
       "      <th>3</th>\n",
       "      <td>WHOLE COUNTRY Foreign-language speakers</td>\n",
       "      <td>224388</td>\n",
       "      <td>244827</td>\n",
       "      <td>266949</td>\n",
       "      <td>289068</td>\n",
       "      <td>310306</td>\n",
       "      <td>329562</td>\n",
       "      <td>353993</td>\n",
       "      <td>373325</td>\n",
       "      <td>391746</td>\n",
       "      <td>412644</td>\n",
       "    </tr>\n",
       "    <tr>\n",
       "      <th>4</th>\n",
       "      <td>WHOLE COUNTRY Persons with foreign background</td>\n",
       "      <td>237066</td>\n",
       "      <td>257494</td>\n",
       "      <td>279616</td>\n",
       "      <td>301524</td>\n",
       "      <td>322711</td>\n",
       "      <td>339925</td>\n",
       "      <td>364787</td>\n",
       "      <td>384123</td>\n",
       "      <td>402619</td>\n",
       "      <td>423494</td>\n",
       "    </tr>\n",
       "    <tr>\n",
       "      <th>...</th>\n",
       "      <td>...</td>\n",
       "      <td>...</td>\n",
       "      <td>...</td>\n",
       "      <td>...</td>\n",
       "      <td>...</td>\n",
       "      <td>...</td>\n",
       "      <td>...</td>\n",
       "      <td>...</td>\n",
       "      <td>...</td>\n",
       "      <td>...</td>\n",
       "      <td>...</td>\n",
       "    </tr>\n",
       "    <tr>\n",
       "      <th>84</th>\n",
       "      <td>MA2 ÅLAND Persons with foreign background</td>\n",
       "      <td>0</td>\n",
       "      <td>0</td>\n",
       "      <td>0</td>\n",
       "      <td>0</td>\n",
       "      <td>0</td>\n",
       "      <td>0</td>\n",
       "      <td>0</td>\n",
       "      <td>0</td>\n",
       "      <td>0</td>\n",
       "      <td>0</td>\n",
       "    </tr>\n",
       "    <tr>\n",
       "      <th>85</th>\n",
       "      <td>MK21 Åland Citizens of foreign countries</td>\n",
       "      <td>2415</td>\n",
       "      <td>2560</td>\n",
       "      <td>2610</td>\n",
       "      <td>2721</td>\n",
       "      <td>2837</td>\n",
       "      <td>2927</td>\n",
       "      <td>3092</td>\n",
       "      <td>3182</td>\n",
       "      <td>3396</td>\n",
       "      <td>3421</td>\n",
       "    </tr>\n",
       "    <tr>\n",
       "      <th>86</th>\n",
       "      <td>MK21 Åland Persons born abroad</td>\n",
       "      <td>3785</td>\n",
       "      <td>4018</td>\n",
       "      <td>4171</td>\n",
       "      <td>4316</td>\n",
       "      <td>4502</td>\n",
       "      <td>4642</td>\n",
       "      <td>4905</td>\n",
       "      <td>5082</td>\n",
       "      <td>5377</td>\n",
       "      <td>5497</td>\n",
       "    </tr>\n",
       "    <tr>\n",
       "      <th>87</th>\n",
       "      <td>MK21 Åland Foreign-language speakers</td>\n",
       "      <td>1462</td>\n",
       "      <td>1623</td>\n",
       "      <td>1733</td>\n",
       "      <td>1850</td>\n",
       "      <td>1986</td>\n",
       "      <td>2093</td>\n",
       "      <td>2255</td>\n",
       "      <td>2388</td>\n",
       "      <td>2538</td>\n",
       "      <td>2621</td>\n",
       "    </tr>\n",
       "    <tr>\n",
       "      <th>88</th>\n",
       "      <td>MK21 Åland Persons with foreign background</td>\n",
       "      <td>3054</td>\n",
       "      <td>3293</td>\n",
       "      <td>3454</td>\n",
       "      <td>3618</td>\n",
       "      <td>3824</td>\n",
       "      <td>3862</td>\n",
       "      <td>4126</td>\n",
       "      <td>4316</td>\n",
       "      <td>4612</td>\n",
       "      <td>4758</td>\n",
       "    </tr>\n",
       "  </tbody>\n",
       "</table>\n",
       "<p>89 rows × 11 columns</p>\n",
       "</div>"
      ],
      "text/plain": [
       "                                            index       0       1       2  \\\n",
       "0                                            Year    2010    2011    2012   \n",
       "1     WHOLE COUNTRY Citizens of foreign countries  167954  183133  195511   \n",
       "2               WHOLE COUNTRY Persons born abroad  248135  266148  285471   \n",
       "3         WHOLE COUNTRY Foreign-language speakers  224388  244827  266949   \n",
       "4   WHOLE COUNTRY Persons with foreign background  237066  257494  279616   \n",
       "..                                            ...     ...     ...     ...   \n",
       "84      MA2 ÅLAND Persons with foreign background       0       0       0   \n",
       "85       MK21 Åland Citizens of foreign countries    2415    2560    2610   \n",
       "86                 MK21 Åland Persons born abroad    3785    4018    4171   \n",
       "87           MK21 Åland Foreign-language speakers    1462    1623    1733   \n",
       "88     MK21 Åland Persons with foreign background    3054    3293    3454   \n",
       "\n",
       "         3       4       5       6       7       8       9  \n",
       "0     2013    2014    2015    2016    2017    2018    2019  \n",
       "1   207511  219675  229765  243639  249452  257572  267629  \n",
       "2   304279  321977  337162  357541  372802  387215  404179  \n",
       "3   289068  310306  329562  353993  373325  391746  412644  \n",
       "4   301524  322711  339925  364787  384123  402619  423494  \n",
       "..     ...     ...     ...     ...     ...     ...     ...  \n",
       "84       0       0       0       0       0       0       0  \n",
       "85    2721    2837    2927    3092    3182    3396    3421  \n",
       "86    4316    4502    4642    4905    5082    5377    5497  \n",
       "87    1850    1986    2093    2255    2388    2538    2621  \n",
       "88    3618    3824    3862    4126    4316    4612    4758  \n",
       "\n",
       "[89 rows x 11 columns]"
      ]
     },
     "execution_count": 805,
     "metadata": {},
     "output_type": "execute_result"
    }
   ],
   "source": [
    "#resetting the index\n",
    "data.reset_index(inplace=True)\n",
    "data"
   ]
  },
  {
   "cell_type": "code",
   "execution_count": 806,
   "metadata": {
    "ExecuteTime": {
     "end_time": "2020-12-15T08:05:47.020076Z",
     "start_time": "2020-12-15T08:05:47.002175Z"
    }
   },
   "outputs": [
    {
     "data": {
      "text/html": [
       "<div>\n",
       "<style scoped>\n",
       "    .dataframe tbody tr th:only-of-type {\n",
       "        vertical-align: middle;\n",
       "    }\n",
       "\n",
       "    .dataframe tbody tr th {\n",
       "        vertical-align: top;\n",
       "    }\n",
       "\n",
       "    .dataframe thead th {\n",
       "        text-align: right;\n",
       "    }\n",
       "</style>\n",
       "<table border=\"1\" class=\"dataframe\">\n",
       "  <thead>\n",
       "    <tr style=\"text-align: right;\">\n",
       "      <th></th>\n",
       "      <th>Year</th>\n",
       "      <th>2010</th>\n",
       "      <th>2011</th>\n",
       "      <th>2012</th>\n",
       "      <th>2013</th>\n",
       "      <th>2014</th>\n",
       "      <th>2015</th>\n",
       "      <th>2016</th>\n",
       "      <th>2017</th>\n",
       "      <th>2018</th>\n",
       "      <th>2019</th>\n",
       "    </tr>\n",
       "  </thead>\n",
       "  <tbody>\n",
       "    <tr>\n",
       "      <th>0</th>\n",
       "      <td>Year</td>\n",
       "      <td>2010</td>\n",
       "      <td>2011</td>\n",
       "      <td>2012</td>\n",
       "      <td>2013</td>\n",
       "      <td>2014</td>\n",
       "      <td>2015</td>\n",
       "      <td>2016</td>\n",
       "      <td>2017</td>\n",
       "      <td>2018</td>\n",
       "      <td>2019</td>\n",
       "    </tr>\n",
       "    <tr>\n",
       "      <th>1</th>\n",
       "      <td>WHOLE COUNTRY Citizens of foreign countries</td>\n",
       "      <td>167954</td>\n",
       "      <td>183133</td>\n",
       "      <td>195511</td>\n",
       "      <td>207511</td>\n",
       "      <td>219675</td>\n",
       "      <td>229765</td>\n",
       "      <td>243639</td>\n",
       "      <td>249452</td>\n",
       "      <td>257572</td>\n",
       "      <td>267629</td>\n",
       "    </tr>\n",
       "    <tr>\n",
       "      <th>2</th>\n",
       "      <td>WHOLE COUNTRY Persons born abroad</td>\n",
       "      <td>248135</td>\n",
       "      <td>266148</td>\n",
       "      <td>285471</td>\n",
       "      <td>304279</td>\n",
       "      <td>321977</td>\n",
       "      <td>337162</td>\n",
       "      <td>357541</td>\n",
       "      <td>372802</td>\n",
       "      <td>387215</td>\n",
       "      <td>404179</td>\n",
       "    </tr>\n",
       "    <tr>\n",
       "      <th>3</th>\n",
       "      <td>WHOLE COUNTRY Foreign-language speakers</td>\n",
       "      <td>224388</td>\n",
       "      <td>244827</td>\n",
       "      <td>266949</td>\n",
       "      <td>289068</td>\n",
       "      <td>310306</td>\n",
       "      <td>329562</td>\n",
       "      <td>353993</td>\n",
       "      <td>373325</td>\n",
       "      <td>391746</td>\n",
       "      <td>412644</td>\n",
       "    </tr>\n",
       "    <tr>\n",
       "      <th>4</th>\n",
       "      <td>WHOLE COUNTRY Persons with foreign background</td>\n",
       "      <td>237066</td>\n",
       "      <td>257494</td>\n",
       "      <td>279616</td>\n",
       "      <td>301524</td>\n",
       "      <td>322711</td>\n",
       "      <td>339925</td>\n",
       "      <td>364787</td>\n",
       "      <td>384123</td>\n",
       "      <td>402619</td>\n",
       "      <td>423494</td>\n",
       "    </tr>\n",
       "    <tr>\n",
       "      <th>...</th>\n",
       "      <td>...</td>\n",
       "      <td>...</td>\n",
       "      <td>...</td>\n",
       "      <td>...</td>\n",
       "      <td>...</td>\n",
       "      <td>...</td>\n",
       "      <td>...</td>\n",
       "      <td>...</td>\n",
       "      <td>...</td>\n",
       "      <td>...</td>\n",
       "      <td>...</td>\n",
       "    </tr>\n",
       "    <tr>\n",
       "      <th>84</th>\n",
       "      <td>MA2 ÅLAND Persons with foreign background</td>\n",
       "      <td>0</td>\n",
       "      <td>0</td>\n",
       "      <td>0</td>\n",
       "      <td>0</td>\n",
       "      <td>0</td>\n",
       "      <td>0</td>\n",
       "      <td>0</td>\n",
       "      <td>0</td>\n",
       "      <td>0</td>\n",
       "      <td>0</td>\n",
       "    </tr>\n",
       "    <tr>\n",
       "      <th>85</th>\n",
       "      <td>MK21 Åland Citizens of foreign countries</td>\n",
       "      <td>2415</td>\n",
       "      <td>2560</td>\n",
       "      <td>2610</td>\n",
       "      <td>2721</td>\n",
       "      <td>2837</td>\n",
       "      <td>2927</td>\n",
       "      <td>3092</td>\n",
       "      <td>3182</td>\n",
       "      <td>3396</td>\n",
       "      <td>3421</td>\n",
       "    </tr>\n",
       "    <tr>\n",
       "      <th>86</th>\n",
       "      <td>MK21 Åland Persons born abroad</td>\n",
       "      <td>3785</td>\n",
       "      <td>4018</td>\n",
       "      <td>4171</td>\n",
       "      <td>4316</td>\n",
       "      <td>4502</td>\n",
       "      <td>4642</td>\n",
       "      <td>4905</td>\n",
       "      <td>5082</td>\n",
       "      <td>5377</td>\n",
       "      <td>5497</td>\n",
       "    </tr>\n",
       "    <tr>\n",
       "      <th>87</th>\n",
       "      <td>MK21 Åland Foreign-language speakers</td>\n",
       "      <td>1462</td>\n",
       "      <td>1623</td>\n",
       "      <td>1733</td>\n",
       "      <td>1850</td>\n",
       "      <td>1986</td>\n",
       "      <td>2093</td>\n",
       "      <td>2255</td>\n",
       "      <td>2388</td>\n",
       "      <td>2538</td>\n",
       "      <td>2621</td>\n",
       "    </tr>\n",
       "    <tr>\n",
       "      <th>88</th>\n",
       "      <td>MK21 Åland Persons with foreign background</td>\n",
       "      <td>3054</td>\n",
       "      <td>3293</td>\n",
       "      <td>3454</td>\n",
       "      <td>3618</td>\n",
       "      <td>3824</td>\n",
       "      <td>3862</td>\n",
       "      <td>4126</td>\n",
       "      <td>4316</td>\n",
       "      <td>4612</td>\n",
       "      <td>4758</td>\n",
       "    </tr>\n",
       "  </tbody>\n",
       "</table>\n",
       "<p>89 rows × 11 columns</p>\n",
       "</div>"
      ],
      "text/plain": [
       "0                                            Year    2010    2011    2012  \\\n",
       "0                                            Year    2010    2011    2012   \n",
       "1     WHOLE COUNTRY Citizens of foreign countries  167954  183133  195511   \n",
       "2               WHOLE COUNTRY Persons born abroad  248135  266148  285471   \n",
       "3         WHOLE COUNTRY Foreign-language speakers  224388  244827  266949   \n",
       "4   WHOLE COUNTRY Persons with foreign background  237066  257494  279616   \n",
       "..                                            ...     ...     ...     ...   \n",
       "84      MA2 ÅLAND Persons with foreign background       0       0       0   \n",
       "85       MK21 Åland Citizens of foreign countries    2415    2560    2610   \n",
       "86                 MK21 Åland Persons born abroad    3785    4018    4171   \n",
       "87           MK21 Åland Foreign-language speakers    1462    1623    1733   \n",
       "88     MK21 Åland Persons with foreign background    3054    3293    3454   \n",
       "\n",
       "0     2013    2014    2015    2016    2017    2018    2019  \n",
       "0     2013    2014    2015    2016    2017    2018    2019  \n",
       "1   207511  219675  229765  243639  249452  257572  267629  \n",
       "2   304279  321977  337162  357541  372802  387215  404179  \n",
       "3   289068  310306  329562  353993  373325  391746  412644  \n",
       "4   301524  322711  339925  364787  384123  402619  423494  \n",
       "..     ...     ...     ...     ...     ...     ...     ...  \n",
       "84       0       0       0       0       0       0       0  \n",
       "85    2721    2837    2927    3092    3182    3396    3421  \n",
       "86    4316    4502    4642    4905    5082    5377    5497  \n",
       "87    1850    1986    2093    2255    2388    2538    2621  \n",
       "88    3618    3824    3862    4126    4316    4612    4758  \n",
       "\n",
       "[89 rows x 11 columns]"
      ]
     },
     "execution_count": 806,
     "metadata": {},
     "output_type": "execute_result"
    }
   ],
   "source": [
    "data.columns=data.loc[0]\n",
    "data"
   ]
  },
  {
   "cell_type": "markdown",
   "metadata": {},
   "source": [
    "<b>Here, we can see that there are 2 year rows.So, we have dropped the extra year row from the dataset below using drop().</b>"
   ]
  },
  {
   "cell_type": "code",
   "execution_count": 807,
   "metadata": {
    "ExecuteTime": {
     "end_time": "2020-12-15T08:05:48.582038Z",
     "start_time": "2020-12-15T08:05:48.563761Z"
    }
   },
   "outputs": [
    {
     "data": {
      "text/html": [
       "<div>\n",
       "<style scoped>\n",
       "    .dataframe tbody tr th:only-of-type {\n",
       "        vertical-align: middle;\n",
       "    }\n",
       "\n",
       "    .dataframe tbody tr th {\n",
       "        vertical-align: top;\n",
       "    }\n",
       "\n",
       "    .dataframe thead th {\n",
       "        text-align: right;\n",
       "    }\n",
       "</style>\n",
       "<table border=\"1\" class=\"dataframe\">\n",
       "  <thead>\n",
       "    <tr style=\"text-align: right;\">\n",
       "      <th></th>\n",
       "      <th>Year</th>\n",
       "      <th>2010</th>\n",
       "      <th>2011</th>\n",
       "      <th>2012</th>\n",
       "      <th>2013</th>\n",
       "      <th>2014</th>\n",
       "      <th>2015</th>\n",
       "      <th>2016</th>\n",
       "      <th>2017</th>\n",
       "      <th>2018</th>\n",
       "      <th>2019</th>\n",
       "    </tr>\n",
       "  </thead>\n",
       "  <tbody>\n",
       "    <tr>\n",
       "      <th>1</th>\n",
       "      <td>WHOLE COUNTRY Citizens of foreign countries</td>\n",
       "      <td>167954</td>\n",
       "      <td>183133</td>\n",
       "      <td>195511</td>\n",
       "      <td>207511</td>\n",
       "      <td>219675</td>\n",
       "      <td>229765</td>\n",
       "      <td>243639</td>\n",
       "      <td>249452</td>\n",
       "      <td>257572</td>\n",
       "      <td>267629</td>\n",
       "    </tr>\n",
       "    <tr>\n",
       "      <th>2</th>\n",
       "      <td>WHOLE COUNTRY Persons born abroad</td>\n",
       "      <td>248135</td>\n",
       "      <td>266148</td>\n",
       "      <td>285471</td>\n",
       "      <td>304279</td>\n",
       "      <td>321977</td>\n",
       "      <td>337162</td>\n",
       "      <td>357541</td>\n",
       "      <td>372802</td>\n",
       "      <td>387215</td>\n",
       "      <td>404179</td>\n",
       "    </tr>\n",
       "    <tr>\n",
       "      <th>3</th>\n",
       "      <td>WHOLE COUNTRY Foreign-language speakers</td>\n",
       "      <td>224388</td>\n",
       "      <td>244827</td>\n",
       "      <td>266949</td>\n",
       "      <td>289068</td>\n",
       "      <td>310306</td>\n",
       "      <td>329562</td>\n",
       "      <td>353993</td>\n",
       "      <td>373325</td>\n",
       "      <td>391746</td>\n",
       "      <td>412644</td>\n",
       "    </tr>\n",
       "    <tr>\n",
       "      <th>4</th>\n",
       "      <td>WHOLE COUNTRY Persons with foreign background</td>\n",
       "      <td>237066</td>\n",
       "      <td>257494</td>\n",
       "      <td>279616</td>\n",
       "      <td>301524</td>\n",
       "      <td>322711</td>\n",
       "      <td>339925</td>\n",
       "      <td>364787</td>\n",
       "      <td>384123</td>\n",
       "      <td>402619</td>\n",
       "      <td>423494</td>\n",
       "    </tr>\n",
       "    <tr>\n",
       "      <th>5</th>\n",
       "      <td>MA1 MAINLAND FINLAND Citizens of foreign count...</td>\n",
       "      <td>0</td>\n",
       "      <td>0</td>\n",
       "      <td>0</td>\n",
       "      <td>0</td>\n",
       "      <td>0</td>\n",
       "      <td>0</td>\n",
       "      <td>0</td>\n",
       "      <td>0</td>\n",
       "      <td>0</td>\n",
       "      <td>0</td>\n",
       "    </tr>\n",
       "    <tr>\n",
       "      <th>...</th>\n",
       "      <td>...</td>\n",
       "      <td>...</td>\n",
       "      <td>...</td>\n",
       "      <td>...</td>\n",
       "      <td>...</td>\n",
       "      <td>...</td>\n",
       "      <td>...</td>\n",
       "      <td>...</td>\n",
       "      <td>...</td>\n",
       "      <td>...</td>\n",
       "      <td>...</td>\n",
       "    </tr>\n",
       "    <tr>\n",
       "      <th>84</th>\n",
       "      <td>MA2 ÅLAND Persons with foreign background</td>\n",
       "      <td>0</td>\n",
       "      <td>0</td>\n",
       "      <td>0</td>\n",
       "      <td>0</td>\n",
       "      <td>0</td>\n",
       "      <td>0</td>\n",
       "      <td>0</td>\n",
       "      <td>0</td>\n",
       "      <td>0</td>\n",
       "      <td>0</td>\n",
       "    </tr>\n",
       "    <tr>\n",
       "      <th>85</th>\n",
       "      <td>MK21 Åland Citizens of foreign countries</td>\n",
       "      <td>2415</td>\n",
       "      <td>2560</td>\n",
       "      <td>2610</td>\n",
       "      <td>2721</td>\n",
       "      <td>2837</td>\n",
       "      <td>2927</td>\n",
       "      <td>3092</td>\n",
       "      <td>3182</td>\n",
       "      <td>3396</td>\n",
       "      <td>3421</td>\n",
       "    </tr>\n",
       "    <tr>\n",
       "      <th>86</th>\n",
       "      <td>MK21 Åland Persons born abroad</td>\n",
       "      <td>3785</td>\n",
       "      <td>4018</td>\n",
       "      <td>4171</td>\n",
       "      <td>4316</td>\n",
       "      <td>4502</td>\n",
       "      <td>4642</td>\n",
       "      <td>4905</td>\n",
       "      <td>5082</td>\n",
       "      <td>5377</td>\n",
       "      <td>5497</td>\n",
       "    </tr>\n",
       "    <tr>\n",
       "      <th>87</th>\n",
       "      <td>MK21 Åland Foreign-language speakers</td>\n",
       "      <td>1462</td>\n",
       "      <td>1623</td>\n",
       "      <td>1733</td>\n",
       "      <td>1850</td>\n",
       "      <td>1986</td>\n",
       "      <td>2093</td>\n",
       "      <td>2255</td>\n",
       "      <td>2388</td>\n",
       "      <td>2538</td>\n",
       "      <td>2621</td>\n",
       "    </tr>\n",
       "    <tr>\n",
       "      <th>88</th>\n",
       "      <td>MK21 Åland Persons with foreign background</td>\n",
       "      <td>3054</td>\n",
       "      <td>3293</td>\n",
       "      <td>3454</td>\n",
       "      <td>3618</td>\n",
       "      <td>3824</td>\n",
       "      <td>3862</td>\n",
       "      <td>4126</td>\n",
       "      <td>4316</td>\n",
       "      <td>4612</td>\n",
       "      <td>4758</td>\n",
       "    </tr>\n",
       "  </tbody>\n",
       "</table>\n",
       "<p>88 rows × 11 columns</p>\n",
       "</div>"
      ],
      "text/plain": [
       "0                                                Year    2010    2011    2012  \\\n",
       "1         WHOLE COUNTRY Citizens of foreign countries  167954  183133  195511   \n",
       "2                   WHOLE COUNTRY Persons born abroad  248135  266148  285471   \n",
       "3             WHOLE COUNTRY Foreign-language speakers  224388  244827  266949   \n",
       "4       WHOLE COUNTRY Persons with foreign background  237066  257494  279616   \n",
       "5   MA1 MAINLAND FINLAND Citizens of foreign count...       0       0       0   \n",
       "..                                                ...     ...     ...     ...   \n",
       "84          MA2 ÅLAND Persons with foreign background       0       0       0   \n",
       "85           MK21 Åland Citizens of foreign countries    2415    2560    2610   \n",
       "86                     MK21 Åland Persons born abroad    3785    4018    4171   \n",
       "87               MK21 Åland Foreign-language speakers    1462    1623    1733   \n",
       "88         MK21 Åland Persons with foreign background    3054    3293    3454   \n",
       "\n",
       "0     2013    2014    2015    2016    2017    2018    2019  \n",
       "1   207511  219675  229765  243639  249452  257572  267629  \n",
       "2   304279  321977  337162  357541  372802  387215  404179  \n",
       "3   289068  310306  329562  353993  373325  391746  412644  \n",
       "4   301524  322711  339925  364787  384123  402619  423494  \n",
       "5        0       0       0       0       0       0       0  \n",
       "..     ...     ...     ...     ...     ...     ...     ...  \n",
       "84       0       0       0       0       0       0       0  \n",
       "85    2721    2837    2927    3092    3182    3396    3421  \n",
       "86    4316    4502    4642    4905    5082    5377    5497  \n",
       "87    1850    1986    2093    2255    2388    2538    2621  \n",
       "88    3618    3824    3862    4126    4316    4612    4758  \n",
       "\n",
       "[88 rows x 11 columns]"
      ]
     },
     "execution_count": 807,
     "metadata": {},
     "output_type": "execute_result"
    }
   ],
   "source": [
    "data=data.drop(0)\n",
    "data"
   ]
  },
  {
   "cell_type": "markdown",
   "metadata": {},
   "source": [
    "<span style=\"color:red\">Here, we have replaced the words after the regions name using regex pattern and assigned it to 'Region'. Also, strip() is used to get rid of the extra space in the begining of every columns.Similar process is carried out below to get rid of locations name using regex pattern and assigned it to 'Attribute'. After that the Attribute value is assigned to the 'Attribute' columns while Region value is assigned to 'Region' columns.</span>"
   ]
  },
  {
   "cell_type": "code",
   "execution_count": 808,
   "metadata": {
    "ExecuteTime": {
     "end_time": "2020-12-15T08:05:50.247488Z",
     "start_time": "2020-12-15T08:05:50.240915Z"
    }
   },
   "outputs": [],
   "source": [
    "#Removing the extra space infront of the columns name\n",
    "Region=data['Year'].str.replace(r'(\\s[CPF][a-z].+)','').str.strip()"
   ]
  },
  {
   "cell_type": "code",
   "execution_count": 809,
   "metadata": {
    "ExecuteTime": {
     "end_time": "2020-12-15T08:05:51.065042Z",
     "start_time": "2020-12-15T08:05:51.056113Z"
    }
   },
   "outputs": [
    {
     "data": {
      "text/plain": [
       "1            WHOLE COUNTRY\n",
       "2            WHOLE COUNTRY\n",
       "3            WHOLE COUNTRY\n",
       "4            WHOLE COUNTRY\n",
       "5     MA1 MAINLAND FINLAND\n",
       "              ...         \n",
       "84               MA2 ÅLAND\n",
       "85              MK21 Åland\n",
       "86              MK21 Åland\n",
       "87              MK21 Åland\n",
       "88              MK21 Åland\n",
       "Name: Year, Length: 88, dtype: object"
      ]
     },
     "execution_count": 809,
     "metadata": {},
     "output_type": "execute_result"
    }
   ],
   "source": [
    "Region"
   ]
  },
  {
   "cell_type": "code",
   "execution_count": 810,
   "metadata": {
    "ExecuteTime": {
     "end_time": "2020-12-15T08:05:51.894577Z",
     "start_time": "2020-12-15T08:05:51.888425Z"
    }
   },
   "outputs": [],
   "source": [
    "Attribute=data['Year'].str.replace(r'.+(?=(\\s[CPF][a-z].+))','').str.strip()"
   ]
  },
  {
   "cell_type": "code",
   "execution_count": 811,
   "metadata": {
    "ExecuteTime": {
     "end_time": "2020-12-15T08:05:52.798923Z",
     "start_time": "2020-12-15T08:05:52.792297Z"
    },
    "scrolled": false
   },
   "outputs": [
    {
     "data": {
      "text/plain": [
       "1       Citizens of foreign countries\n",
       "2                 Persons born abroad\n",
       "3           Foreign-language speakers\n",
       "4     Persons with foreign background\n",
       "5       Citizens of foreign countries\n",
       "                   ...               \n",
       "84    Persons with foreign background\n",
       "85      Citizens of foreign countries\n",
       "86                Persons born abroad\n",
       "87          Foreign-language speakers\n",
       "88    Persons with foreign background\n",
       "Name: Year, Length: 88, dtype: object"
      ]
     },
     "execution_count": 811,
     "metadata": {},
     "output_type": "execute_result"
    }
   ],
   "source": [
    "Attribute"
   ]
  },
  {
   "cell_type": "code",
   "execution_count": 812,
   "metadata": {
    "ExecuteTime": {
     "end_time": "2020-12-15T08:05:53.595020Z",
     "start_time": "2020-12-15T08:05:53.591268Z"
    }
   },
   "outputs": [],
   "source": [
    "data['Attribute']=Attribute"
   ]
  },
  {
   "cell_type": "code",
   "execution_count": 813,
   "metadata": {
    "ExecuteTime": {
     "end_time": "2020-12-15T08:05:54.209741Z",
     "start_time": "2020-12-15T08:05:54.185394Z"
    },
    "scrolled": true
   },
   "outputs": [
    {
     "data": {
      "text/html": [
       "<div>\n",
       "<style scoped>\n",
       "    .dataframe tbody tr th:only-of-type {\n",
       "        vertical-align: middle;\n",
       "    }\n",
       "\n",
       "    .dataframe tbody tr th {\n",
       "        vertical-align: top;\n",
       "    }\n",
       "\n",
       "    .dataframe thead th {\n",
       "        text-align: right;\n",
       "    }\n",
       "</style>\n",
       "<table border=\"1\" class=\"dataframe\">\n",
       "  <thead>\n",
       "    <tr style=\"text-align: right;\">\n",
       "      <th></th>\n",
       "      <th>Year</th>\n",
       "      <th>2010</th>\n",
       "      <th>2011</th>\n",
       "      <th>2012</th>\n",
       "      <th>2013</th>\n",
       "      <th>2014</th>\n",
       "      <th>2015</th>\n",
       "      <th>2016</th>\n",
       "      <th>2017</th>\n",
       "      <th>2018</th>\n",
       "      <th>2019</th>\n",
       "      <th>Attribute</th>\n",
       "      <th>Region</th>\n",
       "    </tr>\n",
       "  </thead>\n",
       "  <tbody>\n",
       "    <tr>\n",
       "      <th>1</th>\n",
       "      <td>WHOLE COUNTRY Citizens of foreign countries</td>\n",
       "      <td>167954</td>\n",
       "      <td>183133</td>\n",
       "      <td>195511</td>\n",
       "      <td>207511</td>\n",
       "      <td>219675</td>\n",
       "      <td>229765</td>\n",
       "      <td>243639</td>\n",
       "      <td>249452</td>\n",
       "      <td>257572</td>\n",
       "      <td>267629</td>\n",
       "      <td>Citizens of foreign countries</td>\n",
       "      <td>WHOLE COUNTRY</td>\n",
       "    </tr>\n",
       "    <tr>\n",
       "      <th>2</th>\n",
       "      <td>WHOLE COUNTRY Persons born abroad</td>\n",
       "      <td>248135</td>\n",
       "      <td>266148</td>\n",
       "      <td>285471</td>\n",
       "      <td>304279</td>\n",
       "      <td>321977</td>\n",
       "      <td>337162</td>\n",
       "      <td>357541</td>\n",
       "      <td>372802</td>\n",
       "      <td>387215</td>\n",
       "      <td>404179</td>\n",
       "      <td>Persons born abroad</td>\n",
       "      <td>WHOLE COUNTRY</td>\n",
       "    </tr>\n",
       "    <tr>\n",
       "      <th>3</th>\n",
       "      <td>WHOLE COUNTRY Foreign-language speakers</td>\n",
       "      <td>224388</td>\n",
       "      <td>244827</td>\n",
       "      <td>266949</td>\n",
       "      <td>289068</td>\n",
       "      <td>310306</td>\n",
       "      <td>329562</td>\n",
       "      <td>353993</td>\n",
       "      <td>373325</td>\n",
       "      <td>391746</td>\n",
       "      <td>412644</td>\n",
       "      <td>Foreign-language speakers</td>\n",
       "      <td>WHOLE COUNTRY</td>\n",
       "    </tr>\n",
       "    <tr>\n",
       "      <th>4</th>\n",
       "      <td>WHOLE COUNTRY Persons with foreign background</td>\n",
       "      <td>237066</td>\n",
       "      <td>257494</td>\n",
       "      <td>279616</td>\n",
       "      <td>301524</td>\n",
       "      <td>322711</td>\n",
       "      <td>339925</td>\n",
       "      <td>364787</td>\n",
       "      <td>384123</td>\n",
       "      <td>402619</td>\n",
       "      <td>423494</td>\n",
       "      <td>Persons with foreign background</td>\n",
       "      <td>WHOLE COUNTRY</td>\n",
       "    </tr>\n",
       "    <tr>\n",
       "      <th>5</th>\n",
       "      <td>MA1 MAINLAND FINLAND Citizens of foreign count...</td>\n",
       "      <td>0</td>\n",
       "      <td>0</td>\n",
       "      <td>0</td>\n",
       "      <td>0</td>\n",
       "      <td>0</td>\n",
       "      <td>0</td>\n",
       "      <td>0</td>\n",
       "      <td>0</td>\n",
       "      <td>0</td>\n",
       "      <td>0</td>\n",
       "      <td>Citizens of foreign countries</td>\n",
       "      <td>MA1 MAINLAND FINLAND</td>\n",
       "    </tr>\n",
       "    <tr>\n",
       "      <th>...</th>\n",
       "      <td>...</td>\n",
       "      <td>...</td>\n",
       "      <td>...</td>\n",
       "      <td>...</td>\n",
       "      <td>...</td>\n",
       "      <td>...</td>\n",
       "      <td>...</td>\n",
       "      <td>...</td>\n",
       "      <td>...</td>\n",
       "      <td>...</td>\n",
       "      <td>...</td>\n",
       "      <td>...</td>\n",
       "      <td>...</td>\n",
       "    </tr>\n",
       "    <tr>\n",
       "      <th>84</th>\n",
       "      <td>MA2 ÅLAND Persons with foreign background</td>\n",
       "      <td>0</td>\n",
       "      <td>0</td>\n",
       "      <td>0</td>\n",
       "      <td>0</td>\n",
       "      <td>0</td>\n",
       "      <td>0</td>\n",
       "      <td>0</td>\n",
       "      <td>0</td>\n",
       "      <td>0</td>\n",
       "      <td>0</td>\n",
       "      <td>Persons with foreign background</td>\n",
       "      <td>MA2 ÅLAND</td>\n",
       "    </tr>\n",
       "    <tr>\n",
       "      <th>85</th>\n",
       "      <td>MK21 Åland Citizens of foreign countries</td>\n",
       "      <td>2415</td>\n",
       "      <td>2560</td>\n",
       "      <td>2610</td>\n",
       "      <td>2721</td>\n",
       "      <td>2837</td>\n",
       "      <td>2927</td>\n",
       "      <td>3092</td>\n",
       "      <td>3182</td>\n",
       "      <td>3396</td>\n",
       "      <td>3421</td>\n",
       "      <td>Citizens of foreign countries</td>\n",
       "      <td>MK21 Åland</td>\n",
       "    </tr>\n",
       "    <tr>\n",
       "      <th>86</th>\n",
       "      <td>MK21 Åland Persons born abroad</td>\n",
       "      <td>3785</td>\n",
       "      <td>4018</td>\n",
       "      <td>4171</td>\n",
       "      <td>4316</td>\n",
       "      <td>4502</td>\n",
       "      <td>4642</td>\n",
       "      <td>4905</td>\n",
       "      <td>5082</td>\n",
       "      <td>5377</td>\n",
       "      <td>5497</td>\n",
       "      <td>Persons born abroad</td>\n",
       "      <td>MK21 Åland</td>\n",
       "    </tr>\n",
       "    <tr>\n",
       "      <th>87</th>\n",
       "      <td>MK21 Åland Foreign-language speakers</td>\n",
       "      <td>1462</td>\n",
       "      <td>1623</td>\n",
       "      <td>1733</td>\n",
       "      <td>1850</td>\n",
       "      <td>1986</td>\n",
       "      <td>2093</td>\n",
       "      <td>2255</td>\n",
       "      <td>2388</td>\n",
       "      <td>2538</td>\n",
       "      <td>2621</td>\n",
       "      <td>Foreign-language speakers</td>\n",
       "      <td>MK21 Åland</td>\n",
       "    </tr>\n",
       "    <tr>\n",
       "      <th>88</th>\n",
       "      <td>MK21 Åland Persons with foreign background</td>\n",
       "      <td>3054</td>\n",
       "      <td>3293</td>\n",
       "      <td>3454</td>\n",
       "      <td>3618</td>\n",
       "      <td>3824</td>\n",
       "      <td>3862</td>\n",
       "      <td>4126</td>\n",
       "      <td>4316</td>\n",
       "      <td>4612</td>\n",
       "      <td>4758</td>\n",
       "      <td>Persons with foreign background</td>\n",
       "      <td>MK21 Åland</td>\n",
       "    </tr>\n",
       "  </tbody>\n",
       "</table>\n",
       "<p>88 rows × 13 columns</p>\n",
       "</div>"
      ],
      "text/plain": [
       "0                                                Year    2010    2011    2012  \\\n",
       "1         WHOLE COUNTRY Citizens of foreign countries  167954  183133  195511   \n",
       "2                   WHOLE COUNTRY Persons born abroad  248135  266148  285471   \n",
       "3             WHOLE COUNTRY Foreign-language speakers  224388  244827  266949   \n",
       "4       WHOLE COUNTRY Persons with foreign background  237066  257494  279616   \n",
       "5   MA1 MAINLAND FINLAND Citizens of foreign count...       0       0       0   \n",
       "..                                                ...     ...     ...     ...   \n",
       "84          MA2 ÅLAND Persons with foreign background       0       0       0   \n",
       "85           MK21 Åland Citizens of foreign countries    2415    2560    2610   \n",
       "86                     MK21 Åland Persons born abroad    3785    4018    4171   \n",
       "87               MK21 Åland Foreign-language speakers    1462    1623    1733   \n",
       "88         MK21 Åland Persons with foreign background    3054    3293    3454   \n",
       "\n",
       "0     2013    2014    2015    2016    2017    2018    2019  \\\n",
       "1   207511  219675  229765  243639  249452  257572  267629   \n",
       "2   304279  321977  337162  357541  372802  387215  404179   \n",
       "3   289068  310306  329562  353993  373325  391746  412644   \n",
       "4   301524  322711  339925  364787  384123  402619  423494   \n",
       "5        0       0       0       0       0       0       0   \n",
       "..     ...     ...     ...     ...     ...     ...     ...   \n",
       "84       0       0       0       0       0       0       0   \n",
       "85    2721    2837    2927    3092    3182    3396    3421   \n",
       "86    4316    4502    4642    4905    5082    5377    5497   \n",
       "87    1850    1986    2093    2255    2388    2538    2621   \n",
       "88    3618    3824    3862    4126    4316    4612    4758   \n",
       "\n",
       "0                         Attribute                Region  \n",
       "1     Citizens of foreign countries         WHOLE COUNTRY  \n",
       "2               Persons born abroad         WHOLE COUNTRY  \n",
       "3         Foreign-language speakers         WHOLE COUNTRY  \n",
       "4   Persons with foreign background         WHOLE COUNTRY  \n",
       "5     Citizens of foreign countries  MA1 MAINLAND FINLAND  \n",
       "..                              ...                   ...  \n",
       "84  Persons with foreign background             MA2 ÅLAND  \n",
       "85    Citizens of foreign countries            MK21 Åland  \n",
       "86              Persons born abroad            MK21 Åland  \n",
       "87        Foreign-language speakers            MK21 Åland  \n",
       "88  Persons with foreign background            MK21 Åland  \n",
       "\n",
       "[88 rows x 13 columns]"
      ]
     },
     "execution_count": 813,
     "metadata": {},
     "output_type": "execute_result"
    }
   ],
   "source": [
    "data['Region']=Region\n",
    "data"
   ]
  },
  {
   "cell_type": "markdown",
   "metadata": {},
   "source": [
    "As you can see from the above dataset we have unnecessary 'Year' column which carries the columns from original dataset as rows so it is better to remove 'Year' columns since we already have two new columns with 'Attribute' and 'Region'."
   ]
  },
  {
   "cell_type": "code",
   "execution_count": 814,
   "metadata": {
    "ExecuteTime": {
     "end_time": "2020-12-15T08:05:55.414460Z",
     "start_time": "2020-12-15T08:05:55.408013Z"
    }
   },
   "outputs": [],
   "source": [
    "data.drop('Year',axis=1,inplace=True)"
   ]
  },
  {
   "cell_type": "code",
   "execution_count": 815,
   "metadata": {
    "ExecuteTime": {
     "end_time": "2020-12-15T08:05:56.124705Z",
     "start_time": "2020-12-15T08:05:56.098214Z"
    }
   },
   "outputs": [
    {
     "data": {
      "text/html": [
       "<div>\n",
       "<style scoped>\n",
       "    .dataframe tbody tr th:only-of-type {\n",
       "        vertical-align: middle;\n",
       "    }\n",
       "\n",
       "    .dataframe tbody tr th {\n",
       "        vertical-align: top;\n",
       "    }\n",
       "\n",
       "    .dataframe thead th {\n",
       "        text-align: right;\n",
       "    }\n",
       "</style>\n",
       "<table border=\"1\" class=\"dataframe\">\n",
       "  <thead>\n",
       "    <tr style=\"text-align: right;\">\n",
       "      <th></th>\n",
       "      <th>2010</th>\n",
       "      <th>2011</th>\n",
       "      <th>2012</th>\n",
       "      <th>2013</th>\n",
       "      <th>2014</th>\n",
       "      <th>2015</th>\n",
       "      <th>2016</th>\n",
       "      <th>2017</th>\n",
       "      <th>2018</th>\n",
       "      <th>2019</th>\n",
       "      <th>Attribute</th>\n",
       "      <th>Region</th>\n",
       "    </tr>\n",
       "  </thead>\n",
       "  <tbody>\n",
       "    <tr>\n",
       "      <th>1</th>\n",
       "      <td>167954</td>\n",
       "      <td>183133</td>\n",
       "      <td>195511</td>\n",
       "      <td>207511</td>\n",
       "      <td>219675</td>\n",
       "      <td>229765</td>\n",
       "      <td>243639</td>\n",
       "      <td>249452</td>\n",
       "      <td>257572</td>\n",
       "      <td>267629</td>\n",
       "      <td>Citizens of foreign countries</td>\n",
       "      <td>WHOLE COUNTRY</td>\n",
       "    </tr>\n",
       "    <tr>\n",
       "      <th>2</th>\n",
       "      <td>248135</td>\n",
       "      <td>266148</td>\n",
       "      <td>285471</td>\n",
       "      <td>304279</td>\n",
       "      <td>321977</td>\n",
       "      <td>337162</td>\n",
       "      <td>357541</td>\n",
       "      <td>372802</td>\n",
       "      <td>387215</td>\n",
       "      <td>404179</td>\n",
       "      <td>Persons born abroad</td>\n",
       "      <td>WHOLE COUNTRY</td>\n",
       "    </tr>\n",
       "    <tr>\n",
       "      <th>3</th>\n",
       "      <td>224388</td>\n",
       "      <td>244827</td>\n",
       "      <td>266949</td>\n",
       "      <td>289068</td>\n",
       "      <td>310306</td>\n",
       "      <td>329562</td>\n",
       "      <td>353993</td>\n",
       "      <td>373325</td>\n",
       "      <td>391746</td>\n",
       "      <td>412644</td>\n",
       "      <td>Foreign-language speakers</td>\n",
       "      <td>WHOLE COUNTRY</td>\n",
       "    </tr>\n",
       "    <tr>\n",
       "      <th>4</th>\n",
       "      <td>237066</td>\n",
       "      <td>257494</td>\n",
       "      <td>279616</td>\n",
       "      <td>301524</td>\n",
       "      <td>322711</td>\n",
       "      <td>339925</td>\n",
       "      <td>364787</td>\n",
       "      <td>384123</td>\n",
       "      <td>402619</td>\n",
       "      <td>423494</td>\n",
       "      <td>Persons with foreign background</td>\n",
       "      <td>WHOLE COUNTRY</td>\n",
       "    </tr>\n",
       "    <tr>\n",
       "      <th>5</th>\n",
       "      <td>0</td>\n",
       "      <td>0</td>\n",
       "      <td>0</td>\n",
       "      <td>0</td>\n",
       "      <td>0</td>\n",
       "      <td>0</td>\n",
       "      <td>0</td>\n",
       "      <td>0</td>\n",
       "      <td>0</td>\n",
       "      <td>0</td>\n",
       "      <td>Citizens of foreign countries</td>\n",
       "      <td>MA1 MAINLAND FINLAND</td>\n",
       "    </tr>\n",
       "    <tr>\n",
       "      <th>...</th>\n",
       "      <td>...</td>\n",
       "      <td>...</td>\n",
       "      <td>...</td>\n",
       "      <td>...</td>\n",
       "      <td>...</td>\n",
       "      <td>...</td>\n",
       "      <td>...</td>\n",
       "      <td>...</td>\n",
       "      <td>...</td>\n",
       "      <td>...</td>\n",
       "      <td>...</td>\n",
       "      <td>...</td>\n",
       "    </tr>\n",
       "    <tr>\n",
       "      <th>84</th>\n",
       "      <td>0</td>\n",
       "      <td>0</td>\n",
       "      <td>0</td>\n",
       "      <td>0</td>\n",
       "      <td>0</td>\n",
       "      <td>0</td>\n",
       "      <td>0</td>\n",
       "      <td>0</td>\n",
       "      <td>0</td>\n",
       "      <td>0</td>\n",
       "      <td>Persons with foreign background</td>\n",
       "      <td>MA2 ÅLAND</td>\n",
       "    </tr>\n",
       "    <tr>\n",
       "      <th>85</th>\n",
       "      <td>2415</td>\n",
       "      <td>2560</td>\n",
       "      <td>2610</td>\n",
       "      <td>2721</td>\n",
       "      <td>2837</td>\n",
       "      <td>2927</td>\n",
       "      <td>3092</td>\n",
       "      <td>3182</td>\n",
       "      <td>3396</td>\n",
       "      <td>3421</td>\n",
       "      <td>Citizens of foreign countries</td>\n",
       "      <td>MK21 Åland</td>\n",
       "    </tr>\n",
       "    <tr>\n",
       "      <th>86</th>\n",
       "      <td>3785</td>\n",
       "      <td>4018</td>\n",
       "      <td>4171</td>\n",
       "      <td>4316</td>\n",
       "      <td>4502</td>\n",
       "      <td>4642</td>\n",
       "      <td>4905</td>\n",
       "      <td>5082</td>\n",
       "      <td>5377</td>\n",
       "      <td>5497</td>\n",
       "      <td>Persons born abroad</td>\n",
       "      <td>MK21 Åland</td>\n",
       "    </tr>\n",
       "    <tr>\n",
       "      <th>87</th>\n",
       "      <td>1462</td>\n",
       "      <td>1623</td>\n",
       "      <td>1733</td>\n",
       "      <td>1850</td>\n",
       "      <td>1986</td>\n",
       "      <td>2093</td>\n",
       "      <td>2255</td>\n",
       "      <td>2388</td>\n",
       "      <td>2538</td>\n",
       "      <td>2621</td>\n",
       "      <td>Foreign-language speakers</td>\n",
       "      <td>MK21 Åland</td>\n",
       "    </tr>\n",
       "    <tr>\n",
       "      <th>88</th>\n",
       "      <td>3054</td>\n",
       "      <td>3293</td>\n",
       "      <td>3454</td>\n",
       "      <td>3618</td>\n",
       "      <td>3824</td>\n",
       "      <td>3862</td>\n",
       "      <td>4126</td>\n",
       "      <td>4316</td>\n",
       "      <td>4612</td>\n",
       "      <td>4758</td>\n",
       "      <td>Persons with foreign background</td>\n",
       "      <td>MK21 Åland</td>\n",
       "    </tr>\n",
       "  </tbody>\n",
       "</table>\n",
       "<p>88 rows × 12 columns</p>\n",
       "</div>"
      ],
      "text/plain": [
       "0     2010    2011    2012    2013    2014    2015    2016    2017    2018  \\\n",
       "1   167954  183133  195511  207511  219675  229765  243639  249452  257572   \n",
       "2   248135  266148  285471  304279  321977  337162  357541  372802  387215   \n",
       "3   224388  244827  266949  289068  310306  329562  353993  373325  391746   \n",
       "4   237066  257494  279616  301524  322711  339925  364787  384123  402619   \n",
       "5        0       0       0       0       0       0       0       0       0   \n",
       "..     ...     ...     ...     ...     ...     ...     ...     ...     ...   \n",
       "84       0       0       0       0       0       0       0       0       0   \n",
       "85    2415    2560    2610    2721    2837    2927    3092    3182    3396   \n",
       "86    3785    4018    4171    4316    4502    4642    4905    5082    5377   \n",
       "87    1462    1623    1733    1850    1986    2093    2255    2388    2538   \n",
       "88    3054    3293    3454    3618    3824    3862    4126    4316    4612   \n",
       "\n",
       "0     2019                        Attribute                Region  \n",
       "1   267629    Citizens of foreign countries         WHOLE COUNTRY  \n",
       "2   404179              Persons born abroad         WHOLE COUNTRY  \n",
       "3   412644        Foreign-language speakers         WHOLE COUNTRY  \n",
       "4   423494  Persons with foreign background         WHOLE COUNTRY  \n",
       "5        0    Citizens of foreign countries  MA1 MAINLAND FINLAND  \n",
       "..     ...                              ...                   ...  \n",
       "84       0  Persons with foreign background             MA2 ÅLAND  \n",
       "85    3421    Citizens of foreign countries            MK21 Åland  \n",
       "86    5497              Persons born abroad            MK21 Åland  \n",
       "87    2621        Foreign-language speakers            MK21 Åland  \n",
       "88    4758  Persons with foreign background            MK21 Åland  \n",
       "\n",
       "[88 rows x 12 columns]"
      ]
     },
     "execution_count": 815,
     "metadata": {},
     "output_type": "execute_result"
    }
   ],
   "source": [
    "data"
   ]
  },
  {
   "cell_type": "markdown",
   "metadata": {},
   "source": [
    "<b> Checking the nan values for the whole dataset"
   ]
  },
  {
   "cell_type": "code",
   "execution_count": 816,
   "metadata": {
    "ExecuteTime": {
     "end_time": "2020-12-15T08:05:57.511185Z",
     "start_time": "2020-12-15T08:05:57.503276Z"
    }
   },
   "outputs": [
    {
     "data": {
      "text/plain": [
       "0"
      ]
     },
     "execution_count": 816,
     "metadata": {},
     "output_type": "execute_result"
    }
   ],
   "source": [
    "data.isna().sum().sum()"
   ]
  },
  {
   "cell_type": "code",
   "execution_count": 817,
   "metadata": {
    "ExecuteTime": {
     "end_time": "2020-12-15T08:05:58.238632Z",
     "start_time": "2020-12-15T08:05:58.216317Z"
    },
    "scrolled": true
   },
   "outputs": [
    {
     "data": {
      "text/html": [
       "<div>\n",
       "<style scoped>\n",
       "    .dataframe tbody tr th:only-of-type {\n",
       "        vertical-align: middle;\n",
       "    }\n",
       "\n",
       "    .dataframe tbody tr th {\n",
       "        vertical-align: top;\n",
       "    }\n",
       "\n",
       "    .dataframe thead th {\n",
       "        text-align: right;\n",
       "    }\n",
       "</style>\n",
       "<table border=\"1\" class=\"dataframe\">\n",
       "  <thead>\n",
       "    <tr style=\"text-align: right;\">\n",
       "      <th></th>\n",
       "      <th>2010</th>\n",
       "      <th>2011</th>\n",
       "      <th>2012</th>\n",
       "      <th>2013</th>\n",
       "      <th>2014</th>\n",
       "      <th>2015</th>\n",
       "      <th>2016</th>\n",
       "      <th>2017</th>\n",
       "      <th>2018</th>\n",
       "      <th>2019</th>\n",
       "      <th>Attribute</th>\n",
       "      <th>Region</th>\n",
       "    </tr>\n",
       "  </thead>\n",
       "  <tbody>\n",
       "    <tr>\n",
       "      <th>1</th>\n",
       "      <td>167954</td>\n",
       "      <td>183133</td>\n",
       "      <td>195511</td>\n",
       "      <td>207511</td>\n",
       "      <td>219675</td>\n",
       "      <td>229765</td>\n",
       "      <td>243639</td>\n",
       "      <td>249452</td>\n",
       "      <td>257572</td>\n",
       "      <td>267629</td>\n",
       "      <td>Citizens of foreign countries</td>\n",
       "      <td>WHOLE COUNTRY</td>\n",
       "    </tr>\n",
       "    <tr>\n",
       "      <th>2</th>\n",
       "      <td>248135</td>\n",
       "      <td>266148</td>\n",
       "      <td>285471</td>\n",
       "      <td>304279</td>\n",
       "      <td>321977</td>\n",
       "      <td>337162</td>\n",
       "      <td>357541</td>\n",
       "      <td>372802</td>\n",
       "      <td>387215</td>\n",
       "      <td>404179</td>\n",
       "      <td>Persons born abroad</td>\n",
       "      <td>WHOLE COUNTRY</td>\n",
       "    </tr>\n",
       "    <tr>\n",
       "      <th>3</th>\n",
       "      <td>224388</td>\n",
       "      <td>244827</td>\n",
       "      <td>266949</td>\n",
       "      <td>289068</td>\n",
       "      <td>310306</td>\n",
       "      <td>329562</td>\n",
       "      <td>353993</td>\n",
       "      <td>373325</td>\n",
       "      <td>391746</td>\n",
       "      <td>412644</td>\n",
       "      <td>Foreign-language speakers</td>\n",
       "      <td>WHOLE COUNTRY</td>\n",
       "    </tr>\n",
       "    <tr>\n",
       "      <th>4</th>\n",
       "      <td>237066</td>\n",
       "      <td>257494</td>\n",
       "      <td>279616</td>\n",
       "      <td>301524</td>\n",
       "      <td>322711</td>\n",
       "      <td>339925</td>\n",
       "      <td>364787</td>\n",
       "      <td>384123</td>\n",
       "      <td>402619</td>\n",
       "      <td>423494</td>\n",
       "      <td>Persons with foreign background</td>\n",
       "      <td>WHOLE COUNTRY</td>\n",
       "    </tr>\n",
       "    <tr>\n",
       "      <th>5</th>\n",
       "      <td>0</td>\n",
       "      <td>0</td>\n",
       "      <td>0</td>\n",
       "      <td>0</td>\n",
       "      <td>0</td>\n",
       "      <td>0</td>\n",
       "      <td>0</td>\n",
       "      <td>0</td>\n",
       "      <td>0</td>\n",
       "      <td>0</td>\n",
       "      <td>Citizens of foreign countries</td>\n",
       "      <td>MA1 MAINLAND FINLAND</td>\n",
       "    </tr>\n",
       "    <tr>\n",
       "      <th>...</th>\n",
       "      <td>...</td>\n",
       "      <td>...</td>\n",
       "      <td>...</td>\n",
       "      <td>...</td>\n",
       "      <td>...</td>\n",
       "      <td>...</td>\n",
       "      <td>...</td>\n",
       "      <td>...</td>\n",
       "      <td>...</td>\n",
       "      <td>...</td>\n",
       "      <td>...</td>\n",
       "      <td>...</td>\n",
       "    </tr>\n",
       "    <tr>\n",
       "      <th>84</th>\n",
       "      <td>0</td>\n",
       "      <td>0</td>\n",
       "      <td>0</td>\n",
       "      <td>0</td>\n",
       "      <td>0</td>\n",
       "      <td>0</td>\n",
       "      <td>0</td>\n",
       "      <td>0</td>\n",
       "      <td>0</td>\n",
       "      <td>0</td>\n",
       "      <td>Persons with foreign background</td>\n",
       "      <td>MA2 ÅLAND</td>\n",
       "    </tr>\n",
       "    <tr>\n",
       "      <th>85</th>\n",
       "      <td>2415</td>\n",
       "      <td>2560</td>\n",
       "      <td>2610</td>\n",
       "      <td>2721</td>\n",
       "      <td>2837</td>\n",
       "      <td>2927</td>\n",
       "      <td>3092</td>\n",
       "      <td>3182</td>\n",
       "      <td>3396</td>\n",
       "      <td>3421</td>\n",
       "      <td>Citizens of foreign countries</td>\n",
       "      <td>MK21 Åland</td>\n",
       "    </tr>\n",
       "    <tr>\n",
       "      <th>86</th>\n",
       "      <td>3785</td>\n",
       "      <td>4018</td>\n",
       "      <td>4171</td>\n",
       "      <td>4316</td>\n",
       "      <td>4502</td>\n",
       "      <td>4642</td>\n",
       "      <td>4905</td>\n",
       "      <td>5082</td>\n",
       "      <td>5377</td>\n",
       "      <td>5497</td>\n",
       "      <td>Persons born abroad</td>\n",
       "      <td>MK21 Åland</td>\n",
       "    </tr>\n",
       "    <tr>\n",
       "      <th>87</th>\n",
       "      <td>1462</td>\n",
       "      <td>1623</td>\n",
       "      <td>1733</td>\n",
       "      <td>1850</td>\n",
       "      <td>1986</td>\n",
       "      <td>2093</td>\n",
       "      <td>2255</td>\n",
       "      <td>2388</td>\n",
       "      <td>2538</td>\n",
       "      <td>2621</td>\n",
       "      <td>Foreign-language speakers</td>\n",
       "      <td>MK21 Åland</td>\n",
       "    </tr>\n",
       "    <tr>\n",
       "      <th>88</th>\n",
       "      <td>3054</td>\n",
       "      <td>3293</td>\n",
       "      <td>3454</td>\n",
       "      <td>3618</td>\n",
       "      <td>3824</td>\n",
       "      <td>3862</td>\n",
       "      <td>4126</td>\n",
       "      <td>4316</td>\n",
       "      <td>4612</td>\n",
       "      <td>4758</td>\n",
       "      <td>Persons with foreign background</td>\n",
       "      <td>MK21 Åland</td>\n",
       "    </tr>\n",
       "  </tbody>\n",
       "</table>\n",
       "<p>88 rows × 12 columns</p>\n",
       "</div>"
      ],
      "text/plain": [
       "0     2010    2011    2012    2013    2014    2015    2016    2017    2018  \\\n",
       "1   167954  183133  195511  207511  219675  229765  243639  249452  257572   \n",
       "2   248135  266148  285471  304279  321977  337162  357541  372802  387215   \n",
       "3   224388  244827  266949  289068  310306  329562  353993  373325  391746   \n",
       "4   237066  257494  279616  301524  322711  339925  364787  384123  402619   \n",
       "5        0       0       0       0       0       0       0       0       0   \n",
       "..     ...     ...     ...     ...     ...     ...     ...     ...     ...   \n",
       "84       0       0       0       0       0       0       0       0       0   \n",
       "85    2415    2560    2610    2721    2837    2927    3092    3182    3396   \n",
       "86    3785    4018    4171    4316    4502    4642    4905    5082    5377   \n",
       "87    1462    1623    1733    1850    1986    2093    2255    2388    2538   \n",
       "88    3054    3293    3454    3618    3824    3862    4126    4316    4612   \n",
       "\n",
       "0     2019                        Attribute                Region  \n",
       "1   267629    Citizens of foreign countries         WHOLE COUNTRY  \n",
       "2   404179              Persons born abroad         WHOLE COUNTRY  \n",
       "3   412644        Foreign-language speakers         WHOLE COUNTRY  \n",
       "4   423494  Persons with foreign background         WHOLE COUNTRY  \n",
       "5        0    Citizens of foreign countries  MA1 MAINLAND FINLAND  \n",
       "..     ...                              ...                   ...  \n",
       "84       0  Persons with foreign background             MA2 ÅLAND  \n",
       "85    3421    Citizens of foreign countries            MK21 Åland  \n",
       "86    5497              Persons born abroad            MK21 Åland  \n",
       "87    2621        Foreign-language speakers            MK21 Åland  \n",
       "88    4758  Persons with foreign background            MK21 Åland  \n",
       "\n",
       "[88 rows x 12 columns]"
      ]
     },
     "execution_count": 817,
     "metadata": {},
     "output_type": "execute_result"
    }
   ],
   "source": [
    "data2=data\n",
    "data2"
   ]
  },
  {
   "cell_type": "code",
   "execution_count": null,
   "metadata": {},
   "outputs": [],
   "source": []
  },
  {
   "cell_type": "code",
   "execution_count": 690,
   "metadata": {
    "ExecuteTime": {
     "end_time": "2020-12-14T21:50:11.155718Z",
     "start_time": "2020-12-14T21:50:11.123848Z"
    },
    "scrolled": true
   },
   "outputs": [
    {
     "data": {
      "text/html": [
       "<div>\n",
       "<style scoped>\n",
       "    .dataframe tbody tr th:only-of-type {\n",
       "        vertical-align: middle;\n",
       "    }\n",
       "\n",
       "    .dataframe tbody tr th {\n",
       "        vertical-align: top;\n",
       "    }\n",
       "\n",
       "    .dataframe thead th {\n",
       "        text-align: right;\n",
       "    }\n",
       "</style>\n",
       "<table border=\"1\" class=\"dataframe\">\n",
       "  <thead>\n",
       "    <tr style=\"text-align: right;\">\n",
       "      <th></th>\n",
       "      <th>2010</th>\n",
       "      <th>2011</th>\n",
       "      <th>2012</th>\n",
       "      <th>2013</th>\n",
       "      <th>2014</th>\n",
       "      <th>2015</th>\n",
       "      <th>2016</th>\n",
       "      <th>2017</th>\n",
       "      <th>2018</th>\n",
       "      <th>2019</th>\n",
       "    </tr>\n",
       "    <tr>\n",
       "      <th>Region</th>\n",
       "      <th></th>\n",
       "      <th></th>\n",
       "      <th></th>\n",
       "      <th></th>\n",
       "      <th></th>\n",
       "      <th></th>\n",
       "      <th></th>\n",
       "      <th></th>\n",
       "      <th></th>\n",
       "      <th></th>\n",
       "    </tr>\n",
       "  </thead>\n",
       "  <tbody>\n",
       "    <tr>\n",
       "      <th>MA1 MAINLAND FINLAND</th>\n",
       "      <td>0</td>\n",
       "      <td>0</td>\n",
       "      <td>0</td>\n",
       "      <td>0</td>\n",
       "      <td>0</td>\n",
       "      <td>0</td>\n",
       "      <td>0</td>\n",
       "      <td>0</td>\n",
       "      <td>0</td>\n",
       "      <td>0</td>\n",
       "    </tr>\n",
       "    <tr>\n",
       "      <th>MA2 ÅLAND</th>\n",
       "      <td>0</td>\n",
       "      <td>0</td>\n",
       "      <td>0</td>\n",
       "      <td>0</td>\n",
       "      <td>0</td>\n",
       "      <td>0</td>\n",
       "      <td>0</td>\n",
       "      <td>0</td>\n",
       "      <td>0</td>\n",
       "      <td>0</td>\n",
       "    </tr>\n",
       "    <tr>\n",
       "      <th>MK01 Uusimaa</th>\n",
       "      <td>126450</td>\n",
       "      <td>137712</td>\n",
       "      <td>150218</td>\n",
       "      <td>162693</td>\n",
       "      <td>175336</td>\n",
       "      <td>186621</td>\n",
       "      <td>200767</td>\n",
       "      <td>213290</td>\n",
       "      <td>225859</td>\n",
       "      <td>240435</td>\n",
       "    </tr>\n",
       "    <tr>\n",
       "      <th>MK02 Southwest</th>\n",
       "      <td>21799</td>\n",
       "      <td>23239</td>\n",
       "      <td>25062</td>\n",
       "      <td>26658</td>\n",
       "      <td>28515</td>\n",
       "      <td>29883</td>\n",
       "      <td>31666</td>\n",
       "      <td>33506</td>\n",
       "      <td>35255</td>\n",
       "      <td>36828</td>\n",
       "    </tr>\n",
       "    <tr>\n",
       "      <th>MK04 Satakunta</th>\n",
       "      <td>3964</td>\n",
       "      <td>4323</td>\n",
       "      <td>4873</td>\n",
       "      <td>5412</td>\n",
       "      <td>5853</td>\n",
       "      <td>6220</td>\n",
       "      <td>6904</td>\n",
       "      <td>7451</td>\n",
       "      <td>7803</td>\n",
       "      <td>8117</td>\n",
       "    </tr>\n",
       "    <tr>\n",
       "      <th>MK05 Kanta-Häme</th>\n",
       "      <td>4050</td>\n",
       "      <td>4448</td>\n",
       "      <td>5042</td>\n",
       "      <td>5578</td>\n",
       "      <td>6019</td>\n",
       "      <td>6326</td>\n",
       "      <td>6758</td>\n",
       "      <td>7058</td>\n",
       "      <td>7115</td>\n",
       "      <td>7337</td>\n",
       "    </tr>\n",
       "    <tr>\n",
       "      <th>MK06</th>\n",
       "      <td>16114</td>\n",
       "      <td>17357</td>\n",
       "      <td>18465</td>\n",
       "      <td>19881</td>\n",
       "      <td>20936</td>\n",
       "      <td>21749</td>\n",
       "      <td>23249</td>\n",
       "      <td>24259</td>\n",
       "      <td>25226</td>\n",
       "      <td>26384</td>\n",
       "    </tr>\n",
       "    <tr>\n",
       "      <th>MK07 Päijät-Häme</th>\n",
       "      <td>6933</td>\n",
       "      <td>7406</td>\n",
       "      <td>7964</td>\n",
       "      <td>8360</td>\n",
       "      <td>8741</td>\n",
       "      <td>9079</td>\n",
       "      <td>9863</td>\n",
       "      <td>10446</td>\n",
       "      <td>10931</td>\n",
       "      <td>11285</td>\n",
       "    </tr>\n",
       "    <tr>\n",
       "      <th>MK08 Kymenlaakso</th>\n",
       "      <td>7368</td>\n",
       "      <td>8012</td>\n",
       "      <td>8766</td>\n",
       "      <td>9371</td>\n",
       "      <td>9855</td>\n",
       "      <td>10127</td>\n",
       "      <td>10770</td>\n",
       "      <td>10588</td>\n",
       "      <td>10532</td>\n",
       "      <td>10463</td>\n",
       "    </tr>\n",
       "    <tr>\n",
       "      <th>MK09 South Karelia</th>\n",
       "      <td>5166</td>\n",
       "      <td>5618</td>\n",
       "      <td>6123</td>\n",
       "      <td>6567</td>\n",
       "      <td>6969</td>\n",
       "      <td>7320</td>\n",
       "      <td>7739</td>\n",
       "      <td>7977</td>\n",
       "      <td>8144</td>\n",
       "      <td>8351</td>\n",
       "    </tr>\n",
       "    <tr>\n",
       "      <th>MK10 South Savo</th>\n",
       "      <td>3216</td>\n",
       "      <td>3413</td>\n",
       "      <td>3693</td>\n",
       "      <td>3933</td>\n",
       "      <td>4123</td>\n",
       "      <td>4349</td>\n",
       "      <td>4712</td>\n",
       "      <td>4737</td>\n",
       "      <td>4813</td>\n",
       "      <td>4945</td>\n",
       "    </tr>\n",
       "    <tr>\n",
       "      <th>MK11 North Savo</th>\n",
       "      <td>4237</td>\n",
       "      <td>4711</td>\n",
       "      <td>5252</td>\n",
       "      <td>5672</td>\n",
       "      <td>6179</td>\n",
       "      <td>6479</td>\n",
       "      <td>6955</td>\n",
       "      <td>7234</td>\n",
       "      <td>7526</td>\n",
       "      <td>7664</td>\n",
       "    </tr>\n",
       "    <tr>\n",
       "      <th>MK12 North Karelia</th>\n",
       "      <td>4184</td>\n",
       "      <td>4546</td>\n",
       "      <td>4884</td>\n",
       "      <td>5310</td>\n",
       "      <td>5627</td>\n",
       "      <td>5666</td>\n",
       "      <td>6042</td>\n",
       "      <td>6156</td>\n",
       "      <td>6188</td>\n",
       "      <td>6389</td>\n",
       "    </tr>\n",
       "    <tr>\n",
       "      <th>MK13</th>\n",
       "      <td>6116</td>\n",
       "      <td>6540</td>\n",
       "      <td>6981</td>\n",
       "      <td>7379</td>\n",
       "      <td>7786</td>\n",
       "      <td>8092</td>\n",
       "      <td>8841</td>\n",
       "      <td>9221</td>\n",
       "      <td>9412</td>\n",
       "      <td>9807</td>\n",
       "    </tr>\n",
       "    <tr>\n",
       "      <th>MK14 South Ostrobothnia</th>\n",
       "      <td>2599</td>\n",
       "      <td>2962</td>\n",
       "      <td>3344</td>\n",
       "      <td>3724</td>\n",
       "      <td>3965</td>\n",
       "      <td>3995</td>\n",
       "      <td>4114</td>\n",
       "      <td>4193</td>\n",
       "      <td>4338</td>\n",
       "      <td>4591</td>\n",
       "    </tr>\n",
       "    <tr>\n",
       "      <th>MK15 Ostrobothnia</th>\n",
       "      <td>8050</td>\n",
       "      <td>9005</td>\n",
       "      <td>9653</td>\n",
       "      <td>10342</td>\n",
       "      <td>11012</td>\n",
       "      <td>11591</td>\n",
       "      <td>12058</td>\n",
       "      <td>12681</td>\n",
       "      <td>13171</td>\n",
       "      <td>13614</td>\n",
       "    </tr>\n",
       "    <tr>\n",
       "      <th>MK16</th>\n",
       "      <td>1255</td>\n",
       "      <td>1382</td>\n",
       "      <td>1495</td>\n",
       "      <td>1627</td>\n",
       "      <td>1714</td>\n",
       "      <td>1886</td>\n",
       "      <td>2050</td>\n",
       "      <td>2058</td>\n",
       "      <td>2058</td>\n",
       "      <td>2123</td>\n",
       "    </tr>\n",
       "    <tr>\n",
       "      <th>MK17 North Ostrobothnia</th>\n",
       "      <td>7016</td>\n",
       "      <td>7658</td>\n",
       "      <td>8191</td>\n",
       "      <td>8884</td>\n",
       "      <td>9440</td>\n",
       "      <td>9874</td>\n",
       "      <td>10943</td>\n",
       "      <td>11512</td>\n",
       "      <td>12054</td>\n",
       "      <td>12744</td>\n",
       "    </tr>\n",
       "    <tr>\n",
       "      <th>MK18 Kainuu</th>\n",
       "      <td>1701</td>\n",
       "      <td>1767</td>\n",
       "      <td>1840</td>\n",
       "      <td>1905</td>\n",
       "      <td>1957</td>\n",
       "      <td>1956</td>\n",
       "      <td>2066</td>\n",
       "      <td>2109</td>\n",
       "      <td>2063</td>\n",
       "      <td>2154</td>\n",
       "    </tr>\n",
       "    <tr>\n",
       "      <th>MK19 Lapland</th>\n",
       "      <td>3794</td>\n",
       "      <td>4102</td>\n",
       "      <td>4316</td>\n",
       "      <td>4610</td>\n",
       "      <td>4860</td>\n",
       "      <td>4850</td>\n",
       "      <td>5164</td>\n",
       "      <td>5331</td>\n",
       "      <td>5519</td>\n",
       "      <td>5505</td>\n",
       "    </tr>\n",
       "    <tr>\n",
       "      <th>MK21 Åland</th>\n",
       "      <td>3054</td>\n",
       "      <td>3293</td>\n",
       "      <td>3454</td>\n",
       "      <td>3618</td>\n",
       "      <td>3824</td>\n",
       "      <td>3862</td>\n",
       "      <td>4126</td>\n",
       "      <td>4316</td>\n",
       "      <td>4612</td>\n",
       "      <td>4758</td>\n",
       "    </tr>\n",
       "    <tr>\n",
       "      <th>WHOLE COUNTRY</th>\n",
       "      <td>237066</td>\n",
       "      <td>257494</td>\n",
       "      <td>279616</td>\n",
       "      <td>301524</td>\n",
       "      <td>322711</td>\n",
       "      <td>339925</td>\n",
       "      <td>364787</td>\n",
       "      <td>384123</td>\n",
       "      <td>402619</td>\n",
       "      <td>423494</td>\n",
       "    </tr>\n",
       "  </tbody>\n",
       "</table>\n",
       "</div>"
      ],
      "text/plain": [
       "0                          2010    2011    2012    2013    2014    2015  \\\n",
       "Region                                                                    \n",
       "MA1 MAINLAND FINLAND          0       0       0       0       0       0   \n",
       "MA2 ÅLAND                     0       0       0       0       0       0   \n",
       "MK01 Uusimaa             126450  137712  150218  162693  175336  186621   \n",
       "MK02 Southwest            21799   23239   25062   26658   28515   29883   \n",
       "MK04 Satakunta             3964    4323    4873    5412    5853    6220   \n",
       "MK05 Kanta-Häme            4050    4448    5042    5578    6019    6326   \n",
       "MK06                      16114   17357   18465   19881   20936   21749   \n",
       "MK07 Päijät-Häme           6933    7406    7964    8360    8741    9079   \n",
       "MK08 Kymenlaakso           7368    8012    8766    9371    9855   10127   \n",
       "MK09 South Karelia         5166    5618    6123    6567    6969    7320   \n",
       "MK10 South Savo            3216    3413    3693    3933    4123    4349   \n",
       "MK11 North Savo            4237    4711    5252    5672    6179    6479   \n",
       "MK12 North Karelia         4184    4546    4884    5310    5627    5666   \n",
       "MK13                       6116    6540    6981    7379    7786    8092   \n",
       "MK14 South Ostrobothnia    2599    2962    3344    3724    3965    3995   \n",
       "MK15 Ostrobothnia          8050    9005    9653   10342   11012   11591   \n",
       "MK16                       1255    1382    1495    1627    1714    1886   \n",
       "MK17 North Ostrobothnia    7016    7658    8191    8884    9440    9874   \n",
       "MK18 Kainuu                1701    1767    1840    1905    1957    1956   \n",
       "MK19 Lapland               3794    4102    4316    4610    4860    4850   \n",
       "MK21 Åland                 3054    3293    3454    3618    3824    3862   \n",
       "WHOLE COUNTRY            237066  257494  279616  301524  322711  339925   \n",
       "\n",
       "0                          2016    2017    2018    2019  \n",
       "Region                                                   \n",
       "MA1 MAINLAND FINLAND          0       0       0       0  \n",
       "MA2 ÅLAND                     0       0       0       0  \n",
       "MK01 Uusimaa             200767  213290  225859  240435  \n",
       "MK02 Southwest            31666   33506   35255   36828  \n",
       "MK04 Satakunta             6904    7451    7803    8117  \n",
       "MK05 Kanta-Häme            6758    7058    7115    7337  \n",
       "MK06                      23249   24259   25226   26384  \n",
       "MK07 Päijät-Häme           9863   10446   10931   11285  \n",
       "MK08 Kymenlaakso          10770   10588   10532   10463  \n",
       "MK09 South Karelia         7739    7977    8144    8351  \n",
       "MK10 South Savo            4712    4737    4813    4945  \n",
       "MK11 North Savo            6955    7234    7526    7664  \n",
       "MK12 North Karelia         6042    6156    6188    6389  \n",
       "MK13                       8841    9221    9412    9807  \n",
       "MK14 South Ostrobothnia    4114    4193    4338    4591  \n",
       "MK15 Ostrobothnia         12058   12681   13171   13614  \n",
       "MK16                       2050    2058    2058    2123  \n",
       "MK17 North Ostrobothnia   10943   11512   12054   12744  \n",
       "MK18 Kainuu                2066    2109    2063    2154  \n",
       "MK19 Lapland               5164    5331    5519    5505  \n",
       "MK21 Åland                 4126    4316    4612    4758  \n",
       "WHOLE COUNTRY            364787  384123  402619  423494  "
      ]
     },
     "execution_count": 690,
     "metadata": {},
     "output_type": "execute_result"
    }
   ],
   "source": [
    "#grouping the dataset by Persons with foreign background attribute. Here, we can see the number of foreigners coming to Finland's different regions in different years.\n",
    "a=data2[data2.Attribute==\"Persons with foreign background\"].groupby(\"Region\").sum()\n",
    "b=data2[data2.Attribute==\"Citizens of foreign countries\"].groupby(\"Region\").sum()\n",
    "a\n"
   ]
  },
  {
   "cell_type": "markdown",
   "metadata": {
    "ExecuteTime": {
     "end_time": "2020-12-08T21:47:13.643431Z",
     "start_time": "2020-12-08T21:47:13.637264Z"
    }
   },
   "source": [
    " <b> In above line of code, we are trying to find the Persons with foreign background  using groupby to group the data according to the regions. In the dataset, we can see that the number of Persons with foreign background moving to Finland has been increasing yearly.</b>\n",
    " \n",
    " <b> Same data is collected below using sort_values."
   ]
  },
  {
   "cell_type": "code",
   "execution_count": 608,
   "metadata": {
    "ExecuteTime": {
     "end_time": "2020-12-14T15:34:23.341153Z",
     "start_time": "2020-12-14T15:34:23.308999Z"
    }
   },
   "outputs": [
    {
     "data": {
      "text/html": [
       "<div>\n",
       "<style scoped>\n",
       "    .dataframe tbody tr th:only-of-type {\n",
       "        vertical-align: middle;\n",
       "    }\n",
       "\n",
       "    .dataframe tbody tr th {\n",
       "        vertical-align: top;\n",
       "    }\n",
       "\n",
       "    .dataframe thead th {\n",
       "        text-align: right;\n",
       "    }\n",
       "</style>\n",
       "<table border=\"1\" class=\"dataframe\">\n",
       "  <thead>\n",
       "    <tr style=\"text-align: right;\">\n",
       "      <th></th>\n",
       "      <th>2010</th>\n",
       "      <th>2011</th>\n",
       "      <th>2012</th>\n",
       "      <th>2013</th>\n",
       "      <th>2014</th>\n",
       "      <th>2015</th>\n",
       "      <th>2016</th>\n",
       "      <th>2017</th>\n",
       "      <th>2018</th>\n",
       "      <th>2019</th>\n",
       "      <th>Attribute</th>\n",
       "    </tr>\n",
       "    <tr>\n",
       "      <th>Region</th>\n",
       "      <th></th>\n",
       "      <th></th>\n",
       "      <th></th>\n",
       "      <th></th>\n",
       "      <th></th>\n",
       "      <th></th>\n",
       "      <th></th>\n",
       "      <th></th>\n",
       "      <th></th>\n",
       "      <th></th>\n",
       "      <th></th>\n",
       "    </tr>\n",
       "  </thead>\n",
       "  <tbody>\n",
       "    <tr>\n",
       "      <th>MA1 MAINLAND FINLAND</th>\n",
       "      <td>0</td>\n",
       "      <td>0</td>\n",
       "      <td>0</td>\n",
       "      <td>0</td>\n",
       "      <td>0</td>\n",
       "      <td>0</td>\n",
       "      <td>0</td>\n",
       "      <td>0</td>\n",
       "      <td>0</td>\n",
       "      <td>0</td>\n",
       "      <td>Citizens of foreign countries</td>\n",
       "    </tr>\n",
       "    <tr>\n",
       "      <th>MA2 ÅLAND</th>\n",
       "      <td>0</td>\n",
       "      <td>0</td>\n",
       "      <td>0</td>\n",
       "      <td>0</td>\n",
       "      <td>0</td>\n",
       "      <td>0</td>\n",
       "      <td>0</td>\n",
       "      <td>0</td>\n",
       "      <td>0</td>\n",
       "      <td>0</td>\n",
       "      <td>Citizens of foreign countries</td>\n",
       "    </tr>\n",
       "    <tr>\n",
       "      <th>MK01 Uusimaa</th>\n",
       "      <td>86685</td>\n",
       "      <td>94966</td>\n",
       "      <td>102118</td>\n",
       "      <td>109213</td>\n",
       "      <td>116791</td>\n",
       "      <td>123300</td>\n",
       "      <td>130963</td>\n",
       "      <td>135412</td>\n",
       "      <td>141597</td>\n",
       "      <td>149253</td>\n",
       "      <td>Citizens of foreign countries</td>\n",
       "    </tr>\n",
       "    <tr>\n",
       "      <th>MK02 Southwest</th>\n",
       "      <td>14570</td>\n",
       "      <td>15553</td>\n",
       "      <td>16443</td>\n",
       "      <td>17084</td>\n",
       "      <td>18161</td>\n",
       "      <td>18834</td>\n",
       "      <td>19814</td>\n",
       "      <td>20408</td>\n",
       "      <td>21185</td>\n",
       "      <td>21913</td>\n",
       "      <td>Citizens of foreign countries</td>\n",
       "    </tr>\n",
       "    <tr>\n",
       "      <th>MK04 Satakunta</th>\n",
       "      <td>3016</td>\n",
       "      <td>3340</td>\n",
       "      <td>3805</td>\n",
       "      <td>4268</td>\n",
       "      <td>4631</td>\n",
       "      <td>4941</td>\n",
       "      <td>5479</td>\n",
       "      <td>5833</td>\n",
       "      <td>6095</td>\n",
       "      <td>6280</td>\n",
       "      <td>Citizens of foreign countries</td>\n",
       "    </tr>\n",
       "    <tr>\n",
       "      <th>MK05 Kanta-Häme</th>\n",
       "      <td>3045</td>\n",
       "      <td>3356</td>\n",
       "      <td>3836</td>\n",
       "      <td>4237</td>\n",
       "      <td>4566</td>\n",
       "      <td>4794</td>\n",
       "      <td>5079</td>\n",
       "      <td>5206</td>\n",
       "      <td>5059</td>\n",
       "      <td>5118</td>\n",
       "      <td>Citizens of foreign countries</td>\n",
       "    </tr>\n",
       "    <tr>\n",
       "      <th>MK06</th>\n",
       "      <td>11411</td>\n",
       "      <td>12351</td>\n",
       "      <td>12663</td>\n",
       "      <td>13305</td>\n",
       "      <td>13738</td>\n",
       "      <td>14208</td>\n",
       "      <td>15040</td>\n",
       "      <td>15308</td>\n",
       "      <td>15679</td>\n",
       "      <td>16329</td>\n",
       "      <td>Citizens of foreign countries</td>\n",
       "    </tr>\n",
       "    <tr>\n",
       "      <th>MK07 Päijät-Häme</th>\n",
       "      <td>4924</td>\n",
       "      <td>5263</td>\n",
       "      <td>5595</td>\n",
       "      <td>5789</td>\n",
       "      <td>5894</td>\n",
       "      <td>5993</td>\n",
       "      <td>6524</td>\n",
       "      <td>6730</td>\n",
       "      <td>7032</td>\n",
       "      <td>7134</td>\n",
       "      <td>Citizens of foreign countries</td>\n",
       "    </tr>\n",
       "    <tr>\n",
       "      <th>MK08 Kymenlaakso</th>\n",
       "      <td>5494</td>\n",
       "      <td>5978</td>\n",
       "      <td>6411</td>\n",
       "      <td>6685</td>\n",
       "      <td>6949</td>\n",
       "      <td>6986</td>\n",
       "      <td>7218</td>\n",
       "      <td>6706</td>\n",
       "      <td>6493</td>\n",
       "      <td>6270</td>\n",
       "      <td>Citizens of foreign countries</td>\n",
       "    </tr>\n",
       "    <tr>\n",
       "      <th>MK09 South Karelia</th>\n",
       "      <td>3597</td>\n",
       "      <td>3908</td>\n",
       "      <td>4179</td>\n",
       "      <td>4421</td>\n",
       "      <td>4588</td>\n",
       "      <td>4764</td>\n",
       "      <td>4974</td>\n",
       "      <td>4882</td>\n",
       "      <td>4776</td>\n",
       "      <td>4785</td>\n",
       "      <td>Citizens of foreign countries</td>\n",
       "    </tr>\n",
       "    <tr>\n",
       "      <th>MK10 South Savo</th>\n",
       "      <td>2368</td>\n",
       "      <td>2479</td>\n",
       "      <td>2635</td>\n",
       "      <td>2752</td>\n",
       "      <td>2830</td>\n",
       "      <td>2997</td>\n",
       "      <td>3241</td>\n",
       "      <td>3172</td>\n",
       "      <td>3191</td>\n",
       "      <td>3180</td>\n",
       "      <td>Citizens of foreign countries</td>\n",
       "    </tr>\n",
       "    <tr>\n",
       "      <th>MK11 North Savo</th>\n",
       "      <td>3099</td>\n",
       "      <td>3470</td>\n",
       "      <td>3854</td>\n",
       "      <td>4128</td>\n",
       "      <td>4472</td>\n",
       "      <td>4697</td>\n",
       "      <td>4974</td>\n",
       "      <td>5011</td>\n",
       "      <td>5091</td>\n",
       "      <td>5050</td>\n",
       "      <td>Citizens of foreign countries</td>\n",
       "    </tr>\n",
       "    <tr>\n",
       "      <th>MK12 North Karelia</th>\n",
       "      <td>2987</td>\n",
       "      <td>3235</td>\n",
       "      <td>3400</td>\n",
       "      <td>3654</td>\n",
       "      <td>3747</td>\n",
       "      <td>3697</td>\n",
       "      <td>3881</td>\n",
       "      <td>3819</td>\n",
       "      <td>3774</td>\n",
       "      <td>3909</td>\n",
       "      <td>Citizens of foreign countries</td>\n",
       "    </tr>\n",
       "    <tr>\n",
       "      <th>MK13</th>\n",
       "      <td>4349</td>\n",
       "      <td>4687</td>\n",
       "      <td>4902</td>\n",
       "      <td>5059</td>\n",
       "      <td>5303</td>\n",
       "      <td>5515</td>\n",
       "      <td>6026</td>\n",
       "      <td>6152</td>\n",
       "      <td>6121</td>\n",
       "      <td>6309</td>\n",
       "      <td>Citizens of foreign countries</td>\n",
       "    </tr>\n",
       "    <tr>\n",
       "      <th>MK14 South Ostrobothnia</th>\n",
       "      <td>2113</td>\n",
       "      <td>2434</td>\n",
       "      <td>2743</td>\n",
       "      <td>3004</td>\n",
       "      <td>3165</td>\n",
       "      <td>3147</td>\n",
       "      <td>3180</td>\n",
       "      <td>3150</td>\n",
       "      <td>3227</td>\n",
       "      <td>3344</td>\n",
       "      <td>Citizens of foreign countries</td>\n",
       "    </tr>\n",
       "    <tr>\n",
       "      <th>MK15 Ostrobothnia</th>\n",
       "      <td>6750</td>\n",
       "      <td>7608</td>\n",
       "      <td>7943</td>\n",
       "      <td>8252</td>\n",
       "      <td>8599</td>\n",
       "      <td>9002</td>\n",
       "      <td>9174</td>\n",
       "      <td>9400</td>\n",
       "      <td>9519</td>\n",
       "      <td>9634</td>\n",
       "      <td>Citizens of foreign countries</td>\n",
       "    </tr>\n",
       "    <tr>\n",
       "      <th>MK16</th>\n",
       "      <td>1066</td>\n",
       "      <td>1193</td>\n",
       "      <td>1255</td>\n",
       "      <td>1293</td>\n",
       "      <td>1292</td>\n",
       "      <td>1424</td>\n",
       "      <td>1537</td>\n",
       "      <td>1461</td>\n",
       "      <td>1425</td>\n",
       "      <td>1447</td>\n",
       "      <td>Citizens of foreign countries</td>\n",
       "    </tr>\n",
       "    <tr>\n",
       "      <th>MK17 North Ostrobothnia</th>\n",
       "      <td>5558</td>\n",
       "      <td>6033</td>\n",
       "      <td>6286</td>\n",
       "      <td>6676</td>\n",
       "      <td>6983</td>\n",
       "      <td>7355</td>\n",
       "      <td>8054</td>\n",
       "      <td>8231</td>\n",
       "      <td>8483</td>\n",
       "      <td>8908</td>\n",
       "      <td>Citizens of foreign countries</td>\n",
       "    </tr>\n",
       "    <tr>\n",
       "      <th>MK18 Kainuu</th>\n",
       "      <td>1354</td>\n",
       "      <td>1360</td>\n",
       "      <td>1360</td>\n",
       "      <td>1328</td>\n",
       "      <td>1335</td>\n",
       "      <td>1357</td>\n",
       "      <td>1395</td>\n",
       "      <td>1376</td>\n",
       "      <td>1327</td>\n",
       "      <td>1357</td>\n",
       "      <td>Citizens of foreign countries</td>\n",
       "    </tr>\n",
       "    <tr>\n",
       "      <th>MK19 Lapland</th>\n",
       "      <td>3153</td>\n",
       "      <td>3359</td>\n",
       "      <td>3473</td>\n",
       "      <td>3642</td>\n",
       "      <td>3794</td>\n",
       "      <td>3827</td>\n",
       "      <td>3994</td>\n",
       "      <td>4013</td>\n",
       "      <td>4102</td>\n",
       "      <td>3988</td>\n",
       "      <td>Citizens of foreign countries</td>\n",
       "    </tr>\n",
       "    <tr>\n",
       "      <th>MK21 Åland</th>\n",
       "      <td>2415</td>\n",
       "      <td>2560</td>\n",
       "      <td>2610</td>\n",
       "      <td>2721</td>\n",
       "      <td>2837</td>\n",
       "      <td>2927</td>\n",
       "      <td>3092</td>\n",
       "      <td>3182</td>\n",
       "      <td>3396</td>\n",
       "      <td>3421</td>\n",
       "      <td>Citizens of foreign countries</td>\n",
       "    </tr>\n",
       "    <tr>\n",
       "      <th>WHOLE COUNTRY</th>\n",
       "      <td>167954</td>\n",
       "      <td>183133</td>\n",
       "      <td>195511</td>\n",
       "      <td>207511</td>\n",
       "      <td>219675</td>\n",
       "      <td>229765</td>\n",
       "      <td>243639</td>\n",
       "      <td>249452</td>\n",
       "      <td>257572</td>\n",
       "      <td>267629</td>\n",
       "      <td>Citizens of foreign countries</td>\n",
       "    </tr>\n",
       "  </tbody>\n",
       "</table>\n",
       "</div>"
      ],
      "text/plain": [
       "0                          2010    2011    2012    2013    2014    2015  \\\n",
       "Region                                                                    \n",
       "MA1 MAINLAND FINLAND          0       0       0       0       0       0   \n",
       "MA2 ÅLAND                     0       0       0       0       0       0   \n",
       "MK01 Uusimaa              86685   94966  102118  109213  116791  123300   \n",
       "MK02 Southwest            14570   15553   16443   17084   18161   18834   \n",
       "MK04 Satakunta             3016    3340    3805    4268    4631    4941   \n",
       "MK05 Kanta-Häme            3045    3356    3836    4237    4566    4794   \n",
       "MK06                      11411   12351   12663   13305   13738   14208   \n",
       "MK07 Päijät-Häme           4924    5263    5595    5789    5894    5993   \n",
       "MK08 Kymenlaakso           5494    5978    6411    6685    6949    6986   \n",
       "MK09 South Karelia         3597    3908    4179    4421    4588    4764   \n",
       "MK10 South Savo            2368    2479    2635    2752    2830    2997   \n",
       "MK11 North Savo            3099    3470    3854    4128    4472    4697   \n",
       "MK12 North Karelia         2987    3235    3400    3654    3747    3697   \n",
       "MK13                       4349    4687    4902    5059    5303    5515   \n",
       "MK14 South Ostrobothnia    2113    2434    2743    3004    3165    3147   \n",
       "MK15 Ostrobothnia          6750    7608    7943    8252    8599    9002   \n",
       "MK16                       1066    1193    1255    1293    1292    1424   \n",
       "MK17 North Ostrobothnia    5558    6033    6286    6676    6983    7355   \n",
       "MK18 Kainuu                1354    1360    1360    1328    1335    1357   \n",
       "MK19 Lapland               3153    3359    3473    3642    3794    3827   \n",
       "MK21 Åland                 2415    2560    2610    2721    2837    2927   \n",
       "WHOLE COUNTRY            167954  183133  195511  207511  219675  229765   \n",
       "\n",
       "0                          2016    2017    2018    2019  \\\n",
       "Region                                                    \n",
       "MA1 MAINLAND FINLAND          0       0       0       0   \n",
       "MA2 ÅLAND                     0       0       0       0   \n",
       "MK01 Uusimaa             130963  135412  141597  149253   \n",
       "MK02 Southwest            19814   20408   21185   21913   \n",
       "MK04 Satakunta             5479    5833    6095    6280   \n",
       "MK05 Kanta-Häme            5079    5206    5059    5118   \n",
       "MK06                      15040   15308   15679   16329   \n",
       "MK07 Päijät-Häme           6524    6730    7032    7134   \n",
       "MK08 Kymenlaakso           7218    6706    6493    6270   \n",
       "MK09 South Karelia         4974    4882    4776    4785   \n",
       "MK10 South Savo            3241    3172    3191    3180   \n",
       "MK11 North Savo            4974    5011    5091    5050   \n",
       "MK12 North Karelia         3881    3819    3774    3909   \n",
       "MK13                       6026    6152    6121    6309   \n",
       "MK14 South Ostrobothnia    3180    3150    3227    3344   \n",
       "MK15 Ostrobothnia          9174    9400    9519    9634   \n",
       "MK16                       1537    1461    1425    1447   \n",
       "MK17 North Ostrobothnia    8054    8231    8483    8908   \n",
       "MK18 Kainuu                1395    1376    1327    1357   \n",
       "MK19 Lapland               3994    4013    4102    3988   \n",
       "MK21 Åland                 3092    3182    3396    3421   \n",
       "WHOLE COUNTRY            243639  249452  257572  267629   \n",
       "\n",
       "0                                            Attribute  \n",
       "Region                                                  \n",
       "MA1 MAINLAND FINLAND     Citizens of foreign countries  \n",
       "MA2 ÅLAND                Citizens of foreign countries  \n",
       "MK01 Uusimaa             Citizens of foreign countries  \n",
       "MK02 Southwest           Citizens of foreign countries  \n",
       "MK04 Satakunta           Citizens of foreign countries  \n",
       "MK05 Kanta-Häme          Citizens of foreign countries  \n",
       "MK06                     Citizens of foreign countries  \n",
       "MK07 Päijät-Häme         Citizens of foreign countries  \n",
       "MK08 Kymenlaakso         Citizens of foreign countries  \n",
       "MK09 South Karelia       Citizens of foreign countries  \n",
       "MK10 South Savo          Citizens of foreign countries  \n",
       "MK11 North Savo          Citizens of foreign countries  \n",
       "MK12 North Karelia       Citizens of foreign countries  \n",
       "MK13                     Citizens of foreign countries  \n",
       "MK14 South Ostrobothnia  Citizens of foreign countries  \n",
       "MK15 Ostrobothnia        Citizens of foreign countries  \n",
       "MK16                     Citizens of foreign countries  \n",
       "MK17 North Ostrobothnia  Citizens of foreign countries  \n",
       "MK18 Kainuu              Citizens of foreign countries  \n",
       "MK19 Lapland             Citizens of foreign countries  \n",
       "MK21 Åland               Citizens of foreign countries  \n",
       "WHOLE COUNTRY            Citizens of foreign countries  "
      ]
     },
     "execution_count": 608,
     "metadata": {},
     "output_type": "execute_result"
    }
   ],
   "source": [
    "\n",
    "data2.sort_values([\"Region\",\"Attribute\"]).groupby(\"Region\").first()"
   ]
  },
  {
   "cell_type": "code",
   "execution_count": 769,
   "metadata": {
    "ExecuteTime": {
     "end_time": "2020-12-14T23:04:49.957637Z",
     "start_time": "2020-12-14T23:04:49.777000Z"
    }
   },
   "outputs": [
    {
     "data": {
      "application/vnd.plotly.v1+json": {
       "config": {
        "linkText": "Export to plot.ly",
        "plotlyServerURL": "https://plot.ly",
        "showLink": true
       },
       "data": [
        {
         "marker": {
          "color": "rgba(255, 153, 51, 0.6)",
          "line": {
           "color": "rgba(255, 153, 51, 1.0)",
           "width": 1
          }
         },
         "name": "2010",
         "orientation": "v",
         "text": "",
         "type": "bar",
         "x": [
          "MA1 MAINLAND FINLAND",
          "MK01 Uusimaa",
          "MA2 ÅLAND"
         ],
         "y": [
          0,
          126450,
          0
         ]
        }
       ],
       "layout": {
        "legend": {
         "bgcolor": "#F5F6F9",
         "font": {
          "color": "#4D5663"
         }
        },
        "paper_bgcolor": "#F5F6F9",
        "plot_bgcolor": "#F5F6F9",
        "template": {
         "data": {
          "bar": [
           {
            "error_x": {
             "color": "#2a3f5f"
            },
            "error_y": {
             "color": "#2a3f5f"
            },
            "marker": {
             "line": {
              "color": "#E5ECF6",
              "width": 0.5
             }
            },
            "type": "bar"
           }
          ],
          "barpolar": [
           {
            "marker": {
             "line": {
              "color": "#E5ECF6",
              "width": 0.5
             }
            },
            "type": "barpolar"
           }
          ],
          "carpet": [
           {
            "aaxis": {
             "endlinecolor": "#2a3f5f",
             "gridcolor": "white",
             "linecolor": "white",
             "minorgridcolor": "white",
             "startlinecolor": "#2a3f5f"
            },
            "baxis": {
             "endlinecolor": "#2a3f5f",
             "gridcolor": "white",
             "linecolor": "white",
             "minorgridcolor": "white",
             "startlinecolor": "#2a3f5f"
            },
            "type": "carpet"
           }
          ],
          "choropleth": [
           {
            "colorbar": {
             "outlinewidth": 0,
             "ticks": ""
            },
            "type": "choropleth"
           }
          ],
          "contour": [
           {
            "colorbar": {
             "outlinewidth": 0,
             "ticks": ""
            },
            "colorscale": [
             [
              0,
              "#0d0887"
             ],
             [
              0.1111111111111111,
              "#46039f"
             ],
             [
              0.2222222222222222,
              "#7201a8"
             ],
             [
              0.3333333333333333,
              "#9c179e"
             ],
             [
              0.4444444444444444,
              "#bd3786"
             ],
             [
              0.5555555555555556,
              "#d8576b"
             ],
             [
              0.6666666666666666,
              "#ed7953"
             ],
             [
              0.7777777777777778,
              "#fb9f3a"
             ],
             [
              0.8888888888888888,
              "#fdca26"
             ],
             [
              1,
              "#f0f921"
             ]
            ],
            "type": "contour"
           }
          ],
          "contourcarpet": [
           {
            "colorbar": {
             "outlinewidth": 0,
             "ticks": ""
            },
            "type": "contourcarpet"
           }
          ],
          "heatmap": [
           {
            "colorbar": {
             "outlinewidth": 0,
             "ticks": ""
            },
            "colorscale": [
             [
              0,
              "#0d0887"
             ],
             [
              0.1111111111111111,
              "#46039f"
             ],
             [
              0.2222222222222222,
              "#7201a8"
             ],
             [
              0.3333333333333333,
              "#9c179e"
             ],
             [
              0.4444444444444444,
              "#bd3786"
             ],
             [
              0.5555555555555556,
              "#d8576b"
             ],
             [
              0.6666666666666666,
              "#ed7953"
             ],
             [
              0.7777777777777778,
              "#fb9f3a"
             ],
             [
              0.8888888888888888,
              "#fdca26"
             ],
             [
              1,
              "#f0f921"
             ]
            ],
            "type": "heatmap"
           }
          ],
          "heatmapgl": [
           {
            "colorbar": {
             "outlinewidth": 0,
             "ticks": ""
            },
            "colorscale": [
             [
              0,
              "#0d0887"
             ],
             [
              0.1111111111111111,
              "#46039f"
             ],
             [
              0.2222222222222222,
              "#7201a8"
             ],
             [
              0.3333333333333333,
              "#9c179e"
             ],
             [
              0.4444444444444444,
              "#bd3786"
             ],
             [
              0.5555555555555556,
              "#d8576b"
             ],
             [
              0.6666666666666666,
              "#ed7953"
             ],
             [
              0.7777777777777778,
              "#fb9f3a"
             ],
             [
              0.8888888888888888,
              "#fdca26"
             ],
             [
              1,
              "#f0f921"
             ]
            ],
            "type": "heatmapgl"
           }
          ],
          "histogram": [
           {
            "marker": {
             "colorbar": {
              "outlinewidth": 0,
              "ticks": ""
             }
            },
            "type": "histogram"
           }
          ],
          "histogram2d": [
           {
            "colorbar": {
             "outlinewidth": 0,
             "ticks": ""
            },
            "colorscale": [
             [
              0,
              "#0d0887"
             ],
             [
              0.1111111111111111,
              "#46039f"
             ],
             [
              0.2222222222222222,
              "#7201a8"
             ],
             [
              0.3333333333333333,
              "#9c179e"
             ],
             [
              0.4444444444444444,
              "#bd3786"
             ],
             [
              0.5555555555555556,
              "#d8576b"
             ],
             [
              0.6666666666666666,
              "#ed7953"
             ],
             [
              0.7777777777777778,
              "#fb9f3a"
             ],
             [
              0.8888888888888888,
              "#fdca26"
             ],
             [
              1,
              "#f0f921"
             ]
            ],
            "type": "histogram2d"
           }
          ],
          "histogram2dcontour": [
           {
            "colorbar": {
             "outlinewidth": 0,
             "ticks": ""
            },
            "colorscale": [
             [
              0,
              "#0d0887"
             ],
             [
              0.1111111111111111,
              "#46039f"
             ],
             [
              0.2222222222222222,
              "#7201a8"
             ],
             [
              0.3333333333333333,
              "#9c179e"
             ],
             [
              0.4444444444444444,
              "#bd3786"
             ],
             [
              0.5555555555555556,
              "#d8576b"
             ],
             [
              0.6666666666666666,
              "#ed7953"
             ],
             [
              0.7777777777777778,
              "#fb9f3a"
             ],
             [
              0.8888888888888888,
              "#fdca26"
             ],
             [
              1,
              "#f0f921"
             ]
            ],
            "type": "histogram2dcontour"
           }
          ],
          "mesh3d": [
           {
            "colorbar": {
             "outlinewidth": 0,
             "ticks": ""
            },
            "type": "mesh3d"
           }
          ],
          "parcoords": [
           {
            "line": {
             "colorbar": {
              "outlinewidth": 0,
              "ticks": ""
             }
            },
            "type": "parcoords"
           }
          ],
          "pie": [
           {
            "automargin": true,
            "type": "pie"
           }
          ],
          "scatter": [
           {
            "marker": {
             "colorbar": {
              "outlinewidth": 0,
              "ticks": ""
             }
            },
            "type": "scatter"
           }
          ],
          "scatter3d": [
           {
            "line": {
             "colorbar": {
              "outlinewidth": 0,
              "ticks": ""
             }
            },
            "marker": {
             "colorbar": {
              "outlinewidth": 0,
              "ticks": ""
             }
            },
            "type": "scatter3d"
           }
          ],
          "scattercarpet": [
           {
            "marker": {
             "colorbar": {
              "outlinewidth": 0,
              "ticks": ""
             }
            },
            "type": "scattercarpet"
           }
          ],
          "scattergeo": [
           {
            "marker": {
             "colorbar": {
              "outlinewidth": 0,
              "ticks": ""
             }
            },
            "type": "scattergeo"
           }
          ],
          "scattergl": [
           {
            "marker": {
             "colorbar": {
              "outlinewidth": 0,
              "ticks": ""
             }
            },
            "type": "scattergl"
           }
          ],
          "scattermapbox": [
           {
            "marker": {
             "colorbar": {
              "outlinewidth": 0,
              "ticks": ""
             }
            },
            "type": "scattermapbox"
           }
          ],
          "scatterpolar": [
           {
            "marker": {
             "colorbar": {
              "outlinewidth": 0,
              "ticks": ""
             }
            },
            "type": "scatterpolar"
           }
          ],
          "scatterpolargl": [
           {
            "marker": {
             "colorbar": {
              "outlinewidth": 0,
              "ticks": ""
             }
            },
            "type": "scatterpolargl"
           }
          ],
          "scatterternary": [
           {
            "marker": {
             "colorbar": {
              "outlinewidth": 0,
              "ticks": ""
             }
            },
            "type": "scatterternary"
           }
          ],
          "surface": [
           {
            "colorbar": {
             "outlinewidth": 0,
             "ticks": ""
            },
            "colorscale": [
             [
              0,
              "#0d0887"
             ],
             [
              0.1111111111111111,
              "#46039f"
             ],
             [
              0.2222222222222222,
              "#7201a8"
             ],
             [
              0.3333333333333333,
              "#9c179e"
             ],
             [
              0.4444444444444444,
              "#bd3786"
             ],
             [
              0.5555555555555556,
              "#d8576b"
             ],
             [
              0.6666666666666666,
              "#ed7953"
             ],
             [
              0.7777777777777778,
              "#fb9f3a"
             ],
             [
              0.8888888888888888,
              "#fdca26"
             ],
             [
              1,
              "#f0f921"
             ]
            ],
            "type": "surface"
           }
          ],
          "table": [
           {
            "cells": {
             "fill": {
              "color": "#EBF0F8"
             },
             "line": {
              "color": "white"
             }
            },
            "header": {
             "fill": {
              "color": "#C8D4E3"
             },
             "line": {
              "color": "white"
             }
            },
            "type": "table"
           }
          ]
         },
         "layout": {
          "annotationdefaults": {
           "arrowcolor": "#2a3f5f",
           "arrowhead": 0,
           "arrowwidth": 1
          },
          "coloraxis": {
           "colorbar": {
            "outlinewidth": 0,
            "ticks": ""
           }
          },
          "colorscale": {
           "diverging": [
            [
             0,
             "#8e0152"
            ],
            [
             0.1,
             "#c51b7d"
            ],
            [
             0.2,
             "#de77ae"
            ],
            [
             0.3,
             "#f1b6da"
            ],
            [
             0.4,
             "#fde0ef"
            ],
            [
             0.5,
             "#f7f7f7"
            ],
            [
             0.6,
             "#e6f5d0"
            ],
            [
             0.7,
             "#b8e186"
            ],
            [
             0.8,
             "#7fbc41"
            ],
            [
             0.9,
             "#4d9221"
            ],
            [
             1,
             "#276419"
            ]
           ],
           "sequential": [
            [
             0,
             "#0d0887"
            ],
            [
             0.1111111111111111,
             "#46039f"
            ],
            [
             0.2222222222222222,
             "#7201a8"
            ],
            [
             0.3333333333333333,
             "#9c179e"
            ],
            [
             0.4444444444444444,
             "#bd3786"
            ],
            [
             0.5555555555555556,
             "#d8576b"
            ],
            [
             0.6666666666666666,
             "#ed7953"
            ],
            [
             0.7777777777777778,
             "#fb9f3a"
            ],
            [
             0.8888888888888888,
             "#fdca26"
            ],
            [
             1,
             "#f0f921"
            ]
           ],
           "sequentialminus": [
            [
             0,
             "#0d0887"
            ],
            [
             0.1111111111111111,
             "#46039f"
            ],
            [
             0.2222222222222222,
             "#7201a8"
            ],
            [
             0.3333333333333333,
             "#9c179e"
            ],
            [
             0.4444444444444444,
             "#bd3786"
            ],
            [
             0.5555555555555556,
             "#d8576b"
            ],
            [
             0.6666666666666666,
             "#ed7953"
            ],
            [
             0.7777777777777778,
             "#fb9f3a"
            ],
            [
             0.8888888888888888,
             "#fdca26"
            ],
            [
             1,
             "#f0f921"
            ]
           ]
          },
          "colorway": [
           "#636efa",
           "#EF553B",
           "#00cc96",
           "#ab63fa",
           "#FFA15A",
           "#19d3f3",
           "#FF6692",
           "#B6E880",
           "#FF97FF",
           "#FECB52"
          ],
          "font": {
           "color": "#2a3f5f"
          },
          "geo": {
           "bgcolor": "white",
           "lakecolor": "white",
           "landcolor": "#E5ECF6",
           "showlakes": true,
           "showland": true,
           "subunitcolor": "white"
          },
          "hoverlabel": {
           "align": "left"
          },
          "hovermode": "closest",
          "mapbox": {
           "style": "light"
          },
          "paper_bgcolor": "white",
          "plot_bgcolor": "#E5ECF6",
          "polar": {
           "angularaxis": {
            "gridcolor": "white",
            "linecolor": "white",
            "ticks": ""
           },
           "bgcolor": "#E5ECF6",
           "radialaxis": {
            "gridcolor": "white",
            "linecolor": "white",
            "ticks": ""
           }
          },
          "scene": {
           "xaxis": {
            "backgroundcolor": "#E5ECF6",
            "gridcolor": "white",
            "gridwidth": 2,
            "linecolor": "white",
            "showbackground": true,
            "ticks": "",
            "zerolinecolor": "white"
           },
           "yaxis": {
            "backgroundcolor": "#E5ECF6",
            "gridcolor": "white",
            "gridwidth": 2,
            "linecolor": "white",
            "showbackground": true,
            "ticks": "",
            "zerolinecolor": "white"
           },
           "zaxis": {
            "backgroundcolor": "#E5ECF6",
            "gridcolor": "white",
            "gridwidth": 2,
            "linecolor": "white",
            "showbackground": true,
            "ticks": "",
            "zerolinecolor": "white"
           }
          },
          "shapedefaults": {
           "line": {
            "color": "#2a3f5f"
           }
          },
          "ternary": {
           "aaxis": {
            "gridcolor": "white",
            "linecolor": "white",
            "ticks": ""
           },
           "baxis": {
            "gridcolor": "white",
            "linecolor": "white",
            "ticks": ""
           },
           "bgcolor": "#E5ECF6",
           "caxis": {
            "gridcolor": "white",
            "linecolor": "white",
            "ticks": ""
           }
          },
          "title": {
           "x": 0.05
          },
          "xaxis": {
           "automargin": true,
           "gridcolor": "white",
           "linecolor": "white",
           "ticks": "",
           "title": {
            "standoff": 15
           },
           "zerolinecolor": "white",
           "zerolinewidth": 2
          },
          "yaxis": {
           "automargin": true,
           "gridcolor": "white",
           "linecolor": "white",
           "ticks": "",
           "title": {
            "standoff": 15
           },
           "zerolinecolor": "white",
           "zerolinewidth": 2
          }
         }
        },
        "title": {
         "font": {
          "color": "#4D5663"
         },
         "text": "Persons with foreign background "
        },
        "xaxis": {
         "gridcolor": "#E1E5ED",
         "showgrid": true,
         "tickfont": {
          "color": "#4D5663"
         },
         "title": {
          "font": {
           "color": "#4D5663"
          },
          "text": ""
         },
         "zerolinecolor": "#E1E5ED"
        },
        "yaxis": {
         "gridcolor": "#E1E5ED",
         "showgrid": true,
         "tickfont": {
          "color": "#4D5663"
         },
         "title": {
          "font": {
           "color": "#4D5663"
          },
          "text": ""
         },
         "zerolinecolor": "#E1E5ED"
        }
       }
      },
      "text/html": [
       "<div>                            <div id=\"4d1c41ca-7760-4b2c-990e-e10716aed89f\" class=\"plotly-graph-div\" style=\"height:525px; width:100%;\"></div>            <script type=\"text/javascript\">                require([\"plotly\"], function(Plotly) {                    window.PLOTLYENV=window.PLOTLYENV || {};\n",
       "                    window.PLOTLYENV.BASE_URL='https://plot.ly';                                    if (document.getElementById(\"4d1c41ca-7760-4b2c-990e-e10716aed89f\")) {                    Plotly.newPlot(                        \"4d1c41ca-7760-4b2c-990e-e10716aed89f\",                        [{\"marker\": {\"color\": \"rgba(255, 153, 51, 0.6)\", \"line\": {\"color\": \"rgba(255, 153, 51, 1.0)\", \"width\": 1}}, \"name\": \"2010\", \"orientation\": \"v\", \"text\": \"\", \"type\": \"bar\", \"x\": [\"MA1 MAINLAND FINLAND\", \"MK01 Uusimaa\", \"MA2 \\u00c5LAND\"], \"y\": [0, 126450, 0]}],                        {\"legend\": {\"bgcolor\": \"#F5F6F9\", \"font\": {\"color\": \"#4D5663\"}}, \"paper_bgcolor\": \"#F5F6F9\", \"plot_bgcolor\": \"#F5F6F9\", \"template\": {\"data\": {\"bar\": [{\"error_x\": {\"color\": \"#2a3f5f\"}, \"error_y\": {\"color\": \"#2a3f5f\"}, \"marker\": {\"line\": {\"color\": \"#E5ECF6\", \"width\": 0.5}}, \"type\": \"bar\"}], \"barpolar\": [{\"marker\": {\"line\": {\"color\": \"#E5ECF6\", \"width\": 0.5}}, \"type\": \"barpolar\"}], \"carpet\": [{\"aaxis\": {\"endlinecolor\": \"#2a3f5f\", \"gridcolor\": \"white\", \"linecolor\": \"white\", \"minorgridcolor\": \"white\", \"startlinecolor\": \"#2a3f5f\"}, \"baxis\": {\"endlinecolor\": \"#2a3f5f\", \"gridcolor\": \"white\", \"linecolor\": \"white\", \"minorgridcolor\": \"white\", \"startlinecolor\": \"#2a3f5f\"}, \"type\": \"carpet\"}], \"choropleth\": [{\"colorbar\": {\"outlinewidth\": 0, \"ticks\": \"\"}, \"type\": \"choropleth\"}], \"contour\": [{\"colorbar\": {\"outlinewidth\": 0, \"ticks\": \"\"}, \"colorscale\": [[0.0, \"#0d0887\"], [0.1111111111111111, \"#46039f\"], [0.2222222222222222, \"#7201a8\"], [0.3333333333333333, \"#9c179e\"], [0.4444444444444444, \"#bd3786\"], [0.5555555555555556, \"#d8576b\"], [0.6666666666666666, \"#ed7953\"], [0.7777777777777778, \"#fb9f3a\"], [0.8888888888888888, \"#fdca26\"], [1.0, \"#f0f921\"]], \"type\": \"contour\"}], \"contourcarpet\": [{\"colorbar\": {\"outlinewidth\": 0, \"ticks\": \"\"}, \"type\": \"contourcarpet\"}], \"heatmap\": [{\"colorbar\": {\"outlinewidth\": 0, \"ticks\": \"\"}, \"colorscale\": [[0.0, \"#0d0887\"], [0.1111111111111111, \"#46039f\"], [0.2222222222222222, \"#7201a8\"], [0.3333333333333333, \"#9c179e\"], [0.4444444444444444, \"#bd3786\"], [0.5555555555555556, \"#d8576b\"], [0.6666666666666666, \"#ed7953\"], [0.7777777777777778, \"#fb9f3a\"], [0.8888888888888888, \"#fdca26\"], [1.0, \"#f0f921\"]], \"type\": \"heatmap\"}], \"heatmapgl\": [{\"colorbar\": {\"outlinewidth\": 0, \"ticks\": \"\"}, \"colorscale\": [[0.0, \"#0d0887\"], [0.1111111111111111, \"#46039f\"], [0.2222222222222222, \"#7201a8\"], [0.3333333333333333, \"#9c179e\"], [0.4444444444444444, \"#bd3786\"], [0.5555555555555556, \"#d8576b\"], [0.6666666666666666, \"#ed7953\"], [0.7777777777777778, \"#fb9f3a\"], [0.8888888888888888, \"#fdca26\"], [1.0, \"#f0f921\"]], \"type\": \"heatmapgl\"}], \"histogram\": [{\"marker\": {\"colorbar\": {\"outlinewidth\": 0, \"ticks\": \"\"}}, \"type\": \"histogram\"}], \"histogram2d\": [{\"colorbar\": {\"outlinewidth\": 0, \"ticks\": \"\"}, \"colorscale\": [[0.0, \"#0d0887\"], [0.1111111111111111, \"#46039f\"], [0.2222222222222222, \"#7201a8\"], [0.3333333333333333, \"#9c179e\"], [0.4444444444444444, \"#bd3786\"], [0.5555555555555556, \"#d8576b\"], [0.6666666666666666, \"#ed7953\"], [0.7777777777777778, \"#fb9f3a\"], [0.8888888888888888, \"#fdca26\"], [1.0, \"#f0f921\"]], \"type\": \"histogram2d\"}], \"histogram2dcontour\": [{\"colorbar\": {\"outlinewidth\": 0, \"ticks\": \"\"}, \"colorscale\": [[0.0, \"#0d0887\"], [0.1111111111111111, \"#46039f\"], [0.2222222222222222, \"#7201a8\"], [0.3333333333333333, \"#9c179e\"], [0.4444444444444444, \"#bd3786\"], [0.5555555555555556, \"#d8576b\"], [0.6666666666666666, \"#ed7953\"], [0.7777777777777778, \"#fb9f3a\"], [0.8888888888888888, \"#fdca26\"], [1.0, \"#f0f921\"]], \"type\": \"histogram2dcontour\"}], \"mesh3d\": [{\"colorbar\": {\"outlinewidth\": 0, \"ticks\": \"\"}, \"type\": \"mesh3d\"}], \"parcoords\": [{\"line\": {\"colorbar\": {\"outlinewidth\": 0, \"ticks\": \"\"}}, \"type\": \"parcoords\"}], \"pie\": [{\"automargin\": true, \"type\": \"pie\"}], \"scatter\": [{\"marker\": {\"colorbar\": {\"outlinewidth\": 0, \"ticks\": \"\"}}, \"type\": \"scatter\"}], \"scatter3d\": [{\"line\": {\"colorbar\": {\"outlinewidth\": 0, \"ticks\": \"\"}}, \"marker\": {\"colorbar\": {\"outlinewidth\": 0, \"ticks\": \"\"}}, \"type\": \"scatter3d\"}], \"scattercarpet\": [{\"marker\": {\"colorbar\": {\"outlinewidth\": 0, \"ticks\": \"\"}}, \"type\": \"scattercarpet\"}], \"scattergeo\": [{\"marker\": {\"colorbar\": {\"outlinewidth\": 0, \"ticks\": \"\"}}, \"type\": \"scattergeo\"}], \"scattergl\": [{\"marker\": {\"colorbar\": {\"outlinewidth\": 0, \"ticks\": \"\"}}, \"type\": \"scattergl\"}], \"scattermapbox\": [{\"marker\": {\"colorbar\": {\"outlinewidth\": 0, \"ticks\": \"\"}}, \"type\": \"scattermapbox\"}], \"scatterpolar\": [{\"marker\": {\"colorbar\": {\"outlinewidth\": 0, \"ticks\": \"\"}}, \"type\": \"scatterpolar\"}], \"scatterpolargl\": [{\"marker\": {\"colorbar\": {\"outlinewidth\": 0, \"ticks\": \"\"}}, \"type\": \"scatterpolargl\"}], \"scatterternary\": [{\"marker\": {\"colorbar\": {\"outlinewidth\": 0, \"ticks\": \"\"}}, \"type\": \"scatterternary\"}], \"surface\": [{\"colorbar\": {\"outlinewidth\": 0, \"ticks\": \"\"}, \"colorscale\": [[0.0, \"#0d0887\"], [0.1111111111111111, \"#46039f\"], [0.2222222222222222, \"#7201a8\"], [0.3333333333333333, \"#9c179e\"], [0.4444444444444444, \"#bd3786\"], [0.5555555555555556, \"#d8576b\"], [0.6666666666666666, \"#ed7953\"], [0.7777777777777778, \"#fb9f3a\"], [0.8888888888888888, \"#fdca26\"], [1.0, \"#f0f921\"]], \"type\": \"surface\"}], \"table\": [{\"cells\": {\"fill\": {\"color\": \"#EBF0F8\"}, \"line\": {\"color\": \"white\"}}, \"header\": {\"fill\": {\"color\": \"#C8D4E3\"}, \"line\": {\"color\": \"white\"}}, \"type\": \"table\"}]}, \"layout\": {\"annotationdefaults\": {\"arrowcolor\": \"#2a3f5f\", \"arrowhead\": 0, \"arrowwidth\": 1}, \"coloraxis\": {\"colorbar\": {\"outlinewidth\": 0, \"ticks\": \"\"}}, \"colorscale\": {\"diverging\": [[0, \"#8e0152\"], [0.1, \"#c51b7d\"], [0.2, \"#de77ae\"], [0.3, \"#f1b6da\"], [0.4, \"#fde0ef\"], [0.5, \"#f7f7f7\"], [0.6, \"#e6f5d0\"], [0.7, \"#b8e186\"], [0.8, \"#7fbc41\"], [0.9, \"#4d9221\"], [1, \"#276419\"]], \"sequential\": [[0.0, \"#0d0887\"], [0.1111111111111111, \"#46039f\"], [0.2222222222222222, \"#7201a8\"], [0.3333333333333333, \"#9c179e\"], [0.4444444444444444, \"#bd3786\"], [0.5555555555555556, \"#d8576b\"], [0.6666666666666666, \"#ed7953\"], [0.7777777777777778, \"#fb9f3a\"], [0.8888888888888888, \"#fdca26\"], [1.0, \"#f0f921\"]], \"sequentialminus\": [[0.0, \"#0d0887\"], [0.1111111111111111, \"#46039f\"], [0.2222222222222222, \"#7201a8\"], [0.3333333333333333, \"#9c179e\"], [0.4444444444444444, \"#bd3786\"], [0.5555555555555556, \"#d8576b\"], [0.6666666666666666, \"#ed7953\"], [0.7777777777777778, \"#fb9f3a\"], [0.8888888888888888, \"#fdca26\"], [1.0, \"#f0f921\"]]}, \"colorway\": [\"#636efa\", \"#EF553B\", \"#00cc96\", \"#ab63fa\", \"#FFA15A\", \"#19d3f3\", \"#FF6692\", \"#B6E880\", \"#FF97FF\", \"#FECB52\"], \"font\": {\"color\": \"#2a3f5f\"}, \"geo\": {\"bgcolor\": \"white\", \"lakecolor\": \"white\", \"landcolor\": \"#E5ECF6\", \"showlakes\": true, \"showland\": true, \"subunitcolor\": \"white\"}, \"hoverlabel\": {\"align\": \"left\"}, \"hovermode\": \"closest\", \"mapbox\": {\"style\": \"light\"}, \"paper_bgcolor\": \"white\", \"plot_bgcolor\": \"#E5ECF6\", \"polar\": {\"angularaxis\": {\"gridcolor\": \"white\", \"linecolor\": \"white\", \"ticks\": \"\"}, \"bgcolor\": \"#E5ECF6\", \"radialaxis\": {\"gridcolor\": \"white\", \"linecolor\": \"white\", \"ticks\": \"\"}}, \"scene\": {\"xaxis\": {\"backgroundcolor\": \"#E5ECF6\", \"gridcolor\": \"white\", \"gridwidth\": 2, \"linecolor\": \"white\", \"showbackground\": true, \"ticks\": \"\", \"zerolinecolor\": \"white\"}, \"yaxis\": {\"backgroundcolor\": \"#E5ECF6\", \"gridcolor\": \"white\", \"gridwidth\": 2, \"linecolor\": \"white\", \"showbackground\": true, \"ticks\": \"\", \"zerolinecolor\": \"white\"}, \"zaxis\": {\"backgroundcolor\": \"#E5ECF6\", \"gridcolor\": \"white\", \"gridwidth\": 2, \"linecolor\": \"white\", \"showbackground\": true, \"ticks\": \"\", \"zerolinecolor\": \"white\"}}, \"shapedefaults\": {\"line\": {\"color\": \"#2a3f5f\"}}, \"ternary\": {\"aaxis\": {\"gridcolor\": \"white\", \"linecolor\": \"white\", \"ticks\": \"\"}, \"baxis\": {\"gridcolor\": \"white\", \"linecolor\": \"white\", \"ticks\": \"\"}, \"bgcolor\": \"#E5ECF6\", \"caxis\": {\"gridcolor\": \"white\", \"linecolor\": \"white\", \"ticks\": \"\"}}, \"title\": {\"x\": 0.05}, \"xaxis\": {\"automargin\": true, \"gridcolor\": \"white\", \"linecolor\": \"white\", \"ticks\": \"\", \"title\": {\"standoff\": 15}, \"zerolinecolor\": \"white\", \"zerolinewidth\": 2}, \"yaxis\": {\"automargin\": true, \"gridcolor\": \"white\", \"linecolor\": \"white\", \"ticks\": \"\", \"title\": {\"standoff\": 15}, \"zerolinecolor\": \"white\", \"zerolinewidth\": 2}}}, \"title\": {\"font\": {\"color\": \"#4D5663\"}, \"text\": \"Persons with foreign background \"}, \"xaxis\": {\"gridcolor\": \"#E1E5ED\", \"showgrid\": true, \"tickfont\": {\"color\": \"#4D5663\"}, \"title\": {\"font\": {\"color\": \"#4D5663\"}, \"text\": \"\"}, \"zerolinecolor\": \"#E1E5ED\"}, \"yaxis\": {\"gridcolor\": \"#E1E5ED\", \"showgrid\": true, \"tickfont\": {\"color\": \"#4D5663\"}, \"title\": {\"font\": {\"color\": \"#4D5663\"}, \"text\": \"\"}, \"zerolinecolor\": \"#E1E5ED\"}},                        {\"showLink\": true, \"linkText\": \"Export to plot.ly\", \"plotlyServerURL\": \"https://plot.ly\", \"responsive\": true}                    ).then(function(){\n",
       "                            \n",
       "var gd = document.getElementById('4d1c41ca-7760-4b2c-990e-e10716aed89f');\n",
       "var x = new MutationObserver(function (mutations, observer) {{\n",
       "        var display = window.getComputedStyle(gd).display;\n",
       "        if (!display || display === 'none') {{\n",
       "            console.log([gd, 'removed!']);\n",
       "            Plotly.purge(gd);\n",
       "            observer.disconnect();\n",
       "        }}\n",
       "}});\n",
       "\n",
       "// Listen for the removal of the full notebook cells\n",
       "var notebookContainer = gd.closest('#notebook-container');\n",
       "if (notebookContainer) {{\n",
       "    x.observe(notebookContainer, {childList: true});\n",
       "}}\n",
       "\n",
       "// Listen for the clearing of the current output cell\n",
       "var outputEl = gd.closest('.output');\n",
       "if (outputEl) {{\n",
       "    x.observe(outputEl, {childList: true});\n",
       "}}\n",
       "\n",
       "                        })                };                });            </script>        </div>"
      ]
     },
     "metadata": {},
     "output_type": "display_data"
    }
   ],
   "source": [
    "# In this line, we are trying to check which attributes have maximum value during the year 2010. For example, Uusimaa region have persons with foreign background as maximum values while whole country have persons born abroad as maximum values which is shown below. This can be useful to check if more foreigners moved to Finland or more people were born abroad and so on.\n",
    "y=data2.loc[data2[2010]==data2.groupby(\"Region\")[2010].transform(\"max\")][[\"Region\",\"Attribute\",2010]].reset_index(drop=True)\n",
    "y.loc[y.Attribute=='Persons with foreign background'][[2010,\"Region\"]].iplot(kind='bar',x=\"Region\",title=\"Persons with foreign background \")"
   ]
  },
  {
   "cell_type": "code",
   "execution_count": 770,
   "metadata": {
    "ExecuteTime": {
     "end_time": "2020-12-14T23:05:21.399628Z",
     "start_time": "2020-12-14T23:05:21.320494Z"
    },
    "scrolled": true
   },
   "outputs": [
    {
     "data": {
      "application/vnd.plotly.v1+json": {
       "config": {
        "linkText": "Export to plot.ly",
        "plotlyServerURL": "https://plot.ly",
        "showLink": true
       },
       "data": [
        {
         "marker": {
          "color": "rgba(255, 153, 51, 0.6)",
          "line": {
           "color": "rgba(255, 153, 51, 1.0)",
           "width": 1
          }
         },
         "name": "2019",
         "orientation": "v",
         "text": "",
         "type": "bar",
         "x": [
          "WHOLE COUNTRY",
          "MA1 MAINLAND FINLAND",
          "MK01 Uusimaa",
          "MK02 Southwest",
          "MK07 Päijät-Häme",
          "MK08 Kymenlaakso",
          "MK09 South Karelia",
          "MK10 South Savo",
          "MK12 North Karelia",
          "MA2 ÅLAND"
         ],
         "y": [
          423494,
          0,
          240435,
          36828,
          11285,
          10463,
          8351,
          4945,
          6389,
          0
         ]
        }
       ],
       "layout": {
        "legend": {
         "bgcolor": "#F5F6F9",
         "font": {
          "color": "#4D5663"
         }
        },
        "paper_bgcolor": "#F5F6F9",
        "plot_bgcolor": "#F5F6F9",
        "template": {
         "data": {
          "bar": [
           {
            "error_x": {
             "color": "#2a3f5f"
            },
            "error_y": {
             "color": "#2a3f5f"
            },
            "marker": {
             "line": {
              "color": "#E5ECF6",
              "width": 0.5
             }
            },
            "type": "bar"
           }
          ],
          "barpolar": [
           {
            "marker": {
             "line": {
              "color": "#E5ECF6",
              "width": 0.5
             }
            },
            "type": "barpolar"
           }
          ],
          "carpet": [
           {
            "aaxis": {
             "endlinecolor": "#2a3f5f",
             "gridcolor": "white",
             "linecolor": "white",
             "minorgridcolor": "white",
             "startlinecolor": "#2a3f5f"
            },
            "baxis": {
             "endlinecolor": "#2a3f5f",
             "gridcolor": "white",
             "linecolor": "white",
             "minorgridcolor": "white",
             "startlinecolor": "#2a3f5f"
            },
            "type": "carpet"
           }
          ],
          "choropleth": [
           {
            "colorbar": {
             "outlinewidth": 0,
             "ticks": ""
            },
            "type": "choropleth"
           }
          ],
          "contour": [
           {
            "colorbar": {
             "outlinewidth": 0,
             "ticks": ""
            },
            "colorscale": [
             [
              0,
              "#0d0887"
             ],
             [
              0.1111111111111111,
              "#46039f"
             ],
             [
              0.2222222222222222,
              "#7201a8"
             ],
             [
              0.3333333333333333,
              "#9c179e"
             ],
             [
              0.4444444444444444,
              "#bd3786"
             ],
             [
              0.5555555555555556,
              "#d8576b"
             ],
             [
              0.6666666666666666,
              "#ed7953"
             ],
             [
              0.7777777777777778,
              "#fb9f3a"
             ],
             [
              0.8888888888888888,
              "#fdca26"
             ],
             [
              1,
              "#f0f921"
             ]
            ],
            "type": "contour"
           }
          ],
          "contourcarpet": [
           {
            "colorbar": {
             "outlinewidth": 0,
             "ticks": ""
            },
            "type": "contourcarpet"
           }
          ],
          "heatmap": [
           {
            "colorbar": {
             "outlinewidth": 0,
             "ticks": ""
            },
            "colorscale": [
             [
              0,
              "#0d0887"
             ],
             [
              0.1111111111111111,
              "#46039f"
             ],
             [
              0.2222222222222222,
              "#7201a8"
             ],
             [
              0.3333333333333333,
              "#9c179e"
             ],
             [
              0.4444444444444444,
              "#bd3786"
             ],
             [
              0.5555555555555556,
              "#d8576b"
             ],
             [
              0.6666666666666666,
              "#ed7953"
             ],
             [
              0.7777777777777778,
              "#fb9f3a"
             ],
             [
              0.8888888888888888,
              "#fdca26"
             ],
             [
              1,
              "#f0f921"
             ]
            ],
            "type": "heatmap"
           }
          ],
          "heatmapgl": [
           {
            "colorbar": {
             "outlinewidth": 0,
             "ticks": ""
            },
            "colorscale": [
             [
              0,
              "#0d0887"
             ],
             [
              0.1111111111111111,
              "#46039f"
             ],
             [
              0.2222222222222222,
              "#7201a8"
             ],
             [
              0.3333333333333333,
              "#9c179e"
             ],
             [
              0.4444444444444444,
              "#bd3786"
             ],
             [
              0.5555555555555556,
              "#d8576b"
             ],
             [
              0.6666666666666666,
              "#ed7953"
             ],
             [
              0.7777777777777778,
              "#fb9f3a"
             ],
             [
              0.8888888888888888,
              "#fdca26"
             ],
             [
              1,
              "#f0f921"
             ]
            ],
            "type": "heatmapgl"
           }
          ],
          "histogram": [
           {
            "marker": {
             "colorbar": {
              "outlinewidth": 0,
              "ticks": ""
             }
            },
            "type": "histogram"
           }
          ],
          "histogram2d": [
           {
            "colorbar": {
             "outlinewidth": 0,
             "ticks": ""
            },
            "colorscale": [
             [
              0,
              "#0d0887"
             ],
             [
              0.1111111111111111,
              "#46039f"
             ],
             [
              0.2222222222222222,
              "#7201a8"
             ],
             [
              0.3333333333333333,
              "#9c179e"
             ],
             [
              0.4444444444444444,
              "#bd3786"
             ],
             [
              0.5555555555555556,
              "#d8576b"
             ],
             [
              0.6666666666666666,
              "#ed7953"
             ],
             [
              0.7777777777777778,
              "#fb9f3a"
             ],
             [
              0.8888888888888888,
              "#fdca26"
             ],
             [
              1,
              "#f0f921"
             ]
            ],
            "type": "histogram2d"
           }
          ],
          "histogram2dcontour": [
           {
            "colorbar": {
             "outlinewidth": 0,
             "ticks": ""
            },
            "colorscale": [
             [
              0,
              "#0d0887"
             ],
             [
              0.1111111111111111,
              "#46039f"
             ],
             [
              0.2222222222222222,
              "#7201a8"
             ],
             [
              0.3333333333333333,
              "#9c179e"
             ],
             [
              0.4444444444444444,
              "#bd3786"
             ],
             [
              0.5555555555555556,
              "#d8576b"
             ],
             [
              0.6666666666666666,
              "#ed7953"
             ],
             [
              0.7777777777777778,
              "#fb9f3a"
             ],
             [
              0.8888888888888888,
              "#fdca26"
             ],
             [
              1,
              "#f0f921"
             ]
            ],
            "type": "histogram2dcontour"
           }
          ],
          "mesh3d": [
           {
            "colorbar": {
             "outlinewidth": 0,
             "ticks": ""
            },
            "type": "mesh3d"
           }
          ],
          "parcoords": [
           {
            "line": {
             "colorbar": {
              "outlinewidth": 0,
              "ticks": ""
             }
            },
            "type": "parcoords"
           }
          ],
          "pie": [
           {
            "automargin": true,
            "type": "pie"
           }
          ],
          "scatter": [
           {
            "marker": {
             "colorbar": {
              "outlinewidth": 0,
              "ticks": ""
             }
            },
            "type": "scatter"
           }
          ],
          "scatter3d": [
           {
            "line": {
             "colorbar": {
              "outlinewidth": 0,
              "ticks": ""
             }
            },
            "marker": {
             "colorbar": {
              "outlinewidth": 0,
              "ticks": ""
             }
            },
            "type": "scatter3d"
           }
          ],
          "scattercarpet": [
           {
            "marker": {
             "colorbar": {
              "outlinewidth": 0,
              "ticks": ""
             }
            },
            "type": "scattercarpet"
           }
          ],
          "scattergeo": [
           {
            "marker": {
             "colorbar": {
              "outlinewidth": 0,
              "ticks": ""
             }
            },
            "type": "scattergeo"
           }
          ],
          "scattergl": [
           {
            "marker": {
             "colorbar": {
              "outlinewidth": 0,
              "ticks": ""
             }
            },
            "type": "scattergl"
           }
          ],
          "scattermapbox": [
           {
            "marker": {
             "colorbar": {
              "outlinewidth": 0,
              "ticks": ""
             }
            },
            "type": "scattermapbox"
           }
          ],
          "scatterpolar": [
           {
            "marker": {
             "colorbar": {
              "outlinewidth": 0,
              "ticks": ""
             }
            },
            "type": "scatterpolar"
           }
          ],
          "scatterpolargl": [
           {
            "marker": {
             "colorbar": {
              "outlinewidth": 0,
              "ticks": ""
             }
            },
            "type": "scatterpolargl"
           }
          ],
          "scatterternary": [
           {
            "marker": {
             "colorbar": {
              "outlinewidth": 0,
              "ticks": ""
             }
            },
            "type": "scatterternary"
           }
          ],
          "surface": [
           {
            "colorbar": {
             "outlinewidth": 0,
             "ticks": ""
            },
            "colorscale": [
             [
              0,
              "#0d0887"
             ],
             [
              0.1111111111111111,
              "#46039f"
             ],
             [
              0.2222222222222222,
              "#7201a8"
             ],
             [
              0.3333333333333333,
              "#9c179e"
             ],
             [
              0.4444444444444444,
              "#bd3786"
             ],
             [
              0.5555555555555556,
              "#d8576b"
             ],
             [
              0.6666666666666666,
              "#ed7953"
             ],
             [
              0.7777777777777778,
              "#fb9f3a"
             ],
             [
              0.8888888888888888,
              "#fdca26"
             ],
             [
              1,
              "#f0f921"
             ]
            ],
            "type": "surface"
           }
          ],
          "table": [
           {
            "cells": {
             "fill": {
              "color": "#EBF0F8"
             },
             "line": {
              "color": "white"
             }
            },
            "header": {
             "fill": {
              "color": "#C8D4E3"
             },
             "line": {
              "color": "white"
             }
            },
            "type": "table"
           }
          ]
         },
         "layout": {
          "annotationdefaults": {
           "arrowcolor": "#2a3f5f",
           "arrowhead": 0,
           "arrowwidth": 1
          },
          "coloraxis": {
           "colorbar": {
            "outlinewidth": 0,
            "ticks": ""
           }
          },
          "colorscale": {
           "diverging": [
            [
             0,
             "#8e0152"
            ],
            [
             0.1,
             "#c51b7d"
            ],
            [
             0.2,
             "#de77ae"
            ],
            [
             0.3,
             "#f1b6da"
            ],
            [
             0.4,
             "#fde0ef"
            ],
            [
             0.5,
             "#f7f7f7"
            ],
            [
             0.6,
             "#e6f5d0"
            ],
            [
             0.7,
             "#b8e186"
            ],
            [
             0.8,
             "#7fbc41"
            ],
            [
             0.9,
             "#4d9221"
            ],
            [
             1,
             "#276419"
            ]
           ],
           "sequential": [
            [
             0,
             "#0d0887"
            ],
            [
             0.1111111111111111,
             "#46039f"
            ],
            [
             0.2222222222222222,
             "#7201a8"
            ],
            [
             0.3333333333333333,
             "#9c179e"
            ],
            [
             0.4444444444444444,
             "#bd3786"
            ],
            [
             0.5555555555555556,
             "#d8576b"
            ],
            [
             0.6666666666666666,
             "#ed7953"
            ],
            [
             0.7777777777777778,
             "#fb9f3a"
            ],
            [
             0.8888888888888888,
             "#fdca26"
            ],
            [
             1,
             "#f0f921"
            ]
           ],
           "sequentialminus": [
            [
             0,
             "#0d0887"
            ],
            [
             0.1111111111111111,
             "#46039f"
            ],
            [
             0.2222222222222222,
             "#7201a8"
            ],
            [
             0.3333333333333333,
             "#9c179e"
            ],
            [
             0.4444444444444444,
             "#bd3786"
            ],
            [
             0.5555555555555556,
             "#d8576b"
            ],
            [
             0.6666666666666666,
             "#ed7953"
            ],
            [
             0.7777777777777778,
             "#fb9f3a"
            ],
            [
             0.8888888888888888,
             "#fdca26"
            ],
            [
             1,
             "#f0f921"
            ]
           ]
          },
          "colorway": [
           "#636efa",
           "#EF553B",
           "#00cc96",
           "#ab63fa",
           "#FFA15A",
           "#19d3f3",
           "#FF6692",
           "#B6E880",
           "#FF97FF",
           "#FECB52"
          ],
          "font": {
           "color": "#2a3f5f"
          },
          "geo": {
           "bgcolor": "white",
           "lakecolor": "white",
           "landcolor": "#E5ECF6",
           "showlakes": true,
           "showland": true,
           "subunitcolor": "white"
          },
          "hoverlabel": {
           "align": "left"
          },
          "hovermode": "closest",
          "mapbox": {
           "style": "light"
          },
          "paper_bgcolor": "white",
          "plot_bgcolor": "#E5ECF6",
          "polar": {
           "angularaxis": {
            "gridcolor": "white",
            "linecolor": "white",
            "ticks": ""
           },
           "bgcolor": "#E5ECF6",
           "radialaxis": {
            "gridcolor": "white",
            "linecolor": "white",
            "ticks": ""
           }
          },
          "scene": {
           "xaxis": {
            "backgroundcolor": "#E5ECF6",
            "gridcolor": "white",
            "gridwidth": 2,
            "linecolor": "white",
            "showbackground": true,
            "ticks": "",
            "zerolinecolor": "white"
           },
           "yaxis": {
            "backgroundcolor": "#E5ECF6",
            "gridcolor": "white",
            "gridwidth": 2,
            "linecolor": "white",
            "showbackground": true,
            "ticks": "",
            "zerolinecolor": "white"
           },
           "zaxis": {
            "backgroundcolor": "#E5ECF6",
            "gridcolor": "white",
            "gridwidth": 2,
            "linecolor": "white",
            "showbackground": true,
            "ticks": "",
            "zerolinecolor": "white"
           }
          },
          "shapedefaults": {
           "line": {
            "color": "#2a3f5f"
           }
          },
          "ternary": {
           "aaxis": {
            "gridcolor": "white",
            "linecolor": "white",
            "ticks": ""
           },
           "baxis": {
            "gridcolor": "white",
            "linecolor": "white",
            "ticks": ""
           },
           "bgcolor": "#E5ECF6",
           "caxis": {
            "gridcolor": "white",
            "linecolor": "white",
            "ticks": ""
           }
          },
          "title": {
           "x": 0.05
          },
          "xaxis": {
           "automargin": true,
           "gridcolor": "white",
           "linecolor": "white",
           "ticks": "",
           "title": {
            "standoff": 15
           },
           "zerolinecolor": "white",
           "zerolinewidth": 2
          },
          "yaxis": {
           "automargin": true,
           "gridcolor": "white",
           "linecolor": "white",
           "ticks": "",
           "title": {
            "standoff": 15
           },
           "zerolinecolor": "white",
           "zerolinewidth": 2
          }
         }
        },
        "title": {
         "font": {
          "color": "#4D5663"
         },
         "text": "Persons with foreign background "
        },
        "xaxis": {
         "gridcolor": "#E1E5ED",
         "showgrid": true,
         "tickfont": {
          "color": "#4D5663"
         },
         "title": {
          "font": {
           "color": "#4D5663"
          },
          "text": ""
         },
         "zerolinecolor": "#E1E5ED"
        },
        "yaxis": {
         "gridcolor": "#E1E5ED",
         "showgrid": true,
         "tickfont": {
          "color": "#4D5663"
         },
         "title": {
          "font": {
           "color": "#4D5663"
          },
          "text": ""
         },
         "zerolinecolor": "#E1E5ED"
        }
       }
      },
      "text/html": [
       "<div>                            <div id=\"5a8be30f-4fdf-4489-8df2-dcb9c5324534\" class=\"plotly-graph-div\" style=\"height:525px; width:100%;\"></div>            <script type=\"text/javascript\">                require([\"plotly\"], function(Plotly) {                    window.PLOTLYENV=window.PLOTLYENV || {};\n",
       "                    window.PLOTLYENV.BASE_URL='https://plot.ly';                                    if (document.getElementById(\"5a8be30f-4fdf-4489-8df2-dcb9c5324534\")) {                    Plotly.newPlot(                        \"5a8be30f-4fdf-4489-8df2-dcb9c5324534\",                        [{\"marker\": {\"color\": \"rgba(255, 153, 51, 0.6)\", \"line\": {\"color\": \"rgba(255, 153, 51, 1.0)\", \"width\": 1}}, \"name\": \"2019\", \"orientation\": \"v\", \"text\": \"\", \"type\": \"bar\", \"x\": [\"WHOLE COUNTRY\", \"MA1 MAINLAND FINLAND\", \"MK01 Uusimaa\", \"MK02 Southwest\", \"MK07 P\\u00e4ij\\u00e4t-H\\u00e4me\", \"MK08 Kymenlaakso\", \"MK09 South Karelia\", \"MK10 South Savo\", \"MK12 North Karelia\", \"MA2 \\u00c5LAND\"], \"y\": [423494, 0, 240435, 36828, 11285, 10463, 8351, 4945, 6389, 0]}],                        {\"legend\": {\"bgcolor\": \"#F5F6F9\", \"font\": {\"color\": \"#4D5663\"}}, \"paper_bgcolor\": \"#F5F6F9\", \"plot_bgcolor\": \"#F5F6F9\", \"template\": {\"data\": {\"bar\": [{\"error_x\": {\"color\": \"#2a3f5f\"}, \"error_y\": {\"color\": \"#2a3f5f\"}, \"marker\": {\"line\": {\"color\": \"#E5ECF6\", \"width\": 0.5}}, \"type\": \"bar\"}], \"barpolar\": [{\"marker\": {\"line\": {\"color\": \"#E5ECF6\", \"width\": 0.5}}, \"type\": \"barpolar\"}], \"carpet\": [{\"aaxis\": {\"endlinecolor\": \"#2a3f5f\", \"gridcolor\": \"white\", \"linecolor\": \"white\", \"minorgridcolor\": \"white\", \"startlinecolor\": \"#2a3f5f\"}, \"baxis\": {\"endlinecolor\": \"#2a3f5f\", \"gridcolor\": \"white\", \"linecolor\": \"white\", \"minorgridcolor\": \"white\", \"startlinecolor\": \"#2a3f5f\"}, \"type\": \"carpet\"}], \"choropleth\": [{\"colorbar\": {\"outlinewidth\": 0, \"ticks\": \"\"}, \"type\": \"choropleth\"}], \"contour\": [{\"colorbar\": {\"outlinewidth\": 0, \"ticks\": \"\"}, \"colorscale\": [[0.0, \"#0d0887\"], [0.1111111111111111, \"#46039f\"], [0.2222222222222222, \"#7201a8\"], [0.3333333333333333, \"#9c179e\"], [0.4444444444444444, \"#bd3786\"], [0.5555555555555556, \"#d8576b\"], [0.6666666666666666, \"#ed7953\"], [0.7777777777777778, \"#fb9f3a\"], [0.8888888888888888, \"#fdca26\"], [1.0, \"#f0f921\"]], \"type\": \"contour\"}], \"contourcarpet\": [{\"colorbar\": {\"outlinewidth\": 0, \"ticks\": \"\"}, \"type\": \"contourcarpet\"}], \"heatmap\": [{\"colorbar\": {\"outlinewidth\": 0, \"ticks\": \"\"}, \"colorscale\": [[0.0, \"#0d0887\"], [0.1111111111111111, \"#46039f\"], [0.2222222222222222, \"#7201a8\"], [0.3333333333333333, \"#9c179e\"], [0.4444444444444444, \"#bd3786\"], [0.5555555555555556, \"#d8576b\"], [0.6666666666666666, \"#ed7953\"], [0.7777777777777778, \"#fb9f3a\"], [0.8888888888888888, \"#fdca26\"], [1.0, \"#f0f921\"]], \"type\": \"heatmap\"}], \"heatmapgl\": [{\"colorbar\": {\"outlinewidth\": 0, \"ticks\": \"\"}, \"colorscale\": [[0.0, \"#0d0887\"], [0.1111111111111111, \"#46039f\"], [0.2222222222222222, \"#7201a8\"], [0.3333333333333333, \"#9c179e\"], [0.4444444444444444, \"#bd3786\"], [0.5555555555555556, \"#d8576b\"], [0.6666666666666666, \"#ed7953\"], [0.7777777777777778, \"#fb9f3a\"], [0.8888888888888888, \"#fdca26\"], [1.0, \"#f0f921\"]], \"type\": \"heatmapgl\"}], \"histogram\": [{\"marker\": {\"colorbar\": {\"outlinewidth\": 0, \"ticks\": \"\"}}, \"type\": \"histogram\"}], \"histogram2d\": [{\"colorbar\": {\"outlinewidth\": 0, \"ticks\": \"\"}, \"colorscale\": [[0.0, \"#0d0887\"], [0.1111111111111111, \"#46039f\"], [0.2222222222222222, \"#7201a8\"], [0.3333333333333333, \"#9c179e\"], [0.4444444444444444, \"#bd3786\"], [0.5555555555555556, \"#d8576b\"], [0.6666666666666666, \"#ed7953\"], [0.7777777777777778, \"#fb9f3a\"], [0.8888888888888888, \"#fdca26\"], [1.0, \"#f0f921\"]], \"type\": \"histogram2d\"}], \"histogram2dcontour\": [{\"colorbar\": {\"outlinewidth\": 0, \"ticks\": \"\"}, \"colorscale\": [[0.0, \"#0d0887\"], [0.1111111111111111, \"#46039f\"], [0.2222222222222222, \"#7201a8\"], [0.3333333333333333, \"#9c179e\"], [0.4444444444444444, \"#bd3786\"], [0.5555555555555556, \"#d8576b\"], [0.6666666666666666, \"#ed7953\"], [0.7777777777777778, \"#fb9f3a\"], [0.8888888888888888, \"#fdca26\"], [1.0, \"#f0f921\"]], \"type\": \"histogram2dcontour\"}], \"mesh3d\": [{\"colorbar\": {\"outlinewidth\": 0, \"ticks\": \"\"}, \"type\": \"mesh3d\"}], \"parcoords\": [{\"line\": {\"colorbar\": {\"outlinewidth\": 0, \"ticks\": \"\"}}, \"type\": \"parcoords\"}], \"pie\": [{\"automargin\": true, \"type\": \"pie\"}], \"scatter\": [{\"marker\": {\"colorbar\": {\"outlinewidth\": 0, \"ticks\": \"\"}}, \"type\": \"scatter\"}], \"scatter3d\": [{\"line\": {\"colorbar\": {\"outlinewidth\": 0, \"ticks\": \"\"}}, \"marker\": {\"colorbar\": {\"outlinewidth\": 0, \"ticks\": \"\"}}, \"type\": \"scatter3d\"}], \"scattercarpet\": [{\"marker\": {\"colorbar\": {\"outlinewidth\": 0, \"ticks\": \"\"}}, \"type\": \"scattercarpet\"}], \"scattergeo\": [{\"marker\": {\"colorbar\": {\"outlinewidth\": 0, \"ticks\": \"\"}}, \"type\": \"scattergeo\"}], \"scattergl\": [{\"marker\": {\"colorbar\": {\"outlinewidth\": 0, \"ticks\": \"\"}}, \"type\": \"scattergl\"}], \"scattermapbox\": [{\"marker\": {\"colorbar\": {\"outlinewidth\": 0, \"ticks\": \"\"}}, \"type\": \"scattermapbox\"}], \"scatterpolar\": [{\"marker\": {\"colorbar\": {\"outlinewidth\": 0, \"ticks\": \"\"}}, \"type\": \"scatterpolar\"}], \"scatterpolargl\": [{\"marker\": {\"colorbar\": {\"outlinewidth\": 0, \"ticks\": \"\"}}, \"type\": \"scatterpolargl\"}], \"scatterternary\": [{\"marker\": {\"colorbar\": {\"outlinewidth\": 0, \"ticks\": \"\"}}, \"type\": \"scatterternary\"}], \"surface\": [{\"colorbar\": {\"outlinewidth\": 0, \"ticks\": \"\"}, \"colorscale\": [[0.0, \"#0d0887\"], [0.1111111111111111, \"#46039f\"], [0.2222222222222222, \"#7201a8\"], [0.3333333333333333, \"#9c179e\"], [0.4444444444444444, \"#bd3786\"], [0.5555555555555556, \"#d8576b\"], [0.6666666666666666, \"#ed7953\"], [0.7777777777777778, \"#fb9f3a\"], [0.8888888888888888, \"#fdca26\"], [1.0, \"#f0f921\"]], \"type\": \"surface\"}], \"table\": [{\"cells\": {\"fill\": {\"color\": \"#EBF0F8\"}, \"line\": {\"color\": \"white\"}}, \"header\": {\"fill\": {\"color\": \"#C8D4E3\"}, \"line\": {\"color\": \"white\"}}, \"type\": \"table\"}]}, \"layout\": {\"annotationdefaults\": {\"arrowcolor\": \"#2a3f5f\", \"arrowhead\": 0, \"arrowwidth\": 1}, \"coloraxis\": {\"colorbar\": {\"outlinewidth\": 0, \"ticks\": \"\"}}, \"colorscale\": {\"diverging\": [[0, \"#8e0152\"], [0.1, \"#c51b7d\"], [0.2, \"#de77ae\"], [0.3, \"#f1b6da\"], [0.4, \"#fde0ef\"], [0.5, \"#f7f7f7\"], [0.6, \"#e6f5d0\"], [0.7, \"#b8e186\"], [0.8, \"#7fbc41\"], [0.9, \"#4d9221\"], [1, \"#276419\"]], \"sequential\": [[0.0, \"#0d0887\"], [0.1111111111111111, \"#46039f\"], [0.2222222222222222, \"#7201a8\"], [0.3333333333333333, \"#9c179e\"], [0.4444444444444444, \"#bd3786\"], [0.5555555555555556, \"#d8576b\"], [0.6666666666666666, \"#ed7953\"], [0.7777777777777778, \"#fb9f3a\"], [0.8888888888888888, \"#fdca26\"], [1.0, \"#f0f921\"]], \"sequentialminus\": [[0.0, \"#0d0887\"], [0.1111111111111111, \"#46039f\"], [0.2222222222222222, \"#7201a8\"], [0.3333333333333333, \"#9c179e\"], [0.4444444444444444, \"#bd3786\"], [0.5555555555555556, \"#d8576b\"], [0.6666666666666666, \"#ed7953\"], [0.7777777777777778, \"#fb9f3a\"], [0.8888888888888888, \"#fdca26\"], [1.0, \"#f0f921\"]]}, \"colorway\": [\"#636efa\", \"#EF553B\", \"#00cc96\", \"#ab63fa\", \"#FFA15A\", \"#19d3f3\", \"#FF6692\", \"#B6E880\", \"#FF97FF\", \"#FECB52\"], \"font\": {\"color\": \"#2a3f5f\"}, \"geo\": {\"bgcolor\": \"white\", \"lakecolor\": \"white\", \"landcolor\": \"#E5ECF6\", \"showlakes\": true, \"showland\": true, \"subunitcolor\": \"white\"}, \"hoverlabel\": {\"align\": \"left\"}, \"hovermode\": \"closest\", \"mapbox\": {\"style\": \"light\"}, \"paper_bgcolor\": \"white\", \"plot_bgcolor\": \"#E5ECF6\", \"polar\": {\"angularaxis\": {\"gridcolor\": \"white\", \"linecolor\": \"white\", \"ticks\": \"\"}, \"bgcolor\": \"#E5ECF6\", \"radialaxis\": {\"gridcolor\": \"white\", \"linecolor\": \"white\", \"ticks\": \"\"}}, \"scene\": {\"xaxis\": {\"backgroundcolor\": \"#E5ECF6\", \"gridcolor\": \"white\", \"gridwidth\": 2, \"linecolor\": \"white\", \"showbackground\": true, \"ticks\": \"\", \"zerolinecolor\": \"white\"}, \"yaxis\": {\"backgroundcolor\": \"#E5ECF6\", \"gridcolor\": \"white\", \"gridwidth\": 2, \"linecolor\": \"white\", \"showbackground\": true, \"ticks\": \"\", \"zerolinecolor\": \"white\"}, \"zaxis\": {\"backgroundcolor\": \"#E5ECF6\", \"gridcolor\": \"white\", \"gridwidth\": 2, \"linecolor\": \"white\", \"showbackground\": true, \"ticks\": \"\", \"zerolinecolor\": \"white\"}}, \"shapedefaults\": {\"line\": {\"color\": \"#2a3f5f\"}}, \"ternary\": {\"aaxis\": {\"gridcolor\": \"white\", \"linecolor\": \"white\", \"ticks\": \"\"}, \"baxis\": {\"gridcolor\": \"white\", \"linecolor\": \"white\", \"ticks\": \"\"}, \"bgcolor\": \"#E5ECF6\", \"caxis\": {\"gridcolor\": \"white\", \"linecolor\": \"white\", \"ticks\": \"\"}}, \"title\": {\"x\": 0.05}, \"xaxis\": {\"automargin\": true, \"gridcolor\": \"white\", \"linecolor\": \"white\", \"ticks\": \"\", \"title\": {\"standoff\": 15}, \"zerolinecolor\": \"white\", \"zerolinewidth\": 2}, \"yaxis\": {\"automargin\": true, \"gridcolor\": \"white\", \"linecolor\": \"white\", \"ticks\": \"\", \"title\": {\"standoff\": 15}, \"zerolinecolor\": \"white\", \"zerolinewidth\": 2}}}, \"title\": {\"font\": {\"color\": \"#4D5663\"}, \"text\": \"Persons with foreign background \"}, \"xaxis\": {\"gridcolor\": \"#E1E5ED\", \"showgrid\": true, \"tickfont\": {\"color\": \"#4D5663\"}, \"title\": {\"font\": {\"color\": \"#4D5663\"}, \"text\": \"\"}, \"zerolinecolor\": \"#E1E5ED\"}, \"yaxis\": {\"gridcolor\": \"#E1E5ED\", \"showgrid\": true, \"tickfont\": {\"color\": \"#4D5663\"}, \"title\": {\"font\": {\"color\": \"#4D5663\"}, \"text\": \"\"}, \"zerolinecolor\": \"#E1E5ED\"}},                        {\"showLink\": true, \"linkText\": \"Export to plot.ly\", \"plotlyServerURL\": \"https://plot.ly\", \"responsive\": true}                    ).then(function(){\n",
       "                            \n",
       "var gd = document.getElementById('5a8be30f-4fdf-4489-8df2-dcb9c5324534');\n",
       "var x = new MutationObserver(function (mutations, observer) {{\n",
       "        var display = window.getComputedStyle(gd).display;\n",
       "        if (!display || display === 'none') {{\n",
       "            console.log([gd, 'removed!']);\n",
       "            Plotly.purge(gd);\n",
       "            observer.disconnect();\n",
       "        }}\n",
       "}});\n",
       "\n",
       "// Listen for the removal of the full notebook cells\n",
       "var notebookContainer = gd.closest('#notebook-container');\n",
       "if (notebookContainer) {{\n",
       "    x.observe(notebookContainer, {childList: true});\n",
       "}}\n",
       "\n",
       "// Listen for the clearing of the current output cell\n",
       "var outputEl = gd.closest('.output');\n",
       "if (outputEl) {{\n",
       "    x.observe(outputEl, {childList: true});\n",
       "}}\n",
       "\n",
       "                        })                };                });            </script>        </div>"
      ]
     },
     "metadata": {},
     "output_type": "display_data"
    }
   ],
   "source": [
    "x=data2.loc[data2[2019]==data2.groupby(\"Region\")[2019].transform(\"max\")][[\"Region\",\"Attribute\",2019]].reset_index(drop=True)\n",
    "x.loc[x.Attribute=='Persons with foreign background'][[2019,\"Region\"]].iplot(kind='bar',x=\"Region\",title=\"Persons with foreign background \")\n"
   ]
  },
  {
   "cell_type": "markdown",
   "metadata": {},
   "source": [
    " <i> In this part, we tried to check the data for the year 2019 and 2010 and try to compare attribute for persons with foreign background and we can see that for the year 2010 only Uusimaa region have this attribute as maximum value which means rest of the regions have other attribute as maximum value while in year 2019 we can see along with Uusimaa region some other region like Southwest, Päijät-Häme, Kymenlaakso and others have this attribute as maximum values. This means that there have been increase in persons with foreign background throughout the years."
   ]
  },
  {
   "cell_type": "code",
   "execution_count": 737,
   "metadata": {
    "ExecuteTime": {
     "end_time": "2020-12-14T22:39:35.515976Z",
     "start_time": "2020-12-14T22:39:35.477471Z"
    }
   },
   "outputs": [
    {
     "data": {
      "text/html": [
       "<div>\n",
       "<style scoped>\n",
       "    .dataframe tbody tr th:only-of-type {\n",
       "        vertical-align: middle;\n",
       "    }\n",
       "\n",
       "    .dataframe tbody tr th {\n",
       "        vertical-align: top;\n",
       "    }\n",
       "\n",
       "    .dataframe thead th {\n",
       "        text-align: right;\n",
       "    }\n",
       "</style>\n",
       "<table border=\"1\" class=\"dataframe\">\n",
       "  <thead>\n",
       "    <tr style=\"text-align: right;\">\n",
       "      <th></th>\n",
       "      <th>Region</th>\n",
       "      <th>Attribute</th>\n",
       "      <th>2010</th>\n",
       "      <th>2011</th>\n",
       "      <th>2012</th>\n",
       "      <th>2013</th>\n",
       "      <th>2014</th>\n",
       "      <th>2015</th>\n",
       "      <th>2016</th>\n",
       "      <th>2017</th>\n",
       "      <th>2018</th>\n",
       "      <th>2019</th>\n",
       "    </tr>\n",
       "  </thead>\n",
       "  <tbody>\n",
       "    <tr>\n",
       "      <th>0</th>\n",
       "      <td>MA1 MAINLAND FINLAND</td>\n",
       "      <td>Citizens of foreign countries</td>\n",
       "      <td>0</td>\n",
       "      <td>0</td>\n",
       "      <td>0</td>\n",
       "      <td>0</td>\n",
       "      <td>0</td>\n",
       "      <td>0</td>\n",
       "      <td>0</td>\n",
       "      <td>0</td>\n",
       "      <td>0</td>\n",
       "      <td>0</td>\n",
       "    </tr>\n",
       "    <tr>\n",
       "      <th>1</th>\n",
       "      <td>MA1 MAINLAND FINLAND</td>\n",
       "      <td>Foreign-language speakers</td>\n",
       "      <td>0</td>\n",
       "      <td>0</td>\n",
       "      <td>0</td>\n",
       "      <td>0</td>\n",
       "      <td>0</td>\n",
       "      <td>0</td>\n",
       "      <td>0</td>\n",
       "      <td>0</td>\n",
       "      <td>0</td>\n",
       "      <td>0</td>\n",
       "    </tr>\n",
       "    <tr>\n",
       "      <th>2</th>\n",
       "      <td>MA1 MAINLAND FINLAND</td>\n",
       "      <td>Persons born abroad</td>\n",
       "      <td>0</td>\n",
       "      <td>0</td>\n",
       "      <td>0</td>\n",
       "      <td>0</td>\n",
       "      <td>0</td>\n",
       "      <td>0</td>\n",
       "      <td>0</td>\n",
       "      <td>0</td>\n",
       "      <td>0</td>\n",
       "      <td>0</td>\n",
       "    </tr>\n",
       "    <tr>\n",
       "      <th>3</th>\n",
       "      <td>MA1 MAINLAND FINLAND</td>\n",
       "      <td>Persons with foreign background</td>\n",
       "      <td>0</td>\n",
       "      <td>0</td>\n",
       "      <td>0</td>\n",
       "      <td>0</td>\n",
       "      <td>0</td>\n",
       "      <td>0</td>\n",
       "      <td>0</td>\n",
       "      <td>0</td>\n",
       "      <td>0</td>\n",
       "      <td>0</td>\n",
       "    </tr>\n",
       "    <tr>\n",
       "      <th>4</th>\n",
       "      <td>MA2 ÅLAND</td>\n",
       "      <td>Citizens of foreign countries</td>\n",
       "      <td>0</td>\n",
       "      <td>0</td>\n",
       "      <td>0</td>\n",
       "      <td>0</td>\n",
       "      <td>0</td>\n",
       "      <td>0</td>\n",
       "      <td>0</td>\n",
       "      <td>0</td>\n",
       "      <td>0</td>\n",
       "      <td>0</td>\n",
       "    </tr>\n",
       "    <tr>\n",
       "      <th>...</th>\n",
       "      <td>...</td>\n",
       "      <td>...</td>\n",
       "      <td>...</td>\n",
       "      <td>...</td>\n",
       "      <td>...</td>\n",
       "      <td>...</td>\n",
       "      <td>...</td>\n",
       "      <td>...</td>\n",
       "      <td>...</td>\n",
       "      <td>...</td>\n",
       "      <td>...</td>\n",
       "      <td>...</td>\n",
       "    </tr>\n",
       "    <tr>\n",
       "      <th>83</th>\n",
       "      <td>MK21 Åland</td>\n",
       "      <td>Persons with foreign background</td>\n",
       "      <td>3054</td>\n",
       "      <td>3293</td>\n",
       "      <td>3454</td>\n",
       "      <td>3618</td>\n",
       "      <td>3824</td>\n",
       "      <td>3862</td>\n",
       "      <td>4126</td>\n",
       "      <td>4316</td>\n",
       "      <td>4612</td>\n",
       "      <td>4758</td>\n",
       "    </tr>\n",
       "    <tr>\n",
       "      <th>84</th>\n",
       "      <td>WHOLE COUNTRY</td>\n",
       "      <td>Citizens of foreign countries</td>\n",
       "      <td>167954</td>\n",
       "      <td>183133</td>\n",
       "      <td>195511</td>\n",
       "      <td>207511</td>\n",
       "      <td>219675</td>\n",
       "      <td>229765</td>\n",
       "      <td>243639</td>\n",
       "      <td>249452</td>\n",
       "      <td>257572</td>\n",
       "      <td>267629</td>\n",
       "    </tr>\n",
       "    <tr>\n",
       "      <th>85</th>\n",
       "      <td>WHOLE COUNTRY</td>\n",
       "      <td>Foreign-language speakers</td>\n",
       "      <td>224388</td>\n",
       "      <td>244827</td>\n",
       "      <td>266949</td>\n",
       "      <td>289068</td>\n",
       "      <td>310306</td>\n",
       "      <td>329562</td>\n",
       "      <td>353993</td>\n",
       "      <td>373325</td>\n",
       "      <td>391746</td>\n",
       "      <td>412644</td>\n",
       "    </tr>\n",
       "    <tr>\n",
       "      <th>86</th>\n",
       "      <td>WHOLE COUNTRY</td>\n",
       "      <td>Persons born abroad</td>\n",
       "      <td>248135</td>\n",
       "      <td>266148</td>\n",
       "      <td>285471</td>\n",
       "      <td>304279</td>\n",
       "      <td>321977</td>\n",
       "      <td>337162</td>\n",
       "      <td>357541</td>\n",
       "      <td>372802</td>\n",
       "      <td>387215</td>\n",
       "      <td>404179</td>\n",
       "    </tr>\n",
       "    <tr>\n",
       "      <th>87</th>\n",
       "      <td>WHOLE COUNTRY</td>\n",
       "      <td>Persons with foreign background</td>\n",
       "      <td>237066</td>\n",
       "      <td>257494</td>\n",
       "      <td>279616</td>\n",
       "      <td>301524</td>\n",
       "      <td>322711</td>\n",
       "      <td>339925</td>\n",
       "      <td>364787</td>\n",
       "      <td>384123</td>\n",
       "      <td>402619</td>\n",
       "      <td>423494</td>\n",
       "    </tr>\n",
       "  </tbody>\n",
       "</table>\n",
       "<p>88 rows × 12 columns</p>\n",
       "</div>"
      ],
      "text/plain": [
       "0                 Region                        Attribute    2010    2011  \\\n",
       "0   MA1 MAINLAND FINLAND    Citizens of foreign countries       0       0   \n",
       "1   MA1 MAINLAND FINLAND        Foreign-language speakers       0       0   \n",
       "2   MA1 MAINLAND FINLAND              Persons born abroad       0       0   \n",
       "3   MA1 MAINLAND FINLAND  Persons with foreign background       0       0   \n",
       "4              MA2 ÅLAND    Citizens of foreign countries       0       0   \n",
       "..                   ...                              ...     ...     ...   \n",
       "83            MK21 Åland  Persons with foreign background    3054    3293   \n",
       "84         WHOLE COUNTRY    Citizens of foreign countries  167954  183133   \n",
       "85         WHOLE COUNTRY        Foreign-language speakers  224388  244827   \n",
       "86         WHOLE COUNTRY              Persons born abroad  248135  266148   \n",
       "87         WHOLE COUNTRY  Persons with foreign background  237066  257494   \n",
       "\n",
       "0     2012    2013    2014    2015    2016    2017    2018    2019  \n",
       "0        0       0       0       0       0       0       0       0  \n",
       "1        0       0       0       0       0       0       0       0  \n",
       "2        0       0       0       0       0       0       0       0  \n",
       "3        0       0       0       0       0       0       0       0  \n",
       "4        0       0       0       0       0       0       0       0  \n",
       "..     ...     ...     ...     ...     ...     ...     ...     ...  \n",
       "83    3454    3618    3824    3862    4126    4316    4612    4758  \n",
       "84  195511  207511  219675  229765  243639  249452  257572  267629  \n",
       "85  266949  289068  310306  329562  353993  373325  391746  412644  \n",
       "86  285471  304279  321977  337162  357541  372802  387215  404179  \n",
       "87  279616  301524  322711  339925  364787  384123  402619  423494  \n",
       "\n",
       "[88 rows x 12 columns]"
      ]
     },
     "execution_count": 737,
     "metadata": {},
     "output_type": "execute_result"
    }
   ],
   "source": [
    "# Grouped using location to check every locations specific data.\n",
    "grouped=data2.groupby(['Region','Attribute']).sum().reset_index()\n",
    "grouped1=data2.groupby(['Attribute','Region']).sum()\n",
    "grouped\n"
   ]
  },
  {
   "cell_type": "code",
   "execution_count": 768,
   "metadata": {
    "ExecuteTime": {
     "end_time": "2020-12-14T23:03:57.410974Z",
     "start_time": "2020-12-14T23:03:57.233870Z"
    }
   },
   "outputs": [
    {
     "data": {
      "application/vnd.plotly.v1+json": {
       "config": {
        "linkText": "Export to plot.ly",
        "plotlyServerURL": "https://plot.ly",
        "showLink": true
       },
       "data": [
        {
         "line": {
          "color": "rgba(255, 153, 51, 1.0)",
          "dash": "solid",
          "shape": "linear",
          "width": 1.3
         },
         "mode": "lines",
         "name": "2010",
         "text": "",
         "type": "scatter",
         "x": [
          "MA1 MAINLAND FINLAND",
          "MA2 ÅLAND",
          "MK01 Uusimaa",
          "MK02 Southwest",
          "MK04 Satakunta",
          "MK05 Kanta-Häme",
          "MK06",
          "MK07 Päijät-Häme",
          "MK08 Kymenlaakso",
          "MK09 South Karelia",
          "MK10 South Savo",
          "MK11 North Savo",
          "MK12 North Karelia",
          "MK13",
          "MK14 South Ostrobothnia",
          "MK15 Ostrobothnia",
          "MK16",
          "MK17 North Ostrobothnia",
          "MK18 Kainuu",
          "MK19 Lapland",
          "MK21 Åland"
         ],
         "y": [
          0,
          0,
          122102,
          20606,
          3653,
          3805,
          15583,
          6488,
          7093,
          4883,
          3069,
          4073,
          3953,
          5743,
          2332,
          7100,
          1154,
          6517,
          1605,
          3167,
          1462
         ]
        },
        {
         "line": {
          "color": "rgba(55, 128, 191, 1.0)",
          "dash": "solid",
          "shape": "linear",
          "width": 1.3
         },
         "mode": "lines",
         "name": "2019",
         "text": "",
         "type": "scatter",
         "x": [
          "MA1 MAINLAND FINLAND",
          "MA2 ÅLAND",
          "MK01 Uusimaa",
          "MK02 Southwest",
          "MK04 Satakunta",
          "MK05 Kanta-Häme",
          "MK06",
          "MK07 Päijät-Häme",
          "MK08 Kymenlaakso",
          "MK09 South Karelia",
          "MK10 South Savo",
          "MK11 North Savo",
          "MK12 North Karelia",
          "MK13",
          "MK14 South Ostrobothnia",
          "MK15 Ostrobothnia",
          "MK16",
          "MK17 North Ostrobothnia",
          "MK18 Kainuu",
          "MK19 Lapland",
          "MK21 Åland"
         ],
         "y": [
          0,
          0,
          236959,
          35809,
          7927,
          7221,
          26166,
          10994,
          10180,
          8092,
          4862,
          7506,
          6249,
          9531,
          4344,
          12665,
          2038,
          12358,
          2090,
          5032,
          2621
         ]
        }
       ],
       "layout": {
        "legend": {
         "bgcolor": "#F5F6F9",
         "font": {
          "color": "#4D5663"
         }
        },
        "paper_bgcolor": "#F5F6F9",
        "plot_bgcolor": "#F5F6F9",
        "template": {
         "data": {
          "bar": [
           {
            "error_x": {
             "color": "#2a3f5f"
            },
            "error_y": {
             "color": "#2a3f5f"
            },
            "marker": {
             "line": {
              "color": "#E5ECF6",
              "width": 0.5
             }
            },
            "type": "bar"
           }
          ],
          "barpolar": [
           {
            "marker": {
             "line": {
              "color": "#E5ECF6",
              "width": 0.5
             }
            },
            "type": "barpolar"
           }
          ],
          "carpet": [
           {
            "aaxis": {
             "endlinecolor": "#2a3f5f",
             "gridcolor": "white",
             "linecolor": "white",
             "minorgridcolor": "white",
             "startlinecolor": "#2a3f5f"
            },
            "baxis": {
             "endlinecolor": "#2a3f5f",
             "gridcolor": "white",
             "linecolor": "white",
             "minorgridcolor": "white",
             "startlinecolor": "#2a3f5f"
            },
            "type": "carpet"
           }
          ],
          "choropleth": [
           {
            "colorbar": {
             "outlinewidth": 0,
             "ticks": ""
            },
            "type": "choropleth"
           }
          ],
          "contour": [
           {
            "colorbar": {
             "outlinewidth": 0,
             "ticks": ""
            },
            "colorscale": [
             [
              0,
              "#0d0887"
             ],
             [
              0.1111111111111111,
              "#46039f"
             ],
             [
              0.2222222222222222,
              "#7201a8"
             ],
             [
              0.3333333333333333,
              "#9c179e"
             ],
             [
              0.4444444444444444,
              "#bd3786"
             ],
             [
              0.5555555555555556,
              "#d8576b"
             ],
             [
              0.6666666666666666,
              "#ed7953"
             ],
             [
              0.7777777777777778,
              "#fb9f3a"
             ],
             [
              0.8888888888888888,
              "#fdca26"
             ],
             [
              1,
              "#f0f921"
             ]
            ],
            "type": "contour"
           }
          ],
          "contourcarpet": [
           {
            "colorbar": {
             "outlinewidth": 0,
             "ticks": ""
            },
            "type": "contourcarpet"
           }
          ],
          "heatmap": [
           {
            "colorbar": {
             "outlinewidth": 0,
             "ticks": ""
            },
            "colorscale": [
             [
              0,
              "#0d0887"
             ],
             [
              0.1111111111111111,
              "#46039f"
             ],
             [
              0.2222222222222222,
              "#7201a8"
             ],
             [
              0.3333333333333333,
              "#9c179e"
             ],
             [
              0.4444444444444444,
              "#bd3786"
             ],
             [
              0.5555555555555556,
              "#d8576b"
             ],
             [
              0.6666666666666666,
              "#ed7953"
             ],
             [
              0.7777777777777778,
              "#fb9f3a"
             ],
             [
              0.8888888888888888,
              "#fdca26"
             ],
             [
              1,
              "#f0f921"
             ]
            ],
            "type": "heatmap"
           }
          ],
          "heatmapgl": [
           {
            "colorbar": {
             "outlinewidth": 0,
             "ticks": ""
            },
            "colorscale": [
             [
              0,
              "#0d0887"
             ],
             [
              0.1111111111111111,
              "#46039f"
             ],
             [
              0.2222222222222222,
              "#7201a8"
             ],
             [
              0.3333333333333333,
              "#9c179e"
             ],
             [
              0.4444444444444444,
              "#bd3786"
             ],
             [
              0.5555555555555556,
              "#d8576b"
             ],
             [
              0.6666666666666666,
              "#ed7953"
             ],
             [
              0.7777777777777778,
              "#fb9f3a"
             ],
             [
              0.8888888888888888,
              "#fdca26"
             ],
             [
              1,
              "#f0f921"
             ]
            ],
            "type": "heatmapgl"
           }
          ],
          "histogram": [
           {
            "marker": {
             "colorbar": {
              "outlinewidth": 0,
              "ticks": ""
             }
            },
            "type": "histogram"
           }
          ],
          "histogram2d": [
           {
            "colorbar": {
             "outlinewidth": 0,
             "ticks": ""
            },
            "colorscale": [
             [
              0,
              "#0d0887"
             ],
             [
              0.1111111111111111,
              "#46039f"
             ],
             [
              0.2222222222222222,
              "#7201a8"
             ],
             [
              0.3333333333333333,
              "#9c179e"
             ],
             [
              0.4444444444444444,
              "#bd3786"
             ],
             [
              0.5555555555555556,
              "#d8576b"
             ],
             [
              0.6666666666666666,
              "#ed7953"
             ],
             [
              0.7777777777777778,
              "#fb9f3a"
             ],
             [
              0.8888888888888888,
              "#fdca26"
             ],
             [
              1,
              "#f0f921"
             ]
            ],
            "type": "histogram2d"
           }
          ],
          "histogram2dcontour": [
           {
            "colorbar": {
             "outlinewidth": 0,
             "ticks": ""
            },
            "colorscale": [
             [
              0,
              "#0d0887"
             ],
             [
              0.1111111111111111,
              "#46039f"
             ],
             [
              0.2222222222222222,
              "#7201a8"
             ],
             [
              0.3333333333333333,
              "#9c179e"
             ],
             [
              0.4444444444444444,
              "#bd3786"
             ],
             [
              0.5555555555555556,
              "#d8576b"
             ],
             [
              0.6666666666666666,
              "#ed7953"
             ],
             [
              0.7777777777777778,
              "#fb9f3a"
             ],
             [
              0.8888888888888888,
              "#fdca26"
             ],
             [
              1,
              "#f0f921"
             ]
            ],
            "type": "histogram2dcontour"
           }
          ],
          "mesh3d": [
           {
            "colorbar": {
             "outlinewidth": 0,
             "ticks": ""
            },
            "type": "mesh3d"
           }
          ],
          "parcoords": [
           {
            "line": {
             "colorbar": {
              "outlinewidth": 0,
              "ticks": ""
             }
            },
            "type": "parcoords"
           }
          ],
          "pie": [
           {
            "automargin": true,
            "type": "pie"
           }
          ],
          "scatter": [
           {
            "marker": {
             "colorbar": {
              "outlinewidth": 0,
              "ticks": ""
             }
            },
            "type": "scatter"
           }
          ],
          "scatter3d": [
           {
            "line": {
             "colorbar": {
              "outlinewidth": 0,
              "ticks": ""
             }
            },
            "marker": {
             "colorbar": {
              "outlinewidth": 0,
              "ticks": ""
             }
            },
            "type": "scatter3d"
           }
          ],
          "scattercarpet": [
           {
            "marker": {
             "colorbar": {
              "outlinewidth": 0,
              "ticks": ""
             }
            },
            "type": "scattercarpet"
           }
          ],
          "scattergeo": [
           {
            "marker": {
             "colorbar": {
              "outlinewidth": 0,
              "ticks": ""
             }
            },
            "type": "scattergeo"
           }
          ],
          "scattergl": [
           {
            "marker": {
             "colorbar": {
              "outlinewidth": 0,
              "ticks": ""
             }
            },
            "type": "scattergl"
           }
          ],
          "scattermapbox": [
           {
            "marker": {
             "colorbar": {
              "outlinewidth": 0,
              "ticks": ""
             }
            },
            "type": "scattermapbox"
           }
          ],
          "scatterpolar": [
           {
            "marker": {
             "colorbar": {
              "outlinewidth": 0,
              "ticks": ""
             }
            },
            "type": "scatterpolar"
           }
          ],
          "scatterpolargl": [
           {
            "marker": {
             "colorbar": {
              "outlinewidth": 0,
              "ticks": ""
             }
            },
            "type": "scatterpolargl"
           }
          ],
          "scatterternary": [
           {
            "marker": {
             "colorbar": {
              "outlinewidth": 0,
              "ticks": ""
             }
            },
            "type": "scatterternary"
           }
          ],
          "surface": [
           {
            "colorbar": {
             "outlinewidth": 0,
             "ticks": ""
            },
            "colorscale": [
             [
              0,
              "#0d0887"
             ],
             [
              0.1111111111111111,
              "#46039f"
             ],
             [
              0.2222222222222222,
              "#7201a8"
             ],
             [
              0.3333333333333333,
              "#9c179e"
             ],
             [
              0.4444444444444444,
              "#bd3786"
             ],
             [
              0.5555555555555556,
              "#d8576b"
             ],
             [
              0.6666666666666666,
              "#ed7953"
             ],
             [
              0.7777777777777778,
              "#fb9f3a"
             ],
             [
              0.8888888888888888,
              "#fdca26"
             ],
             [
              1,
              "#f0f921"
             ]
            ],
            "type": "surface"
           }
          ],
          "table": [
           {
            "cells": {
             "fill": {
              "color": "#EBF0F8"
             },
             "line": {
              "color": "white"
             }
            },
            "header": {
             "fill": {
              "color": "#C8D4E3"
             },
             "line": {
              "color": "white"
             }
            },
            "type": "table"
           }
          ]
         },
         "layout": {
          "annotationdefaults": {
           "arrowcolor": "#2a3f5f",
           "arrowhead": 0,
           "arrowwidth": 1
          },
          "coloraxis": {
           "colorbar": {
            "outlinewidth": 0,
            "ticks": ""
           }
          },
          "colorscale": {
           "diverging": [
            [
             0,
             "#8e0152"
            ],
            [
             0.1,
             "#c51b7d"
            ],
            [
             0.2,
             "#de77ae"
            ],
            [
             0.3,
             "#f1b6da"
            ],
            [
             0.4,
             "#fde0ef"
            ],
            [
             0.5,
             "#f7f7f7"
            ],
            [
             0.6,
             "#e6f5d0"
            ],
            [
             0.7,
             "#b8e186"
            ],
            [
             0.8,
             "#7fbc41"
            ],
            [
             0.9,
             "#4d9221"
            ],
            [
             1,
             "#276419"
            ]
           ],
           "sequential": [
            [
             0,
             "#0d0887"
            ],
            [
             0.1111111111111111,
             "#46039f"
            ],
            [
             0.2222222222222222,
             "#7201a8"
            ],
            [
             0.3333333333333333,
             "#9c179e"
            ],
            [
             0.4444444444444444,
             "#bd3786"
            ],
            [
             0.5555555555555556,
             "#d8576b"
            ],
            [
             0.6666666666666666,
             "#ed7953"
            ],
            [
             0.7777777777777778,
             "#fb9f3a"
            ],
            [
             0.8888888888888888,
             "#fdca26"
            ],
            [
             1,
             "#f0f921"
            ]
           ],
           "sequentialminus": [
            [
             0,
             "#0d0887"
            ],
            [
             0.1111111111111111,
             "#46039f"
            ],
            [
             0.2222222222222222,
             "#7201a8"
            ],
            [
             0.3333333333333333,
             "#9c179e"
            ],
            [
             0.4444444444444444,
             "#bd3786"
            ],
            [
             0.5555555555555556,
             "#d8576b"
            ],
            [
             0.6666666666666666,
             "#ed7953"
            ],
            [
             0.7777777777777778,
             "#fb9f3a"
            ],
            [
             0.8888888888888888,
             "#fdca26"
            ],
            [
             1,
             "#f0f921"
            ]
           ]
          },
          "colorway": [
           "#636efa",
           "#EF553B",
           "#00cc96",
           "#ab63fa",
           "#FFA15A",
           "#19d3f3",
           "#FF6692",
           "#B6E880",
           "#FF97FF",
           "#FECB52"
          ],
          "font": {
           "color": "#2a3f5f"
          },
          "geo": {
           "bgcolor": "white",
           "lakecolor": "white",
           "landcolor": "#E5ECF6",
           "showlakes": true,
           "showland": true,
           "subunitcolor": "white"
          },
          "hoverlabel": {
           "align": "left"
          },
          "hovermode": "closest",
          "mapbox": {
           "style": "light"
          },
          "paper_bgcolor": "white",
          "plot_bgcolor": "#E5ECF6",
          "polar": {
           "angularaxis": {
            "gridcolor": "white",
            "linecolor": "white",
            "ticks": ""
           },
           "bgcolor": "#E5ECF6",
           "radialaxis": {
            "gridcolor": "white",
            "linecolor": "white",
            "ticks": ""
           }
          },
          "scene": {
           "xaxis": {
            "backgroundcolor": "#E5ECF6",
            "gridcolor": "white",
            "gridwidth": 2,
            "linecolor": "white",
            "showbackground": true,
            "ticks": "",
            "zerolinecolor": "white"
           },
           "yaxis": {
            "backgroundcolor": "#E5ECF6",
            "gridcolor": "white",
            "gridwidth": 2,
            "linecolor": "white",
            "showbackground": true,
            "ticks": "",
            "zerolinecolor": "white"
           },
           "zaxis": {
            "backgroundcolor": "#E5ECF6",
            "gridcolor": "white",
            "gridwidth": 2,
            "linecolor": "white",
            "showbackground": true,
            "ticks": "",
            "zerolinecolor": "white"
           }
          },
          "shapedefaults": {
           "line": {
            "color": "#2a3f5f"
           }
          },
          "ternary": {
           "aaxis": {
            "gridcolor": "white",
            "linecolor": "white",
            "ticks": ""
           },
           "baxis": {
            "gridcolor": "white",
            "linecolor": "white",
            "ticks": ""
           },
           "bgcolor": "#E5ECF6",
           "caxis": {
            "gridcolor": "white",
            "linecolor": "white",
            "ticks": ""
           }
          },
          "title": {
           "x": 0.05
          },
          "xaxis": {
           "automargin": true,
           "gridcolor": "white",
           "linecolor": "white",
           "ticks": "",
           "title": {
            "standoff": 15
           },
           "zerolinecolor": "white",
           "zerolinewidth": 2
          },
          "yaxis": {
           "automargin": true,
           "gridcolor": "white",
           "linecolor": "white",
           "ticks": "",
           "title": {
            "standoff": 15
           },
           "zerolinecolor": "white",
           "zerolinewidth": 2
          }
         }
        },
        "title": {
         "font": {
          "color": "#4D5663"
         },
         "text": "Foreign language speakers in 2010 and 2019"
        },
        "xaxis": {
         "gridcolor": "#E1E5ED",
         "showgrid": true,
         "tickfont": {
          "color": "#4D5663"
         },
         "title": {
          "font": {
           "color": "#4D5663"
          },
          "text": ""
         },
         "zerolinecolor": "#E1E5ED"
        },
        "yaxis": {
         "gridcolor": "#E1E5ED",
         "showgrid": true,
         "tickfont": {
          "color": "#4D5663"
         },
         "title": {
          "font": {
           "color": "#4D5663"
          },
          "text": ""
         },
         "zerolinecolor": "#E1E5ED"
        }
       }
      },
      "text/html": [
       "<div>                            <div id=\"8d6b83ae-ce2f-4a9b-aa7f-2243c4f4232d\" class=\"plotly-graph-div\" style=\"height:525px; width:100%;\"></div>            <script type=\"text/javascript\">                require([\"plotly\"], function(Plotly) {                    window.PLOTLYENV=window.PLOTLYENV || {};\n",
       "                    window.PLOTLYENV.BASE_URL='https://plot.ly';                                    if (document.getElementById(\"8d6b83ae-ce2f-4a9b-aa7f-2243c4f4232d\")) {                    Plotly.newPlot(                        \"8d6b83ae-ce2f-4a9b-aa7f-2243c4f4232d\",                        [{\"line\": {\"color\": \"rgba(255, 153, 51, 1.0)\", \"dash\": \"solid\", \"shape\": \"linear\", \"width\": 1.3}, \"mode\": \"lines\", \"name\": \"2010\", \"text\": \"\", \"type\": \"scatter\", \"x\": [\"MA1 MAINLAND FINLAND\", \"MA2 \\u00c5LAND\", \"MK01 Uusimaa\", \"MK02 Southwest\", \"MK04 Satakunta\", \"MK05 Kanta-H\\u00e4me\", \"MK06\", \"MK07 P\\u00e4ij\\u00e4t-H\\u00e4me\", \"MK08 Kymenlaakso\", \"MK09 South Karelia\", \"MK10 South Savo\", \"MK11 North Savo\", \"MK12 North Karelia\", \"MK13\", \"MK14 South Ostrobothnia\", \"MK15 Ostrobothnia\", \"MK16\", \"MK17 North Ostrobothnia\", \"MK18 Kainuu\", \"MK19 Lapland\", \"MK21 \\u00c5land\"], \"y\": [0, 0, 122102, 20606, 3653, 3805, 15583, 6488, 7093, 4883, 3069, 4073, 3953, 5743, 2332, 7100, 1154, 6517, 1605, 3167, 1462]}, {\"line\": {\"color\": \"rgba(55, 128, 191, 1.0)\", \"dash\": \"solid\", \"shape\": \"linear\", \"width\": 1.3}, \"mode\": \"lines\", \"name\": \"2019\", \"text\": \"\", \"type\": \"scatter\", \"x\": [\"MA1 MAINLAND FINLAND\", \"MA2 \\u00c5LAND\", \"MK01 Uusimaa\", \"MK02 Southwest\", \"MK04 Satakunta\", \"MK05 Kanta-H\\u00e4me\", \"MK06\", \"MK07 P\\u00e4ij\\u00e4t-H\\u00e4me\", \"MK08 Kymenlaakso\", \"MK09 South Karelia\", \"MK10 South Savo\", \"MK11 North Savo\", \"MK12 North Karelia\", \"MK13\", \"MK14 South Ostrobothnia\", \"MK15 Ostrobothnia\", \"MK16\", \"MK17 North Ostrobothnia\", \"MK18 Kainuu\", \"MK19 Lapland\", \"MK21 \\u00c5land\"], \"y\": [0, 0, 236959, 35809, 7927, 7221, 26166, 10994, 10180, 8092, 4862, 7506, 6249, 9531, 4344, 12665, 2038, 12358, 2090, 5032, 2621]}],                        {\"legend\": {\"bgcolor\": \"#F5F6F9\", \"font\": {\"color\": \"#4D5663\"}}, \"paper_bgcolor\": \"#F5F6F9\", \"plot_bgcolor\": \"#F5F6F9\", \"template\": {\"data\": {\"bar\": [{\"error_x\": {\"color\": \"#2a3f5f\"}, \"error_y\": {\"color\": \"#2a3f5f\"}, \"marker\": {\"line\": {\"color\": \"#E5ECF6\", \"width\": 0.5}}, \"type\": \"bar\"}], \"barpolar\": [{\"marker\": {\"line\": {\"color\": \"#E5ECF6\", \"width\": 0.5}}, \"type\": \"barpolar\"}], \"carpet\": [{\"aaxis\": {\"endlinecolor\": \"#2a3f5f\", \"gridcolor\": \"white\", \"linecolor\": \"white\", \"minorgridcolor\": \"white\", \"startlinecolor\": \"#2a3f5f\"}, \"baxis\": {\"endlinecolor\": \"#2a3f5f\", \"gridcolor\": \"white\", \"linecolor\": \"white\", \"minorgridcolor\": \"white\", \"startlinecolor\": \"#2a3f5f\"}, \"type\": \"carpet\"}], \"choropleth\": [{\"colorbar\": {\"outlinewidth\": 0, \"ticks\": \"\"}, \"type\": \"choropleth\"}], \"contour\": [{\"colorbar\": {\"outlinewidth\": 0, \"ticks\": \"\"}, \"colorscale\": [[0.0, \"#0d0887\"], [0.1111111111111111, \"#46039f\"], [0.2222222222222222, \"#7201a8\"], [0.3333333333333333, \"#9c179e\"], [0.4444444444444444, \"#bd3786\"], [0.5555555555555556, \"#d8576b\"], [0.6666666666666666, \"#ed7953\"], [0.7777777777777778, \"#fb9f3a\"], [0.8888888888888888, \"#fdca26\"], [1.0, \"#f0f921\"]], \"type\": \"contour\"}], \"contourcarpet\": [{\"colorbar\": {\"outlinewidth\": 0, \"ticks\": \"\"}, \"type\": \"contourcarpet\"}], \"heatmap\": [{\"colorbar\": {\"outlinewidth\": 0, \"ticks\": \"\"}, \"colorscale\": [[0.0, \"#0d0887\"], [0.1111111111111111, \"#46039f\"], [0.2222222222222222, \"#7201a8\"], [0.3333333333333333, \"#9c179e\"], [0.4444444444444444, \"#bd3786\"], [0.5555555555555556, \"#d8576b\"], [0.6666666666666666, \"#ed7953\"], [0.7777777777777778, \"#fb9f3a\"], [0.8888888888888888, \"#fdca26\"], [1.0, \"#f0f921\"]], \"type\": \"heatmap\"}], \"heatmapgl\": [{\"colorbar\": {\"outlinewidth\": 0, \"ticks\": \"\"}, \"colorscale\": [[0.0, \"#0d0887\"], [0.1111111111111111, \"#46039f\"], [0.2222222222222222, \"#7201a8\"], [0.3333333333333333, \"#9c179e\"], [0.4444444444444444, \"#bd3786\"], [0.5555555555555556, \"#d8576b\"], [0.6666666666666666, \"#ed7953\"], [0.7777777777777778, \"#fb9f3a\"], [0.8888888888888888, \"#fdca26\"], [1.0, \"#f0f921\"]], \"type\": \"heatmapgl\"}], \"histogram\": [{\"marker\": {\"colorbar\": {\"outlinewidth\": 0, \"ticks\": \"\"}}, \"type\": \"histogram\"}], \"histogram2d\": [{\"colorbar\": {\"outlinewidth\": 0, \"ticks\": \"\"}, \"colorscale\": [[0.0, \"#0d0887\"], [0.1111111111111111, \"#46039f\"], [0.2222222222222222, \"#7201a8\"], [0.3333333333333333, \"#9c179e\"], [0.4444444444444444, \"#bd3786\"], [0.5555555555555556, \"#d8576b\"], [0.6666666666666666, \"#ed7953\"], [0.7777777777777778, \"#fb9f3a\"], [0.8888888888888888, \"#fdca26\"], [1.0, \"#f0f921\"]], \"type\": \"histogram2d\"}], \"histogram2dcontour\": [{\"colorbar\": {\"outlinewidth\": 0, \"ticks\": \"\"}, \"colorscale\": [[0.0, \"#0d0887\"], [0.1111111111111111, \"#46039f\"], [0.2222222222222222, \"#7201a8\"], [0.3333333333333333, \"#9c179e\"], [0.4444444444444444, \"#bd3786\"], [0.5555555555555556, \"#d8576b\"], [0.6666666666666666, \"#ed7953\"], [0.7777777777777778, \"#fb9f3a\"], [0.8888888888888888, \"#fdca26\"], [1.0, \"#f0f921\"]], \"type\": \"histogram2dcontour\"}], \"mesh3d\": [{\"colorbar\": {\"outlinewidth\": 0, \"ticks\": \"\"}, \"type\": \"mesh3d\"}], \"parcoords\": [{\"line\": {\"colorbar\": {\"outlinewidth\": 0, \"ticks\": \"\"}}, \"type\": \"parcoords\"}], \"pie\": [{\"automargin\": true, \"type\": \"pie\"}], \"scatter\": [{\"marker\": {\"colorbar\": {\"outlinewidth\": 0, \"ticks\": \"\"}}, \"type\": \"scatter\"}], \"scatter3d\": [{\"line\": {\"colorbar\": {\"outlinewidth\": 0, \"ticks\": \"\"}}, \"marker\": {\"colorbar\": {\"outlinewidth\": 0, \"ticks\": \"\"}}, \"type\": \"scatter3d\"}], \"scattercarpet\": [{\"marker\": {\"colorbar\": {\"outlinewidth\": 0, \"ticks\": \"\"}}, \"type\": \"scattercarpet\"}], \"scattergeo\": [{\"marker\": {\"colorbar\": {\"outlinewidth\": 0, \"ticks\": \"\"}}, \"type\": \"scattergeo\"}], \"scattergl\": [{\"marker\": {\"colorbar\": {\"outlinewidth\": 0, \"ticks\": \"\"}}, \"type\": \"scattergl\"}], \"scattermapbox\": [{\"marker\": {\"colorbar\": {\"outlinewidth\": 0, \"ticks\": \"\"}}, \"type\": \"scattermapbox\"}], \"scatterpolar\": [{\"marker\": {\"colorbar\": {\"outlinewidth\": 0, \"ticks\": \"\"}}, \"type\": \"scatterpolar\"}], \"scatterpolargl\": [{\"marker\": {\"colorbar\": {\"outlinewidth\": 0, \"ticks\": \"\"}}, \"type\": \"scatterpolargl\"}], \"scatterternary\": [{\"marker\": {\"colorbar\": {\"outlinewidth\": 0, \"ticks\": \"\"}}, \"type\": \"scatterternary\"}], \"surface\": [{\"colorbar\": {\"outlinewidth\": 0, \"ticks\": \"\"}, \"colorscale\": [[0.0, \"#0d0887\"], [0.1111111111111111, \"#46039f\"], [0.2222222222222222, \"#7201a8\"], [0.3333333333333333, \"#9c179e\"], [0.4444444444444444, \"#bd3786\"], [0.5555555555555556, \"#d8576b\"], [0.6666666666666666, \"#ed7953\"], [0.7777777777777778, \"#fb9f3a\"], [0.8888888888888888, \"#fdca26\"], [1.0, \"#f0f921\"]], \"type\": \"surface\"}], \"table\": [{\"cells\": {\"fill\": {\"color\": \"#EBF0F8\"}, \"line\": {\"color\": \"white\"}}, \"header\": {\"fill\": {\"color\": \"#C8D4E3\"}, \"line\": {\"color\": \"white\"}}, \"type\": \"table\"}]}, \"layout\": {\"annotationdefaults\": {\"arrowcolor\": \"#2a3f5f\", \"arrowhead\": 0, \"arrowwidth\": 1}, \"coloraxis\": {\"colorbar\": {\"outlinewidth\": 0, \"ticks\": \"\"}}, \"colorscale\": {\"diverging\": [[0, \"#8e0152\"], [0.1, \"#c51b7d\"], [0.2, \"#de77ae\"], [0.3, \"#f1b6da\"], [0.4, \"#fde0ef\"], [0.5, \"#f7f7f7\"], [0.6, \"#e6f5d0\"], [0.7, \"#b8e186\"], [0.8, \"#7fbc41\"], [0.9, \"#4d9221\"], [1, \"#276419\"]], \"sequential\": [[0.0, \"#0d0887\"], [0.1111111111111111, \"#46039f\"], [0.2222222222222222, \"#7201a8\"], [0.3333333333333333, \"#9c179e\"], [0.4444444444444444, \"#bd3786\"], [0.5555555555555556, \"#d8576b\"], [0.6666666666666666, \"#ed7953\"], [0.7777777777777778, \"#fb9f3a\"], [0.8888888888888888, \"#fdca26\"], [1.0, \"#f0f921\"]], \"sequentialminus\": [[0.0, \"#0d0887\"], [0.1111111111111111, \"#46039f\"], [0.2222222222222222, \"#7201a8\"], [0.3333333333333333, \"#9c179e\"], [0.4444444444444444, \"#bd3786\"], [0.5555555555555556, \"#d8576b\"], [0.6666666666666666, \"#ed7953\"], [0.7777777777777778, \"#fb9f3a\"], [0.8888888888888888, \"#fdca26\"], [1.0, \"#f0f921\"]]}, \"colorway\": [\"#636efa\", \"#EF553B\", \"#00cc96\", \"#ab63fa\", \"#FFA15A\", \"#19d3f3\", \"#FF6692\", \"#B6E880\", \"#FF97FF\", \"#FECB52\"], \"font\": {\"color\": \"#2a3f5f\"}, \"geo\": {\"bgcolor\": \"white\", \"lakecolor\": \"white\", \"landcolor\": \"#E5ECF6\", \"showlakes\": true, \"showland\": true, \"subunitcolor\": \"white\"}, \"hoverlabel\": {\"align\": \"left\"}, \"hovermode\": \"closest\", \"mapbox\": {\"style\": \"light\"}, \"paper_bgcolor\": \"white\", \"plot_bgcolor\": \"#E5ECF6\", \"polar\": {\"angularaxis\": {\"gridcolor\": \"white\", \"linecolor\": \"white\", \"ticks\": \"\"}, \"bgcolor\": \"#E5ECF6\", \"radialaxis\": {\"gridcolor\": \"white\", \"linecolor\": \"white\", \"ticks\": \"\"}}, \"scene\": {\"xaxis\": {\"backgroundcolor\": \"#E5ECF6\", \"gridcolor\": \"white\", \"gridwidth\": 2, \"linecolor\": \"white\", \"showbackground\": true, \"ticks\": \"\", \"zerolinecolor\": \"white\"}, \"yaxis\": {\"backgroundcolor\": \"#E5ECF6\", \"gridcolor\": \"white\", \"gridwidth\": 2, \"linecolor\": \"white\", \"showbackground\": true, \"ticks\": \"\", \"zerolinecolor\": \"white\"}, \"zaxis\": {\"backgroundcolor\": \"#E5ECF6\", \"gridcolor\": \"white\", \"gridwidth\": 2, \"linecolor\": \"white\", \"showbackground\": true, \"ticks\": \"\", \"zerolinecolor\": \"white\"}}, \"shapedefaults\": {\"line\": {\"color\": \"#2a3f5f\"}}, \"ternary\": {\"aaxis\": {\"gridcolor\": \"white\", \"linecolor\": \"white\", \"ticks\": \"\"}, \"baxis\": {\"gridcolor\": \"white\", \"linecolor\": \"white\", \"ticks\": \"\"}, \"bgcolor\": \"#E5ECF6\", \"caxis\": {\"gridcolor\": \"white\", \"linecolor\": \"white\", \"ticks\": \"\"}}, \"title\": {\"x\": 0.05}, \"xaxis\": {\"automargin\": true, \"gridcolor\": \"white\", \"linecolor\": \"white\", \"ticks\": \"\", \"title\": {\"standoff\": 15}, \"zerolinecolor\": \"white\", \"zerolinewidth\": 2}, \"yaxis\": {\"automargin\": true, \"gridcolor\": \"white\", \"linecolor\": \"white\", \"ticks\": \"\", \"title\": {\"standoff\": 15}, \"zerolinecolor\": \"white\", \"zerolinewidth\": 2}}}, \"title\": {\"font\": {\"color\": \"#4D5663\"}, \"text\": \"Foreign language speakers in 2010 and 2019\"}, \"xaxis\": {\"gridcolor\": \"#E1E5ED\", \"showgrid\": true, \"tickfont\": {\"color\": \"#4D5663\"}, \"title\": {\"font\": {\"color\": \"#4D5663\"}, \"text\": \"\"}, \"zerolinecolor\": \"#E1E5ED\"}, \"yaxis\": {\"gridcolor\": \"#E1E5ED\", \"showgrid\": true, \"tickfont\": {\"color\": \"#4D5663\"}, \"title\": {\"font\": {\"color\": \"#4D5663\"}, \"text\": \"\"}, \"zerolinecolor\": \"#E1E5ED\"}},                        {\"showLink\": true, \"linkText\": \"Export to plot.ly\", \"plotlyServerURL\": \"https://plot.ly\", \"responsive\": true}                    ).then(function(){\n",
       "                            \n",
       "var gd = document.getElementById('8d6b83ae-ce2f-4a9b-aa7f-2243c4f4232d');\n",
       "var x = new MutationObserver(function (mutations, observer) {{\n",
       "        var display = window.getComputedStyle(gd).display;\n",
       "        if (!display || display === 'none') {{\n",
       "            console.log([gd, 'removed!']);\n",
       "            Plotly.purge(gd);\n",
       "            observer.disconnect();\n",
       "        }}\n",
       "}});\n",
       "\n",
       "// Listen for the removal of the full notebook cells\n",
       "var notebookContainer = gd.closest('#notebook-container');\n",
       "if (notebookContainer) {{\n",
       "    x.observe(notebookContainer, {childList: true});\n",
       "}}\n",
       "\n",
       "// Listen for the clearing of the current output cell\n",
       "var outputEl = gd.closest('.output');\n",
       "if (outputEl) {{\n",
       "    x.observe(outputEl, {childList: true});\n",
       "}}\n",
       "\n",
       "                        })                };                });            </script>        </div>"
      ]
     },
     "metadata": {},
     "output_type": "display_data"
    }
   ],
   "source": [
    "x1=grouped[grouped['Attribute']=='Foreign-language speakers'].reset_index().drop(21).drop(columns=\"index\")\n",
    "x1[[2010,2019,\"Region\"]].iplot(kind='line',x=\"Region\",title=\"Foreign language speakers in 2010 and 2019\")"
   ]
  },
  {
   "cell_type": "markdown",
   "metadata": {},
   "source": [
    " <i> We have grouped this data according to foreign-language speaker for the year 2010 and 2019 to see the change. Here, we can see that Uusimaa region's foreign language speakers data have more than doubled in the last 10 years and few other regions like Southwest, Kanta-Häme have also significant increment in the data. This suggests that along with Finnish language English language is also being accepted in those part of the country. Also all other regions also have increment in this value and foreign language speaker is only the data that have increased out of all the attribute throuthout the whole country i.e, why we choose to analyse this data.</i>"
   ]
  },
  {
   "cell_type": "code",
   "execution_count": 766,
   "metadata": {
    "ExecuteTime": {
     "end_time": "2020-12-14T23:02:37.610461Z",
     "start_time": "2020-12-14T23:02:37.603325Z"
    }
   },
   "outputs": [
    {
     "data": {
      "text/plain": [
       "array(['WHOLE COUNTRY', 'MA1 MAINLAND FINLAND', 'MK01 Uusimaa',\n",
       "       'MK02 Southwest', 'MK04 Satakunta', 'MK05 Kanta-Häme', 'MK06',\n",
       "       'MK07 Päijät-Häme', 'MK08 Kymenlaakso', 'MK09 South Karelia',\n",
       "       'MK10 South Savo', 'MK11 North Savo', 'MK12 North Karelia', 'MK13',\n",
       "       'MK14 South Ostrobothnia', 'MK15 Ostrobothnia', 'MK16',\n",
       "       'MK17 North Ostrobothnia', 'MK18 Kainuu', 'MK19 Lapland',\n",
       "       'MA2 ÅLAND', 'MK21 Åland'], dtype=object)"
      ]
     },
     "execution_count": 766,
     "metadata": {},
     "output_type": "execute_result"
    }
   ],
   "source": [
    "data2.Region.unique()"
   ]
  },
  {
   "cell_type": "markdown",
   "metadata": {},
   "source": [
    "Using loc[ ] to see the citizens of foreign countries for Uusimaa region for all the years."
   ]
  },
  {
   "cell_type": "code",
   "execution_count": 776,
   "metadata": {
    "ExecuteTime": {
     "end_time": "2020-12-14T23:08:30.553831Z",
     "start_time": "2020-12-14T23:08:30.482253Z"
    }
   },
   "outputs": [
    {
     "data": {
      "application/vnd.plotly.v1+json": {
       "config": {
        "linkText": "Export to plot.ly",
        "plotlyServerURL": "https://plot.ly",
        "showLink": true
       },
       "data": [
        {
         "line": {
          "color": "rgba(255, 153, 51, 1.0)",
          "dash": "solid",
          "shape": "linear",
          "width": 1.3
         },
         "mode": "lines",
         "name": "2019",
         "text": "",
         "type": "scatter",
         "x": [
          "MA1 MAINLAND FINLAND",
          "MA2 ÅLAND",
          "MK01 Uusimaa",
          "MK02 Southwest",
          "MK04 Satakunta",
          "MK05 Kanta-Häme",
          "MK06",
          "MK07 Päijät-Häme",
          "MK08 Kymenlaakso",
          "MK09 South Karelia",
          "MK10 South Savo",
          "MK11 North Savo",
          "MK12 North Karelia",
          "MK13",
          "MK14 South Ostrobothnia",
          "MK15 Ostrobothnia",
          "MK16",
          "MK17 North Ostrobothnia",
          "MK18 Kainuu",
          "MK19 Lapland",
          "MK21 Åland",
          "WHOLE COUNTRY"
         ],
         "y": [
          0,
          0,
          149253,
          21913,
          6280,
          5118,
          16329,
          7134,
          6270,
          4785,
          3180,
          5050,
          3909,
          6309,
          3344,
          9634,
          1447,
          8908,
          1357,
          3988,
          3421,
          267629
         ]
        }
       ],
       "layout": {
        "legend": {
         "bgcolor": "#F5F6F9",
         "font": {
          "color": "#4D5663"
         }
        },
        "paper_bgcolor": "#F5F6F9",
        "plot_bgcolor": "#F5F6F9",
        "template": {
         "data": {
          "bar": [
           {
            "error_x": {
             "color": "#2a3f5f"
            },
            "error_y": {
             "color": "#2a3f5f"
            },
            "marker": {
             "line": {
              "color": "#E5ECF6",
              "width": 0.5
             }
            },
            "type": "bar"
           }
          ],
          "barpolar": [
           {
            "marker": {
             "line": {
              "color": "#E5ECF6",
              "width": 0.5
             }
            },
            "type": "barpolar"
           }
          ],
          "carpet": [
           {
            "aaxis": {
             "endlinecolor": "#2a3f5f",
             "gridcolor": "white",
             "linecolor": "white",
             "minorgridcolor": "white",
             "startlinecolor": "#2a3f5f"
            },
            "baxis": {
             "endlinecolor": "#2a3f5f",
             "gridcolor": "white",
             "linecolor": "white",
             "minorgridcolor": "white",
             "startlinecolor": "#2a3f5f"
            },
            "type": "carpet"
           }
          ],
          "choropleth": [
           {
            "colorbar": {
             "outlinewidth": 0,
             "ticks": ""
            },
            "type": "choropleth"
           }
          ],
          "contour": [
           {
            "colorbar": {
             "outlinewidth": 0,
             "ticks": ""
            },
            "colorscale": [
             [
              0,
              "#0d0887"
             ],
             [
              0.1111111111111111,
              "#46039f"
             ],
             [
              0.2222222222222222,
              "#7201a8"
             ],
             [
              0.3333333333333333,
              "#9c179e"
             ],
             [
              0.4444444444444444,
              "#bd3786"
             ],
             [
              0.5555555555555556,
              "#d8576b"
             ],
             [
              0.6666666666666666,
              "#ed7953"
             ],
             [
              0.7777777777777778,
              "#fb9f3a"
             ],
             [
              0.8888888888888888,
              "#fdca26"
             ],
             [
              1,
              "#f0f921"
             ]
            ],
            "type": "contour"
           }
          ],
          "contourcarpet": [
           {
            "colorbar": {
             "outlinewidth": 0,
             "ticks": ""
            },
            "type": "contourcarpet"
           }
          ],
          "heatmap": [
           {
            "colorbar": {
             "outlinewidth": 0,
             "ticks": ""
            },
            "colorscale": [
             [
              0,
              "#0d0887"
             ],
             [
              0.1111111111111111,
              "#46039f"
             ],
             [
              0.2222222222222222,
              "#7201a8"
             ],
             [
              0.3333333333333333,
              "#9c179e"
             ],
             [
              0.4444444444444444,
              "#bd3786"
             ],
             [
              0.5555555555555556,
              "#d8576b"
             ],
             [
              0.6666666666666666,
              "#ed7953"
             ],
             [
              0.7777777777777778,
              "#fb9f3a"
             ],
             [
              0.8888888888888888,
              "#fdca26"
             ],
             [
              1,
              "#f0f921"
             ]
            ],
            "type": "heatmap"
           }
          ],
          "heatmapgl": [
           {
            "colorbar": {
             "outlinewidth": 0,
             "ticks": ""
            },
            "colorscale": [
             [
              0,
              "#0d0887"
             ],
             [
              0.1111111111111111,
              "#46039f"
             ],
             [
              0.2222222222222222,
              "#7201a8"
             ],
             [
              0.3333333333333333,
              "#9c179e"
             ],
             [
              0.4444444444444444,
              "#bd3786"
             ],
             [
              0.5555555555555556,
              "#d8576b"
             ],
             [
              0.6666666666666666,
              "#ed7953"
             ],
             [
              0.7777777777777778,
              "#fb9f3a"
             ],
             [
              0.8888888888888888,
              "#fdca26"
             ],
             [
              1,
              "#f0f921"
             ]
            ],
            "type": "heatmapgl"
           }
          ],
          "histogram": [
           {
            "marker": {
             "colorbar": {
              "outlinewidth": 0,
              "ticks": ""
             }
            },
            "type": "histogram"
           }
          ],
          "histogram2d": [
           {
            "colorbar": {
             "outlinewidth": 0,
             "ticks": ""
            },
            "colorscale": [
             [
              0,
              "#0d0887"
             ],
             [
              0.1111111111111111,
              "#46039f"
             ],
             [
              0.2222222222222222,
              "#7201a8"
             ],
             [
              0.3333333333333333,
              "#9c179e"
             ],
             [
              0.4444444444444444,
              "#bd3786"
             ],
             [
              0.5555555555555556,
              "#d8576b"
             ],
             [
              0.6666666666666666,
              "#ed7953"
             ],
             [
              0.7777777777777778,
              "#fb9f3a"
             ],
             [
              0.8888888888888888,
              "#fdca26"
             ],
             [
              1,
              "#f0f921"
             ]
            ],
            "type": "histogram2d"
           }
          ],
          "histogram2dcontour": [
           {
            "colorbar": {
             "outlinewidth": 0,
             "ticks": ""
            },
            "colorscale": [
             [
              0,
              "#0d0887"
             ],
             [
              0.1111111111111111,
              "#46039f"
             ],
             [
              0.2222222222222222,
              "#7201a8"
             ],
             [
              0.3333333333333333,
              "#9c179e"
             ],
             [
              0.4444444444444444,
              "#bd3786"
             ],
             [
              0.5555555555555556,
              "#d8576b"
             ],
             [
              0.6666666666666666,
              "#ed7953"
             ],
             [
              0.7777777777777778,
              "#fb9f3a"
             ],
             [
              0.8888888888888888,
              "#fdca26"
             ],
             [
              1,
              "#f0f921"
             ]
            ],
            "type": "histogram2dcontour"
           }
          ],
          "mesh3d": [
           {
            "colorbar": {
             "outlinewidth": 0,
             "ticks": ""
            },
            "type": "mesh3d"
           }
          ],
          "parcoords": [
           {
            "line": {
             "colorbar": {
              "outlinewidth": 0,
              "ticks": ""
             }
            },
            "type": "parcoords"
           }
          ],
          "pie": [
           {
            "automargin": true,
            "type": "pie"
           }
          ],
          "scatter": [
           {
            "marker": {
             "colorbar": {
              "outlinewidth": 0,
              "ticks": ""
             }
            },
            "type": "scatter"
           }
          ],
          "scatter3d": [
           {
            "line": {
             "colorbar": {
              "outlinewidth": 0,
              "ticks": ""
             }
            },
            "marker": {
             "colorbar": {
              "outlinewidth": 0,
              "ticks": ""
             }
            },
            "type": "scatter3d"
           }
          ],
          "scattercarpet": [
           {
            "marker": {
             "colorbar": {
              "outlinewidth": 0,
              "ticks": ""
             }
            },
            "type": "scattercarpet"
           }
          ],
          "scattergeo": [
           {
            "marker": {
             "colorbar": {
              "outlinewidth": 0,
              "ticks": ""
             }
            },
            "type": "scattergeo"
           }
          ],
          "scattergl": [
           {
            "marker": {
             "colorbar": {
              "outlinewidth": 0,
              "ticks": ""
             }
            },
            "type": "scattergl"
           }
          ],
          "scattermapbox": [
           {
            "marker": {
             "colorbar": {
              "outlinewidth": 0,
              "ticks": ""
             }
            },
            "type": "scattermapbox"
           }
          ],
          "scatterpolar": [
           {
            "marker": {
             "colorbar": {
              "outlinewidth": 0,
              "ticks": ""
             }
            },
            "type": "scatterpolar"
           }
          ],
          "scatterpolargl": [
           {
            "marker": {
             "colorbar": {
              "outlinewidth": 0,
              "ticks": ""
             }
            },
            "type": "scatterpolargl"
           }
          ],
          "scatterternary": [
           {
            "marker": {
             "colorbar": {
              "outlinewidth": 0,
              "ticks": ""
             }
            },
            "type": "scatterternary"
           }
          ],
          "surface": [
           {
            "colorbar": {
             "outlinewidth": 0,
             "ticks": ""
            },
            "colorscale": [
             [
              0,
              "#0d0887"
             ],
             [
              0.1111111111111111,
              "#46039f"
             ],
             [
              0.2222222222222222,
              "#7201a8"
             ],
             [
              0.3333333333333333,
              "#9c179e"
             ],
             [
              0.4444444444444444,
              "#bd3786"
             ],
             [
              0.5555555555555556,
              "#d8576b"
             ],
             [
              0.6666666666666666,
              "#ed7953"
             ],
             [
              0.7777777777777778,
              "#fb9f3a"
             ],
             [
              0.8888888888888888,
              "#fdca26"
             ],
             [
              1,
              "#f0f921"
             ]
            ],
            "type": "surface"
           }
          ],
          "table": [
           {
            "cells": {
             "fill": {
              "color": "#EBF0F8"
             },
             "line": {
              "color": "white"
             }
            },
            "header": {
             "fill": {
              "color": "#C8D4E3"
             },
             "line": {
              "color": "white"
             }
            },
            "type": "table"
           }
          ]
         },
         "layout": {
          "annotationdefaults": {
           "arrowcolor": "#2a3f5f",
           "arrowhead": 0,
           "arrowwidth": 1
          },
          "coloraxis": {
           "colorbar": {
            "outlinewidth": 0,
            "ticks": ""
           }
          },
          "colorscale": {
           "diverging": [
            [
             0,
             "#8e0152"
            ],
            [
             0.1,
             "#c51b7d"
            ],
            [
             0.2,
             "#de77ae"
            ],
            [
             0.3,
             "#f1b6da"
            ],
            [
             0.4,
             "#fde0ef"
            ],
            [
             0.5,
             "#f7f7f7"
            ],
            [
             0.6,
             "#e6f5d0"
            ],
            [
             0.7,
             "#b8e186"
            ],
            [
             0.8,
             "#7fbc41"
            ],
            [
             0.9,
             "#4d9221"
            ],
            [
             1,
             "#276419"
            ]
           ],
           "sequential": [
            [
             0,
             "#0d0887"
            ],
            [
             0.1111111111111111,
             "#46039f"
            ],
            [
             0.2222222222222222,
             "#7201a8"
            ],
            [
             0.3333333333333333,
             "#9c179e"
            ],
            [
             0.4444444444444444,
             "#bd3786"
            ],
            [
             0.5555555555555556,
             "#d8576b"
            ],
            [
             0.6666666666666666,
             "#ed7953"
            ],
            [
             0.7777777777777778,
             "#fb9f3a"
            ],
            [
             0.8888888888888888,
             "#fdca26"
            ],
            [
             1,
             "#f0f921"
            ]
           ],
           "sequentialminus": [
            [
             0,
             "#0d0887"
            ],
            [
             0.1111111111111111,
             "#46039f"
            ],
            [
             0.2222222222222222,
             "#7201a8"
            ],
            [
             0.3333333333333333,
             "#9c179e"
            ],
            [
             0.4444444444444444,
             "#bd3786"
            ],
            [
             0.5555555555555556,
             "#d8576b"
            ],
            [
             0.6666666666666666,
             "#ed7953"
            ],
            [
             0.7777777777777778,
             "#fb9f3a"
            ],
            [
             0.8888888888888888,
             "#fdca26"
            ],
            [
             1,
             "#f0f921"
            ]
           ]
          },
          "colorway": [
           "#636efa",
           "#EF553B",
           "#00cc96",
           "#ab63fa",
           "#FFA15A",
           "#19d3f3",
           "#FF6692",
           "#B6E880",
           "#FF97FF",
           "#FECB52"
          ],
          "font": {
           "color": "#2a3f5f"
          },
          "geo": {
           "bgcolor": "white",
           "lakecolor": "white",
           "landcolor": "#E5ECF6",
           "showlakes": true,
           "showland": true,
           "subunitcolor": "white"
          },
          "hoverlabel": {
           "align": "left"
          },
          "hovermode": "closest",
          "mapbox": {
           "style": "light"
          },
          "paper_bgcolor": "white",
          "plot_bgcolor": "#E5ECF6",
          "polar": {
           "angularaxis": {
            "gridcolor": "white",
            "linecolor": "white",
            "ticks": ""
           },
           "bgcolor": "#E5ECF6",
           "radialaxis": {
            "gridcolor": "white",
            "linecolor": "white",
            "ticks": ""
           }
          },
          "scene": {
           "xaxis": {
            "backgroundcolor": "#E5ECF6",
            "gridcolor": "white",
            "gridwidth": 2,
            "linecolor": "white",
            "showbackground": true,
            "ticks": "",
            "zerolinecolor": "white"
           },
           "yaxis": {
            "backgroundcolor": "#E5ECF6",
            "gridcolor": "white",
            "gridwidth": 2,
            "linecolor": "white",
            "showbackground": true,
            "ticks": "",
            "zerolinecolor": "white"
           },
           "zaxis": {
            "backgroundcolor": "#E5ECF6",
            "gridcolor": "white",
            "gridwidth": 2,
            "linecolor": "white",
            "showbackground": true,
            "ticks": "",
            "zerolinecolor": "white"
           }
          },
          "shapedefaults": {
           "line": {
            "color": "#2a3f5f"
           }
          },
          "ternary": {
           "aaxis": {
            "gridcolor": "white",
            "linecolor": "white",
            "ticks": ""
           },
           "baxis": {
            "gridcolor": "white",
            "linecolor": "white",
            "ticks": ""
           },
           "bgcolor": "#E5ECF6",
           "caxis": {
            "gridcolor": "white",
            "linecolor": "white",
            "ticks": ""
           }
          },
          "title": {
           "x": 0.05
          },
          "xaxis": {
           "automargin": true,
           "gridcolor": "white",
           "linecolor": "white",
           "ticks": "",
           "title": {
            "standoff": 15
           },
           "zerolinecolor": "white",
           "zerolinewidth": 2
          },
          "yaxis": {
           "automargin": true,
           "gridcolor": "white",
           "linecolor": "white",
           "ticks": "",
           "title": {
            "standoff": 15
           },
           "zerolinecolor": "white",
           "zerolinewidth": 2
          }
         }
        },
        "title": {
         "font": {
          "color": "#4D5663"
         },
         "text": "Citizens of foreign countries"
        },
        "xaxis": {
         "gridcolor": "#E1E5ED",
         "showgrid": true,
         "tickfont": {
          "color": "#4D5663"
         },
         "title": {
          "font": {
           "color": "#4D5663"
          },
          "text": ""
         },
         "zerolinecolor": "#E1E5ED"
        },
        "yaxis": {
         "gridcolor": "#E1E5ED",
         "showgrid": true,
         "tickfont": {
          "color": "#4D5663"
         },
         "title": {
          "font": {
           "color": "#4D5663"
          },
          "text": ""
         },
         "zerolinecolor": "#E1E5ED"
        }
       }
      },
      "text/html": [
       "<div>                            <div id=\"375ed239-1ceb-4e8c-b1fa-d57844b7536d\" class=\"plotly-graph-div\" style=\"height:525px; width:100%;\"></div>            <script type=\"text/javascript\">                require([\"plotly\"], function(Plotly) {                    window.PLOTLYENV=window.PLOTLYENV || {};\n",
       "                    window.PLOTLYENV.BASE_URL='https://plot.ly';                                    if (document.getElementById(\"375ed239-1ceb-4e8c-b1fa-d57844b7536d\")) {                    Plotly.newPlot(                        \"375ed239-1ceb-4e8c-b1fa-d57844b7536d\",                        [{\"line\": {\"color\": \"rgba(255, 153, 51, 1.0)\", \"dash\": \"solid\", \"shape\": \"linear\", \"width\": 1.3}, \"mode\": \"lines\", \"name\": \"2019\", \"text\": \"\", \"type\": \"scatter\", \"x\": [\"MA1 MAINLAND FINLAND\", \"MA2 \\u00c5LAND\", \"MK01 Uusimaa\", \"MK02 Southwest\", \"MK04 Satakunta\", \"MK05 Kanta-H\\u00e4me\", \"MK06\", \"MK07 P\\u00e4ij\\u00e4t-H\\u00e4me\", \"MK08 Kymenlaakso\", \"MK09 South Karelia\", \"MK10 South Savo\", \"MK11 North Savo\", \"MK12 North Karelia\", \"MK13\", \"MK14 South Ostrobothnia\", \"MK15 Ostrobothnia\", \"MK16\", \"MK17 North Ostrobothnia\", \"MK18 Kainuu\", \"MK19 Lapland\", \"MK21 \\u00c5land\", \"WHOLE COUNTRY\"], \"y\": [0, 0, 149253, 21913, 6280, 5118, 16329, 7134, 6270, 4785, 3180, 5050, 3909, 6309, 3344, 9634, 1447, 8908, 1357, 3988, 3421, 267629]}],                        {\"legend\": {\"bgcolor\": \"#F5F6F9\", \"font\": {\"color\": \"#4D5663\"}}, \"paper_bgcolor\": \"#F5F6F9\", \"plot_bgcolor\": \"#F5F6F9\", \"template\": {\"data\": {\"bar\": [{\"error_x\": {\"color\": \"#2a3f5f\"}, \"error_y\": {\"color\": \"#2a3f5f\"}, \"marker\": {\"line\": {\"color\": \"#E5ECF6\", \"width\": 0.5}}, \"type\": \"bar\"}], \"barpolar\": [{\"marker\": {\"line\": {\"color\": \"#E5ECF6\", \"width\": 0.5}}, \"type\": \"barpolar\"}], \"carpet\": [{\"aaxis\": {\"endlinecolor\": \"#2a3f5f\", \"gridcolor\": \"white\", \"linecolor\": \"white\", \"minorgridcolor\": \"white\", \"startlinecolor\": \"#2a3f5f\"}, \"baxis\": {\"endlinecolor\": \"#2a3f5f\", \"gridcolor\": \"white\", \"linecolor\": \"white\", \"minorgridcolor\": \"white\", \"startlinecolor\": \"#2a3f5f\"}, \"type\": \"carpet\"}], \"choropleth\": [{\"colorbar\": {\"outlinewidth\": 0, \"ticks\": \"\"}, \"type\": \"choropleth\"}], \"contour\": [{\"colorbar\": {\"outlinewidth\": 0, \"ticks\": \"\"}, \"colorscale\": [[0.0, \"#0d0887\"], [0.1111111111111111, \"#46039f\"], [0.2222222222222222, \"#7201a8\"], [0.3333333333333333, \"#9c179e\"], [0.4444444444444444, \"#bd3786\"], [0.5555555555555556, \"#d8576b\"], [0.6666666666666666, \"#ed7953\"], [0.7777777777777778, \"#fb9f3a\"], [0.8888888888888888, \"#fdca26\"], [1.0, \"#f0f921\"]], \"type\": \"contour\"}], \"contourcarpet\": [{\"colorbar\": {\"outlinewidth\": 0, \"ticks\": \"\"}, \"type\": \"contourcarpet\"}], \"heatmap\": [{\"colorbar\": {\"outlinewidth\": 0, \"ticks\": \"\"}, \"colorscale\": [[0.0, \"#0d0887\"], [0.1111111111111111, \"#46039f\"], [0.2222222222222222, \"#7201a8\"], [0.3333333333333333, \"#9c179e\"], [0.4444444444444444, \"#bd3786\"], [0.5555555555555556, \"#d8576b\"], [0.6666666666666666, \"#ed7953\"], [0.7777777777777778, \"#fb9f3a\"], [0.8888888888888888, \"#fdca26\"], [1.0, \"#f0f921\"]], \"type\": \"heatmap\"}], \"heatmapgl\": [{\"colorbar\": {\"outlinewidth\": 0, \"ticks\": \"\"}, \"colorscale\": [[0.0, \"#0d0887\"], [0.1111111111111111, \"#46039f\"], [0.2222222222222222, \"#7201a8\"], [0.3333333333333333, \"#9c179e\"], [0.4444444444444444, \"#bd3786\"], [0.5555555555555556, \"#d8576b\"], [0.6666666666666666, \"#ed7953\"], [0.7777777777777778, \"#fb9f3a\"], [0.8888888888888888, \"#fdca26\"], [1.0, \"#f0f921\"]], \"type\": \"heatmapgl\"}], \"histogram\": [{\"marker\": {\"colorbar\": {\"outlinewidth\": 0, \"ticks\": \"\"}}, \"type\": \"histogram\"}], \"histogram2d\": [{\"colorbar\": {\"outlinewidth\": 0, \"ticks\": \"\"}, \"colorscale\": [[0.0, \"#0d0887\"], [0.1111111111111111, \"#46039f\"], [0.2222222222222222, \"#7201a8\"], [0.3333333333333333, \"#9c179e\"], [0.4444444444444444, \"#bd3786\"], [0.5555555555555556, \"#d8576b\"], [0.6666666666666666, \"#ed7953\"], [0.7777777777777778, \"#fb9f3a\"], [0.8888888888888888, \"#fdca26\"], [1.0, \"#f0f921\"]], \"type\": \"histogram2d\"}], \"histogram2dcontour\": [{\"colorbar\": {\"outlinewidth\": 0, \"ticks\": \"\"}, \"colorscale\": [[0.0, \"#0d0887\"], [0.1111111111111111, \"#46039f\"], [0.2222222222222222, \"#7201a8\"], [0.3333333333333333, \"#9c179e\"], [0.4444444444444444, \"#bd3786\"], [0.5555555555555556, \"#d8576b\"], [0.6666666666666666, \"#ed7953\"], [0.7777777777777778, \"#fb9f3a\"], [0.8888888888888888, \"#fdca26\"], [1.0, \"#f0f921\"]], \"type\": \"histogram2dcontour\"}], \"mesh3d\": [{\"colorbar\": {\"outlinewidth\": 0, \"ticks\": \"\"}, \"type\": \"mesh3d\"}], \"parcoords\": [{\"line\": {\"colorbar\": {\"outlinewidth\": 0, \"ticks\": \"\"}}, \"type\": \"parcoords\"}], \"pie\": [{\"automargin\": true, \"type\": \"pie\"}], \"scatter\": [{\"marker\": {\"colorbar\": {\"outlinewidth\": 0, \"ticks\": \"\"}}, \"type\": \"scatter\"}], \"scatter3d\": [{\"line\": {\"colorbar\": {\"outlinewidth\": 0, \"ticks\": \"\"}}, \"marker\": {\"colorbar\": {\"outlinewidth\": 0, \"ticks\": \"\"}}, \"type\": \"scatter3d\"}], \"scattercarpet\": [{\"marker\": {\"colorbar\": {\"outlinewidth\": 0, \"ticks\": \"\"}}, \"type\": \"scattercarpet\"}], \"scattergeo\": [{\"marker\": {\"colorbar\": {\"outlinewidth\": 0, \"ticks\": \"\"}}, \"type\": \"scattergeo\"}], \"scattergl\": [{\"marker\": {\"colorbar\": {\"outlinewidth\": 0, \"ticks\": \"\"}}, \"type\": \"scattergl\"}], \"scattermapbox\": [{\"marker\": {\"colorbar\": {\"outlinewidth\": 0, \"ticks\": \"\"}}, \"type\": \"scattermapbox\"}], \"scatterpolar\": [{\"marker\": {\"colorbar\": {\"outlinewidth\": 0, \"ticks\": \"\"}}, \"type\": \"scatterpolar\"}], \"scatterpolargl\": [{\"marker\": {\"colorbar\": {\"outlinewidth\": 0, \"ticks\": \"\"}}, \"type\": \"scatterpolargl\"}], \"scatterternary\": [{\"marker\": {\"colorbar\": {\"outlinewidth\": 0, \"ticks\": \"\"}}, \"type\": \"scatterternary\"}], \"surface\": [{\"colorbar\": {\"outlinewidth\": 0, \"ticks\": \"\"}, \"colorscale\": [[0.0, \"#0d0887\"], [0.1111111111111111, \"#46039f\"], [0.2222222222222222, \"#7201a8\"], [0.3333333333333333, \"#9c179e\"], [0.4444444444444444, \"#bd3786\"], [0.5555555555555556, \"#d8576b\"], [0.6666666666666666, \"#ed7953\"], [0.7777777777777778, \"#fb9f3a\"], [0.8888888888888888, \"#fdca26\"], [1.0, \"#f0f921\"]], \"type\": \"surface\"}], \"table\": [{\"cells\": {\"fill\": {\"color\": \"#EBF0F8\"}, \"line\": {\"color\": \"white\"}}, \"header\": {\"fill\": {\"color\": \"#C8D4E3\"}, \"line\": {\"color\": \"white\"}}, \"type\": \"table\"}]}, \"layout\": {\"annotationdefaults\": {\"arrowcolor\": \"#2a3f5f\", \"arrowhead\": 0, \"arrowwidth\": 1}, \"coloraxis\": {\"colorbar\": {\"outlinewidth\": 0, \"ticks\": \"\"}}, \"colorscale\": {\"diverging\": [[0, \"#8e0152\"], [0.1, \"#c51b7d\"], [0.2, \"#de77ae\"], [0.3, \"#f1b6da\"], [0.4, \"#fde0ef\"], [0.5, \"#f7f7f7\"], [0.6, \"#e6f5d0\"], [0.7, \"#b8e186\"], [0.8, \"#7fbc41\"], [0.9, \"#4d9221\"], [1, \"#276419\"]], \"sequential\": [[0.0, \"#0d0887\"], [0.1111111111111111, \"#46039f\"], [0.2222222222222222, \"#7201a8\"], [0.3333333333333333, \"#9c179e\"], [0.4444444444444444, \"#bd3786\"], [0.5555555555555556, \"#d8576b\"], [0.6666666666666666, \"#ed7953\"], [0.7777777777777778, \"#fb9f3a\"], [0.8888888888888888, \"#fdca26\"], [1.0, \"#f0f921\"]], \"sequentialminus\": [[0.0, \"#0d0887\"], [0.1111111111111111, \"#46039f\"], [0.2222222222222222, \"#7201a8\"], [0.3333333333333333, \"#9c179e\"], [0.4444444444444444, \"#bd3786\"], [0.5555555555555556, \"#d8576b\"], [0.6666666666666666, \"#ed7953\"], [0.7777777777777778, \"#fb9f3a\"], [0.8888888888888888, \"#fdca26\"], [1.0, \"#f0f921\"]]}, \"colorway\": [\"#636efa\", \"#EF553B\", \"#00cc96\", \"#ab63fa\", \"#FFA15A\", \"#19d3f3\", \"#FF6692\", \"#B6E880\", \"#FF97FF\", \"#FECB52\"], \"font\": {\"color\": \"#2a3f5f\"}, \"geo\": {\"bgcolor\": \"white\", \"lakecolor\": \"white\", \"landcolor\": \"#E5ECF6\", \"showlakes\": true, \"showland\": true, \"subunitcolor\": \"white\"}, \"hoverlabel\": {\"align\": \"left\"}, \"hovermode\": \"closest\", \"mapbox\": {\"style\": \"light\"}, \"paper_bgcolor\": \"white\", \"plot_bgcolor\": \"#E5ECF6\", \"polar\": {\"angularaxis\": {\"gridcolor\": \"white\", \"linecolor\": \"white\", \"ticks\": \"\"}, \"bgcolor\": \"#E5ECF6\", \"radialaxis\": {\"gridcolor\": \"white\", \"linecolor\": \"white\", \"ticks\": \"\"}}, \"scene\": {\"xaxis\": {\"backgroundcolor\": \"#E5ECF6\", \"gridcolor\": \"white\", \"gridwidth\": 2, \"linecolor\": \"white\", \"showbackground\": true, \"ticks\": \"\", \"zerolinecolor\": \"white\"}, \"yaxis\": {\"backgroundcolor\": \"#E5ECF6\", \"gridcolor\": \"white\", \"gridwidth\": 2, \"linecolor\": \"white\", \"showbackground\": true, \"ticks\": \"\", \"zerolinecolor\": \"white\"}, \"zaxis\": {\"backgroundcolor\": \"#E5ECF6\", \"gridcolor\": \"white\", \"gridwidth\": 2, \"linecolor\": \"white\", \"showbackground\": true, \"ticks\": \"\", \"zerolinecolor\": \"white\"}}, \"shapedefaults\": {\"line\": {\"color\": \"#2a3f5f\"}}, \"ternary\": {\"aaxis\": {\"gridcolor\": \"white\", \"linecolor\": \"white\", \"ticks\": \"\"}, \"baxis\": {\"gridcolor\": \"white\", \"linecolor\": \"white\", \"ticks\": \"\"}, \"bgcolor\": \"#E5ECF6\", \"caxis\": {\"gridcolor\": \"white\", \"linecolor\": \"white\", \"ticks\": \"\"}}, \"title\": {\"x\": 0.05}, \"xaxis\": {\"automargin\": true, \"gridcolor\": \"white\", \"linecolor\": \"white\", \"ticks\": \"\", \"title\": {\"standoff\": 15}, \"zerolinecolor\": \"white\", \"zerolinewidth\": 2}, \"yaxis\": {\"automargin\": true, \"gridcolor\": \"white\", \"linecolor\": \"white\", \"ticks\": \"\", \"title\": {\"standoff\": 15}, \"zerolinecolor\": \"white\", \"zerolinewidth\": 2}}}, \"title\": {\"font\": {\"color\": \"#4D5663\"}, \"text\": \"Citizens of foreign countries\"}, \"xaxis\": {\"gridcolor\": \"#E1E5ED\", \"showgrid\": true, \"tickfont\": {\"color\": \"#4D5663\"}, \"title\": {\"font\": {\"color\": \"#4D5663\"}, \"text\": \"\"}, \"zerolinecolor\": \"#E1E5ED\"}, \"yaxis\": {\"gridcolor\": \"#E1E5ED\", \"showgrid\": true, \"tickfont\": {\"color\": \"#4D5663\"}, \"title\": {\"font\": {\"color\": \"#4D5663\"}, \"text\": \"\"}, \"zerolinecolor\": \"#E1E5ED\"}},                        {\"showLink\": true, \"linkText\": \"Export to plot.ly\", \"plotlyServerURL\": \"https://plot.ly\", \"responsive\": true}                    ).then(function(){\n",
       "                            \n",
       "var gd = document.getElementById('375ed239-1ceb-4e8c-b1fa-d57844b7536d');\n",
       "var x = new MutationObserver(function (mutations, observer) {{\n",
       "        var display = window.getComputedStyle(gd).display;\n",
       "        if (!display || display === 'none') {{\n",
       "            console.log([gd, 'removed!']);\n",
       "            Plotly.purge(gd);\n",
       "            observer.disconnect();\n",
       "        }}\n",
       "}});\n",
       "\n",
       "// Listen for the removal of the full notebook cells\n",
       "var notebookContainer = gd.closest('#notebook-container');\n",
       "if (notebookContainer) {{\n",
       "    x.observe(notebookContainer, {childList: true});\n",
       "}}\n",
       "\n",
       "// Listen for the clearing of the current output cell\n",
       "var outputEl = gd.closest('.output');\n",
       "if (outputEl) {{\n",
       "    x.observe(outputEl, {childList: true});\n",
       "}}\n",
       "\n",
       "                        })                };                });            </script>        </div>"
      ]
     },
     "metadata": {},
     "output_type": "display_data"
    }
   ],
   "source": [
    "# Plotting the graph to see the trend of foreigners coming to Uusimaa region.\n",
    "grouped1.loc[\"Citizens of foreign countries\",2019].iplot(title='Citizens of foreign countries')"
   ]
  },
  {
   "cell_type": "markdown",
   "metadata": {},
   "source": [
    "<b> This graph shows the citizens of foreign countries for the year 2019 throughout every region in Finland."
   ]
  },
  {
   "cell_type": "code",
   "execution_count": 778,
   "metadata": {
    "ExecuteTime": {
     "end_time": "2020-12-14T23:10:35.334326Z",
     "start_time": "2020-12-14T23:10:35.250861Z"
    },
    "scrolled": true
   },
   "outputs": [
    {
     "data": {
      "application/vnd.plotly.v1+json": {
       "config": {
        "linkText": "Export to plot.ly",
        "plotlyServerURL": "https://plot.ly",
        "showLink": true
       },
       "data": [
        {
         "line": {
          "color": "rgba(255, 153, 51, 1.0)",
          "dash": "solid",
          "shape": "linear",
          "width": 1.3
         },
         "mode": "lines",
         "name": "('Citizens of foreign countries', 'MK01 Uusimaa')",
         "text": "",
         "type": "scatter",
         "x": [
          2010,
          2011,
          2012,
          2013,
          2014,
          2015,
          2016,
          2017,
          2018,
          2019
         ],
         "y": [
          86685,
          94966,
          102118,
          109213,
          116791,
          123300,
          130963,
          135412,
          141597,
          149253
         ]
        }
       ],
       "layout": {
        "legend": {
         "bgcolor": "#F5F6F9",
         "font": {
          "color": "#4D5663"
         }
        },
        "paper_bgcolor": "#F5F6F9",
        "plot_bgcolor": "#F5F6F9",
        "template": {
         "data": {
          "bar": [
           {
            "error_x": {
             "color": "#2a3f5f"
            },
            "error_y": {
             "color": "#2a3f5f"
            },
            "marker": {
             "line": {
              "color": "#E5ECF6",
              "width": 0.5
             }
            },
            "type": "bar"
           }
          ],
          "barpolar": [
           {
            "marker": {
             "line": {
              "color": "#E5ECF6",
              "width": 0.5
             }
            },
            "type": "barpolar"
           }
          ],
          "carpet": [
           {
            "aaxis": {
             "endlinecolor": "#2a3f5f",
             "gridcolor": "white",
             "linecolor": "white",
             "minorgridcolor": "white",
             "startlinecolor": "#2a3f5f"
            },
            "baxis": {
             "endlinecolor": "#2a3f5f",
             "gridcolor": "white",
             "linecolor": "white",
             "minorgridcolor": "white",
             "startlinecolor": "#2a3f5f"
            },
            "type": "carpet"
           }
          ],
          "choropleth": [
           {
            "colorbar": {
             "outlinewidth": 0,
             "ticks": ""
            },
            "type": "choropleth"
           }
          ],
          "contour": [
           {
            "colorbar": {
             "outlinewidth": 0,
             "ticks": ""
            },
            "colorscale": [
             [
              0,
              "#0d0887"
             ],
             [
              0.1111111111111111,
              "#46039f"
             ],
             [
              0.2222222222222222,
              "#7201a8"
             ],
             [
              0.3333333333333333,
              "#9c179e"
             ],
             [
              0.4444444444444444,
              "#bd3786"
             ],
             [
              0.5555555555555556,
              "#d8576b"
             ],
             [
              0.6666666666666666,
              "#ed7953"
             ],
             [
              0.7777777777777778,
              "#fb9f3a"
             ],
             [
              0.8888888888888888,
              "#fdca26"
             ],
             [
              1,
              "#f0f921"
             ]
            ],
            "type": "contour"
           }
          ],
          "contourcarpet": [
           {
            "colorbar": {
             "outlinewidth": 0,
             "ticks": ""
            },
            "type": "contourcarpet"
           }
          ],
          "heatmap": [
           {
            "colorbar": {
             "outlinewidth": 0,
             "ticks": ""
            },
            "colorscale": [
             [
              0,
              "#0d0887"
             ],
             [
              0.1111111111111111,
              "#46039f"
             ],
             [
              0.2222222222222222,
              "#7201a8"
             ],
             [
              0.3333333333333333,
              "#9c179e"
             ],
             [
              0.4444444444444444,
              "#bd3786"
             ],
             [
              0.5555555555555556,
              "#d8576b"
             ],
             [
              0.6666666666666666,
              "#ed7953"
             ],
             [
              0.7777777777777778,
              "#fb9f3a"
             ],
             [
              0.8888888888888888,
              "#fdca26"
             ],
             [
              1,
              "#f0f921"
             ]
            ],
            "type": "heatmap"
           }
          ],
          "heatmapgl": [
           {
            "colorbar": {
             "outlinewidth": 0,
             "ticks": ""
            },
            "colorscale": [
             [
              0,
              "#0d0887"
             ],
             [
              0.1111111111111111,
              "#46039f"
             ],
             [
              0.2222222222222222,
              "#7201a8"
             ],
             [
              0.3333333333333333,
              "#9c179e"
             ],
             [
              0.4444444444444444,
              "#bd3786"
             ],
             [
              0.5555555555555556,
              "#d8576b"
             ],
             [
              0.6666666666666666,
              "#ed7953"
             ],
             [
              0.7777777777777778,
              "#fb9f3a"
             ],
             [
              0.8888888888888888,
              "#fdca26"
             ],
             [
              1,
              "#f0f921"
             ]
            ],
            "type": "heatmapgl"
           }
          ],
          "histogram": [
           {
            "marker": {
             "colorbar": {
              "outlinewidth": 0,
              "ticks": ""
             }
            },
            "type": "histogram"
           }
          ],
          "histogram2d": [
           {
            "colorbar": {
             "outlinewidth": 0,
             "ticks": ""
            },
            "colorscale": [
             [
              0,
              "#0d0887"
             ],
             [
              0.1111111111111111,
              "#46039f"
             ],
             [
              0.2222222222222222,
              "#7201a8"
             ],
             [
              0.3333333333333333,
              "#9c179e"
             ],
             [
              0.4444444444444444,
              "#bd3786"
             ],
             [
              0.5555555555555556,
              "#d8576b"
             ],
             [
              0.6666666666666666,
              "#ed7953"
             ],
             [
              0.7777777777777778,
              "#fb9f3a"
             ],
             [
              0.8888888888888888,
              "#fdca26"
             ],
             [
              1,
              "#f0f921"
             ]
            ],
            "type": "histogram2d"
           }
          ],
          "histogram2dcontour": [
           {
            "colorbar": {
             "outlinewidth": 0,
             "ticks": ""
            },
            "colorscale": [
             [
              0,
              "#0d0887"
             ],
             [
              0.1111111111111111,
              "#46039f"
             ],
             [
              0.2222222222222222,
              "#7201a8"
             ],
             [
              0.3333333333333333,
              "#9c179e"
             ],
             [
              0.4444444444444444,
              "#bd3786"
             ],
             [
              0.5555555555555556,
              "#d8576b"
             ],
             [
              0.6666666666666666,
              "#ed7953"
             ],
             [
              0.7777777777777778,
              "#fb9f3a"
             ],
             [
              0.8888888888888888,
              "#fdca26"
             ],
             [
              1,
              "#f0f921"
             ]
            ],
            "type": "histogram2dcontour"
           }
          ],
          "mesh3d": [
           {
            "colorbar": {
             "outlinewidth": 0,
             "ticks": ""
            },
            "type": "mesh3d"
           }
          ],
          "parcoords": [
           {
            "line": {
             "colorbar": {
              "outlinewidth": 0,
              "ticks": ""
             }
            },
            "type": "parcoords"
           }
          ],
          "pie": [
           {
            "automargin": true,
            "type": "pie"
           }
          ],
          "scatter": [
           {
            "marker": {
             "colorbar": {
              "outlinewidth": 0,
              "ticks": ""
             }
            },
            "type": "scatter"
           }
          ],
          "scatter3d": [
           {
            "line": {
             "colorbar": {
              "outlinewidth": 0,
              "ticks": ""
             }
            },
            "marker": {
             "colorbar": {
              "outlinewidth": 0,
              "ticks": ""
             }
            },
            "type": "scatter3d"
           }
          ],
          "scattercarpet": [
           {
            "marker": {
             "colorbar": {
              "outlinewidth": 0,
              "ticks": ""
             }
            },
            "type": "scattercarpet"
           }
          ],
          "scattergeo": [
           {
            "marker": {
             "colorbar": {
              "outlinewidth": 0,
              "ticks": ""
             }
            },
            "type": "scattergeo"
           }
          ],
          "scattergl": [
           {
            "marker": {
             "colorbar": {
              "outlinewidth": 0,
              "ticks": ""
             }
            },
            "type": "scattergl"
           }
          ],
          "scattermapbox": [
           {
            "marker": {
             "colorbar": {
              "outlinewidth": 0,
              "ticks": ""
             }
            },
            "type": "scattermapbox"
           }
          ],
          "scatterpolar": [
           {
            "marker": {
             "colorbar": {
              "outlinewidth": 0,
              "ticks": ""
             }
            },
            "type": "scatterpolar"
           }
          ],
          "scatterpolargl": [
           {
            "marker": {
             "colorbar": {
              "outlinewidth": 0,
              "ticks": ""
             }
            },
            "type": "scatterpolargl"
           }
          ],
          "scatterternary": [
           {
            "marker": {
             "colorbar": {
              "outlinewidth": 0,
              "ticks": ""
             }
            },
            "type": "scatterternary"
           }
          ],
          "surface": [
           {
            "colorbar": {
             "outlinewidth": 0,
             "ticks": ""
            },
            "colorscale": [
             [
              0,
              "#0d0887"
             ],
             [
              0.1111111111111111,
              "#46039f"
             ],
             [
              0.2222222222222222,
              "#7201a8"
             ],
             [
              0.3333333333333333,
              "#9c179e"
             ],
             [
              0.4444444444444444,
              "#bd3786"
             ],
             [
              0.5555555555555556,
              "#d8576b"
             ],
             [
              0.6666666666666666,
              "#ed7953"
             ],
             [
              0.7777777777777778,
              "#fb9f3a"
             ],
             [
              0.8888888888888888,
              "#fdca26"
             ],
             [
              1,
              "#f0f921"
             ]
            ],
            "type": "surface"
           }
          ],
          "table": [
           {
            "cells": {
             "fill": {
              "color": "#EBF0F8"
             },
             "line": {
              "color": "white"
             }
            },
            "header": {
             "fill": {
              "color": "#C8D4E3"
             },
             "line": {
              "color": "white"
             }
            },
            "type": "table"
           }
          ]
         },
         "layout": {
          "annotationdefaults": {
           "arrowcolor": "#2a3f5f",
           "arrowhead": 0,
           "arrowwidth": 1
          },
          "coloraxis": {
           "colorbar": {
            "outlinewidth": 0,
            "ticks": ""
           }
          },
          "colorscale": {
           "diverging": [
            [
             0,
             "#8e0152"
            ],
            [
             0.1,
             "#c51b7d"
            ],
            [
             0.2,
             "#de77ae"
            ],
            [
             0.3,
             "#f1b6da"
            ],
            [
             0.4,
             "#fde0ef"
            ],
            [
             0.5,
             "#f7f7f7"
            ],
            [
             0.6,
             "#e6f5d0"
            ],
            [
             0.7,
             "#b8e186"
            ],
            [
             0.8,
             "#7fbc41"
            ],
            [
             0.9,
             "#4d9221"
            ],
            [
             1,
             "#276419"
            ]
           ],
           "sequential": [
            [
             0,
             "#0d0887"
            ],
            [
             0.1111111111111111,
             "#46039f"
            ],
            [
             0.2222222222222222,
             "#7201a8"
            ],
            [
             0.3333333333333333,
             "#9c179e"
            ],
            [
             0.4444444444444444,
             "#bd3786"
            ],
            [
             0.5555555555555556,
             "#d8576b"
            ],
            [
             0.6666666666666666,
             "#ed7953"
            ],
            [
             0.7777777777777778,
             "#fb9f3a"
            ],
            [
             0.8888888888888888,
             "#fdca26"
            ],
            [
             1,
             "#f0f921"
            ]
           ],
           "sequentialminus": [
            [
             0,
             "#0d0887"
            ],
            [
             0.1111111111111111,
             "#46039f"
            ],
            [
             0.2222222222222222,
             "#7201a8"
            ],
            [
             0.3333333333333333,
             "#9c179e"
            ],
            [
             0.4444444444444444,
             "#bd3786"
            ],
            [
             0.5555555555555556,
             "#d8576b"
            ],
            [
             0.6666666666666666,
             "#ed7953"
            ],
            [
             0.7777777777777778,
             "#fb9f3a"
            ],
            [
             0.8888888888888888,
             "#fdca26"
            ],
            [
             1,
             "#f0f921"
            ]
           ]
          },
          "colorway": [
           "#636efa",
           "#EF553B",
           "#00cc96",
           "#ab63fa",
           "#FFA15A",
           "#19d3f3",
           "#FF6692",
           "#B6E880",
           "#FF97FF",
           "#FECB52"
          ],
          "font": {
           "color": "#2a3f5f"
          },
          "geo": {
           "bgcolor": "white",
           "lakecolor": "white",
           "landcolor": "#E5ECF6",
           "showlakes": true,
           "showland": true,
           "subunitcolor": "white"
          },
          "hoverlabel": {
           "align": "left"
          },
          "hovermode": "closest",
          "mapbox": {
           "style": "light"
          },
          "paper_bgcolor": "white",
          "plot_bgcolor": "#E5ECF6",
          "polar": {
           "angularaxis": {
            "gridcolor": "white",
            "linecolor": "white",
            "ticks": ""
           },
           "bgcolor": "#E5ECF6",
           "radialaxis": {
            "gridcolor": "white",
            "linecolor": "white",
            "ticks": ""
           }
          },
          "scene": {
           "xaxis": {
            "backgroundcolor": "#E5ECF6",
            "gridcolor": "white",
            "gridwidth": 2,
            "linecolor": "white",
            "showbackground": true,
            "ticks": "",
            "zerolinecolor": "white"
           },
           "yaxis": {
            "backgroundcolor": "#E5ECF6",
            "gridcolor": "white",
            "gridwidth": 2,
            "linecolor": "white",
            "showbackground": true,
            "ticks": "",
            "zerolinecolor": "white"
           },
           "zaxis": {
            "backgroundcolor": "#E5ECF6",
            "gridcolor": "white",
            "gridwidth": 2,
            "linecolor": "white",
            "showbackground": true,
            "ticks": "",
            "zerolinecolor": "white"
           }
          },
          "shapedefaults": {
           "line": {
            "color": "#2a3f5f"
           }
          },
          "ternary": {
           "aaxis": {
            "gridcolor": "white",
            "linecolor": "white",
            "ticks": ""
           },
           "baxis": {
            "gridcolor": "white",
            "linecolor": "white",
            "ticks": ""
           },
           "bgcolor": "#E5ECF6",
           "caxis": {
            "gridcolor": "white",
            "linecolor": "white",
            "ticks": ""
           }
          },
          "title": {
           "x": 0.05
          },
          "xaxis": {
           "automargin": true,
           "gridcolor": "white",
           "linecolor": "white",
           "ticks": "",
           "title": {
            "standoff": 15
           },
           "zerolinecolor": "white",
           "zerolinewidth": 2
          },
          "yaxis": {
           "automargin": true,
           "gridcolor": "white",
           "linecolor": "white",
           "ticks": "",
           "title": {
            "standoff": 15
           },
           "zerolinecolor": "white",
           "zerolinewidth": 2
          }
         }
        },
        "title": {
         "font": {
          "color": "#4D5663"
         },
         "text": "Citizens of foreign countries"
        },
        "xaxis": {
         "gridcolor": "#E1E5ED",
         "showgrid": true,
         "tickfont": {
          "color": "#4D5663"
         },
         "title": {
          "font": {
           "color": "#4D5663"
          },
          "text": ""
         },
         "zerolinecolor": "#E1E5ED"
        },
        "yaxis": {
         "gridcolor": "#E1E5ED",
         "showgrid": true,
         "tickfont": {
          "color": "#4D5663"
         },
         "title": {
          "font": {
           "color": "#4D5663"
          },
          "text": ""
         },
         "zerolinecolor": "#E1E5ED"
        }
       }
      },
      "text/html": [
       "<div>                            <div id=\"7d794140-405b-4026-9abe-9f76efb6adb2\" class=\"plotly-graph-div\" style=\"height:525px; width:100%;\"></div>            <script type=\"text/javascript\">                require([\"plotly\"], function(Plotly) {                    window.PLOTLYENV=window.PLOTLYENV || {};\n",
       "                    window.PLOTLYENV.BASE_URL='https://plot.ly';                                    if (document.getElementById(\"7d794140-405b-4026-9abe-9f76efb6adb2\")) {                    Plotly.newPlot(                        \"7d794140-405b-4026-9abe-9f76efb6adb2\",                        [{\"line\": {\"color\": \"rgba(255, 153, 51, 1.0)\", \"dash\": \"solid\", \"shape\": \"linear\", \"width\": 1.3}, \"mode\": \"lines\", \"name\": \"('Citizens of foreign countries', 'MK01 Uusimaa')\", \"text\": \"\", \"type\": \"scatter\", \"x\": [2010, 2011, 2012, 2013, 2014, 2015, 2016, 2017, 2018, 2019], \"y\": [86685, 94966, 102118, 109213, 116791, 123300, 130963, 135412, 141597, 149253]}],                        {\"legend\": {\"bgcolor\": \"#F5F6F9\", \"font\": {\"color\": \"#4D5663\"}}, \"paper_bgcolor\": \"#F5F6F9\", \"plot_bgcolor\": \"#F5F6F9\", \"template\": {\"data\": {\"bar\": [{\"error_x\": {\"color\": \"#2a3f5f\"}, \"error_y\": {\"color\": \"#2a3f5f\"}, \"marker\": {\"line\": {\"color\": \"#E5ECF6\", \"width\": 0.5}}, \"type\": \"bar\"}], \"barpolar\": [{\"marker\": {\"line\": {\"color\": \"#E5ECF6\", \"width\": 0.5}}, \"type\": \"barpolar\"}], \"carpet\": [{\"aaxis\": {\"endlinecolor\": \"#2a3f5f\", \"gridcolor\": \"white\", \"linecolor\": \"white\", \"minorgridcolor\": \"white\", \"startlinecolor\": \"#2a3f5f\"}, \"baxis\": {\"endlinecolor\": \"#2a3f5f\", \"gridcolor\": \"white\", \"linecolor\": \"white\", \"minorgridcolor\": \"white\", \"startlinecolor\": \"#2a3f5f\"}, \"type\": \"carpet\"}], \"choropleth\": [{\"colorbar\": {\"outlinewidth\": 0, \"ticks\": \"\"}, \"type\": \"choropleth\"}], \"contour\": [{\"colorbar\": {\"outlinewidth\": 0, \"ticks\": \"\"}, \"colorscale\": [[0.0, \"#0d0887\"], [0.1111111111111111, \"#46039f\"], [0.2222222222222222, \"#7201a8\"], [0.3333333333333333, \"#9c179e\"], [0.4444444444444444, \"#bd3786\"], [0.5555555555555556, \"#d8576b\"], [0.6666666666666666, \"#ed7953\"], [0.7777777777777778, \"#fb9f3a\"], [0.8888888888888888, \"#fdca26\"], [1.0, \"#f0f921\"]], \"type\": \"contour\"}], \"contourcarpet\": [{\"colorbar\": {\"outlinewidth\": 0, \"ticks\": \"\"}, \"type\": \"contourcarpet\"}], \"heatmap\": [{\"colorbar\": {\"outlinewidth\": 0, \"ticks\": \"\"}, \"colorscale\": [[0.0, \"#0d0887\"], [0.1111111111111111, \"#46039f\"], [0.2222222222222222, \"#7201a8\"], [0.3333333333333333, \"#9c179e\"], [0.4444444444444444, \"#bd3786\"], [0.5555555555555556, \"#d8576b\"], [0.6666666666666666, \"#ed7953\"], [0.7777777777777778, \"#fb9f3a\"], [0.8888888888888888, \"#fdca26\"], [1.0, \"#f0f921\"]], \"type\": \"heatmap\"}], \"heatmapgl\": [{\"colorbar\": {\"outlinewidth\": 0, \"ticks\": \"\"}, \"colorscale\": [[0.0, \"#0d0887\"], [0.1111111111111111, \"#46039f\"], [0.2222222222222222, \"#7201a8\"], [0.3333333333333333, \"#9c179e\"], [0.4444444444444444, \"#bd3786\"], [0.5555555555555556, \"#d8576b\"], [0.6666666666666666, \"#ed7953\"], [0.7777777777777778, \"#fb9f3a\"], [0.8888888888888888, \"#fdca26\"], [1.0, \"#f0f921\"]], \"type\": \"heatmapgl\"}], \"histogram\": [{\"marker\": {\"colorbar\": {\"outlinewidth\": 0, \"ticks\": \"\"}}, \"type\": \"histogram\"}], \"histogram2d\": [{\"colorbar\": {\"outlinewidth\": 0, \"ticks\": \"\"}, \"colorscale\": [[0.0, \"#0d0887\"], [0.1111111111111111, \"#46039f\"], [0.2222222222222222, \"#7201a8\"], [0.3333333333333333, \"#9c179e\"], [0.4444444444444444, \"#bd3786\"], [0.5555555555555556, \"#d8576b\"], [0.6666666666666666, \"#ed7953\"], [0.7777777777777778, \"#fb9f3a\"], [0.8888888888888888, \"#fdca26\"], [1.0, \"#f0f921\"]], \"type\": \"histogram2d\"}], \"histogram2dcontour\": [{\"colorbar\": {\"outlinewidth\": 0, \"ticks\": \"\"}, \"colorscale\": [[0.0, \"#0d0887\"], [0.1111111111111111, \"#46039f\"], [0.2222222222222222, \"#7201a8\"], [0.3333333333333333, \"#9c179e\"], [0.4444444444444444, \"#bd3786\"], [0.5555555555555556, \"#d8576b\"], [0.6666666666666666, \"#ed7953\"], [0.7777777777777778, \"#fb9f3a\"], [0.8888888888888888, \"#fdca26\"], [1.0, \"#f0f921\"]], \"type\": \"histogram2dcontour\"}], \"mesh3d\": [{\"colorbar\": {\"outlinewidth\": 0, \"ticks\": \"\"}, \"type\": \"mesh3d\"}], \"parcoords\": [{\"line\": {\"colorbar\": {\"outlinewidth\": 0, \"ticks\": \"\"}}, \"type\": \"parcoords\"}], \"pie\": [{\"automargin\": true, \"type\": \"pie\"}], \"scatter\": [{\"marker\": {\"colorbar\": {\"outlinewidth\": 0, \"ticks\": \"\"}}, \"type\": \"scatter\"}], \"scatter3d\": [{\"line\": {\"colorbar\": {\"outlinewidth\": 0, \"ticks\": \"\"}}, \"marker\": {\"colorbar\": {\"outlinewidth\": 0, \"ticks\": \"\"}}, \"type\": \"scatter3d\"}], \"scattercarpet\": [{\"marker\": {\"colorbar\": {\"outlinewidth\": 0, \"ticks\": \"\"}}, \"type\": \"scattercarpet\"}], \"scattergeo\": [{\"marker\": {\"colorbar\": {\"outlinewidth\": 0, \"ticks\": \"\"}}, \"type\": \"scattergeo\"}], \"scattergl\": [{\"marker\": {\"colorbar\": {\"outlinewidth\": 0, \"ticks\": \"\"}}, \"type\": \"scattergl\"}], \"scattermapbox\": [{\"marker\": {\"colorbar\": {\"outlinewidth\": 0, \"ticks\": \"\"}}, \"type\": \"scattermapbox\"}], \"scatterpolar\": [{\"marker\": {\"colorbar\": {\"outlinewidth\": 0, \"ticks\": \"\"}}, \"type\": \"scatterpolar\"}], \"scatterpolargl\": [{\"marker\": {\"colorbar\": {\"outlinewidth\": 0, \"ticks\": \"\"}}, \"type\": \"scatterpolargl\"}], \"scatterternary\": [{\"marker\": {\"colorbar\": {\"outlinewidth\": 0, \"ticks\": \"\"}}, \"type\": \"scatterternary\"}], \"surface\": [{\"colorbar\": {\"outlinewidth\": 0, \"ticks\": \"\"}, \"colorscale\": [[0.0, \"#0d0887\"], [0.1111111111111111, \"#46039f\"], [0.2222222222222222, \"#7201a8\"], [0.3333333333333333, \"#9c179e\"], [0.4444444444444444, \"#bd3786\"], [0.5555555555555556, \"#d8576b\"], [0.6666666666666666, \"#ed7953\"], [0.7777777777777778, \"#fb9f3a\"], [0.8888888888888888, \"#fdca26\"], [1.0, \"#f0f921\"]], \"type\": \"surface\"}], \"table\": [{\"cells\": {\"fill\": {\"color\": \"#EBF0F8\"}, \"line\": {\"color\": \"white\"}}, \"header\": {\"fill\": {\"color\": \"#C8D4E3\"}, \"line\": {\"color\": \"white\"}}, \"type\": \"table\"}]}, \"layout\": {\"annotationdefaults\": {\"arrowcolor\": \"#2a3f5f\", \"arrowhead\": 0, \"arrowwidth\": 1}, \"coloraxis\": {\"colorbar\": {\"outlinewidth\": 0, \"ticks\": \"\"}}, \"colorscale\": {\"diverging\": [[0, \"#8e0152\"], [0.1, \"#c51b7d\"], [0.2, \"#de77ae\"], [0.3, \"#f1b6da\"], [0.4, \"#fde0ef\"], [0.5, \"#f7f7f7\"], [0.6, \"#e6f5d0\"], [0.7, \"#b8e186\"], [0.8, \"#7fbc41\"], [0.9, \"#4d9221\"], [1, \"#276419\"]], \"sequential\": [[0.0, \"#0d0887\"], [0.1111111111111111, \"#46039f\"], [0.2222222222222222, \"#7201a8\"], [0.3333333333333333, \"#9c179e\"], [0.4444444444444444, \"#bd3786\"], [0.5555555555555556, \"#d8576b\"], [0.6666666666666666, \"#ed7953\"], [0.7777777777777778, \"#fb9f3a\"], [0.8888888888888888, \"#fdca26\"], [1.0, \"#f0f921\"]], \"sequentialminus\": [[0.0, \"#0d0887\"], [0.1111111111111111, \"#46039f\"], [0.2222222222222222, \"#7201a8\"], [0.3333333333333333, \"#9c179e\"], [0.4444444444444444, \"#bd3786\"], [0.5555555555555556, \"#d8576b\"], [0.6666666666666666, \"#ed7953\"], [0.7777777777777778, \"#fb9f3a\"], [0.8888888888888888, \"#fdca26\"], [1.0, \"#f0f921\"]]}, \"colorway\": [\"#636efa\", \"#EF553B\", \"#00cc96\", \"#ab63fa\", \"#FFA15A\", \"#19d3f3\", \"#FF6692\", \"#B6E880\", \"#FF97FF\", \"#FECB52\"], \"font\": {\"color\": \"#2a3f5f\"}, \"geo\": {\"bgcolor\": \"white\", \"lakecolor\": \"white\", \"landcolor\": \"#E5ECF6\", \"showlakes\": true, \"showland\": true, \"subunitcolor\": \"white\"}, \"hoverlabel\": {\"align\": \"left\"}, \"hovermode\": \"closest\", \"mapbox\": {\"style\": \"light\"}, \"paper_bgcolor\": \"white\", \"plot_bgcolor\": \"#E5ECF6\", \"polar\": {\"angularaxis\": {\"gridcolor\": \"white\", \"linecolor\": \"white\", \"ticks\": \"\"}, \"bgcolor\": \"#E5ECF6\", \"radialaxis\": {\"gridcolor\": \"white\", \"linecolor\": \"white\", \"ticks\": \"\"}}, \"scene\": {\"xaxis\": {\"backgroundcolor\": \"#E5ECF6\", \"gridcolor\": \"white\", \"gridwidth\": 2, \"linecolor\": \"white\", \"showbackground\": true, \"ticks\": \"\", \"zerolinecolor\": \"white\"}, \"yaxis\": {\"backgroundcolor\": \"#E5ECF6\", \"gridcolor\": \"white\", \"gridwidth\": 2, \"linecolor\": \"white\", \"showbackground\": true, \"ticks\": \"\", \"zerolinecolor\": \"white\"}, \"zaxis\": {\"backgroundcolor\": \"#E5ECF6\", \"gridcolor\": \"white\", \"gridwidth\": 2, \"linecolor\": \"white\", \"showbackground\": true, \"ticks\": \"\", \"zerolinecolor\": \"white\"}}, \"shapedefaults\": {\"line\": {\"color\": \"#2a3f5f\"}}, \"ternary\": {\"aaxis\": {\"gridcolor\": \"white\", \"linecolor\": \"white\", \"ticks\": \"\"}, \"baxis\": {\"gridcolor\": \"white\", \"linecolor\": \"white\", \"ticks\": \"\"}, \"bgcolor\": \"#E5ECF6\", \"caxis\": {\"gridcolor\": \"white\", \"linecolor\": \"white\", \"ticks\": \"\"}}, \"title\": {\"x\": 0.05}, \"xaxis\": {\"automargin\": true, \"gridcolor\": \"white\", \"linecolor\": \"white\", \"ticks\": \"\", \"title\": {\"standoff\": 15}, \"zerolinecolor\": \"white\", \"zerolinewidth\": 2}, \"yaxis\": {\"automargin\": true, \"gridcolor\": \"white\", \"linecolor\": \"white\", \"ticks\": \"\", \"title\": {\"standoff\": 15}, \"zerolinecolor\": \"white\", \"zerolinewidth\": 2}}}, \"title\": {\"font\": {\"color\": \"#4D5663\"}, \"text\": \"Citizens of foreign countries\"}, \"xaxis\": {\"gridcolor\": \"#E1E5ED\", \"showgrid\": true, \"tickfont\": {\"color\": \"#4D5663\"}, \"title\": {\"font\": {\"color\": \"#4D5663\"}, \"text\": \"\"}, \"zerolinecolor\": \"#E1E5ED\"}, \"yaxis\": {\"gridcolor\": \"#E1E5ED\", \"showgrid\": true, \"tickfont\": {\"color\": \"#4D5663\"}, \"title\": {\"font\": {\"color\": \"#4D5663\"}, \"text\": \"\"}, \"zerolinecolor\": \"#E1E5ED\"}},                        {\"showLink\": true, \"linkText\": \"Export to plot.ly\", \"plotlyServerURL\": \"https://plot.ly\", \"responsive\": true}                    ).then(function(){\n",
       "                            \n",
       "var gd = document.getElementById('7d794140-405b-4026-9abe-9f76efb6adb2');\n",
       "var x = new MutationObserver(function (mutations, observer) {{\n",
       "        var display = window.getComputedStyle(gd).display;\n",
       "        if (!display || display === 'none') {{\n",
       "            console.log([gd, 'removed!']);\n",
       "            Plotly.purge(gd);\n",
       "            observer.disconnect();\n",
       "        }}\n",
       "}});\n",
       "\n",
       "// Listen for the removal of the full notebook cells\n",
       "var notebookContainer = gd.closest('#notebook-container');\n",
       "if (notebookContainer) {{\n",
       "    x.observe(notebookContainer, {childList: true});\n",
       "}}\n",
       "\n",
       "// Listen for the clearing of the current output cell\n",
       "var outputEl = gd.closest('.output');\n",
       "if (outputEl) {{\n",
       "    x.observe(outputEl, {childList: true});\n",
       "}}\n",
       "\n",
       "                        })                };                });            </script>        </div>"
      ]
     },
     "metadata": {},
     "output_type": "display_data"
    }
   ],
   "source": [
    "grouped1.loc[\"Citizens of foreign countries\",\"MK01 Uusimaa\"].iplot(title='Citizens of foreign countries')"
   ]
  },
  {
   "cell_type": "markdown",
   "metadata": {},
   "source": [
    " <b> Here, we have used matplotlib for visualization purposes. Above, we are trying to show the citizens of foreign countries coming to Uusimaa region only from year 2010 to 2019. The data shows that this has almost doubled over the course of 10 years period. "
   ]
  },
  {
   "cell_type": "code",
   "execution_count": 781,
   "metadata": {
    "ExecuteTime": {
     "end_time": "2020-12-14T23:14:19.126187Z",
     "start_time": "2020-12-14T23:14:19.121750Z"
    }
   },
   "outputs": [],
   "source": [
    "# Defining a function \n",
    "def plot_region(att,reg):\n",
    "    grouped1.loc[att,reg].iplot()"
   ]
  },
  {
   "cell_type": "code",
   "execution_count": 843,
   "metadata": {
    "ExecuteTime": {
     "end_time": "2020-12-15T08:42:22.133383Z",
     "start_time": "2020-12-15T08:42:22.003376Z"
    },
    "scrolled": true
   },
   "outputs": [
    {
     "data": {
      "application/vnd.jupyter.widget-view+json": {
       "model_id": "cd4afecdfab647039235480eca7892d7",
       "version_major": 2,
       "version_minor": 0
      },
      "text/plain": [
       "interactive(children=(Dropdown(description='att', options=('Citizens of foreign countries', 'Persons born abro…"
      ]
     },
     "metadata": {},
     "output_type": "display_data"
    }
   ],
   "source": [
    "# Plotting the graph\n",
    "interact(plot_region,att=data2.Attribute.unique(),reg=data2.Region.unique(),)\n",
    "plt.show()"
   ]
  },
  {
   "cell_type": "markdown",
   "metadata": {},
   "source": [
    "<b><span style='color:red'> Here, the graph is presented with attribute and region box where the user can select the desired location and attribute. X-axis represents the years while y-axis is numerical value. When selected the whole country as region and citizens of foreign countries we can see in 2019 the number was 267,629 while in 2018 the number was 257,572. In this way, comparisons can be made during different years for different regions. It's more convienent to look at the graph and see the trend than looking at the dataset which makes it confusing to figure out the trend.</span></b> "
   ]
  },
  {
   "cell_type": "code",
   "execution_count": 789,
   "metadata": {
    "ExecuteTime": {
     "end_time": "2020-12-14T23:17:09.736884Z",
     "start_time": "2020-12-14T23:17:09.717697Z"
    }
   },
   "outputs": [
    {
     "data": {
      "text/html": [
       "<div>\n",
       "<style scoped>\n",
       "    .dataframe tbody tr th:only-of-type {\n",
       "        vertical-align: middle;\n",
       "    }\n",
       "\n",
       "    .dataframe tbody tr th {\n",
       "        vertical-align: top;\n",
       "    }\n",
       "\n",
       "    .dataframe thead th {\n",
       "        text-align: right;\n",
       "    }\n",
       "</style>\n",
       "<table border=\"1\" class=\"dataframe\">\n",
       "  <thead>\n",
       "    <tr style=\"text-align: right;\">\n",
       "      <th></th>\n",
       "      <th>2010</th>\n",
       "      <th>2011</th>\n",
       "      <th>2012</th>\n",
       "      <th>2013</th>\n",
       "      <th>2014</th>\n",
       "      <th>2015</th>\n",
       "      <th>2016</th>\n",
       "      <th>2017</th>\n",
       "      <th>2018</th>\n",
       "      <th>2019</th>\n",
       "      <th>Attribute</th>\n",
       "      <th>Region</th>\n",
       "    </tr>\n",
       "  </thead>\n",
       "  <tbody>\n",
       "    <tr>\n",
       "      <th>1</th>\n",
       "      <td>167954</td>\n",
       "      <td>183133</td>\n",
       "      <td>195511</td>\n",
       "      <td>207511</td>\n",
       "      <td>219675</td>\n",
       "      <td>229765</td>\n",
       "      <td>243639</td>\n",
       "      <td>249452</td>\n",
       "      <td>257572</td>\n",
       "      <td>267629</td>\n",
       "      <td>Citizens of foreign countries</td>\n",
       "      <td>WHOLE COUNTRY</td>\n",
       "    </tr>\n",
       "    <tr>\n",
       "      <th>2</th>\n",
       "      <td>248135</td>\n",
       "      <td>266148</td>\n",
       "      <td>285471</td>\n",
       "      <td>304279</td>\n",
       "      <td>321977</td>\n",
       "      <td>337162</td>\n",
       "      <td>357541</td>\n",
       "      <td>372802</td>\n",
       "      <td>387215</td>\n",
       "      <td>404179</td>\n",
       "      <td>Persons born abroad</td>\n",
       "      <td>WHOLE COUNTRY</td>\n",
       "    </tr>\n",
       "    <tr>\n",
       "      <th>3</th>\n",
       "      <td>224388</td>\n",
       "      <td>244827</td>\n",
       "      <td>266949</td>\n",
       "      <td>289068</td>\n",
       "      <td>310306</td>\n",
       "      <td>329562</td>\n",
       "      <td>353993</td>\n",
       "      <td>373325</td>\n",
       "      <td>391746</td>\n",
       "      <td>412644</td>\n",
       "      <td>Foreign-language speakers</td>\n",
       "      <td>WHOLE COUNTRY</td>\n",
       "    </tr>\n",
       "    <tr>\n",
       "      <th>4</th>\n",
       "      <td>237066</td>\n",
       "      <td>257494</td>\n",
       "      <td>279616</td>\n",
       "      <td>301524</td>\n",
       "      <td>322711</td>\n",
       "      <td>339925</td>\n",
       "      <td>364787</td>\n",
       "      <td>384123</td>\n",
       "      <td>402619</td>\n",
       "      <td>423494</td>\n",
       "      <td>Persons with foreign background</td>\n",
       "      <td>WHOLE COUNTRY</td>\n",
       "    </tr>\n",
       "    <tr>\n",
       "      <th>5</th>\n",
       "      <td>0</td>\n",
       "      <td>0</td>\n",
       "      <td>0</td>\n",
       "      <td>0</td>\n",
       "      <td>0</td>\n",
       "      <td>0</td>\n",
       "      <td>0</td>\n",
       "      <td>0</td>\n",
       "      <td>0</td>\n",
       "      <td>0</td>\n",
       "      <td>Citizens of foreign countries</td>\n",
       "      <td>MA1 MAINLAND FINLAND</td>\n",
       "    </tr>\n",
       "    <tr>\n",
       "      <th>...</th>\n",
       "      <td>...</td>\n",
       "      <td>...</td>\n",
       "      <td>...</td>\n",
       "      <td>...</td>\n",
       "      <td>...</td>\n",
       "      <td>...</td>\n",
       "      <td>...</td>\n",
       "      <td>...</td>\n",
       "      <td>...</td>\n",
       "      <td>...</td>\n",
       "      <td>...</td>\n",
       "      <td>...</td>\n",
       "    </tr>\n",
       "    <tr>\n",
       "      <th>84</th>\n",
       "      <td>0</td>\n",
       "      <td>0</td>\n",
       "      <td>0</td>\n",
       "      <td>0</td>\n",
       "      <td>0</td>\n",
       "      <td>0</td>\n",
       "      <td>0</td>\n",
       "      <td>0</td>\n",
       "      <td>0</td>\n",
       "      <td>0</td>\n",
       "      <td>Persons with foreign background</td>\n",
       "      <td>MA2 ÅLAND</td>\n",
       "    </tr>\n",
       "    <tr>\n",
       "      <th>85</th>\n",
       "      <td>2415</td>\n",
       "      <td>2560</td>\n",
       "      <td>2610</td>\n",
       "      <td>2721</td>\n",
       "      <td>2837</td>\n",
       "      <td>2927</td>\n",
       "      <td>3092</td>\n",
       "      <td>3182</td>\n",
       "      <td>3396</td>\n",
       "      <td>3421</td>\n",
       "      <td>Citizens of foreign countries</td>\n",
       "      <td>MK21 Åland</td>\n",
       "    </tr>\n",
       "    <tr>\n",
       "      <th>86</th>\n",
       "      <td>3785</td>\n",
       "      <td>4018</td>\n",
       "      <td>4171</td>\n",
       "      <td>4316</td>\n",
       "      <td>4502</td>\n",
       "      <td>4642</td>\n",
       "      <td>4905</td>\n",
       "      <td>5082</td>\n",
       "      <td>5377</td>\n",
       "      <td>5497</td>\n",
       "      <td>Persons born abroad</td>\n",
       "      <td>MK21 Åland</td>\n",
       "    </tr>\n",
       "    <tr>\n",
       "      <th>87</th>\n",
       "      <td>1462</td>\n",
       "      <td>1623</td>\n",
       "      <td>1733</td>\n",
       "      <td>1850</td>\n",
       "      <td>1986</td>\n",
       "      <td>2093</td>\n",
       "      <td>2255</td>\n",
       "      <td>2388</td>\n",
       "      <td>2538</td>\n",
       "      <td>2621</td>\n",
       "      <td>Foreign-language speakers</td>\n",
       "      <td>MK21 Åland</td>\n",
       "    </tr>\n",
       "    <tr>\n",
       "      <th>88</th>\n",
       "      <td>3054</td>\n",
       "      <td>3293</td>\n",
       "      <td>3454</td>\n",
       "      <td>3618</td>\n",
       "      <td>3824</td>\n",
       "      <td>3862</td>\n",
       "      <td>4126</td>\n",
       "      <td>4316</td>\n",
       "      <td>4612</td>\n",
       "      <td>4758</td>\n",
       "      <td>Persons with foreign background</td>\n",
       "      <td>MK21 Åland</td>\n",
       "    </tr>\n",
       "  </tbody>\n",
       "</table>\n",
       "<p>88 rows × 12 columns</p>\n",
       "</div>"
      ],
      "text/plain": [
       "0     2010    2011    2012    2013    2014    2015    2016    2017    2018  \\\n",
       "1   167954  183133  195511  207511  219675  229765  243639  249452  257572   \n",
       "2   248135  266148  285471  304279  321977  337162  357541  372802  387215   \n",
       "3   224388  244827  266949  289068  310306  329562  353993  373325  391746   \n",
       "4   237066  257494  279616  301524  322711  339925  364787  384123  402619   \n",
       "5        0       0       0       0       0       0       0       0       0   \n",
       "..     ...     ...     ...     ...     ...     ...     ...     ...     ...   \n",
       "84       0       0       0       0       0       0       0       0       0   \n",
       "85    2415    2560    2610    2721    2837    2927    3092    3182    3396   \n",
       "86    3785    4018    4171    4316    4502    4642    4905    5082    5377   \n",
       "87    1462    1623    1733    1850    1986    2093    2255    2388    2538   \n",
       "88    3054    3293    3454    3618    3824    3862    4126    4316    4612   \n",
       "\n",
       "0     2019                        Attribute                Region  \n",
       "1   267629    Citizens of foreign countries         WHOLE COUNTRY  \n",
       "2   404179              Persons born abroad         WHOLE COUNTRY  \n",
       "3   412644        Foreign-language speakers         WHOLE COUNTRY  \n",
       "4   423494  Persons with foreign background         WHOLE COUNTRY  \n",
       "5        0    Citizens of foreign countries  MA1 MAINLAND FINLAND  \n",
       "..     ...                              ...                   ...  \n",
       "84       0  Persons with foreign background             MA2 ÅLAND  \n",
       "85    3421    Citizens of foreign countries            MK21 Åland  \n",
       "86    5497              Persons born abroad            MK21 Åland  \n",
       "87    2621        Foreign-language speakers            MK21 Åland  \n",
       "88    4758  Persons with foreign background            MK21 Åland  \n",
       "\n",
       "[88 rows x 12 columns]"
      ]
     },
     "execution_count": 789,
     "metadata": {},
     "output_type": "execute_result"
    }
   ],
   "source": [
    "data2"
   ]
  },
  {
   "cell_type": "code",
   "execution_count": 791,
   "metadata": {
    "ExecuteTime": {
     "end_time": "2020-12-14T23:17:50.926788Z",
     "start_time": "2020-12-14T23:17:50.816990Z"
    }
   },
   "outputs": [
    {
     "data": {
      "application/vnd.plotly.v1+json": {
       "config": {
        "linkText": "Export to plot.ly",
        "plotlyServerURL": "https://plot.ly",
        "showLink": true
       },
       "data": [
        {
         "marker": {
          "color": "rgba(255, 153, 51, 0.6)",
          "line": {
           "color": "rgba(255, 153, 51, 1.0)",
           "width": 1
          }
         },
         "name": "2010",
         "orientation": "v",
         "text": "",
         "type": "bar",
         "x": [
          "Citizens of foreign countries",
          "Persons born abroad",
          "Foreign-language speakers",
          "Persons with foreign background"
         ],
         "y": [
          167954,
          248135,
          224388,
          237066
         ]
        },
        {
         "marker": {
          "color": "rgba(55, 128, 191, 0.6)",
          "line": {
           "color": "rgba(55, 128, 191, 1.0)",
           "width": 1
          }
         },
         "name": "2019",
         "orientation": "v",
         "text": "",
         "type": "bar",
         "x": [
          "Citizens of foreign countries",
          "Persons born abroad",
          "Foreign-language speakers",
          "Persons with foreign background"
         ],
         "y": [
          267629,
          404179,
          412644,
          423494
         ]
        }
       ],
       "layout": {
        "legend": {
         "bgcolor": "#F5F6F9",
         "font": {
          "color": "#4D5663"
         }
        },
        "paper_bgcolor": "#F5F6F9",
        "plot_bgcolor": "#F5F6F9",
        "template": {
         "data": {
          "bar": [
           {
            "error_x": {
             "color": "#2a3f5f"
            },
            "error_y": {
             "color": "#2a3f5f"
            },
            "marker": {
             "line": {
              "color": "#E5ECF6",
              "width": 0.5
             }
            },
            "type": "bar"
           }
          ],
          "barpolar": [
           {
            "marker": {
             "line": {
              "color": "#E5ECF6",
              "width": 0.5
             }
            },
            "type": "barpolar"
           }
          ],
          "carpet": [
           {
            "aaxis": {
             "endlinecolor": "#2a3f5f",
             "gridcolor": "white",
             "linecolor": "white",
             "minorgridcolor": "white",
             "startlinecolor": "#2a3f5f"
            },
            "baxis": {
             "endlinecolor": "#2a3f5f",
             "gridcolor": "white",
             "linecolor": "white",
             "minorgridcolor": "white",
             "startlinecolor": "#2a3f5f"
            },
            "type": "carpet"
           }
          ],
          "choropleth": [
           {
            "colorbar": {
             "outlinewidth": 0,
             "ticks": ""
            },
            "type": "choropleth"
           }
          ],
          "contour": [
           {
            "colorbar": {
             "outlinewidth": 0,
             "ticks": ""
            },
            "colorscale": [
             [
              0,
              "#0d0887"
             ],
             [
              0.1111111111111111,
              "#46039f"
             ],
             [
              0.2222222222222222,
              "#7201a8"
             ],
             [
              0.3333333333333333,
              "#9c179e"
             ],
             [
              0.4444444444444444,
              "#bd3786"
             ],
             [
              0.5555555555555556,
              "#d8576b"
             ],
             [
              0.6666666666666666,
              "#ed7953"
             ],
             [
              0.7777777777777778,
              "#fb9f3a"
             ],
             [
              0.8888888888888888,
              "#fdca26"
             ],
             [
              1,
              "#f0f921"
             ]
            ],
            "type": "contour"
           }
          ],
          "contourcarpet": [
           {
            "colorbar": {
             "outlinewidth": 0,
             "ticks": ""
            },
            "type": "contourcarpet"
           }
          ],
          "heatmap": [
           {
            "colorbar": {
             "outlinewidth": 0,
             "ticks": ""
            },
            "colorscale": [
             [
              0,
              "#0d0887"
             ],
             [
              0.1111111111111111,
              "#46039f"
             ],
             [
              0.2222222222222222,
              "#7201a8"
             ],
             [
              0.3333333333333333,
              "#9c179e"
             ],
             [
              0.4444444444444444,
              "#bd3786"
             ],
             [
              0.5555555555555556,
              "#d8576b"
             ],
             [
              0.6666666666666666,
              "#ed7953"
             ],
             [
              0.7777777777777778,
              "#fb9f3a"
             ],
             [
              0.8888888888888888,
              "#fdca26"
             ],
             [
              1,
              "#f0f921"
             ]
            ],
            "type": "heatmap"
           }
          ],
          "heatmapgl": [
           {
            "colorbar": {
             "outlinewidth": 0,
             "ticks": ""
            },
            "colorscale": [
             [
              0,
              "#0d0887"
             ],
             [
              0.1111111111111111,
              "#46039f"
             ],
             [
              0.2222222222222222,
              "#7201a8"
             ],
             [
              0.3333333333333333,
              "#9c179e"
             ],
             [
              0.4444444444444444,
              "#bd3786"
             ],
             [
              0.5555555555555556,
              "#d8576b"
             ],
             [
              0.6666666666666666,
              "#ed7953"
             ],
             [
              0.7777777777777778,
              "#fb9f3a"
             ],
             [
              0.8888888888888888,
              "#fdca26"
             ],
             [
              1,
              "#f0f921"
             ]
            ],
            "type": "heatmapgl"
           }
          ],
          "histogram": [
           {
            "marker": {
             "colorbar": {
              "outlinewidth": 0,
              "ticks": ""
             }
            },
            "type": "histogram"
           }
          ],
          "histogram2d": [
           {
            "colorbar": {
             "outlinewidth": 0,
             "ticks": ""
            },
            "colorscale": [
             [
              0,
              "#0d0887"
             ],
             [
              0.1111111111111111,
              "#46039f"
             ],
             [
              0.2222222222222222,
              "#7201a8"
             ],
             [
              0.3333333333333333,
              "#9c179e"
             ],
             [
              0.4444444444444444,
              "#bd3786"
             ],
             [
              0.5555555555555556,
              "#d8576b"
             ],
             [
              0.6666666666666666,
              "#ed7953"
             ],
             [
              0.7777777777777778,
              "#fb9f3a"
             ],
             [
              0.8888888888888888,
              "#fdca26"
             ],
             [
              1,
              "#f0f921"
             ]
            ],
            "type": "histogram2d"
           }
          ],
          "histogram2dcontour": [
           {
            "colorbar": {
             "outlinewidth": 0,
             "ticks": ""
            },
            "colorscale": [
             [
              0,
              "#0d0887"
             ],
             [
              0.1111111111111111,
              "#46039f"
             ],
             [
              0.2222222222222222,
              "#7201a8"
             ],
             [
              0.3333333333333333,
              "#9c179e"
             ],
             [
              0.4444444444444444,
              "#bd3786"
             ],
             [
              0.5555555555555556,
              "#d8576b"
             ],
             [
              0.6666666666666666,
              "#ed7953"
             ],
             [
              0.7777777777777778,
              "#fb9f3a"
             ],
             [
              0.8888888888888888,
              "#fdca26"
             ],
             [
              1,
              "#f0f921"
             ]
            ],
            "type": "histogram2dcontour"
           }
          ],
          "mesh3d": [
           {
            "colorbar": {
             "outlinewidth": 0,
             "ticks": ""
            },
            "type": "mesh3d"
           }
          ],
          "parcoords": [
           {
            "line": {
             "colorbar": {
              "outlinewidth": 0,
              "ticks": ""
             }
            },
            "type": "parcoords"
           }
          ],
          "pie": [
           {
            "automargin": true,
            "type": "pie"
           }
          ],
          "scatter": [
           {
            "marker": {
             "colorbar": {
              "outlinewidth": 0,
              "ticks": ""
             }
            },
            "type": "scatter"
           }
          ],
          "scatter3d": [
           {
            "line": {
             "colorbar": {
              "outlinewidth": 0,
              "ticks": ""
             }
            },
            "marker": {
             "colorbar": {
              "outlinewidth": 0,
              "ticks": ""
             }
            },
            "type": "scatter3d"
           }
          ],
          "scattercarpet": [
           {
            "marker": {
             "colorbar": {
              "outlinewidth": 0,
              "ticks": ""
             }
            },
            "type": "scattercarpet"
           }
          ],
          "scattergeo": [
           {
            "marker": {
             "colorbar": {
              "outlinewidth": 0,
              "ticks": ""
             }
            },
            "type": "scattergeo"
           }
          ],
          "scattergl": [
           {
            "marker": {
             "colorbar": {
              "outlinewidth": 0,
              "ticks": ""
             }
            },
            "type": "scattergl"
           }
          ],
          "scattermapbox": [
           {
            "marker": {
             "colorbar": {
              "outlinewidth": 0,
              "ticks": ""
             }
            },
            "type": "scattermapbox"
           }
          ],
          "scatterpolar": [
           {
            "marker": {
             "colorbar": {
              "outlinewidth": 0,
              "ticks": ""
             }
            },
            "type": "scatterpolar"
           }
          ],
          "scatterpolargl": [
           {
            "marker": {
             "colorbar": {
              "outlinewidth": 0,
              "ticks": ""
             }
            },
            "type": "scatterpolargl"
           }
          ],
          "scatterternary": [
           {
            "marker": {
             "colorbar": {
              "outlinewidth": 0,
              "ticks": ""
             }
            },
            "type": "scatterternary"
           }
          ],
          "surface": [
           {
            "colorbar": {
             "outlinewidth": 0,
             "ticks": ""
            },
            "colorscale": [
             [
              0,
              "#0d0887"
             ],
             [
              0.1111111111111111,
              "#46039f"
             ],
             [
              0.2222222222222222,
              "#7201a8"
             ],
             [
              0.3333333333333333,
              "#9c179e"
             ],
             [
              0.4444444444444444,
              "#bd3786"
             ],
             [
              0.5555555555555556,
              "#d8576b"
             ],
             [
              0.6666666666666666,
              "#ed7953"
             ],
             [
              0.7777777777777778,
              "#fb9f3a"
             ],
             [
              0.8888888888888888,
              "#fdca26"
             ],
             [
              1,
              "#f0f921"
             ]
            ],
            "type": "surface"
           }
          ],
          "table": [
           {
            "cells": {
             "fill": {
              "color": "#EBF0F8"
             },
             "line": {
              "color": "white"
             }
            },
            "header": {
             "fill": {
              "color": "#C8D4E3"
             },
             "line": {
              "color": "white"
             }
            },
            "type": "table"
           }
          ]
         },
         "layout": {
          "annotationdefaults": {
           "arrowcolor": "#2a3f5f",
           "arrowhead": 0,
           "arrowwidth": 1
          },
          "coloraxis": {
           "colorbar": {
            "outlinewidth": 0,
            "ticks": ""
           }
          },
          "colorscale": {
           "diverging": [
            [
             0,
             "#8e0152"
            ],
            [
             0.1,
             "#c51b7d"
            ],
            [
             0.2,
             "#de77ae"
            ],
            [
             0.3,
             "#f1b6da"
            ],
            [
             0.4,
             "#fde0ef"
            ],
            [
             0.5,
             "#f7f7f7"
            ],
            [
             0.6,
             "#e6f5d0"
            ],
            [
             0.7,
             "#b8e186"
            ],
            [
             0.8,
             "#7fbc41"
            ],
            [
             0.9,
             "#4d9221"
            ],
            [
             1,
             "#276419"
            ]
           ],
           "sequential": [
            [
             0,
             "#0d0887"
            ],
            [
             0.1111111111111111,
             "#46039f"
            ],
            [
             0.2222222222222222,
             "#7201a8"
            ],
            [
             0.3333333333333333,
             "#9c179e"
            ],
            [
             0.4444444444444444,
             "#bd3786"
            ],
            [
             0.5555555555555556,
             "#d8576b"
            ],
            [
             0.6666666666666666,
             "#ed7953"
            ],
            [
             0.7777777777777778,
             "#fb9f3a"
            ],
            [
             0.8888888888888888,
             "#fdca26"
            ],
            [
             1,
             "#f0f921"
            ]
           ],
           "sequentialminus": [
            [
             0,
             "#0d0887"
            ],
            [
             0.1111111111111111,
             "#46039f"
            ],
            [
             0.2222222222222222,
             "#7201a8"
            ],
            [
             0.3333333333333333,
             "#9c179e"
            ],
            [
             0.4444444444444444,
             "#bd3786"
            ],
            [
             0.5555555555555556,
             "#d8576b"
            ],
            [
             0.6666666666666666,
             "#ed7953"
            ],
            [
             0.7777777777777778,
             "#fb9f3a"
            ],
            [
             0.8888888888888888,
             "#fdca26"
            ],
            [
             1,
             "#f0f921"
            ]
           ]
          },
          "colorway": [
           "#636efa",
           "#EF553B",
           "#00cc96",
           "#ab63fa",
           "#FFA15A",
           "#19d3f3",
           "#FF6692",
           "#B6E880",
           "#FF97FF",
           "#FECB52"
          ],
          "font": {
           "color": "#2a3f5f"
          },
          "geo": {
           "bgcolor": "white",
           "lakecolor": "white",
           "landcolor": "#E5ECF6",
           "showlakes": true,
           "showland": true,
           "subunitcolor": "white"
          },
          "hoverlabel": {
           "align": "left"
          },
          "hovermode": "closest",
          "mapbox": {
           "style": "light"
          },
          "paper_bgcolor": "white",
          "plot_bgcolor": "#E5ECF6",
          "polar": {
           "angularaxis": {
            "gridcolor": "white",
            "linecolor": "white",
            "ticks": ""
           },
           "bgcolor": "#E5ECF6",
           "radialaxis": {
            "gridcolor": "white",
            "linecolor": "white",
            "ticks": ""
           }
          },
          "scene": {
           "xaxis": {
            "backgroundcolor": "#E5ECF6",
            "gridcolor": "white",
            "gridwidth": 2,
            "linecolor": "white",
            "showbackground": true,
            "ticks": "",
            "zerolinecolor": "white"
           },
           "yaxis": {
            "backgroundcolor": "#E5ECF6",
            "gridcolor": "white",
            "gridwidth": 2,
            "linecolor": "white",
            "showbackground": true,
            "ticks": "",
            "zerolinecolor": "white"
           },
           "zaxis": {
            "backgroundcolor": "#E5ECF6",
            "gridcolor": "white",
            "gridwidth": 2,
            "linecolor": "white",
            "showbackground": true,
            "ticks": "",
            "zerolinecolor": "white"
           }
          },
          "shapedefaults": {
           "line": {
            "color": "#2a3f5f"
           }
          },
          "ternary": {
           "aaxis": {
            "gridcolor": "white",
            "linecolor": "white",
            "ticks": ""
           },
           "baxis": {
            "gridcolor": "white",
            "linecolor": "white",
            "ticks": ""
           },
           "bgcolor": "#E5ECF6",
           "caxis": {
            "gridcolor": "white",
            "linecolor": "white",
            "ticks": ""
           }
          },
          "title": {
           "x": 0.05
          },
          "xaxis": {
           "automargin": true,
           "gridcolor": "white",
           "linecolor": "white",
           "ticks": "",
           "title": {
            "standoff": 15
           },
           "zerolinecolor": "white",
           "zerolinewidth": 2
          },
          "yaxis": {
           "automargin": true,
           "gridcolor": "white",
           "linecolor": "white",
           "ticks": "",
           "title": {
            "standoff": 15
           },
           "zerolinecolor": "white",
           "zerolinewidth": 2
          }
         }
        },
        "title": {
         "font": {
          "color": "#4D5663"
         },
         "text": "whole country data"
        },
        "xaxis": {
         "gridcolor": "#E1E5ED",
         "showgrid": true,
         "tickfont": {
          "color": "#4D5663"
         },
         "title": {
          "font": {
           "color": "#4D5663"
          },
          "text": ""
         },
         "zerolinecolor": "#E1E5ED"
        },
        "yaxis": {
         "gridcolor": "#E1E5ED",
         "showgrid": true,
         "tickfont": {
          "color": "#4D5663"
         },
         "title": {
          "font": {
           "color": "#4D5663"
          },
          "text": ""
         },
         "zerolinecolor": "#E1E5ED"
        }
       }
      },
      "text/html": [
       "<div>                            <div id=\"9d51ad3c-fe5d-4b02-8e58-99bc350a1658\" class=\"plotly-graph-div\" style=\"height:525px; width:100%;\"></div>            <script type=\"text/javascript\">                require([\"plotly\"], function(Plotly) {                    window.PLOTLYENV=window.PLOTLYENV || {};\n",
       "                    window.PLOTLYENV.BASE_URL='https://plot.ly';                                    if (document.getElementById(\"9d51ad3c-fe5d-4b02-8e58-99bc350a1658\")) {                    Plotly.newPlot(                        \"9d51ad3c-fe5d-4b02-8e58-99bc350a1658\",                        [{\"marker\": {\"color\": \"rgba(255, 153, 51, 0.6)\", \"line\": {\"color\": \"rgba(255, 153, 51, 1.0)\", \"width\": 1}}, \"name\": \"2010\", \"orientation\": \"v\", \"text\": \"\", \"type\": \"bar\", \"x\": [\"Citizens of foreign countries\", \"Persons born abroad\", \"Foreign-language speakers\", \"Persons with foreign background\"], \"y\": [167954, 248135, 224388, 237066]}, {\"marker\": {\"color\": \"rgba(55, 128, 191, 0.6)\", \"line\": {\"color\": \"rgba(55, 128, 191, 1.0)\", \"width\": 1}}, \"name\": \"2019\", \"orientation\": \"v\", \"text\": \"\", \"type\": \"bar\", \"x\": [\"Citizens of foreign countries\", \"Persons born abroad\", \"Foreign-language speakers\", \"Persons with foreign background\"], \"y\": [267629, 404179, 412644, 423494]}],                        {\"legend\": {\"bgcolor\": \"#F5F6F9\", \"font\": {\"color\": \"#4D5663\"}}, \"paper_bgcolor\": \"#F5F6F9\", \"plot_bgcolor\": \"#F5F6F9\", \"template\": {\"data\": {\"bar\": [{\"error_x\": {\"color\": \"#2a3f5f\"}, \"error_y\": {\"color\": \"#2a3f5f\"}, \"marker\": {\"line\": {\"color\": \"#E5ECF6\", \"width\": 0.5}}, \"type\": \"bar\"}], \"barpolar\": [{\"marker\": {\"line\": {\"color\": \"#E5ECF6\", \"width\": 0.5}}, \"type\": \"barpolar\"}], \"carpet\": [{\"aaxis\": {\"endlinecolor\": \"#2a3f5f\", \"gridcolor\": \"white\", \"linecolor\": \"white\", \"minorgridcolor\": \"white\", \"startlinecolor\": \"#2a3f5f\"}, \"baxis\": {\"endlinecolor\": \"#2a3f5f\", \"gridcolor\": \"white\", \"linecolor\": \"white\", \"minorgridcolor\": \"white\", \"startlinecolor\": \"#2a3f5f\"}, \"type\": \"carpet\"}], \"choropleth\": [{\"colorbar\": {\"outlinewidth\": 0, \"ticks\": \"\"}, \"type\": \"choropleth\"}], \"contour\": [{\"colorbar\": {\"outlinewidth\": 0, \"ticks\": \"\"}, \"colorscale\": [[0.0, \"#0d0887\"], [0.1111111111111111, \"#46039f\"], [0.2222222222222222, \"#7201a8\"], [0.3333333333333333, \"#9c179e\"], [0.4444444444444444, \"#bd3786\"], [0.5555555555555556, \"#d8576b\"], [0.6666666666666666, \"#ed7953\"], [0.7777777777777778, \"#fb9f3a\"], [0.8888888888888888, \"#fdca26\"], [1.0, \"#f0f921\"]], \"type\": \"contour\"}], \"contourcarpet\": [{\"colorbar\": {\"outlinewidth\": 0, \"ticks\": \"\"}, \"type\": \"contourcarpet\"}], \"heatmap\": [{\"colorbar\": {\"outlinewidth\": 0, \"ticks\": \"\"}, \"colorscale\": [[0.0, \"#0d0887\"], [0.1111111111111111, \"#46039f\"], [0.2222222222222222, \"#7201a8\"], [0.3333333333333333, \"#9c179e\"], [0.4444444444444444, \"#bd3786\"], [0.5555555555555556, \"#d8576b\"], [0.6666666666666666, \"#ed7953\"], [0.7777777777777778, \"#fb9f3a\"], [0.8888888888888888, \"#fdca26\"], [1.0, \"#f0f921\"]], \"type\": \"heatmap\"}], \"heatmapgl\": [{\"colorbar\": {\"outlinewidth\": 0, \"ticks\": \"\"}, \"colorscale\": [[0.0, \"#0d0887\"], [0.1111111111111111, \"#46039f\"], [0.2222222222222222, \"#7201a8\"], [0.3333333333333333, \"#9c179e\"], [0.4444444444444444, \"#bd3786\"], [0.5555555555555556, \"#d8576b\"], [0.6666666666666666, \"#ed7953\"], [0.7777777777777778, \"#fb9f3a\"], [0.8888888888888888, \"#fdca26\"], [1.0, \"#f0f921\"]], \"type\": \"heatmapgl\"}], \"histogram\": [{\"marker\": {\"colorbar\": {\"outlinewidth\": 0, \"ticks\": \"\"}}, \"type\": \"histogram\"}], \"histogram2d\": [{\"colorbar\": {\"outlinewidth\": 0, \"ticks\": \"\"}, \"colorscale\": [[0.0, \"#0d0887\"], [0.1111111111111111, \"#46039f\"], [0.2222222222222222, \"#7201a8\"], [0.3333333333333333, \"#9c179e\"], [0.4444444444444444, \"#bd3786\"], [0.5555555555555556, \"#d8576b\"], [0.6666666666666666, \"#ed7953\"], [0.7777777777777778, \"#fb9f3a\"], [0.8888888888888888, \"#fdca26\"], [1.0, \"#f0f921\"]], \"type\": \"histogram2d\"}], \"histogram2dcontour\": [{\"colorbar\": {\"outlinewidth\": 0, \"ticks\": \"\"}, \"colorscale\": [[0.0, \"#0d0887\"], [0.1111111111111111, \"#46039f\"], [0.2222222222222222, \"#7201a8\"], [0.3333333333333333, \"#9c179e\"], [0.4444444444444444, \"#bd3786\"], [0.5555555555555556, \"#d8576b\"], [0.6666666666666666, \"#ed7953\"], [0.7777777777777778, \"#fb9f3a\"], [0.8888888888888888, \"#fdca26\"], [1.0, \"#f0f921\"]], \"type\": \"histogram2dcontour\"}], \"mesh3d\": [{\"colorbar\": {\"outlinewidth\": 0, \"ticks\": \"\"}, \"type\": \"mesh3d\"}], \"parcoords\": [{\"line\": {\"colorbar\": {\"outlinewidth\": 0, \"ticks\": \"\"}}, \"type\": \"parcoords\"}], \"pie\": [{\"automargin\": true, \"type\": \"pie\"}], \"scatter\": [{\"marker\": {\"colorbar\": {\"outlinewidth\": 0, \"ticks\": \"\"}}, \"type\": \"scatter\"}], \"scatter3d\": [{\"line\": {\"colorbar\": {\"outlinewidth\": 0, \"ticks\": \"\"}}, \"marker\": {\"colorbar\": {\"outlinewidth\": 0, \"ticks\": \"\"}}, \"type\": \"scatter3d\"}], \"scattercarpet\": [{\"marker\": {\"colorbar\": {\"outlinewidth\": 0, \"ticks\": \"\"}}, \"type\": \"scattercarpet\"}], \"scattergeo\": [{\"marker\": {\"colorbar\": {\"outlinewidth\": 0, \"ticks\": \"\"}}, \"type\": \"scattergeo\"}], \"scattergl\": [{\"marker\": {\"colorbar\": {\"outlinewidth\": 0, \"ticks\": \"\"}}, \"type\": \"scattergl\"}], \"scattermapbox\": [{\"marker\": {\"colorbar\": {\"outlinewidth\": 0, \"ticks\": \"\"}}, \"type\": \"scattermapbox\"}], \"scatterpolar\": [{\"marker\": {\"colorbar\": {\"outlinewidth\": 0, \"ticks\": \"\"}}, \"type\": \"scatterpolar\"}], \"scatterpolargl\": [{\"marker\": {\"colorbar\": {\"outlinewidth\": 0, \"ticks\": \"\"}}, \"type\": \"scatterpolargl\"}], \"scatterternary\": [{\"marker\": {\"colorbar\": {\"outlinewidth\": 0, \"ticks\": \"\"}}, \"type\": \"scatterternary\"}], \"surface\": [{\"colorbar\": {\"outlinewidth\": 0, \"ticks\": \"\"}, \"colorscale\": [[0.0, \"#0d0887\"], [0.1111111111111111, \"#46039f\"], [0.2222222222222222, \"#7201a8\"], [0.3333333333333333, \"#9c179e\"], [0.4444444444444444, \"#bd3786\"], [0.5555555555555556, \"#d8576b\"], [0.6666666666666666, \"#ed7953\"], [0.7777777777777778, \"#fb9f3a\"], [0.8888888888888888, \"#fdca26\"], [1.0, \"#f0f921\"]], \"type\": \"surface\"}], \"table\": [{\"cells\": {\"fill\": {\"color\": \"#EBF0F8\"}, \"line\": {\"color\": \"white\"}}, \"header\": {\"fill\": {\"color\": \"#C8D4E3\"}, \"line\": {\"color\": \"white\"}}, \"type\": \"table\"}]}, \"layout\": {\"annotationdefaults\": {\"arrowcolor\": \"#2a3f5f\", \"arrowhead\": 0, \"arrowwidth\": 1}, \"coloraxis\": {\"colorbar\": {\"outlinewidth\": 0, \"ticks\": \"\"}}, \"colorscale\": {\"diverging\": [[0, \"#8e0152\"], [0.1, \"#c51b7d\"], [0.2, \"#de77ae\"], [0.3, \"#f1b6da\"], [0.4, \"#fde0ef\"], [0.5, \"#f7f7f7\"], [0.6, \"#e6f5d0\"], [0.7, \"#b8e186\"], [0.8, \"#7fbc41\"], [0.9, \"#4d9221\"], [1, \"#276419\"]], \"sequential\": [[0.0, \"#0d0887\"], [0.1111111111111111, \"#46039f\"], [0.2222222222222222, \"#7201a8\"], [0.3333333333333333, \"#9c179e\"], [0.4444444444444444, \"#bd3786\"], [0.5555555555555556, \"#d8576b\"], [0.6666666666666666, \"#ed7953\"], [0.7777777777777778, \"#fb9f3a\"], [0.8888888888888888, \"#fdca26\"], [1.0, \"#f0f921\"]], \"sequentialminus\": [[0.0, \"#0d0887\"], [0.1111111111111111, \"#46039f\"], [0.2222222222222222, \"#7201a8\"], [0.3333333333333333, \"#9c179e\"], [0.4444444444444444, \"#bd3786\"], [0.5555555555555556, \"#d8576b\"], [0.6666666666666666, \"#ed7953\"], [0.7777777777777778, \"#fb9f3a\"], [0.8888888888888888, \"#fdca26\"], [1.0, \"#f0f921\"]]}, \"colorway\": [\"#636efa\", \"#EF553B\", \"#00cc96\", \"#ab63fa\", \"#FFA15A\", \"#19d3f3\", \"#FF6692\", \"#B6E880\", \"#FF97FF\", \"#FECB52\"], \"font\": {\"color\": \"#2a3f5f\"}, \"geo\": {\"bgcolor\": \"white\", \"lakecolor\": \"white\", \"landcolor\": \"#E5ECF6\", \"showlakes\": true, \"showland\": true, \"subunitcolor\": \"white\"}, \"hoverlabel\": {\"align\": \"left\"}, \"hovermode\": \"closest\", \"mapbox\": {\"style\": \"light\"}, \"paper_bgcolor\": \"white\", \"plot_bgcolor\": \"#E5ECF6\", \"polar\": {\"angularaxis\": {\"gridcolor\": \"white\", \"linecolor\": \"white\", \"ticks\": \"\"}, \"bgcolor\": \"#E5ECF6\", \"radialaxis\": {\"gridcolor\": \"white\", \"linecolor\": \"white\", \"ticks\": \"\"}}, \"scene\": {\"xaxis\": {\"backgroundcolor\": \"#E5ECF6\", \"gridcolor\": \"white\", \"gridwidth\": 2, \"linecolor\": \"white\", \"showbackground\": true, \"ticks\": \"\", \"zerolinecolor\": \"white\"}, \"yaxis\": {\"backgroundcolor\": \"#E5ECF6\", \"gridcolor\": \"white\", \"gridwidth\": 2, \"linecolor\": \"white\", \"showbackground\": true, \"ticks\": \"\", \"zerolinecolor\": \"white\"}, \"zaxis\": {\"backgroundcolor\": \"#E5ECF6\", \"gridcolor\": \"white\", \"gridwidth\": 2, \"linecolor\": \"white\", \"showbackground\": true, \"ticks\": \"\", \"zerolinecolor\": \"white\"}}, \"shapedefaults\": {\"line\": {\"color\": \"#2a3f5f\"}}, \"ternary\": {\"aaxis\": {\"gridcolor\": \"white\", \"linecolor\": \"white\", \"ticks\": \"\"}, \"baxis\": {\"gridcolor\": \"white\", \"linecolor\": \"white\", \"ticks\": \"\"}, \"bgcolor\": \"#E5ECF6\", \"caxis\": {\"gridcolor\": \"white\", \"linecolor\": \"white\", \"ticks\": \"\"}}, \"title\": {\"x\": 0.05}, \"xaxis\": {\"automargin\": true, \"gridcolor\": \"white\", \"linecolor\": \"white\", \"ticks\": \"\", \"title\": {\"standoff\": 15}, \"zerolinecolor\": \"white\", \"zerolinewidth\": 2}, \"yaxis\": {\"automargin\": true, \"gridcolor\": \"white\", \"linecolor\": \"white\", \"ticks\": \"\", \"title\": {\"standoff\": 15}, \"zerolinecolor\": \"white\", \"zerolinewidth\": 2}}}, \"title\": {\"font\": {\"color\": \"#4D5663\"}, \"text\": \"whole country data\"}, \"xaxis\": {\"gridcolor\": \"#E1E5ED\", \"showgrid\": true, \"tickfont\": {\"color\": \"#4D5663\"}, \"title\": {\"font\": {\"color\": \"#4D5663\"}, \"text\": \"\"}, \"zerolinecolor\": \"#E1E5ED\"}, \"yaxis\": {\"gridcolor\": \"#E1E5ED\", \"showgrid\": true, \"tickfont\": {\"color\": \"#4D5663\"}, \"title\": {\"font\": {\"color\": \"#4D5663\"}, \"text\": \"\"}, \"zerolinecolor\": \"#E1E5ED\"}},                        {\"showLink\": true, \"linkText\": \"Export to plot.ly\", \"plotlyServerURL\": \"https://plot.ly\", \"responsive\": true}                    ).then(function(){\n",
       "                            \n",
       "var gd = document.getElementById('9d51ad3c-fe5d-4b02-8e58-99bc350a1658');\n",
       "var x = new MutationObserver(function (mutations, observer) {{\n",
       "        var display = window.getComputedStyle(gd).display;\n",
       "        if (!display || display === 'none') {{\n",
       "            console.log([gd, 'removed!']);\n",
       "            Plotly.purge(gd);\n",
       "            observer.disconnect();\n",
       "        }}\n",
       "}});\n",
       "\n",
       "// Listen for the removal of the full notebook cells\n",
       "var notebookContainer = gd.closest('#notebook-container');\n",
       "if (notebookContainer) {{\n",
       "    x.observe(notebookContainer, {childList: true});\n",
       "}}\n",
       "\n",
       "// Listen for the clearing of the current output cell\n",
       "var outputEl = gd.closest('.output');\n",
       "if (outputEl) {{\n",
       "    x.observe(outputEl, {childList: true});\n",
       "}}\n",
       "\n",
       "                        })                };                });            </script>        </div>"
      ]
     },
     "metadata": {},
     "output_type": "display_data"
    }
   ],
   "source": [
    "whole_country=data2.query('Region==\"WHOLE COUNTRY\"').reset_index(drop=True).iplot(kind='bar',x='Attribute',y=[2010,2019],title='whole country data')\n",
    "whole_country"
   ]
  },
  {
   "cell_type": "markdown",
   "metadata": {},
   "source": [
    "<b> This visualization shows the overall change in all the attributes from year 2010 to 2019 for the whole country. The increase in all the attribute suggests that over the course of 10 years Finland have been more leaning towards internationalization of its society. Perhaps, this suggests that Finland have been one of the few countries in Europe to mix its culture with international culture to bring variety."
   ]
  },
  {
   "cell_type": "code",
   "execution_count": 792,
   "metadata": {
    "ExecuteTime": {
     "end_time": "2020-12-14T23:17:53.071072Z",
     "start_time": "2020-12-14T23:17:53.049950Z"
    }
   },
   "outputs": [
    {
     "data": {
      "text/html": [
       "<div>\n",
       "<style scoped>\n",
       "    .dataframe tbody tr th:only-of-type {\n",
       "        vertical-align: middle;\n",
       "    }\n",
       "\n",
       "    .dataframe tbody tr th {\n",
       "        vertical-align: top;\n",
       "    }\n",
       "\n",
       "    .dataframe thead th {\n",
       "        text-align: right;\n",
       "    }\n",
       "</style>\n",
       "<table border=\"1\" class=\"dataframe\">\n",
       "  <thead>\n",
       "    <tr style=\"text-align: right;\">\n",
       "      <th></th>\n",
       "      <th>2010</th>\n",
       "      <th>2011</th>\n",
       "      <th>2012</th>\n",
       "      <th>2013</th>\n",
       "      <th>2014</th>\n",
       "      <th>2015</th>\n",
       "      <th>2016</th>\n",
       "      <th>2017</th>\n",
       "      <th>2018</th>\n",
       "      <th>2019</th>\n",
       "      <th>Attribute</th>\n",
       "      <th>Region</th>\n",
       "    </tr>\n",
       "  </thead>\n",
       "  <tbody>\n",
       "    <tr>\n",
       "      <th>0</th>\n",
       "      <td>0</td>\n",
       "      <td>0</td>\n",
       "      <td>0</td>\n",
       "      <td>0</td>\n",
       "      <td>0</td>\n",
       "      <td>0</td>\n",
       "      <td>0</td>\n",
       "      <td>0</td>\n",
       "      <td>0</td>\n",
       "      <td>0</td>\n",
       "      <td>Citizens of foreign countries</td>\n",
       "      <td>MA1 MAINLAND FINLAND</td>\n",
       "    </tr>\n",
       "    <tr>\n",
       "      <th>1</th>\n",
       "      <td>0</td>\n",
       "      <td>0</td>\n",
       "      <td>0</td>\n",
       "      <td>0</td>\n",
       "      <td>0</td>\n",
       "      <td>0</td>\n",
       "      <td>0</td>\n",
       "      <td>0</td>\n",
       "      <td>0</td>\n",
       "      <td>0</td>\n",
       "      <td>Persons born abroad</td>\n",
       "      <td>MA1 MAINLAND FINLAND</td>\n",
       "    </tr>\n",
       "    <tr>\n",
       "      <th>2</th>\n",
       "      <td>0</td>\n",
       "      <td>0</td>\n",
       "      <td>0</td>\n",
       "      <td>0</td>\n",
       "      <td>0</td>\n",
       "      <td>0</td>\n",
       "      <td>0</td>\n",
       "      <td>0</td>\n",
       "      <td>0</td>\n",
       "      <td>0</td>\n",
       "      <td>Foreign-language speakers</td>\n",
       "      <td>MA1 MAINLAND FINLAND</td>\n",
       "    </tr>\n",
       "    <tr>\n",
       "      <th>3</th>\n",
       "      <td>0</td>\n",
       "      <td>0</td>\n",
       "      <td>0</td>\n",
       "      <td>0</td>\n",
       "      <td>0</td>\n",
       "      <td>0</td>\n",
       "      <td>0</td>\n",
       "      <td>0</td>\n",
       "      <td>0</td>\n",
       "      <td>0</td>\n",
       "      <td>Persons with foreign background</td>\n",
       "      <td>MA1 MAINLAND FINLAND</td>\n",
       "    </tr>\n",
       "    <tr>\n",
       "      <th>4</th>\n",
       "      <td>86685</td>\n",
       "      <td>94966</td>\n",
       "      <td>102118</td>\n",
       "      <td>109213</td>\n",
       "      <td>116791</td>\n",
       "      <td>123300</td>\n",
       "      <td>130963</td>\n",
       "      <td>135412</td>\n",
       "      <td>141597</td>\n",
       "      <td>149253</td>\n",
       "      <td>Citizens of foreign countries</td>\n",
       "      <td>MK01 Uusimaa</td>\n",
       "    </tr>\n",
       "    <tr>\n",
       "      <th>...</th>\n",
       "      <td>...</td>\n",
       "      <td>...</td>\n",
       "      <td>...</td>\n",
       "      <td>...</td>\n",
       "      <td>...</td>\n",
       "      <td>...</td>\n",
       "      <td>...</td>\n",
       "      <td>...</td>\n",
       "      <td>...</td>\n",
       "      <td>...</td>\n",
       "      <td>...</td>\n",
       "      <td>...</td>\n",
       "    </tr>\n",
       "    <tr>\n",
       "      <th>79</th>\n",
       "      <td>0</td>\n",
       "      <td>0</td>\n",
       "      <td>0</td>\n",
       "      <td>0</td>\n",
       "      <td>0</td>\n",
       "      <td>0</td>\n",
       "      <td>0</td>\n",
       "      <td>0</td>\n",
       "      <td>0</td>\n",
       "      <td>0</td>\n",
       "      <td>Persons with foreign background</td>\n",
       "      <td>MA2 ÅLAND</td>\n",
       "    </tr>\n",
       "    <tr>\n",
       "      <th>80</th>\n",
       "      <td>2415</td>\n",
       "      <td>2560</td>\n",
       "      <td>2610</td>\n",
       "      <td>2721</td>\n",
       "      <td>2837</td>\n",
       "      <td>2927</td>\n",
       "      <td>3092</td>\n",
       "      <td>3182</td>\n",
       "      <td>3396</td>\n",
       "      <td>3421</td>\n",
       "      <td>Citizens of foreign countries</td>\n",
       "      <td>MK21 Åland</td>\n",
       "    </tr>\n",
       "    <tr>\n",
       "      <th>81</th>\n",
       "      <td>3785</td>\n",
       "      <td>4018</td>\n",
       "      <td>4171</td>\n",
       "      <td>4316</td>\n",
       "      <td>4502</td>\n",
       "      <td>4642</td>\n",
       "      <td>4905</td>\n",
       "      <td>5082</td>\n",
       "      <td>5377</td>\n",
       "      <td>5497</td>\n",
       "      <td>Persons born abroad</td>\n",
       "      <td>MK21 Åland</td>\n",
       "    </tr>\n",
       "    <tr>\n",
       "      <th>82</th>\n",
       "      <td>1462</td>\n",
       "      <td>1623</td>\n",
       "      <td>1733</td>\n",
       "      <td>1850</td>\n",
       "      <td>1986</td>\n",
       "      <td>2093</td>\n",
       "      <td>2255</td>\n",
       "      <td>2388</td>\n",
       "      <td>2538</td>\n",
       "      <td>2621</td>\n",
       "      <td>Foreign-language speakers</td>\n",
       "      <td>MK21 Åland</td>\n",
       "    </tr>\n",
       "    <tr>\n",
       "      <th>83</th>\n",
       "      <td>3054</td>\n",
       "      <td>3293</td>\n",
       "      <td>3454</td>\n",
       "      <td>3618</td>\n",
       "      <td>3824</td>\n",
       "      <td>3862</td>\n",
       "      <td>4126</td>\n",
       "      <td>4316</td>\n",
       "      <td>4612</td>\n",
       "      <td>4758</td>\n",
       "      <td>Persons with foreign background</td>\n",
       "      <td>MK21 Åland</td>\n",
       "    </tr>\n",
       "  </tbody>\n",
       "</table>\n",
       "<p>84 rows × 12 columns</p>\n",
       "</div>"
      ],
      "text/plain": [
       "0    2010   2011    2012    2013    2014    2015    2016    2017    2018  \\\n",
       "0       0      0       0       0       0       0       0       0       0   \n",
       "1       0      0       0       0       0       0       0       0       0   \n",
       "2       0      0       0       0       0       0       0       0       0   \n",
       "3       0      0       0       0       0       0       0       0       0   \n",
       "4   86685  94966  102118  109213  116791  123300  130963  135412  141597   \n",
       "..    ...    ...     ...     ...     ...     ...     ...     ...     ...   \n",
       "79      0      0       0       0       0       0       0       0       0   \n",
       "80   2415   2560    2610    2721    2837    2927    3092    3182    3396   \n",
       "81   3785   4018    4171    4316    4502    4642    4905    5082    5377   \n",
       "82   1462   1623    1733    1850    1986    2093    2255    2388    2538   \n",
       "83   3054   3293    3454    3618    3824    3862    4126    4316    4612   \n",
       "\n",
       "0     2019                        Attribute                Region  \n",
       "0        0    Citizens of foreign countries  MA1 MAINLAND FINLAND  \n",
       "1        0              Persons born abroad  MA1 MAINLAND FINLAND  \n",
       "2        0        Foreign-language speakers  MA1 MAINLAND FINLAND  \n",
       "3        0  Persons with foreign background  MA1 MAINLAND FINLAND  \n",
       "4   149253    Citizens of foreign countries          MK01 Uusimaa  \n",
       "..     ...                              ...                   ...  \n",
       "79       0  Persons with foreign background             MA2 ÅLAND  \n",
       "80    3421    Citizens of foreign countries            MK21 Åland  \n",
       "81    5497              Persons born abroad            MK21 Åland  \n",
       "82    2621        Foreign-language speakers            MK21 Åland  \n",
       "83    4758  Persons with foreign background            MK21 Åland  \n",
       "\n",
       "[84 rows x 12 columns]"
      ]
     },
     "execution_count": 792,
     "metadata": {},
     "output_type": "execute_result"
    }
   ],
   "source": [
    "region"
   ]
  },
  {
   "cell_type": "markdown",
   "metadata": {},
   "source": [
    "<b><span style='color:blue'> This is the bar graph visualization of different attributes for the whole country from 2010 and 2019. Specific year can be selected to see the attributes contribution or all the years data can be viewed together but in doing so the graphical visualization becomes a bit messier so it is recomended to select specific years from the index to view the graph.</span>"
   ]
  },
  {
   "cell_type": "code",
   "execution_count": 873,
   "metadata": {
    "ExecuteTime": {
     "end_time": "2020-12-15T10:41:49.264028Z",
     "start_time": "2020-12-15T10:41:49.074834Z"
    },
    "scrolled": true
   },
   "outputs": [
    {
     "data": {
      "application/vnd.plotly.v1+json": {
       "config": {
        "linkText": "Export to plot.ly",
        "plotlyServerURL": "https://plot.ly",
        "showLink": true
       },
       "data": [
        {
         "line": {
          "color": "rgba(255, 153, 51, 1.0)",
          "dash": "solid",
          "shape": "linear",
          "width": 1.3
         },
         "mode": "lines",
         "name": "2019",
         "text": "",
         "type": "scatter",
         "x": [
          "(Citizens of foreign countries,MA1 MAINLAND FINLAND)",
          "(Persons born abroad,MA1 MAINLAND FINLAND)",
          "(Foreign-language speakers,MA1 MAINLAND FINLAND)",
          "(Persons with foreign background,MA1 MAINLAND FINLAND)",
          "(Citizens of foreign countries,MK01 Uusimaa)",
          "(Persons born abroad,MK01 Uusimaa)",
          "(Foreign-language speakers,MK01 Uusimaa)",
          "(Persons with foreign background,MK01 Uusimaa)",
          "(Citizens of foreign countries,MK02 Southwest)",
          "(Persons born abroad,MK02 Southwest)",
          "(Foreign-language speakers,MK02 Southwest)",
          "(Persons with foreign background,MK02 Southwest)",
          "(Citizens of foreign countries,MK04 Satakunta)",
          "(Persons born abroad,MK04 Satakunta)",
          "(Foreign-language speakers,MK04 Satakunta)",
          "(Persons with foreign background,MK04 Satakunta)",
          "(Citizens of foreign countries,MK05 Kanta-Häme)",
          "(Persons born abroad,MK05 Kanta-Häme)",
          "(Foreign-language speakers,MK05 Kanta-Häme)",
          "(Persons with foreign background,MK05 Kanta-Häme)",
          "(Citizens of foreign countries,MK06)",
          "(Persons born abroad,MK06)",
          "(Foreign-language speakers,MK06)",
          "(Persons with foreign background,MK06)",
          "(Citizens of foreign countries,MK07 Päijät-Häme)",
          "(Persons born abroad,MK07 Päijät-Häme)",
          "(Foreign-language speakers,MK07 Päijät-Häme)",
          "(Persons with foreign background,MK07 Päijät-Häme)",
          "(Citizens of foreign countries,MK08 Kymenlaakso)",
          "(Persons born abroad,MK08 Kymenlaakso)",
          "(Foreign-language speakers,MK08 Kymenlaakso)",
          "(Persons with foreign background,MK08 Kymenlaakso)",
          "(Citizens of foreign countries,MK09 South Karelia)",
          "(Persons born abroad,MK09 South Karelia)",
          "(Foreign-language speakers,MK09 South Karelia)",
          "(Persons with foreign background,MK09 South Karelia)",
          "(Citizens of foreign countries,MK10 South Savo)",
          "(Persons born abroad,MK10 South Savo)",
          "(Foreign-language speakers,MK10 South Savo)",
          "(Persons with foreign background,MK10 South Savo)",
          "(Citizens of foreign countries,MK11 North Savo)",
          "(Persons born abroad,MK11 North Savo)",
          "(Foreign-language speakers,MK11 North Savo)",
          "(Persons with foreign background,MK11 North Savo)",
          "(Citizens of foreign countries,MK12 North Karelia)",
          "(Persons born abroad,MK12 North Karelia)",
          "(Foreign-language speakers,MK12 North Karelia)",
          "(Persons with foreign background,MK12 North Karelia)",
          "(Citizens of foreign countries,MK13)",
          "(Persons born abroad,MK13)",
          "(Foreign-language speakers,MK13)",
          "(Persons with foreign background,MK13)",
          "(Citizens of foreign countries,MK14 South Ostrobothnia)",
          "(Persons born abroad,MK14 South Ostrobothnia)",
          "(Foreign-language speakers,MK14 South Ostrobothnia)",
          "(Persons with foreign background,MK14 South Ostrobothnia)",
          "(Citizens of foreign countries,MK15 Ostrobothnia)",
          "(Persons born abroad,MK15 Ostrobothnia)",
          "(Foreign-language speakers,MK15 Ostrobothnia)",
          "(Persons with foreign background,MK15 Ostrobothnia)",
          "(Citizens of foreign countries,MK16)",
          "(Persons born abroad,MK16)",
          "(Foreign-language speakers,MK16)",
          "(Persons with foreign background,MK16)",
          "(Citizens of foreign countries,MK17 North Ostrobothnia)",
          "(Persons born abroad,MK17 North Ostrobothnia)",
          "(Foreign-language speakers,MK17 North Ostrobothnia)",
          "(Persons with foreign background,MK17 North Ostrobothnia)",
          "(Citizens of foreign countries,MK18 Kainuu)",
          "(Persons born abroad,MK18 Kainuu)",
          "(Foreign-language speakers,MK18 Kainuu)",
          "(Persons with foreign background,MK18 Kainuu)",
          "(Citizens of foreign countries,MK19 Lapland)",
          "(Persons born abroad,MK19 Lapland)",
          "(Foreign-language speakers,MK19 Lapland)",
          "(Persons with foreign background,MK19 Lapland)",
          "(Citizens of foreign countries,MA2 ÅLAND)",
          "(Persons born abroad,MA2 ÅLAND)",
          "(Foreign-language speakers,MA2 ÅLAND)",
          "(Persons with foreign background,MA2 ÅLAND)",
          "(Citizens of foreign countries,MK21 Åland)",
          "(Persons born abroad,MK21 Åland)",
          "(Foreign-language speakers,MK21 Åland)",
          "(Persons with foreign background,MK21 Åland)"
         ],
         "y": [
          0,
          0,
          0,
          0,
          149253,
          214768,
          236959,
          240435,
          21913,
          34140,
          35809,
          36828,
          6280,
          8640,
          7927,
          8117,
          5118,
          7359,
          7221,
          7337,
          16329,
          26511,
          26166,
          26384,
          7134,
          11135,
          10994,
          11285,
          6270,
          9961,
          10180,
          10463,
          4785,
          8000,
          8092,
          8351,
          3180,
          4925,
          4862,
          4945,
          5050,
          7879,
          7506,
          7664,
          3909,
          6357,
          6249,
          6389,
          6309,
          10731,
          9531,
          9807,
          3344,
          5406,
          4344,
          4591,
          9634,
          14905,
          12665,
          13614,
          1447,
          2626,
          2038,
          2123,
          8908,
          15377,
          12358,
          12744,
          1357,
          2283,
          2090,
          2154,
          3988,
          7679,
          5032,
          5505,
          0,
          0,
          0,
          0,
          3421,
          5497,
          2621,
          4758
         ]
        }
       ],
       "layout": {
        "legend": {
         "bgcolor": "#F5F6F9",
         "font": {
          "color": "#4D5663"
         }
        },
        "paper_bgcolor": "#F5F6F9",
        "plot_bgcolor": "#F5F6F9",
        "template": {
         "data": {
          "bar": [
           {
            "error_x": {
             "color": "#2a3f5f"
            },
            "error_y": {
             "color": "#2a3f5f"
            },
            "marker": {
             "line": {
              "color": "#E5ECF6",
              "width": 0.5
             }
            },
            "type": "bar"
           }
          ],
          "barpolar": [
           {
            "marker": {
             "line": {
              "color": "#E5ECF6",
              "width": 0.5
             }
            },
            "type": "barpolar"
           }
          ],
          "carpet": [
           {
            "aaxis": {
             "endlinecolor": "#2a3f5f",
             "gridcolor": "white",
             "linecolor": "white",
             "minorgridcolor": "white",
             "startlinecolor": "#2a3f5f"
            },
            "baxis": {
             "endlinecolor": "#2a3f5f",
             "gridcolor": "white",
             "linecolor": "white",
             "minorgridcolor": "white",
             "startlinecolor": "#2a3f5f"
            },
            "type": "carpet"
           }
          ],
          "choropleth": [
           {
            "colorbar": {
             "outlinewidth": 0,
             "ticks": ""
            },
            "type": "choropleth"
           }
          ],
          "contour": [
           {
            "colorbar": {
             "outlinewidth": 0,
             "ticks": ""
            },
            "colorscale": [
             [
              0,
              "#0d0887"
             ],
             [
              0.1111111111111111,
              "#46039f"
             ],
             [
              0.2222222222222222,
              "#7201a8"
             ],
             [
              0.3333333333333333,
              "#9c179e"
             ],
             [
              0.4444444444444444,
              "#bd3786"
             ],
             [
              0.5555555555555556,
              "#d8576b"
             ],
             [
              0.6666666666666666,
              "#ed7953"
             ],
             [
              0.7777777777777778,
              "#fb9f3a"
             ],
             [
              0.8888888888888888,
              "#fdca26"
             ],
             [
              1,
              "#f0f921"
             ]
            ],
            "type": "contour"
           }
          ],
          "contourcarpet": [
           {
            "colorbar": {
             "outlinewidth": 0,
             "ticks": ""
            },
            "type": "contourcarpet"
           }
          ],
          "heatmap": [
           {
            "colorbar": {
             "outlinewidth": 0,
             "ticks": ""
            },
            "colorscale": [
             [
              0,
              "#0d0887"
             ],
             [
              0.1111111111111111,
              "#46039f"
             ],
             [
              0.2222222222222222,
              "#7201a8"
             ],
             [
              0.3333333333333333,
              "#9c179e"
             ],
             [
              0.4444444444444444,
              "#bd3786"
             ],
             [
              0.5555555555555556,
              "#d8576b"
             ],
             [
              0.6666666666666666,
              "#ed7953"
             ],
             [
              0.7777777777777778,
              "#fb9f3a"
             ],
             [
              0.8888888888888888,
              "#fdca26"
             ],
             [
              1,
              "#f0f921"
             ]
            ],
            "type": "heatmap"
           }
          ],
          "heatmapgl": [
           {
            "colorbar": {
             "outlinewidth": 0,
             "ticks": ""
            },
            "colorscale": [
             [
              0,
              "#0d0887"
             ],
             [
              0.1111111111111111,
              "#46039f"
             ],
             [
              0.2222222222222222,
              "#7201a8"
             ],
             [
              0.3333333333333333,
              "#9c179e"
             ],
             [
              0.4444444444444444,
              "#bd3786"
             ],
             [
              0.5555555555555556,
              "#d8576b"
             ],
             [
              0.6666666666666666,
              "#ed7953"
             ],
             [
              0.7777777777777778,
              "#fb9f3a"
             ],
             [
              0.8888888888888888,
              "#fdca26"
             ],
             [
              1,
              "#f0f921"
             ]
            ],
            "type": "heatmapgl"
           }
          ],
          "histogram": [
           {
            "marker": {
             "colorbar": {
              "outlinewidth": 0,
              "ticks": ""
             }
            },
            "type": "histogram"
           }
          ],
          "histogram2d": [
           {
            "colorbar": {
             "outlinewidth": 0,
             "ticks": ""
            },
            "colorscale": [
             [
              0,
              "#0d0887"
             ],
             [
              0.1111111111111111,
              "#46039f"
             ],
             [
              0.2222222222222222,
              "#7201a8"
             ],
             [
              0.3333333333333333,
              "#9c179e"
             ],
             [
              0.4444444444444444,
              "#bd3786"
             ],
             [
              0.5555555555555556,
              "#d8576b"
             ],
             [
              0.6666666666666666,
              "#ed7953"
             ],
             [
              0.7777777777777778,
              "#fb9f3a"
             ],
             [
              0.8888888888888888,
              "#fdca26"
             ],
             [
              1,
              "#f0f921"
             ]
            ],
            "type": "histogram2d"
           }
          ],
          "histogram2dcontour": [
           {
            "colorbar": {
             "outlinewidth": 0,
             "ticks": ""
            },
            "colorscale": [
             [
              0,
              "#0d0887"
             ],
             [
              0.1111111111111111,
              "#46039f"
             ],
             [
              0.2222222222222222,
              "#7201a8"
             ],
             [
              0.3333333333333333,
              "#9c179e"
             ],
             [
              0.4444444444444444,
              "#bd3786"
             ],
             [
              0.5555555555555556,
              "#d8576b"
             ],
             [
              0.6666666666666666,
              "#ed7953"
             ],
             [
              0.7777777777777778,
              "#fb9f3a"
             ],
             [
              0.8888888888888888,
              "#fdca26"
             ],
             [
              1,
              "#f0f921"
             ]
            ],
            "type": "histogram2dcontour"
           }
          ],
          "mesh3d": [
           {
            "colorbar": {
             "outlinewidth": 0,
             "ticks": ""
            },
            "type": "mesh3d"
           }
          ],
          "parcoords": [
           {
            "line": {
             "colorbar": {
              "outlinewidth": 0,
              "ticks": ""
             }
            },
            "type": "parcoords"
           }
          ],
          "pie": [
           {
            "automargin": true,
            "type": "pie"
           }
          ],
          "scatter": [
           {
            "marker": {
             "colorbar": {
              "outlinewidth": 0,
              "ticks": ""
             }
            },
            "type": "scatter"
           }
          ],
          "scatter3d": [
           {
            "line": {
             "colorbar": {
              "outlinewidth": 0,
              "ticks": ""
             }
            },
            "marker": {
             "colorbar": {
              "outlinewidth": 0,
              "ticks": ""
             }
            },
            "type": "scatter3d"
           }
          ],
          "scattercarpet": [
           {
            "marker": {
             "colorbar": {
              "outlinewidth": 0,
              "ticks": ""
             }
            },
            "type": "scattercarpet"
           }
          ],
          "scattergeo": [
           {
            "marker": {
             "colorbar": {
              "outlinewidth": 0,
              "ticks": ""
             }
            },
            "type": "scattergeo"
           }
          ],
          "scattergl": [
           {
            "marker": {
             "colorbar": {
              "outlinewidth": 0,
              "ticks": ""
             }
            },
            "type": "scattergl"
           }
          ],
          "scattermapbox": [
           {
            "marker": {
             "colorbar": {
              "outlinewidth": 0,
              "ticks": ""
             }
            },
            "type": "scattermapbox"
           }
          ],
          "scatterpolar": [
           {
            "marker": {
             "colorbar": {
              "outlinewidth": 0,
              "ticks": ""
             }
            },
            "type": "scatterpolar"
           }
          ],
          "scatterpolargl": [
           {
            "marker": {
             "colorbar": {
              "outlinewidth": 0,
              "ticks": ""
             }
            },
            "type": "scatterpolargl"
           }
          ],
          "scatterternary": [
           {
            "marker": {
             "colorbar": {
              "outlinewidth": 0,
              "ticks": ""
             }
            },
            "type": "scatterternary"
           }
          ],
          "surface": [
           {
            "colorbar": {
             "outlinewidth": 0,
             "ticks": ""
            },
            "colorscale": [
             [
              0,
              "#0d0887"
             ],
             [
              0.1111111111111111,
              "#46039f"
             ],
             [
              0.2222222222222222,
              "#7201a8"
             ],
             [
              0.3333333333333333,
              "#9c179e"
             ],
             [
              0.4444444444444444,
              "#bd3786"
             ],
             [
              0.5555555555555556,
              "#d8576b"
             ],
             [
              0.6666666666666666,
              "#ed7953"
             ],
             [
              0.7777777777777778,
              "#fb9f3a"
             ],
             [
              0.8888888888888888,
              "#fdca26"
             ],
             [
              1,
              "#f0f921"
             ]
            ],
            "type": "surface"
           }
          ],
          "table": [
           {
            "cells": {
             "fill": {
              "color": "#EBF0F8"
             },
             "line": {
              "color": "white"
             }
            },
            "header": {
             "fill": {
              "color": "#C8D4E3"
             },
             "line": {
              "color": "white"
             }
            },
            "type": "table"
           }
          ]
         },
         "layout": {
          "annotationdefaults": {
           "arrowcolor": "#2a3f5f",
           "arrowhead": 0,
           "arrowwidth": 1
          },
          "coloraxis": {
           "colorbar": {
            "outlinewidth": 0,
            "ticks": ""
           }
          },
          "colorscale": {
           "diverging": [
            [
             0,
             "#8e0152"
            ],
            [
             0.1,
             "#c51b7d"
            ],
            [
             0.2,
             "#de77ae"
            ],
            [
             0.3,
             "#f1b6da"
            ],
            [
             0.4,
             "#fde0ef"
            ],
            [
             0.5,
             "#f7f7f7"
            ],
            [
             0.6,
             "#e6f5d0"
            ],
            [
             0.7,
             "#b8e186"
            ],
            [
             0.8,
             "#7fbc41"
            ],
            [
             0.9,
             "#4d9221"
            ],
            [
             1,
             "#276419"
            ]
           ],
           "sequential": [
            [
             0,
             "#0d0887"
            ],
            [
             0.1111111111111111,
             "#46039f"
            ],
            [
             0.2222222222222222,
             "#7201a8"
            ],
            [
             0.3333333333333333,
             "#9c179e"
            ],
            [
             0.4444444444444444,
             "#bd3786"
            ],
            [
             0.5555555555555556,
             "#d8576b"
            ],
            [
             0.6666666666666666,
             "#ed7953"
            ],
            [
             0.7777777777777778,
             "#fb9f3a"
            ],
            [
             0.8888888888888888,
             "#fdca26"
            ],
            [
             1,
             "#f0f921"
            ]
           ],
           "sequentialminus": [
            [
             0,
             "#0d0887"
            ],
            [
             0.1111111111111111,
             "#46039f"
            ],
            [
             0.2222222222222222,
             "#7201a8"
            ],
            [
             0.3333333333333333,
             "#9c179e"
            ],
            [
             0.4444444444444444,
             "#bd3786"
            ],
            [
             0.5555555555555556,
             "#d8576b"
            ],
            [
             0.6666666666666666,
             "#ed7953"
            ],
            [
             0.7777777777777778,
             "#fb9f3a"
            ],
            [
             0.8888888888888888,
             "#fdca26"
            ],
            [
             1,
             "#f0f921"
            ]
           ]
          },
          "colorway": [
           "#636efa",
           "#EF553B",
           "#00cc96",
           "#ab63fa",
           "#FFA15A",
           "#19d3f3",
           "#FF6692",
           "#B6E880",
           "#FF97FF",
           "#FECB52"
          ],
          "font": {
           "color": "#2a3f5f"
          },
          "geo": {
           "bgcolor": "white",
           "lakecolor": "white",
           "landcolor": "#E5ECF6",
           "showlakes": true,
           "showland": true,
           "subunitcolor": "white"
          },
          "hoverlabel": {
           "align": "left"
          },
          "hovermode": "closest",
          "mapbox": {
           "style": "light"
          },
          "paper_bgcolor": "white",
          "plot_bgcolor": "#E5ECF6",
          "polar": {
           "angularaxis": {
            "gridcolor": "white",
            "linecolor": "white",
            "ticks": ""
           },
           "bgcolor": "#E5ECF6",
           "radialaxis": {
            "gridcolor": "white",
            "linecolor": "white",
            "ticks": ""
           }
          },
          "scene": {
           "xaxis": {
            "backgroundcolor": "#E5ECF6",
            "gridcolor": "white",
            "gridwidth": 2,
            "linecolor": "white",
            "showbackground": true,
            "ticks": "",
            "zerolinecolor": "white"
           },
           "yaxis": {
            "backgroundcolor": "#E5ECF6",
            "gridcolor": "white",
            "gridwidth": 2,
            "linecolor": "white",
            "showbackground": true,
            "ticks": "",
            "zerolinecolor": "white"
           },
           "zaxis": {
            "backgroundcolor": "#E5ECF6",
            "gridcolor": "white",
            "gridwidth": 2,
            "linecolor": "white",
            "showbackground": true,
            "ticks": "",
            "zerolinecolor": "white"
           }
          },
          "shapedefaults": {
           "line": {
            "color": "#2a3f5f"
           }
          },
          "ternary": {
           "aaxis": {
            "gridcolor": "white",
            "linecolor": "white",
            "ticks": ""
           },
           "baxis": {
            "gridcolor": "white",
            "linecolor": "white",
            "ticks": ""
           },
           "bgcolor": "#E5ECF6",
           "caxis": {
            "gridcolor": "white",
            "linecolor": "white",
            "ticks": ""
           }
          },
          "title": {
           "x": 0.05
          },
          "xaxis": {
           "automargin": true,
           "gridcolor": "white",
           "linecolor": "white",
           "ticks": "",
           "title": {
            "standoff": 15
           },
           "zerolinecolor": "white",
           "zerolinewidth": 2
          },
          "yaxis": {
           "automargin": true,
           "gridcolor": "white",
           "linecolor": "white",
           "ticks": "",
           "title": {
            "standoff": 15
           },
           "zerolinecolor": "white",
           "zerolinewidth": 2
          }
         }
        },
        "title": {
         "font": {
          "color": "#4D5663"
         }
        },
        "xaxis": {
         "gridcolor": "#E1E5ED",
         "showgrid": true,
         "tickfont": {
          "color": "#4D5663"
         },
         "title": {
          "font": {
           "color": "#4D5663"
          },
          "text": ""
         },
         "zerolinecolor": "#E1E5ED"
        },
        "yaxis": {
         "gridcolor": "#E1E5ED",
         "showgrid": true,
         "tickfont": {
          "color": "#4D5663"
         },
         "title": {
          "font": {
           "color": "#4D5663"
          },
          "text": ""
         },
         "zerolinecolor": "#E1E5ED"
        }
       }
      },
      "text/html": [
       "<div>                            <div id=\"7b73a7a6-6899-4e85-a4a1-a3e26a017a98\" class=\"plotly-graph-div\" style=\"height:525px; width:100%;\"></div>            <script type=\"text/javascript\">                require([\"plotly\"], function(Plotly) {                    window.PLOTLYENV=window.PLOTLYENV || {};\n",
       "                    window.PLOTLYENV.BASE_URL='https://plot.ly';                                    if (document.getElementById(\"7b73a7a6-6899-4e85-a4a1-a3e26a017a98\")) {                    Plotly.newPlot(                        \"7b73a7a6-6899-4e85-a4a1-a3e26a017a98\",                        [{\"line\": {\"color\": \"rgba(255, 153, 51, 1.0)\", \"dash\": \"solid\", \"shape\": \"linear\", \"width\": 1.3}, \"mode\": \"lines\", \"name\": \"2019\", \"text\": \"\", \"type\": \"scatter\", \"x\": [\"(Citizens of foreign countries,MA1 MAINLAND FINLAND)\", \"(Persons born abroad,MA1 MAINLAND FINLAND)\", \"(Foreign-language speakers,MA1 MAINLAND FINLAND)\", \"(Persons with foreign background,MA1 MAINLAND FINLAND)\", \"(Citizens of foreign countries,MK01 Uusimaa)\", \"(Persons born abroad,MK01 Uusimaa)\", \"(Foreign-language speakers,MK01 Uusimaa)\", \"(Persons with foreign background,MK01 Uusimaa)\", \"(Citizens of foreign countries,MK02 Southwest)\", \"(Persons born abroad,MK02 Southwest)\", \"(Foreign-language speakers,MK02 Southwest)\", \"(Persons with foreign background,MK02 Southwest)\", \"(Citizens of foreign countries,MK04 Satakunta)\", \"(Persons born abroad,MK04 Satakunta)\", \"(Foreign-language speakers,MK04 Satakunta)\", \"(Persons with foreign background,MK04 Satakunta)\", \"(Citizens of foreign countries,MK05 Kanta-H\\u00e4me)\", \"(Persons born abroad,MK05 Kanta-H\\u00e4me)\", \"(Foreign-language speakers,MK05 Kanta-H\\u00e4me)\", \"(Persons with foreign background,MK05 Kanta-H\\u00e4me)\", \"(Citizens of foreign countries,MK06)\", \"(Persons born abroad,MK06)\", \"(Foreign-language speakers,MK06)\", \"(Persons with foreign background,MK06)\", \"(Citizens of foreign countries,MK07 P\\u00e4ij\\u00e4t-H\\u00e4me)\", \"(Persons born abroad,MK07 P\\u00e4ij\\u00e4t-H\\u00e4me)\", \"(Foreign-language speakers,MK07 P\\u00e4ij\\u00e4t-H\\u00e4me)\", \"(Persons with foreign background,MK07 P\\u00e4ij\\u00e4t-H\\u00e4me)\", \"(Citizens of foreign countries,MK08 Kymenlaakso)\", \"(Persons born abroad,MK08 Kymenlaakso)\", \"(Foreign-language speakers,MK08 Kymenlaakso)\", \"(Persons with foreign background,MK08 Kymenlaakso)\", \"(Citizens of foreign countries,MK09 South Karelia)\", \"(Persons born abroad,MK09 South Karelia)\", \"(Foreign-language speakers,MK09 South Karelia)\", \"(Persons with foreign background,MK09 South Karelia)\", \"(Citizens of foreign countries,MK10 South Savo)\", \"(Persons born abroad,MK10 South Savo)\", \"(Foreign-language speakers,MK10 South Savo)\", \"(Persons with foreign background,MK10 South Savo)\", \"(Citizens of foreign countries,MK11 North Savo)\", \"(Persons born abroad,MK11 North Savo)\", \"(Foreign-language speakers,MK11 North Savo)\", \"(Persons with foreign background,MK11 North Savo)\", \"(Citizens of foreign countries,MK12 North Karelia)\", \"(Persons born abroad,MK12 North Karelia)\", \"(Foreign-language speakers,MK12 North Karelia)\", \"(Persons with foreign background,MK12 North Karelia)\", \"(Citizens of foreign countries,MK13)\", \"(Persons born abroad,MK13)\", \"(Foreign-language speakers,MK13)\", \"(Persons with foreign background,MK13)\", \"(Citizens of foreign countries,MK14 South Ostrobothnia)\", \"(Persons born abroad,MK14 South Ostrobothnia)\", \"(Foreign-language speakers,MK14 South Ostrobothnia)\", \"(Persons with foreign background,MK14 South Ostrobothnia)\", \"(Citizens of foreign countries,MK15 Ostrobothnia)\", \"(Persons born abroad,MK15 Ostrobothnia)\", \"(Foreign-language speakers,MK15 Ostrobothnia)\", \"(Persons with foreign background,MK15 Ostrobothnia)\", \"(Citizens of foreign countries,MK16)\", \"(Persons born abroad,MK16)\", \"(Foreign-language speakers,MK16)\", \"(Persons with foreign background,MK16)\", \"(Citizens of foreign countries,MK17 North Ostrobothnia)\", \"(Persons born abroad,MK17 North Ostrobothnia)\", \"(Foreign-language speakers,MK17 North Ostrobothnia)\", \"(Persons with foreign background,MK17 North Ostrobothnia)\", \"(Citizens of foreign countries,MK18 Kainuu)\", \"(Persons born abroad,MK18 Kainuu)\", \"(Foreign-language speakers,MK18 Kainuu)\", \"(Persons with foreign background,MK18 Kainuu)\", \"(Citizens of foreign countries,MK19 Lapland)\", \"(Persons born abroad,MK19 Lapland)\", \"(Foreign-language speakers,MK19 Lapland)\", \"(Persons with foreign background,MK19 Lapland)\", \"(Citizens of foreign countries,MA2 \\u00c5LAND)\", \"(Persons born abroad,MA2 \\u00c5LAND)\", \"(Foreign-language speakers,MA2 \\u00c5LAND)\", \"(Persons with foreign background,MA2 \\u00c5LAND)\", \"(Citizens of foreign countries,MK21 \\u00c5land)\", \"(Persons born abroad,MK21 \\u00c5land)\", \"(Foreign-language speakers,MK21 \\u00c5land)\", \"(Persons with foreign background,MK21 \\u00c5land)\"], \"y\": [0, 0, 0, 0, 149253, 214768, 236959, 240435, 21913, 34140, 35809, 36828, 6280, 8640, 7927, 8117, 5118, 7359, 7221, 7337, 16329, 26511, 26166, 26384, 7134, 11135, 10994, 11285, 6270, 9961, 10180, 10463, 4785, 8000, 8092, 8351, 3180, 4925, 4862, 4945, 5050, 7879, 7506, 7664, 3909, 6357, 6249, 6389, 6309, 10731, 9531, 9807, 3344, 5406, 4344, 4591, 9634, 14905, 12665, 13614, 1447, 2626, 2038, 2123, 8908, 15377, 12358, 12744, 1357, 2283, 2090, 2154, 3988, 7679, 5032, 5505, 0, 0, 0, 0, 3421, 5497, 2621, 4758]}],                        {\"legend\": {\"bgcolor\": \"#F5F6F9\", \"font\": {\"color\": \"#4D5663\"}}, \"paper_bgcolor\": \"#F5F6F9\", \"plot_bgcolor\": \"#F5F6F9\", \"template\": {\"data\": {\"bar\": [{\"error_x\": {\"color\": \"#2a3f5f\"}, \"error_y\": {\"color\": \"#2a3f5f\"}, \"marker\": {\"line\": {\"color\": \"#E5ECF6\", \"width\": 0.5}}, \"type\": \"bar\"}], \"barpolar\": [{\"marker\": {\"line\": {\"color\": \"#E5ECF6\", \"width\": 0.5}}, \"type\": \"barpolar\"}], \"carpet\": [{\"aaxis\": {\"endlinecolor\": \"#2a3f5f\", \"gridcolor\": \"white\", \"linecolor\": \"white\", \"minorgridcolor\": \"white\", \"startlinecolor\": \"#2a3f5f\"}, \"baxis\": {\"endlinecolor\": \"#2a3f5f\", \"gridcolor\": \"white\", \"linecolor\": \"white\", \"minorgridcolor\": \"white\", \"startlinecolor\": \"#2a3f5f\"}, \"type\": \"carpet\"}], \"choropleth\": [{\"colorbar\": {\"outlinewidth\": 0, \"ticks\": \"\"}, \"type\": \"choropleth\"}], \"contour\": [{\"colorbar\": {\"outlinewidth\": 0, \"ticks\": \"\"}, \"colorscale\": [[0.0, \"#0d0887\"], [0.1111111111111111, \"#46039f\"], [0.2222222222222222, \"#7201a8\"], [0.3333333333333333, \"#9c179e\"], [0.4444444444444444, \"#bd3786\"], [0.5555555555555556, \"#d8576b\"], [0.6666666666666666, \"#ed7953\"], [0.7777777777777778, \"#fb9f3a\"], [0.8888888888888888, \"#fdca26\"], [1.0, \"#f0f921\"]], \"type\": \"contour\"}], \"contourcarpet\": [{\"colorbar\": {\"outlinewidth\": 0, \"ticks\": \"\"}, \"type\": \"contourcarpet\"}], \"heatmap\": [{\"colorbar\": {\"outlinewidth\": 0, \"ticks\": \"\"}, \"colorscale\": [[0.0, \"#0d0887\"], [0.1111111111111111, \"#46039f\"], [0.2222222222222222, \"#7201a8\"], [0.3333333333333333, \"#9c179e\"], [0.4444444444444444, \"#bd3786\"], [0.5555555555555556, \"#d8576b\"], [0.6666666666666666, \"#ed7953\"], [0.7777777777777778, \"#fb9f3a\"], [0.8888888888888888, \"#fdca26\"], [1.0, \"#f0f921\"]], \"type\": \"heatmap\"}], \"heatmapgl\": [{\"colorbar\": {\"outlinewidth\": 0, \"ticks\": \"\"}, \"colorscale\": [[0.0, \"#0d0887\"], [0.1111111111111111, \"#46039f\"], [0.2222222222222222, \"#7201a8\"], [0.3333333333333333, \"#9c179e\"], [0.4444444444444444, \"#bd3786\"], [0.5555555555555556, \"#d8576b\"], [0.6666666666666666, \"#ed7953\"], [0.7777777777777778, \"#fb9f3a\"], [0.8888888888888888, \"#fdca26\"], [1.0, \"#f0f921\"]], \"type\": \"heatmapgl\"}], \"histogram\": [{\"marker\": {\"colorbar\": {\"outlinewidth\": 0, \"ticks\": \"\"}}, \"type\": \"histogram\"}], \"histogram2d\": [{\"colorbar\": {\"outlinewidth\": 0, \"ticks\": \"\"}, \"colorscale\": [[0.0, \"#0d0887\"], [0.1111111111111111, \"#46039f\"], [0.2222222222222222, \"#7201a8\"], [0.3333333333333333, \"#9c179e\"], [0.4444444444444444, \"#bd3786\"], [0.5555555555555556, \"#d8576b\"], [0.6666666666666666, \"#ed7953\"], [0.7777777777777778, \"#fb9f3a\"], [0.8888888888888888, \"#fdca26\"], [1.0, \"#f0f921\"]], \"type\": \"histogram2d\"}], \"histogram2dcontour\": [{\"colorbar\": {\"outlinewidth\": 0, \"ticks\": \"\"}, \"colorscale\": [[0.0, \"#0d0887\"], [0.1111111111111111, \"#46039f\"], [0.2222222222222222, \"#7201a8\"], [0.3333333333333333, \"#9c179e\"], [0.4444444444444444, \"#bd3786\"], [0.5555555555555556, \"#d8576b\"], [0.6666666666666666, \"#ed7953\"], [0.7777777777777778, \"#fb9f3a\"], [0.8888888888888888, \"#fdca26\"], [1.0, \"#f0f921\"]], \"type\": \"histogram2dcontour\"}], \"mesh3d\": [{\"colorbar\": {\"outlinewidth\": 0, \"ticks\": \"\"}, \"type\": \"mesh3d\"}], \"parcoords\": [{\"line\": {\"colorbar\": {\"outlinewidth\": 0, \"ticks\": \"\"}}, \"type\": \"parcoords\"}], \"pie\": [{\"automargin\": true, \"type\": \"pie\"}], \"scatter\": [{\"marker\": {\"colorbar\": {\"outlinewidth\": 0, \"ticks\": \"\"}}, \"type\": \"scatter\"}], \"scatter3d\": [{\"line\": {\"colorbar\": {\"outlinewidth\": 0, \"ticks\": \"\"}}, \"marker\": {\"colorbar\": {\"outlinewidth\": 0, \"ticks\": \"\"}}, \"type\": \"scatter3d\"}], \"scattercarpet\": [{\"marker\": {\"colorbar\": {\"outlinewidth\": 0, \"ticks\": \"\"}}, \"type\": \"scattercarpet\"}], \"scattergeo\": [{\"marker\": {\"colorbar\": {\"outlinewidth\": 0, \"ticks\": \"\"}}, \"type\": \"scattergeo\"}], \"scattergl\": [{\"marker\": {\"colorbar\": {\"outlinewidth\": 0, \"ticks\": \"\"}}, \"type\": \"scattergl\"}], \"scattermapbox\": [{\"marker\": {\"colorbar\": {\"outlinewidth\": 0, \"ticks\": \"\"}}, \"type\": \"scattermapbox\"}], \"scatterpolar\": [{\"marker\": {\"colorbar\": {\"outlinewidth\": 0, \"ticks\": \"\"}}, \"type\": \"scatterpolar\"}], \"scatterpolargl\": [{\"marker\": {\"colorbar\": {\"outlinewidth\": 0, \"ticks\": \"\"}}, \"type\": \"scatterpolargl\"}], \"scatterternary\": [{\"marker\": {\"colorbar\": {\"outlinewidth\": 0, \"ticks\": \"\"}}, \"type\": \"scatterternary\"}], \"surface\": [{\"colorbar\": {\"outlinewidth\": 0, \"ticks\": \"\"}, \"colorscale\": [[0.0, \"#0d0887\"], [0.1111111111111111, \"#46039f\"], [0.2222222222222222, \"#7201a8\"], [0.3333333333333333, \"#9c179e\"], [0.4444444444444444, \"#bd3786\"], [0.5555555555555556, \"#d8576b\"], [0.6666666666666666, \"#ed7953\"], [0.7777777777777778, \"#fb9f3a\"], [0.8888888888888888, \"#fdca26\"], [1.0, \"#f0f921\"]], \"type\": \"surface\"}], \"table\": [{\"cells\": {\"fill\": {\"color\": \"#EBF0F8\"}, \"line\": {\"color\": \"white\"}}, \"header\": {\"fill\": {\"color\": \"#C8D4E3\"}, \"line\": {\"color\": \"white\"}}, \"type\": \"table\"}]}, \"layout\": {\"annotationdefaults\": {\"arrowcolor\": \"#2a3f5f\", \"arrowhead\": 0, \"arrowwidth\": 1}, \"coloraxis\": {\"colorbar\": {\"outlinewidth\": 0, \"ticks\": \"\"}}, \"colorscale\": {\"diverging\": [[0, \"#8e0152\"], [0.1, \"#c51b7d\"], [0.2, \"#de77ae\"], [0.3, \"#f1b6da\"], [0.4, \"#fde0ef\"], [0.5, \"#f7f7f7\"], [0.6, \"#e6f5d0\"], [0.7, \"#b8e186\"], [0.8, \"#7fbc41\"], [0.9, \"#4d9221\"], [1, \"#276419\"]], \"sequential\": [[0.0, \"#0d0887\"], [0.1111111111111111, \"#46039f\"], [0.2222222222222222, \"#7201a8\"], [0.3333333333333333, \"#9c179e\"], [0.4444444444444444, \"#bd3786\"], [0.5555555555555556, \"#d8576b\"], [0.6666666666666666, \"#ed7953\"], [0.7777777777777778, \"#fb9f3a\"], [0.8888888888888888, \"#fdca26\"], [1.0, \"#f0f921\"]], \"sequentialminus\": [[0.0, \"#0d0887\"], [0.1111111111111111, \"#46039f\"], [0.2222222222222222, \"#7201a8\"], [0.3333333333333333, \"#9c179e\"], [0.4444444444444444, \"#bd3786\"], [0.5555555555555556, \"#d8576b\"], [0.6666666666666666, \"#ed7953\"], [0.7777777777777778, \"#fb9f3a\"], [0.8888888888888888, \"#fdca26\"], [1.0, \"#f0f921\"]]}, \"colorway\": [\"#636efa\", \"#EF553B\", \"#00cc96\", \"#ab63fa\", \"#FFA15A\", \"#19d3f3\", \"#FF6692\", \"#B6E880\", \"#FF97FF\", \"#FECB52\"], \"font\": {\"color\": \"#2a3f5f\"}, \"geo\": {\"bgcolor\": \"white\", \"lakecolor\": \"white\", \"landcolor\": \"#E5ECF6\", \"showlakes\": true, \"showland\": true, \"subunitcolor\": \"white\"}, \"hoverlabel\": {\"align\": \"left\"}, \"hovermode\": \"closest\", \"mapbox\": {\"style\": \"light\"}, \"paper_bgcolor\": \"white\", \"plot_bgcolor\": \"#E5ECF6\", \"polar\": {\"angularaxis\": {\"gridcolor\": \"white\", \"linecolor\": \"white\", \"ticks\": \"\"}, \"bgcolor\": \"#E5ECF6\", \"radialaxis\": {\"gridcolor\": \"white\", \"linecolor\": \"white\", \"ticks\": \"\"}}, \"scene\": {\"xaxis\": {\"backgroundcolor\": \"#E5ECF6\", \"gridcolor\": \"white\", \"gridwidth\": 2, \"linecolor\": \"white\", \"showbackground\": true, \"ticks\": \"\", \"zerolinecolor\": \"white\"}, \"yaxis\": {\"backgroundcolor\": \"#E5ECF6\", \"gridcolor\": \"white\", \"gridwidth\": 2, \"linecolor\": \"white\", \"showbackground\": true, \"ticks\": \"\", \"zerolinecolor\": \"white\"}, \"zaxis\": {\"backgroundcolor\": \"#E5ECF6\", \"gridcolor\": \"white\", \"gridwidth\": 2, \"linecolor\": \"white\", \"showbackground\": true, \"ticks\": \"\", \"zerolinecolor\": \"white\"}}, \"shapedefaults\": {\"line\": {\"color\": \"#2a3f5f\"}}, \"ternary\": {\"aaxis\": {\"gridcolor\": \"white\", \"linecolor\": \"white\", \"ticks\": \"\"}, \"baxis\": {\"gridcolor\": \"white\", \"linecolor\": \"white\", \"ticks\": \"\"}, \"bgcolor\": \"#E5ECF6\", \"caxis\": {\"gridcolor\": \"white\", \"linecolor\": \"white\", \"ticks\": \"\"}}, \"title\": {\"x\": 0.05}, \"xaxis\": {\"automargin\": true, \"gridcolor\": \"white\", \"linecolor\": \"white\", \"ticks\": \"\", \"title\": {\"standoff\": 15}, \"zerolinecolor\": \"white\", \"zerolinewidth\": 2}, \"yaxis\": {\"automargin\": true, \"gridcolor\": \"white\", \"linecolor\": \"white\", \"ticks\": \"\", \"title\": {\"standoff\": 15}, \"zerolinecolor\": \"white\", \"zerolinewidth\": 2}}}, \"title\": {\"font\": {\"color\": \"#4D5663\"}}, \"xaxis\": {\"gridcolor\": \"#E1E5ED\", \"showgrid\": true, \"tickfont\": {\"color\": \"#4D5663\"}, \"title\": {\"font\": {\"color\": \"#4D5663\"}, \"text\": \"\"}, \"zerolinecolor\": \"#E1E5ED\"}, \"yaxis\": {\"gridcolor\": \"#E1E5ED\", \"showgrid\": true, \"tickfont\": {\"color\": \"#4D5663\"}, \"title\": {\"font\": {\"color\": \"#4D5663\"}, \"text\": \"\"}, \"zerolinecolor\": \"#E1E5ED\"}},                        {\"showLink\": true, \"linkText\": \"Export to plot.ly\", \"plotlyServerURL\": \"https://plot.ly\", \"responsive\": true}                    ).then(function(){\n",
       "                            \n",
       "var gd = document.getElementById('7b73a7a6-6899-4e85-a4a1-a3e26a017a98');\n",
       "var x = new MutationObserver(function (mutations, observer) {{\n",
       "        var display = window.getComputedStyle(gd).display;\n",
       "        if (!display || display === 'none') {{\n",
       "            console.log([gd, 'removed!']);\n",
       "            Plotly.purge(gd);\n",
       "            observer.disconnect();\n",
       "        }}\n",
       "}});\n",
       "\n",
       "// Listen for the removal of the full notebook cells\n",
       "var notebookContainer = gd.closest('#notebook-container');\n",
       "if (notebookContainer) {{\n",
       "    x.observe(notebookContainer, {childList: true});\n",
       "}}\n",
       "\n",
       "// Listen for the clearing of the current output cell\n",
       "var outputEl = gd.closest('.output');\n",
       "if (outputEl) {{\n",
       "    x.observe(outputEl, {childList: true});\n",
       "}}\n",
       "\n",
       "                        })                };                });            </script>        </div>"
      ]
     },
     "metadata": {},
     "output_type": "display_data"
    }
   ],
   "source": [
    "region=data2.query('Region!=\"WHOLE COUNTRY\"').reset_index(drop=True).iplot(kind='line',x=[\"Attribute\",\"Region\"],y=[2019])\n",
    "\n"
   ]
  },
  {
   "cell_type": "markdown",
   "metadata": {},
   "source": [
    "<b> As this is the graphical presentation for all the regions of Finland it is not possible to get proper view and understanding of the data. This is because there are more than 80 rows which is difficult to fit in the graph axis. "
   ]
  },
  {
   "cell_type": "markdown",
   "metadata": {},
   "source": [
    "# Summary\n",
    "Through this data analysis we can summarize that almost all the attributes have doubled in the last 10 years. This also indicates that Finland has been more involved in bringing international cultures. There might be other factors affecting the increment of foreign population like international students coming to study, importing more work labour force and so on. "
   ]
  },
  {
   "cell_type": "code",
   "execution_count": null,
   "metadata": {},
   "outputs": [],
   "source": []
  }
 ],
 "metadata": {
  "kernelspec": {
   "display_name": "Python 3",
   "language": "python",
   "name": "python3"
  },
  "language_info": {
   "codemirror_mode": {
    "name": "ipython",
    "version": 3
   },
   "file_extension": ".py",
   "mimetype": "text/x-python",
   "name": "python",
   "nbconvert_exporter": "python",
   "pygments_lexer": "ipython3",
   "version": "3.8.3"
  },
  "latex_envs": {
   "LaTeX_envs_menu_present": true,
   "autoclose": false,
   "autocomplete": true,
   "bibliofile": "biblio.bib",
   "cite_by": "apalike",
   "current_citInitial": 1,
   "eqLabelWithNumbers": true,
   "eqNumInitial": 1,
   "hotkeys": {
    "equation": "Ctrl-E",
    "itemize": "Ctrl-I"
   },
   "labels_anchors": false,
   "latex_user_defs": false,
   "report_style_numbering": false,
   "user_envs_cfg": false
  },
  "toc": {
   "base_numbering": 1,
   "nav_menu": {},
   "number_sections": true,
   "sideBar": true,
   "skip_h1_title": false,
   "title_cell": "Table of Contents",
   "title_sidebar": "Contents",
   "toc_cell": false,
   "toc_position": {},
   "toc_section_display": true,
   "toc_window_display": false
  },
  "varInspector": {
   "cols": {
    "lenName": 16,
    "lenType": 16,
    "lenVar": 40
   },
   "kernels_config": {
    "python": {
     "delete_cmd_postfix": "",
     "delete_cmd_prefix": "del ",
     "library": "var_list.py",
     "varRefreshCmd": "print(var_dic_list())"
    },
    "r": {
     "delete_cmd_postfix": ") ",
     "delete_cmd_prefix": "rm(",
     "library": "var_list.r",
     "varRefreshCmd": "cat(var_dic_list()) "
    }
   },
   "types_to_exclude": [
    "module",
    "function",
    "builtin_function_or_method",
    "instance",
    "_Feature"
   ],
   "window_display": false
  }
 },
 "nbformat": 4,
 "nbformat_minor": 4
}
