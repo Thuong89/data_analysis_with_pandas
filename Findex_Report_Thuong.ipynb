{
 "cells": [
  {
   "cell_type": "markdown",
   "metadata": {
    "ExecuteTime": {
     "end_time": "2020-12-02T13:18:55.639572Z",
     "start_time": "2020-12-02T13:18:55.620567Z"
    },
    "slideshow": {
     "slide_type": "slide"
    }
   },
   "source": [
    "<div style=\"background-color:navy;color:white;padding:30px;font-size:180%\">Data analysis on Global Findex: Mobile Money Account</div>"
   ]
  },
  {
   "cell_type": "markdown",
   "metadata": {
    "ExecuteTime": {
     "end_time": "2020-12-02T13:35:12.623060Z",
     "start_time": "2020-12-02T13:35:12.602060Z"
    },
    "slideshow": {
     "slide_type": "subslide"
    }
   },
   "source": [
    "<img src='maps.png' width=500px height=100px alt='global' >"
   ]
  },
  {
   "cell_type": "markdown",
   "metadata": {
    "slideshow": {
     "slide_type": "subslide"
    }
   },
   "source": [
    "**Group 5:**\n",
    "- **Thuong Nguyen (Analyst)**\n",
    "- Shree Sapkota (Commentor)\n",
    "- Sandip Pandey (Commentor)\n"
   ]
  },
  {
   "cell_type": "markdown",
   "metadata": {
    "slideshow": {
     "slide_type": "slide"
    }
   },
   "source": [
    "# Our Purposes of Analysis\n",
    "\n",
    " - Experience on real life data which often requests work on cleaning and tidy up data.\n",
    " - Understand the complex nature of real life data. For example: attributes are often not easy to directly understand.\n",
    " - Make sense of why drop data and why not.\n",
    " - Make analysis and EDA."
   ]
  },
  {
   "cell_type": "markdown",
   "metadata": {
    "slideshow": {
     "slide_type": "slide"
    }
   },
   "source": [
    "# About Dataset\n",
    "The Global Findex database is the world’s most comprehensive data set on how adults save, borrow, make payments, and manage risk. \n",
    "<br>\n",
    "Launched with funding from the Bill & Melinda Gates Foundation, the database has been published every three years since 2011. The data are collected in partnership with Gallup, Inc., through nationally representative surveys of more than 150,000 adults in over 140 economies. \n",
    "<br>\n",
    "The 2017 edition includes updated indicators on access to and use of formal and informal financial services. And it adds new data on the use of financial technology (fintech), including the use of mobile phones and the internet to conduct financial transactions."
   ]
  },
  {
   "cell_type": "markdown",
   "metadata": {
    "slideshow": {
     "slide_type": "slide"
    }
   },
   "source": [
    "<div style='background-color:#FCFBFC;padding:20px'> \n",
    "<b>Original dataset contains:</b>\n",
    "<li> Section 1:  how people across the world use financial institutions and how available they are to people: FIN1 to FIN1)</li>\n",
    "<li> Section 2: unbank, people without bank account: FIN11 </li>\n",
    "<li style='color:#A712A7'>Section 3: mobile/internet section FIN12 to FIN 14. (target extract)</li>\n",
    "<li>Section 4: saving section FIN15 to FIN18</li>\n",
    "<li> Section 5: borrowing section: FIN19-25</li>\n",
    "...\n",
    "<li style='color:#A712A7'>end section: FIN48 about ID identity (target extract)</li>\n",
    "\n",
    "Link with the Series table in the excel data file to understand how attributes are organized in the data file.\n",
    "   </div>"
   ]
  },
  {
   "cell_type": "markdown",
   "metadata": {
    "slideshow": {
     "slide_type": "subslide"
    }
   },
   "source": [
    "<b>Useful links:</b>\n",
    "- Survey form: https://globalfindex.worldbank.org/sites/globalfindex/files/databank/2017%20Findex%20questionnaire.pdf\n",
    "- Termilogogy glossary: https://globalfindex.worldbank.org/sites/globalfindex/files/databank/Glossary2017.pdf\n",
    "- Main page: https://globalfindex.worldbank.org/"
   ]
  },
  {
   "cell_type": "markdown",
   "metadata": {
    "slideshow": {
     "slide_type": "slide"
    }
   },
   "source": [
    "# Catch and load original dataset"
   ]
  },
  {
   "cell_type": "markdown",
   "metadata": {
    "slideshow": {
     "slide_type": "subslide"
    }
   },
   "source": [
    "## Import necessary libraries/packages"
   ]
  },
  {
   "cell_type": "code",
   "execution_count": 1,
   "metadata": {
    "ExecuteTime": {
     "end_time": "2020-12-09T10:40:59.041327Z",
     "start_time": "2020-12-09T10:40:43.815928Z"
    }
   },
   "outputs": [
    {
     "data": {
      "text/html": [
       "        <script type=\"text/javascript\">\n",
       "        window.PlotlyConfig = {MathJaxConfig: 'local'};\n",
       "        if (window.MathJax) {MathJax.Hub.Config({SVG: {font: \"STIX-Web\"}});}\n",
       "        if (typeof require !== 'undefined') {\n",
       "        require.undef(\"plotly\");\n",
       "        requirejs.config({\n",
       "            paths: {\n",
       "                'plotly': ['https://cdn.plot.ly/plotly-latest.min']\n",
       "            }\n",
       "        });\n",
       "        require(['plotly'], function(Plotly) {\n",
       "            window._Plotly = Plotly;\n",
       "        });\n",
       "        }\n",
       "        </script>\n",
       "        "
      ]
     },
     "metadata": {},
     "output_type": "display_data"
    },
    {
     "data": {
      "text/html": [
       "        <script type=\"text/javascript\">\n",
       "        window.PlotlyConfig = {MathJaxConfig: 'local'};\n",
       "        if (window.MathJax) {MathJax.Hub.Config({SVG: {font: \"STIX-Web\"}});}\n",
       "        if (typeof require !== 'undefined') {\n",
       "        require.undef(\"plotly\");\n",
       "        requirejs.config({\n",
       "            paths: {\n",
       "                'plotly': ['https://cdn.plot.ly/plotly-latest.min']\n",
       "            }\n",
       "        });\n",
       "        require(['plotly'], function(Plotly) {\n",
       "            window._Plotly = Plotly;\n",
       "        });\n",
       "        }\n",
       "        </script>\n",
       "        "
      ]
     },
     "metadata": {},
     "output_type": "display_data"
    }
   ],
   "source": [
    "# importing libraries\n",
    "import plotly.graph_objects as go\n",
    "import chart_studio.plotly as py\n",
    "import cufflinks as cf\n",
    "from plotly.offline import iplot, init_notebook_mode\n",
    "#--------------------------------------------#\n",
    "\n",
    "import pandas as pd\n",
    "import numpy as np\n",
    "\n",
    "%matplotlib inline\n",
    "import matplotlib.pyplot as plt\n",
    "# option for pandas to display the columns\n",
    "pd.options.display.max_columns=30\n",
    "\n",
    "# setting the notebook mode for plotly\n",
    "\n",
    "init_notebook_mode(connected=True)\n",
    "cf.go_offline(connected=True)\n",
    "\n",
    "# setting theme in cufflinks\n",
    "\n",
    "cf.set_config_file(theme=\"pearl\")\n",
    "\n",
    "# set display print\n",
    "pd.options.display.float_format = '{:,.2f}'.format"
   ]
  },
  {
   "cell_type": "markdown",
   "metadata": {
    "slideshow": {
     "slide_type": "slide"
    }
   },
   "source": [
    "## Catch and load data with url"
   ]
  },
  {
   "cell_type": "code",
   "execution_count": 2,
   "metadata": {
    "ExecuteTime": {
     "end_time": "2020-12-09T10:40:59.050326Z",
     "start_time": "2020-12-09T10:40:59.044322Z"
    },
    "slideshow": {
     "slide_type": "subslide"
    }
   },
   "outputs": [],
   "source": [
    "url='https://globalfindex.worldbank.org/sites/globalfindex/files/2018-08/Global%20Findex%20Database.xlsx'"
   ]
  },
  {
   "cell_type": "code",
   "execution_count": 3,
   "metadata": {
    "ExecuteTime": {
     "end_time": "2020-12-09T10:41:14.504371Z",
     "start_time": "2020-12-09T10:40:59.057324Z"
    },
    "slideshow": {
     "slide_type": "subslide"
    }
   },
   "outputs": [],
   "source": [
    "data=pd.read_excel(url,'Data')"
   ]
  },
  {
   "cell_type": "markdown",
   "metadata": {
    "slideshow": {
     "slide_type": "slide"
    }
   },
   "source": [
    "## Investigate data"
   ]
  },
  {
   "cell_type": "code",
   "execution_count": 4,
   "metadata": {
    "ExecuteTime": {
     "end_time": "2020-12-09T10:41:14.573152Z",
     "start_time": "2020-12-09T10:41:14.507144Z"
    },
    "slideshow": {
     "slide_type": "subslide"
    }
   },
   "outputs": [
    {
     "data": {
      "text/html": [
       "<div>\n",
       "<style scoped>\n",
       "    .dataframe tbody tr th:only-of-type {\n",
       "        vertical-align: middle;\n",
       "    }\n",
       "\n",
       "    .dataframe tbody tr th {\n",
       "        vertical-align: top;\n",
       "    }\n",
       "\n",
       "    .dataframe thead th {\n",
       "        text-align: right;\n",
       "    }\n",
       "</style>\n",
       "<table border=\"1\" class=\"dataframe\">\n",
       "  <thead>\n",
       "    <tr style=\"text-align: right;\">\n",
       "      <th></th>\n",
       "      <th>Unnamed: 0</th>\n",
       "      <th>Unnamed: 1</th>\n",
       "      <th>Unnamed: 2</th>\n",
       "      <th>Unnamed: 3</th>\n",
       "      <th>Unnamed: 4</th>\n",
       "      <th>Account (% age 15+)</th>\n",
       "      <th>Account, male (% age 15+)</th>\n",
       "      <th>Account, in labor force (% age 15+)</th>\n",
       "      <th>Account, out of labor force (% age 15+)</th>\n",
       "      <th>Account, female (% age 15+)</th>\n",
       "      <th>Account, young adults (% ages 15-24)</th>\n",
       "      <th>Account, older adults (% ages 25+)</th>\n",
       "      <th>Account, primary education or less (% ages 15+)</th>\n",
       "      <th>Account, secondary education or more (% ages 15+)</th>\n",
       "      <th>Account, income, poorest 40% (% ages 15+)</th>\n",
       "      <th>...</th>\n",
       "      <th>Received digital payments in the past year, income, poorest 40%  (% age 15+)</th>\n",
       "      <th>Received digital payments in the past year, income, richest 60%  (% age 15+)</th>\n",
       "      <th>Received digital payments in the past year, rural (% age 15+)</th>\n",
       "      <th>Mobile money account (% age 15+)</th>\n",
       "      <th>Mobile money account, male  (% age 15+)</th>\n",
       "      <th>Mobile money account, in labor force (% age 15+)</th>\n",
       "      <th>Mobile money account, out of labor force (% age 15+)</th>\n",
       "      <th>Mobile money account, female (% age 15+)</th>\n",
       "      <th>Mobile money account, young adults  (% age 15-24)</th>\n",
       "      <th>Mobile money account, older adults (% age 25+)</th>\n",
       "      <th>Mobile money account, primary education or less (% age 15+)</th>\n",
       "      <th>Mobile money account, secondary education or less (% age 15+)</th>\n",
       "      <th>Mobile money account, income, poorest 40% (% age 15+)</th>\n",
       "      <th>Mobile money account, income, richest 60%  (% age 15+)</th>\n",
       "      <th>Mobile money account, rural  (% age 15+)</th>\n",
       "    </tr>\n",
       "  </thead>\n",
       "  <tbody>\n",
       "    <tr>\n",
       "      <th>0</th>\n",
       "      <td>2011</td>\n",
       "      <td>AFG</td>\n",
       "      <td>Afghanistan</td>\n",
       "      <td>South Asia</td>\n",
       "      <td>Low income</td>\n",
       "      <td>0.09</td>\n",
       "      <td>0.15</td>\n",
       "      <td>0.15</td>\n",
       "      <td>0.02</td>\n",
       "      <td>0.03</td>\n",
       "      <td>0.06</td>\n",
       "      <td>0.11</td>\n",
       "      <td>0.05</td>\n",
       "      <td>0.30</td>\n",
       "      <td>0.01</td>\n",
       "      <td>...</td>\n",
       "      <td>nan</td>\n",
       "      <td>nan</td>\n",
       "      <td>nan</td>\n",
       "      <td>nan</td>\n",
       "      <td>nan</td>\n",
       "      <td>nan</td>\n",
       "      <td>nan</td>\n",
       "      <td>nan</td>\n",
       "      <td>nan</td>\n",
       "      <td>nan</td>\n",
       "      <td>nan</td>\n",
       "      <td>nan</td>\n",
       "      <td>nan</td>\n",
       "      <td>nan</td>\n",
       "      <td>nan</td>\n",
       "    </tr>\n",
       "    <tr>\n",
       "      <th>1</th>\n",
       "      <td>2014</td>\n",
       "      <td>AFG</td>\n",
       "      <td>Afghanistan</td>\n",
       "      <td>South Asia</td>\n",
       "      <td>Low income</td>\n",
       "      <td>0.10</td>\n",
       "      <td>0.16</td>\n",
       "      <td>0.15</td>\n",
       "      <td>0.04</td>\n",
       "      <td>0.04</td>\n",
       "      <td>0.07</td>\n",
       "      <td>0.12</td>\n",
       "      <td>0.05</td>\n",
       "      <td>0.23</td>\n",
       "      <td>0.06</td>\n",
       "      <td>...</td>\n",
       "      <td>0.02</td>\n",
       "      <td>0.06</td>\n",
       "      <td>0.04</td>\n",
       "      <td>0.00</td>\n",
       "      <td>0.00</td>\n",
       "      <td>0.01</td>\n",
       "      <td>0.00</td>\n",
       "      <td>0.00</td>\n",
       "      <td>0.00</td>\n",
       "      <td>0.00</td>\n",
       "      <td>0.00</td>\n",
       "      <td>0.00</td>\n",
       "      <td>0.00</td>\n",
       "      <td>0.01</td>\n",
       "      <td>0.00</td>\n",
       "    </tr>\n",
       "    <tr>\n",
       "      <th>2</th>\n",
       "      <td>2017</td>\n",
       "      <td>AFG</td>\n",
       "      <td>Afghanistan</td>\n",
       "      <td>South Asia</td>\n",
       "      <td>Low income</td>\n",
       "      <td>0.15</td>\n",
       "      <td>0.23</td>\n",
       "      <td>0.25</td>\n",
       "      <td>0.04</td>\n",
       "      <td>0.07</td>\n",
       "      <td>0.10</td>\n",
       "      <td>0.18</td>\n",
       "      <td>0.09</td>\n",
       "      <td>0.31</td>\n",
       "      <td>0.14</td>\n",
       "      <td>...</td>\n",
       "      <td>0.08</td>\n",
       "      <td>0.10</td>\n",
       "      <td>0.09</td>\n",
       "      <td>0.01</td>\n",
       "      <td>0.01</td>\n",
       "      <td>0.02</td>\n",
       "      <td>0.00</td>\n",
       "      <td>0.01</td>\n",
       "      <td>0.00</td>\n",
       "      <td>0.01</td>\n",
       "      <td>0.00</td>\n",
       "      <td>0.02</td>\n",
       "      <td>0.00</td>\n",
       "      <td>0.01</td>\n",
       "      <td>0.01</td>\n",
       "    </tr>\n",
       "    <tr>\n",
       "      <th>3</th>\n",
       "      <td>2011</td>\n",
       "      <td>AGO</td>\n",
       "      <td>Angola</td>\n",
       "      <td>Sub-Saharan Africa (excluding high income)</td>\n",
       "      <td>Lower middle income</td>\n",
       "      <td>0.39</td>\n",
       "      <td>0.39</td>\n",
       "      <td>0.46</td>\n",
       "      <td>0.31</td>\n",
       "      <td>0.39</td>\n",
       "      <td>0.30</td>\n",
       "      <td>0.45</td>\n",
       "      <td>0.35</td>\n",
       "      <td>0.44</td>\n",
       "      <td>nan</td>\n",
       "      <td>...</td>\n",
       "      <td>nan</td>\n",
       "      <td>nan</td>\n",
       "      <td>nan</td>\n",
       "      <td>nan</td>\n",
       "      <td>nan</td>\n",
       "      <td>nan</td>\n",
       "      <td>nan</td>\n",
       "      <td>nan</td>\n",
       "      <td>nan</td>\n",
       "      <td>nan</td>\n",
       "      <td>nan</td>\n",
       "      <td>nan</td>\n",
       "      <td>nan</td>\n",
       "      <td>nan</td>\n",
       "      <td>nan</td>\n",
       "    </tr>\n",
       "    <tr>\n",
       "      <th>4</th>\n",
       "      <td>2014</td>\n",
       "      <td>AGO</td>\n",
       "      <td>Angola</td>\n",
       "      <td>Sub-Saharan Africa (excluding high income)</td>\n",
       "      <td>Lower middle income</td>\n",
       "      <td>0.29</td>\n",
       "      <td>0.36</td>\n",
       "      <td>0.36</td>\n",
       "      <td>0.12</td>\n",
       "      <td>0.22</td>\n",
       "      <td>0.15</td>\n",
       "      <td>0.38</td>\n",
       "      <td>0.14</td>\n",
       "      <td>0.70</td>\n",
       "      <td>0.13</td>\n",
       "      <td>...</td>\n",
       "      <td>0.06</td>\n",
       "      <td>0.23</td>\n",
       "      <td>0.11</td>\n",
       "      <td>nan</td>\n",
       "      <td>nan</td>\n",
       "      <td>nan</td>\n",
       "      <td>nan</td>\n",
       "      <td>nan</td>\n",
       "      <td>nan</td>\n",
       "      <td>nan</td>\n",
       "      <td>nan</td>\n",
       "      <td>nan</td>\n",
       "      <td>nan</td>\n",
       "      <td>nan</td>\n",
       "      <td>nan</td>\n",
       "    </tr>\n",
       "  </tbody>\n",
       "</table>\n",
       "<p>5 rows × 781 columns</p>\n",
       "</div>"
      ],
      "text/plain": [
       "   Unnamed: 0 Unnamed: 1   Unnamed: 2  \\\n",
       "0        2011        AFG  Afghanistan   \n",
       "1        2014        AFG  Afghanistan   \n",
       "2        2017        AFG  Afghanistan   \n",
       "3        2011        AGO       Angola   \n",
       "4        2014        AGO       Angola   \n",
       "\n",
       "                                   Unnamed: 3           Unnamed: 4  \\\n",
       "0                                  South Asia           Low income   \n",
       "1                                  South Asia           Low income   \n",
       "2                                  South Asia           Low income   \n",
       "3  Sub-Saharan Africa (excluding high income)  Lower middle income   \n",
       "4  Sub-Saharan Africa (excluding high income)  Lower middle income   \n",
       "\n",
       "   Account (% age 15+)  Account, male (% age 15+)  \\\n",
       "0                 0.09                       0.15   \n",
       "1                 0.10                       0.16   \n",
       "2                 0.15                       0.23   \n",
       "3                 0.39                       0.39   \n",
       "4                 0.29                       0.36   \n",
       "\n",
       "   Account, in labor force (% age 15+)   \\\n",
       "0                                  0.15   \n",
       "1                                  0.15   \n",
       "2                                  0.25   \n",
       "3                                  0.46   \n",
       "4                                  0.36   \n",
       "\n",
       "   Account, out of labor force (% age 15+)   Account, female (% age 15+)  \\\n",
       "0                                      0.02                         0.03   \n",
       "1                                      0.04                         0.04   \n",
       "2                                      0.04                         0.07   \n",
       "3                                      0.31                         0.39   \n",
       "4                                      0.12                         0.22   \n",
       "\n",
       "   Account, young adults (% ages 15-24)  Account, older adults (% ages 25+)  \\\n",
       "0                                  0.06                                0.11   \n",
       "1                                  0.07                                0.12   \n",
       "2                                  0.10                                0.18   \n",
       "3                                  0.30                                0.45   \n",
       "4                                  0.15                                0.38   \n",
       "\n",
       "   Account, primary education or less (% ages 15+)   \\\n",
       "0                                              0.05   \n",
       "1                                              0.05   \n",
       "2                                              0.09   \n",
       "3                                              0.35   \n",
       "4                                              0.14   \n",
       "\n",
       "   Account, secondary education or more (% ages 15+)   \\\n",
       "0                                               0.30    \n",
       "1                                               0.23    \n",
       "2                                               0.31    \n",
       "3                                               0.44    \n",
       "4                                               0.70    \n",
       "\n",
       "   Account, income, poorest 40% (% ages 15+)  ...  \\\n",
       "0                                       0.01  ...   \n",
       "1                                       0.06  ...   \n",
       "2                                       0.14  ...   \n",
       "3                                        nan  ...   \n",
       "4                                       0.13  ...   \n",
       "\n",
       "   Received digital payments in the past year, income, poorest 40%  (% age 15+)  \\\n",
       "0                                                nan                              \n",
       "1                                               0.02                              \n",
       "2                                               0.08                              \n",
       "3                                                nan                              \n",
       "4                                               0.06                              \n",
       "\n",
       "   Received digital payments in the past year, income, richest 60%  (% age 15+)  \\\n",
       "0                                                nan                              \n",
       "1                                               0.06                              \n",
       "2                                               0.10                              \n",
       "3                                                nan                              \n",
       "4                                               0.23                              \n",
       "\n",
       "   Received digital payments in the past year, rural (% age 15+)  \\\n",
       "0                                                nan               \n",
       "1                                               0.04               \n",
       "2                                               0.09               \n",
       "3                                                nan               \n",
       "4                                               0.11               \n",
       "\n",
       "   Mobile money account (% age 15+)   \\\n",
       "0                                nan   \n",
       "1                               0.00   \n",
       "2                               0.01   \n",
       "3                                nan   \n",
       "4                                nan   \n",
       "\n",
       "   Mobile money account, male  (% age 15+)   \\\n",
       "0                                       nan   \n",
       "1                                      0.00   \n",
       "2                                      0.01   \n",
       "3                                       nan   \n",
       "4                                       nan   \n",
       "\n",
       "   Mobile money account, in labor force (% age 15+)   \\\n",
       "0                                                nan   \n",
       "1                                               0.01   \n",
       "2                                               0.02   \n",
       "3                                                nan   \n",
       "4                                                nan   \n",
       "\n",
       "   Mobile money account, out of labor force (% age 15+)   \\\n",
       "0                                                nan       \n",
       "1                                               0.00       \n",
       "2                                               0.00       \n",
       "3                                                nan       \n",
       "4                                                nan       \n",
       "\n",
       "   Mobile money account, female (% age 15+)   \\\n",
       "0                                        nan   \n",
       "1                                       0.00   \n",
       "2                                       0.01   \n",
       "3                                        nan   \n",
       "4                                        nan   \n",
       "\n",
       "   Mobile money account, young adults  (% age 15-24)   \\\n",
       "0                                                nan    \n",
       "1                                               0.00    \n",
       "2                                               0.00    \n",
       "3                                                nan    \n",
       "4                                                nan    \n",
       "\n",
       "   Mobile money account, older adults (% age 25+)   \\\n",
       "0                                              nan   \n",
       "1                                             0.00   \n",
       "2                                             0.01   \n",
       "3                                              nan   \n",
       "4                                              nan   \n",
       "\n",
       "   Mobile money account, primary education or less (% age 15+)   \\\n",
       "0                                                nan              \n",
       "1                                               0.00              \n",
       "2                                               0.00              \n",
       "3                                                nan              \n",
       "4                                                nan              \n",
       "\n",
       "   Mobile money account, secondary education or less (% age 15+)   \\\n",
       "0                                                nan                \n",
       "1                                               0.00                \n",
       "2                                               0.02                \n",
       "3                                                nan                \n",
       "4                                                nan                \n",
       "\n",
       "   Mobile money account, income, poorest 40% (% age 15+)   \\\n",
       "0                                                nan        \n",
       "1                                               0.00        \n",
       "2                                               0.00        \n",
       "3                                                nan        \n",
       "4                                                nan        \n",
       "\n",
       "   Mobile money account, income, richest 60%  (% age 15+)   \\\n",
       "0                                                nan         \n",
       "1                                               0.01         \n",
       "2                                               0.01         \n",
       "3                                                nan         \n",
       "4                                                nan         \n",
       "\n",
       "   Mobile money account, rural  (% age 15+)   \n",
       "0                                        nan  \n",
       "1                                       0.00  \n",
       "2                                       0.01  \n",
       "3                                        nan  \n",
       "4                                        nan  \n",
       "\n",
       "[5 rows x 781 columns]"
      ]
     },
     "execution_count": 4,
     "metadata": {},
     "output_type": "execute_result"
    }
   ],
   "source": [
    "data.head()"
   ]
  },
  {
   "cell_type": "code",
   "execution_count": 5,
   "metadata": {
    "ExecuteTime": {
     "end_time": "2020-12-09T10:41:14.586144Z",
     "start_time": "2020-12-09T10:41:14.577146Z"
    },
    "slideshow": {
     "slide_type": "subslide"
    }
   },
   "outputs": [
    {
     "data": {
      "text/plain": [
       "(494, 781)"
      ]
     },
     "execution_count": 5,
     "metadata": {},
     "output_type": "execute_result"
    }
   ],
   "source": [
    "data.shape\n",
    "#huge amount of columns!!!"
   ]
  },
  {
   "cell_type": "markdown",
   "metadata": {
    "slideshow": {
     "slide_type": "slide"
    }
   },
   "source": [
    "## Pre-processing (rename necessary columns)"
   ]
  },
  {
   "cell_type": "code",
   "execution_count": 6,
   "metadata": {
    "ExecuteTime": {
     "end_time": "2020-12-09T10:41:14.599146Z",
     "start_time": "2020-12-09T10:41:14.592152Z"
    },
    "slideshow": {
     "slide_type": "subslide"
    }
   },
   "outputs": [],
   "source": [
    "data.rename({'Unnamed: 0':'Year','Unnamed: 2':'Country','Unnamed: 1':'ISO','Unnamed: 3':'Region'},axis='columns', inplace=True)"
   ]
  },
  {
   "cell_type": "code",
   "execution_count": 7,
   "metadata": {
    "ExecuteTime": {
     "end_time": "2020-12-09T10:41:14.652146Z",
     "start_time": "2020-12-09T10:41:14.604146Z"
    },
    "slideshow": {
     "slide_type": "subslide"
    }
   },
   "outputs": [
    {
     "data": {
      "text/html": [
       "<div>\n",
       "<style scoped>\n",
       "    .dataframe tbody tr th:only-of-type {\n",
       "        vertical-align: middle;\n",
       "    }\n",
       "\n",
       "    .dataframe tbody tr th {\n",
       "        vertical-align: top;\n",
       "    }\n",
       "\n",
       "    .dataframe thead th {\n",
       "        text-align: right;\n",
       "    }\n",
       "</style>\n",
       "<table border=\"1\" class=\"dataframe\">\n",
       "  <thead>\n",
       "    <tr style=\"text-align: right;\">\n",
       "      <th></th>\n",
       "      <th>Year</th>\n",
       "      <th>ISO</th>\n",
       "      <th>Country</th>\n",
       "      <th>Region</th>\n",
       "      <th>Unnamed: 4</th>\n",
       "      <th>Account (% age 15+)</th>\n",
       "      <th>Account, male (% age 15+)</th>\n",
       "      <th>Account, in labor force (% age 15+)</th>\n",
       "      <th>Account, out of labor force (% age 15+)</th>\n",
       "      <th>Account, female (% age 15+)</th>\n",
       "      <th>Account, young adults (% ages 15-24)</th>\n",
       "      <th>Account, older adults (% ages 25+)</th>\n",
       "      <th>Account, primary education or less (% ages 15+)</th>\n",
       "      <th>Account, secondary education or more (% ages 15+)</th>\n",
       "      <th>Account, income, poorest 40% (% ages 15+)</th>\n",
       "      <th>...</th>\n",
       "      <th>Received digital payments in the past year, income, poorest 40%  (% age 15+)</th>\n",
       "      <th>Received digital payments in the past year, income, richest 60%  (% age 15+)</th>\n",
       "      <th>Received digital payments in the past year, rural (% age 15+)</th>\n",
       "      <th>Mobile money account (% age 15+)</th>\n",
       "      <th>Mobile money account, male  (% age 15+)</th>\n",
       "      <th>Mobile money account, in labor force (% age 15+)</th>\n",
       "      <th>Mobile money account, out of labor force (% age 15+)</th>\n",
       "      <th>Mobile money account, female (% age 15+)</th>\n",
       "      <th>Mobile money account, young adults  (% age 15-24)</th>\n",
       "      <th>Mobile money account, older adults (% age 25+)</th>\n",
       "      <th>Mobile money account, primary education or less (% age 15+)</th>\n",
       "      <th>Mobile money account, secondary education or less (% age 15+)</th>\n",
       "      <th>Mobile money account, income, poorest 40% (% age 15+)</th>\n",
       "      <th>Mobile money account, income, richest 60%  (% age 15+)</th>\n",
       "      <th>Mobile money account, rural  (% age 15+)</th>\n",
       "    </tr>\n",
       "  </thead>\n",
       "  <tbody>\n",
       "    <tr>\n",
       "      <th>0</th>\n",
       "      <td>2011</td>\n",
       "      <td>AFG</td>\n",
       "      <td>Afghanistan</td>\n",
       "      <td>South Asia</td>\n",
       "      <td>Low income</td>\n",
       "      <td>0.09</td>\n",
       "      <td>0.15</td>\n",
       "      <td>0.15</td>\n",
       "      <td>0.02</td>\n",
       "      <td>0.03</td>\n",
       "      <td>0.06</td>\n",
       "      <td>0.11</td>\n",
       "      <td>0.05</td>\n",
       "      <td>0.30</td>\n",
       "      <td>0.01</td>\n",
       "      <td>...</td>\n",
       "      <td>nan</td>\n",
       "      <td>nan</td>\n",
       "      <td>nan</td>\n",
       "      <td>nan</td>\n",
       "      <td>nan</td>\n",
       "      <td>nan</td>\n",
       "      <td>nan</td>\n",
       "      <td>nan</td>\n",
       "      <td>nan</td>\n",
       "      <td>nan</td>\n",
       "      <td>nan</td>\n",
       "      <td>nan</td>\n",
       "      <td>nan</td>\n",
       "      <td>nan</td>\n",
       "      <td>nan</td>\n",
       "    </tr>\n",
       "    <tr>\n",
       "      <th>1</th>\n",
       "      <td>2014</td>\n",
       "      <td>AFG</td>\n",
       "      <td>Afghanistan</td>\n",
       "      <td>South Asia</td>\n",
       "      <td>Low income</td>\n",
       "      <td>0.10</td>\n",
       "      <td>0.16</td>\n",
       "      <td>0.15</td>\n",
       "      <td>0.04</td>\n",
       "      <td>0.04</td>\n",
       "      <td>0.07</td>\n",
       "      <td>0.12</td>\n",
       "      <td>0.05</td>\n",
       "      <td>0.23</td>\n",
       "      <td>0.06</td>\n",
       "      <td>...</td>\n",
       "      <td>0.02</td>\n",
       "      <td>0.06</td>\n",
       "      <td>0.04</td>\n",
       "      <td>0.00</td>\n",
       "      <td>0.00</td>\n",
       "      <td>0.01</td>\n",
       "      <td>0.00</td>\n",
       "      <td>0.00</td>\n",
       "      <td>0.00</td>\n",
       "      <td>0.00</td>\n",
       "      <td>0.00</td>\n",
       "      <td>0.00</td>\n",
       "      <td>0.00</td>\n",
       "      <td>0.01</td>\n",
       "      <td>0.00</td>\n",
       "    </tr>\n",
       "    <tr>\n",
       "      <th>2</th>\n",
       "      <td>2017</td>\n",
       "      <td>AFG</td>\n",
       "      <td>Afghanistan</td>\n",
       "      <td>South Asia</td>\n",
       "      <td>Low income</td>\n",
       "      <td>0.15</td>\n",
       "      <td>0.23</td>\n",
       "      <td>0.25</td>\n",
       "      <td>0.04</td>\n",
       "      <td>0.07</td>\n",
       "      <td>0.10</td>\n",
       "      <td>0.18</td>\n",
       "      <td>0.09</td>\n",
       "      <td>0.31</td>\n",
       "      <td>0.14</td>\n",
       "      <td>...</td>\n",
       "      <td>0.08</td>\n",
       "      <td>0.10</td>\n",
       "      <td>0.09</td>\n",
       "      <td>0.01</td>\n",
       "      <td>0.01</td>\n",
       "      <td>0.02</td>\n",
       "      <td>0.00</td>\n",
       "      <td>0.01</td>\n",
       "      <td>0.00</td>\n",
       "      <td>0.01</td>\n",
       "      <td>0.00</td>\n",
       "      <td>0.02</td>\n",
       "      <td>0.00</td>\n",
       "      <td>0.01</td>\n",
       "      <td>0.01</td>\n",
       "    </tr>\n",
       "    <tr>\n",
       "      <th>3</th>\n",
       "      <td>2011</td>\n",
       "      <td>AGO</td>\n",
       "      <td>Angola</td>\n",
       "      <td>Sub-Saharan Africa (excluding high income)</td>\n",
       "      <td>Lower middle income</td>\n",
       "      <td>0.39</td>\n",
       "      <td>0.39</td>\n",
       "      <td>0.46</td>\n",
       "      <td>0.31</td>\n",
       "      <td>0.39</td>\n",
       "      <td>0.30</td>\n",
       "      <td>0.45</td>\n",
       "      <td>0.35</td>\n",
       "      <td>0.44</td>\n",
       "      <td>nan</td>\n",
       "      <td>...</td>\n",
       "      <td>nan</td>\n",
       "      <td>nan</td>\n",
       "      <td>nan</td>\n",
       "      <td>nan</td>\n",
       "      <td>nan</td>\n",
       "      <td>nan</td>\n",
       "      <td>nan</td>\n",
       "      <td>nan</td>\n",
       "      <td>nan</td>\n",
       "      <td>nan</td>\n",
       "      <td>nan</td>\n",
       "      <td>nan</td>\n",
       "      <td>nan</td>\n",
       "      <td>nan</td>\n",
       "      <td>nan</td>\n",
       "    </tr>\n",
       "    <tr>\n",
       "      <th>4</th>\n",
       "      <td>2014</td>\n",
       "      <td>AGO</td>\n",
       "      <td>Angola</td>\n",
       "      <td>Sub-Saharan Africa (excluding high income)</td>\n",
       "      <td>Lower middle income</td>\n",
       "      <td>0.29</td>\n",
       "      <td>0.36</td>\n",
       "      <td>0.36</td>\n",
       "      <td>0.12</td>\n",
       "      <td>0.22</td>\n",
       "      <td>0.15</td>\n",
       "      <td>0.38</td>\n",
       "      <td>0.14</td>\n",
       "      <td>0.70</td>\n",
       "      <td>0.13</td>\n",
       "      <td>...</td>\n",
       "      <td>0.06</td>\n",
       "      <td>0.23</td>\n",
       "      <td>0.11</td>\n",
       "      <td>nan</td>\n",
       "      <td>nan</td>\n",
       "      <td>nan</td>\n",
       "      <td>nan</td>\n",
       "      <td>nan</td>\n",
       "      <td>nan</td>\n",
       "      <td>nan</td>\n",
       "      <td>nan</td>\n",
       "      <td>nan</td>\n",
       "      <td>nan</td>\n",
       "      <td>nan</td>\n",
       "      <td>nan</td>\n",
       "    </tr>\n",
       "  </tbody>\n",
       "</table>\n",
       "<p>5 rows × 781 columns</p>\n",
       "</div>"
      ],
      "text/plain": [
       "   Year  ISO      Country                                      Region  \\\n",
       "0  2011  AFG  Afghanistan                                  South Asia   \n",
       "1  2014  AFG  Afghanistan                                  South Asia   \n",
       "2  2017  AFG  Afghanistan                                  South Asia   \n",
       "3  2011  AGO       Angola  Sub-Saharan Africa (excluding high income)   \n",
       "4  2014  AGO       Angola  Sub-Saharan Africa (excluding high income)   \n",
       "\n",
       "            Unnamed: 4  Account (% age 15+)  Account, male (% age 15+)  \\\n",
       "0           Low income                 0.09                       0.15   \n",
       "1           Low income                 0.10                       0.16   \n",
       "2           Low income                 0.15                       0.23   \n",
       "3  Lower middle income                 0.39                       0.39   \n",
       "4  Lower middle income                 0.29                       0.36   \n",
       "\n",
       "   Account, in labor force (% age 15+)   \\\n",
       "0                                  0.15   \n",
       "1                                  0.15   \n",
       "2                                  0.25   \n",
       "3                                  0.46   \n",
       "4                                  0.36   \n",
       "\n",
       "   Account, out of labor force (% age 15+)   Account, female (% age 15+)  \\\n",
       "0                                      0.02                         0.03   \n",
       "1                                      0.04                         0.04   \n",
       "2                                      0.04                         0.07   \n",
       "3                                      0.31                         0.39   \n",
       "4                                      0.12                         0.22   \n",
       "\n",
       "   Account, young adults (% ages 15-24)  Account, older adults (% ages 25+)  \\\n",
       "0                                  0.06                                0.11   \n",
       "1                                  0.07                                0.12   \n",
       "2                                  0.10                                0.18   \n",
       "3                                  0.30                                0.45   \n",
       "4                                  0.15                                0.38   \n",
       "\n",
       "   Account, primary education or less (% ages 15+)   \\\n",
       "0                                              0.05   \n",
       "1                                              0.05   \n",
       "2                                              0.09   \n",
       "3                                              0.35   \n",
       "4                                              0.14   \n",
       "\n",
       "   Account, secondary education or more (% ages 15+)   \\\n",
       "0                                               0.30    \n",
       "1                                               0.23    \n",
       "2                                               0.31    \n",
       "3                                               0.44    \n",
       "4                                               0.70    \n",
       "\n",
       "   Account, income, poorest 40% (% ages 15+)  ...  \\\n",
       "0                                       0.01  ...   \n",
       "1                                       0.06  ...   \n",
       "2                                       0.14  ...   \n",
       "3                                        nan  ...   \n",
       "4                                       0.13  ...   \n",
       "\n",
       "   Received digital payments in the past year, income, poorest 40%  (% age 15+)  \\\n",
       "0                                                nan                              \n",
       "1                                               0.02                              \n",
       "2                                               0.08                              \n",
       "3                                                nan                              \n",
       "4                                               0.06                              \n",
       "\n",
       "   Received digital payments in the past year, income, richest 60%  (% age 15+)  \\\n",
       "0                                                nan                              \n",
       "1                                               0.06                              \n",
       "2                                               0.10                              \n",
       "3                                                nan                              \n",
       "4                                               0.23                              \n",
       "\n",
       "   Received digital payments in the past year, rural (% age 15+)  \\\n",
       "0                                                nan               \n",
       "1                                               0.04               \n",
       "2                                               0.09               \n",
       "3                                                nan               \n",
       "4                                               0.11               \n",
       "\n",
       "   Mobile money account (% age 15+)   \\\n",
       "0                                nan   \n",
       "1                               0.00   \n",
       "2                               0.01   \n",
       "3                                nan   \n",
       "4                                nan   \n",
       "\n",
       "   Mobile money account, male  (% age 15+)   \\\n",
       "0                                       nan   \n",
       "1                                      0.00   \n",
       "2                                      0.01   \n",
       "3                                       nan   \n",
       "4                                       nan   \n",
       "\n",
       "   Mobile money account, in labor force (% age 15+)   \\\n",
       "0                                                nan   \n",
       "1                                               0.01   \n",
       "2                                               0.02   \n",
       "3                                                nan   \n",
       "4                                                nan   \n",
       "\n",
       "   Mobile money account, out of labor force (% age 15+)   \\\n",
       "0                                                nan       \n",
       "1                                               0.00       \n",
       "2                                               0.00       \n",
       "3                                                nan       \n",
       "4                                                nan       \n",
       "\n",
       "   Mobile money account, female (% age 15+)   \\\n",
       "0                                        nan   \n",
       "1                                       0.00   \n",
       "2                                       0.01   \n",
       "3                                        nan   \n",
       "4                                        nan   \n",
       "\n",
       "   Mobile money account, young adults  (% age 15-24)   \\\n",
       "0                                                nan    \n",
       "1                                               0.00    \n",
       "2                                               0.00    \n",
       "3                                                nan    \n",
       "4                                                nan    \n",
       "\n",
       "   Mobile money account, older adults (% age 25+)   \\\n",
       "0                                              nan   \n",
       "1                                             0.00   \n",
       "2                                             0.01   \n",
       "3                                              nan   \n",
       "4                                              nan   \n",
       "\n",
       "   Mobile money account, primary education or less (% age 15+)   \\\n",
       "0                                                nan              \n",
       "1                                               0.00              \n",
       "2                                               0.00              \n",
       "3                                                nan              \n",
       "4                                                nan              \n",
       "\n",
       "   Mobile money account, secondary education or less (% age 15+)   \\\n",
       "0                                                nan                \n",
       "1                                               0.00                \n",
       "2                                               0.02                \n",
       "3                                                nan                \n",
       "4                                                nan                \n",
       "\n",
       "   Mobile money account, income, poorest 40% (% age 15+)   \\\n",
       "0                                                nan        \n",
       "1                                               0.00        \n",
       "2                                               0.00        \n",
       "3                                                nan        \n",
       "4                                                nan        \n",
       "\n",
       "   Mobile money account, income, richest 60%  (% age 15+)   \\\n",
       "0                                                nan         \n",
       "1                                               0.01         \n",
       "2                                               0.01         \n",
       "3                                                nan         \n",
       "4                                                nan         \n",
       "\n",
       "   Mobile money account, rural  (% age 15+)   \n",
       "0                                        nan  \n",
       "1                                       0.00  \n",
       "2                                       0.01  \n",
       "3                                        nan  \n",
       "4                                        nan  \n",
       "\n",
       "[5 rows x 781 columns]"
      ]
     },
     "execution_count": 7,
     "metadata": {},
     "output_type": "execute_result"
    }
   ],
   "source": [
    "data.head()"
   ]
  },
  {
   "cell_type": "markdown",
   "metadata": {
    "slideshow": {
     "slide_type": "slide"
    }
   },
   "source": [
    "# Extract necessary data:"
   ]
  },
  {
   "cell_type": "markdown",
   "metadata": {
    "ExecuteTime": {
     "end_time": "2020-12-02T12:41:17.986307Z",
     "start_time": "2020-12-02T12:41:17.964304Z"
    },
    "slideshow": {
     "slide_type": "subslide"
    }
   },
   "source": [
    "<img src='mobilepay.jpg' width=1000px height=100px object-fit='fill' alt='mobile pay' >"
   ]
  },
  {
   "cell_type": "markdown",
   "metadata": {},
   "source": [
    "<mark>According to Findex:\n",
    "\" Mobile money account includes respondents who report personally using services\n",
    "included in the GSM Association’s Mobile Money for the Unbanked (GSMA MMU)\n",
    "database to pay bills or to send or receive money in the past 12 months. It also includes\n",
    "an additional 0.60 percent of respondents in 2017 who report receiving wages, government transfers, a public sector pension (included in 2017 data), or payments for agricultural products through a mobile phone in the past 12 months.\""
   ]
  },
  {
   "cell_type": "markdown",
   "metadata": {},
   "source": [
    "<b> Because the dataset is too big to cover. We only focus on a group of variable that start with Mobile (notice: all respondents of the survey are adults.<b>"
   ]
  },
  {
   "cell_type": "markdown",
   "metadata": {
    "slideshow": {
     "slide_type": "slide"
    }
   },
   "source": [
    "## Use regex to extract from pandas dataframe"
   ]
  },
  {
   "cell_type": "code",
   "execution_count": 8,
   "metadata": {
    "ExecuteTime": {
     "end_time": "2020-12-09T10:41:14.665145Z",
     "start_time": "2020-12-09T10:41:14.658146Z"
    },
    "scrolled": true,
    "slideshow": {
     "slide_type": "subslide"
    }
   },
   "outputs": [],
   "source": [
    "# extract to take variables to analyse on Mobile users in handling with finance.\n",
    "# We can see Year and country to index but since they are not unique variables---> should not set them as indice\n",
    "mob_1=data[data.columns[data.columns.str.contains(r'Mobile')]]\n"
   ]
  },
  {
   "cell_type": "markdown",
   "metadata": {},
   "source": [
    "<mark> Attributes are defined according to Findex:\n",
    "- __Mobile money account (% age 15+)__: The percentage of respondents who report personally using a mobile money service in the past 12 months\n",
    "- __Mobile money account, male  (% age 15+)__ The percentage of respondents who report personally using a mobile money service in the past 12 months, male (% age 15+).\n",
    "- __Mobile money account, in labor force (% age 15+)__ The percentage of respondents who report personally using a mobile money service in the past 12 months, in labor force  (% age 15+)\n",
    "- __Mobile money account, out of labor force (% age 15+)__  The percentage of respondents who report personally using a mobile money service in the past 12 months, out of labor force  (% age 15+)\n",
    "- __Mobile money account, female (% age 15+)__ \tThe percentage of respondents who report personally using a mobile money service in the past 12 months, female (% age 15+)\n",
    "- __Mobile money account, young adults  (% age 15-24)__ \tThe percentage of respondents who report personally using a mobile money service in the past 12 months, young adults (% age 15-24)\n",
    "- __Mobile money account, older adults (% age 25+)__ The percentage of respondents who report personally using a mobile money service in the past 12 months, older adults (% age 25+)\n",
    "- __Mobile money account, primary education or less (% age 15+)__\tThe percentage of respondents who report personally using a mobile money service in the past 12 months, primary education or less (% age 15+)\n",
    "- __Mobile money account, secondary education or less (% age 15+)__ \tThe percentage of respondents who report personally using a mobile money service in the past 12 months, secondary education or more (% age 15+)\n",
    "- __Mobile money account, income, poorest 40% (% age 15+)__ \tThe percentage of respondents who report personally using a mobile money service in the past 12 months, income, poorest 40% (% age 15+)\n",
    "- __Mobile money account, income, richest 60%  (% age 15+)__ \tThe percentage of respondents who report personally using a mobile money service in the past 12 months, income, richest 50% (% age 15+)\n",
    "- __Mobile money account, rural  (% age 15+)__ \tThe percentage of respondents who report personally using a mobile money service in the past 12 months, rural (% age 15+)\n"
   ]
  },
  {
   "cell_type": "markdown",
   "metadata": {},
   "source": [
    "## Join 2 dataframes to have full Mobile Money Account dataset "
   ]
  },
  {
   "cell_type": "code",
   "execution_count": 9,
   "metadata": {
    "ExecuteTime": {
     "end_time": "2020-12-09T10:41:14.731162Z",
     "start_time": "2020-12-09T10:41:14.670146Z"
    },
    "scrolled": true
   },
   "outputs": [
    {
     "data": {
      "text/html": [
       "<div>\n",
       "<style scoped>\n",
       "    .dataframe tbody tr th:only-of-type {\n",
       "        vertical-align: middle;\n",
       "    }\n",
       "\n",
       "    .dataframe tbody tr th {\n",
       "        vertical-align: top;\n",
       "    }\n",
       "\n",
       "    .dataframe thead th {\n",
       "        text-align: right;\n",
       "    }\n",
       "</style>\n",
       "<table border=\"1\" class=\"dataframe\">\n",
       "  <thead>\n",
       "    <tr style=\"text-align: right;\">\n",
       "      <th></th>\n",
       "      <th>Year</th>\n",
       "      <th>Country</th>\n",
       "      <th>ISO</th>\n",
       "      <th>Region</th>\n",
       "      <th>Mobile money account (% age 15+)</th>\n",
       "      <th>Mobile money account, male  (% age 15+)</th>\n",
       "      <th>Mobile money account, in labor force (% age 15+)</th>\n",
       "      <th>Mobile money account, out of labor force (% age 15+)</th>\n",
       "      <th>Mobile money account, female (% age 15+)</th>\n",
       "      <th>Mobile money account, young adults  (% age 15-24)</th>\n",
       "      <th>Mobile money account, older adults (% age 25+)</th>\n",
       "      <th>Mobile money account, primary education or less (% age 15+)</th>\n",
       "      <th>Mobile money account, secondary education or less (% age 15+)</th>\n",
       "      <th>Mobile money account, income, poorest 40% (% age 15+)</th>\n",
       "      <th>Mobile money account, income, richest 60%  (% age 15+)</th>\n",
       "      <th>Mobile money account, rural  (% age 15+)</th>\n",
       "    </tr>\n",
       "  </thead>\n",
       "  <tbody>\n",
       "    <tr>\n",
       "      <th>0</th>\n",
       "      <td>2011</td>\n",
       "      <td>Afghanistan</td>\n",
       "      <td>AFG</td>\n",
       "      <td>South Asia</td>\n",
       "      <td>nan</td>\n",
       "      <td>nan</td>\n",
       "      <td>nan</td>\n",
       "      <td>nan</td>\n",
       "      <td>nan</td>\n",
       "      <td>nan</td>\n",
       "      <td>nan</td>\n",
       "      <td>nan</td>\n",
       "      <td>nan</td>\n",
       "      <td>nan</td>\n",
       "      <td>nan</td>\n",
       "      <td>nan</td>\n",
       "    </tr>\n",
       "    <tr>\n",
       "      <th>1</th>\n",
       "      <td>2014</td>\n",
       "      <td>Afghanistan</td>\n",
       "      <td>AFG</td>\n",
       "      <td>South Asia</td>\n",
       "      <td>0.00</td>\n",
       "      <td>0.00</td>\n",
       "      <td>0.01</td>\n",
       "      <td>0.00</td>\n",
       "      <td>0.00</td>\n",
       "      <td>0.00</td>\n",
       "      <td>0.00</td>\n",
       "      <td>0.00</td>\n",
       "      <td>0.00</td>\n",
       "      <td>0.00</td>\n",
       "      <td>0.01</td>\n",
       "      <td>0.00</td>\n",
       "    </tr>\n",
       "    <tr>\n",
       "      <th>2</th>\n",
       "      <td>2017</td>\n",
       "      <td>Afghanistan</td>\n",
       "      <td>AFG</td>\n",
       "      <td>South Asia</td>\n",
       "      <td>0.01</td>\n",
       "      <td>0.01</td>\n",
       "      <td>0.02</td>\n",
       "      <td>0.00</td>\n",
       "      <td>0.01</td>\n",
       "      <td>0.00</td>\n",
       "      <td>0.01</td>\n",
       "      <td>0.00</td>\n",
       "      <td>0.02</td>\n",
       "      <td>0.00</td>\n",
       "      <td>0.01</td>\n",
       "      <td>0.01</td>\n",
       "    </tr>\n",
       "    <tr>\n",
       "      <th>3</th>\n",
       "      <td>2011</td>\n",
       "      <td>Angola</td>\n",
       "      <td>AGO</td>\n",
       "      <td>Sub-Saharan Africa (excluding high income)</td>\n",
       "      <td>nan</td>\n",
       "      <td>nan</td>\n",
       "      <td>nan</td>\n",
       "      <td>nan</td>\n",
       "      <td>nan</td>\n",
       "      <td>nan</td>\n",
       "      <td>nan</td>\n",
       "      <td>nan</td>\n",
       "      <td>nan</td>\n",
       "      <td>nan</td>\n",
       "      <td>nan</td>\n",
       "      <td>nan</td>\n",
       "    </tr>\n",
       "    <tr>\n",
       "      <th>4</th>\n",
       "      <td>2014</td>\n",
       "      <td>Angola</td>\n",
       "      <td>AGO</td>\n",
       "      <td>Sub-Saharan Africa (excluding high income)</td>\n",
       "      <td>nan</td>\n",
       "      <td>nan</td>\n",
       "      <td>nan</td>\n",
       "      <td>nan</td>\n",
       "      <td>nan</td>\n",
       "      <td>nan</td>\n",
       "      <td>nan</td>\n",
       "      <td>nan</td>\n",
       "      <td>nan</td>\n",
       "      <td>nan</td>\n",
       "      <td>nan</td>\n",
       "      <td>nan</td>\n",
       "    </tr>\n",
       "    <tr>\n",
       "      <th>...</th>\n",
       "      <td>...</td>\n",
       "      <td>...</td>\n",
       "      <td>...</td>\n",
       "      <td>...</td>\n",
       "      <td>...</td>\n",
       "      <td>...</td>\n",
       "      <td>...</td>\n",
       "      <td>...</td>\n",
       "      <td>...</td>\n",
       "      <td>...</td>\n",
       "      <td>...</td>\n",
       "      <td>...</td>\n",
       "      <td>...</td>\n",
       "      <td>...</td>\n",
       "      <td>...</td>\n",
       "      <td>...</td>\n",
       "    </tr>\n",
       "    <tr>\n",
       "      <th>489</th>\n",
       "      <td>2014</td>\n",
       "      <td>Zambia</td>\n",
       "      <td>ZMB</td>\n",
       "      <td>Sub-Saharan Africa (excluding high income)</td>\n",
       "      <td>0.12</td>\n",
       "      <td>0.15</td>\n",
       "      <td>0.14</td>\n",
       "      <td>0.08</td>\n",
       "      <td>0.09</td>\n",
       "      <td>0.13</td>\n",
       "      <td>0.11</td>\n",
       "      <td>0.04</td>\n",
       "      <td>0.22</td>\n",
       "      <td>0.05</td>\n",
       "      <td>0.17</td>\n",
       "      <td>0.11</td>\n",
       "    </tr>\n",
       "    <tr>\n",
       "      <th>490</th>\n",
       "      <td>2017</td>\n",
       "      <td>Zambia</td>\n",
       "      <td>ZMB</td>\n",
       "      <td>Sub-Saharan Africa (excluding high income)</td>\n",
       "      <td>0.28</td>\n",
       "      <td>0.30</td>\n",
       "      <td>0.32</td>\n",
       "      <td>0.19</td>\n",
       "      <td>0.26</td>\n",
       "      <td>0.29</td>\n",
       "      <td>0.27</td>\n",
       "      <td>0.15</td>\n",
       "      <td>0.41</td>\n",
       "      <td>0.19</td>\n",
       "      <td>0.34</td>\n",
       "      <td>0.26</td>\n",
       "    </tr>\n",
       "    <tr>\n",
       "      <th>491</th>\n",
       "      <td>2011</td>\n",
       "      <td>Zimbabwe</td>\n",
       "      <td>ZWE</td>\n",
       "      <td>Sub-Saharan Africa (excluding high income)</td>\n",
       "      <td>nan</td>\n",
       "      <td>nan</td>\n",
       "      <td>nan</td>\n",
       "      <td>nan</td>\n",
       "      <td>nan</td>\n",
       "      <td>nan</td>\n",
       "      <td>nan</td>\n",
       "      <td>nan</td>\n",
       "      <td>nan</td>\n",
       "      <td>nan</td>\n",
       "      <td>nan</td>\n",
       "      <td>nan</td>\n",
       "    </tr>\n",
       "    <tr>\n",
       "      <th>492</th>\n",
       "      <td>2014</td>\n",
       "      <td>Zimbabwe</td>\n",
       "      <td>ZWE</td>\n",
       "      <td>Sub-Saharan Africa (excluding high income)</td>\n",
       "      <td>0.22</td>\n",
       "      <td>0.24</td>\n",
       "      <td>0.25</td>\n",
       "      <td>0.17</td>\n",
       "      <td>0.19</td>\n",
       "      <td>0.20</td>\n",
       "      <td>0.23</td>\n",
       "      <td>0.13</td>\n",
       "      <td>0.27</td>\n",
       "      <td>0.10</td>\n",
       "      <td>0.29</td>\n",
       "      <td>0.19</td>\n",
       "    </tr>\n",
       "    <tr>\n",
       "      <th>493</th>\n",
       "      <td>2017</td>\n",
       "      <td>Zimbabwe</td>\n",
       "      <td>ZWE</td>\n",
       "      <td>Sub-Saharan Africa (excluding high income)</td>\n",
       "      <td>0.49</td>\n",
       "      <td>0.51</td>\n",
       "      <td>0.52</td>\n",
       "      <td>0.40</td>\n",
       "      <td>0.46</td>\n",
       "      <td>0.43</td>\n",
       "      <td>0.51</td>\n",
       "      <td>0.32</td>\n",
       "      <td>0.58</td>\n",
       "      <td>0.40</td>\n",
       "      <td>0.54</td>\n",
       "      <td>0.43</td>\n",
       "    </tr>\n",
       "  </tbody>\n",
       "</table>\n",
       "<p>494 rows × 16 columns</p>\n",
       "</div>"
      ],
      "text/plain": [
       "     Year      Country  ISO                                      Region  \\\n",
       "0    2011  Afghanistan  AFG                                  South Asia   \n",
       "1    2014  Afghanistan  AFG                                  South Asia   \n",
       "2    2017  Afghanistan  AFG                                  South Asia   \n",
       "3    2011       Angola  AGO  Sub-Saharan Africa (excluding high income)   \n",
       "4    2014       Angola  AGO  Sub-Saharan Africa (excluding high income)   \n",
       "..    ...          ...  ...                                         ...   \n",
       "489  2014       Zambia  ZMB  Sub-Saharan Africa (excluding high income)   \n",
       "490  2017       Zambia  ZMB  Sub-Saharan Africa (excluding high income)   \n",
       "491  2011     Zimbabwe  ZWE  Sub-Saharan Africa (excluding high income)   \n",
       "492  2014     Zimbabwe  ZWE  Sub-Saharan Africa (excluding high income)   \n",
       "493  2017     Zimbabwe  ZWE  Sub-Saharan Africa (excluding high income)   \n",
       "\n",
       "     Mobile money account (% age 15+)   \\\n",
       "0                                  nan   \n",
       "1                                 0.00   \n",
       "2                                 0.01   \n",
       "3                                  nan   \n",
       "4                                  nan   \n",
       "..                                 ...   \n",
       "489                               0.12   \n",
       "490                               0.28   \n",
       "491                                nan   \n",
       "492                               0.22   \n",
       "493                               0.49   \n",
       "\n",
       "     Mobile money account, male  (% age 15+)   \\\n",
       "0                                         nan   \n",
       "1                                        0.00   \n",
       "2                                        0.01   \n",
       "3                                         nan   \n",
       "4                                         nan   \n",
       "..                                        ...   \n",
       "489                                      0.15   \n",
       "490                                      0.30   \n",
       "491                                       nan   \n",
       "492                                      0.24   \n",
       "493                                      0.51   \n",
       "\n",
       "     Mobile money account, in labor force (% age 15+)   \\\n",
       "0                                                  nan   \n",
       "1                                                 0.01   \n",
       "2                                                 0.02   \n",
       "3                                                  nan   \n",
       "4                                                  nan   \n",
       "..                                                 ...   \n",
       "489                                               0.14   \n",
       "490                                               0.32   \n",
       "491                                                nan   \n",
       "492                                               0.25   \n",
       "493                                               0.52   \n",
       "\n",
       "     Mobile money account, out of labor force (% age 15+)   \\\n",
       "0                                                  nan       \n",
       "1                                                 0.00       \n",
       "2                                                 0.00       \n",
       "3                                                  nan       \n",
       "4                                                  nan       \n",
       "..                                                 ...       \n",
       "489                                               0.08       \n",
       "490                                               0.19       \n",
       "491                                                nan       \n",
       "492                                               0.17       \n",
       "493                                               0.40       \n",
       "\n",
       "     Mobile money account, female (% age 15+)   \\\n",
       "0                                          nan   \n",
       "1                                         0.00   \n",
       "2                                         0.01   \n",
       "3                                          nan   \n",
       "4                                          nan   \n",
       "..                                         ...   \n",
       "489                                       0.09   \n",
       "490                                       0.26   \n",
       "491                                        nan   \n",
       "492                                       0.19   \n",
       "493                                       0.46   \n",
       "\n",
       "     Mobile money account, young adults  (% age 15-24)   \\\n",
       "0                                                  nan    \n",
       "1                                                 0.00    \n",
       "2                                                 0.00    \n",
       "3                                                  nan    \n",
       "4                                                  nan    \n",
       "..                                                 ...    \n",
       "489                                               0.13    \n",
       "490                                               0.29    \n",
       "491                                                nan    \n",
       "492                                               0.20    \n",
       "493                                               0.43    \n",
       "\n",
       "     Mobile money account, older adults (% age 25+)   \\\n",
       "0                                                nan   \n",
       "1                                               0.00   \n",
       "2                                               0.01   \n",
       "3                                                nan   \n",
       "4                                                nan   \n",
       "..                                               ...   \n",
       "489                                             0.11   \n",
       "490                                             0.27   \n",
       "491                                              nan   \n",
       "492                                             0.23   \n",
       "493                                             0.51   \n",
       "\n",
       "     Mobile money account, primary education or less (% age 15+)   \\\n",
       "0                                                  nan              \n",
       "1                                                 0.00              \n",
       "2                                                 0.00              \n",
       "3                                                  nan              \n",
       "4                                                  nan              \n",
       "..                                                 ...              \n",
       "489                                               0.04              \n",
       "490                                               0.15              \n",
       "491                                                nan              \n",
       "492                                               0.13              \n",
       "493                                               0.32              \n",
       "\n",
       "     Mobile money account, secondary education or less (% age 15+)   \\\n",
       "0                                                  nan                \n",
       "1                                                 0.00                \n",
       "2                                                 0.02                \n",
       "3                                                  nan                \n",
       "4                                                  nan                \n",
       "..                                                 ...                \n",
       "489                                               0.22                \n",
       "490                                               0.41                \n",
       "491                                                nan                \n",
       "492                                               0.27                \n",
       "493                                               0.58                \n",
       "\n",
       "     Mobile money account, income, poorest 40% (% age 15+)   \\\n",
       "0                                                  nan        \n",
       "1                                                 0.00        \n",
       "2                                                 0.00        \n",
       "3                                                  nan        \n",
       "4                                                  nan        \n",
       "..                                                 ...        \n",
       "489                                               0.05        \n",
       "490                                               0.19        \n",
       "491                                                nan        \n",
       "492                                               0.10        \n",
       "493                                               0.40        \n",
       "\n",
       "     Mobile money account, income, richest 60%  (% age 15+)   \\\n",
       "0                                                  nan         \n",
       "1                                                 0.01         \n",
       "2                                                 0.01         \n",
       "3                                                  nan         \n",
       "4                                                  nan         \n",
       "..                                                 ...         \n",
       "489                                               0.17         \n",
       "490                                               0.34         \n",
       "491                                                nan         \n",
       "492                                               0.29         \n",
       "493                                               0.54         \n",
       "\n",
       "     Mobile money account, rural  (% age 15+)   \n",
       "0                                          nan  \n",
       "1                                         0.00  \n",
       "2                                         0.01  \n",
       "3                                          nan  \n",
       "4                                          nan  \n",
       "..                                         ...  \n",
       "489                                       0.11  \n",
       "490                                       0.26  \n",
       "491                                        nan  \n",
       "492                                       0.19  \n",
       "493                                       0.43  \n",
       "\n",
       "[494 rows x 16 columns]"
      ]
     },
     "execution_count": 9,
     "metadata": {},
     "output_type": "execute_result"
    }
   ],
   "source": [
    "mob_2=data[['Year','Country','ISO','Region']]\n",
    "mob=mob_2.join(mob_1)\n",
    "mob"
   ]
  },
  {
   "cell_type": "code",
   "execution_count": 10,
   "metadata": {
    "ExecuteTime": {
     "end_time": "2020-12-09T10:41:14.768146Z",
     "start_time": "2020-12-09T10:41:14.737148Z"
    }
   },
   "outputs": [
    {
     "name": "stdout",
     "output_type": "stream",
     "text": [
      "<class 'pandas.core.frame.DataFrame'>\n",
      "RangeIndex: 494 entries, 0 to 493\n",
      "Data columns (total 16 columns):\n",
      " #   Column                                                          Non-Null Count  Dtype  \n",
      "---  ------                                                          --------------  -----  \n",
      " 0   Year                                                            494 non-null    int64  \n",
      " 1   Country                                                         494 non-null    object \n",
      " 2   ISO                                                             494 non-null    object \n",
      " 3   Region                                                          430 non-null    object \n",
      " 4   Mobile money account (% age 15+)                                174 non-null    float64\n",
      " 5   Mobile money account, male  (% age 15+)                         174 non-null    float64\n",
      " 6   Mobile money account, in labor force (% age 15+)                173 non-null    float64\n",
      " 7   Mobile money account, out of labor force (% age 15+)            173 non-null    float64\n",
      " 8   Mobile money account, female (% age 15+)                        174 non-null    float64\n",
      " 9   Mobile money account, young adults  (% age 15-24)               174 non-null    float64\n",
      " 10  Mobile money account, older adults (% age 25+)                  174 non-null    float64\n",
      " 11  Mobile money account, primary education or less (% age 15+)     174 non-null    float64\n",
      " 12  Mobile money account, secondary education or less (% age 15+)   174 non-null    float64\n",
      " 13  Mobile money account, income, poorest 40% (% age 15+)           173 non-null    float64\n",
      " 14  Mobile money account, income, richest 60%  (% age 15+)          173 non-null    float64\n",
      " 15  Mobile money account, rural  (% age 15+)                        173 non-null    float64\n",
      "dtypes: float64(12), int64(1), object(3)\n",
      "memory usage: 61.9+ KB\n"
     ]
    }
   ],
   "source": [
    "mob.info()"
   ]
  },
  {
   "cell_type": "markdown",
   "metadata": {
    "ExecuteTime": {
     "end_time": "2020-12-07T15:51:36.833728Z",
     "start_time": "2020-12-07T15:51:36.809739Z"
    }
   },
   "source": [
    "<div style='background-color:orange; color:white; padding:20px'> PREPARING DATA\n",
    "</div>"
   ]
  },
  {
   "cell_type": "markdown",
   "metadata": {},
   "source": [
    "## Clean missing value"
   ]
  },
  {
   "cell_type": "code",
   "execution_count": 11,
   "metadata": {
    "ExecuteTime": {
     "end_time": "2020-12-09T10:41:14.895147Z",
     "start_time": "2020-12-09T10:41:14.775147Z"
    }
   },
   "outputs": [
    {
     "data": {
      "text/html": [
       "<div>\n",
       "<style scoped>\n",
       "    .dataframe tbody tr th:only-of-type {\n",
       "        vertical-align: middle;\n",
       "    }\n",
       "\n",
       "    .dataframe tbody tr th {\n",
       "        vertical-align: top;\n",
       "    }\n",
       "\n",
       "    .dataframe thead th {\n",
       "        text-align: right;\n",
       "    }\n",
       "</style>\n",
       "<table border=\"1\" class=\"dataframe\">\n",
       "  <thead>\n",
       "    <tr style=\"text-align: right;\">\n",
       "      <th></th>\n",
       "      <th>Mobile money account (% age 15+)</th>\n",
       "      <th>Mobile money account, male  (% age 15+)</th>\n",
       "      <th>Mobile money account, in labor force (% age 15+)</th>\n",
       "      <th>Mobile money account, out of labor force (% age 15+)</th>\n",
       "      <th>Mobile money account, female (% age 15+)</th>\n",
       "      <th>Mobile money account, young adults  (% age 15-24)</th>\n",
       "      <th>Mobile money account, older adults (% age 25+)</th>\n",
       "      <th>Mobile money account, primary education or less (% age 15+)</th>\n",
       "      <th>Mobile money account, secondary education or less (% age 15+)</th>\n",
       "      <th>Mobile money account, income, poorest 40% (% age 15+)</th>\n",
       "      <th>Mobile money account, income, richest 60%  (% age 15+)</th>\n",
       "      <th>Mobile money account, rural  (% age 15+)</th>\n",
       "    </tr>\n",
       "  </thead>\n",
       "  <tbody>\n",
       "    <tr>\n",
       "      <th>1</th>\n",
       "      <td>0.00</td>\n",
       "      <td>0.00</td>\n",
       "      <td>0.01</td>\n",
       "      <td>0.00</td>\n",
       "      <td>0.00</td>\n",
       "      <td>0.00</td>\n",
       "      <td>0.00</td>\n",
       "      <td>0.00</td>\n",
       "      <td>0.00</td>\n",
       "      <td>0.00</td>\n",
       "      <td>0.01</td>\n",
       "      <td>0.00</td>\n",
       "    </tr>\n",
       "    <tr>\n",
       "      <th>2</th>\n",
       "      <td>0.01</td>\n",
       "      <td>0.01</td>\n",
       "      <td>0.02</td>\n",
       "      <td>0.00</td>\n",
       "      <td>0.01</td>\n",
       "      <td>0.00</td>\n",
       "      <td>0.01</td>\n",
       "      <td>0.00</td>\n",
       "      <td>0.02</td>\n",
       "      <td>0.00</td>\n",
       "      <td>0.01</td>\n",
       "      <td>0.01</td>\n",
       "    </tr>\n",
       "    <tr>\n",
       "      <th>7</th>\n",
       "      <td>0.02</td>\n",
       "      <td>0.02</td>\n",
       "      <td>0.03</td>\n",
       "      <td>0.02</td>\n",
       "      <td>0.02</td>\n",
       "      <td>0.06</td>\n",
       "      <td>0.01</td>\n",
       "      <td>0.01</td>\n",
       "      <td>0.04</td>\n",
       "      <td>0.00</td>\n",
       "      <td>0.04</td>\n",
       "      <td>0.02</td>\n",
       "    </tr>\n",
       "    <tr>\n",
       "      <th>12</th>\n",
       "      <td>0.11</td>\n",
       "      <td>0.12</td>\n",
       "      <td>0.13</td>\n",
       "      <td>0.06</td>\n",
       "      <td>0.10</td>\n",
       "      <td>0.10</td>\n",
       "      <td>0.12</td>\n",
       "      <td>0.07</td>\n",
       "      <td>0.12</td>\n",
       "      <td>0.07</td>\n",
       "      <td>0.15</td>\n",
       "      <td>0.16</td>\n",
       "    </tr>\n",
       "    <tr>\n",
       "      <th>13</th>\n",
       "      <td>0.21</td>\n",
       "      <td>0.23</td>\n",
       "      <td>0.23</td>\n",
       "      <td>0.09</td>\n",
       "      <td>0.18</td>\n",
       "      <td>0.10</td>\n",
       "      <td>0.22</td>\n",
       "      <td>0.09</td>\n",
       "      <td>0.22</td>\n",
       "      <td>0.16</td>\n",
       "      <td>0.25</td>\n",
       "      <td>0.14</td>\n",
       "    </tr>\n",
       "  </tbody>\n",
       "</table>\n",
       "</div>"
      ],
      "text/plain": [
       "    Mobile money account (% age 15+)   \\\n",
       "1                                0.00   \n",
       "2                                0.01   \n",
       "7                                0.02   \n",
       "12                               0.11   \n",
       "13                               0.21   \n",
       "\n",
       "    Mobile money account, male  (% age 15+)   \\\n",
       "1                                       0.00   \n",
       "2                                       0.01   \n",
       "7                                       0.02   \n",
       "12                                      0.12   \n",
       "13                                      0.23   \n",
       "\n",
       "    Mobile money account, in labor force (% age 15+)   \\\n",
       "1                                                0.01   \n",
       "2                                                0.02   \n",
       "7                                                0.03   \n",
       "12                                               0.13   \n",
       "13                                               0.23   \n",
       "\n",
       "    Mobile money account, out of labor force (% age 15+)   \\\n",
       "1                                                0.00       \n",
       "2                                                0.00       \n",
       "7                                                0.02       \n",
       "12                                               0.06       \n",
       "13                                               0.09       \n",
       "\n",
       "    Mobile money account, female (% age 15+)   \\\n",
       "1                                        0.00   \n",
       "2                                        0.01   \n",
       "7                                        0.02   \n",
       "12                                       0.10   \n",
       "13                                       0.18   \n",
       "\n",
       "    Mobile money account, young adults  (% age 15-24)   \\\n",
       "1                                                0.00    \n",
       "2                                                0.00    \n",
       "7                                                0.06    \n",
       "12                                               0.10    \n",
       "13                                               0.10    \n",
       "\n",
       "    Mobile money account, older adults (% age 25+)   \\\n",
       "1                                              0.00   \n",
       "2                                              0.01   \n",
       "7                                              0.01   \n",
       "12                                             0.12   \n",
       "13                                             0.22   \n",
       "\n",
       "    Mobile money account, primary education or less (% age 15+)   \\\n",
       "1                                                0.00              \n",
       "2                                                0.00              \n",
       "7                                                0.01              \n",
       "12                                               0.07              \n",
       "13                                               0.09              \n",
       "\n",
       "    Mobile money account, secondary education or less (% age 15+)   \\\n",
       "1                                                0.00                \n",
       "2                                                0.02                \n",
       "7                                                0.04                \n",
       "12                                               0.12                \n",
       "13                                               0.22                \n",
       "\n",
       "    Mobile money account, income, poorest 40% (% age 15+)   \\\n",
       "1                                                0.00        \n",
       "2                                                0.00        \n",
       "7                                                0.00        \n",
       "12                                               0.07        \n",
       "13                                               0.16        \n",
       "\n",
       "    Mobile money account, income, richest 60%  (% age 15+)   \\\n",
       "1                                                0.01         \n",
       "2                                                0.01         \n",
       "7                                                0.04         \n",
       "12                                               0.15         \n",
       "13                                               0.25         \n",
       "\n",
       "    Mobile money account, rural  (% age 15+)   \n",
       "1                                        0.00  \n",
       "2                                        0.01  \n",
       "7                                        0.02  \n",
       "12                                       0.16  \n",
       "13                                       0.14  "
      ]
     },
     "execution_count": 11,
     "metadata": {},
     "output_type": "execute_result"
    }
   ],
   "source": [
    "mob_1=mob_1.dropna(how='any')\n",
    "# now only 174 columns \n",
    "mob_1.head()"
   ]
  },
  {
   "cell_type": "markdown",
   "metadata": {
    "ExecuteTime": {
     "end_time": "2020-12-01T10:01:39.032759Z",
     "start_time": "2020-12-01T10:01:39.022769Z"
    }
   },
   "source": [
    "## Convert the unit value for easy readable percentage"
   ]
  },
  {
   "cell_type": "code",
   "execution_count": 12,
   "metadata": {
    "ExecuteTime": {
     "end_time": "2020-12-09T10:41:14.909149Z",
     "start_time": "2020-12-09T10:41:14.900146Z"
    }
   },
   "outputs": [],
   "source": [
    "mob_1=mob_1*100"
   ]
  },
  {
   "cell_type": "markdown",
   "metadata": {
    "ExecuteTime": {
     "end_time": "2020-12-07T08:19:24.437496Z",
     "start_time": "2020-12-07T08:19:24.426492Z"
    }
   },
   "source": [
    "## Join back to have the whole clean data"
   ]
  },
  {
   "cell_type": "code",
   "execution_count": 13,
   "metadata": {
    "ExecuteTime": {
     "end_time": "2020-12-09T10:41:14.964147Z",
     "start_time": "2020-12-09T10:41:14.914145Z"
    },
    "scrolled": true
   },
   "outputs": [
    {
     "data": {
      "text/html": [
       "<div>\n",
       "<style scoped>\n",
       "    .dataframe tbody tr th:only-of-type {\n",
       "        vertical-align: middle;\n",
       "    }\n",
       "\n",
       "    .dataframe tbody tr th {\n",
       "        vertical-align: top;\n",
       "    }\n",
       "\n",
       "    .dataframe thead th {\n",
       "        text-align: right;\n",
       "    }\n",
       "</style>\n",
       "<table border=\"1\" class=\"dataframe\">\n",
       "  <thead>\n",
       "    <tr style=\"text-align: right;\">\n",
       "      <th></th>\n",
       "      <th>Year</th>\n",
       "      <th>Country</th>\n",
       "      <th>ISO</th>\n",
       "      <th>Region</th>\n",
       "      <th>Mobile money account (% age 15+)</th>\n",
       "      <th>Mobile money account, male  (% age 15+)</th>\n",
       "      <th>Mobile money account, in labor force (% age 15+)</th>\n",
       "      <th>Mobile money account, out of labor force (% age 15+)</th>\n",
       "      <th>Mobile money account, female (% age 15+)</th>\n",
       "      <th>Mobile money account, young adults  (% age 15-24)</th>\n",
       "      <th>Mobile money account, older adults (% age 25+)</th>\n",
       "      <th>Mobile money account, primary education or less (% age 15+)</th>\n",
       "      <th>Mobile money account, secondary education or less (% age 15+)</th>\n",
       "      <th>Mobile money account, income, poorest 40% (% age 15+)</th>\n",
       "      <th>Mobile money account, income, richest 60%  (% age 15+)</th>\n",
       "      <th>Mobile money account, rural  (% age 15+)</th>\n",
       "    </tr>\n",
       "  </thead>\n",
       "  <tbody>\n",
       "    <tr>\n",
       "      <th>1</th>\n",
       "      <td>2014</td>\n",
       "      <td>Afghanistan</td>\n",
       "      <td>AFG</td>\n",
       "      <td>South Asia</td>\n",
       "      <td>0.30</td>\n",
       "      <td>0.40</td>\n",
       "      <td>0.57</td>\n",
       "      <td>0.00</td>\n",
       "      <td>0.21</td>\n",
       "      <td>0.26</td>\n",
       "      <td>0.33</td>\n",
       "      <td>0.29</td>\n",
       "      <td>0.35</td>\n",
       "      <td>0.00</td>\n",
       "      <td>0.51</td>\n",
       "      <td>0.24</td>\n",
       "    </tr>\n",
       "    <tr>\n",
       "      <th>2</th>\n",
       "      <td>2017</td>\n",
       "      <td>Afghanistan</td>\n",
       "      <td>AFG</td>\n",
       "      <td>South Asia</td>\n",
       "      <td>0.91</td>\n",
       "      <td>0.95</td>\n",
       "      <td>1.72</td>\n",
       "      <td>0.05</td>\n",
       "      <td>0.88</td>\n",
       "      <td>0.00</td>\n",
       "      <td>1.47</td>\n",
       "      <td>0.40</td>\n",
       "      <td>2.26</td>\n",
       "      <td>0.36</td>\n",
       "      <td>1.28</td>\n",
       "      <td>0.85</td>\n",
       "    </tr>\n",
       "    <tr>\n",
       "      <th>7</th>\n",
       "      <td>2017</td>\n",
       "      <td>Albania</td>\n",
       "      <td>ALB</td>\n",
       "      <td>Europe &amp; Central Asia (excluding high income)</td>\n",
       "      <td>2.38</td>\n",
       "      <td>2.38</td>\n",
       "      <td>3.07</td>\n",
       "      <td>1.69</td>\n",
       "      <td>2.38</td>\n",
       "      <td>5.98</td>\n",
       "      <td>1.32</td>\n",
       "      <td>0.80</td>\n",
       "      <td>4.37</td>\n",
       "      <td>0.49</td>\n",
       "      <td>3.63</td>\n",
       "      <td>1.85</td>\n",
       "    </tr>\n",
       "    <tr>\n",
       "      <th>12</th>\n",
       "      <td>2014</td>\n",
       "      <td>United Arab Emirates</td>\n",
       "      <td>ARE</td>\n",
       "      <td>High income</td>\n",
       "      <td>11.49</td>\n",
       "      <td>12.20</td>\n",
       "      <td>12.62</td>\n",
       "      <td>5.91</td>\n",
       "      <td>9.67</td>\n",
       "      <td>9.63</td>\n",
       "      <td>12.00</td>\n",
       "      <td>7.10</td>\n",
       "      <td>11.73</td>\n",
       "      <td>7.02</td>\n",
       "      <td>14.65</td>\n",
       "      <td>16.40</td>\n",
       "    </tr>\n",
       "    <tr>\n",
       "      <th>13</th>\n",
       "      <td>2017</td>\n",
       "      <td>United Arab Emirates</td>\n",
       "      <td>ARE</td>\n",
       "      <td>High income</td>\n",
       "      <td>21.33</td>\n",
       "      <td>22.52</td>\n",
       "      <td>22.96</td>\n",
       "      <td>9.46</td>\n",
       "      <td>18.19</td>\n",
       "      <td>10.12</td>\n",
       "      <td>22.34</td>\n",
       "      <td>9.29</td>\n",
       "      <td>21.86</td>\n",
       "      <td>15.59</td>\n",
       "      <td>25.15</td>\n",
       "      <td>13.67</td>\n",
       "    </tr>\n",
       "    <tr>\n",
       "      <th>...</th>\n",
       "      <td>...</td>\n",
       "      <td>...</td>\n",
       "      <td>...</td>\n",
       "      <td>...</td>\n",
       "      <td>...</td>\n",
       "      <td>...</td>\n",
       "      <td>...</td>\n",
       "      <td>...</td>\n",
       "      <td>...</td>\n",
       "      <td>...</td>\n",
       "      <td>...</td>\n",
       "      <td>...</td>\n",
       "      <td>...</td>\n",
       "      <td>...</td>\n",
       "      <td>...</td>\n",
       "      <td>...</td>\n",
       "    </tr>\n",
       "    <tr>\n",
       "      <th>487</th>\n",
       "      <td>2017</td>\n",
       "      <td>South Africa</td>\n",
       "      <td>ZAF</td>\n",
       "      <td>Sub-Saharan Africa (excluding high income)</td>\n",
       "      <td>19.02</td>\n",
       "      <td>19.42</td>\n",
       "      <td>24.86</td>\n",
       "      <td>8.74</td>\n",
       "      <td>18.64</td>\n",
       "      <td>16.92</td>\n",
       "      <td>19.92</td>\n",
       "      <td>12.17</td>\n",
       "      <td>21.74</td>\n",
       "      <td>12.06</td>\n",
       "      <td>23.62</td>\n",
       "      <td>19.14</td>\n",
       "    </tr>\n",
       "    <tr>\n",
       "      <th>489</th>\n",
       "      <td>2014</td>\n",
       "      <td>Zambia</td>\n",
       "      <td>ZMB</td>\n",
       "      <td>Sub-Saharan Africa (excluding high income)</td>\n",
       "      <td>12.11</td>\n",
       "      <td>14.85</td>\n",
       "      <td>13.77</td>\n",
       "      <td>8.44</td>\n",
       "      <td>9.48</td>\n",
       "      <td>13.24</td>\n",
       "      <td>11.38</td>\n",
       "      <td>3.94</td>\n",
       "      <td>21.71</td>\n",
       "      <td>5.48</td>\n",
       "      <td>16.53</td>\n",
       "      <td>11.31</td>\n",
       "    </tr>\n",
       "    <tr>\n",
       "      <th>490</th>\n",
       "      <td>2017</td>\n",
       "      <td>Zambia</td>\n",
       "      <td>ZMB</td>\n",
       "      <td>Sub-Saharan Africa (excluding high income)</td>\n",
       "      <td>27.84</td>\n",
       "      <td>29.95</td>\n",
       "      <td>32.37</td>\n",
       "      <td>19.41</td>\n",
       "      <td>25.82</td>\n",
       "      <td>28.90</td>\n",
       "      <td>27.06</td>\n",
       "      <td>14.52</td>\n",
       "      <td>40.52</td>\n",
       "      <td>18.51</td>\n",
       "      <td>34.06</td>\n",
       "      <td>25.51</td>\n",
       "    </tr>\n",
       "    <tr>\n",
       "      <th>492</th>\n",
       "      <td>2014</td>\n",
       "      <td>Zimbabwe</td>\n",
       "      <td>ZWE</td>\n",
       "      <td>Sub-Saharan Africa (excluding high income)</td>\n",
       "      <td>21.60</td>\n",
       "      <td>24.21</td>\n",
       "      <td>25.19</td>\n",
       "      <td>16.84</td>\n",
       "      <td>19.10</td>\n",
       "      <td>20.01</td>\n",
       "      <td>22.51</td>\n",
       "      <td>12.56</td>\n",
       "      <td>27.38</td>\n",
       "      <td>9.97</td>\n",
       "      <td>29.33</td>\n",
       "      <td>19.09</td>\n",
       "    </tr>\n",
       "    <tr>\n",
       "      <th>493</th>\n",
       "      <td>2017</td>\n",
       "      <td>Zimbabwe</td>\n",
       "      <td>ZWE</td>\n",
       "      <td>Sub-Saharan Africa (excluding high income)</td>\n",
       "      <td>48.58</td>\n",
       "      <td>51.17</td>\n",
       "      <td>52.36</td>\n",
       "      <td>40.17</td>\n",
       "      <td>46.20</td>\n",
       "      <td>43.01</td>\n",
       "      <td>51.45</td>\n",
       "      <td>31.91</td>\n",
       "      <td>58.10</td>\n",
       "      <td>40.23</td>\n",
       "      <td>54.14</td>\n",
       "      <td>42.69</td>\n",
       "    </tr>\n",
       "  </tbody>\n",
       "</table>\n",
       "<p>172 rows × 16 columns</p>\n",
       "</div>"
      ],
      "text/plain": [
       "     Year               Country  ISO  \\\n",
       "1    2014           Afghanistan  AFG   \n",
       "2    2017           Afghanistan  AFG   \n",
       "7    2017               Albania  ALB   \n",
       "12   2014  United Arab Emirates  ARE   \n",
       "13   2017  United Arab Emirates  ARE   \n",
       "..    ...                   ...  ...   \n",
       "487  2017          South Africa  ZAF   \n",
       "489  2014                Zambia  ZMB   \n",
       "490  2017                Zambia  ZMB   \n",
       "492  2014              Zimbabwe  ZWE   \n",
       "493  2017              Zimbabwe  ZWE   \n",
       "\n",
       "                                            Region  \\\n",
       "1                                       South Asia   \n",
       "2                                       South Asia   \n",
       "7    Europe & Central Asia (excluding high income)   \n",
       "12                                     High income   \n",
       "13                                     High income   \n",
       "..                                             ...   \n",
       "487     Sub-Saharan Africa (excluding high income)   \n",
       "489     Sub-Saharan Africa (excluding high income)   \n",
       "490     Sub-Saharan Africa (excluding high income)   \n",
       "492     Sub-Saharan Africa (excluding high income)   \n",
       "493     Sub-Saharan Africa (excluding high income)   \n",
       "\n",
       "     Mobile money account (% age 15+)   \\\n",
       "1                                 0.30   \n",
       "2                                 0.91   \n",
       "7                                 2.38   \n",
       "12                               11.49   \n",
       "13                               21.33   \n",
       "..                                 ...   \n",
       "487                              19.02   \n",
       "489                              12.11   \n",
       "490                              27.84   \n",
       "492                              21.60   \n",
       "493                              48.58   \n",
       "\n",
       "     Mobile money account, male  (% age 15+)   \\\n",
       "1                                        0.40   \n",
       "2                                        0.95   \n",
       "7                                        2.38   \n",
       "12                                      12.20   \n",
       "13                                      22.52   \n",
       "..                                        ...   \n",
       "487                                     19.42   \n",
       "489                                     14.85   \n",
       "490                                     29.95   \n",
       "492                                     24.21   \n",
       "493                                     51.17   \n",
       "\n",
       "     Mobile money account, in labor force (% age 15+)   \\\n",
       "1                                                 0.57   \n",
       "2                                                 1.72   \n",
       "7                                                 3.07   \n",
       "12                                               12.62   \n",
       "13                                               22.96   \n",
       "..                                                 ...   \n",
       "487                                              24.86   \n",
       "489                                              13.77   \n",
       "490                                              32.37   \n",
       "492                                              25.19   \n",
       "493                                              52.36   \n",
       "\n",
       "     Mobile money account, out of labor force (% age 15+)   \\\n",
       "1                                                 0.00       \n",
       "2                                                 0.05       \n",
       "7                                                 1.69       \n",
       "12                                                5.91       \n",
       "13                                                9.46       \n",
       "..                                                 ...       \n",
       "487                                               8.74       \n",
       "489                                               8.44       \n",
       "490                                              19.41       \n",
       "492                                              16.84       \n",
       "493                                              40.17       \n",
       "\n",
       "     Mobile money account, female (% age 15+)   \\\n",
       "1                                         0.21   \n",
       "2                                         0.88   \n",
       "7                                         2.38   \n",
       "12                                        9.67   \n",
       "13                                       18.19   \n",
       "..                                         ...   \n",
       "487                                      18.64   \n",
       "489                                       9.48   \n",
       "490                                      25.82   \n",
       "492                                      19.10   \n",
       "493                                      46.20   \n",
       "\n",
       "     Mobile money account, young adults  (% age 15-24)   \\\n",
       "1                                                 0.26    \n",
       "2                                                 0.00    \n",
       "7                                                 5.98    \n",
       "12                                                9.63    \n",
       "13                                               10.12    \n",
       "..                                                 ...    \n",
       "487                                              16.92    \n",
       "489                                              13.24    \n",
       "490                                              28.90    \n",
       "492                                              20.01    \n",
       "493                                              43.01    \n",
       "\n",
       "     Mobile money account, older adults (% age 25+)   \\\n",
       "1                                               0.33   \n",
       "2                                               1.47   \n",
       "7                                               1.32   \n",
       "12                                             12.00   \n",
       "13                                             22.34   \n",
       "..                                               ...   \n",
       "487                                            19.92   \n",
       "489                                            11.38   \n",
       "490                                            27.06   \n",
       "492                                            22.51   \n",
       "493                                            51.45   \n",
       "\n",
       "     Mobile money account, primary education or less (% age 15+)   \\\n",
       "1                                                 0.29              \n",
       "2                                                 0.40              \n",
       "7                                                 0.80              \n",
       "12                                                7.10              \n",
       "13                                                9.29              \n",
       "..                                                 ...              \n",
       "487                                              12.17              \n",
       "489                                               3.94              \n",
       "490                                              14.52              \n",
       "492                                              12.56              \n",
       "493                                              31.91              \n",
       "\n",
       "     Mobile money account, secondary education or less (% age 15+)   \\\n",
       "1                                                 0.35                \n",
       "2                                                 2.26                \n",
       "7                                                 4.37                \n",
       "12                                               11.73                \n",
       "13                                               21.86                \n",
       "..                                                 ...                \n",
       "487                                              21.74                \n",
       "489                                              21.71                \n",
       "490                                              40.52                \n",
       "492                                              27.38                \n",
       "493                                              58.10                \n",
       "\n",
       "     Mobile money account, income, poorest 40% (% age 15+)   \\\n",
       "1                                                 0.00        \n",
       "2                                                 0.36        \n",
       "7                                                 0.49        \n",
       "12                                                7.02        \n",
       "13                                               15.59        \n",
       "..                                                 ...        \n",
       "487                                              12.06        \n",
       "489                                               5.48        \n",
       "490                                              18.51        \n",
       "492                                               9.97        \n",
       "493                                              40.23        \n",
       "\n",
       "     Mobile money account, income, richest 60%  (% age 15+)   \\\n",
       "1                                                 0.51         \n",
       "2                                                 1.28         \n",
       "7                                                 3.63         \n",
       "12                                               14.65         \n",
       "13                                               25.15         \n",
       "..                                                 ...         \n",
       "487                                              23.62         \n",
       "489                                              16.53         \n",
       "490                                              34.06         \n",
       "492                                              29.33         \n",
       "493                                              54.14         \n",
       "\n",
       "     Mobile money account, rural  (% age 15+)   \n",
       "1                                         0.24  \n",
       "2                                         0.85  \n",
       "7                                         1.85  \n",
       "12                                       16.40  \n",
       "13                                       13.67  \n",
       "..                                         ...  \n",
       "487                                      19.14  \n",
       "489                                      11.31  \n",
       "490                                      25.51  \n",
       "492                                      19.09  \n",
       "493                                      42.69  \n",
       "\n",
       "[172 rows x 16 columns]"
      ]
     },
     "execution_count": 13,
     "metadata": {},
     "output_type": "execute_result"
    }
   ],
   "source": [
    "mob_cl=mob_2.join(mob_1,how='inner')  # join by matching index, only chose match\n",
    "mob_cl"
   ]
  },
  {
   "cell_type": "markdown",
   "metadata": {},
   "source": [
    "<div class=\"alert alert-block alert-success\">\n",
    "<b>Now we have clean data without missing value:</b> data frame name 'mob_cl' with information as shown above.\n",
    "</div>"
   ]
  },
  {
   "cell_type": "markdown",
   "metadata": {},
   "source": [
    "## Make columns name more concise and human readable:\n",
    "- we can remove redundance <mark>'Mobile money account'</mark>, because all this part is about Mobile already\n",
    "- we also see redundance and later become confusing with '()', so we decide to drop the text part in <mark>()</mark> of each columns name.\n",
    "- to keep understanding, we notice before deleting:\n",
    "  - young aldults are age 15-24, old aldult are 25+, the rest columns are just 15+\n",
    "  - figure are ratio of confirmed using mobile. (1 means 100%)"
   ]
  },
  {
   "cell_type": "code",
   "execution_count": 14,
   "metadata": {
    "ExecuteTime": {
     "end_time": "2020-12-09T10:41:14.974158Z",
     "start_time": "2020-12-09T10:41:14.967148Z"
    }
   },
   "outputs": [],
   "source": [
    "mob_cl.columns=mob_cl.columns.str.replace(r'(Mobile\\smoney\\saccount\\,?\\s)','')"
   ]
  },
  {
   "cell_type": "code",
   "execution_count": 15,
   "metadata": {
    "ExecuteTime": {
     "end_time": "2020-12-09T10:41:14.987147Z",
     "start_time": "2020-12-09T10:41:14.978147Z"
    }
   },
   "outputs": [],
   "source": [
    "mob_cl.columns=mob_cl.columns.str.replace(r'\\(.+\\)','').str.strip().str.title()"
   ]
  },
  {
   "cell_type": "code",
   "execution_count": 16,
   "metadata": {
    "ExecuteTime": {
     "end_time": "2020-12-09T10:41:15.022147Z",
     "start_time": "2020-12-09T10:41:14.991152Z"
    }
   },
   "outputs": [
    {
     "data": {
      "text/html": [
       "<div>\n",
       "<style scoped>\n",
       "    .dataframe tbody tr th:only-of-type {\n",
       "        vertical-align: middle;\n",
       "    }\n",
       "\n",
       "    .dataframe tbody tr th {\n",
       "        vertical-align: top;\n",
       "    }\n",
       "\n",
       "    .dataframe thead th {\n",
       "        text-align: right;\n",
       "    }\n",
       "</style>\n",
       "<table border=\"1\" class=\"dataframe\">\n",
       "  <thead>\n",
       "    <tr style=\"text-align: right;\">\n",
       "      <th></th>\n",
       "      <th>Year</th>\n",
       "      <th>Country</th>\n",
       "      <th>Iso</th>\n",
       "      <th>Region</th>\n",
       "      <th></th>\n",
       "      <th>Male</th>\n",
       "      <th>In Labor Force</th>\n",
       "      <th>Out Of Labor Force</th>\n",
       "      <th>Female</th>\n",
       "      <th>Young Adults</th>\n",
       "      <th>Older Adults</th>\n",
       "      <th>Primary Education Or Less</th>\n",
       "      <th>Secondary Education Or Less</th>\n",
       "      <th>Income, Poorest 40%</th>\n",
       "      <th>Income, Richest 60%</th>\n",
       "      <th>Rural</th>\n",
       "    </tr>\n",
       "  </thead>\n",
       "  <tbody>\n",
       "    <tr>\n",
       "      <th>1</th>\n",
       "      <td>2014</td>\n",
       "      <td>Afghanistan</td>\n",
       "      <td>AFG</td>\n",
       "      <td>South Asia</td>\n",
       "      <td>0.30</td>\n",
       "      <td>0.40</td>\n",
       "      <td>0.57</td>\n",
       "      <td>0.00</td>\n",
       "      <td>0.21</td>\n",
       "      <td>0.26</td>\n",
       "      <td>0.33</td>\n",
       "      <td>0.29</td>\n",
       "      <td>0.35</td>\n",
       "      <td>0.00</td>\n",
       "      <td>0.51</td>\n",
       "      <td>0.24</td>\n",
       "    </tr>\n",
       "    <tr>\n",
       "      <th>2</th>\n",
       "      <td>2017</td>\n",
       "      <td>Afghanistan</td>\n",
       "      <td>AFG</td>\n",
       "      <td>South Asia</td>\n",
       "      <td>0.91</td>\n",
       "      <td>0.95</td>\n",
       "      <td>1.72</td>\n",
       "      <td>0.05</td>\n",
       "      <td>0.88</td>\n",
       "      <td>0.00</td>\n",
       "      <td>1.47</td>\n",
       "      <td>0.40</td>\n",
       "      <td>2.26</td>\n",
       "      <td>0.36</td>\n",
       "      <td>1.28</td>\n",
       "      <td>0.85</td>\n",
       "    </tr>\n",
       "    <tr>\n",
       "      <th>7</th>\n",
       "      <td>2017</td>\n",
       "      <td>Albania</td>\n",
       "      <td>ALB</td>\n",
       "      <td>Europe &amp; Central Asia (excluding high income)</td>\n",
       "      <td>2.38</td>\n",
       "      <td>2.38</td>\n",
       "      <td>3.07</td>\n",
       "      <td>1.69</td>\n",
       "      <td>2.38</td>\n",
       "      <td>5.98</td>\n",
       "      <td>1.32</td>\n",
       "      <td>0.80</td>\n",
       "      <td>4.37</td>\n",
       "      <td>0.49</td>\n",
       "      <td>3.63</td>\n",
       "      <td>1.85</td>\n",
       "    </tr>\n",
       "    <tr>\n",
       "      <th>12</th>\n",
       "      <td>2014</td>\n",
       "      <td>United Arab Emirates</td>\n",
       "      <td>ARE</td>\n",
       "      <td>High income</td>\n",
       "      <td>11.49</td>\n",
       "      <td>12.20</td>\n",
       "      <td>12.62</td>\n",
       "      <td>5.91</td>\n",
       "      <td>9.67</td>\n",
       "      <td>9.63</td>\n",
       "      <td>12.00</td>\n",
       "      <td>7.10</td>\n",
       "      <td>11.73</td>\n",
       "      <td>7.02</td>\n",
       "      <td>14.65</td>\n",
       "      <td>16.40</td>\n",
       "    </tr>\n",
       "    <tr>\n",
       "      <th>13</th>\n",
       "      <td>2017</td>\n",
       "      <td>United Arab Emirates</td>\n",
       "      <td>ARE</td>\n",
       "      <td>High income</td>\n",
       "      <td>21.33</td>\n",
       "      <td>22.52</td>\n",
       "      <td>22.96</td>\n",
       "      <td>9.46</td>\n",
       "      <td>18.19</td>\n",
       "      <td>10.12</td>\n",
       "      <td>22.34</td>\n",
       "      <td>9.29</td>\n",
       "      <td>21.86</td>\n",
       "      <td>15.59</td>\n",
       "      <td>25.15</td>\n",
       "      <td>13.67</td>\n",
       "    </tr>\n",
       "  </tbody>\n",
       "</table>\n",
       "</div>"
      ],
      "text/plain": [
       "    Year               Country  Iso  \\\n",
       "1   2014           Afghanistan  AFG   \n",
       "2   2017           Afghanistan  AFG   \n",
       "7   2017               Albania  ALB   \n",
       "12  2014  United Arab Emirates  ARE   \n",
       "13  2017  United Arab Emirates  ARE   \n",
       "\n",
       "                                           Region        Male  In Labor Force  \\\n",
       "1                                      South Asia  0.30  0.40            0.57   \n",
       "2                                      South Asia  0.91  0.95            1.72   \n",
       "7   Europe & Central Asia (excluding high income)  2.38  2.38            3.07   \n",
       "12                                    High income 11.49 12.20           12.62   \n",
       "13                                    High income 21.33 22.52           22.96   \n",
       "\n",
       "    Out Of Labor Force  Female  Young Adults  Older Adults  \\\n",
       "1                 0.00    0.21          0.26          0.33   \n",
       "2                 0.05    0.88          0.00          1.47   \n",
       "7                 1.69    2.38          5.98          1.32   \n",
       "12                5.91    9.67          9.63         12.00   \n",
       "13                9.46   18.19         10.12         22.34   \n",
       "\n",
       "    Primary Education Or Less  Secondary Education Or Less  \\\n",
       "1                        0.29                         0.35   \n",
       "2                        0.40                         2.26   \n",
       "7                        0.80                         4.37   \n",
       "12                       7.10                        11.73   \n",
       "13                       9.29                        21.86   \n",
       "\n",
       "    Income, Poorest 40%  Income, Richest 60%  Rural  \n",
       "1                  0.00                 0.51   0.24  \n",
       "2                  0.36                 1.28   0.85  \n",
       "7                  0.49                 3.63   1.85  \n",
       "12                 7.02                14.65  16.40  \n",
       "13                15.59                25.15  13.67  "
      ]
     },
     "execution_count": 16,
     "metadata": {},
     "output_type": "execute_result"
    }
   ],
   "source": [
    "mob_cl.head()"
   ]
  },
  {
   "cell_type": "code",
   "execution_count": 17,
   "metadata": {
    "ExecuteTime": {
     "end_time": "2020-12-09T10:41:15.073146Z",
     "start_time": "2020-12-09T10:41:15.028149Z"
    }
   },
   "outputs": [
    {
     "data": {
      "text/html": [
       "<div>\n",
       "<style scoped>\n",
       "    .dataframe tbody tr th:only-of-type {\n",
       "        vertical-align: middle;\n",
       "    }\n",
       "\n",
       "    .dataframe tbody tr th {\n",
       "        vertical-align: top;\n",
       "    }\n",
       "\n",
       "    .dataframe thead th {\n",
       "        text-align: right;\n",
       "    }\n",
       "</style>\n",
       "<table border=\"1\" class=\"dataframe\">\n",
       "  <thead>\n",
       "    <tr style=\"text-align: right;\">\n",
       "      <th></th>\n",
       "      <th>Year</th>\n",
       "      <th>Country</th>\n",
       "      <th>Iso</th>\n",
       "      <th>Region</th>\n",
       "      <th>General</th>\n",
       "      <th>Male</th>\n",
       "      <th>In Labor Force</th>\n",
       "      <th>Out Of Labor Force</th>\n",
       "      <th>Female</th>\n",
       "      <th>Young Adults</th>\n",
       "      <th>Older Adults</th>\n",
       "      <th>Primary Education Or Less</th>\n",
       "      <th>Secondary Education Or Less</th>\n",
       "      <th>Income, Poorest 40%</th>\n",
       "      <th>Income, Richest 60%</th>\n",
       "      <th>Rural</th>\n",
       "    </tr>\n",
       "  </thead>\n",
       "  <tbody>\n",
       "    <tr>\n",
       "      <th>1</th>\n",
       "      <td>2014</td>\n",
       "      <td>Afghanistan</td>\n",
       "      <td>AFG</td>\n",
       "      <td>South Asia</td>\n",
       "      <td>0.30</td>\n",
       "      <td>0.40</td>\n",
       "      <td>0.57</td>\n",
       "      <td>0.00</td>\n",
       "      <td>0.21</td>\n",
       "      <td>0.26</td>\n",
       "      <td>0.33</td>\n",
       "      <td>0.29</td>\n",
       "      <td>0.35</td>\n",
       "      <td>0.00</td>\n",
       "      <td>0.51</td>\n",
       "      <td>0.24</td>\n",
       "    </tr>\n",
       "    <tr>\n",
       "      <th>2</th>\n",
       "      <td>2017</td>\n",
       "      <td>Afghanistan</td>\n",
       "      <td>AFG</td>\n",
       "      <td>South Asia</td>\n",
       "      <td>0.91</td>\n",
       "      <td>0.95</td>\n",
       "      <td>1.72</td>\n",
       "      <td>0.05</td>\n",
       "      <td>0.88</td>\n",
       "      <td>0.00</td>\n",
       "      <td>1.47</td>\n",
       "      <td>0.40</td>\n",
       "      <td>2.26</td>\n",
       "      <td>0.36</td>\n",
       "      <td>1.28</td>\n",
       "      <td>0.85</td>\n",
       "    </tr>\n",
       "    <tr>\n",
       "      <th>7</th>\n",
       "      <td>2017</td>\n",
       "      <td>Albania</td>\n",
       "      <td>ALB</td>\n",
       "      <td>Europe &amp; Central Asia (excluding high income)</td>\n",
       "      <td>2.38</td>\n",
       "      <td>2.38</td>\n",
       "      <td>3.07</td>\n",
       "      <td>1.69</td>\n",
       "      <td>2.38</td>\n",
       "      <td>5.98</td>\n",
       "      <td>1.32</td>\n",
       "      <td>0.80</td>\n",
       "      <td>4.37</td>\n",
       "      <td>0.49</td>\n",
       "      <td>3.63</td>\n",
       "      <td>1.85</td>\n",
       "    </tr>\n",
       "    <tr>\n",
       "      <th>12</th>\n",
       "      <td>2014</td>\n",
       "      <td>United Arab Emirates</td>\n",
       "      <td>ARE</td>\n",
       "      <td>High income</td>\n",
       "      <td>11.49</td>\n",
       "      <td>12.20</td>\n",
       "      <td>12.62</td>\n",
       "      <td>5.91</td>\n",
       "      <td>9.67</td>\n",
       "      <td>9.63</td>\n",
       "      <td>12.00</td>\n",
       "      <td>7.10</td>\n",
       "      <td>11.73</td>\n",
       "      <td>7.02</td>\n",
       "      <td>14.65</td>\n",
       "      <td>16.40</td>\n",
       "    </tr>\n",
       "    <tr>\n",
       "      <th>13</th>\n",
       "      <td>2017</td>\n",
       "      <td>United Arab Emirates</td>\n",
       "      <td>ARE</td>\n",
       "      <td>High income</td>\n",
       "      <td>21.33</td>\n",
       "      <td>22.52</td>\n",
       "      <td>22.96</td>\n",
       "      <td>9.46</td>\n",
       "      <td>18.19</td>\n",
       "      <td>10.12</td>\n",
       "      <td>22.34</td>\n",
       "      <td>9.29</td>\n",
       "      <td>21.86</td>\n",
       "      <td>15.59</td>\n",
       "      <td>25.15</td>\n",
       "      <td>13.67</td>\n",
       "    </tr>\n",
       "    <tr>\n",
       "      <th>...</th>\n",
       "      <td>...</td>\n",
       "      <td>...</td>\n",
       "      <td>...</td>\n",
       "      <td>...</td>\n",
       "      <td>...</td>\n",
       "      <td>...</td>\n",
       "      <td>...</td>\n",
       "      <td>...</td>\n",
       "      <td>...</td>\n",
       "      <td>...</td>\n",
       "      <td>...</td>\n",
       "      <td>...</td>\n",
       "      <td>...</td>\n",
       "      <td>...</td>\n",
       "      <td>...</td>\n",
       "      <td>...</td>\n",
       "    </tr>\n",
       "    <tr>\n",
       "      <th>487</th>\n",
       "      <td>2017</td>\n",
       "      <td>South Africa</td>\n",
       "      <td>ZAF</td>\n",
       "      <td>Sub-Saharan Africa (excluding high income)</td>\n",
       "      <td>19.02</td>\n",
       "      <td>19.42</td>\n",
       "      <td>24.86</td>\n",
       "      <td>8.74</td>\n",
       "      <td>18.64</td>\n",
       "      <td>16.92</td>\n",
       "      <td>19.92</td>\n",
       "      <td>12.17</td>\n",
       "      <td>21.74</td>\n",
       "      <td>12.06</td>\n",
       "      <td>23.62</td>\n",
       "      <td>19.14</td>\n",
       "    </tr>\n",
       "    <tr>\n",
       "      <th>489</th>\n",
       "      <td>2014</td>\n",
       "      <td>Zambia</td>\n",
       "      <td>ZMB</td>\n",
       "      <td>Sub-Saharan Africa (excluding high income)</td>\n",
       "      <td>12.11</td>\n",
       "      <td>14.85</td>\n",
       "      <td>13.77</td>\n",
       "      <td>8.44</td>\n",
       "      <td>9.48</td>\n",
       "      <td>13.24</td>\n",
       "      <td>11.38</td>\n",
       "      <td>3.94</td>\n",
       "      <td>21.71</td>\n",
       "      <td>5.48</td>\n",
       "      <td>16.53</td>\n",
       "      <td>11.31</td>\n",
       "    </tr>\n",
       "    <tr>\n",
       "      <th>490</th>\n",
       "      <td>2017</td>\n",
       "      <td>Zambia</td>\n",
       "      <td>ZMB</td>\n",
       "      <td>Sub-Saharan Africa (excluding high income)</td>\n",
       "      <td>27.84</td>\n",
       "      <td>29.95</td>\n",
       "      <td>32.37</td>\n",
       "      <td>19.41</td>\n",
       "      <td>25.82</td>\n",
       "      <td>28.90</td>\n",
       "      <td>27.06</td>\n",
       "      <td>14.52</td>\n",
       "      <td>40.52</td>\n",
       "      <td>18.51</td>\n",
       "      <td>34.06</td>\n",
       "      <td>25.51</td>\n",
       "    </tr>\n",
       "    <tr>\n",
       "      <th>492</th>\n",
       "      <td>2014</td>\n",
       "      <td>Zimbabwe</td>\n",
       "      <td>ZWE</td>\n",
       "      <td>Sub-Saharan Africa (excluding high income)</td>\n",
       "      <td>21.60</td>\n",
       "      <td>24.21</td>\n",
       "      <td>25.19</td>\n",
       "      <td>16.84</td>\n",
       "      <td>19.10</td>\n",
       "      <td>20.01</td>\n",
       "      <td>22.51</td>\n",
       "      <td>12.56</td>\n",
       "      <td>27.38</td>\n",
       "      <td>9.97</td>\n",
       "      <td>29.33</td>\n",
       "      <td>19.09</td>\n",
       "    </tr>\n",
       "    <tr>\n",
       "      <th>493</th>\n",
       "      <td>2017</td>\n",
       "      <td>Zimbabwe</td>\n",
       "      <td>ZWE</td>\n",
       "      <td>Sub-Saharan Africa (excluding high income)</td>\n",
       "      <td>48.58</td>\n",
       "      <td>51.17</td>\n",
       "      <td>52.36</td>\n",
       "      <td>40.17</td>\n",
       "      <td>46.20</td>\n",
       "      <td>43.01</td>\n",
       "      <td>51.45</td>\n",
       "      <td>31.91</td>\n",
       "      <td>58.10</td>\n",
       "      <td>40.23</td>\n",
       "      <td>54.14</td>\n",
       "      <td>42.69</td>\n",
       "    </tr>\n",
       "  </tbody>\n",
       "</table>\n",
       "<p>172 rows × 16 columns</p>\n",
       "</div>"
      ],
      "text/plain": [
       "     Year               Country  Iso  \\\n",
       "1    2014           Afghanistan  AFG   \n",
       "2    2017           Afghanistan  AFG   \n",
       "7    2017               Albania  ALB   \n",
       "12   2014  United Arab Emirates  ARE   \n",
       "13   2017  United Arab Emirates  ARE   \n",
       "..    ...                   ...  ...   \n",
       "487  2017          South Africa  ZAF   \n",
       "489  2014                Zambia  ZMB   \n",
       "490  2017                Zambia  ZMB   \n",
       "492  2014              Zimbabwe  ZWE   \n",
       "493  2017              Zimbabwe  ZWE   \n",
       "\n",
       "                                            Region  General  Male  \\\n",
       "1                                       South Asia     0.30  0.40   \n",
       "2                                       South Asia     0.91  0.95   \n",
       "7    Europe & Central Asia (excluding high income)     2.38  2.38   \n",
       "12                                     High income    11.49 12.20   \n",
       "13                                     High income    21.33 22.52   \n",
       "..                                             ...      ...   ...   \n",
       "487     Sub-Saharan Africa (excluding high income)    19.02 19.42   \n",
       "489     Sub-Saharan Africa (excluding high income)    12.11 14.85   \n",
       "490     Sub-Saharan Africa (excluding high income)    27.84 29.95   \n",
       "492     Sub-Saharan Africa (excluding high income)    21.60 24.21   \n",
       "493     Sub-Saharan Africa (excluding high income)    48.58 51.17   \n",
       "\n",
       "     In Labor Force  Out Of Labor Force  Female  Young Adults  Older Adults  \\\n",
       "1              0.57                0.00    0.21          0.26          0.33   \n",
       "2              1.72                0.05    0.88          0.00          1.47   \n",
       "7              3.07                1.69    2.38          5.98          1.32   \n",
       "12            12.62                5.91    9.67          9.63         12.00   \n",
       "13            22.96                9.46   18.19         10.12         22.34   \n",
       "..              ...                 ...     ...           ...           ...   \n",
       "487           24.86                8.74   18.64         16.92         19.92   \n",
       "489           13.77                8.44    9.48         13.24         11.38   \n",
       "490           32.37               19.41   25.82         28.90         27.06   \n",
       "492           25.19               16.84   19.10         20.01         22.51   \n",
       "493           52.36               40.17   46.20         43.01         51.45   \n",
       "\n",
       "     Primary Education Or Less  Secondary Education Or Less  \\\n",
       "1                         0.29                         0.35   \n",
       "2                         0.40                         2.26   \n",
       "7                         0.80                         4.37   \n",
       "12                        7.10                        11.73   \n",
       "13                        9.29                        21.86   \n",
       "..                         ...                          ...   \n",
       "487                      12.17                        21.74   \n",
       "489                       3.94                        21.71   \n",
       "490                      14.52                        40.52   \n",
       "492                      12.56                        27.38   \n",
       "493                      31.91                        58.10   \n",
       "\n",
       "     Income, Poorest 40%  Income, Richest 60%  Rural  \n",
       "1                   0.00                 0.51   0.24  \n",
       "2                   0.36                 1.28   0.85  \n",
       "7                   0.49                 3.63   1.85  \n",
       "12                  7.02                14.65  16.40  \n",
       "13                 15.59                25.15  13.67  \n",
       "..                   ...                  ...    ...  \n",
       "487                12.06                23.62  19.14  \n",
       "489                 5.48                16.53  11.31  \n",
       "490                18.51                34.06  25.51  \n",
       "492                 9.97                29.33  19.09  \n",
       "493                40.23                54.14  42.69  \n",
       "\n",
       "[172 rows x 16 columns]"
      ]
     },
     "execution_count": 17,
     "metadata": {},
     "output_type": "execute_result"
    }
   ],
   "source": [
    "# one column with empty space, which is General value represent for percentage of adults having Mobile Money Account:\n",
    "mob_cl.rename({'':'General'}, axis='columns',inplace=True)\n",
    "mob_cl"
   ]
  },
  {
   "cell_type": "markdown",
   "metadata": {},
   "source": [
    "<div class=\"alert alert-block alert-info\">\n",
    "<b>Now we have clean final:</b> data frame name 'mob_cl' with information as shown above.\n",
    "</div>"
   ]
  },
  {
   "cell_type": "code",
   "execution_count": null,
   "metadata": {},
   "outputs": [],
   "source": []
  },
  {
   "cell_type": "markdown",
   "metadata": {},
   "source": [
    "<div class=\"alert alert-block alert-danger\"> The original data shows much more countries and 3 years, but the actual clean data to be used contains 96 countries in 2 years: 2014,2017\n",
    "</div>"
   ]
  },
  {
   "cell_type": "code",
   "execution_count": 18,
   "metadata": {
    "ExecuteTime": {
     "end_time": "2020-12-09T10:41:15.087148Z",
     "start_time": "2020-12-09T10:41:15.077148Z"
    }
   },
   "outputs": [
    {
     "data": {
      "text/plain": [
       "array([2014, 2017], dtype=int64)"
      ]
     },
     "execution_count": 18,
     "metadata": {},
     "output_type": "execute_result"
    }
   ],
   "source": [
    "mob_cl.Year.unique()"
   ]
  },
  {
   "cell_type": "code",
   "execution_count": 19,
   "metadata": {
    "ExecuteTime": {
     "end_time": "2020-12-09T10:41:15.105148Z",
     "start_time": "2020-12-09T10:41:15.094151Z"
    }
   },
   "outputs": [
    {
     "data": {
      "text/plain": [
       "(96,)"
      ]
     },
     "execution_count": 19,
     "metadata": {},
     "output_type": "execute_result"
    }
   ],
   "source": [
    "mob_cl.Country.unique().shape"
   ]
  },
  {
   "cell_type": "markdown",
   "metadata": {},
   "source": [
    "## Tidying Data and analysis"
   ]
  },
  {
   "cell_type": "markdown",
   "metadata": {},
   "source": [
    "We can see that both columns labels and Year, and Country are not meaningful as value to calculate, but they are meaningful as labels.\n"
   ]
  },
  {
   "cell_type": "code",
   "execution_count": 20,
   "metadata": {
    "ExecuteTime": {
     "end_time": "2020-12-09T10:41:15.118148Z",
     "start_time": "2020-12-09T10:41:15.110151Z"
    }
   },
   "outputs": [],
   "source": [
    "mob_cl0=mob_cl.drop(['Iso','Region'],axis=1)"
   ]
  },
  {
   "cell_type": "code",
   "execution_count": 21,
   "metadata": {
    "ExecuteTime": {
     "end_time": "2020-12-09T10:41:15.139157Z",
     "start_time": "2020-12-09T10:41:15.123152Z"
    }
   },
   "outputs": [],
   "source": [
    "mob_cl1=pd.melt(mob_cl0,id_vars=['Year','Country'],var_name='group')"
   ]
  },
  {
   "cell_type": "code",
   "execution_count": 22,
   "metadata": {
    "ExecuteTime": {
     "end_time": "2020-12-09T10:41:15.163149Z",
     "start_time": "2020-12-09T10:41:15.143152Z"
    }
   },
   "outputs": [
    {
     "data": {
      "text/html": [
       "<div>\n",
       "<style scoped>\n",
       "    .dataframe tbody tr th:only-of-type {\n",
       "        vertical-align: middle;\n",
       "    }\n",
       "\n",
       "    .dataframe tbody tr th {\n",
       "        vertical-align: top;\n",
       "    }\n",
       "\n",
       "    .dataframe thead th {\n",
       "        text-align: right;\n",
       "    }\n",
       "</style>\n",
       "<table border=\"1\" class=\"dataframe\">\n",
       "  <thead>\n",
       "    <tr style=\"text-align: right;\">\n",
       "      <th></th>\n",
       "      <th>Year</th>\n",
       "      <th>Country</th>\n",
       "      <th>group</th>\n",
       "      <th>value</th>\n",
       "    </tr>\n",
       "  </thead>\n",
       "  <tbody>\n",
       "    <tr>\n",
       "      <th>0</th>\n",
       "      <td>2014</td>\n",
       "      <td>Afghanistan</td>\n",
       "      <td>General</td>\n",
       "      <td>0.30</td>\n",
       "    </tr>\n",
       "    <tr>\n",
       "      <th>1</th>\n",
       "      <td>2017</td>\n",
       "      <td>Afghanistan</td>\n",
       "      <td>General</td>\n",
       "      <td>0.91</td>\n",
       "    </tr>\n",
       "    <tr>\n",
       "      <th>2</th>\n",
       "      <td>2017</td>\n",
       "      <td>Albania</td>\n",
       "      <td>General</td>\n",
       "      <td>2.38</td>\n",
       "    </tr>\n",
       "    <tr>\n",
       "      <th>3</th>\n",
       "      <td>2014</td>\n",
       "      <td>United Arab Emirates</td>\n",
       "      <td>General</td>\n",
       "      <td>11.49</td>\n",
       "    </tr>\n",
       "    <tr>\n",
       "      <th>4</th>\n",
       "      <td>2017</td>\n",
       "      <td>United Arab Emirates</td>\n",
       "      <td>General</td>\n",
       "      <td>21.33</td>\n",
       "    </tr>\n",
       "  </tbody>\n",
       "</table>\n",
       "</div>"
      ],
      "text/plain": [
       "   Year               Country    group  value\n",
       "0  2014           Afghanistan  General   0.30\n",
       "1  2017           Afghanistan  General   0.91\n",
       "2  2017               Albania  General   2.38\n",
       "3  2014  United Arab Emirates  General  11.49\n",
       "4  2017  United Arab Emirates  General  21.33"
      ]
     },
     "execution_count": 22,
     "metadata": {},
     "output_type": "execute_result"
    }
   ],
   "source": [
    "mob_cl1.head()"
   ]
  },
  {
   "cell_type": "markdown",
   "metadata": {},
   "source": [
    "<div style='background-color:orange; color:white; padding:20px'> ANALYSIS\n",
    "</div>"
   ]
  },
  {
   "cell_type": "markdown",
   "metadata": {},
   "source": [
    "## Analysis on percentage people used Mobile Money Account globally, and by groups of users "
   ]
  },
  {
   "cell_type": "code",
   "execution_count": 23,
   "metadata": {
    "ExecuteTime": {
     "end_time": "2020-12-09T10:41:15.330154Z",
     "start_time": "2020-12-09T10:41:15.180173Z"
    }
   },
   "outputs": [
    {
     "data": {
      "application/vnd.plotly.v1+json": {
       "config": {
        "linkText": "Export to plot.ly",
        "plotlyServerURL": "https://plot.ly",
        "showLink": true
       },
       "data": [
        {
         "line": {
          "color": "rgba(255, 153, 51, 1.0)",
          "dash": "solid",
          "shape": "linear",
          "width": 1.3
         },
         "mode": "lines",
         "name": "mean",
         "text": "",
         "type": "scatter",
         "x": [
          "Female",
          "General",
          "In Labor Force",
          "Income, Poorest 40%",
          "Income, Richest 60%",
          "Male",
          "Older Adults",
          "Out Of Labor Force",
          "Primary Education Or Less",
          "Rural",
          "Secondary Education Or Less",
          "Young Adults"
         ],
         "y": [
          8.416497212923321,
          9.962664303595883,
          11.857069506588106,
          6.750027613773899,
          12.098755451243473,
          11.54984476946316,
          9.972997221653756,
          6.469182911441326,
          6.703456515784045,
          8.922568554517902,
          14.401621539700711,
          10.124822015208084
         ]
        },
        {
         "line": {
          "color": "rgba(55, 128, 191, 1.0)",
          "dash": "solid",
          "shape": "linear",
          "width": 1.3
         },
         "mode": "lines",
         "name": "max",
         "text": "",
         "type": "scatter",
         "x": [
          "Female",
          "General",
          "In Labor Force",
          "Income, Poorest 40%",
          "Income, Richest 60%",
          "Male",
          "Older Adults",
          "Out Of Labor Force",
          "Primary Education Or Less",
          "Rural",
          "Secondary Education Or Less",
          "Young Adults"
         ],
         "y": [
          69.38014030456543,
          72.93168306350708,
          77.83570885658264,
          59.36466455459595,
          81.93062543869019,
          76.89898610115051,
          74.29749965667725,
          51.76575779914856,
          57.38699436187744,
          72.58549332618713,
          83.89471173286438,
          69.95534896850586
         ]
        },
        {
         "line": {
          "color": "rgba(50, 171, 96, 1.0)",
          "dash": "solid",
          "shape": "linear",
          "width": 1.3
         },
         "mode": "lines",
         "name": "min",
         "text": "",
         "type": "scatter",
         "x": [
          "Female",
          "General",
          "In Labor Force",
          "Income, Poorest 40%",
          "Income, Richest 60%",
          "Male",
          "Older Adults",
          "Out Of Labor Force",
          "Primary Education Or Less",
          "Rural",
          "Secondary Education Or Less",
          "Young Adults"
         ],
         "y": [
          0,
          0,
          0,
          0,
          0,
          0,
          0,
          0,
          0,
          0,
          0,
          0
         ]
        }
       ],
       "layout": {
        "legend": {
         "bgcolor": "#F5F6F9",
         "font": {
          "color": "#4D5663"
         }
        },
        "paper_bgcolor": "#F5F6F9",
        "plot_bgcolor": "#F5F6F9",
        "shapes": [
         {
          "line": {
           "color": "#db4052",
           "dash": "dash",
           "width": 1
          },
          "type": "line",
          "x0": "General",
          "x1": "General",
          "xref": "x",
          "y0": 0,
          "y1": 1,
          "yref": "paper"
         }
        ],
        "title": "Global User Group",
        "titlefont": {
         "color": "#4D5663"
        },
        "xaxis": {
         "gridcolor": "#E1E5ED",
         "showgrid": true,
         "tickfont": {
          "color": "#4D5663"
         },
         "title": "",
         "titlefont": {
          "color": "#4D5663"
         },
         "zerolinecolor": "#E1E5ED"
        },
        "yaxis": {
         "gridcolor": "#E1E5ED",
         "showgrid": true,
         "tickfont": {
          "color": "#4D5663"
         },
         "title": "",
         "titlefont": {
          "color": "#4D5663"
         },
         "zerolinecolor": "#E1E5ED"
        }
       }
      },
      "text/html": [
       "<div>                            <div id=\"ce5934bc-dec6-4bea-8127-8e5e51fb193a\" class=\"plotly-graph-div\" style=\"height:525px; width:100%;\"></div>            <script type=\"text/javascript\">                require([\"plotly\"], function(Plotly) {                    window.PLOTLYENV=window.PLOTLYENV || {};\n",
       "                    window.PLOTLYENV.BASE_URL='https://plot.ly';                                    if (document.getElementById(\"ce5934bc-dec6-4bea-8127-8e5e51fb193a\")) {                    Plotly.newPlot(                        \"ce5934bc-dec6-4bea-8127-8e5e51fb193a\",                        [{\"line\": {\"color\": \"rgba(255, 153, 51, 1.0)\", \"dash\": \"solid\", \"shape\": \"linear\", \"width\": 1.3}, \"mode\": \"lines\", \"name\": \"mean\", \"text\": \"\", \"type\": \"scatter\", \"x\": [\"Female\", \"General\", \"In Labor Force\", \"Income, Poorest 40%\", \"Income, Richest 60%\", \"Male\", \"Older Adults\", \"Out Of Labor Force\", \"Primary Education Or Less\", \"Rural\", \"Secondary Education Or Less\", \"Young Adults\"], \"y\": [8.416497212923321, 9.962664303595883, 11.857069506588106, 6.750027613773899, 12.098755451243473, 11.54984476946316, 9.972997221653756, 6.469182911441326, 6.703456515784045, 8.922568554517902, 14.401621539700711, 10.124822015208084]}, {\"line\": {\"color\": \"rgba(55, 128, 191, 1.0)\", \"dash\": \"solid\", \"shape\": \"linear\", \"width\": 1.3}, \"mode\": \"lines\", \"name\": \"max\", \"text\": \"\", \"type\": \"scatter\", \"x\": [\"Female\", \"General\", \"In Labor Force\", \"Income, Poorest 40%\", \"Income, Richest 60%\", \"Male\", \"Older Adults\", \"Out Of Labor Force\", \"Primary Education Or Less\", \"Rural\", \"Secondary Education Or Less\", \"Young Adults\"], \"y\": [69.38014030456543, 72.93168306350708, 77.83570885658264, 59.36466455459595, 81.93062543869019, 76.89898610115051, 74.29749965667725, 51.76575779914856, 57.38699436187744, 72.58549332618713, 83.89471173286438, 69.95534896850586]}, {\"line\": {\"color\": \"rgba(50, 171, 96, 1.0)\", \"dash\": \"solid\", \"shape\": \"linear\", \"width\": 1.3}, \"mode\": \"lines\", \"name\": \"min\", \"text\": \"\", \"type\": \"scatter\", \"x\": [\"Female\", \"General\", \"In Labor Force\", \"Income, Poorest 40%\", \"Income, Richest 60%\", \"Male\", \"Older Adults\", \"Out Of Labor Force\", \"Primary Education Or Less\", \"Rural\", \"Secondary Education Or Less\", \"Young Adults\"], \"y\": [0.0, 0.0, 0.0, 0.0, 0.0, 0.0, 0.0, 0.0, 0.0, 0.0, 0.0, 0.0]}],                        {\"legend\": {\"bgcolor\": \"#F5F6F9\", \"font\": {\"color\": \"#4D5663\"}}, \"paper_bgcolor\": \"#F5F6F9\", \"plot_bgcolor\": \"#F5F6F9\", \"shapes\": [{\"line\": {\"color\": \"#db4052\", \"dash\": \"dash\", \"width\": 1}, \"type\": \"line\", \"x0\": \"General\", \"x1\": \"General\", \"xref\": \"x\", \"y0\": 0, \"y1\": 1, \"yref\": \"paper\"}], \"title\": \"Global User Group\", \"titlefont\": {\"color\": \"#4D5663\"}, \"xaxis\": {\"gridcolor\": \"#E1E5ED\", \"showgrid\": true, \"tickfont\": {\"color\": \"#4D5663\"}, \"title\": \"\", \"titlefont\": {\"color\": \"#4D5663\"}, \"zerolinecolor\": \"#E1E5ED\"}, \"yaxis\": {\"gridcolor\": \"#E1E5ED\", \"showgrid\": true, \"tickfont\": {\"color\": \"#4D5663\"}, \"title\": \"\", \"titlefont\": {\"color\": \"#4D5663\"}, \"zerolinecolor\": \"#E1E5ED\"}},                        {\"showLink\": true, \"linkText\": \"Export to plot.ly\", \"plotlyServerURL\": \"https://plot.ly\", \"responsive\": true}                    ).then(function(){\n",
       "                            \n",
       "var gd = document.getElementById('ce5934bc-dec6-4bea-8127-8e5e51fb193a');\n",
       "var x = new MutationObserver(function (mutations, observer) {{\n",
       "        var display = window.getComputedStyle(gd).display;\n",
       "        if (!display || display === 'none') {{\n",
       "            console.log([gd, 'removed!']);\n",
       "            Plotly.purge(gd);\n",
       "            observer.disconnect();\n",
       "        }}\n",
       "}});\n",
       "\n",
       "// Listen for the removal of the full notebook cells\n",
       "var notebookContainer = gd.closest('#notebook-container');\n",
       "if (notebookContainer) {{\n",
       "    x.observe(notebookContainer, {childList: true});\n",
       "}}\n",
       "\n",
       "// Listen for the clearing of the current output cell\n",
       "var outputEl = gd.closest('.output');\n",
       "if (outputEl) {{\n",
       "    x.observe(outputEl, {childList: true});\n",
       "}}\n",
       "\n",
       "                        })                };                });            </script>        </div>"
      ]
     },
     "metadata": {},
     "output_type": "display_data"
    }
   ],
   "source": [
    "d1=mob_cl1.groupby(['group'])['value'].describe()\n",
    "d1.iplot(kind='line',y=['mean','max','min'], title='Global User Group',\n",
    "         vline=dict(x='General', color='red', dash='dash')\n",
    "        )"
   ]
  },
  {
   "cell_type": "code",
   "execution_count": null,
   "metadata": {},
   "outputs": [],
   "source": []
  },
  {
   "cell_type": "markdown",
   "metadata": {},
   "source": [
    "<div style='background-color:navy; color:white; padding:20px'>\n",
    "Global: \n",
    "    <li> max >72% people use Mobile Money, however there is some country in the world that report of no Moble Money Account.</li>\n",
    "    <li>The mean value 9.96% theorectically represents for the whole world situation which is supprising low at that time (2014,2017).</li>\n",
    "</div>"
   ]
  },
  {
   "cell_type": "markdown",
   "metadata": {},
   "source": [
    "<div style='background-color:navy; color:white; padding:20px'>\n",
    " By groups:\n",
    "    <li>The group <b>secondary education or less</b> has highest percentage of Mobile Money Account basing on mean value 14.40%, and max value 83.89%. </li>\n",
    "    <li>The group out of labor force has lowest percentage of Mobile Money Account.</li>\n",
    " <li>The same pattern can be observed for all groups: Orange line (for mean value) is closer to green line(min values).The below plotbox graph will clarify further this point.\n",
    "    </div>"
   ]
  },
  {
   "cell_type": "code",
   "execution_count": 24,
   "metadata": {
    "ExecuteTime": {
     "end_time": "2020-12-09T10:41:17.252717Z",
     "start_time": "2020-12-09T10:41:15.340149Z"
    },
    "scrolled": false
   },
   "outputs": [
    {
     "data": {
      "application/vnd.plotly.v1+json": {
       "config": {
        "plotlyServerURL": "https://plot.ly"
       },
       "data": [
        {
         "alignmentgroup": "True",
         "hovertemplate": "group=%{x}<br>value=%{y}<extra></extra>",
         "legendgroup": "",
         "marker": {
          "color": "#636efa"
         },
         "name": "",
         "notched": false,
         "offsetgroup": "",
         "orientation": "v",
         "showlegend": false,
         "type": "box",
         "x": [
          "General",
          "General",
          "General",
          "General",
          "General",
          "General",
          "General",
          "General",
          "General",
          "General",
          "General",
          "General",
          "General",
          "General",
          "General",
          "General",
          "General",
          "General",
          "General",
          "General",
          "General",
          "General",
          "General",
          "General",
          "General",
          "General",
          "General",
          "General",
          "General",
          "General",
          "General",
          "General",
          "General",
          "General",
          "General",
          "General",
          "General",
          "General",
          "General",
          "General",
          "General",
          "General",
          "General",
          "General",
          "General",
          "General",
          "General",
          "General",
          "General",
          "General",
          "General",
          "General",
          "General",
          "General",
          "General",
          "General",
          "General",
          "General",
          "General",
          "General",
          "General",
          "General",
          "General",
          "General",
          "General",
          "General",
          "General",
          "General",
          "General",
          "General",
          "General",
          "General",
          "General",
          "General",
          "General",
          "General",
          "General",
          "General",
          "General",
          "General",
          "General",
          "General",
          "General",
          "General",
          "General",
          "General",
          "General",
          "General",
          "General",
          "General",
          "General",
          "General",
          "General",
          "General",
          "General",
          "General",
          "General",
          "General",
          "General",
          "General",
          "General",
          "General",
          "General",
          "General",
          "General",
          "General",
          "General",
          "General",
          "General",
          "General",
          "General",
          "General",
          "General",
          "General",
          "General",
          "General",
          "General",
          "General",
          "General",
          "General",
          "General",
          "General",
          "General",
          "General",
          "General",
          "General",
          "General",
          "General",
          "General",
          "General",
          "General",
          "General",
          "General",
          "General",
          "General",
          "General",
          "General",
          "General",
          "General",
          "General",
          "General",
          "General",
          "General",
          "General",
          "General",
          "General",
          "General",
          "General",
          "General",
          "General",
          "General",
          "General",
          "General",
          "General",
          "General",
          "General",
          "General",
          "General",
          "General",
          "General",
          "General",
          "General",
          "General",
          "General",
          "General",
          "General",
          "General",
          "General",
          "General",
          "General",
          "General",
          "General",
          "Male",
          "Male",
          "Male",
          "Male",
          "Male",
          "Male",
          "Male",
          "Male",
          "Male",
          "Male",
          "Male",
          "Male",
          "Male",
          "Male",
          "Male",
          "Male",
          "Male",
          "Male",
          "Male",
          "Male",
          "Male",
          "Male",
          "Male",
          "Male",
          "Male",
          "Male",
          "Male",
          "Male",
          "Male",
          "Male",
          "Male",
          "Male",
          "Male",
          "Male",
          "Male",
          "Male",
          "Male",
          "Male",
          "Male",
          "Male",
          "Male",
          "Male",
          "Male",
          "Male",
          "Male",
          "Male",
          "Male",
          "Male",
          "Male",
          "Male",
          "Male",
          "Male",
          "Male",
          "Male",
          "Male",
          "Male",
          "Male",
          "Male",
          "Male",
          "Male",
          "Male",
          "Male",
          "Male",
          "Male",
          "Male",
          "Male",
          "Male",
          "Male",
          "Male",
          "Male",
          "Male",
          "Male",
          "Male",
          "Male",
          "Male",
          "Male",
          "Male",
          "Male",
          "Male",
          "Male",
          "Male",
          "Male",
          "Male",
          "Male",
          "Male",
          "Male",
          "Male",
          "Male",
          "Male",
          "Male",
          "Male",
          "Male",
          "Male",
          "Male",
          "Male",
          "Male",
          "Male",
          "Male",
          "Male",
          "Male",
          "Male",
          "Male",
          "Male",
          "Male",
          "Male",
          "Male",
          "Male",
          "Male",
          "Male",
          "Male",
          "Male",
          "Male",
          "Male",
          "Male",
          "Male",
          "Male",
          "Male",
          "Male",
          "Male",
          "Male",
          "Male",
          "Male",
          "Male",
          "Male",
          "Male",
          "Male",
          "Male",
          "Male",
          "Male",
          "Male",
          "Male",
          "Male",
          "Male",
          "Male",
          "Male",
          "Male",
          "Male",
          "Male",
          "Male",
          "Male",
          "Male",
          "Male",
          "Male",
          "Male",
          "Male",
          "Male",
          "Male",
          "Male",
          "Male",
          "Male",
          "Male",
          "Male",
          "Male",
          "Male",
          "Male",
          "Male",
          "Male",
          "Male",
          "Male",
          "Male",
          "Male",
          "Male",
          "Male",
          "Male",
          "Male",
          "Male",
          "Male",
          "Male",
          "Male",
          "Male",
          "Male",
          "Male",
          "In Labor Force",
          "In Labor Force",
          "In Labor Force",
          "In Labor Force",
          "In Labor Force",
          "In Labor Force",
          "In Labor Force",
          "In Labor Force",
          "In Labor Force",
          "In Labor Force",
          "In Labor Force",
          "In Labor Force",
          "In Labor Force",
          "In Labor Force",
          "In Labor Force",
          "In Labor Force",
          "In Labor Force",
          "In Labor Force",
          "In Labor Force",
          "In Labor Force",
          "In Labor Force",
          "In Labor Force",
          "In Labor Force",
          "In Labor Force",
          "In Labor Force",
          "In Labor Force",
          "In Labor Force",
          "In Labor Force",
          "In Labor Force",
          "In Labor Force",
          "In Labor Force",
          "In Labor Force",
          "In Labor Force",
          "In Labor Force",
          "In Labor Force",
          "In Labor Force",
          "In Labor Force",
          "In Labor Force",
          "In Labor Force",
          "In Labor Force",
          "In Labor Force",
          "In Labor Force",
          "In Labor Force",
          "In Labor Force",
          "In Labor Force",
          "In Labor Force",
          "In Labor Force",
          "In Labor Force",
          "In Labor Force",
          "In Labor Force",
          "In Labor Force",
          "In Labor Force",
          "In Labor Force",
          "In Labor Force",
          "In Labor Force",
          "In Labor Force",
          "In Labor Force",
          "In Labor Force",
          "In Labor Force",
          "In Labor Force",
          "In Labor Force",
          "In Labor Force",
          "In Labor Force",
          "In Labor Force",
          "In Labor Force",
          "In Labor Force",
          "In Labor Force",
          "In Labor Force",
          "In Labor Force",
          "In Labor Force",
          "In Labor Force",
          "In Labor Force",
          "In Labor Force",
          "In Labor Force",
          "In Labor Force",
          "In Labor Force",
          "In Labor Force",
          "In Labor Force",
          "In Labor Force",
          "In Labor Force",
          "In Labor Force",
          "In Labor Force",
          "In Labor Force",
          "In Labor Force",
          "In Labor Force",
          "In Labor Force",
          "In Labor Force",
          "In Labor Force",
          "In Labor Force",
          "In Labor Force",
          "In Labor Force",
          "In Labor Force",
          "In Labor Force",
          "In Labor Force",
          "In Labor Force",
          "In Labor Force",
          "In Labor Force",
          "In Labor Force",
          "In Labor Force",
          "In Labor Force",
          "In Labor Force",
          "In Labor Force",
          "In Labor Force",
          "In Labor Force",
          "In Labor Force",
          "In Labor Force",
          "In Labor Force",
          "In Labor Force",
          "In Labor Force",
          "In Labor Force",
          "In Labor Force",
          "In Labor Force",
          "In Labor Force",
          "In Labor Force",
          "In Labor Force",
          "In Labor Force",
          "In Labor Force",
          "In Labor Force",
          "In Labor Force",
          "In Labor Force",
          "In Labor Force",
          "In Labor Force",
          "In Labor Force",
          "In Labor Force",
          "In Labor Force",
          "In Labor Force",
          "In Labor Force",
          "In Labor Force",
          "In Labor Force",
          "In Labor Force",
          "In Labor Force",
          "In Labor Force",
          "In Labor Force",
          "In Labor Force",
          "In Labor Force",
          "In Labor Force",
          "In Labor Force",
          "In Labor Force",
          "In Labor Force",
          "In Labor Force",
          "In Labor Force",
          "In Labor Force",
          "In Labor Force",
          "In Labor Force",
          "In Labor Force",
          "In Labor Force",
          "In Labor Force",
          "In Labor Force",
          "In Labor Force",
          "In Labor Force",
          "In Labor Force",
          "In Labor Force",
          "In Labor Force",
          "In Labor Force",
          "In Labor Force",
          "In Labor Force",
          "In Labor Force",
          "In Labor Force",
          "In Labor Force",
          "In Labor Force",
          "In Labor Force",
          "In Labor Force",
          "In Labor Force",
          "In Labor Force",
          "In Labor Force",
          "In Labor Force",
          "In Labor Force",
          "In Labor Force",
          "In Labor Force",
          "In Labor Force",
          "In Labor Force",
          "In Labor Force",
          "Out Of Labor Force",
          "Out Of Labor Force",
          "Out Of Labor Force",
          "Out Of Labor Force",
          "Out Of Labor Force",
          "Out Of Labor Force",
          "Out Of Labor Force",
          "Out Of Labor Force",
          "Out Of Labor Force",
          "Out Of Labor Force",
          "Out Of Labor Force",
          "Out Of Labor Force",
          "Out Of Labor Force",
          "Out Of Labor Force",
          "Out Of Labor Force",
          "Out Of Labor Force",
          "Out Of Labor Force",
          "Out Of Labor Force",
          "Out Of Labor Force",
          "Out Of Labor Force",
          "Out Of Labor Force",
          "Out Of Labor Force",
          "Out Of Labor Force",
          "Out Of Labor Force",
          "Out Of Labor Force",
          "Out Of Labor Force",
          "Out Of Labor Force",
          "Out Of Labor Force",
          "Out Of Labor Force",
          "Out Of Labor Force",
          "Out Of Labor Force",
          "Out Of Labor Force",
          "Out Of Labor Force",
          "Out Of Labor Force",
          "Out Of Labor Force",
          "Out Of Labor Force",
          "Out Of Labor Force",
          "Out Of Labor Force",
          "Out Of Labor Force",
          "Out Of Labor Force",
          "Out Of Labor Force",
          "Out Of Labor Force",
          "Out Of Labor Force",
          "Out Of Labor Force",
          "Out Of Labor Force",
          "Out Of Labor Force",
          "Out Of Labor Force",
          "Out Of Labor Force",
          "Out Of Labor Force",
          "Out Of Labor Force",
          "Out Of Labor Force",
          "Out Of Labor Force",
          "Out Of Labor Force",
          "Out Of Labor Force",
          "Out Of Labor Force",
          "Out Of Labor Force",
          "Out Of Labor Force",
          "Out Of Labor Force",
          "Out Of Labor Force",
          "Out Of Labor Force",
          "Out Of Labor Force",
          "Out Of Labor Force",
          "Out Of Labor Force",
          "Out Of Labor Force",
          "Out Of Labor Force",
          "Out Of Labor Force",
          "Out Of Labor Force",
          "Out Of Labor Force",
          "Out Of Labor Force",
          "Out Of Labor Force",
          "Out Of Labor Force",
          "Out Of Labor Force",
          "Out Of Labor Force",
          "Out Of Labor Force",
          "Out Of Labor Force",
          "Out Of Labor Force",
          "Out Of Labor Force",
          "Out Of Labor Force",
          "Out Of Labor Force",
          "Out Of Labor Force",
          "Out Of Labor Force",
          "Out Of Labor Force",
          "Out Of Labor Force",
          "Out Of Labor Force",
          "Out Of Labor Force",
          "Out Of Labor Force",
          "Out Of Labor Force",
          "Out Of Labor Force",
          "Out Of Labor Force",
          "Out Of Labor Force",
          "Out Of Labor Force",
          "Out Of Labor Force",
          "Out Of Labor Force",
          "Out Of Labor Force",
          "Out Of Labor Force",
          "Out Of Labor Force",
          "Out Of Labor Force",
          "Out Of Labor Force",
          "Out Of Labor Force",
          "Out Of Labor Force",
          "Out Of Labor Force",
          "Out Of Labor Force",
          "Out Of Labor Force",
          "Out Of Labor Force",
          "Out Of Labor Force",
          "Out Of Labor Force",
          "Out Of Labor Force",
          "Out Of Labor Force",
          "Out Of Labor Force",
          "Out Of Labor Force",
          "Out Of Labor Force",
          "Out Of Labor Force",
          "Out Of Labor Force",
          "Out Of Labor Force",
          "Out Of Labor Force",
          "Out Of Labor Force",
          "Out Of Labor Force",
          "Out Of Labor Force",
          "Out Of Labor Force",
          "Out Of Labor Force",
          "Out Of Labor Force",
          "Out Of Labor Force",
          "Out Of Labor Force",
          "Out Of Labor Force",
          "Out Of Labor Force",
          "Out Of Labor Force",
          "Out Of Labor Force",
          "Out Of Labor Force",
          "Out Of Labor Force",
          "Out Of Labor Force",
          "Out Of Labor Force",
          "Out Of Labor Force",
          "Out Of Labor Force",
          "Out Of Labor Force",
          "Out Of Labor Force",
          "Out Of Labor Force",
          "Out Of Labor Force",
          "Out Of Labor Force",
          "Out Of Labor Force",
          "Out Of Labor Force",
          "Out Of Labor Force",
          "Out Of Labor Force",
          "Out Of Labor Force",
          "Out Of Labor Force",
          "Out Of Labor Force",
          "Out Of Labor Force",
          "Out Of Labor Force",
          "Out Of Labor Force",
          "Out Of Labor Force",
          "Out Of Labor Force",
          "Out Of Labor Force",
          "Out Of Labor Force",
          "Out Of Labor Force",
          "Out Of Labor Force",
          "Out Of Labor Force",
          "Out Of Labor Force",
          "Out Of Labor Force",
          "Out Of Labor Force",
          "Out Of Labor Force",
          "Out Of Labor Force",
          "Out Of Labor Force",
          "Out Of Labor Force",
          "Out Of Labor Force",
          "Out Of Labor Force",
          "Out Of Labor Force",
          "Out Of Labor Force",
          "Out Of Labor Force",
          "Out Of Labor Force",
          "Out Of Labor Force",
          "Out Of Labor Force",
          "Out Of Labor Force",
          "Out Of Labor Force",
          "Female",
          "Female",
          "Female",
          "Female",
          "Female",
          "Female",
          "Female",
          "Female",
          "Female",
          "Female",
          "Female",
          "Female",
          "Female",
          "Female",
          "Female",
          "Female",
          "Female",
          "Female",
          "Female",
          "Female",
          "Female",
          "Female",
          "Female",
          "Female",
          "Female",
          "Female",
          "Female",
          "Female",
          "Female",
          "Female",
          "Female",
          "Female",
          "Female",
          "Female",
          "Female",
          "Female",
          "Female",
          "Female",
          "Female",
          "Female",
          "Female",
          "Female",
          "Female",
          "Female",
          "Female",
          "Female",
          "Female",
          "Female",
          "Female",
          "Female",
          "Female",
          "Female",
          "Female",
          "Female",
          "Female",
          "Female",
          "Female",
          "Female",
          "Female",
          "Female",
          "Female",
          "Female",
          "Female",
          "Female",
          "Female",
          "Female",
          "Female",
          "Female",
          "Female",
          "Female",
          "Female",
          "Female",
          "Female",
          "Female",
          "Female",
          "Female",
          "Female",
          "Female",
          "Female",
          "Female",
          "Female",
          "Female",
          "Female",
          "Female",
          "Female",
          "Female",
          "Female",
          "Female",
          "Female",
          "Female",
          "Female",
          "Female",
          "Female",
          "Female",
          "Female",
          "Female",
          "Female",
          "Female",
          "Female",
          "Female",
          "Female",
          "Female",
          "Female",
          "Female",
          "Female",
          "Female",
          "Female",
          "Female",
          "Female",
          "Female",
          "Female",
          "Female",
          "Female",
          "Female",
          "Female",
          "Female",
          "Female",
          "Female",
          "Female",
          "Female",
          "Female",
          "Female",
          "Female",
          "Female",
          "Female",
          "Female",
          "Female",
          "Female",
          "Female",
          "Female",
          "Female",
          "Female",
          "Female",
          "Female",
          "Female",
          "Female",
          "Female",
          "Female",
          "Female",
          "Female",
          "Female",
          "Female",
          "Female",
          "Female",
          "Female",
          "Female",
          "Female",
          "Female",
          "Female",
          "Female",
          "Female",
          "Female",
          "Female",
          "Female",
          "Female",
          "Female",
          "Female",
          "Female",
          "Female",
          "Female",
          "Female",
          "Female",
          "Female",
          "Female",
          "Female",
          "Female",
          "Female",
          "Female",
          "Female",
          "Female",
          "Female",
          "Female",
          "Young Adults",
          "Young Adults",
          "Young Adults",
          "Young Adults",
          "Young Adults",
          "Young Adults",
          "Young Adults",
          "Young Adults",
          "Young Adults",
          "Young Adults",
          "Young Adults",
          "Young Adults",
          "Young Adults",
          "Young Adults",
          "Young Adults",
          "Young Adults",
          "Young Adults",
          "Young Adults",
          "Young Adults",
          "Young Adults",
          "Young Adults",
          "Young Adults",
          "Young Adults",
          "Young Adults",
          "Young Adults",
          "Young Adults",
          "Young Adults",
          "Young Adults",
          "Young Adults",
          "Young Adults",
          "Young Adults",
          "Young Adults",
          "Young Adults",
          "Young Adults",
          "Young Adults",
          "Young Adults",
          "Young Adults",
          "Young Adults",
          "Young Adults",
          "Young Adults",
          "Young Adults",
          "Young Adults",
          "Young Adults",
          "Young Adults",
          "Young Adults",
          "Young Adults",
          "Young Adults",
          "Young Adults",
          "Young Adults",
          "Young Adults",
          "Young Adults",
          "Young Adults",
          "Young Adults",
          "Young Adults",
          "Young Adults",
          "Young Adults",
          "Young Adults",
          "Young Adults",
          "Young Adults",
          "Young Adults",
          "Young Adults",
          "Young Adults",
          "Young Adults",
          "Young Adults",
          "Young Adults",
          "Young Adults",
          "Young Adults",
          "Young Adults",
          "Young Adults",
          "Young Adults",
          "Young Adults",
          "Young Adults",
          "Young Adults",
          "Young Adults",
          "Young Adults",
          "Young Adults",
          "Young Adults",
          "Young Adults",
          "Young Adults",
          "Young Adults",
          "Young Adults",
          "Young Adults",
          "Young Adults",
          "Young Adults",
          "Young Adults",
          "Young Adults",
          "Young Adults",
          "Young Adults",
          "Young Adults",
          "Young Adults",
          "Young Adults",
          "Young Adults",
          "Young Adults",
          "Young Adults",
          "Young Adults",
          "Young Adults",
          "Young Adults",
          "Young Adults",
          "Young Adults",
          "Young Adults",
          "Young Adults",
          "Young Adults",
          "Young Adults",
          "Young Adults",
          "Young Adults",
          "Young Adults",
          "Young Adults",
          "Young Adults",
          "Young Adults",
          "Young Adults",
          "Young Adults",
          "Young Adults",
          "Young Adults",
          "Young Adults",
          "Young Adults",
          "Young Adults",
          "Young Adults",
          "Young Adults",
          "Young Adults",
          "Young Adults",
          "Young Adults",
          "Young Adults",
          "Young Adults",
          "Young Adults",
          "Young Adults",
          "Young Adults",
          "Young Adults",
          "Young Adults",
          "Young Adults",
          "Young Adults",
          "Young Adults",
          "Young Adults",
          "Young Adults",
          "Young Adults",
          "Young Adults",
          "Young Adults",
          "Young Adults",
          "Young Adults",
          "Young Adults",
          "Young Adults",
          "Young Adults",
          "Young Adults",
          "Young Adults",
          "Young Adults",
          "Young Adults",
          "Young Adults",
          "Young Adults",
          "Young Adults",
          "Young Adults",
          "Young Adults",
          "Young Adults",
          "Young Adults",
          "Young Adults",
          "Young Adults",
          "Young Adults",
          "Young Adults",
          "Young Adults",
          "Young Adults",
          "Young Adults",
          "Young Adults",
          "Young Adults",
          "Young Adults",
          "Young Adults",
          "Young Adults",
          "Young Adults",
          "Young Adults",
          "Young Adults",
          "Young Adults",
          "Young Adults",
          "Young Adults",
          "Young Adults",
          "Young Adults",
          "Older Adults",
          "Older Adults",
          "Older Adults",
          "Older Adults",
          "Older Adults",
          "Older Adults",
          "Older Adults",
          "Older Adults",
          "Older Adults",
          "Older Adults",
          "Older Adults",
          "Older Adults",
          "Older Adults",
          "Older Adults",
          "Older Adults",
          "Older Adults",
          "Older Adults",
          "Older Adults",
          "Older Adults",
          "Older Adults",
          "Older Adults",
          "Older Adults",
          "Older Adults",
          "Older Adults",
          "Older Adults",
          "Older Adults",
          "Older Adults",
          "Older Adults",
          "Older Adults",
          "Older Adults",
          "Older Adults",
          "Older Adults",
          "Older Adults",
          "Older Adults",
          "Older Adults",
          "Older Adults",
          "Older Adults",
          "Older Adults",
          "Older Adults",
          "Older Adults",
          "Older Adults",
          "Older Adults",
          "Older Adults",
          "Older Adults",
          "Older Adults",
          "Older Adults",
          "Older Adults",
          "Older Adults",
          "Older Adults",
          "Older Adults",
          "Older Adults",
          "Older Adults",
          "Older Adults",
          "Older Adults",
          "Older Adults",
          "Older Adults",
          "Older Adults",
          "Older Adults",
          "Older Adults",
          "Older Adults",
          "Older Adults",
          "Older Adults",
          "Older Adults",
          "Older Adults",
          "Older Adults",
          "Older Adults",
          "Older Adults",
          "Older Adults",
          "Older Adults",
          "Older Adults",
          "Older Adults",
          "Older Adults",
          "Older Adults",
          "Older Adults",
          "Older Adults",
          "Older Adults",
          "Older Adults",
          "Older Adults",
          "Older Adults",
          "Older Adults",
          "Older Adults",
          "Older Adults",
          "Older Adults",
          "Older Adults",
          "Older Adults",
          "Older Adults",
          "Older Adults",
          "Older Adults",
          "Older Adults",
          "Older Adults",
          "Older Adults",
          "Older Adults",
          "Older Adults",
          "Older Adults",
          "Older Adults",
          "Older Adults",
          "Older Adults",
          "Older Adults",
          "Older Adults",
          "Older Adults",
          "Older Adults",
          "Older Adults",
          "Older Adults",
          "Older Adults",
          "Older Adults",
          "Older Adults",
          "Older Adults",
          "Older Adults",
          "Older Adults",
          "Older Adults",
          "Older Adults",
          "Older Adults",
          "Older Adults",
          "Older Adults",
          "Older Adults",
          "Older Adults",
          "Older Adults",
          "Older Adults",
          "Older Adults",
          "Older Adults",
          "Older Adults",
          "Older Adults",
          "Older Adults",
          "Older Adults",
          "Older Adults",
          "Older Adults",
          "Older Adults",
          "Older Adults",
          "Older Adults",
          "Older Adults",
          "Older Adults",
          "Older Adults",
          "Older Adults",
          "Older Adults",
          "Older Adults",
          "Older Adults",
          "Older Adults",
          "Older Adults",
          "Older Adults",
          "Older Adults",
          "Older Adults",
          "Older Adults",
          "Older Adults",
          "Older Adults",
          "Older Adults",
          "Older Adults",
          "Older Adults",
          "Older Adults",
          "Older Adults",
          "Older Adults",
          "Older Adults",
          "Older Adults",
          "Older Adults",
          "Older Adults",
          "Older Adults",
          "Older Adults",
          "Older Adults",
          "Older Adults",
          "Older Adults",
          "Older Adults",
          "Older Adults",
          "Older Adults",
          "Older Adults",
          "Older Adults",
          "Older Adults",
          "Older Adults",
          "Older Adults",
          "Older Adults",
          "Older Adults",
          "Older Adults",
          "Older Adults",
          "Older Adults",
          "Primary Education Or Less",
          "Primary Education Or Less",
          "Primary Education Or Less",
          "Primary Education Or Less",
          "Primary Education Or Less",
          "Primary Education Or Less",
          "Primary Education Or Less",
          "Primary Education Or Less",
          "Primary Education Or Less",
          "Primary Education Or Less",
          "Primary Education Or Less",
          "Primary Education Or Less",
          "Primary Education Or Less",
          "Primary Education Or Less",
          "Primary Education Or Less",
          "Primary Education Or Less",
          "Primary Education Or Less",
          "Primary Education Or Less",
          "Primary Education Or Less",
          "Primary Education Or Less",
          "Primary Education Or Less",
          "Primary Education Or Less",
          "Primary Education Or Less",
          "Primary Education Or Less",
          "Primary Education Or Less",
          "Primary Education Or Less",
          "Primary Education Or Less",
          "Primary Education Or Less",
          "Primary Education Or Less",
          "Primary Education Or Less",
          "Primary Education Or Less",
          "Primary Education Or Less",
          "Primary Education Or Less",
          "Primary Education Or Less",
          "Primary Education Or Less",
          "Primary Education Or Less",
          "Primary Education Or Less",
          "Primary Education Or Less",
          "Primary Education Or Less",
          "Primary Education Or Less",
          "Primary Education Or Less",
          "Primary Education Or Less",
          "Primary Education Or Less",
          "Primary Education Or Less",
          "Primary Education Or Less",
          "Primary Education Or Less",
          "Primary Education Or Less",
          "Primary Education Or Less",
          "Primary Education Or Less",
          "Primary Education Or Less",
          "Primary Education Or Less",
          "Primary Education Or Less",
          "Primary Education Or Less",
          "Primary Education Or Less",
          "Primary Education Or Less",
          "Primary Education Or Less",
          "Primary Education Or Less",
          "Primary Education Or Less",
          "Primary Education Or Less",
          "Primary Education Or Less",
          "Primary Education Or Less",
          "Primary Education Or Less",
          "Primary Education Or Less",
          "Primary Education Or Less",
          "Primary Education Or Less",
          "Primary Education Or Less",
          "Primary Education Or Less",
          "Primary Education Or Less",
          "Primary Education Or Less",
          "Primary Education Or Less",
          "Primary Education Or Less",
          "Primary Education Or Less",
          "Primary Education Or Less",
          "Primary Education Or Less",
          "Primary Education Or Less",
          "Primary Education Or Less",
          "Primary Education Or Less",
          "Primary Education Or Less",
          "Primary Education Or Less",
          "Primary Education Or Less",
          "Primary Education Or Less",
          "Primary Education Or Less",
          "Primary Education Or Less",
          "Primary Education Or Less",
          "Primary Education Or Less",
          "Primary Education Or Less",
          "Primary Education Or Less",
          "Primary Education Or Less",
          "Primary Education Or Less",
          "Primary Education Or Less",
          "Primary Education Or Less",
          "Primary Education Or Less",
          "Primary Education Or Less",
          "Primary Education Or Less",
          "Primary Education Or Less",
          "Primary Education Or Less",
          "Primary Education Or Less",
          "Primary Education Or Less",
          "Primary Education Or Less",
          "Primary Education Or Less",
          "Primary Education Or Less",
          "Primary Education Or Less",
          "Primary Education Or Less",
          "Primary Education Or Less",
          "Primary Education Or Less",
          "Primary Education Or Less",
          "Primary Education Or Less",
          "Primary Education Or Less",
          "Primary Education Or Less",
          "Primary Education Or Less",
          "Primary Education Or Less",
          "Primary Education Or Less",
          "Primary Education Or Less",
          "Primary Education Or Less",
          "Primary Education Or Less",
          "Primary Education Or Less",
          "Primary Education Or Less",
          "Primary Education Or Less",
          "Primary Education Or Less",
          "Primary Education Or Less",
          "Primary Education Or Less",
          "Primary Education Or Less",
          "Primary Education Or Less",
          "Primary Education Or Less",
          "Primary Education Or Less",
          "Primary Education Or Less",
          "Primary Education Or Less",
          "Primary Education Or Less",
          "Primary Education Or Less",
          "Primary Education Or Less",
          "Primary Education Or Less",
          "Primary Education Or Less",
          "Primary Education Or Less",
          "Primary Education Or Less",
          "Primary Education Or Less",
          "Primary Education Or Less",
          "Primary Education Or Less",
          "Primary Education Or Less",
          "Primary Education Or Less",
          "Primary Education Or Less",
          "Primary Education Or Less",
          "Primary Education Or Less",
          "Primary Education Or Less",
          "Primary Education Or Less",
          "Primary Education Or Less",
          "Primary Education Or Less",
          "Primary Education Or Less",
          "Primary Education Or Less",
          "Primary Education Or Less",
          "Primary Education Or Less",
          "Primary Education Or Less",
          "Primary Education Or Less",
          "Primary Education Or Less",
          "Primary Education Or Less",
          "Primary Education Or Less",
          "Primary Education Or Less",
          "Primary Education Or Less",
          "Primary Education Or Less",
          "Primary Education Or Less",
          "Primary Education Or Less",
          "Primary Education Or Less",
          "Primary Education Or Less",
          "Primary Education Or Less",
          "Primary Education Or Less",
          "Primary Education Or Less",
          "Primary Education Or Less",
          "Primary Education Or Less",
          "Primary Education Or Less",
          "Primary Education Or Less",
          "Primary Education Or Less",
          "Primary Education Or Less",
          "Primary Education Or Less",
          "Secondary Education Or Less",
          "Secondary Education Or Less",
          "Secondary Education Or Less",
          "Secondary Education Or Less",
          "Secondary Education Or Less",
          "Secondary Education Or Less",
          "Secondary Education Or Less",
          "Secondary Education Or Less",
          "Secondary Education Or Less",
          "Secondary Education Or Less",
          "Secondary Education Or Less",
          "Secondary Education Or Less",
          "Secondary Education Or Less",
          "Secondary Education Or Less",
          "Secondary Education Or Less",
          "Secondary Education Or Less",
          "Secondary Education Or Less",
          "Secondary Education Or Less",
          "Secondary Education Or Less",
          "Secondary Education Or Less",
          "Secondary Education Or Less",
          "Secondary Education Or Less",
          "Secondary Education Or Less",
          "Secondary Education Or Less",
          "Secondary Education Or Less",
          "Secondary Education Or Less",
          "Secondary Education Or Less",
          "Secondary Education Or Less",
          "Secondary Education Or Less",
          "Secondary Education Or Less",
          "Secondary Education Or Less",
          "Secondary Education Or Less",
          "Secondary Education Or Less",
          "Secondary Education Or Less",
          "Secondary Education Or Less",
          "Secondary Education Or Less",
          "Secondary Education Or Less",
          "Secondary Education Or Less",
          "Secondary Education Or Less",
          "Secondary Education Or Less",
          "Secondary Education Or Less",
          "Secondary Education Or Less",
          "Secondary Education Or Less",
          "Secondary Education Or Less",
          "Secondary Education Or Less",
          "Secondary Education Or Less",
          "Secondary Education Or Less",
          "Secondary Education Or Less",
          "Secondary Education Or Less",
          "Secondary Education Or Less",
          "Secondary Education Or Less",
          "Secondary Education Or Less",
          "Secondary Education Or Less",
          "Secondary Education Or Less",
          "Secondary Education Or Less",
          "Secondary Education Or Less",
          "Secondary Education Or Less",
          "Secondary Education Or Less",
          "Secondary Education Or Less",
          "Secondary Education Or Less",
          "Secondary Education Or Less",
          "Secondary Education Or Less",
          "Secondary Education Or Less",
          "Secondary Education Or Less",
          "Secondary Education Or Less",
          "Secondary Education Or Less",
          "Secondary Education Or Less",
          "Secondary Education Or Less",
          "Secondary Education Or Less",
          "Secondary Education Or Less",
          "Secondary Education Or Less",
          "Secondary Education Or Less",
          "Secondary Education Or Less",
          "Secondary Education Or Less",
          "Secondary Education Or Less",
          "Secondary Education Or Less",
          "Secondary Education Or Less",
          "Secondary Education Or Less",
          "Secondary Education Or Less",
          "Secondary Education Or Less",
          "Secondary Education Or Less",
          "Secondary Education Or Less",
          "Secondary Education Or Less",
          "Secondary Education Or Less",
          "Secondary Education Or Less",
          "Secondary Education Or Less",
          "Secondary Education Or Less",
          "Secondary Education Or Less",
          "Secondary Education Or Less",
          "Secondary Education Or Less",
          "Secondary Education Or Less",
          "Secondary Education Or Less",
          "Secondary Education Or Less",
          "Secondary Education Or Less",
          "Secondary Education Or Less",
          "Secondary Education Or Less",
          "Secondary Education Or Less",
          "Secondary Education Or Less",
          "Secondary Education Or Less",
          "Secondary Education Or Less",
          "Secondary Education Or Less",
          "Secondary Education Or Less",
          "Secondary Education Or Less",
          "Secondary Education Or Less",
          "Secondary Education Or Less",
          "Secondary Education Or Less",
          "Secondary Education Or Less",
          "Secondary Education Or Less",
          "Secondary Education Or Less",
          "Secondary Education Or Less",
          "Secondary Education Or Less",
          "Secondary Education Or Less",
          "Secondary Education Or Less",
          "Secondary Education Or Less",
          "Secondary Education Or Less",
          "Secondary Education Or Less",
          "Secondary Education Or Less",
          "Secondary Education Or Less",
          "Secondary Education Or Less",
          "Secondary Education Or Less",
          "Secondary Education Or Less",
          "Secondary Education Or Less",
          "Secondary Education Or Less",
          "Secondary Education Or Less",
          "Secondary Education Or Less",
          "Secondary Education Or Less",
          "Secondary Education Or Less",
          "Secondary Education Or Less",
          "Secondary Education Or Less",
          "Secondary Education Or Less",
          "Secondary Education Or Less",
          "Secondary Education Or Less",
          "Secondary Education Or Less",
          "Secondary Education Or Less",
          "Secondary Education Or Less",
          "Secondary Education Or Less",
          "Secondary Education Or Less",
          "Secondary Education Or Less",
          "Secondary Education Or Less",
          "Secondary Education Or Less",
          "Secondary Education Or Less",
          "Secondary Education Or Less",
          "Secondary Education Or Less",
          "Secondary Education Or Less",
          "Secondary Education Or Less",
          "Secondary Education Or Less",
          "Secondary Education Or Less",
          "Secondary Education Or Less",
          "Secondary Education Or Less",
          "Secondary Education Or Less",
          "Secondary Education Or Less",
          "Secondary Education Or Less",
          "Secondary Education Or Less",
          "Secondary Education Or Less",
          "Secondary Education Or Less",
          "Secondary Education Or Less",
          "Secondary Education Or Less",
          "Secondary Education Or Less",
          "Secondary Education Or Less",
          "Secondary Education Or Less",
          "Secondary Education Or Less",
          "Secondary Education Or Less",
          "Secondary Education Or Less",
          "Secondary Education Or Less",
          "Secondary Education Or Less",
          "Secondary Education Or Less",
          "Secondary Education Or Less",
          "Secondary Education Or Less",
          "Secondary Education Or Less",
          "Secondary Education Or Less",
          "Secondary Education Or Less",
          "Secondary Education Or Less",
          "Income, Poorest 40%",
          "Income, Poorest 40%",
          "Income, Poorest 40%",
          "Income, Poorest 40%",
          "Income, Poorest 40%",
          "Income, Poorest 40%",
          "Income, Poorest 40%",
          "Income, Poorest 40%",
          "Income, Poorest 40%",
          "Income, Poorest 40%",
          "Income, Poorest 40%",
          "Income, Poorest 40%",
          "Income, Poorest 40%",
          "Income, Poorest 40%",
          "Income, Poorest 40%",
          "Income, Poorest 40%",
          "Income, Poorest 40%",
          "Income, Poorest 40%",
          "Income, Poorest 40%",
          "Income, Poorest 40%",
          "Income, Poorest 40%",
          "Income, Poorest 40%",
          "Income, Poorest 40%",
          "Income, Poorest 40%",
          "Income, Poorest 40%",
          "Income, Poorest 40%",
          "Income, Poorest 40%",
          "Income, Poorest 40%",
          "Income, Poorest 40%",
          "Income, Poorest 40%",
          "Income, Poorest 40%",
          "Income, Poorest 40%",
          "Income, Poorest 40%",
          "Income, Poorest 40%",
          "Income, Poorest 40%",
          "Income, Poorest 40%",
          "Income, Poorest 40%",
          "Income, Poorest 40%",
          "Income, Poorest 40%",
          "Income, Poorest 40%",
          "Income, Poorest 40%",
          "Income, Poorest 40%",
          "Income, Poorest 40%",
          "Income, Poorest 40%",
          "Income, Poorest 40%",
          "Income, Poorest 40%",
          "Income, Poorest 40%",
          "Income, Poorest 40%",
          "Income, Poorest 40%",
          "Income, Poorest 40%",
          "Income, Poorest 40%",
          "Income, Poorest 40%",
          "Income, Poorest 40%",
          "Income, Poorest 40%",
          "Income, Poorest 40%",
          "Income, Poorest 40%",
          "Income, Poorest 40%",
          "Income, Poorest 40%",
          "Income, Poorest 40%",
          "Income, Poorest 40%",
          "Income, Poorest 40%",
          "Income, Poorest 40%",
          "Income, Poorest 40%",
          "Income, Poorest 40%",
          "Income, Poorest 40%",
          "Income, Poorest 40%",
          "Income, Poorest 40%",
          "Income, Poorest 40%",
          "Income, Poorest 40%",
          "Income, Poorest 40%",
          "Income, Poorest 40%",
          "Income, Poorest 40%",
          "Income, Poorest 40%",
          "Income, Poorest 40%",
          "Income, Poorest 40%",
          "Income, Poorest 40%",
          "Income, Poorest 40%",
          "Income, Poorest 40%",
          "Income, Poorest 40%",
          "Income, Poorest 40%",
          "Income, Poorest 40%",
          "Income, Poorest 40%",
          "Income, Poorest 40%",
          "Income, Poorest 40%",
          "Income, Poorest 40%",
          "Income, Poorest 40%",
          "Income, Poorest 40%",
          "Income, Poorest 40%",
          "Income, Poorest 40%",
          "Income, Poorest 40%",
          "Income, Poorest 40%",
          "Income, Poorest 40%",
          "Income, Poorest 40%",
          "Income, Poorest 40%",
          "Income, Poorest 40%",
          "Income, Poorest 40%",
          "Income, Poorest 40%",
          "Income, Poorest 40%",
          "Income, Poorest 40%",
          "Income, Poorest 40%",
          "Income, Poorest 40%",
          "Income, Poorest 40%",
          "Income, Poorest 40%",
          "Income, Poorest 40%",
          "Income, Poorest 40%",
          "Income, Poorest 40%",
          "Income, Poorest 40%",
          "Income, Poorest 40%",
          "Income, Poorest 40%",
          "Income, Poorest 40%",
          "Income, Poorest 40%",
          "Income, Poorest 40%",
          "Income, Poorest 40%",
          "Income, Poorest 40%",
          "Income, Poorest 40%",
          "Income, Poorest 40%",
          "Income, Poorest 40%",
          "Income, Poorest 40%",
          "Income, Poorest 40%",
          "Income, Poorest 40%",
          "Income, Poorest 40%",
          "Income, Poorest 40%",
          "Income, Poorest 40%",
          "Income, Poorest 40%",
          "Income, Poorest 40%",
          "Income, Poorest 40%",
          "Income, Poorest 40%",
          "Income, Poorest 40%",
          "Income, Poorest 40%",
          "Income, Poorest 40%",
          "Income, Poorest 40%",
          "Income, Poorest 40%",
          "Income, Poorest 40%",
          "Income, Poorest 40%",
          "Income, Poorest 40%",
          "Income, Poorest 40%",
          "Income, Poorest 40%",
          "Income, Poorest 40%",
          "Income, Poorest 40%",
          "Income, Poorest 40%",
          "Income, Poorest 40%",
          "Income, Poorest 40%",
          "Income, Poorest 40%",
          "Income, Poorest 40%",
          "Income, Poorest 40%",
          "Income, Poorest 40%",
          "Income, Poorest 40%",
          "Income, Poorest 40%",
          "Income, Poorest 40%",
          "Income, Poorest 40%",
          "Income, Poorest 40%",
          "Income, Poorest 40%",
          "Income, Poorest 40%",
          "Income, Poorest 40%",
          "Income, Poorest 40%",
          "Income, Poorest 40%",
          "Income, Poorest 40%",
          "Income, Poorest 40%",
          "Income, Poorest 40%",
          "Income, Poorest 40%",
          "Income, Poorest 40%",
          "Income, Poorest 40%",
          "Income, Poorest 40%",
          "Income, Poorest 40%",
          "Income, Poorest 40%",
          "Income, Poorest 40%",
          "Income, Poorest 40%",
          "Income, Poorest 40%",
          "Income, Poorest 40%",
          "Income, Poorest 40%",
          "Income, Poorest 40%",
          "Income, Poorest 40%",
          "Income, Richest 60%",
          "Income, Richest 60%",
          "Income, Richest 60%",
          "Income, Richest 60%",
          "Income, Richest 60%",
          "Income, Richest 60%",
          "Income, Richest 60%",
          "Income, Richest 60%",
          "Income, Richest 60%",
          "Income, Richest 60%",
          "Income, Richest 60%",
          "Income, Richest 60%",
          "Income, Richest 60%",
          "Income, Richest 60%",
          "Income, Richest 60%",
          "Income, Richest 60%",
          "Income, Richest 60%",
          "Income, Richest 60%",
          "Income, Richest 60%",
          "Income, Richest 60%",
          "Income, Richest 60%",
          "Income, Richest 60%",
          "Income, Richest 60%",
          "Income, Richest 60%",
          "Income, Richest 60%",
          "Income, Richest 60%",
          "Income, Richest 60%",
          "Income, Richest 60%",
          "Income, Richest 60%",
          "Income, Richest 60%",
          "Income, Richest 60%",
          "Income, Richest 60%",
          "Income, Richest 60%",
          "Income, Richest 60%",
          "Income, Richest 60%",
          "Income, Richest 60%",
          "Income, Richest 60%",
          "Income, Richest 60%",
          "Income, Richest 60%",
          "Income, Richest 60%",
          "Income, Richest 60%",
          "Income, Richest 60%",
          "Income, Richest 60%",
          "Income, Richest 60%",
          "Income, Richest 60%",
          "Income, Richest 60%",
          "Income, Richest 60%",
          "Income, Richest 60%",
          "Income, Richest 60%",
          "Income, Richest 60%",
          "Income, Richest 60%",
          "Income, Richest 60%",
          "Income, Richest 60%",
          "Income, Richest 60%",
          "Income, Richest 60%",
          "Income, Richest 60%",
          "Income, Richest 60%",
          "Income, Richest 60%",
          "Income, Richest 60%",
          "Income, Richest 60%",
          "Income, Richest 60%",
          "Income, Richest 60%",
          "Income, Richest 60%",
          "Income, Richest 60%",
          "Income, Richest 60%",
          "Income, Richest 60%",
          "Income, Richest 60%",
          "Income, Richest 60%",
          "Income, Richest 60%",
          "Income, Richest 60%",
          "Income, Richest 60%",
          "Income, Richest 60%",
          "Income, Richest 60%",
          "Income, Richest 60%",
          "Income, Richest 60%",
          "Income, Richest 60%",
          "Income, Richest 60%",
          "Income, Richest 60%",
          "Income, Richest 60%",
          "Income, Richest 60%",
          "Income, Richest 60%",
          "Income, Richest 60%",
          "Income, Richest 60%",
          "Income, Richest 60%",
          "Income, Richest 60%",
          "Income, Richest 60%",
          "Income, Richest 60%",
          "Income, Richest 60%",
          "Income, Richest 60%",
          "Income, Richest 60%",
          "Income, Richest 60%",
          "Income, Richest 60%",
          "Income, Richest 60%",
          "Income, Richest 60%",
          "Income, Richest 60%",
          "Income, Richest 60%",
          "Income, Richest 60%",
          "Income, Richest 60%",
          "Income, Richest 60%",
          "Income, Richest 60%",
          "Income, Richest 60%",
          "Income, Richest 60%",
          "Income, Richest 60%",
          "Income, Richest 60%",
          "Income, Richest 60%",
          "Income, Richest 60%",
          "Income, Richest 60%",
          "Income, Richest 60%",
          "Income, Richest 60%",
          "Income, Richest 60%",
          "Income, Richest 60%",
          "Income, Richest 60%",
          "Income, Richest 60%",
          "Income, Richest 60%",
          "Income, Richest 60%",
          "Income, Richest 60%",
          "Income, Richest 60%",
          "Income, Richest 60%",
          "Income, Richest 60%",
          "Income, Richest 60%",
          "Income, Richest 60%",
          "Income, Richest 60%",
          "Income, Richest 60%",
          "Income, Richest 60%",
          "Income, Richest 60%",
          "Income, Richest 60%",
          "Income, Richest 60%",
          "Income, Richest 60%",
          "Income, Richest 60%",
          "Income, Richest 60%",
          "Income, Richest 60%",
          "Income, Richest 60%",
          "Income, Richest 60%",
          "Income, Richest 60%",
          "Income, Richest 60%",
          "Income, Richest 60%",
          "Income, Richest 60%",
          "Income, Richest 60%",
          "Income, Richest 60%",
          "Income, Richest 60%",
          "Income, Richest 60%",
          "Income, Richest 60%",
          "Income, Richest 60%",
          "Income, Richest 60%",
          "Income, Richest 60%",
          "Income, Richest 60%",
          "Income, Richest 60%",
          "Income, Richest 60%",
          "Income, Richest 60%",
          "Income, Richest 60%",
          "Income, Richest 60%",
          "Income, Richest 60%",
          "Income, Richest 60%",
          "Income, Richest 60%",
          "Income, Richest 60%",
          "Income, Richest 60%",
          "Income, Richest 60%",
          "Income, Richest 60%",
          "Income, Richest 60%",
          "Income, Richest 60%",
          "Income, Richest 60%",
          "Income, Richest 60%",
          "Income, Richest 60%",
          "Income, Richest 60%",
          "Income, Richest 60%",
          "Income, Richest 60%",
          "Income, Richest 60%",
          "Income, Richest 60%",
          "Income, Richest 60%",
          "Income, Richest 60%",
          "Income, Richest 60%",
          "Income, Richest 60%",
          "Rural",
          "Rural",
          "Rural",
          "Rural",
          "Rural",
          "Rural",
          "Rural",
          "Rural",
          "Rural",
          "Rural",
          "Rural",
          "Rural",
          "Rural",
          "Rural",
          "Rural",
          "Rural",
          "Rural",
          "Rural",
          "Rural",
          "Rural",
          "Rural",
          "Rural",
          "Rural",
          "Rural",
          "Rural",
          "Rural",
          "Rural",
          "Rural",
          "Rural",
          "Rural",
          "Rural",
          "Rural",
          "Rural",
          "Rural",
          "Rural",
          "Rural",
          "Rural",
          "Rural",
          "Rural",
          "Rural",
          "Rural",
          "Rural",
          "Rural",
          "Rural",
          "Rural",
          "Rural",
          "Rural",
          "Rural",
          "Rural",
          "Rural",
          "Rural",
          "Rural",
          "Rural",
          "Rural",
          "Rural",
          "Rural",
          "Rural",
          "Rural",
          "Rural",
          "Rural",
          "Rural",
          "Rural",
          "Rural",
          "Rural",
          "Rural",
          "Rural",
          "Rural",
          "Rural",
          "Rural",
          "Rural",
          "Rural",
          "Rural",
          "Rural",
          "Rural",
          "Rural",
          "Rural",
          "Rural",
          "Rural",
          "Rural",
          "Rural",
          "Rural",
          "Rural",
          "Rural",
          "Rural",
          "Rural",
          "Rural",
          "Rural",
          "Rural",
          "Rural",
          "Rural",
          "Rural",
          "Rural",
          "Rural",
          "Rural",
          "Rural",
          "Rural",
          "Rural",
          "Rural",
          "Rural",
          "Rural",
          "Rural",
          "Rural",
          "Rural",
          "Rural",
          "Rural",
          "Rural",
          "Rural",
          "Rural",
          "Rural",
          "Rural",
          "Rural",
          "Rural",
          "Rural",
          "Rural",
          "Rural",
          "Rural",
          "Rural",
          "Rural",
          "Rural",
          "Rural",
          "Rural",
          "Rural",
          "Rural",
          "Rural",
          "Rural",
          "Rural",
          "Rural",
          "Rural",
          "Rural",
          "Rural",
          "Rural",
          "Rural",
          "Rural",
          "Rural",
          "Rural",
          "Rural",
          "Rural",
          "Rural",
          "Rural",
          "Rural",
          "Rural",
          "Rural",
          "Rural",
          "Rural",
          "Rural",
          "Rural",
          "Rural",
          "Rural",
          "Rural",
          "Rural",
          "Rural",
          "Rural",
          "Rural",
          "Rural",
          "Rural",
          "Rural",
          "Rural",
          "Rural",
          "Rural",
          "Rural",
          "Rural",
          "Rural",
          "Rural",
          "Rural",
          "Rural",
          "Rural",
          "Rural",
          "Rural",
          "Rural",
          "Rural",
          "Rural",
          "Rural"
         ],
         "x0": " ",
         "xaxis": "x",
         "y": [
          0.30440380796790123,
          0.9138161316514015,
          2.377762086689472,
          11.490987241268158,
          21.331796050071716,
          0.4323195666074753,
          2.4161674082279205,
          0.6578374188393354,
          9.75530669093132,
          0.7463846355676651,
          2.022727020084858,
          18.093837797641754,
          3.080969490110874,
          33.02279710769653,
          2.6917142793536186,
          21.245959401130676,
          2.777143567800522,
          7.119389623403549,
          0.8577455766499043,
          4.836530610918999,
          20.751523971557617,
          24.378307163715363,
          3.7898506969213486,
          18.670815229415894,
          24.26137626171112,
          34.053173661231995,
          1.7966048792004585,
          15.137830376625061,
          9.208664298057556,
          16.096340119838715,
          1.9854459911584854,
          6.238438934087753,
          2.212441898882389,
          4.737451300024986,
          2.3180555552244186,
          3.894679620862007,
          0.39443005807697773,
          1.2590332888066769,
          0.16825423808768392,
          3.235757350921631,
          2.9369747266173363,
          1.1449442245066166,
          1.792016252875328,
          0.027894863160327077,
          0.3159289015457034,
          6.6484250128269196,
          43.5779869556427,
          2.2010216489434242,
          13.006550073623657,
          38.947781920433044,
          1.4732856303453445,
          13.780468702316284,
          1.7702767625451088,
          2.1264059469103813,
          3.4087009727954865,
          6.19601272046566,
          3.7826895713806152,
          13.517189025878906,
          0.4496314562857151,
          3.1239157542586327,
          2.352210134267807,
          1.9945431500673294,
          4.495691508054733,
          26.29660964012146,
          4.214755445718765,
          0.9165030904114246,
          0.46866582706570625,
          1.0609684512019157,
          58.39263200759888,
          72.93168306350708,
          3.106876276433468,
          13.294555246829987,
          5.65950870513916,
          1.7197713255882263,
          5.253143608570099,
          0.6707376334816217,
          20.843392610549927,
          9.946011751890182,
          17.5528883934021,
          0.07663684664294124,
          2.4207601323723793,
          3.2204650342464447,
          5.348528176546097,
          2.4724967777729034,
          5.284838378429413,
          27.641841769218445,
          0.6392114795744419,
          4.356018826365471,
          12.055302411317825,
          3.4240297973155975,
          5.552579462528229,
          1.9322186708450317,
          4.281917214393616,
          11.64245456457138,
          24.397648870944977,
          0.16379206208512187,
          0.6904998794198036,
          5.7955872267484665,
          4.997987300157547,
          21.897147595882416,
          21.866820752620697,
          6.480395793914795,
          4.012377932667732,
          0.8643314242362976,
          5.626937001943588,
          3.84410098195076,
          20.30283212661743,
          2.8302110731601715,
          10.876332968473434,
          10.35909429192543,
          43.42947006225586,
          3.852665424346924,
          8.717238157987595,
          2.2949613630771637,
          5.6061651557683945,
          1.053774356842041,
          3.9274167269468307,
          0.33603860065340996,
          5.799799412488937,
          6.885557621717453,
          1.557950396090746,
          3.503168746829033,
          0,
          2.634166181087494,
          4.225873947143555,
          4.521298781037331,
          28.88176739215851,
          0.4629340022802353,
          2.9901696369051933,
          18.097685277462006,
          31.114640831947327,
          2.6347817853093147,
          4.232119023799896,
          6.188360974192619,
          31.798091530799866,
          9.54800769686699,
          11.01861372590065,
          4.556787759065628,
          3.5496149212121964,
          37.065914273262024,
          11.617901921272278,
          20.90214490890503,
          5.750106647610664,
          15.233409404754639,
          1.4100387692451477,
          21.457375586032867,
          1.3012658804655075,
          8.256859332323074,
          0,
          0.6187011953443289,
          2.0371897146105766,
          0.8081997744739056,
          16.411952674388885,
          32.358697056770325,
          38.53802978992462,
          35.10037958621979,
          50.5812406539917,
          0.7766649127006531,
          3.173573315143585,
          1.233433187007904,
          2.9790692031383514,
          10.970383137464523,
          0.49650692380964756,
          3.4995008260011673,
          2.0579079166054726,
          4.425099864602089,
          14.428180456161499,
          19.016845524311066,
          12.114307284355164,
          27.842390537261963,
          21.59552127122879,
          48.58163297176361,
          0.39746961556375027,
          0.9474661201238632,
          2.3786665871739388,
          12.196655571460724,
          22.518691420555115,
          0.7069365587085485,
          3.333144262433052,
          0.9613429196178913,
          13.907699286937714,
          0.8348124101758003,
          2.929161675274372,
          24.609123170375824,
          3.0972326174378395,
          41.80804789066315,
          3.2390285283327103,
          32.471904158592224,
          4.767206683754921,
          9.435728192329407,
          1.2989173643290997,
          5.317452549934387,
          22.06275314092636,
          29.102599620819092,
          5.036943778395653,
          21.49326205253601,
          28.263497352600098,
          37.88767457008362,
          1.50447441264987,
          17.009656131267548,
          11.006703972816467,
          18.602406978607178,
          1.4407387934625149,
          9.03998538851738,
          2.688102051615715,
          5.782067775726318,
          3.8330748677253723,
          5.894694849848747,
          0.3143737558275461,
          1.4057016000151634,
          0.21446505561470985,
          3.862752392888069,
          3.4579768776893616,
          2.1191315725445747,
          3.0598917976021767,
          0,
          0.5906115751713514,
          7.188395410776138,
          46.258872747421265,
          3.7582680583000183,
          14.212678372859955,
          44.213926792144775,
          2.3630106821656227,
          17.62871742248535,
          3.592916950583458,
          2.346406877040863,
          3.874467685818672,
          9.561480581760406,
          3.7554986774921417,
          15.869715809822083,
          0.23216682020574808,
          3.5315245389938354,
          3.4867607057094574,
          3.0972037464380264,
          4.967200011014938,
          30.747216939926147,
          6.999915838241577,
          0.3803460858762264,
          0.4903947003185749,
          1.8561236560344696,
          62.35278248786926,
          76.89898610115051,
          3.681172803044319,
          13.91933262348175,
          6.038987636566162,
          2.20652986317873,
          6.328920274972916,
          1.0555203072726727,
          23.475883901119232,
          11.772675812244415,
          20.550154149532318,
          0.10808850638568401,
          4.154888913035393,
          4.0780797600746155,
          7.157745957374573,
          3.0111314728856087,
          6.561851501464844,
          24.27068203687668,
          1.0581450536847115,
          4.494166001677513,
          12.159311771392822,
          4.076545685529709,
          7.088986039161682,
          2.3886004462838173,
          5.437198281288147,
          14.383044838905334,
          29.117387533187866,
          0,
          0.8922737091779709,
          7.213173061609268,
          4.8902712762355804,
          22.65145629644394,
          26.957783102989197,
          6.336299329996109,
          3.8916125893592834,
          1.6116831451654434,
          6.627975404262543,
          5.245024338364601,
          22.830072045326233,
          3.080185316503048,
          12.792342901229858,
          12.533986568450928,
          45.01606523990631,
          5.503338202834129,
          12.030848115682602,
          2.5099581107497215,
          7.226553559303284,
          1.0244758799672127,
          4.662906751036644,
          0.39773103781044483,
          9.317338466644287,
          12.570194900035858,
          2.01092716306448,
          4.876864701509476,
          0,
          3.0144207179546356,
          3.4948837012052536,
          4.715093970298767,
          30.94879984855652,
          0.5683251656591892,
          2.088693715631962,
          20.10636329650879,
          36.88657581806183,
          3.911251574754715,
          6.672608107328415,
          7.832574844360352,
          34.885695576667786,
          11.37668490409851,
          13.57576847076416,
          4.722774773836136,
          5.200206488370895,
          41.985589265823364,
          12.909235060214996,
          23.460763692855835,
          7.191665470600128,
          19.788731634616852,
          1.4988231472671032,
          26.974770426750183,
          0.808276329189539,
          11.28861978650093,
          0,
          0.862640980631113,
          1.674925908446312,
          0.9568418376147747,
          18.537823855876923,
          38.37635815143585,
          44.11405920982361,
          41.23466908931732,
          58.642083406448364,
          0.856837909668684,
          3.636932000517845,
          2.1696507930755615,
          3.280988335609436,
          14.062678813934326,
          0.47589754685759544,
          3.3553052693605423,
          2.5181876495480537,
          5.5096060037612915,
          15.02961665391922,
          19.418837130069733,
          14.853614568710327,
          29.946058988571167,
          24.207738041877747,
          51.1731743812561,
          0.5723477806895971,
          1.717255637049675,
          3.067159652709961,
          12.619279325008392,
          22.956569492816925,
          0.577971525490284,
          3.002232499420643,
          1.2412826530635357,
          15.254214406013489,
          1.032770611345768,
          2.6203740388154984,
          21.313460171222687,
          4.235522076487541,
          37.99678385257721,
          3.6637861281633377,
          30.76450824737549,
          3.791401907801628,
          6.974468380212784,
          0.8597827516496181,
          6.8852633237838745,
          24.833156168460846,
          33.86750817298889,
          5.523540824651718,
          25.021910667419434,
          25.592002272605896,
          40.31999707221985,
          2.5835808366537094,
          17.544665932655334,
          9.784429520368576,
          19.154083728790283,
          2.4967115372419357,
          8.767537027597427,
          2.8941377997398376,
          5.8437202125787735,
          2.812756784260273,
          5.022080615162849,
          0.3580427961423993,
          1.385508757084608,
          0.21476689726114273,
          4.763005301356316,
          3.2660994678735733,
          1.817251555621624,
          2.1478600800037384,
          0.043383819865994155,
          0.41438345797359943,
          8.493317663669586,
          49.37855899333954,
          3.906075283885002,
          12.404301017522812,
          42.20717251300812,
          1.7940403893589973,
          16.012319922447205,
          2.32184324413538,
          2.4183662608265877,
          4.447195678949356,
          8.600607514381409,
          4.914160445332527,
          20.36694437265396,
          0.5313470028340816,
          3.3320486545562744,
          3.0313540250062943,
          2.3539872840046883,
          6.597167253494263,
          33.20675492286682,
          5.890419706702232,
          0.9630730375647545,
          0.7946781814098358,
          1.4891689643263817,
          61.53257489204407,
          77.83570885658264,
          3.986945003271103,
          14.704179763793945,
          5.947420746088028,
          1.8024245277047157,
          7.0403702557086945,
          1.0855617001652718,
          21.394263207912445,
          11.98522225022316,
          20.263175666332245,
          0.16489630797877908,
          3.5256166011095047,
          4.240204766392708,
          7.003667950630188,
          2.9303185641765594,
          6.510411947965622,
          40.51152169704437,
          0.9972837753593922,
          4.294292256236076,
          12.815654277801514,
          2.8193440288305283,
          7.8632742166519165,
          2.2352462634444237,
          5.243337154388428,
          16.893436014652252,
          27.770283818244934,
          0.22375639528036118,
          0.610525906085968,
          7.703660428524017,
          7.176278531551361,
          28.130552172660828,
          26.292091608047485,
          8.927325904369354,
          5.312570184469223,
          1.3892529532313347,
          7.565510272979736,
          4.654328525066376,
          23.256997764110565,
          2.9501231387257576,
          13.42691034078598,
          12.855198979377747,
          46.96452021598816,
          5.297308415174484,
          12.710809707641602,
          2.1691758185625076,
          6.314298510551453,
          1.144444290548563,
          4.3541282415390015,
          0.4543042741715908,
          9.618984907865524,
          12.296584993600845,
          1.9221197813749313,
          4.533964768052101,
          0,
          3.3762626349925995,
          3.4241538494825363,
          5.489000678062439,
          33.25980603694916,
          0.6131925620138645,
          3.525146469473839,
          20.735403895378113,
          31.748691201210022,
          3.5719718784093857,
          5.435026064515114,
          8.572234213352203,
          38.743215799331665,
          12.982547283172607,
          10.137755423784256,
          5.685184895992279,
          4.174045100808144,
          46.1551308631897,
          13.917133212089539,
          23.845385015010834,
          6.424173712730408,
          16.33017510175705,
          1.4777242206037045,
          23.72165024280548,
          1.2641041539609432,
          9.246218204498291,
          0,
          1.1467364616692066,
          3.132213279604912,
          1.392163708806038,
          26.110056042671204,
          36.86896860599518,
          45.34504413604736,
          38.6342853307724,
          55.08619546890259,
          0.7803995627909899,
          3.7479501217603683,
          1.2434718199074268,
          4.393966868519783,
          13.865584135055542,
          0.7544557563960552,
          3.905037045478821,
          2.461187355220318,
          5.411261692643166,
          17.99483597278595,
          24.86105114221573,
          13.774865865707397,
          32.36992955207825,
          25.19219219684601,
          52.36294865608215,
          0,
          0.054768595146015286,
          1.687861792743206,
          5.906480178236961,
          9.456522017717361,
          0.235245143994689,
          1.1893422342836857,
          0,
          3.8497935980558395,
          0.32017573248595,
          0.30308549758046865,
          9.411849826574326,
          1.5196307562291622,
          23.095738887786865,
          1.8953010439872742,
          12.673729658126831,
          0.17163989832624793,
          7.663671672344208,
          0.8544023148715496,
          0.42957463301718235,
          12.549184262752533,
          12.896756827831268,
          1.3218043372035027,
          8.099935203790665,
          21.547822654247284,
          23.128871619701385,
          0.40440885350108147,
          9.11305770277977,
          7.901421934366226,
          10.328445583581924,
          1.2948479503393173,
          2.5121400132775307,
          1.0071273893117905,
          1.7620917409658432,
          1.1884399689733982,
          0.7071238476783037,
          0.49605071544647217,
          0.9450044482946396,
          0.09715915657579899,
          1.2166786938905716,
          2.1165771409869194,
          0.6128320470452309,
          1.5142335556447506,
          0,
          0,
          4.193376377224922,
          32.256755232810974,
          0.934129860252142,
          14.608269929885864,
          32.908838987350464,
          0.6152891088277102,
          8.31778198480606,
          0.8804873563349247,
          1.4743683859705925,
          2.264014817774296,
          1.4670910313725471,
          2.0876754075288773,
          5.727430060505867,
          0.3067772137001157,
          2.76392325758934,
          1.5428357757627964,
          1.563003845512867,
          2.383529581129551,
          20.12709677219391,
          1.088218204677105,
          0.8087253198027611,
          0.23628848139196634,
          0.7286400068551302,
          44.04636323451996,
          51.76575779914856,
          2.118583954870701,
          9.416138380765915,
          4.970697686076164,
          1.5856176614761353,
          1.3698779977858067,
          0,
          18.508316576480865,
          5.666811391711235,
          11.180584877729416,
          0,
          1.495832484215498,
          1.8838394433259964,
          3.242943063378334,
          1.6567660495638847,
          3.217097744345665,
          20.015639066696167,
          0.38976874202489853,
          4.773682728409767,
          6.857237219810486,
          4.364514350891113,
          1.318387221544981,
          1.3984748162329197,
          2.701444551348686,
          4.390142112970352,
          15.637481212615967,
          0,
          0.9000586345791817,
          4.171675071120262,
          1.3181714341044426,
          12.067300081253052,
          13.54452669620514,
          4.021447524428368,
          2.649521827697754,
          0.19946321845054626,
          1.987147331237793,
          1.4174507930874825,
          9.987208992242813,
          2.6227081194519997,
          4.378250241279602,
          6.976695358753204,
          35.09609401226044,
          0.6946409586817026,
          2.2062692791223526,
          2.5310568511486053,
          3.56353260576725,
          0.9271084330976009,
          2.9920171946287155,
          0.08766988757997751,
          2.047099731862545,
          3.400297462940216,
          0.8419420570135117,
          1.485105510801077,
          0,
          0.8346597664058208,
          5.529727041721344,
          2.7145344763994217,
          18.144075572490692,
          0.22194520570337772,
          2.287803404033184,
          9.548376500606537,
          26.27401053905487,
          1.5733202919363976,
          2.9036227613687515,
          3.562679886817932,
          22.192196547985077,
          2.4867208674550056,
          12.816208600997925,
          3.300264850258827,
          2.3964356631040573,
          25.87692439556122,
          6.902209669351578,
          13.63750845193863,
          3.8965724408626556,
          13.787712156772614,
          1.261375192552805,
          15.651929378509521,
          1.420152559876442,
          4.98480349779129,
          0,
          0,
          0.6364604458212852,
          0.35116837825626135,
          5.110882967710495,
          17.70787090063095,
          22.52776473760605,
          23.075325787067413,
          35.079118609428406,
          0.7679005153477192,
          1.9165759906172752,
          1.2188689783215523,
          0.9784048423171043,
          1.3975461944937706,
          0,
          2.408900484442711,
          1.3747451826930046,
          2.7139972895383835,
          8.78145694732666,
          8.739962428808212,
          8.435409516096115,
          19.409355521202087,
          16.83994084596634,
          40.17019867897034,
          0.2061457373201847,
          0.8797722868621349,
          2.3769093677401543,
          9.67409834265709,
          18.19451004266739,
          0.1886739395558834,
          1.5782639384269714,
          0.4006344825029373,
          6.195098906755447,
          0.660199485719204,
          1.1496145278215408,
          11.72684133052826,
          3.0648428946733475,
          23.653271794319153,
          2.124512754380703,
          10.273787379264832,
          0.8885994553565979,
          4.9114566296339035,
          0.4432301502674818,
          4.402660951018333,
          19.45732980966568,
          20.506082475185394,
          2.6697712019085884,
          16.121254861354828,
          20.028850436210632,
          29.854729771614075,
          2.0884979516267776,
          13.30350935459137,
          7.43187740445137,
          13.520658016204834,
          2.534717507660389,
          3.4495875239372253,
          1.769891381263733,
          3.806975856423378,
          0.8337031118571758,
          1.9138706848025322,
          0.4754813853651285,
          1.1115733534097672,
          0.12862937292084098,
          2.6913300156593323,
          2.4362776428461075,
          0.1320324488915503,
          0.5412440747022629,
          0.054347957484424114,
          0.057601003209128976,
          6.137460470199585,
          41.053035855293274,
          0.846682395786047,
          11.838667839765549,
          33.785104751586914,
          0.5818263627588749,
          9.894648939371109,
          0.13290044153109193,
          1.9288193434476852,
          2.9581865295767784,
          3.1779374927282333,
          3.809056431055069,
          11.300607025623322,
          0.6616608705371618,
          2.734140306711197,
          1.1720117181539536,
          0.8559810929000378,
          4.014531150460243,
          22.024737298488617,
          1.426144316792488,
          1.4221210032701492,
          0.4459682386368513,
          0.1452054362744093,
          54.90444302558899,
          69.38014030456543,
          2.5977101176977158,
          12.80396580696106,
          5.341826751828194,
          1.2641666457057,
          4.279298335313797,
          0.32248550560325384,
          18.340086936950684,
          8.186713606119156,
          14.694657921791077,
          0.04844420182053,
          0.9569340385496616,
          2.3560181260108948,
          3.5536326467990875,
          1.9368914887309074,
          4.029547423124313,
          30.79032301902771,
          0.2525211777538061,
          4.228305071592331,
          11.962464451789856,
          2.8132326900959015,
          4.208812490105629,
          1.4773547649383545,
          3.143467754125595,
          8.98783877491951,
          19.835922122001648,
          0.3155094338580966,
          0.5126241128891706,
          4.429890215396881,
          5.095837265253067,
          21.204374730587006,
          17.101095616817474,
          6.6169291734695435,
          4.132514446973801,
          0.16978401690721512,
          4.672697186470032,
          2.527458593249321,
          17.990608513355255,
          2.554049715399742,
          8.742344379425049,
          8.395073562860489,
          42.04973578453064,
          2.1720049902796745,
          5.258174240589142,
          2.0691482350230217,
          3.896106407046318,
          1.0816133581101894,
          3.2469384372234344,
          0.2825407078489661,
          2.1686702966690063,
          0.7937069982290268,
          1.1082037352025509,
          2.195521257817745,
          0,
          2.263081446290016,
          4.92294542491436,
          4.3328240513801575,
          26.798805594444275,
          0.36601691972464323,
          3.7974413484334946,
          16.127213835716248,
          26.01447105407715,
          1.3144269585609436,
          1.7318466678261757,
          4.718325287103653,
          29.05339002609253,
          7.8584544360637665,
          8.725956082344055,
          4.401709139347076,
          2.1849004551768303,
          32.055848836898804,
          10.353430360555649,
          18.404215574264526,
          4.428629577159882,
          10.905279219150543,
          1.3241009786725044,
          15.985378623008728,
          1.7291704192757607,
          5.634860321879387,
          0,
          0.37784536834806204,
          2.3879004642367363,
          0.662665581330657,
          14.301985502243042,
          26.57744288444519,
          33.19733142852783,
          29.039490222930908,
          42.97174513339996,
          0.6975621450692415,
          2.720147557556629,
          0.42059109546244144,
          2.7003439143300056,
          8.166056126356125,
          0.5161640234291553,
          3.6319956183433533,
          1.6025194898247719,
          3.3641286194324493,
          13.888615369796753,
          18.640176951885223,
          9.477424621582031,
          25.82308053970337,
          19.09697949886322,
          46.2018609046936,
          0.26302565820515156,
          0,
          5.9815578162670135,
          9.630850702524185,
          10.118091851472855,
          1.5016225166618824,
          2.874979004263878,
          0.979455653578043,
          17.676399648189545,
          0.7356902584433556,
          1.0238910093903542,
          19.11882609128952,
          2.6676472276449203,
          32.610735297203064,
          3.42167392373085,
          26.650413870811462,
          3.5105805844068527,
          10.956714302301407,
          1.088153664022684,
          5.332203209400177,
          22.741571068763733,
          27.518394589424133,
          2.6957422494888306,
          23.46397638320923,
          20.31736522912979,
          30.898278951644897,
          1.8108120188117027,
          16.09797775745392,
          8.2527294754982,
          15.442445874214172,
          2.535965107381344,
          6.780833750963211,
          1.8001815304160118,
          3.0721772462129593,
          1.687050238251686,
          4.270162805914879,
          0.8337722159922123,
          2.703837677836418,
          0.1965137431398034,
          4.512013867497444,
          2.9574939981102943,
          2.3100242018699646,
          2.9388869181275368,
          0,
          0.1086344476789236,
          7.818048447370529,
          48.77033233642578,
          2.5117695331573486,
          15.636588633060455,
          36.66800856590271,
          1.612008549273014,
          17.238837480545044,
          2.9511624947190285,
          2.6474934071302414,
          3.3398330211639404,
          5.600131303071976,
          3.067825362086296,
          12.023269385099411,
          0.9754950180649757,
          4.852748289704323,
          1.491404976695776,
          1.2990202754735947,
          5.449021607637405,
          33.74257981777191,
          3.5119127482175827,
          1.152720581740141,
          0.8072888478636742,
          1.214408129453659,
          51.555389165878296,
          69.95534896850586,
          3.2105911523103714,
          18.468599021434784,
          6.0404084622859955,
          2.387586608529091,
          6.607188284397125,
          0.7115598767995834,
          23.331966996192932,
          8.298573642969131,
          17.735186219215393,
          0,
          7.671203464269638,
          3.39687317609787,
          6.006466597318649,
          3.056778758764267,
          7.195771485567093,
          25.036588311195374,
          1.3732769526541233,
          3.8991540670394897,
          12.793077528476715,
          5.966878309845924,
          11.575820297002792,
          2.4746108800172806,
          5.842922627925873,
          10.92049926519394,
          25.19576847553253,
          0.33218623138964176,
          1.2837687507271767,
          7.711845636367798,
          3.1492359936237335,
          13.231196999549866,
          26.135480403900146,
          5.570907890796661,
          4.166799038648605,
          2.2131282836198807,
          8.352348953485489,
          2.360896021127701,
          20.582638680934906,
          3.9060287177562714,
          16.322869062423706,
          9.547913819551468,
          45.98800539970398,
          2.8138862922787666,
          7.436808198690414,
          1.5565023757517338,
          5.083092674612999,
          1.4572367072105408,
          6.445586681365967,
          0,
          8.783300966024399,
          6.772574782371521,
          1.5948520973324776,
          3.499937057495117,
          0,
          4.0226079523563385,
          5.609872564673424,
          4.063909873366356,
          22.738683223724365,
          0,
          3.4262314438819885,
          11.875899136066437,
          32.188594341278076,
          2.485128678381443,
          4.286404326558113,
          3.395257145166397,
          26.70081853866577,
          3.6813367158174515,
          10.994119197130203,
          4.326655343174934,
          4.659669101238251,
          40.682899951934814,
          9.874840825796127,
          20.250092446804047,
          3.812350705265999,
          15.291574597358704,
          1.217974629253149,
          24.70981627702713,
          2.6412827894091606,
          15.709143877029419,
          0,
          0.3970248159021139,
          1.7698520794510841,
          0.9092217311263084,
          20.29922902584076,
          25.60901641845703,
          37.14161813259125,
          26.713570952415466,
          50.716179609298706,
          1.2135642580688,
          5.574557930231094,
          2.0721489563584328,
          1.2061463668942451,
          7.321172207593918,
          0,
          7.615412771701813,
          2.708057127892971,
          6.430698186159134,
          9.572930634021759,
          16.91591590642929,
          13.240587711334229,
          28.90302836894989,
          20.0067400932312,
          43.00917088985443,
          0.3298982512205839,
          1.4689943753182888,
          1.3204391114413738,
          12.000852078199387,
          22.34298139810562,
          0.12853300431743264,
          2.2814417257905006,
          0.5598435644060373,
          7.606705278158188,
          0.7529874797910452,
          2.5432152673602104,
          17.794065177440643,
          3.3089883625507355,
          34.132808446884155,
          2.371915802359581,
          19.168953597545624,
          2.476157061755657,
          5.51346056163311,
          0.7852613925933838,
          4.684155434370041,
          19.91916298866272,
          23.053738474845886,
          4.0688615292310715,
          17.596256732940674,
          26.199716329574585,
          35.87464392185211,
          1.7891492694616318,
          14.472976326942444,
          9.807883203029633,
          16.82998687028885,
          1.7607228830456734,
          6.136469915509224,
          2.346271276473999,
          5.290685221552849,
          2.561607025563717,
          3.7544462829828262,
          0.30439167749136686,
          0.9837798774242401,
          0.16187530709430575,
          2.9457198455929756,
          2.9309188947081566,
          0.5821629427373409,
          1.3711278326809406,
          0.04202233103569597,
          0.4258639644831419,
          6.128049269318581,
          41.61880612373352,
          2.1434741094708443,
          11.875125020742416,
          40.24118781089783,
          1.4035611413419247,
          11.926072090864182,
          1.1415311135351658,
          1.8544502556324005,
          3.443766012787819,
          6.5048180520534515,
          4.175961390137672,
          14.335733652114868,
          0.2934412332251668,
          2.594986744225025,
          2.6711074635386467,
          2.257891185581684,
          4.194280505180359,
          23.637154698371887,
          4.535112157464027,
          0.8440119214355946,
          0.2681006444618106,
          0.9826906025409698,
          61.847251653671265,
          74.29749965667725,
          3.061782941222191,
          11.259261518716812,
          5.484249070286751,
          1.4915114268660545,
          4.802010208368301,
          0.6581698544323444,
          19.468124210834503,
          10.82421988248825,
          17.52902865409851,
          0.09814496152102947,
          1.1055557988584042,
          3.1538013368844986,
          5.096226930618286,
          2.2947147488594055,
          4.701177775859833,
          28.67739200592041,
          0.4071328788995743,
          4.561829194426537,
          11.733769625425339,
          2.510703168809414,
          3.4659914672374725,
          1.7748991027474403,
          3.8304101675748825,
          12.003523856401443,
          24.020245671272278,
          0.10606066789478064,
          0.4951715935021639,
          5.127120018005371,
          5.63676692545414,
          24.877941608428955,
          19.278275966644287,
          6.958780437707901,
          3.939274698495865,
          0.5319046322256327,
          4.951971769332886,
          4.680197313427925,
          20.2587753534317,
          2.5001075118780136,
          8.871187269687653,
          10.777727514505386,
          42.29502975940704,
          4.439641907811165,
          9.625741094350815,
          2.696576528251171,
          6.003971770405769,
          0.860679242759943,
          2.578016370534897,
          0.4778822883963585,
          4.297273606061935,
          6.957527995109558,
          1.5487306751310825,
          3.5081785172224045,
          0,
          2.16738935559988,
          3.7093371152877808,
          4.701613262295723,
          31.28633201122284,
          0.5427934229373932,
          2.9167626053094864,
          21.000202000141144,
          30.569425225257874,
          2.693355083465576,
          4.211831092834473,
          7.6424553990364075,
          34.729909896850586,
          10.563576966524124,
          11.030133068561554,
          4.644077271223068,
          3.1102318316698074,
          35.78561246395111,
          12.522636353969574,
          21.38945311307907,
          6.902951002120972,
          15.208806097507477,
          1.504951436072588,
          19.531188905239105,
          1.0138488374650478,
          6.8304382264614105,
          0,
          0.6966473069041967,
          2.0998967811465263,
          0.7782468106597662,
          15.383610129356384,
          35.88258922100067,
          39.32414650917053,
          40.76605439186096,
          50.4633903503418,
          0.6807633675634861,
          2.6745766401290894,
          1.0272913612425327,
          3.5548731684684753,
          12.027052789926529,
          0.6442267913371325,
          2.4004852399230003,
          1.8795328214764595,
          3.8694363087415695,
          16.38023853302002,
          19.916735589504242,
          11.38434112071991,
          27.059122920036316,
          22.505903244018555,
          51.45449638366699,
          0.2870155265554786,
          0.3958301618695259,
          0.8035353384912014,
          7.10487961769104,
          9.293076395988464,
          0.8639561012387276,
          0.7616137154400349,
          0,
          20.5984428524971,
          0.38357130251824856,
          1.0405381210148335,
          11.397690325975418,
          1.9108684733510017,
          28.43187153339386,
          1.594087854027748,
          14.411115646362305,
          1.2260779738426208,
          2.4505004286766052,
          0.56598917581141,
          0.8385514840483665,
          4.53149601817131,
          9.35189351439476,
          0.7131901104003191,
          3.590172901749611,
          20.90706080198288,
          27.85215973854065,
          0.2710894914343953,
          8.878156542778015,
          4.755247011780739,
          8.292435109615326,
          2.2455228492617607,
          6.393088400363922,
          1.2972017750144005,
          2.4596985429525375,
          0.9606574662029743,
          3.79653200507164,
          0.2109169028699398,
          0.234530889429152,
          0.030206175870262086,
          2.1639838814735413,
          0.9625867009162903,
          0.5709787830710411,
          1.0575048625469208,
          0,
          0,
          4.391411319375038,
          31.21313452720642,
          0,
          6.725938618183136,
          33.17176401615143,
          1.1773164384067059,
          9.963909536600113,
          0.6556656211614609,
          0.9274739772081375,
          1.7630727961659431,
          5.349471792578697,
          3.106488287448883,
          6.3973695039749146,
          0,
          0.42219897732138634,
          1.484842598438263,
          0.5898561794310808,
          0.4416846204549074,
          8.35387334227562,
          3.6141883581876755,
          0,
          0,
          0,
          50.60361623764038,
          57.38699436187744,
          3.3651940524578094,
          12.411457300186157,
          5.048474669456482,
          1.1660553514957428,
          1.7170310020446777,
          0,
          15.253464877605438,
          7.325153797864914,
          12.655974924564362,
          0,
          1.0556184686720371,
          2.5412656366825104,
          2.8845250606536865,
          1.8726537004113197,
          2.9799629002809525,
          18.362924456596375,
          0.108482432551682,
          2.211845852434635,
          8.774225413799286,
          2.589532732963562,
          0.702720507979393,
          1.3194047845900059,
          1.852516084909439,
          10.477525740861893,
          19.27163004875183,
          0.132225442212075,
          0.21129311062395573,
          1.1050504632294178,
          0.6879108026623726,
          7.379867136478424,
          16.46609455347061,
          5.719657614827156,
          3.722602128982544,
          0,
          2.670491114258766,
          1.5604839660227299,
          13.621905446052551,
          0,
          7.994280755519867,
          2.0415710285305977,
          33.45543444156647,
          3.226562589406967,
          8.281239867210388,
          2.246546186506748,
          1.284318882972002,
          0.1627946738153696,
          2.8251532465219498,
          0.28162882663309574,
          4.7000303864479065,
          4.189826920628548,
          1.386416144669056,
          1.4666852541267872,
          0,
          0.7752296980470419,
          3.290075436234474,
          1.9180839881300926,
          20.971311628818512,
          0.41871750727295876,
          0,
          16.203999519348145,
          26.981770992279053,
          1.8827268853783607,
          2.030135691165924,
          4.955191910266876,
          27.242612838745117,
          1.2496569193899632,
          6.807267665863037,
          3.5687699913978577,
          1.7730236053466797,
          31.94214105606079,
          8.719009906053543,
          14.956825971603394,
          5.489199981093407,
          13.529875874519348,
          0.8229726925492287,
          16.881895065307617,
          0.895288959145546,
          1.2356052175164223,
          0,
          0.5366429686546326,
          1.060560904443264,
          0,
          7.613607496023178,
          26.390987634658813,
          33.285194635391235,
          28.49077582359314,
          39.314839243888855,
          0.2422563498839736,
          0.7246247492730618,
          1.0974529199302197,
          0,
          6.291297823190689,
          0.12573975836858153,
          1.1600819416344166,
          1.7831122502684593,
          2.8190147131681442,
          6.021377816796303,
          12.17058077454567,
          3.938739001750946,
          14.524543285369873,
          12.56319284439087,
          31.905004382133484,
          0.3472262294963002,
          2.2649843245744705,
          4.3664392083883286,
          11.726238578557968,
          21.863213181495667,
          0.16247519524767995,
          3.45955453813076,
          0.821811705827713,
          8.25515016913414,
          3.757941350340843,
          5.56970052421093,
          34.20514166355133,
          10.324776917696,
          51.6277015209198,
          3.81278395652771,
          26.056230068206787,
          3.2292496412992477,
          9.701918810606003,
          1.0967769660055637,
          6.958481669425964,
          28.60337197780609,
          35.93003749847412,
          4.760141298174858,
          23.558776080608368,
          34.220027923583984,
          52.52671837806702,
          4.028110578656197,
          24.677839875221252,
          11.917497962713242,
          19.68015432357788,
          1.7419809475541115,
          6.567496806383133,
          2.5493772700428963,
          6.0672327876091,
          4.306270182132721,
          3.6966703832149506,
          0.6501801311969757,
          2.578442171216011,
          0.2084330189973116,
          3.546294942498207,
          3.6375753581523895,
          1.6190141439437866,
          2.2038523107767105,
          0.2052179304882884,
          2.13241595774889,
          9.277403354644775,
          56.23932480812073,
          2.498672530055046,
          18.258948624134064,
          46.20845317840576,
          2.7465613558888435,
          28.69929075241089,
          2.6470275595784187,
          3.357185795903206,
          5.552741512656212,
          7.2813913226127625,
          4.148344695568085,
          17.878390848636627,
          0.8399806916713715,
          5.578864738345146,
          3.2672885805368423,
          3.577481210231781,
          6.684341281652451,
          30.53608536720276,
          4.4737182557582855,
          1.264705415815115,
          0.6340417079627514,
          1.4506390318274498,
          66.5219783782959,
          83.89471173286438,
          3.0469879508018494,
          20.193183422088623,
          9.722564369440079,
          2.086026407778263,
          7.08470493555069,
          1.0591380298137665,
          33.21314752101898,
          16.892516613006592,
          29.49526309967041,
          0.15174702275544405,
          3.872675448656082,
          3.889605402946472,
          7.899960875511169,
          3.135323151946068,
          7.688191533088684,
          47.06405997276306,
          1.7962977290153503,
          15.09682685136795,
          28.30806076526642,
          4.116033762693405,
          7.936646789312363,
          2.57045216858387,
          6.657030433416367,
          16.668371856212616,
          41.84834957122803,
          0.22025282960385084,
          1.5931611880660057,
          10.463108122348785,
          6.544093042612076,
          27.47858464717865,
          48.39244186878204,
          7.491882145404816,
          4.4614724814891815,
          1.5135399997234344,
          7.5791142880916595,
          11.608724296092987,
          38.45821022987366,
          3.3247530460357666,
          11.21198982000351,
          17.52842217683792,
          49.35145080089569,
          14.564059674739838,
          17.593397200107574,
          2.338477596640587,
          9.180884808301926,
          1.596478559076786,
          4.495961219072342,
          0.572023494169116,
          10.242234915494919,
          13.260798156261444,
          1.6347918659448624,
          4.178817197680473,
          0,
          3.011546842753887,
          4.618169367313385,
          5.602918937802315,
          33.483877778053284,
          0.49385582096874714,
          4.349306598305702,
          29.783537983894348,
          58.267468214035034,
          3.5458073019981384,
          6.857721507549286,
          9.665555506944656,
          43.47464740276337,
          11.564530432224274,
          25.067654252052307,
          5.8533452451229095,
          5.260273814201355,
          64.89959955215454,
          15.995201468467712,
          29.83529567718506,
          7.517796754837036,
          27.596718072891235,
          2.983632870018482,
          29.98102605342865,
          1.8950140103697777,
          16.096770763397217,
          0,
          0.7186145056039095,
          2.8333812952041626,
          1.184106431901455,
          20.696255564689636,
          56.35104179382324,
          57.044750452041626,
          45.80259323120117,
          66.33827090263367,
          1.361676212400198,
          5.422786623239517,
          1.3165997341275215,
          4.079897329211235,
          12.398862838745117,
          0.643577566370368,
          5.047560855746269,
          2.292584627866745,
          5.719085410237312,
          17.56334900856018,
          21.74317240715027,
          21.709197759628296,
          40.51559865474701,
          27.379173040390015,
          58.104705810546875,
          0,
          0.3606787184253335,
          0.4945659078657627,
          7.017100602388382,
          15.585900843143463,
          1.0823271237313747,
          1.1320526711642742,
          0.3406480886042118,
          7.557441294193268,
          0,
          0.26415104512125254,
          13.506491482257843,
          2.070268802344799,
          21.11714631319046,
          1.5797598287463188,
          14.571692049503326,
          0.9500117972493172,
          6.808082014322281,
          0.6320260930806398,
          2.2592518478631973,
          7.242308557033539,
          12.483213096857071,
          2.6396505534648895,
          11.294939368963242,
          19.19388920068741,
          27.091559767723083,
          0.7400082889944315,
          7.170712947845459,
          6.9673992693424225,
          11.660876125097275,
          0.10819734307006001,
          5.999251827597618,
          2.698102407157421,
          4.406022280454636,
          2.137151174247265,
          3.204527497291565,
          0.24370402097702026,
          0.586805259808898,
          0.03129083779640496,
          2.293100766837597,
          0.22217694204300642,
          0,
          0.23700029123574495,
          0,
          0,
          4.659874364733696,
          36.75220012664795,
          0.8009389042854309,
          10.049327462911606,
          32.02511668205261,
          0.49900636076927185,
          12.15929314494133,
          0.872864481061697,
          0.87646609172225,
          2.373186871409416,
          5.556182190775871,
          2.1426167339086533,
          6.5080709755420685,
          0.28042763005942106,
          1.6765648499131203,
          0.9652678854763508,
          0.7471430115401745,
          0.9742869064211845,
          20.36500722169876,
          2.9643524438142776,
          0.5616056267172098,
          0,
          0,
          51.84417366981506,
          59.36466455459595,
          0.3645308781415224,
          9.247436374425888,
          4.7357480973005295,
          1.3258739374578,
          2.83493809401989,
          0.2384839579463005,
          16.672086715698242,
          6.0283903032541275,
          12.814278900623322,
          0.06395484670065343,
          1.5967300161719322,
          2.1102728322148323,
          3.217712417244911,
          1.5667710453271866,
          3.388669341802597,
          15.639123320579529,
          0.3002073848620057,
          2.085527405142784,
          8.877648413181305,
          2.334838919341564,
          2.252357639372349,
          1.2462742626667023,
          2.623029612004757,
          11.580357700586319,
          21.16589844226837,
          0,
          0.5455695558339357,
          4.15424183011055,
          0.6809630896896124,
          13.14498484134674,
          11.625517159700394,
          4.057806730270386,
          3.2741189002990723,
          0,
          3.894861415028572,
          1.2155411764979362,
          10.39375364780426,
          2.3036157712340355,
          9.737443923950195,
          3.225564956665039,
          29.15157973766327,
          2.7947789058089256,
          6.711240857839584,
          1.8606515601277351,
          2.785203419625759,
          0.15333177288994193,
          3.7953507155179977,
          0.24411347694694996,
          5.258793011307716,
          3.208296000957489,
          1.2569949962198734,
          1.5912821516394615,
          0,
          1.6652099788188934,
          3.060104139149189,
          0.7232204545289278,
          22.284431755542755,
          0.10675638914108276,
          1.702149398624897,
          6.76453709602356,
          15.230284631252289,
          1.4111898839473724,
          2.271241508424282,
          2.518302761018276,
          26.822683215141296,
          3.7405040115118027,
          6.577862054109573,
          3.3537425100803375,
          2.22909078001976,
          26.658129692077637,
          8.118334412574768,
          15.283823013305664,
          3.09293232858181,
          9.915740042924881,
          0.523644220083952,
          16.40550047159195,
          0,
          3.3229827880859375,
          0,
          0,
          1.7516443505883217,
          0.15640677884221077,
          11.966495960950851,
          18.062320351600647,
          30.368751287460327,
          21.3327094912529,
          39.62973654270172,
          0.4592244978994131,
          2.0116087049245834,
          0.8724736981093884,
          1.977306604385376,
          5.8035265654325485,
          0.21735196933150291,
          0.9778845123946667,
          1.3032807037234306,
          2.8412846848368645,
          8.856257051229477,
          12.06066682934761,
          5.484503507614136,
          18.514013290405273,
          9.967928379774094,
          40.23011326789856,
          0.5071995314210653,
          1.2819541618227959,
          3.6312274634838104,
          14.651012420654297,
          25.150415301322937,
          0,
          3.2702162861824036,
          0.8688809350132942,
          11.220128834247589,
          1.2415817007422447,
          3.182471916079521,
          21.145768463611603,
          3.753243014216423,
          40.9513920545578,
          3.4325752407312393,
          25.687143206596375,
          3.9933238178491592,
          7.326896488666534,
          1.0079557076096535,
          6.551865488290787,
          29.670807719230652,
          32.269737124443054,
          4.554178938269615,
          23.56545329093933,
          27.634504437446594,
          38.661810755729675,
          2.498519979417324,
          20.435839891433716,
          10.700872540473938,
          19.038528203964233,
          3.2256916165351868,
          6.397013366222382,
          1.8887374550104141,
          4.9575213342905045,
          2.4382390081882477,
          4.351919889450073,
          0.4924934357404709,
          1.717754453420639,
          0.25499281473457813,
          3.8622502237558365,
          4.74465936422348,
          1.9056355580687523,
          2.8261739760637283,
          0.04628621099982411,
          0.5263150669634342,
          7.973439246416092,
          48.12779128551483,
          3.130089119076729,
          14.973282814025879,
          43.54652762413025,
          2.121474966406822,
          14.859350025653839,
          2.3684021085500717,
          2.9513677582144737,
          4.0984079241752625,
          6.621676683425903,
          4.873118177056313,
          18.18668842315674,
          0.5615281872451305,
          4.0874578058719635,
          3.2751739025115967,
          2.825477533042431,
          6.862594187259674,
          30.228465795516968,
          5.047928914427757,
          1.1528344824910164,
          0.7799032609909773,
          1.7664602026343346,
          62.73956298828125,
          81.93062543869019,
          4.9225471913814545,
          15.976172685623169,
          6.273121386766434,
          1.9819073379039764,
          6.848008930683136,
          0.9587286971509457,
          23.62043410539627,
          12.669149041175842,
          20.699943602085114,
          0.08507152670063078,
          2.967751771211624,
          3.958366811275482,
          6.766422837972641,
          3.063967265188694,
          6.556613743305206,
          35.63064932823181,
          0.8649309165775776,
          5.856486037373543,
          14.152057468891144,
          4.149401932954788,
          7.661853730678558,
          2.382049150764942,
          5.395441874861717,
          11.683657020330429,
          26.535236835479736,
          0.27286068070679903,
          0.7871145382523537,
          6.887113302946091,
          7.875675708055496,
          27.694934606552124,
          28.670209646224976,
          8.094479143619537,
          4.504544287919998,
          1.4361237175762653,
          6.779754161834717,
          5.591581389307976,
          26.87551975250244,
          3.196961432695389,
          11.628755927085876,
          15.092548727989197,
          52.92084217071533,
          4.553196579217911,
          10.05089282989502,
          2.5837108492851257,
          7.480074465274811,
          1.65281742811203,
          4.0152642875909805,
          0.3969381097704172,
          6.158242374658585,
          9.330294281244278,
          1.758093573153019,
          4.774278029799461,
          0,
          3.2796937972307205,
          5.001457035541534,
          7.02638179063797,
          33.275431394577026,
          0.6996126379817724,
          3.8468874990940094,
          25.641480088233948,
          41.70125424861908,
          3.448726609349251,
          5.537742003798485,
          8.615576475858688,
          35.110434889793396,
          13.40455710887909,
          13.969425857067108,
          5.358430743217468,
          4.4294897466897964,
          43.98879408836365,
          14.035394787788391,
          24.632613360881805,
          7.519884407520294,
          18.778416514396667,
          1.999305747449398,
          24.822698533535004,
          2.1658940240740776,
          11.543117463588715,
          0,
          1.0294833220541477,
          2.2271107882261276,
          1.1310475878417492,
          19.354163110256195,
          41.88370406627655,
          43.946582078933716,
          44.25384700298309,
          57.82567858695984,
          0.9823341853916645,
          3.960622474551201,
          1.4736829325556755,
          3.6438316106796265,
          14.399740099906921,
          0.6813688203692436,
          5.18052913248539,
          2.5523757562041283,
          5.484093353152275,
          18.134011328220367,
          23.623278737068176,
          16.53142124414444,
          34.05721187591553,
          29.326534271240234,
          54.13697361946106,
          0.23571718484163284,
          0.8522351272404194,
          1.8531709909439087,
          16.404296457767487,
          13.669967651367188,
          0.21799143869429827,
          1.4342427253723145,
          0.5280736368149519,
          10.638077557086945,
          0.6685006897896528,
          1.3104809448122978,
          16.166454553604126,
          3.044094517827034,
          30.847609043121338,
          1.8906043842434883,
          22.00716882944107,
          3.0134789645671844,
          7.267932593822479,
          0.4057548474520445,
          3.972526267170906,
          21.335290372371674,
          22.152692079544067,
          1.370769925415516,
          15.502230823040009,
          22.45793044567108,
          31.298166513442993,
          0.9800562635064125,
          11.343302577733994,
          9.69519168138504,
          13.719268143177032,
          0.0983250793069601,
          7.843109965324402,
          2.3573828861117363,
          3.6723624914884567,
          1.8126949667930603,
          4.7833263874053955,
          0.3119621891528368,
          0.819081999361515,
          0.015763351984787732,
          2.472817152738571,
          2.1003350615501404,
          0.726194167509675,
          0.748788844794035,
          0.03127352683804929,
          0.3159039421007037,
          5.06916344165802,
          36.49970293045044,
          2.2039303556084633,
          11.953506618738174,
          35.40630340576172,
          1.2027518823742867,
          10.4531928896904,
          2.090781554579735,
          1.7162786796689034,
          3.163846582174301,
          6.4641110599040985,
          2.934790588915348,
          10.591166466474533,
          0.41097719222307205,
          3.048704005777836,
          1.8615525215864182,
          1.297583244740963,
          3.5519279539585114,
          22.703030705451965,
          3.120947629213333,
          1.0607129894196987,
          0,
          0.8218106813728809,
          56.71651363372803,
          72.58549332618713,
          2.7315527200698853,
          12.545116245746613,
          4.680792987346649,
          1.5652559697628021,
          4.37924824655056,
          0.3524092258885503,
          20.47494351863861,
          9.15263295173645,
          16.20142012834549,
          0.05951737402938306,
          1.9486557692289352,
          2.9188740998506546,
          5.05499541759491,
          2.3468146100640297,
          4.729340597987175,
          26.96300446987152,
          0.2386196982115507,
          2.3588763549923897,
          9.91482213139534,
          3.596523404121399,
          3.955097123980522,
          1.7770342528820038,
          3.637465462088585,
          11.459831893444061,
          20.64443826675415,
          0.2360382117331028,
          0.3186414949595928,
          4.215005412697792,
          4.783947393298149,
          21.53375595808029,
          18.196670711040497,
          4.757331311702728,
          1.7097672447562218,
          0.7193836849182844,
          5.601687729358673,
          3.067910857498646,
          19.046461582183838,
          2.87589393556118,
          8.218519389629364,
          5.749798938632011,
          38.90812695026398,
          3.66155207157135,
          7.102011144161224,
          1.7764031887054443,
          2.6450198143720627,
          0.93643544241786,
          3.807540610432625,
          0.33977876883000135,
          6.248869746923447,
          6.354477256536484,
          1.295747235417366,
          1.618906855583191,
          0,
          1.9296444952487946,
          3.4055452793836594,
          2.4819523096084595,
          26.83863937854767,
          0.20099328830838203,
          1.9443189725279808,
          16.766934096813202,
          29.714137315750122,
          2.127857878804207,
          3.907409682869911,
          5.712667480111122,
          28.1441867351532,
          0,
          7.969316095113754,
          4.438519477844238,
          3.711814433336258,
          30.37455379962921,
          11.104077100753784,
          19.48402374982834,
          5.839261040091515,
          15.075688064098358,
          1.2202524580061436,
          23.071524500846863,
          1.0423166677355766,
          5.394980311393738,
          0,
          0.22235680371522903,
          1.4417567290365696,
          0,
          13.339686393737793,
          28.465688228607178,
          37.75206208229065,
          34.285932779312134,
          50.123512744903564,
          0.5707274191081524,
          2.0796025171875954,
          2.056434378027916,
          2.0093077793717384,
          9.131504595279694,
          0.3204709617421031,
          2.296600677073002,
          2.0517131313681602,
          4.15782518684864,
          14.00289535522461,
          19.135773181915283,
          11.313866078853607,
          25.511541962623596,
          19.088222086429596,
          42.68935024738312
         ],
         "y0": " ",
         "yaxis": "y"
        }
       ],
       "layout": {
        "boxmode": "group",
        "legend": {
         "tracegroupgap": 0
        },
        "margin": {
         "t": 60
        },
        "template": {
         "data": {
          "bar": [
           {
            "error_x": {
             "color": "#2a3f5f"
            },
            "error_y": {
             "color": "#2a3f5f"
            },
            "marker": {
             "line": {
              "color": "#E5ECF6",
              "width": 0.5
             }
            },
            "type": "bar"
           }
          ],
          "barpolar": [
           {
            "marker": {
             "line": {
              "color": "#E5ECF6",
              "width": 0.5
             }
            },
            "type": "barpolar"
           }
          ],
          "carpet": [
           {
            "aaxis": {
             "endlinecolor": "#2a3f5f",
             "gridcolor": "white",
             "linecolor": "white",
             "minorgridcolor": "white",
             "startlinecolor": "#2a3f5f"
            },
            "baxis": {
             "endlinecolor": "#2a3f5f",
             "gridcolor": "white",
             "linecolor": "white",
             "minorgridcolor": "white",
             "startlinecolor": "#2a3f5f"
            },
            "type": "carpet"
           }
          ],
          "choropleth": [
           {
            "colorbar": {
             "outlinewidth": 0,
             "ticks": ""
            },
            "type": "choropleth"
           }
          ],
          "contour": [
           {
            "colorbar": {
             "outlinewidth": 0,
             "ticks": ""
            },
            "colorscale": [
             [
              0,
              "#0d0887"
             ],
             [
              0.1111111111111111,
              "#46039f"
             ],
             [
              0.2222222222222222,
              "#7201a8"
             ],
             [
              0.3333333333333333,
              "#9c179e"
             ],
             [
              0.4444444444444444,
              "#bd3786"
             ],
             [
              0.5555555555555556,
              "#d8576b"
             ],
             [
              0.6666666666666666,
              "#ed7953"
             ],
             [
              0.7777777777777778,
              "#fb9f3a"
             ],
             [
              0.8888888888888888,
              "#fdca26"
             ],
             [
              1,
              "#f0f921"
             ]
            ],
            "type": "contour"
           }
          ],
          "contourcarpet": [
           {
            "colorbar": {
             "outlinewidth": 0,
             "ticks": ""
            },
            "type": "contourcarpet"
           }
          ],
          "heatmap": [
           {
            "colorbar": {
             "outlinewidth": 0,
             "ticks": ""
            },
            "colorscale": [
             [
              0,
              "#0d0887"
             ],
             [
              0.1111111111111111,
              "#46039f"
             ],
             [
              0.2222222222222222,
              "#7201a8"
             ],
             [
              0.3333333333333333,
              "#9c179e"
             ],
             [
              0.4444444444444444,
              "#bd3786"
             ],
             [
              0.5555555555555556,
              "#d8576b"
             ],
             [
              0.6666666666666666,
              "#ed7953"
             ],
             [
              0.7777777777777778,
              "#fb9f3a"
             ],
             [
              0.8888888888888888,
              "#fdca26"
             ],
             [
              1,
              "#f0f921"
             ]
            ],
            "type": "heatmap"
           }
          ],
          "heatmapgl": [
           {
            "colorbar": {
             "outlinewidth": 0,
             "ticks": ""
            },
            "colorscale": [
             [
              0,
              "#0d0887"
             ],
             [
              0.1111111111111111,
              "#46039f"
             ],
             [
              0.2222222222222222,
              "#7201a8"
             ],
             [
              0.3333333333333333,
              "#9c179e"
             ],
             [
              0.4444444444444444,
              "#bd3786"
             ],
             [
              0.5555555555555556,
              "#d8576b"
             ],
             [
              0.6666666666666666,
              "#ed7953"
             ],
             [
              0.7777777777777778,
              "#fb9f3a"
             ],
             [
              0.8888888888888888,
              "#fdca26"
             ],
             [
              1,
              "#f0f921"
             ]
            ],
            "type": "heatmapgl"
           }
          ],
          "histogram": [
           {
            "marker": {
             "colorbar": {
              "outlinewidth": 0,
              "ticks": ""
             }
            },
            "type": "histogram"
           }
          ],
          "histogram2d": [
           {
            "colorbar": {
             "outlinewidth": 0,
             "ticks": ""
            },
            "colorscale": [
             [
              0,
              "#0d0887"
             ],
             [
              0.1111111111111111,
              "#46039f"
             ],
             [
              0.2222222222222222,
              "#7201a8"
             ],
             [
              0.3333333333333333,
              "#9c179e"
             ],
             [
              0.4444444444444444,
              "#bd3786"
             ],
             [
              0.5555555555555556,
              "#d8576b"
             ],
             [
              0.6666666666666666,
              "#ed7953"
             ],
             [
              0.7777777777777778,
              "#fb9f3a"
             ],
             [
              0.8888888888888888,
              "#fdca26"
             ],
             [
              1,
              "#f0f921"
             ]
            ],
            "type": "histogram2d"
           }
          ],
          "histogram2dcontour": [
           {
            "colorbar": {
             "outlinewidth": 0,
             "ticks": ""
            },
            "colorscale": [
             [
              0,
              "#0d0887"
             ],
             [
              0.1111111111111111,
              "#46039f"
             ],
             [
              0.2222222222222222,
              "#7201a8"
             ],
             [
              0.3333333333333333,
              "#9c179e"
             ],
             [
              0.4444444444444444,
              "#bd3786"
             ],
             [
              0.5555555555555556,
              "#d8576b"
             ],
             [
              0.6666666666666666,
              "#ed7953"
             ],
             [
              0.7777777777777778,
              "#fb9f3a"
             ],
             [
              0.8888888888888888,
              "#fdca26"
             ],
             [
              1,
              "#f0f921"
             ]
            ],
            "type": "histogram2dcontour"
           }
          ],
          "mesh3d": [
           {
            "colorbar": {
             "outlinewidth": 0,
             "ticks": ""
            },
            "type": "mesh3d"
           }
          ],
          "parcoords": [
           {
            "line": {
             "colorbar": {
              "outlinewidth": 0,
              "ticks": ""
             }
            },
            "type": "parcoords"
           }
          ],
          "pie": [
           {
            "automargin": true,
            "type": "pie"
           }
          ],
          "scatter": [
           {
            "marker": {
             "colorbar": {
              "outlinewidth": 0,
              "ticks": ""
             }
            },
            "type": "scatter"
           }
          ],
          "scatter3d": [
           {
            "line": {
             "colorbar": {
              "outlinewidth": 0,
              "ticks": ""
             }
            },
            "marker": {
             "colorbar": {
              "outlinewidth": 0,
              "ticks": ""
             }
            },
            "type": "scatter3d"
           }
          ],
          "scattercarpet": [
           {
            "marker": {
             "colorbar": {
              "outlinewidth": 0,
              "ticks": ""
             }
            },
            "type": "scattercarpet"
           }
          ],
          "scattergeo": [
           {
            "marker": {
             "colorbar": {
              "outlinewidth": 0,
              "ticks": ""
             }
            },
            "type": "scattergeo"
           }
          ],
          "scattergl": [
           {
            "marker": {
             "colorbar": {
              "outlinewidth": 0,
              "ticks": ""
             }
            },
            "type": "scattergl"
           }
          ],
          "scattermapbox": [
           {
            "marker": {
             "colorbar": {
              "outlinewidth": 0,
              "ticks": ""
             }
            },
            "type": "scattermapbox"
           }
          ],
          "scatterpolar": [
           {
            "marker": {
             "colorbar": {
              "outlinewidth": 0,
              "ticks": ""
             }
            },
            "type": "scatterpolar"
           }
          ],
          "scatterpolargl": [
           {
            "marker": {
             "colorbar": {
              "outlinewidth": 0,
              "ticks": ""
             }
            },
            "type": "scatterpolargl"
           }
          ],
          "scatterternary": [
           {
            "marker": {
             "colorbar": {
              "outlinewidth": 0,
              "ticks": ""
             }
            },
            "type": "scatterternary"
           }
          ],
          "surface": [
           {
            "colorbar": {
             "outlinewidth": 0,
             "ticks": ""
            },
            "colorscale": [
             [
              0,
              "#0d0887"
             ],
             [
              0.1111111111111111,
              "#46039f"
             ],
             [
              0.2222222222222222,
              "#7201a8"
             ],
             [
              0.3333333333333333,
              "#9c179e"
             ],
             [
              0.4444444444444444,
              "#bd3786"
             ],
             [
              0.5555555555555556,
              "#d8576b"
             ],
             [
              0.6666666666666666,
              "#ed7953"
             ],
             [
              0.7777777777777778,
              "#fb9f3a"
             ],
             [
              0.8888888888888888,
              "#fdca26"
             ],
             [
              1,
              "#f0f921"
             ]
            ],
            "type": "surface"
           }
          ],
          "table": [
           {
            "cells": {
             "fill": {
              "color": "#EBF0F8"
             },
             "line": {
              "color": "white"
             }
            },
            "header": {
             "fill": {
              "color": "#C8D4E3"
             },
             "line": {
              "color": "white"
             }
            },
            "type": "table"
           }
          ]
         },
         "layout": {
          "annotationdefaults": {
           "arrowcolor": "#2a3f5f",
           "arrowhead": 0,
           "arrowwidth": 1
          },
          "coloraxis": {
           "colorbar": {
            "outlinewidth": 0,
            "ticks": ""
           }
          },
          "colorscale": {
           "diverging": [
            [
             0,
             "#8e0152"
            ],
            [
             0.1,
             "#c51b7d"
            ],
            [
             0.2,
             "#de77ae"
            ],
            [
             0.3,
             "#f1b6da"
            ],
            [
             0.4,
             "#fde0ef"
            ],
            [
             0.5,
             "#f7f7f7"
            ],
            [
             0.6,
             "#e6f5d0"
            ],
            [
             0.7,
             "#b8e186"
            ],
            [
             0.8,
             "#7fbc41"
            ],
            [
             0.9,
             "#4d9221"
            ],
            [
             1,
             "#276419"
            ]
           ],
           "sequential": [
            [
             0,
             "#0d0887"
            ],
            [
             0.1111111111111111,
             "#46039f"
            ],
            [
             0.2222222222222222,
             "#7201a8"
            ],
            [
             0.3333333333333333,
             "#9c179e"
            ],
            [
             0.4444444444444444,
             "#bd3786"
            ],
            [
             0.5555555555555556,
             "#d8576b"
            ],
            [
             0.6666666666666666,
             "#ed7953"
            ],
            [
             0.7777777777777778,
             "#fb9f3a"
            ],
            [
             0.8888888888888888,
             "#fdca26"
            ],
            [
             1,
             "#f0f921"
            ]
           ],
           "sequentialminus": [
            [
             0,
             "#0d0887"
            ],
            [
             0.1111111111111111,
             "#46039f"
            ],
            [
             0.2222222222222222,
             "#7201a8"
            ],
            [
             0.3333333333333333,
             "#9c179e"
            ],
            [
             0.4444444444444444,
             "#bd3786"
            ],
            [
             0.5555555555555556,
             "#d8576b"
            ],
            [
             0.6666666666666666,
             "#ed7953"
            ],
            [
             0.7777777777777778,
             "#fb9f3a"
            ],
            [
             0.8888888888888888,
             "#fdca26"
            ],
            [
             1,
             "#f0f921"
            ]
           ]
          },
          "colorway": [
           "#636efa",
           "#EF553B",
           "#00cc96",
           "#ab63fa",
           "#FFA15A",
           "#19d3f3",
           "#FF6692",
           "#B6E880",
           "#FF97FF",
           "#FECB52"
          ],
          "font": {
           "color": "#2a3f5f"
          },
          "geo": {
           "bgcolor": "white",
           "lakecolor": "white",
           "landcolor": "#E5ECF6",
           "showlakes": true,
           "showland": true,
           "subunitcolor": "white"
          },
          "hoverlabel": {
           "align": "left"
          },
          "hovermode": "closest",
          "mapbox": {
           "style": "light"
          },
          "paper_bgcolor": "white",
          "plot_bgcolor": "#E5ECF6",
          "polar": {
           "angularaxis": {
            "gridcolor": "white",
            "linecolor": "white",
            "ticks": ""
           },
           "bgcolor": "#E5ECF6",
           "radialaxis": {
            "gridcolor": "white",
            "linecolor": "white",
            "ticks": ""
           }
          },
          "scene": {
           "xaxis": {
            "backgroundcolor": "#E5ECF6",
            "gridcolor": "white",
            "gridwidth": 2,
            "linecolor": "white",
            "showbackground": true,
            "ticks": "",
            "zerolinecolor": "white"
           },
           "yaxis": {
            "backgroundcolor": "#E5ECF6",
            "gridcolor": "white",
            "gridwidth": 2,
            "linecolor": "white",
            "showbackground": true,
            "ticks": "",
            "zerolinecolor": "white"
           },
           "zaxis": {
            "backgroundcolor": "#E5ECF6",
            "gridcolor": "white",
            "gridwidth": 2,
            "linecolor": "white",
            "showbackground": true,
            "ticks": "",
            "zerolinecolor": "white"
           }
          },
          "shapedefaults": {
           "line": {
            "color": "#2a3f5f"
           }
          },
          "ternary": {
           "aaxis": {
            "gridcolor": "white",
            "linecolor": "white",
            "ticks": ""
           },
           "baxis": {
            "gridcolor": "white",
            "linecolor": "white",
            "ticks": ""
           },
           "bgcolor": "#E5ECF6",
           "caxis": {
            "gridcolor": "white",
            "linecolor": "white",
            "ticks": ""
           }
          },
          "title": {
           "x": 0.05
          },
          "xaxis": {
           "automargin": true,
           "gridcolor": "white",
           "linecolor": "white",
           "ticks": "",
           "title": {
            "standoff": 15
           },
           "zerolinecolor": "white",
           "zerolinewidth": 2
          },
          "yaxis": {
           "automargin": true,
           "gridcolor": "white",
           "linecolor": "white",
           "ticks": "",
           "title": {
            "standoff": 15
           },
           "zerolinecolor": "white",
           "zerolinewidth": 2
          }
         }
        },
        "xaxis": {
         "anchor": "y",
         "domain": [
          0,
          1
         ],
         "title": {
          "text": "group"
         }
        },
        "yaxis": {
         "anchor": "x",
         "domain": [
          0,
          1
         ],
         "title": {
          "text": "value"
         }
        }
       }
      },
      "text/html": [
       "<div>                            <div id=\"342be182-d657-4e56-8c91-5057d49e65ce\" class=\"plotly-graph-div\" style=\"height:525px; width:100%;\"></div>            <script type=\"text/javascript\">                require([\"plotly\"], function(Plotly) {                    window.PLOTLYENV=window.PLOTLYENV || {};                                    if (document.getElementById(\"342be182-d657-4e56-8c91-5057d49e65ce\")) {                    Plotly.newPlot(                        \"342be182-d657-4e56-8c91-5057d49e65ce\",                        [{\"alignmentgroup\": \"True\", \"hovertemplate\": \"group=%{x}<br>value=%{y}<extra></extra>\", \"legendgroup\": \"\", \"marker\": {\"color\": \"#636efa\"}, \"name\": \"\", \"notched\": false, \"offsetgroup\": \"\", \"orientation\": \"v\", \"showlegend\": false, \"type\": \"box\", \"x\": [\"General\", \"General\", \"General\", \"General\", \"General\", \"General\", \"General\", \"General\", \"General\", \"General\", \"General\", \"General\", \"General\", \"General\", \"General\", \"General\", \"General\", \"General\", \"General\", \"General\", \"General\", \"General\", \"General\", \"General\", \"General\", \"General\", \"General\", \"General\", \"General\", \"General\", \"General\", \"General\", \"General\", \"General\", \"General\", \"General\", \"General\", \"General\", \"General\", \"General\", \"General\", \"General\", \"General\", \"General\", \"General\", \"General\", \"General\", \"General\", \"General\", \"General\", \"General\", \"General\", \"General\", \"General\", \"General\", \"General\", \"General\", \"General\", \"General\", \"General\", \"General\", \"General\", \"General\", \"General\", \"General\", \"General\", \"General\", \"General\", \"General\", \"General\", \"General\", \"General\", \"General\", \"General\", \"General\", \"General\", \"General\", \"General\", \"General\", \"General\", \"General\", \"General\", \"General\", \"General\", \"General\", \"General\", \"General\", \"General\", \"General\", \"General\", \"General\", \"General\", \"General\", \"General\", \"General\", \"General\", \"General\", \"General\", \"General\", \"General\", \"General\", \"General\", \"General\", \"General\", \"General\", \"General\", \"General\", \"General\", \"General\", \"General\", \"General\", \"General\", \"General\", \"General\", \"General\", \"General\", \"General\", \"General\", \"General\", \"General\", \"General\", \"General\", \"General\", \"General\", \"General\", \"General\", \"General\", \"General\", \"General\", \"General\", \"General\", \"General\", \"General\", \"General\", \"General\", \"General\", \"General\", \"General\", \"General\", \"General\", \"General\", \"General\", \"General\", \"General\", \"General\", \"General\", \"General\", \"General\", \"General\", \"General\", \"General\", \"General\", \"General\", \"General\", \"General\", \"General\", \"General\", \"General\", \"General\", \"General\", \"General\", \"General\", \"General\", \"General\", \"General\", \"General\", \"General\", \"General\", \"General\", \"General\", \"General\", \"General\", \"Male\", \"Male\", \"Male\", \"Male\", \"Male\", \"Male\", \"Male\", \"Male\", \"Male\", \"Male\", \"Male\", \"Male\", \"Male\", \"Male\", \"Male\", \"Male\", \"Male\", \"Male\", \"Male\", \"Male\", \"Male\", \"Male\", \"Male\", \"Male\", \"Male\", \"Male\", \"Male\", \"Male\", \"Male\", \"Male\", \"Male\", \"Male\", \"Male\", \"Male\", \"Male\", \"Male\", \"Male\", \"Male\", \"Male\", \"Male\", \"Male\", \"Male\", \"Male\", \"Male\", \"Male\", \"Male\", \"Male\", \"Male\", \"Male\", \"Male\", \"Male\", \"Male\", \"Male\", \"Male\", \"Male\", \"Male\", \"Male\", \"Male\", \"Male\", \"Male\", \"Male\", \"Male\", \"Male\", \"Male\", \"Male\", \"Male\", \"Male\", \"Male\", \"Male\", \"Male\", \"Male\", \"Male\", \"Male\", \"Male\", \"Male\", \"Male\", \"Male\", \"Male\", \"Male\", \"Male\", \"Male\", \"Male\", \"Male\", \"Male\", \"Male\", \"Male\", \"Male\", \"Male\", \"Male\", \"Male\", \"Male\", \"Male\", \"Male\", \"Male\", \"Male\", \"Male\", \"Male\", \"Male\", \"Male\", \"Male\", \"Male\", \"Male\", \"Male\", \"Male\", \"Male\", \"Male\", \"Male\", \"Male\", \"Male\", \"Male\", \"Male\", \"Male\", \"Male\", \"Male\", \"Male\", \"Male\", \"Male\", \"Male\", \"Male\", \"Male\", \"Male\", \"Male\", \"Male\", \"Male\", \"Male\", \"Male\", \"Male\", \"Male\", \"Male\", \"Male\", \"Male\", \"Male\", \"Male\", \"Male\", \"Male\", \"Male\", \"Male\", \"Male\", \"Male\", \"Male\", \"Male\", \"Male\", \"Male\", \"Male\", \"Male\", \"Male\", \"Male\", \"Male\", \"Male\", \"Male\", \"Male\", \"Male\", \"Male\", \"Male\", \"Male\", \"Male\", \"Male\", \"Male\", \"Male\", \"Male\", \"Male\", \"Male\", \"Male\", \"Male\", \"Male\", \"Male\", \"Male\", \"Male\", \"Male\", \"Male\", \"Male\", \"Male\", \"In Labor Force\", \"In Labor Force\", \"In Labor Force\", \"In Labor Force\", \"In Labor Force\", \"In Labor Force\", \"In Labor Force\", \"In Labor Force\", \"In Labor Force\", \"In Labor Force\", \"In Labor Force\", \"In Labor Force\", \"In Labor Force\", \"In Labor Force\", \"In Labor Force\", \"In Labor Force\", \"In Labor Force\", \"In Labor Force\", \"In Labor Force\", \"In Labor Force\", \"In Labor Force\", \"In Labor Force\", \"In Labor Force\", \"In Labor Force\", \"In Labor Force\", \"In Labor Force\", \"In Labor Force\", \"In Labor Force\", \"In Labor Force\", \"In Labor Force\", \"In Labor Force\", \"In Labor Force\", \"In Labor Force\", \"In Labor Force\", \"In Labor Force\", \"In Labor Force\", \"In Labor Force\", \"In Labor Force\", \"In Labor Force\", \"In Labor Force\", \"In Labor Force\", \"In Labor Force\", \"In Labor Force\", \"In Labor Force\", \"In Labor Force\", \"In Labor Force\", \"In Labor Force\", \"In Labor Force\", \"In Labor Force\", \"In Labor Force\", \"In Labor Force\", \"In Labor Force\", \"In Labor Force\", \"In Labor Force\", \"In Labor Force\", \"In Labor Force\", \"In Labor Force\", \"In Labor Force\", \"In Labor Force\", \"In Labor Force\", \"In Labor Force\", \"In Labor Force\", \"In Labor Force\", \"In Labor Force\", \"In Labor Force\", \"In Labor Force\", \"In Labor Force\", \"In Labor Force\", \"In Labor Force\", \"In Labor Force\", \"In Labor Force\", \"In Labor Force\", \"In Labor Force\", \"In Labor Force\", \"In Labor Force\", \"In Labor Force\", \"In Labor Force\", \"In Labor Force\", \"In Labor Force\", \"In Labor Force\", \"In Labor Force\", \"In Labor Force\", \"In Labor Force\", \"In Labor Force\", \"In Labor Force\", \"In Labor Force\", \"In Labor Force\", \"In Labor Force\", \"In Labor Force\", \"In Labor Force\", \"In Labor Force\", \"In Labor Force\", \"In Labor Force\", \"In Labor Force\", \"In Labor Force\", \"In Labor Force\", \"In Labor Force\", \"In Labor Force\", \"In Labor Force\", \"In Labor Force\", \"In Labor Force\", \"In Labor Force\", \"In Labor Force\", \"In Labor Force\", \"In Labor Force\", \"In Labor Force\", \"In Labor Force\", \"In Labor Force\", \"In Labor Force\", \"In Labor Force\", \"In Labor Force\", \"In Labor Force\", \"In Labor Force\", \"In Labor Force\", \"In Labor Force\", \"In Labor Force\", \"In Labor Force\", \"In Labor Force\", \"In Labor Force\", \"In Labor Force\", \"In Labor Force\", \"In Labor Force\", \"In Labor Force\", \"In Labor Force\", \"In Labor Force\", \"In Labor Force\", \"In Labor Force\", \"In Labor Force\", \"In Labor Force\", \"In Labor Force\", \"In Labor Force\", \"In Labor Force\", \"In Labor Force\", \"In Labor Force\", \"In Labor Force\", \"In Labor Force\", \"In Labor Force\", \"In Labor Force\", \"In Labor Force\", \"In Labor Force\", \"In Labor Force\", \"In Labor Force\", \"In Labor Force\", \"In Labor Force\", \"In Labor Force\", \"In Labor Force\", \"In Labor Force\", \"In Labor Force\", \"In Labor Force\", \"In Labor Force\", \"In Labor Force\", \"In Labor Force\", \"In Labor Force\", \"In Labor Force\", \"In Labor Force\", \"In Labor Force\", \"In Labor Force\", \"In Labor Force\", \"In Labor Force\", \"In Labor Force\", \"In Labor Force\", \"In Labor Force\", \"In Labor Force\", \"In Labor Force\", \"In Labor Force\", \"In Labor Force\", \"In Labor Force\", \"In Labor Force\", \"In Labor Force\", \"In Labor Force\", \"In Labor Force\", \"In Labor Force\", \"Out Of Labor Force\", \"Out Of Labor Force\", \"Out Of Labor Force\", \"Out Of Labor Force\", \"Out Of Labor Force\", \"Out Of Labor Force\", \"Out Of Labor Force\", \"Out Of Labor Force\", \"Out Of Labor Force\", \"Out Of Labor Force\", \"Out Of Labor Force\", \"Out Of Labor Force\", \"Out Of Labor Force\", \"Out Of Labor Force\", \"Out Of Labor Force\", \"Out Of Labor Force\", \"Out Of Labor Force\", \"Out Of Labor Force\", \"Out Of Labor Force\", \"Out Of Labor Force\", \"Out Of Labor Force\", \"Out Of Labor Force\", \"Out Of Labor Force\", \"Out Of Labor Force\", \"Out Of Labor Force\", \"Out Of Labor Force\", \"Out Of Labor Force\", \"Out Of Labor Force\", \"Out Of Labor Force\", \"Out Of Labor Force\", \"Out Of Labor Force\", \"Out Of Labor Force\", \"Out Of Labor Force\", \"Out Of Labor Force\", \"Out Of Labor Force\", \"Out Of Labor Force\", \"Out Of Labor Force\", \"Out Of Labor Force\", \"Out Of Labor Force\", \"Out Of Labor Force\", \"Out Of Labor Force\", \"Out Of Labor Force\", \"Out Of Labor Force\", \"Out Of Labor Force\", \"Out Of Labor Force\", \"Out Of Labor Force\", \"Out Of Labor Force\", \"Out Of Labor Force\", \"Out Of Labor Force\", \"Out Of Labor Force\", \"Out Of Labor Force\", \"Out Of Labor Force\", \"Out Of Labor Force\", \"Out Of Labor Force\", \"Out Of Labor Force\", \"Out Of Labor Force\", \"Out Of Labor Force\", \"Out Of Labor Force\", \"Out Of Labor Force\", \"Out Of Labor Force\", \"Out Of Labor Force\", \"Out Of Labor Force\", \"Out Of Labor Force\", \"Out Of Labor Force\", \"Out Of Labor Force\", \"Out Of Labor Force\", \"Out Of Labor Force\", \"Out Of Labor Force\", \"Out Of Labor Force\", \"Out Of Labor Force\", \"Out Of Labor Force\", \"Out Of Labor Force\", \"Out Of Labor Force\", \"Out Of Labor Force\", \"Out Of Labor Force\", \"Out Of Labor Force\", \"Out Of Labor Force\", \"Out Of Labor Force\", \"Out Of Labor Force\", \"Out Of Labor Force\", \"Out Of Labor Force\", \"Out Of Labor Force\", \"Out Of Labor Force\", \"Out Of Labor Force\", \"Out Of Labor Force\", \"Out Of Labor Force\", \"Out Of Labor Force\", \"Out Of Labor Force\", \"Out Of Labor Force\", \"Out Of Labor Force\", \"Out Of Labor Force\", \"Out Of Labor Force\", \"Out Of Labor Force\", \"Out Of Labor Force\", \"Out Of Labor Force\", \"Out Of Labor Force\", \"Out Of Labor Force\", \"Out Of Labor Force\", \"Out Of Labor Force\", \"Out Of Labor Force\", \"Out Of Labor Force\", \"Out Of Labor Force\", \"Out Of Labor Force\", \"Out Of Labor Force\", \"Out Of Labor Force\", \"Out Of Labor Force\", \"Out Of Labor Force\", \"Out Of Labor Force\", \"Out Of Labor Force\", \"Out Of Labor Force\", \"Out Of Labor Force\", \"Out Of Labor Force\", \"Out Of Labor Force\", \"Out Of Labor Force\", \"Out Of Labor Force\", \"Out Of Labor Force\", \"Out Of Labor Force\", \"Out Of Labor Force\", \"Out Of Labor Force\", \"Out Of Labor Force\", \"Out Of Labor Force\", \"Out Of Labor Force\", \"Out Of Labor Force\", \"Out Of Labor Force\", \"Out Of Labor Force\", \"Out Of Labor Force\", \"Out Of Labor Force\", \"Out Of Labor Force\", \"Out Of Labor Force\", \"Out Of Labor Force\", \"Out Of Labor Force\", \"Out Of Labor Force\", \"Out Of Labor Force\", \"Out Of Labor Force\", \"Out Of Labor Force\", \"Out Of Labor Force\", \"Out Of Labor Force\", \"Out Of Labor Force\", \"Out Of Labor Force\", \"Out Of Labor Force\", \"Out Of Labor Force\", \"Out Of Labor Force\", \"Out Of Labor Force\", \"Out Of Labor Force\", \"Out Of Labor Force\", \"Out Of Labor Force\", \"Out Of Labor Force\", \"Out Of Labor Force\", \"Out Of Labor Force\", \"Out Of Labor Force\", \"Out Of Labor Force\", \"Out Of Labor Force\", \"Out Of Labor Force\", \"Out Of Labor Force\", \"Out Of Labor Force\", \"Out Of Labor Force\", \"Out Of Labor Force\", \"Out Of Labor Force\", \"Out Of Labor Force\", \"Out Of Labor Force\", \"Out Of Labor Force\", \"Out Of Labor Force\", \"Out Of Labor Force\", \"Out Of Labor Force\", \"Out Of Labor Force\", \"Out Of Labor Force\", \"Out Of Labor Force\", \"Out Of Labor Force\", \"Out Of Labor Force\", \"Out Of Labor Force\", \"Out Of Labor Force\", \"Out Of Labor Force\", \"Female\", \"Female\", \"Female\", \"Female\", \"Female\", \"Female\", \"Female\", \"Female\", \"Female\", \"Female\", \"Female\", \"Female\", \"Female\", \"Female\", \"Female\", \"Female\", \"Female\", \"Female\", \"Female\", \"Female\", \"Female\", \"Female\", \"Female\", \"Female\", \"Female\", \"Female\", \"Female\", \"Female\", \"Female\", \"Female\", \"Female\", \"Female\", \"Female\", \"Female\", \"Female\", \"Female\", \"Female\", \"Female\", \"Female\", \"Female\", \"Female\", \"Female\", \"Female\", \"Female\", \"Female\", \"Female\", \"Female\", \"Female\", \"Female\", \"Female\", \"Female\", \"Female\", \"Female\", \"Female\", \"Female\", \"Female\", \"Female\", \"Female\", \"Female\", \"Female\", \"Female\", \"Female\", \"Female\", \"Female\", \"Female\", \"Female\", \"Female\", \"Female\", \"Female\", \"Female\", \"Female\", \"Female\", \"Female\", \"Female\", \"Female\", \"Female\", \"Female\", \"Female\", \"Female\", \"Female\", \"Female\", \"Female\", \"Female\", \"Female\", \"Female\", \"Female\", \"Female\", \"Female\", \"Female\", \"Female\", \"Female\", \"Female\", \"Female\", \"Female\", \"Female\", \"Female\", \"Female\", \"Female\", \"Female\", \"Female\", \"Female\", \"Female\", \"Female\", \"Female\", \"Female\", \"Female\", \"Female\", \"Female\", \"Female\", \"Female\", \"Female\", \"Female\", \"Female\", \"Female\", \"Female\", \"Female\", \"Female\", \"Female\", \"Female\", \"Female\", \"Female\", \"Female\", \"Female\", \"Female\", \"Female\", \"Female\", \"Female\", \"Female\", \"Female\", \"Female\", \"Female\", \"Female\", \"Female\", \"Female\", \"Female\", \"Female\", \"Female\", \"Female\", \"Female\", \"Female\", \"Female\", \"Female\", \"Female\", \"Female\", \"Female\", \"Female\", \"Female\", \"Female\", \"Female\", \"Female\", \"Female\", \"Female\", \"Female\", \"Female\", \"Female\", \"Female\", \"Female\", \"Female\", \"Female\", \"Female\", \"Female\", \"Female\", \"Female\", \"Female\", \"Female\", \"Female\", \"Female\", \"Female\", \"Female\", \"Female\", \"Female\", \"Female\", \"Young Adults\", \"Young Adults\", \"Young Adults\", \"Young Adults\", \"Young Adults\", \"Young Adults\", \"Young Adults\", \"Young Adults\", \"Young Adults\", \"Young Adults\", \"Young Adults\", \"Young Adults\", \"Young Adults\", \"Young Adults\", \"Young Adults\", \"Young Adults\", \"Young Adults\", \"Young Adults\", \"Young Adults\", \"Young Adults\", \"Young Adults\", \"Young Adults\", \"Young Adults\", \"Young Adults\", \"Young Adults\", \"Young Adults\", \"Young Adults\", \"Young Adults\", \"Young Adults\", \"Young Adults\", \"Young Adults\", \"Young Adults\", \"Young Adults\", \"Young Adults\", \"Young Adults\", \"Young Adults\", \"Young Adults\", \"Young Adults\", \"Young Adults\", \"Young Adults\", \"Young Adults\", \"Young Adults\", \"Young Adults\", \"Young Adults\", \"Young Adults\", \"Young Adults\", \"Young Adults\", \"Young Adults\", \"Young Adults\", \"Young Adults\", \"Young Adults\", \"Young Adults\", \"Young Adults\", \"Young Adults\", \"Young Adults\", \"Young Adults\", \"Young Adults\", \"Young Adults\", \"Young Adults\", \"Young Adults\", \"Young Adults\", \"Young Adults\", \"Young Adults\", \"Young Adults\", \"Young Adults\", \"Young Adults\", \"Young Adults\", \"Young Adults\", \"Young Adults\", \"Young Adults\", \"Young Adults\", \"Young Adults\", \"Young Adults\", \"Young Adults\", \"Young Adults\", \"Young Adults\", \"Young Adults\", \"Young Adults\", \"Young Adults\", \"Young Adults\", \"Young Adults\", \"Young Adults\", \"Young Adults\", \"Young Adults\", \"Young Adults\", \"Young Adults\", \"Young Adults\", \"Young Adults\", \"Young Adults\", \"Young Adults\", \"Young Adults\", \"Young Adults\", \"Young Adults\", \"Young Adults\", \"Young Adults\", \"Young Adults\", \"Young Adults\", \"Young Adults\", \"Young Adults\", \"Young Adults\", \"Young Adults\", \"Young Adults\", \"Young Adults\", \"Young Adults\", \"Young Adults\", \"Young Adults\", \"Young Adults\", \"Young Adults\", \"Young Adults\", \"Young Adults\", \"Young Adults\", \"Young Adults\", \"Young Adults\", \"Young Adults\", \"Young Adults\", \"Young Adults\", \"Young Adults\", \"Young Adults\", \"Young Adults\", \"Young Adults\", \"Young Adults\", \"Young Adults\", \"Young Adults\", \"Young Adults\", \"Young Adults\", \"Young Adults\", \"Young Adults\", \"Young Adults\", \"Young Adults\", \"Young Adults\", \"Young Adults\", \"Young Adults\", \"Young Adults\", \"Young Adults\", \"Young Adults\", \"Young Adults\", \"Young Adults\", \"Young Adults\", \"Young Adults\", \"Young Adults\", \"Young Adults\", \"Young Adults\", \"Young Adults\", \"Young Adults\", \"Young Adults\", \"Young Adults\", \"Young Adults\", \"Young Adults\", \"Young Adults\", \"Young Adults\", \"Young Adults\", \"Young Adults\", \"Young Adults\", \"Young Adults\", \"Young Adults\", \"Young Adults\", \"Young Adults\", \"Young Adults\", \"Young Adults\", \"Young Adults\", \"Young Adults\", \"Young Adults\", \"Young Adults\", \"Young Adults\", \"Young Adults\", \"Young Adults\", \"Young Adults\", \"Young Adults\", \"Young Adults\", \"Young Adults\", \"Young Adults\", \"Young Adults\", \"Older Adults\", \"Older Adults\", \"Older Adults\", \"Older Adults\", \"Older Adults\", \"Older Adults\", \"Older Adults\", \"Older Adults\", \"Older Adults\", \"Older Adults\", \"Older Adults\", \"Older Adults\", \"Older Adults\", \"Older Adults\", \"Older Adults\", \"Older Adults\", \"Older Adults\", \"Older Adults\", \"Older Adults\", \"Older Adults\", \"Older Adults\", \"Older Adults\", \"Older Adults\", \"Older Adults\", \"Older Adults\", \"Older Adults\", \"Older Adults\", \"Older Adults\", \"Older Adults\", \"Older Adults\", \"Older Adults\", \"Older Adults\", \"Older Adults\", \"Older Adults\", \"Older Adults\", \"Older Adults\", \"Older Adults\", \"Older Adults\", \"Older Adults\", \"Older Adults\", \"Older Adults\", \"Older Adults\", \"Older Adults\", \"Older Adults\", \"Older Adults\", \"Older Adults\", \"Older Adults\", \"Older Adults\", \"Older Adults\", \"Older Adults\", \"Older Adults\", \"Older Adults\", \"Older Adults\", \"Older Adults\", \"Older Adults\", \"Older Adults\", \"Older Adults\", \"Older Adults\", \"Older Adults\", \"Older Adults\", \"Older Adults\", \"Older Adults\", \"Older Adults\", \"Older Adults\", \"Older Adults\", \"Older Adults\", \"Older Adults\", \"Older Adults\", \"Older Adults\", \"Older Adults\", \"Older Adults\", \"Older Adults\", \"Older Adults\", \"Older Adults\", \"Older Adults\", \"Older Adults\", \"Older Adults\", \"Older Adults\", \"Older Adults\", \"Older Adults\", \"Older Adults\", \"Older Adults\", \"Older Adults\", \"Older Adults\", \"Older Adults\", \"Older Adults\", \"Older Adults\", \"Older Adults\", \"Older Adults\", \"Older Adults\", \"Older Adults\", \"Older Adults\", \"Older Adults\", \"Older Adults\", \"Older Adults\", \"Older Adults\", \"Older Adults\", \"Older Adults\", \"Older Adults\", \"Older Adults\", \"Older Adults\", \"Older Adults\", \"Older Adults\", \"Older Adults\", \"Older Adults\", \"Older Adults\", \"Older Adults\", \"Older Adults\", \"Older Adults\", \"Older Adults\", \"Older Adults\", \"Older Adults\", \"Older Adults\", \"Older Adults\", \"Older Adults\", \"Older Adults\", \"Older Adults\", \"Older Adults\", \"Older Adults\", \"Older Adults\", \"Older Adults\", \"Older Adults\", \"Older Adults\", \"Older Adults\", \"Older Adults\", \"Older Adults\", \"Older Adults\", \"Older Adults\", \"Older Adults\", \"Older Adults\", \"Older Adults\", \"Older Adults\", \"Older Adults\", \"Older Adults\", \"Older Adults\", \"Older Adults\", \"Older Adults\", \"Older Adults\", \"Older Adults\", \"Older Adults\", \"Older Adults\", \"Older Adults\", \"Older Adults\", \"Older Adults\", \"Older Adults\", \"Older Adults\", \"Older Adults\", \"Older Adults\", \"Older Adults\", \"Older Adults\", \"Older Adults\", \"Older Adults\", \"Older Adults\", \"Older Adults\", \"Older Adults\", \"Older Adults\", \"Older Adults\", \"Older Adults\", \"Older Adults\", \"Older Adults\", \"Older Adults\", \"Older Adults\", \"Older Adults\", \"Older Adults\", \"Older Adults\", \"Older Adults\", \"Older Adults\", \"Older Adults\", \"Older Adults\", \"Older Adults\", \"Older Adults\", \"Older Adults\", \"Primary Education Or Less\", \"Primary Education Or Less\", \"Primary Education Or Less\", \"Primary Education Or Less\", \"Primary Education Or Less\", \"Primary Education Or Less\", \"Primary Education Or Less\", \"Primary Education Or Less\", \"Primary Education Or Less\", \"Primary Education Or Less\", \"Primary Education Or Less\", \"Primary Education Or Less\", \"Primary Education Or Less\", \"Primary Education Or Less\", \"Primary Education Or Less\", \"Primary Education Or Less\", \"Primary Education Or Less\", \"Primary Education Or Less\", \"Primary Education Or Less\", \"Primary Education Or Less\", \"Primary Education Or Less\", \"Primary Education Or Less\", \"Primary Education Or Less\", \"Primary Education Or Less\", \"Primary Education Or Less\", \"Primary Education Or Less\", \"Primary Education Or Less\", \"Primary Education Or Less\", \"Primary Education Or Less\", \"Primary Education Or Less\", \"Primary Education Or Less\", \"Primary Education Or Less\", \"Primary Education Or Less\", \"Primary Education Or Less\", \"Primary Education Or Less\", \"Primary Education Or Less\", \"Primary Education Or Less\", \"Primary Education Or Less\", \"Primary Education Or Less\", \"Primary Education Or Less\", \"Primary Education Or Less\", \"Primary Education Or Less\", \"Primary Education Or Less\", \"Primary Education Or Less\", \"Primary Education Or Less\", \"Primary Education Or Less\", \"Primary Education Or Less\", \"Primary Education Or Less\", \"Primary Education Or Less\", \"Primary Education Or Less\", \"Primary Education Or Less\", \"Primary Education Or Less\", \"Primary Education Or Less\", \"Primary Education Or Less\", \"Primary Education Or Less\", \"Primary Education Or Less\", \"Primary Education Or Less\", \"Primary Education Or Less\", \"Primary Education Or Less\", \"Primary Education Or Less\", \"Primary Education Or Less\", \"Primary Education Or Less\", \"Primary Education Or Less\", \"Primary Education Or Less\", \"Primary Education Or Less\", \"Primary Education Or Less\", \"Primary Education Or Less\", \"Primary Education Or Less\", \"Primary Education Or Less\", \"Primary Education Or Less\", \"Primary Education Or Less\", \"Primary Education Or Less\", \"Primary Education Or Less\", \"Primary Education Or Less\", \"Primary Education Or Less\", \"Primary Education Or Less\", \"Primary Education Or Less\", \"Primary Education Or Less\", \"Primary Education Or Less\", \"Primary Education Or Less\", \"Primary Education Or Less\", \"Primary Education Or Less\", \"Primary Education Or Less\", \"Primary Education Or Less\", \"Primary Education Or Less\", \"Primary Education Or Less\", \"Primary Education Or Less\", \"Primary Education Or Less\", \"Primary Education Or Less\", \"Primary Education Or Less\", \"Primary Education Or Less\", \"Primary Education Or Less\", \"Primary Education Or Less\", \"Primary Education Or Less\", \"Primary Education Or Less\", \"Primary Education Or Less\", \"Primary Education Or Less\", \"Primary Education Or Less\", \"Primary Education Or Less\", \"Primary Education Or Less\", \"Primary Education Or Less\", \"Primary Education Or Less\", \"Primary Education Or Less\", \"Primary Education Or Less\", \"Primary Education Or Less\", \"Primary Education Or Less\", \"Primary Education Or Less\", \"Primary Education Or Less\", \"Primary Education Or Less\", \"Primary Education Or Less\", \"Primary Education Or Less\", \"Primary Education Or Less\", \"Primary Education Or Less\", \"Primary Education Or Less\", \"Primary Education Or Less\", \"Primary Education Or Less\", \"Primary Education Or Less\", \"Primary Education Or Less\", \"Primary Education Or Less\", \"Primary Education Or Less\", \"Primary Education Or Less\", \"Primary Education Or Less\", \"Primary Education Or Less\", \"Primary Education Or Less\", \"Primary Education Or Less\", \"Primary Education Or Less\", \"Primary Education Or Less\", \"Primary Education Or Less\", \"Primary Education Or Less\", \"Primary Education Or Less\", \"Primary Education Or Less\", \"Primary Education Or Less\", \"Primary Education Or Less\", \"Primary Education Or Less\", \"Primary Education Or Less\", \"Primary Education Or Less\", \"Primary Education Or Less\", \"Primary Education Or Less\", \"Primary Education Or Less\", \"Primary Education Or Less\", \"Primary Education Or Less\", \"Primary Education Or Less\", \"Primary Education Or Less\", \"Primary Education Or Less\", \"Primary Education Or Less\", \"Primary Education Or Less\", \"Primary Education Or Less\", \"Primary Education Or Less\", \"Primary Education Or Less\", \"Primary Education Or Less\", \"Primary Education Or Less\", \"Primary Education Or Less\", \"Primary Education Or Less\", \"Primary Education Or Less\", \"Primary Education Or Less\", \"Primary Education Or Less\", \"Primary Education Or Less\", \"Primary Education Or Less\", \"Primary Education Or Less\", \"Primary Education Or Less\", \"Primary Education Or Less\", \"Primary Education Or Less\", \"Primary Education Or Less\", \"Primary Education Or Less\", \"Primary Education Or Less\", \"Primary Education Or Less\", \"Primary Education Or Less\", \"Primary Education Or Less\", \"Primary Education Or Less\", \"Primary Education Or Less\", \"Primary Education Or Less\", \"Primary Education Or Less\", \"Secondary Education Or Less\", \"Secondary Education Or Less\", \"Secondary Education Or Less\", \"Secondary Education Or Less\", \"Secondary Education Or Less\", \"Secondary Education Or Less\", \"Secondary Education Or Less\", \"Secondary Education Or Less\", \"Secondary Education Or Less\", \"Secondary Education Or Less\", \"Secondary Education Or Less\", \"Secondary Education Or Less\", \"Secondary Education Or Less\", \"Secondary Education Or Less\", \"Secondary Education Or Less\", \"Secondary Education Or Less\", \"Secondary Education Or Less\", \"Secondary Education Or Less\", \"Secondary Education Or Less\", \"Secondary Education Or Less\", \"Secondary Education Or Less\", \"Secondary Education Or Less\", \"Secondary Education Or Less\", \"Secondary Education Or Less\", \"Secondary Education Or Less\", \"Secondary Education Or Less\", \"Secondary Education Or Less\", \"Secondary Education Or Less\", \"Secondary Education Or Less\", \"Secondary Education Or Less\", \"Secondary Education Or Less\", \"Secondary Education Or Less\", \"Secondary Education Or Less\", \"Secondary Education Or Less\", \"Secondary Education Or Less\", \"Secondary Education Or Less\", \"Secondary Education Or Less\", \"Secondary Education Or Less\", \"Secondary Education Or Less\", \"Secondary Education Or Less\", \"Secondary Education Or Less\", \"Secondary Education Or Less\", \"Secondary Education Or Less\", \"Secondary Education Or Less\", \"Secondary Education Or Less\", \"Secondary Education Or Less\", \"Secondary Education Or Less\", \"Secondary Education Or Less\", \"Secondary Education Or Less\", \"Secondary Education Or Less\", \"Secondary Education Or Less\", \"Secondary Education Or Less\", \"Secondary Education Or Less\", \"Secondary Education Or Less\", \"Secondary Education Or Less\", \"Secondary Education Or Less\", \"Secondary Education Or Less\", \"Secondary Education Or Less\", \"Secondary Education Or Less\", \"Secondary Education Or Less\", \"Secondary Education Or Less\", \"Secondary Education Or Less\", \"Secondary Education Or Less\", \"Secondary Education Or Less\", \"Secondary Education Or Less\", \"Secondary Education Or Less\", \"Secondary Education Or Less\", \"Secondary Education Or Less\", \"Secondary Education Or Less\", \"Secondary Education Or Less\", \"Secondary Education Or Less\", \"Secondary Education Or Less\", \"Secondary Education Or Less\", \"Secondary Education Or Less\", \"Secondary Education Or Less\", \"Secondary Education Or Less\", \"Secondary Education Or Less\", \"Secondary Education Or Less\", \"Secondary Education Or Less\", \"Secondary Education Or Less\", \"Secondary Education Or Less\", \"Secondary Education Or Less\", \"Secondary Education Or Less\", \"Secondary Education Or Less\", \"Secondary Education Or Less\", \"Secondary Education Or Less\", \"Secondary Education Or Less\", \"Secondary Education Or Less\", \"Secondary Education Or Less\", \"Secondary Education Or Less\", \"Secondary Education Or Less\", \"Secondary Education Or Less\", \"Secondary Education Or Less\", \"Secondary Education Or Less\", \"Secondary Education Or Less\", \"Secondary Education Or Less\", \"Secondary Education Or Less\", \"Secondary Education Or Less\", \"Secondary Education Or Less\", \"Secondary Education Or Less\", \"Secondary Education Or Less\", \"Secondary Education Or Less\", \"Secondary Education Or Less\", \"Secondary Education Or Less\", \"Secondary Education Or Less\", \"Secondary Education Or Less\", \"Secondary Education Or Less\", \"Secondary Education Or Less\", \"Secondary Education Or Less\", \"Secondary Education Or Less\", \"Secondary Education Or Less\", \"Secondary Education Or Less\", \"Secondary Education Or Less\", \"Secondary Education Or Less\", \"Secondary Education Or Less\", \"Secondary Education Or Less\", \"Secondary Education Or Less\", \"Secondary Education Or Less\", \"Secondary Education Or Less\", \"Secondary Education Or Less\", \"Secondary Education Or Less\", \"Secondary Education Or Less\", \"Secondary Education Or Less\", \"Secondary Education Or Less\", \"Secondary Education Or Less\", \"Secondary Education Or Less\", \"Secondary Education Or Less\", \"Secondary Education Or Less\", \"Secondary Education Or Less\", \"Secondary Education Or Less\", \"Secondary Education Or Less\", \"Secondary Education Or Less\", \"Secondary Education Or Less\", \"Secondary Education Or Less\", \"Secondary Education Or Less\", \"Secondary Education Or Less\", \"Secondary Education Or Less\", \"Secondary Education Or Less\", \"Secondary Education Or Less\", \"Secondary Education Or Less\", \"Secondary Education Or Less\", \"Secondary Education Or Less\", \"Secondary Education Or Less\", \"Secondary Education Or Less\", \"Secondary Education Or Less\", \"Secondary Education Or Less\", \"Secondary Education Or Less\", \"Secondary Education Or Less\", \"Secondary Education Or Less\", \"Secondary Education Or Less\", \"Secondary Education Or Less\", \"Secondary Education Or Less\", \"Secondary Education Or Less\", \"Secondary Education Or Less\", \"Secondary Education Or Less\", \"Secondary Education Or Less\", \"Secondary Education Or Less\", \"Secondary Education Or Less\", \"Secondary Education Or Less\", \"Secondary Education Or Less\", \"Secondary Education Or Less\", \"Secondary Education Or Less\", \"Secondary Education Or Less\", \"Secondary Education Or Less\", \"Secondary Education Or Less\", \"Secondary Education Or Less\", \"Secondary Education Or Less\", \"Secondary Education Or Less\", \"Secondary Education Or Less\", \"Secondary Education Or Less\", \"Secondary Education Or Less\", \"Secondary Education Or Less\", \"Income, Poorest 40%\", \"Income, Poorest 40%\", \"Income, Poorest 40%\", \"Income, Poorest 40%\", \"Income, Poorest 40%\", \"Income, Poorest 40%\", \"Income, Poorest 40%\", \"Income, Poorest 40%\", \"Income, Poorest 40%\", \"Income, Poorest 40%\", \"Income, Poorest 40%\", \"Income, Poorest 40%\", \"Income, Poorest 40%\", \"Income, Poorest 40%\", \"Income, Poorest 40%\", \"Income, Poorest 40%\", \"Income, Poorest 40%\", \"Income, Poorest 40%\", \"Income, Poorest 40%\", \"Income, Poorest 40%\", \"Income, Poorest 40%\", \"Income, Poorest 40%\", \"Income, Poorest 40%\", \"Income, Poorest 40%\", \"Income, Poorest 40%\", \"Income, Poorest 40%\", \"Income, Poorest 40%\", \"Income, Poorest 40%\", \"Income, Poorest 40%\", \"Income, Poorest 40%\", \"Income, Poorest 40%\", \"Income, Poorest 40%\", \"Income, Poorest 40%\", \"Income, Poorest 40%\", \"Income, Poorest 40%\", \"Income, Poorest 40%\", \"Income, Poorest 40%\", \"Income, Poorest 40%\", \"Income, Poorest 40%\", \"Income, Poorest 40%\", \"Income, Poorest 40%\", \"Income, Poorest 40%\", \"Income, Poorest 40%\", \"Income, Poorest 40%\", \"Income, Poorest 40%\", \"Income, Poorest 40%\", \"Income, Poorest 40%\", \"Income, Poorest 40%\", \"Income, Poorest 40%\", \"Income, Poorest 40%\", \"Income, Poorest 40%\", \"Income, Poorest 40%\", \"Income, Poorest 40%\", \"Income, Poorest 40%\", \"Income, Poorest 40%\", \"Income, Poorest 40%\", \"Income, Poorest 40%\", \"Income, Poorest 40%\", \"Income, Poorest 40%\", \"Income, Poorest 40%\", \"Income, Poorest 40%\", \"Income, Poorest 40%\", \"Income, Poorest 40%\", \"Income, Poorest 40%\", \"Income, Poorest 40%\", \"Income, Poorest 40%\", \"Income, Poorest 40%\", \"Income, Poorest 40%\", \"Income, Poorest 40%\", \"Income, Poorest 40%\", \"Income, Poorest 40%\", \"Income, Poorest 40%\", \"Income, Poorest 40%\", \"Income, Poorest 40%\", \"Income, Poorest 40%\", \"Income, Poorest 40%\", \"Income, Poorest 40%\", \"Income, Poorest 40%\", \"Income, Poorest 40%\", \"Income, Poorest 40%\", \"Income, Poorest 40%\", \"Income, Poorest 40%\", \"Income, Poorest 40%\", \"Income, Poorest 40%\", \"Income, Poorest 40%\", \"Income, Poorest 40%\", \"Income, Poorest 40%\", \"Income, Poorest 40%\", \"Income, Poorest 40%\", \"Income, Poorest 40%\", \"Income, Poorest 40%\", \"Income, Poorest 40%\", \"Income, Poorest 40%\", \"Income, Poorest 40%\", \"Income, Poorest 40%\", \"Income, Poorest 40%\", \"Income, Poorest 40%\", \"Income, Poorest 40%\", \"Income, Poorest 40%\", \"Income, Poorest 40%\", \"Income, Poorest 40%\", \"Income, Poorest 40%\", \"Income, Poorest 40%\", \"Income, Poorest 40%\", \"Income, Poorest 40%\", \"Income, Poorest 40%\", \"Income, Poorest 40%\", \"Income, Poorest 40%\", \"Income, Poorest 40%\", \"Income, Poorest 40%\", \"Income, Poorest 40%\", \"Income, Poorest 40%\", \"Income, Poorest 40%\", \"Income, Poorest 40%\", \"Income, Poorest 40%\", \"Income, Poorest 40%\", \"Income, Poorest 40%\", \"Income, Poorest 40%\", \"Income, Poorest 40%\", \"Income, Poorest 40%\", \"Income, Poorest 40%\", \"Income, Poorest 40%\", \"Income, Poorest 40%\", \"Income, Poorest 40%\", \"Income, Poorest 40%\", \"Income, Poorest 40%\", \"Income, Poorest 40%\", \"Income, Poorest 40%\", \"Income, Poorest 40%\", \"Income, Poorest 40%\", \"Income, Poorest 40%\", \"Income, Poorest 40%\", \"Income, Poorest 40%\", \"Income, Poorest 40%\", \"Income, Poorest 40%\", \"Income, Poorest 40%\", \"Income, Poorest 40%\", \"Income, Poorest 40%\", \"Income, Poorest 40%\", \"Income, Poorest 40%\", \"Income, Poorest 40%\", \"Income, Poorest 40%\", \"Income, Poorest 40%\", \"Income, Poorest 40%\", \"Income, Poorest 40%\", \"Income, Poorest 40%\", \"Income, Poorest 40%\", \"Income, Poorest 40%\", \"Income, Poorest 40%\", \"Income, Poorest 40%\", \"Income, Poorest 40%\", \"Income, Poorest 40%\", \"Income, Poorest 40%\", \"Income, Poorest 40%\", \"Income, Poorest 40%\", \"Income, Poorest 40%\", \"Income, Poorest 40%\", \"Income, Poorest 40%\", \"Income, Poorest 40%\", \"Income, Poorest 40%\", \"Income, Poorest 40%\", \"Income, Poorest 40%\", \"Income, Poorest 40%\", \"Income, Poorest 40%\", \"Income, Poorest 40%\", \"Income, Poorest 40%\", \"Income, Poorest 40%\", \"Income, Poorest 40%\", \"Income, Poorest 40%\", \"Income, Poorest 40%\", \"Income, Poorest 40%\", \"Income, Poorest 40%\", \"Income, Richest 60%\", \"Income, Richest 60%\", \"Income, Richest 60%\", \"Income, Richest 60%\", \"Income, Richest 60%\", \"Income, Richest 60%\", \"Income, Richest 60%\", \"Income, Richest 60%\", \"Income, Richest 60%\", \"Income, Richest 60%\", \"Income, Richest 60%\", \"Income, Richest 60%\", \"Income, Richest 60%\", \"Income, Richest 60%\", \"Income, Richest 60%\", \"Income, Richest 60%\", \"Income, Richest 60%\", \"Income, Richest 60%\", \"Income, Richest 60%\", \"Income, Richest 60%\", \"Income, Richest 60%\", \"Income, Richest 60%\", \"Income, Richest 60%\", \"Income, Richest 60%\", \"Income, Richest 60%\", \"Income, Richest 60%\", \"Income, Richest 60%\", \"Income, Richest 60%\", \"Income, Richest 60%\", \"Income, Richest 60%\", \"Income, Richest 60%\", \"Income, Richest 60%\", \"Income, Richest 60%\", \"Income, Richest 60%\", \"Income, Richest 60%\", \"Income, Richest 60%\", \"Income, Richest 60%\", \"Income, Richest 60%\", \"Income, Richest 60%\", \"Income, Richest 60%\", \"Income, Richest 60%\", \"Income, Richest 60%\", \"Income, Richest 60%\", \"Income, Richest 60%\", \"Income, Richest 60%\", \"Income, Richest 60%\", \"Income, Richest 60%\", \"Income, Richest 60%\", \"Income, Richest 60%\", \"Income, Richest 60%\", \"Income, Richest 60%\", \"Income, Richest 60%\", \"Income, Richest 60%\", \"Income, Richest 60%\", \"Income, Richest 60%\", \"Income, Richest 60%\", \"Income, Richest 60%\", \"Income, Richest 60%\", \"Income, Richest 60%\", \"Income, Richest 60%\", \"Income, Richest 60%\", \"Income, Richest 60%\", \"Income, Richest 60%\", \"Income, Richest 60%\", \"Income, Richest 60%\", \"Income, Richest 60%\", \"Income, Richest 60%\", \"Income, Richest 60%\", \"Income, Richest 60%\", \"Income, Richest 60%\", \"Income, Richest 60%\", \"Income, Richest 60%\", \"Income, Richest 60%\", \"Income, Richest 60%\", \"Income, Richest 60%\", \"Income, Richest 60%\", \"Income, Richest 60%\", \"Income, Richest 60%\", \"Income, Richest 60%\", \"Income, Richest 60%\", \"Income, Richest 60%\", \"Income, Richest 60%\", \"Income, Richest 60%\", \"Income, Richest 60%\", \"Income, Richest 60%\", \"Income, Richest 60%\", \"Income, Richest 60%\", \"Income, Richest 60%\", \"Income, Richest 60%\", \"Income, Richest 60%\", \"Income, Richest 60%\", \"Income, Richest 60%\", \"Income, Richest 60%\", \"Income, Richest 60%\", \"Income, Richest 60%\", \"Income, Richest 60%\", \"Income, Richest 60%\", \"Income, Richest 60%\", \"Income, Richest 60%\", \"Income, Richest 60%\", \"Income, Richest 60%\", \"Income, Richest 60%\", \"Income, Richest 60%\", \"Income, Richest 60%\", \"Income, Richest 60%\", \"Income, Richest 60%\", \"Income, Richest 60%\", \"Income, Richest 60%\", \"Income, Richest 60%\", \"Income, Richest 60%\", \"Income, Richest 60%\", \"Income, Richest 60%\", \"Income, Richest 60%\", \"Income, Richest 60%\", \"Income, Richest 60%\", \"Income, Richest 60%\", \"Income, Richest 60%\", \"Income, Richest 60%\", \"Income, Richest 60%\", \"Income, Richest 60%\", \"Income, Richest 60%\", \"Income, Richest 60%\", \"Income, Richest 60%\", \"Income, Richest 60%\", \"Income, Richest 60%\", \"Income, Richest 60%\", \"Income, Richest 60%\", \"Income, Richest 60%\", \"Income, Richest 60%\", \"Income, Richest 60%\", \"Income, Richest 60%\", \"Income, Richest 60%\", \"Income, Richest 60%\", \"Income, Richest 60%\", \"Income, Richest 60%\", \"Income, Richest 60%\", \"Income, Richest 60%\", \"Income, Richest 60%\", \"Income, Richest 60%\", \"Income, Richest 60%\", \"Income, Richest 60%\", \"Income, Richest 60%\", \"Income, Richest 60%\", \"Income, Richest 60%\", \"Income, Richest 60%\", \"Income, Richest 60%\", \"Income, Richest 60%\", \"Income, Richest 60%\", \"Income, Richest 60%\", \"Income, Richest 60%\", \"Income, Richest 60%\", \"Income, Richest 60%\", \"Income, Richest 60%\", \"Income, Richest 60%\", \"Income, Richest 60%\", \"Income, Richest 60%\", \"Income, Richest 60%\", \"Income, Richest 60%\", \"Income, Richest 60%\", \"Income, Richest 60%\", \"Income, Richest 60%\", \"Income, Richest 60%\", \"Income, Richest 60%\", \"Income, Richest 60%\", \"Income, Richest 60%\", \"Income, Richest 60%\", \"Income, Richest 60%\", \"Income, Richest 60%\", \"Income, Richest 60%\", \"Income, Richest 60%\", \"Income, Richest 60%\", \"Income, Richest 60%\", \"Rural\", \"Rural\", \"Rural\", \"Rural\", \"Rural\", \"Rural\", \"Rural\", \"Rural\", \"Rural\", \"Rural\", \"Rural\", \"Rural\", \"Rural\", \"Rural\", \"Rural\", \"Rural\", \"Rural\", \"Rural\", \"Rural\", \"Rural\", \"Rural\", \"Rural\", \"Rural\", \"Rural\", \"Rural\", \"Rural\", \"Rural\", \"Rural\", \"Rural\", \"Rural\", \"Rural\", \"Rural\", \"Rural\", \"Rural\", \"Rural\", \"Rural\", \"Rural\", \"Rural\", \"Rural\", \"Rural\", \"Rural\", \"Rural\", \"Rural\", \"Rural\", \"Rural\", \"Rural\", \"Rural\", \"Rural\", \"Rural\", \"Rural\", \"Rural\", \"Rural\", \"Rural\", \"Rural\", \"Rural\", \"Rural\", \"Rural\", \"Rural\", \"Rural\", \"Rural\", \"Rural\", \"Rural\", \"Rural\", \"Rural\", \"Rural\", \"Rural\", \"Rural\", \"Rural\", \"Rural\", \"Rural\", \"Rural\", \"Rural\", \"Rural\", \"Rural\", \"Rural\", \"Rural\", \"Rural\", \"Rural\", \"Rural\", \"Rural\", \"Rural\", \"Rural\", \"Rural\", \"Rural\", \"Rural\", \"Rural\", \"Rural\", \"Rural\", \"Rural\", \"Rural\", \"Rural\", \"Rural\", \"Rural\", \"Rural\", \"Rural\", \"Rural\", \"Rural\", \"Rural\", \"Rural\", \"Rural\", \"Rural\", \"Rural\", \"Rural\", \"Rural\", \"Rural\", \"Rural\", \"Rural\", \"Rural\", \"Rural\", \"Rural\", \"Rural\", \"Rural\", \"Rural\", \"Rural\", \"Rural\", \"Rural\", \"Rural\", \"Rural\", \"Rural\", \"Rural\", \"Rural\", \"Rural\", \"Rural\", \"Rural\", \"Rural\", \"Rural\", \"Rural\", \"Rural\", \"Rural\", \"Rural\", \"Rural\", \"Rural\", \"Rural\", \"Rural\", \"Rural\", \"Rural\", \"Rural\", \"Rural\", \"Rural\", \"Rural\", \"Rural\", \"Rural\", \"Rural\", \"Rural\", \"Rural\", \"Rural\", \"Rural\", \"Rural\", \"Rural\", \"Rural\", \"Rural\", \"Rural\", \"Rural\", \"Rural\", \"Rural\", \"Rural\", \"Rural\", \"Rural\", \"Rural\", \"Rural\", \"Rural\", \"Rural\", \"Rural\", \"Rural\", \"Rural\", \"Rural\", \"Rural\", \"Rural\", \"Rural\", \"Rural\", \"Rural\", \"Rural\"], \"x0\": \" \", \"xaxis\": \"x\", \"y\": [0.30440380796790123, 0.9138161316514015, 2.377762086689472, 11.490987241268158, 21.331796050071716, 0.4323195666074753, 2.4161674082279205, 0.6578374188393354, 9.75530669093132, 0.7463846355676651, 2.022727020084858, 18.093837797641754, 3.080969490110874, 33.02279710769653, 2.6917142793536186, 21.245959401130676, 2.777143567800522, 7.119389623403549, 0.8577455766499043, 4.836530610918999, 20.751523971557617, 24.378307163715363, 3.7898506969213486, 18.670815229415894, 24.26137626171112, 34.053173661231995, 1.7966048792004585, 15.137830376625061, 9.208664298057556, 16.096340119838715, 1.9854459911584854, 6.238438934087753, 2.212441898882389, 4.737451300024986, 2.3180555552244186, 3.894679620862007, 0.39443005807697773, 1.2590332888066769, 0.16825423808768392, 3.235757350921631, 2.9369747266173363, 1.1449442245066166, 1.792016252875328, 0.027894863160327077, 0.3159289015457034, 6.6484250128269196, 43.5779869556427, 2.2010216489434242, 13.006550073623657, 38.947781920433044, 1.4732856303453445, 13.780468702316284, 1.7702767625451088, 2.1264059469103813, 3.4087009727954865, 6.19601272046566, 3.7826895713806152, 13.517189025878906, 0.4496314562857151, 3.1239157542586327, 2.352210134267807, 1.9945431500673294, 4.495691508054733, 26.29660964012146, 4.214755445718765, 0.9165030904114246, 0.46866582706570625, 1.0609684512019157, 58.39263200759888, 72.93168306350708, 3.106876276433468, 13.294555246829987, 5.65950870513916, 1.7197713255882263, 5.253143608570099, 0.6707376334816217, 20.843392610549927, 9.946011751890182, 17.5528883934021, 0.07663684664294124, 2.4207601323723793, 3.2204650342464447, 5.348528176546097, 2.4724967777729034, 5.284838378429413, 27.641841769218445, 0.6392114795744419, 4.356018826365471, 12.055302411317825, 3.4240297973155975, 5.552579462528229, 1.9322186708450317, 4.281917214393616, 11.64245456457138, 24.397648870944977, 0.16379206208512187, 0.6904998794198036, 5.7955872267484665, 4.997987300157547, 21.897147595882416, 21.866820752620697, 6.480395793914795, 4.012377932667732, 0.8643314242362976, 5.626937001943588, 3.84410098195076, 20.30283212661743, 2.8302110731601715, 10.876332968473434, 10.35909429192543, 43.42947006225586, 3.852665424346924, 8.717238157987595, 2.2949613630771637, 5.6061651557683945, 1.053774356842041, 3.9274167269468307, 0.33603860065340996, 5.799799412488937, 6.885557621717453, 1.557950396090746, 3.503168746829033, 0.0, 2.634166181087494, 4.225873947143555, 4.521298781037331, 28.88176739215851, 0.4629340022802353, 2.9901696369051933, 18.097685277462006, 31.114640831947327, 2.6347817853093147, 4.232119023799896, 6.188360974192619, 31.798091530799866, 9.54800769686699, 11.01861372590065, 4.556787759065628, 3.5496149212121964, 37.065914273262024, 11.617901921272278, 20.90214490890503, 5.750106647610664, 15.233409404754639, 1.4100387692451477, 21.457375586032867, 1.3012658804655075, 8.256859332323074, 0.0, 0.6187011953443289, 2.0371897146105766, 0.8081997744739056, 16.411952674388885, 32.358697056770325, 38.53802978992462, 35.10037958621979, 50.5812406539917, 0.7766649127006531, 3.173573315143585, 1.233433187007904, 2.9790692031383514, 10.970383137464523, 0.49650692380964756, 3.4995008260011673, 2.0579079166054726, 4.425099864602089, 14.428180456161499, 19.016845524311066, 12.114307284355164, 27.842390537261963, 21.59552127122879, 48.58163297176361, 0.39746961556375027, 0.9474661201238632, 2.3786665871739388, 12.196655571460724, 22.518691420555115, 0.7069365587085485, 3.333144262433052, 0.9613429196178913, 13.907699286937714, 0.8348124101758003, 2.929161675274372, 24.609123170375824, 3.0972326174378395, 41.80804789066315, 3.2390285283327103, 32.471904158592224, 4.767206683754921, 9.435728192329407, 1.2989173643290997, 5.317452549934387, 22.06275314092636, 29.102599620819092, 5.036943778395653, 21.49326205253601, 28.263497352600098, 37.88767457008362, 1.50447441264987, 17.009656131267548, 11.006703972816467, 18.602406978607178, 1.4407387934625149, 9.03998538851738, 2.688102051615715, 5.782067775726318, 3.8330748677253723, 5.894694849848747, 0.3143737558275461, 1.4057016000151634, 0.21446505561470985, 3.862752392888069, 3.4579768776893616, 2.1191315725445747, 3.0598917976021767, 0.0, 0.5906115751713514, 7.188395410776138, 46.258872747421265, 3.7582680583000183, 14.212678372859955, 44.213926792144775, 2.3630106821656227, 17.62871742248535, 3.592916950583458, 2.346406877040863, 3.874467685818672, 9.561480581760406, 3.7554986774921417, 15.869715809822083, 0.23216682020574808, 3.5315245389938354, 3.4867607057094574, 3.0972037464380264, 4.967200011014938, 30.747216939926147, 6.999915838241577, 0.3803460858762264, 0.4903947003185749, 1.8561236560344696, 62.35278248786926, 76.89898610115051, 3.681172803044319, 13.91933262348175, 6.038987636566162, 2.20652986317873, 6.328920274972916, 1.0555203072726727, 23.475883901119232, 11.772675812244415, 20.550154149532318, 0.10808850638568401, 4.154888913035393, 4.0780797600746155, 7.157745957374573, 3.0111314728856087, 6.561851501464844, 24.27068203687668, 1.0581450536847115, 4.494166001677513, 12.159311771392822, 4.076545685529709, 7.088986039161682, 2.3886004462838173, 5.437198281288147, 14.383044838905334, 29.117387533187866, 0.0, 0.8922737091779709, 7.213173061609268, 4.8902712762355804, 22.65145629644394, 26.957783102989197, 6.336299329996109, 3.8916125893592834, 1.6116831451654434, 6.627975404262543, 5.245024338364601, 22.830072045326233, 3.080185316503048, 12.792342901229858, 12.533986568450928, 45.01606523990631, 5.503338202834129, 12.030848115682602, 2.5099581107497215, 7.226553559303284, 1.0244758799672127, 4.662906751036644, 0.39773103781044483, 9.317338466644287, 12.570194900035858, 2.01092716306448, 4.876864701509476, 0.0, 3.0144207179546356, 3.4948837012052536, 4.715093970298767, 30.94879984855652, 0.5683251656591892, 2.088693715631962, 20.10636329650879, 36.88657581806183, 3.911251574754715, 6.672608107328415, 7.832574844360352, 34.885695576667786, 11.37668490409851, 13.57576847076416, 4.722774773836136, 5.200206488370895, 41.985589265823364, 12.909235060214996, 23.460763692855835, 7.191665470600128, 19.788731634616852, 1.4988231472671032, 26.974770426750183, 0.808276329189539, 11.28861978650093, 0.0, 0.862640980631113, 1.674925908446312, 0.9568418376147747, 18.537823855876923, 38.37635815143585, 44.11405920982361, 41.23466908931732, 58.642083406448364, 0.856837909668684, 3.636932000517845, 2.1696507930755615, 3.280988335609436, 14.062678813934326, 0.47589754685759544, 3.3553052693605423, 2.5181876495480537, 5.5096060037612915, 15.02961665391922, 19.418837130069733, 14.853614568710327, 29.946058988571167, 24.207738041877747, 51.1731743812561, 0.5723477806895971, 1.717255637049675, 3.067159652709961, 12.619279325008392, 22.956569492816925, 0.577971525490284, 3.002232499420643, 1.2412826530635357, 15.254214406013489, 1.032770611345768, 2.6203740388154984, 21.313460171222687, 4.235522076487541, 37.99678385257721, 3.6637861281633377, 30.76450824737549, 3.791401907801628, 6.974468380212784, 0.8597827516496181, 6.8852633237838745, 24.833156168460846, 33.86750817298889, 5.523540824651718, 25.021910667419434, 25.592002272605896, 40.31999707221985, 2.5835808366537094, 17.544665932655334, 9.784429520368576, 19.154083728790283, 2.4967115372419357, 8.767537027597427, 2.8941377997398376, 5.8437202125787735, 2.812756784260273, 5.022080615162849, 0.3580427961423993, 1.385508757084608, 0.21476689726114273, 4.763005301356316, 3.2660994678735733, 1.817251555621624, 2.1478600800037384, 0.043383819865994155, 0.41438345797359943, 8.493317663669586, 49.37855899333954, 3.906075283885002, 12.404301017522812, 42.20717251300812, 1.7940403893589973, 16.012319922447205, 2.32184324413538, 2.4183662608265877, 4.447195678949356, 8.600607514381409, 4.914160445332527, 20.36694437265396, 0.5313470028340816, 3.3320486545562744, 3.0313540250062943, 2.3539872840046883, 6.597167253494263, 33.20675492286682, 5.890419706702232, 0.9630730375647545, 0.7946781814098358, 1.4891689643263817, 61.53257489204407, 77.83570885658264, 3.986945003271103, 14.704179763793945, 5.947420746088028, 1.8024245277047157, 7.0403702557086945, 1.0855617001652718, 21.394263207912445, 11.98522225022316, 20.263175666332245, 0.16489630797877908, 3.5256166011095047, 4.240204766392708, 7.003667950630188, 2.9303185641765594, 6.510411947965622, 40.51152169704437, 0.9972837753593922, 4.294292256236076, 12.815654277801514, 2.8193440288305283, 7.8632742166519165, 2.2352462634444237, 5.243337154388428, 16.893436014652252, 27.770283818244934, 0.22375639528036118, 0.610525906085968, 7.703660428524017, 7.176278531551361, 28.130552172660828, 26.292091608047485, 8.927325904369354, 5.312570184469223, 1.3892529532313347, 7.565510272979736, 4.654328525066376, 23.256997764110565, 2.9501231387257576, 13.42691034078598, 12.855198979377747, 46.96452021598816, 5.297308415174484, 12.710809707641602, 2.1691758185625076, 6.314298510551453, 1.144444290548563, 4.3541282415390015, 0.4543042741715908, 9.618984907865524, 12.296584993600845, 1.9221197813749313, 4.533964768052101, 0.0, 3.3762626349925995, 3.4241538494825363, 5.489000678062439, 33.25980603694916, 0.6131925620138645, 3.525146469473839, 20.735403895378113, 31.748691201210022, 3.5719718784093857, 5.435026064515114, 8.572234213352203, 38.743215799331665, 12.982547283172607, 10.137755423784256, 5.685184895992279, 4.174045100808144, 46.1551308631897, 13.917133212089539, 23.845385015010834, 6.424173712730408, 16.33017510175705, 1.4777242206037045, 23.72165024280548, 1.2641041539609432, 9.246218204498291, 0.0, 1.1467364616692066, 3.132213279604912, 1.392163708806038, 26.110056042671204, 36.86896860599518, 45.34504413604736, 38.6342853307724, 55.08619546890259, 0.7803995627909899, 3.7479501217603683, 1.2434718199074268, 4.393966868519783, 13.865584135055542, 0.7544557563960552, 3.905037045478821, 2.461187355220318, 5.411261692643166, 17.99483597278595, 24.86105114221573, 13.774865865707397, 32.36992955207825, 25.19219219684601, 52.36294865608215, 0.0, 0.054768595146015286, 1.687861792743206, 5.906480178236961, 9.456522017717361, 0.235245143994689, 1.1893422342836857, 0.0, 3.8497935980558395, 0.32017573248595, 0.30308549758046865, 9.411849826574326, 1.5196307562291622, 23.095738887786865, 1.8953010439872742, 12.673729658126831, 0.17163989832624793, 7.663671672344208, 0.8544023148715496, 0.42957463301718235, 12.549184262752533, 12.896756827831268, 1.3218043372035027, 8.099935203790665, 21.547822654247284, 23.128871619701385, 0.40440885350108147, 9.11305770277977, 7.901421934366226, 10.328445583581924, 1.2948479503393173, 2.5121400132775307, 1.0071273893117905, 1.7620917409658432, 1.1884399689733982, 0.7071238476783037, 0.49605071544647217, 0.9450044482946396, 0.09715915657579899, 1.2166786938905716, 2.1165771409869194, 0.6128320470452309, 1.5142335556447506, 0.0, 0.0, 4.193376377224922, 32.256755232810974, 0.934129860252142, 14.608269929885864, 32.908838987350464, 0.6152891088277102, 8.31778198480606, 0.8804873563349247, 1.4743683859705925, 2.264014817774296, 1.4670910313725471, 2.0876754075288773, 5.727430060505867, 0.3067772137001157, 2.76392325758934, 1.5428357757627964, 1.563003845512867, 2.383529581129551, 20.12709677219391, 1.088218204677105, 0.8087253198027611, 0.23628848139196634, 0.7286400068551302, 44.04636323451996, 51.76575779914856, 2.118583954870701, 9.416138380765915, 4.970697686076164, 1.5856176614761353, 1.3698779977858067, 0.0, 18.508316576480865, 5.666811391711235, 11.180584877729416, 0.0, 1.495832484215498, 1.8838394433259964, 3.242943063378334, 1.6567660495638847, 3.217097744345665, 20.015639066696167, 0.38976874202489853, 4.773682728409767, 6.857237219810486, 4.364514350891113, 1.318387221544981, 1.3984748162329197, 2.701444551348686, 4.390142112970352, 15.637481212615967, 0.0, 0.9000586345791817, 4.171675071120262, 1.3181714341044426, 12.067300081253052, 13.54452669620514, 4.021447524428368, 2.649521827697754, 0.19946321845054626, 1.987147331237793, 1.4174507930874825, 9.987208992242813, 2.6227081194519997, 4.378250241279602, 6.976695358753204, 35.09609401226044, 0.6946409586817026, 2.2062692791223526, 2.5310568511486053, 3.56353260576725, 0.9271084330976009, 2.9920171946287155, 0.08766988757997751, 2.047099731862545, 3.400297462940216, 0.8419420570135117, 1.485105510801077, 0.0, 0.8346597664058208, 5.529727041721344, 2.7145344763994217, 18.144075572490692, 0.22194520570337772, 2.287803404033184, 9.548376500606537, 26.27401053905487, 1.5733202919363976, 2.9036227613687515, 3.562679886817932, 22.192196547985077, 2.4867208674550056, 12.816208600997925, 3.300264850258827, 2.3964356631040573, 25.87692439556122, 6.902209669351578, 13.63750845193863, 3.8965724408626556, 13.787712156772614, 1.261375192552805, 15.651929378509521, 1.420152559876442, 4.98480349779129, 0.0, 0.0, 0.6364604458212852, 0.35116837825626135, 5.110882967710495, 17.70787090063095, 22.52776473760605, 23.075325787067413, 35.079118609428406, 0.7679005153477192, 1.9165759906172752, 1.2188689783215523, 0.9784048423171043, 1.3975461944937706, 0.0, 2.408900484442711, 1.3747451826930046, 2.7139972895383835, 8.78145694732666, 8.739962428808212, 8.435409516096115, 19.409355521202087, 16.83994084596634, 40.17019867897034, 0.2061457373201847, 0.8797722868621349, 2.3769093677401543, 9.67409834265709, 18.19451004266739, 0.1886739395558834, 1.5782639384269714, 0.4006344825029373, 6.195098906755447, 0.660199485719204, 1.1496145278215408, 11.72684133052826, 3.0648428946733475, 23.653271794319153, 2.124512754380703, 10.273787379264832, 0.8885994553565979, 4.9114566296339035, 0.4432301502674818, 4.402660951018333, 19.45732980966568, 20.506082475185394, 2.6697712019085884, 16.121254861354828, 20.028850436210632, 29.854729771614075, 2.0884979516267776, 13.30350935459137, 7.43187740445137, 13.520658016204834, 2.534717507660389, 3.4495875239372253, 1.769891381263733, 3.806975856423378, 0.8337031118571758, 1.9138706848025322, 0.4754813853651285, 1.1115733534097672, 0.12862937292084098, 2.6913300156593323, 2.4362776428461075, 0.1320324488915503, 0.5412440747022629, 0.054347957484424114, 0.057601003209128976, 6.137460470199585, 41.053035855293274, 0.846682395786047, 11.838667839765549, 33.785104751586914, 0.5818263627588749, 9.894648939371109, 0.13290044153109193, 1.9288193434476852, 2.9581865295767784, 3.1779374927282333, 3.809056431055069, 11.300607025623322, 0.6616608705371618, 2.734140306711197, 1.1720117181539536, 0.8559810929000378, 4.014531150460243, 22.024737298488617, 1.426144316792488, 1.4221210032701492, 0.4459682386368513, 0.1452054362744093, 54.90444302558899, 69.38014030456543, 2.5977101176977158, 12.80396580696106, 5.341826751828194, 1.2641666457057, 4.279298335313797, 0.32248550560325384, 18.340086936950684, 8.186713606119156, 14.694657921791077, 0.04844420182053, 0.9569340385496616, 2.3560181260108948, 3.5536326467990875, 1.9368914887309074, 4.029547423124313, 30.79032301902771, 0.2525211777538061, 4.228305071592331, 11.962464451789856, 2.8132326900959015, 4.208812490105629, 1.4773547649383545, 3.143467754125595, 8.98783877491951, 19.835922122001648, 0.3155094338580966, 0.5126241128891706, 4.429890215396881, 5.095837265253067, 21.204374730587006, 17.101095616817474, 6.6169291734695435, 4.132514446973801, 0.16978401690721512, 4.672697186470032, 2.527458593249321, 17.990608513355255, 2.554049715399742, 8.742344379425049, 8.395073562860489, 42.04973578453064, 2.1720049902796745, 5.258174240589142, 2.0691482350230217, 3.896106407046318, 1.0816133581101894, 3.2469384372234344, 0.2825407078489661, 2.1686702966690063, 0.7937069982290268, 1.1082037352025509, 2.195521257817745, 0.0, 2.263081446290016, 4.92294542491436, 4.3328240513801575, 26.798805594444275, 0.36601691972464323, 3.7974413484334946, 16.127213835716248, 26.01447105407715, 1.3144269585609436, 1.7318466678261757, 4.718325287103653, 29.05339002609253, 7.8584544360637665, 8.725956082344055, 4.401709139347076, 2.1849004551768303, 32.055848836898804, 10.353430360555649, 18.404215574264526, 4.428629577159882, 10.905279219150543, 1.3241009786725044, 15.985378623008728, 1.7291704192757607, 5.634860321879387, 0.0, 0.37784536834806204, 2.3879004642367363, 0.662665581330657, 14.301985502243042, 26.57744288444519, 33.19733142852783, 29.039490222930908, 42.97174513339996, 0.6975621450692415, 2.720147557556629, 0.42059109546244144, 2.7003439143300056, 8.166056126356125, 0.5161640234291553, 3.6319956183433533, 1.6025194898247719, 3.3641286194324493, 13.888615369796753, 18.640176951885223, 9.477424621582031, 25.82308053970337, 19.09697949886322, 46.2018609046936, 0.26302565820515156, 0.0, 5.9815578162670135, 9.630850702524185, 10.118091851472855, 1.5016225166618824, 2.874979004263878, 0.979455653578043, 17.676399648189545, 0.7356902584433556, 1.0238910093903542, 19.11882609128952, 2.6676472276449203, 32.610735297203064, 3.42167392373085, 26.650413870811462, 3.5105805844068527, 10.956714302301407, 1.088153664022684, 5.332203209400177, 22.741571068763733, 27.518394589424133, 2.6957422494888306, 23.46397638320923, 20.31736522912979, 30.898278951644897, 1.8108120188117027, 16.09797775745392, 8.2527294754982, 15.442445874214172, 2.535965107381344, 6.780833750963211, 1.8001815304160118, 3.0721772462129593, 1.687050238251686, 4.270162805914879, 0.8337722159922123, 2.703837677836418, 0.1965137431398034, 4.512013867497444, 2.9574939981102943, 2.3100242018699646, 2.9388869181275368, 0.0, 0.1086344476789236, 7.818048447370529, 48.77033233642578, 2.5117695331573486, 15.636588633060455, 36.66800856590271, 1.612008549273014, 17.238837480545044, 2.9511624947190285, 2.6474934071302414, 3.3398330211639404, 5.600131303071976, 3.067825362086296, 12.023269385099411, 0.9754950180649757, 4.852748289704323, 1.491404976695776, 1.2990202754735947, 5.449021607637405, 33.74257981777191, 3.5119127482175827, 1.152720581740141, 0.8072888478636742, 1.214408129453659, 51.555389165878296, 69.95534896850586, 3.2105911523103714, 18.468599021434784, 6.0404084622859955, 2.387586608529091, 6.607188284397125, 0.7115598767995834, 23.331966996192932, 8.298573642969131, 17.735186219215393, 0.0, 7.671203464269638, 3.39687317609787, 6.006466597318649, 3.056778758764267, 7.195771485567093, 25.036588311195374, 1.3732769526541233, 3.8991540670394897, 12.793077528476715, 5.966878309845924, 11.575820297002792, 2.4746108800172806, 5.842922627925873, 10.92049926519394, 25.19576847553253, 0.33218623138964176, 1.2837687507271767, 7.711845636367798, 3.1492359936237335, 13.231196999549866, 26.135480403900146, 5.570907890796661, 4.166799038648605, 2.2131282836198807, 8.352348953485489, 2.360896021127701, 20.582638680934906, 3.9060287177562714, 16.322869062423706, 9.547913819551468, 45.98800539970398, 2.8138862922787666, 7.436808198690414, 1.5565023757517338, 5.083092674612999, 1.4572367072105408, 6.445586681365967, 0.0, 8.783300966024399, 6.772574782371521, 1.5948520973324776, 3.499937057495117, 0.0, 4.0226079523563385, 5.609872564673424, 4.063909873366356, 22.738683223724365, 0.0, 3.4262314438819885, 11.875899136066437, 32.188594341278076, 2.485128678381443, 4.286404326558113, 3.395257145166397, 26.70081853866577, 3.6813367158174515, 10.994119197130203, 4.326655343174934, 4.659669101238251, 40.682899951934814, 9.874840825796127, 20.250092446804047, 3.812350705265999, 15.291574597358704, 1.217974629253149, 24.70981627702713, 2.6412827894091606, 15.709143877029419, 0.0, 0.3970248159021139, 1.7698520794510841, 0.9092217311263084, 20.29922902584076, 25.60901641845703, 37.14161813259125, 26.713570952415466, 50.716179609298706, 1.2135642580688, 5.574557930231094, 2.0721489563584328, 1.2061463668942451, 7.321172207593918, 0.0, 7.615412771701813, 2.708057127892971, 6.430698186159134, 9.572930634021759, 16.91591590642929, 13.240587711334229, 28.90302836894989, 20.0067400932312, 43.00917088985443, 0.3298982512205839, 1.4689943753182888, 1.3204391114413738, 12.000852078199387, 22.34298139810562, 0.12853300431743264, 2.2814417257905006, 0.5598435644060373, 7.606705278158188, 0.7529874797910452, 2.5432152673602104, 17.794065177440643, 3.3089883625507355, 34.132808446884155, 2.371915802359581, 19.168953597545624, 2.476157061755657, 5.51346056163311, 0.7852613925933838, 4.684155434370041, 19.91916298866272, 23.053738474845886, 4.0688615292310715, 17.596256732940674, 26.199716329574585, 35.87464392185211, 1.7891492694616318, 14.472976326942444, 9.807883203029633, 16.82998687028885, 1.7607228830456734, 6.136469915509224, 2.346271276473999, 5.290685221552849, 2.561607025563717, 3.7544462829828262, 0.30439167749136686, 0.9837798774242401, 0.16187530709430575, 2.9457198455929756, 2.9309188947081566, 0.5821629427373409, 1.3711278326809406, 0.04202233103569597, 0.4258639644831419, 6.128049269318581, 41.61880612373352, 2.1434741094708443, 11.875125020742416, 40.24118781089783, 1.4035611413419247, 11.926072090864182, 1.1415311135351658, 1.8544502556324005, 3.443766012787819, 6.5048180520534515, 4.175961390137672, 14.335733652114868, 0.2934412332251668, 2.594986744225025, 2.6711074635386467, 2.257891185581684, 4.194280505180359, 23.637154698371887, 4.535112157464027, 0.8440119214355946, 0.2681006444618106, 0.9826906025409698, 61.847251653671265, 74.29749965667725, 3.061782941222191, 11.259261518716812, 5.484249070286751, 1.4915114268660545, 4.802010208368301, 0.6581698544323444, 19.468124210834503, 10.82421988248825, 17.52902865409851, 0.09814496152102947, 1.1055557988584042, 3.1538013368844986, 5.096226930618286, 2.2947147488594055, 4.701177775859833, 28.67739200592041, 0.4071328788995743, 4.561829194426537, 11.733769625425339, 2.510703168809414, 3.4659914672374725, 1.7748991027474403, 3.8304101675748825, 12.003523856401443, 24.020245671272278, 0.10606066789478064, 0.4951715935021639, 5.127120018005371, 5.63676692545414, 24.877941608428955, 19.278275966644287, 6.958780437707901, 3.939274698495865, 0.5319046322256327, 4.951971769332886, 4.680197313427925, 20.2587753534317, 2.5001075118780136, 8.871187269687653, 10.777727514505386, 42.29502975940704, 4.439641907811165, 9.625741094350815, 2.696576528251171, 6.003971770405769, 0.860679242759943, 2.578016370534897, 0.4778822883963585, 4.297273606061935, 6.957527995109558, 1.5487306751310825, 3.5081785172224045, 0.0, 2.16738935559988, 3.7093371152877808, 4.701613262295723, 31.28633201122284, 0.5427934229373932, 2.9167626053094864, 21.000202000141144, 30.569425225257874, 2.693355083465576, 4.211831092834473, 7.6424553990364075, 34.729909896850586, 10.563576966524124, 11.030133068561554, 4.644077271223068, 3.1102318316698074, 35.78561246395111, 12.522636353969574, 21.38945311307907, 6.902951002120972, 15.208806097507477, 1.504951436072588, 19.531188905239105, 1.0138488374650478, 6.8304382264614105, 0.0, 0.6966473069041967, 2.0998967811465263, 0.7782468106597662, 15.383610129356384, 35.88258922100067, 39.32414650917053, 40.76605439186096, 50.4633903503418, 0.6807633675634861, 2.6745766401290894, 1.0272913612425327, 3.5548731684684753, 12.027052789926529, 0.6442267913371325, 2.4004852399230003, 1.8795328214764595, 3.8694363087415695, 16.38023853302002, 19.916735589504242, 11.38434112071991, 27.059122920036316, 22.505903244018555, 51.45449638366699, 0.2870155265554786, 0.3958301618695259, 0.8035353384912014, 7.10487961769104, 9.293076395988464, 0.8639561012387276, 0.7616137154400349, 0.0, 20.5984428524971, 0.38357130251824856, 1.0405381210148335, 11.397690325975418, 1.9108684733510017, 28.43187153339386, 1.594087854027748, 14.411115646362305, 1.2260779738426208, 2.4505004286766052, 0.56598917581141, 0.8385514840483665, 4.53149601817131, 9.35189351439476, 0.7131901104003191, 3.590172901749611, 20.90706080198288, 27.85215973854065, 0.2710894914343953, 8.878156542778015, 4.755247011780739, 8.292435109615326, 2.2455228492617607, 6.393088400363922, 1.2972017750144005, 2.4596985429525375, 0.9606574662029743, 3.79653200507164, 0.2109169028699398, 0.234530889429152, 0.030206175870262086, 2.1639838814735413, 0.9625867009162903, 0.5709787830710411, 1.0575048625469208, 0.0, 0.0, 4.391411319375038, 31.21313452720642, 0.0, 6.725938618183136, 33.17176401615143, 1.1773164384067059, 9.963909536600113, 0.6556656211614609, 0.9274739772081375, 1.7630727961659431, 5.349471792578697, 3.106488287448883, 6.3973695039749146, 0.0, 0.42219897732138634, 1.484842598438263, 0.5898561794310808, 0.4416846204549074, 8.35387334227562, 3.6141883581876755, 0.0, 0.0, 0.0, 50.60361623764038, 57.38699436187744, 3.3651940524578094, 12.411457300186157, 5.048474669456482, 1.1660553514957428, 1.7170310020446777, 0.0, 15.253464877605438, 7.325153797864914, 12.655974924564362, 0.0, 1.0556184686720371, 2.5412656366825104, 2.8845250606536865, 1.8726537004113197, 2.9799629002809525, 18.362924456596375, 0.108482432551682, 2.211845852434635, 8.774225413799286, 2.589532732963562, 0.702720507979393, 1.3194047845900059, 1.852516084909439, 10.477525740861893, 19.27163004875183, 0.132225442212075, 0.21129311062395573, 1.1050504632294178, 0.6879108026623726, 7.379867136478424, 16.46609455347061, 5.719657614827156, 3.722602128982544, 0.0, 2.670491114258766, 1.5604839660227299, 13.621905446052551, 0.0, 7.994280755519867, 2.0415710285305977, 33.45543444156647, 3.226562589406967, 8.281239867210388, 2.246546186506748, 1.284318882972002, 0.1627946738153696, 2.8251532465219498, 0.28162882663309574, 4.7000303864479065, 4.189826920628548, 1.386416144669056, 1.4666852541267872, 0.0, 0.7752296980470419, 3.290075436234474, 1.9180839881300926, 20.971311628818512, 0.41871750727295876, 0.0, 16.203999519348145, 26.981770992279053, 1.8827268853783607, 2.030135691165924, 4.955191910266876, 27.242612838745117, 1.2496569193899632, 6.807267665863037, 3.5687699913978577, 1.7730236053466797, 31.94214105606079, 8.719009906053543, 14.956825971603394, 5.489199981093407, 13.529875874519348, 0.8229726925492287, 16.881895065307617, 0.895288959145546, 1.2356052175164223, 0.0, 0.5366429686546326, 1.060560904443264, 0.0, 7.613607496023178, 26.390987634658813, 33.285194635391235, 28.49077582359314, 39.314839243888855, 0.2422563498839736, 0.7246247492730618, 1.0974529199302197, 0.0, 6.291297823190689, 0.12573975836858153, 1.1600819416344166, 1.7831122502684593, 2.8190147131681442, 6.021377816796303, 12.17058077454567, 3.938739001750946, 14.524543285369873, 12.56319284439087, 31.905004382133484, 0.3472262294963002, 2.2649843245744705, 4.3664392083883286, 11.726238578557968, 21.863213181495667, 0.16247519524767995, 3.45955453813076, 0.821811705827713, 8.25515016913414, 3.757941350340843, 5.56970052421093, 34.20514166355133, 10.324776917696, 51.6277015209198, 3.81278395652771, 26.056230068206787, 3.2292496412992477, 9.701918810606003, 1.0967769660055637, 6.958481669425964, 28.60337197780609, 35.93003749847412, 4.760141298174858, 23.558776080608368, 34.220027923583984, 52.52671837806702, 4.028110578656197, 24.677839875221252, 11.917497962713242, 19.68015432357788, 1.7419809475541115, 6.567496806383133, 2.5493772700428963, 6.0672327876091, 4.306270182132721, 3.6966703832149506, 0.6501801311969757, 2.578442171216011, 0.2084330189973116, 3.546294942498207, 3.6375753581523895, 1.6190141439437866, 2.2038523107767105, 0.2052179304882884, 2.13241595774889, 9.277403354644775, 56.23932480812073, 2.498672530055046, 18.258948624134064, 46.20845317840576, 2.7465613558888435, 28.69929075241089, 2.6470275595784187, 3.357185795903206, 5.552741512656212, 7.2813913226127625, 4.148344695568085, 17.878390848636627, 0.8399806916713715, 5.578864738345146, 3.2672885805368423, 3.577481210231781, 6.684341281652451, 30.53608536720276, 4.4737182557582855, 1.264705415815115, 0.6340417079627514, 1.4506390318274498, 66.5219783782959, 83.89471173286438, 3.0469879508018494, 20.193183422088623, 9.722564369440079, 2.086026407778263, 7.08470493555069, 1.0591380298137665, 33.21314752101898, 16.892516613006592, 29.49526309967041, 0.15174702275544405, 3.872675448656082, 3.889605402946472, 7.899960875511169, 3.135323151946068, 7.688191533088684, 47.06405997276306, 1.7962977290153503, 15.09682685136795, 28.30806076526642, 4.116033762693405, 7.936646789312363, 2.57045216858387, 6.657030433416367, 16.668371856212616, 41.84834957122803, 0.22025282960385084, 1.5931611880660057, 10.463108122348785, 6.544093042612076, 27.47858464717865, 48.39244186878204, 7.491882145404816, 4.4614724814891815, 1.5135399997234344, 7.5791142880916595, 11.608724296092987, 38.45821022987366, 3.3247530460357666, 11.21198982000351, 17.52842217683792, 49.35145080089569, 14.564059674739838, 17.593397200107574, 2.338477596640587, 9.180884808301926, 1.596478559076786, 4.495961219072342, 0.572023494169116, 10.242234915494919, 13.260798156261444, 1.6347918659448624, 4.178817197680473, 0.0, 3.011546842753887, 4.618169367313385, 5.602918937802315, 33.483877778053284, 0.49385582096874714, 4.349306598305702, 29.783537983894348, 58.267468214035034, 3.5458073019981384, 6.857721507549286, 9.665555506944656, 43.47464740276337, 11.564530432224274, 25.067654252052307, 5.8533452451229095, 5.260273814201355, 64.89959955215454, 15.995201468467712, 29.83529567718506, 7.517796754837036, 27.596718072891235, 2.983632870018482, 29.98102605342865, 1.8950140103697777, 16.096770763397217, 0.0, 0.7186145056039095, 2.8333812952041626, 1.184106431901455, 20.696255564689636, 56.35104179382324, 57.044750452041626, 45.80259323120117, 66.33827090263367, 1.361676212400198, 5.422786623239517, 1.3165997341275215, 4.079897329211235, 12.398862838745117, 0.643577566370368, 5.047560855746269, 2.292584627866745, 5.719085410237312, 17.56334900856018, 21.74317240715027, 21.709197759628296, 40.51559865474701, 27.379173040390015, 58.104705810546875, 0.0, 0.3606787184253335, 0.4945659078657627, 7.017100602388382, 15.585900843143463, 1.0823271237313747, 1.1320526711642742, 0.3406480886042118, 7.557441294193268, 0.0, 0.26415104512125254, 13.506491482257843, 2.070268802344799, 21.11714631319046, 1.5797598287463188, 14.571692049503326, 0.9500117972493172, 6.808082014322281, 0.6320260930806398, 2.2592518478631973, 7.242308557033539, 12.483213096857071, 2.6396505534648895, 11.294939368963242, 19.19388920068741, 27.091559767723083, 0.7400082889944315, 7.170712947845459, 6.9673992693424225, 11.660876125097275, 0.10819734307006001, 5.999251827597618, 2.698102407157421, 4.406022280454636, 2.137151174247265, 3.204527497291565, 0.24370402097702026, 0.586805259808898, 0.03129083779640496, 2.293100766837597, 0.22217694204300642, 0.0, 0.23700029123574495, 0.0, 0.0, 4.659874364733696, 36.75220012664795, 0.8009389042854309, 10.049327462911606, 32.02511668205261, 0.49900636076927185, 12.15929314494133, 0.872864481061697, 0.87646609172225, 2.373186871409416, 5.556182190775871, 2.1426167339086533, 6.5080709755420685, 0.28042763005942106, 1.6765648499131203, 0.9652678854763508, 0.7471430115401745, 0.9742869064211845, 20.36500722169876, 2.9643524438142776, 0.5616056267172098, 0.0, 0.0, 51.84417366981506, 59.36466455459595, 0.3645308781415224, 9.247436374425888, 4.7357480973005295, 1.3258739374578, 2.83493809401989, 0.2384839579463005, 16.672086715698242, 6.0283903032541275, 12.814278900623322, 0.06395484670065343, 1.5967300161719322, 2.1102728322148323, 3.217712417244911, 1.5667710453271866, 3.388669341802597, 15.639123320579529, 0.3002073848620057, 2.085527405142784, 8.877648413181305, 2.334838919341564, 2.252357639372349, 1.2462742626667023, 2.623029612004757, 11.580357700586319, 21.16589844226837, 0.0, 0.5455695558339357, 4.15424183011055, 0.6809630896896124, 13.14498484134674, 11.625517159700394, 4.057806730270386, 3.2741189002990723, 0.0, 3.894861415028572, 1.2155411764979362, 10.39375364780426, 2.3036157712340355, 9.737443923950195, 3.225564956665039, 29.15157973766327, 2.7947789058089256, 6.711240857839584, 1.8606515601277351, 2.785203419625759, 0.15333177288994193, 3.7953507155179977, 0.24411347694694996, 5.258793011307716, 3.208296000957489, 1.2569949962198734, 1.5912821516394615, 0.0, 1.6652099788188934, 3.060104139149189, 0.7232204545289278, 22.284431755542755, 0.10675638914108276, 1.702149398624897, 6.76453709602356, 15.230284631252289, 1.4111898839473724, 2.271241508424282, 2.518302761018276, 26.822683215141296, 3.7405040115118027, 6.577862054109573, 3.3537425100803375, 2.22909078001976, 26.658129692077637, 8.118334412574768, 15.283823013305664, 3.09293232858181, 9.915740042924881, 0.523644220083952, 16.40550047159195, 0.0, 3.3229827880859375, 0.0, 0.0, 1.7516443505883217, 0.15640677884221077, 11.966495960950851, 18.062320351600647, 30.368751287460327, 21.3327094912529, 39.62973654270172, 0.4592244978994131, 2.0116087049245834, 0.8724736981093884, 1.977306604385376, 5.8035265654325485, 0.21735196933150291, 0.9778845123946667, 1.3032807037234306, 2.8412846848368645, 8.856257051229477, 12.06066682934761, 5.484503507614136, 18.514013290405273, 9.967928379774094, 40.23011326789856, 0.5071995314210653, 1.2819541618227959, 3.6312274634838104, 14.651012420654297, 25.150415301322937, 0.0, 3.2702162861824036, 0.8688809350132942, 11.220128834247589, 1.2415817007422447, 3.182471916079521, 21.145768463611603, 3.753243014216423, 40.9513920545578, 3.4325752407312393, 25.687143206596375, 3.9933238178491592, 7.326896488666534, 1.0079557076096535, 6.551865488290787, 29.670807719230652, 32.269737124443054, 4.554178938269615, 23.56545329093933, 27.634504437446594, 38.661810755729675, 2.498519979417324, 20.435839891433716, 10.700872540473938, 19.038528203964233, 3.2256916165351868, 6.397013366222382, 1.8887374550104141, 4.9575213342905045, 2.4382390081882477, 4.351919889450073, 0.4924934357404709, 1.717754453420639, 0.25499281473457813, 3.8622502237558365, 4.74465936422348, 1.9056355580687523, 2.8261739760637283, 0.04628621099982411, 0.5263150669634342, 7.973439246416092, 48.12779128551483, 3.130089119076729, 14.973282814025879, 43.54652762413025, 2.121474966406822, 14.859350025653839, 2.3684021085500717, 2.9513677582144737, 4.0984079241752625, 6.621676683425903, 4.873118177056313, 18.18668842315674, 0.5615281872451305, 4.0874578058719635, 3.2751739025115967, 2.825477533042431, 6.862594187259674, 30.228465795516968, 5.047928914427757, 1.1528344824910164, 0.7799032609909773, 1.7664602026343346, 62.73956298828125, 81.93062543869019, 4.9225471913814545, 15.976172685623169, 6.273121386766434, 1.9819073379039764, 6.848008930683136, 0.9587286971509457, 23.62043410539627, 12.669149041175842, 20.699943602085114, 0.08507152670063078, 2.967751771211624, 3.958366811275482, 6.766422837972641, 3.063967265188694, 6.556613743305206, 35.63064932823181, 0.8649309165775776, 5.856486037373543, 14.152057468891144, 4.149401932954788, 7.661853730678558, 2.382049150764942, 5.395441874861717, 11.683657020330429, 26.535236835479736, 0.27286068070679903, 0.7871145382523537, 6.887113302946091, 7.875675708055496, 27.694934606552124, 28.670209646224976, 8.094479143619537, 4.504544287919998, 1.4361237175762653, 6.779754161834717, 5.591581389307976, 26.87551975250244, 3.196961432695389, 11.628755927085876, 15.092548727989197, 52.92084217071533, 4.553196579217911, 10.05089282989502, 2.5837108492851257, 7.480074465274811, 1.65281742811203, 4.0152642875909805, 0.3969381097704172, 6.158242374658585, 9.330294281244278, 1.758093573153019, 4.774278029799461, 0.0, 3.2796937972307205, 5.001457035541534, 7.02638179063797, 33.275431394577026, 0.6996126379817724, 3.8468874990940094, 25.641480088233948, 41.70125424861908, 3.448726609349251, 5.537742003798485, 8.615576475858688, 35.110434889793396, 13.40455710887909, 13.969425857067108, 5.358430743217468, 4.4294897466897964, 43.98879408836365, 14.035394787788391, 24.632613360881805, 7.519884407520294, 18.778416514396667, 1.999305747449398, 24.822698533535004, 2.1658940240740776, 11.543117463588715, 0.0, 1.0294833220541477, 2.2271107882261276, 1.1310475878417492, 19.354163110256195, 41.88370406627655, 43.946582078933716, 44.25384700298309, 57.82567858695984, 0.9823341853916645, 3.960622474551201, 1.4736829325556755, 3.6438316106796265, 14.399740099906921, 0.6813688203692436, 5.18052913248539, 2.5523757562041283, 5.484093353152275, 18.134011328220367, 23.623278737068176, 16.53142124414444, 34.05721187591553, 29.326534271240234, 54.13697361946106, 0.23571718484163284, 0.8522351272404194, 1.8531709909439087, 16.404296457767487, 13.669967651367188, 0.21799143869429827, 1.4342427253723145, 0.5280736368149519, 10.638077557086945, 0.6685006897896528, 1.3104809448122978, 16.166454553604126, 3.044094517827034, 30.847609043121338, 1.8906043842434883, 22.00716882944107, 3.0134789645671844, 7.267932593822479, 0.4057548474520445, 3.972526267170906, 21.335290372371674, 22.152692079544067, 1.370769925415516, 15.502230823040009, 22.45793044567108, 31.298166513442993, 0.9800562635064125, 11.343302577733994, 9.69519168138504, 13.719268143177032, 0.0983250793069601, 7.843109965324402, 2.3573828861117363, 3.6723624914884567, 1.8126949667930603, 4.7833263874053955, 0.3119621891528368, 0.819081999361515, 0.015763351984787732, 2.472817152738571, 2.1003350615501404, 0.726194167509675, 0.748788844794035, 0.03127352683804929, 0.3159039421007037, 5.06916344165802, 36.49970293045044, 2.2039303556084633, 11.953506618738174, 35.40630340576172, 1.2027518823742867, 10.4531928896904, 2.090781554579735, 1.7162786796689034, 3.163846582174301, 6.4641110599040985, 2.934790588915348, 10.591166466474533, 0.41097719222307205, 3.048704005777836, 1.8615525215864182, 1.297583244740963, 3.5519279539585114, 22.703030705451965, 3.120947629213333, 1.0607129894196987, 0.0, 0.8218106813728809, 56.71651363372803, 72.58549332618713, 2.7315527200698853, 12.545116245746613, 4.680792987346649, 1.5652559697628021, 4.37924824655056, 0.3524092258885503, 20.47494351863861, 9.15263295173645, 16.20142012834549, 0.05951737402938306, 1.9486557692289352, 2.9188740998506546, 5.05499541759491, 2.3468146100640297, 4.729340597987175, 26.96300446987152, 0.2386196982115507, 2.3588763549923897, 9.91482213139534, 3.596523404121399, 3.955097123980522, 1.7770342528820038, 3.637465462088585, 11.459831893444061, 20.64443826675415, 0.2360382117331028, 0.3186414949595928, 4.215005412697792, 4.783947393298149, 21.53375595808029, 18.196670711040497, 4.757331311702728, 1.7097672447562218, 0.7193836849182844, 5.601687729358673, 3.067910857498646, 19.046461582183838, 2.87589393556118, 8.218519389629364, 5.749798938632011, 38.90812695026398, 3.66155207157135, 7.102011144161224, 1.7764031887054443, 2.6450198143720627, 0.93643544241786, 3.807540610432625, 0.33977876883000135, 6.248869746923447, 6.354477256536484, 1.295747235417366, 1.618906855583191, 0.0, 1.9296444952487946, 3.4055452793836594, 2.4819523096084595, 26.83863937854767, 0.20099328830838203, 1.9443189725279808, 16.766934096813202, 29.714137315750122, 2.127857878804207, 3.907409682869911, 5.712667480111122, 28.1441867351532, 0.0, 7.969316095113754, 4.438519477844238, 3.711814433336258, 30.37455379962921, 11.104077100753784, 19.48402374982834, 5.839261040091515, 15.075688064098358, 1.2202524580061436, 23.071524500846863, 1.0423166677355766, 5.394980311393738, 0.0, 0.22235680371522903, 1.4417567290365696, 0.0, 13.339686393737793, 28.465688228607178, 37.75206208229065, 34.285932779312134, 50.123512744903564, 0.5707274191081524, 2.0796025171875954, 2.056434378027916, 2.0093077793717384, 9.131504595279694, 0.3204709617421031, 2.296600677073002, 2.0517131313681602, 4.15782518684864, 14.00289535522461, 19.135773181915283, 11.313866078853607, 25.511541962623596, 19.088222086429596, 42.68935024738312], \"y0\": \" \", \"yaxis\": \"y\"}],                        {\"boxmode\": \"group\", \"legend\": {\"tracegroupgap\": 0}, \"margin\": {\"t\": 60}, \"template\": {\"data\": {\"bar\": [{\"error_x\": {\"color\": \"#2a3f5f\"}, \"error_y\": {\"color\": \"#2a3f5f\"}, \"marker\": {\"line\": {\"color\": \"#E5ECF6\", \"width\": 0.5}}, \"type\": \"bar\"}], \"barpolar\": [{\"marker\": {\"line\": {\"color\": \"#E5ECF6\", \"width\": 0.5}}, \"type\": \"barpolar\"}], \"carpet\": [{\"aaxis\": {\"endlinecolor\": \"#2a3f5f\", \"gridcolor\": \"white\", \"linecolor\": \"white\", \"minorgridcolor\": \"white\", \"startlinecolor\": \"#2a3f5f\"}, \"baxis\": {\"endlinecolor\": \"#2a3f5f\", \"gridcolor\": \"white\", \"linecolor\": \"white\", \"minorgridcolor\": \"white\", \"startlinecolor\": \"#2a3f5f\"}, \"type\": \"carpet\"}], \"choropleth\": [{\"colorbar\": {\"outlinewidth\": 0, \"ticks\": \"\"}, \"type\": \"choropleth\"}], \"contour\": [{\"colorbar\": {\"outlinewidth\": 0, \"ticks\": \"\"}, \"colorscale\": [[0.0, \"#0d0887\"], [0.1111111111111111, \"#46039f\"], [0.2222222222222222, \"#7201a8\"], [0.3333333333333333, \"#9c179e\"], [0.4444444444444444, \"#bd3786\"], [0.5555555555555556, \"#d8576b\"], [0.6666666666666666, \"#ed7953\"], [0.7777777777777778, \"#fb9f3a\"], [0.8888888888888888, \"#fdca26\"], [1.0, \"#f0f921\"]], \"type\": \"contour\"}], \"contourcarpet\": [{\"colorbar\": {\"outlinewidth\": 0, \"ticks\": \"\"}, \"type\": \"contourcarpet\"}], \"heatmap\": [{\"colorbar\": {\"outlinewidth\": 0, \"ticks\": \"\"}, \"colorscale\": [[0.0, \"#0d0887\"], [0.1111111111111111, \"#46039f\"], [0.2222222222222222, \"#7201a8\"], [0.3333333333333333, \"#9c179e\"], [0.4444444444444444, \"#bd3786\"], [0.5555555555555556, \"#d8576b\"], [0.6666666666666666, \"#ed7953\"], [0.7777777777777778, \"#fb9f3a\"], [0.8888888888888888, \"#fdca26\"], [1.0, \"#f0f921\"]], \"type\": \"heatmap\"}], \"heatmapgl\": [{\"colorbar\": {\"outlinewidth\": 0, \"ticks\": \"\"}, \"colorscale\": [[0.0, \"#0d0887\"], [0.1111111111111111, \"#46039f\"], [0.2222222222222222, \"#7201a8\"], [0.3333333333333333, \"#9c179e\"], [0.4444444444444444, \"#bd3786\"], [0.5555555555555556, \"#d8576b\"], [0.6666666666666666, \"#ed7953\"], [0.7777777777777778, \"#fb9f3a\"], [0.8888888888888888, \"#fdca26\"], [1.0, \"#f0f921\"]], \"type\": \"heatmapgl\"}], \"histogram\": [{\"marker\": {\"colorbar\": {\"outlinewidth\": 0, \"ticks\": \"\"}}, \"type\": \"histogram\"}], \"histogram2d\": [{\"colorbar\": {\"outlinewidth\": 0, \"ticks\": \"\"}, \"colorscale\": [[0.0, \"#0d0887\"], [0.1111111111111111, \"#46039f\"], [0.2222222222222222, \"#7201a8\"], [0.3333333333333333, \"#9c179e\"], [0.4444444444444444, \"#bd3786\"], [0.5555555555555556, \"#d8576b\"], [0.6666666666666666, \"#ed7953\"], [0.7777777777777778, \"#fb9f3a\"], [0.8888888888888888, \"#fdca26\"], [1.0, \"#f0f921\"]], \"type\": \"histogram2d\"}], \"histogram2dcontour\": [{\"colorbar\": {\"outlinewidth\": 0, \"ticks\": \"\"}, \"colorscale\": [[0.0, \"#0d0887\"], [0.1111111111111111, \"#46039f\"], [0.2222222222222222, \"#7201a8\"], [0.3333333333333333, \"#9c179e\"], [0.4444444444444444, \"#bd3786\"], [0.5555555555555556, \"#d8576b\"], [0.6666666666666666, \"#ed7953\"], [0.7777777777777778, \"#fb9f3a\"], [0.8888888888888888, \"#fdca26\"], [1.0, \"#f0f921\"]], \"type\": \"histogram2dcontour\"}], \"mesh3d\": [{\"colorbar\": {\"outlinewidth\": 0, \"ticks\": \"\"}, \"type\": \"mesh3d\"}], \"parcoords\": [{\"line\": {\"colorbar\": {\"outlinewidth\": 0, \"ticks\": \"\"}}, \"type\": \"parcoords\"}], \"pie\": [{\"automargin\": true, \"type\": \"pie\"}], \"scatter\": [{\"marker\": {\"colorbar\": {\"outlinewidth\": 0, \"ticks\": \"\"}}, \"type\": \"scatter\"}], \"scatter3d\": [{\"line\": {\"colorbar\": {\"outlinewidth\": 0, \"ticks\": \"\"}}, \"marker\": {\"colorbar\": {\"outlinewidth\": 0, \"ticks\": \"\"}}, \"type\": \"scatter3d\"}], \"scattercarpet\": [{\"marker\": {\"colorbar\": {\"outlinewidth\": 0, \"ticks\": \"\"}}, \"type\": \"scattercarpet\"}], \"scattergeo\": [{\"marker\": {\"colorbar\": {\"outlinewidth\": 0, \"ticks\": \"\"}}, \"type\": \"scattergeo\"}], \"scattergl\": [{\"marker\": {\"colorbar\": {\"outlinewidth\": 0, \"ticks\": \"\"}}, \"type\": \"scattergl\"}], \"scattermapbox\": [{\"marker\": {\"colorbar\": {\"outlinewidth\": 0, \"ticks\": \"\"}}, \"type\": \"scattermapbox\"}], \"scatterpolar\": [{\"marker\": {\"colorbar\": {\"outlinewidth\": 0, \"ticks\": \"\"}}, \"type\": \"scatterpolar\"}], \"scatterpolargl\": [{\"marker\": {\"colorbar\": {\"outlinewidth\": 0, \"ticks\": \"\"}}, \"type\": \"scatterpolargl\"}], \"scatterternary\": [{\"marker\": {\"colorbar\": {\"outlinewidth\": 0, \"ticks\": \"\"}}, \"type\": \"scatterternary\"}], \"surface\": [{\"colorbar\": {\"outlinewidth\": 0, \"ticks\": \"\"}, \"colorscale\": [[0.0, \"#0d0887\"], [0.1111111111111111, \"#46039f\"], [0.2222222222222222, \"#7201a8\"], [0.3333333333333333, \"#9c179e\"], [0.4444444444444444, \"#bd3786\"], [0.5555555555555556, \"#d8576b\"], [0.6666666666666666, \"#ed7953\"], [0.7777777777777778, \"#fb9f3a\"], [0.8888888888888888, \"#fdca26\"], [1.0, \"#f0f921\"]], \"type\": \"surface\"}], \"table\": [{\"cells\": {\"fill\": {\"color\": \"#EBF0F8\"}, \"line\": {\"color\": \"white\"}}, \"header\": {\"fill\": {\"color\": \"#C8D4E3\"}, \"line\": {\"color\": \"white\"}}, \"type\": \"table\"}]}, \"layout\": {\"annotationdefaults\": {\"arrowcolor\": \"#2a3f5f\", \"arrowhead\": 0, \"arrowwidth\": 1}, \"coloraxis\": {\"colorbar\": {\"outlinewidth\": 0, \"ticks\": \"\"}}, \"colorscale\": {\"diverging\": [[0, \"#8e0152\"], [0.1, \"#c51b7d\"], [0.2, \"#de77ae\"], [0.3, \"#f1b6da\"], [0.4, \"#fde0ef\"], [0.5, \"#f7f7f7\"], [0.6, \"#e6f5d0\"], [0.7, \"#b8e186\"], [0.8, \"#7fbc41\"], [0.9, \"#4d9221\"], [1, \"#276419\"]], \"sequential\": [[0.0, \"#0d0887\"], [0.1111111111111111, \"#46039f\"], [0.2222222222222222, \"#7201a8\"], [0.3333333333333333, \"#9c179e\"], [0.4444444444444444, \"#bd3786\"], [0.5555555555555556, \"#d8576b\"], [0.6666666666666666, \"#ed7953\"], [0.7777777777777778, \"#fb9f3a\"], [0.8888888888888888, \"#fdca26\"], [1.0, \"#f0f921\"]], \"sequentialminus\": [[0.0, \"#0d0887\"], [0.1111111111111111, \"#46039f\"], [0.2222222222222222, \"#7201a8\"], [0.3333333333333333, \"#9c179e\"], [0.4444444444444444, \"#bd3786\"], [0.5555555555555556, \"#d8576b\"], [0.6666666666666666, \"#ed7953\"], [0.7777777777777778, \"#fb9f3a\"], [0.8888888888888888, \"#fdca26\"], [1.0, \"#f0f921\"]]}, \"colorway\": [\"#636efa\", \"#EF553B\", \"#00cc96\", \"#ab63fa\", \"#FFA15A\", \"#19d3f3\", \"#FF6692\", \"#B6E880\", \"#FF97FF\", \"#FECB52\"], \"font\": {\"color\": \"#2a3f5f\"}, \"geo\": {\"bgcolor\": \"white\", \"lakecolor\": \"white\", \"landcolor\": \"#E5ECF6\", \"showlakes\": true, \"showland\": true, \"subunitcolor\": \"white\"}, \"hoverlabel\": {\"align\": \"left\"}, \"hovermode\": \"closest\", \"mapbox\": {\"style\": \"light\"}, \"paper_bgcolor\": \"white\", \"plot_bgcolor\": \"#E5ECF6\", \"polar\": {\"angularaxis\": {\"gridcolor\": \"white\", \"linecolor\": \"white\", \"ticks\": \"\"}, \"bgcolor\": \"#E5ECF6\", \"radialaxis\": {\"gridcolor\": \"white\", \"linecolor\": \"white\", \"ticks\": \"\"}}, \"scene\": {\"xaxis\": {\"backgroundcolor\": \"#E5ECF6\", \"gridcolor\": \"white\", \"gridwidth\": 2, \"linecolor\": \"white\", \"showbackground\": true, \"ticks\": \"\", \"zerolinecolor\": \"white\"}, \"yaxis\": {\"backgroundcolor\": \"#E5ECF6\", \"gridcolor\": \"white\", \"gridwidth\": 2, \"linecolor\": \"white\", \"showbackground\": true, \"ticks\": \"\", \"zerolinecolor\": \"white\"}, \"zaxis\": {\"backgroundcolor\": \"#E5ECF6\", \"gridcolor\": \"white\", \"gridwidth\": 2, \"linecolor\": \"white\", \"showbackground\": true, \"ticks\": \"\", \"zerolinecolor\": \"white\"}}, \"shapedefaults\": {\"line\": {\"color\": \"#2a3f5f\"}}, \"ternary\": {\"aaxis\": {\"gridcolor\": \"white\", \"linecolor\": \"white\", \"ticks\": \"\"}, \"baxis\": {\"gridcolor\": \"white\", \"linecolor\": \"white\", \"ticks\": \"\"}, \"bgcolor\": \"#E5ECF6\", \"caxis\": {\"gridcolor\": \"white\", \"linecolor\": \"white\", \"ticks\": \"\"}}, \"title\": {\"x\": 0.05}, \"xaxis\": {\"automargin\": true, \"gridcolor\": \"white\", \"linecolor\": \"white\", \"ticks\": \"\", \"title\": {\"standoff\": 15}, \"zerolinecolor\": \"white\", \"zerolinewidth\": 2}, \"yaxis\": {\"automargin\": true, \"gridcolor\": \"white\", \"linecolor\": \"white\", \"ticks\": \"\", \"title\": {\"standoff\": 15}, \"zerolinecolor\": \"white\", \"zerolinewidth\": 2}}}, \"xaxis\": {\"anchor\": \"y\", \"domain\": [0.0, 1.0], \"title\": {\"text\": \"group\"}}, \"yaxis\": {\"anchor\": \"x\", \"domain\": [0.0, 1.0], \"title\": {\"text\": \"value\"}}},                        {\"responsive\": true}                    ).then(function(){\n",
       "                            \n",
       "var gd = document.getElementById('342be182-d657-4e56-8c91-5057d49e65ce');\n",
       "var x = new MutationObserver(function (mutations, observer) {{\n",
       "        var display = window.getComputedStyle(gd).display;\n",
       "        if (!display || display === 'none') {{\n",
       "            console.log([gd, 'removed!']);\n",
       "            Plotly.purge(gd);\n",
       "            observer.disconnect();\n",
       "        }}\n",
       "}});\n",
       "\n",
       "// Listen for the removal of the full notebook cells\n",
       "var notebookContainer = gd.closest('#notebook-container');\n",
       "if (notebookContainer) {{\n",
       "    x.observe(notebookContainer, {childList: true});\n",
       "}}\n",
       "\n",
       "// Listen for the clearing of the current output cell\n",
       "var outputEl = gd.closest('.output');\n",
       "if (outputEl) {{\n",
       "    x.observe(outputEl, {childList: true});\n",
       "}}\n",
       "\n",
       "                        })                };                });            </script>        </div>"
      ]
     },
     "metadata": {},
     "output_type": "display_data"
    }
   ],
   "source": [
    "import plotly.express as px\n",
    "fig=px.box(mob_cl1,x='group',y='value')\n",
    "fig.show()"
   ]
  },
  {
   "cell_type": "markdown",
   "metadata": {},
   "source": [
    "<div style='background-color:navy; color:white; padding:20px'>\n",
    "Each data point is measure at one country one year: same pattern for each group: at percentige 75%, value fall under 21,2% ===>at some points, percentage of Mobile Money Account using can be high, but majority (75%) of countries in year 2014,2017 has percentage falls under 21,2%.\n",
    "</div>"
   ]
  },
  {
   "cell_type": "markdown",
   "metadata": {
    "ExecuteTime": {
     "end_time": "2020-12-07T14:17:57.175964Z",
     "start_time": "2020-12-07T14:17:57.166961Z"
    }
   },
   "source": [
    "## Pair comparision: Genders, age groups, income groups, in vs out labor force"
   ]
  },
  {
   "cell_type": "code",
   "execution_count": 25,
   "metadata": {
    "ExecuteTime": {
     "end_time": "2020-12-09T10:41:17.262719Z",
     "start_time": "2020-12-09T10:41:17.256715Z"
    }
   },
   "outputs": [],
   "source": [
    "d2=d1['mean']"
   ]
  },
  {
   "cell_type": "code",
   "execution_count": 26,
   "metadata": {
    "ExecuteTime": {
     "end_time": "2020-12-09T10:41:18.191725Z",
     "start_time": "2020-12-09T10:41:17.265715Z"
    }
   },
   "outputs": [
    {
     "data": {
      "image/png": "[encoded data removed]",
      "text/plain": [
       "<Figure size 1440x360 with 4 Axes>"
      ]
     },
     "metadata": {
      "needs_background": "light"
     },
     "output_type": "display_data"
    }
   ],
   "source": [
    "fig=plt.figure(figsize=(20,5))\n",
    "a1=fig.add_subplot(1,4,1)\n",
    "a2=fig.add_subplot(1,4,2)\n",
    "a3=fig.add_subplot(1,4,3)\n",
    "a4=fig.add_subplot(1,4,4)\n",
    "\n",
    "a1.bar(['Male','Female'],height=d2[['Male','Female']])\n",
    "a2.bar(['Young Aldults','Older Adults'],height=d2[['Young Adults','Older Adults']])\n",
    "a3.bar(['In Labor Force','Out Of Labor Force'],height=d2[['In Labor Force','Out Of Labor Force']])\n",
    "a4.bar(['Income, Poorest 40%','Income, Richest 60%'],height=d2[['Income, Poorest 40%','Income, Richest 60%']])\n",
    "\n",
    "plt.show()\n",
    "#ax2=d2[['Young Adults','Older Adults']].plot(kind='bar')"
   ]
  },
  {
   "cell_type": "markdown",
   "metadata": {},
   "source": [
    "<div style='background-color:navy; color:white; padding:20px'> There is not much different between age group (probably because of how age group is divided), a slight difference between gender and clearly difference in the rest 2 pairs.\n",
    "</div>"
   ]
  },
  {
   "cell_type": "markdown",
   "metadata": {},
   "source": [
    "## Compare groups between year 2014 vs 2017"
   ]
  },
  {
   "cell_type": "code",
   "execution_count": 27,
   "metadata": {
    "ExecuteTime": {
     "end_time": "2020-12-09T10:41:18.216722Z",
     "start_time": "2020-12-09T10:41:18.195731Z"
    }
   },
   "outputs": [],
   "source": [
    "da=mob_cl1.groupby(['Year','group']).mean().reset_index()\n",
    "da.Year=da.Year.astype(str)"
   ]
  },
  {
   "cell_type": "code",
   "execution_count": 28,
   "metadata": {
    "ExecuteTime": {
     "end_time": "2020-12-09T10:41:18.523723Z",
     "start_time": "2020-12-09T10:41:18.220720Z"
    }
   },
   "outputs": [
    {
     "name": "stderr",
     "output_type": "stream",
     "text": [
      "C:\\Users\\Sophia\\anaconda3\\lib\\site-packages\\cufflinks\\plotlytools.py:807: FutureWarning:\n",
      "\n",
      "The pandas.np module is deprecated and will be removed from pandas in a future version. Import numpy directly instead\n",
      "\n",
      "C:\\Users\\Sophia\\anaconda3\\lib\\site-packages\\cufflinks\\plotlytools.py:810: FutureWarning:\n",
      "\n",
      "The pandas.np module is deprecated and will be removed from pandas in a future version. Import numpy directly instead\n",
      "\n"
     ]
    },
    {
     "data": {
      "application/vnd.plotly.v1+json": {
       "config": {
        "linkText": "Export to plot.ly",
        "plotlyServerURL": "https://plot.ly",
        "showLink": true
       },
       "data": [
        {
         "marker": {
          "color": "rgba(255, 153, 51, 1.0)",
          "line": {
           "width": 1.3
          },
          "opacity": 0.8,
          "size": 12,
          "symbol": "circle"
         },
         "mode": "lines",
         "name": "2014",
         "textfont": {
          "color": "#4D5663"
         },
         "type": "scatter",
         "x": [
          "Female",
          "General",
          "In Labor Force",
          "Income, Poorest 40%",
          "Income, Richest 60%",
          "Male",
          "Older Adults",
          "Out Of Labor Force",
          "Primary Education Or Less",
          "Rural",
          "Secondary Education Or Less",
          "Young Adults"
         ],
         "y": [
          5.183930331820072,
          6.088634946380731,
          7.1856505754726365,
          3.811306102728718,
          7.6054856896117125,
          7.007438308806215,
          6.305707267770286,
          4.0367081165257614,
          4.159755202912142,
          5.543746067725083,
          9.038492205345174,
          5.762644154468484
         ]
        },
        {
         "marker": {
          "color": "rgba(55, 128, 191, 1.0)",
          "line": {
           "width": 1.3
          },
          "opacity": 0.8,
          "size": 12,
          "symbol": "circle"
         },
         "mode": "lines",
         "name": "2017",
         "textfont": {
          "color": "#4D5663"
         },
         "type": "scatter",
         "x": [
          "Female",
          "General",
          "In Labor Force",
          "Income, Poorest 40%",
          "Income, Richest 60%",
          "Male",
          "Older Adults",
          "Out Of Labor Force",
          "Primary Education Or Less",
          "Rural",
          "Secondary Education Or Less",
          "Young Adults"
         ],
         "y": [
          11.431138236873542,
          13.575523142347091,
          16.213561318751967,
          9.490633067894684,
          16.28910815029332,
          15.786021581087052,
          13.39305414493834,
          8.737670641531121,
          9.075672346889302,
          12.07360525568424,
          19.40319159308846,
          14.192920469605689
         ]
        }
       ],
       "layout": {
        "legend": {
         "bgcolor": "#F5F6F9",
         "font": {
          "color": "#4D5663"
         }
        },
        "paper_bgcolor": "#F5F6F9",
        "plot_bgcolor": "#F5F6F9",
        "template": {
         "data": {
          "bar": [
           {
            "error_x": {
             "color": "#2a3f5f"
            },
            "error_y": {
             "color": "#2a3f5f"
            },
            "marker": {
             "line": {
              "color": "#E5ECF6",
              "width": 0.5
             }
            },
            "type": "bar"
           }
          ],
          "barpolar": [
           {
            "marker": {
             "line": {
              "color": "#E5ECF6",
              "width": 0.5
             }
            },
            "type": "barpolar"
           }
          ],
          "carpet": [
           {
            "aaxis": {
             "endlinecolor": "#2a3f5f",
             "gridcolor": "white",
             "linecolor": "white",
             "minorgridcolor": "white",
             "startlinecolor": "#2a3f5f"
            },
            "baxis": {
             "endlinecolor": "#2a3f5f",
             "gridcolor": "white",
             "linecolor": "white",
             "minorgridcolor": "white",
             "startlinecolor": "#2a3f5f"
            },
            "type": "carpet"
           }
          ],
          "choropleth": [
           {
            "colorbar": {
             "outlinewidth": 0,
             "ticks": ""
            },
            "type": "choropleth"
           }
          ],
          "contour": [
           {
            "colorbar": {
             "outlinewidth": 0,
             "ticks": ""
            },
            "colorscale": [
             [
              0,
              "#0d0887"
             ],
             [
              0.1111111111111111,
              "#46039f"
             ],
             [
              0.2222222222222222,
              "#7201a8"
             ],
             [
              0.3333333333333333,
              "#9c179e"
             ],
             [
              0.4444444444444444,
              "#bd3786"
             ],
             [
              0.5555555555555556,
              "#d8576b"
             ],
             [
              0.6666666666666666,
              "#ed7953"
             ],
             [
              0.7777777777777778,
              "#fb9f3a"
             ],
             [
              0.8888888888888888,
              "#fdca26"
             ],
             [
              1,
              "#f0f921"
             ]
            ],
            "type": "contour"
           }
          ],
          "contourcarpet": [
           {
            "colorbar": {
             "outlinewidth": 0,
             "ticks": ""
            },
            "type": "contourcarpet"
           }
          ],
          "heatmap": [
           {
            "colorbar": {
             "outlinewidth": 0,
             "ticks": ""
            },
            "colorscale": [
             [
              0,
              "#0d0887"
             ],
             [
              0.1111111111111111,
              "#46039f"
             ],
             [
              0.2222222222222222,
              "#7201a8"
             ],
             [
              0.3333333333333333,
              "#9c179e"
             ],
             [
              0.4444444444444444,
              "#bd3786"
             ],
             [
              0.5555555555555556,
              "#d8576b"
             ],
             [
              0.6666666666666666,
              "#ed7953"
             ],
             [
              0.7777777777777778,
              "#fb9f3a"
             ],
             [
              0.8888888888888888,
              "#fdca26"
             ],
             [
              1,
              "#f0f921"
             ]
            ],
            "type": "heatmap"
           }
          ],
          "heatmapgl": [
           {
            "colorbar": {
             "outlinewidth": 0,
             "ticks": ""
            },
            "colorscale": [
             [
              0,
              "#0d0887"
             ],
             [
              0.1111111111111111,
              "#46039f"
             ],
             [
              0.2222222222222222,
              "#7201a8"
             ],
             [
              0.3333333333333333,
              "#9c179e"
             ],
             [
              0.4444444444444444,
              "#bd3786"
             ],
             [
              0.5555555555555556,
              "#d8576b"
             ],
             [
              0.6666666666666666,
              "#ed7953"
             ],
             [
              0.7777777777777778,
              "#fb9f3a"
             ],
             [
              0.8888888888888888,
              "#fdca26"
             ],
             [
              1,
              "#f0f921"
             ]
            ],
            "type": "heatmapgl"
           }
          ],
          "histogram": [
           {
            "marker": {
             "colorbar": {
              "outlinewidth": 0,
              "ticks": ""
             }
            },
            "type": "histogram"
           }
          ],
          "histogram2d": [
           {
            "colorbar": {
             "outlinewidth": 0,
             "ticks": ""
            },
            "colorscale": [
             [
              0,
              "#0d0887"
             ],
             [
              0.1111111111111111,
              "#46039f"
             ],
             [
              0.2222222222222222,
              "#7201a8"
             ],
             [
              0.3333333333333333,
              "#9c179e"
             ],
             [
              0.4444444444444444,
              "#bd3786"
             ],
             [
              0.5555555555555556,
              "#d8576b"
             ],
             [
              0.6666666666666666,
              "#ed7953"
             ],
             [
              0.7777777777777778,
              "#fb9f3a"
             ],
             [
              0.8888888888888888,
              "#fdca26"
             ],
             [
              1,
              "#f0f921"
             ]
            ],
            "type": "histogram2d"
           }
          ],
          "histogram2dcontour": [
           {
            "colorbar": {
             "outlinewidth": 0,
             "ticks": ""
            },
            "colorscale": [
             [
              0,
              "#0d0887"
             ],
             [
              0.1111111111111111,
              "#46039f"
             ],
             [
              0.2222222222222222,
              "#7201a8"
             ],
             [
              0.3333333333333333,
              "#9c179e"
             ],
             [
              0.4444444444444444,
              "#bd3786"
             ],
             [
              0.5555555555555556,
              "#d8576b"
             ],
             [
              0.6666666666666666,
              "#ed7953"
             ],
             [
              0.7777777777777778,
              "#fb9f3a"
             ],
             [
              0.8888888888888888,
              "#fdca26"
             ],
             [
              1,
              "#f0f921"
             ]
            ],
            "type": "histogram2dcontour"
           }
          ],
          "mesh3d": [
           {
            "colorbar": {
             "outlinewidth": 0,
             "ticks": ""
            },
            "type": "mesh3d"
           }
          ],
          "parcoords": [
           {
            "line": {
             "colorbar": {
              "outlinewidth": 0,
              "ticks": ""
             }
            },
            "type": "parcoords"
           }
          ],
          "pie": [
           {
            "automargin": true,
            "type": "pie"
           }
          ],
          "scatter": [
           {
            "marker": {
             "colorbar": {
              "outlinewidth": 0,
              "ticks": ""
             }
            },
            "type": "scatter"
           }
          ],
          "scatter3d": [
           {
            "line": {
             "colorbar": {
              "outlinewidth": 0,
              "ticks": ""
             }
            },
            "marker": {
             "colorbar": {
              "outlinewidth": 0,
              "ticks": ""
             }
            },
            "type": "scatter3d"
           }
          ],
          "scattercarpet": [
           {
            "marker": {
             "colorbar": {
              "outlinewidth": 0,
              "ticks": ""
             }
            },
            "type": "scattercarpet"
           }
          ],
          "scattergeo": [
           {
            "marker": {
             "colorbar": {
              "outlinewidth": 0,
              "ticks": ""
             }
            },
            "type": "scattergeo"
           }
          ],
          "scattergl": [
           {
            "marker": {
             "colorbar": {
              "outlinewidth": 0,
              "ticks": ""
             }
            },
            "type": "scattergl"
           }
          ],
          "scattermapbox": [
           {
            "marker": {
             "colorbar": {
              "outlinewidth": 0,
              "ticks": ""
             }
            },
            "type": "scattermapbox"
           }
          ],
          "scatterpolar": [
           {
            "marker": {
             "colorbar": {
              "outlinewidth": 0,
              "ticks": ""
             }
            },
            "type": "scatterpolar"
           }
          ],
          "scatterpolargl": [
           {
            "marker": {
             "colorbar": {
              "outlinewidth": 0,
              "ticks": ""
             }
            },
            "type": "scatterpolargl"
           }
          ],
          "scatterternary": [
           {
            "marker": {
             "colorbar": {
              "outlinewidth": 0,
              "ticks": ""
             }
            },
            "type": "scatterternary"
           }
          ],
          "surface": [
           {
            "colorbar": {
             "outlinewidth": 0,
             "ticks": ""
            },
            "colorscale": [
             [
              0,
              "#0d0887"
             ],
             [
              0.1111111111111111,
              "#46039f"
             ],
             [
              0.2222222222222222,
              "#7201a8"
             ],
             [
              0.3333333333333333,
              "#9c179e"
             ],
             [
              0.4444444444444444,
              "#bd3786"
             ],
             [
              0.5555555555555556,
              "#d8576b"
             ],
             [
              0.6666666666666666,
              "#ed7953"
             ],
             [
              0.7777777777777778,
              "#fb9f3a"
             ],
             [
              0.8888888888888888,
              "#fdca26"
             ],
             [
              1,
              "#f0f921"
             ]
            ],
            "type": "surface"
           }
          ],
          "table": [
           {
            "cells": {
             "fill": {
              "color": "#EBF0F8"
             },
             "line": {
              "color": "white"
             }
            },
            "header": {
             "fill": {
              "color": "#C8D4E3"
             },
             "line": {
              "color": "white"
             }
            },
            "type": "table"
           }
          ]
         },
         "layout": {
          "annotationdefaults": {
           "arrowcolor": "#2a3f5f",
           "arrowhead": 0,
           "arrowwidth": 1
          },
          "coloraxis": {
           "colorbar": {
            "outlinewidth": 0,
            "ticks": ""
           }
          },
          "colorscale": {
           "diverging": [
            [
             0,
             "#8e0152"
            ],
            [
             0.1,
             "#c51b7d"
            ],
            [
             0.2,
             "#de77ae"
            ],
            [
             0.3,
             "#f1b6da"
            ],
            [
             0.4,
             "#fde0ef"
            ],
            [
             0.5,
             "#f7f7f7"
            ],
            [
             0.6,
             "#e6f5d0"
            ],
            [
             0.7,
             "#b8e186"
            ],
            [
             0.8,
             "#7fbc41"
            ],
            [
             0.9,
             "#4d9221"
            ],
            [
             1,
             "#276419"
            ]
           ],
           "sequential": [
            [
             0,
             "#0d0887"
            ],
            [
             0.1111111111111111,
             "#46039f"
            ],
            [
             0.2222222222222222,
             "#7201a8"
            ],
            [
             0.3333333333333333,
             "#9c179e"
            ],
            [
             0.4444444444444444,
             "#bd3786"
            ],
            [
             0.5555555555555556,
             "#d8576b"
            ],
            [
             0.6666666666666666,
             "#ed7953"
            ],
            [
             0.7777777777777778,
             "#fb9f3a"
            ],
            [
             0.8888888888888888,
             "#fdca26"
            ],
            [
             1,
             "#f0f921"
            ]
           ],
           "sequentialminus": [
            [
             0,
             "#0d0887"
            ],
            [
             0.1111111111111111,
             "#46039f"
            ],
            [
             0.2222222222222222,
             "#7201a8"
            ],
            [
             0.3333333333333333,
             "#9c179e"
            ],
            [
             0.4444444444444444,
             "#bd3786"
            ],
            [
             0.5555555555555556,
             "#d8576b"
            ],
            [
             0.6666666666666666,
             "#ed7953"
            ],
            [
             0.7777777777777778,
             "#fb9f3a"
            ],
            [
             0.8888888888888888,
             "#fdca26"
            ],
            [
             1,
             "#f0f921"
            ]
           ]
          },
          "colorway": [
           "#636efa",
           "#EF553B",
           "#00cc96",
           "#ab63fa",
           "#FFA15A",
           "#19d3f3",
           "#FF6692",
           "#B6E880",
           "#FF97FF",
           "#FECB52"
          ],
          "font": {
           "color": "#2a3f5f"
          },
          "geo": {
           "bgcolor": "white",
           "lakecolor": "white",
           "landcolor": "#E5ECF6",
           "showlakes": true,
           "showland": true,
           "subunitcolor": "white"
          },
          "hoverlabel": {
           "align": "left"
          },
          "hovermode": "closest",
          "mapbox": {
           "style": "light"
          },
          "paper_bgcolor": "white",
          "plot_bgcolor": "#E5ECF6",
          "polar": {
           "angularaxis": {
            "gridcolor": "white",
            "linecolor": "white",
            "ticks": ""
           },
           "bgcolor": "#E5ECF6",
           "radialaxis": {
            "gridcolor": "white",
            "linecolor": "white",
            "ticks": ""
           }
          },
          "scene": {
           "xaxis": {
            "backgroundcolor": "#E5ECF6",
            "gridcolor": "white",
            "gridwidth": 2,
            "linecolor": "white",
            "showbackground": true,
            "ticks": "",
            "zerolinecolor": "white"
           },
           "yaxis": {
            "backgroundcolor": "#E5ECF6",
            "gridcolor": "white",
            "gridwidth": 2,
            "linecolor": "white",
            "showbackground": true,
            "ticks": "",
            "zerolinecolor": "white"
           },
           "zaxis": {
            "backgroundcolor": "#E5ECF6",
            "gridcolor": "white",
            "gridwidth": 2,
            "linecolor": "white",
            "showbackground": true,
            "ticks": "",
            "zerolinecolor": "white"
           }
          },
          "shapedefaults": {
           "line": {
            "color": "#2a3f5f"
           }
          },
          "ternary": {
           "aaxis": {
            "gridcolor": "white",
            "linecolor": "white",
            "ticks": ""
           },
           "baxis": {
            "gridcolor": "white",
            "linecolor": "white",
            "ticks": ""
           },
           "bgcolor": "#E5ECF6",
           "caxis": {
            "gridcolor": "white",
            "linecolor": "white",
            "ticks": ""
           }
          },
          "title": {
           "x": 0.05
          },
          "xaxis": {
           "automargin": true,
           "gridcolor": "white",
           "linecolor": "white",
           "ticks": "",
           "title": {
            "standoff": 15
           },
           "zerolinecolor": "white",
           "zerolinewidth": 2
          },
          "yaxis": {
           "automargin": true,
           "gridcolor": "white",
           "linecolor": "white",
           "ticks": "",
           "title": {
            "standoff": 15
           },
           "zerolinecolor": "white",
           "zerolinewidth": 2
          }
         }
        },
        "title": {
         "font": {
          "color": "#4D5663"
         }
        },
        "xaxis": {
         "gridcolor": "#E1E5ED",
         "showgrid": true,
         "tickfont": {
          "color": "#4D5663"
         },
         "title": {
          "font": {
           "color": "#4D5663"
          },
          "text": ""
         },
         "zerolinecolor": "#E1E5ED"
        },
        "yaxis": {
         "gridcolor": "#E1E5ED",
         "showgrid": true,
         "tickfont": {
          "color": "#4D5663"
         },
         "title": {
          "font": {
           "color": "#4D5663"
          },
          "text": ""
         },
         "zerolinecolor": "#E1E5ED"
        }
       }
      },
      "text/html": [
       "<div>                            <div id=\"73f49371-9f38-490e-98fd-f0d81c0731ff\" class=\"plotly-graph-div\" style=\"height:525px; width:100%;\"></div>            <script type=\"text/javascript\">                require([\"plotly\"], function(Plotly) {                    window.PLOTLYENV=window.PLOTLYENV || {};\n",
       "                    window.PLOTLYENV.BASE_URL='https://plot.ly';                                    if (document.getElementById(\"73f49371-9f38-490e-98fd-f0d81c0731ff\")) {                    Plotly.newPlot(                        \"73f49371-9f38-490e-98fd-f0d81c0731ff\",                        [{\"marker\": {\"color\": \"rgba(255, 153, 51, 1.0)\", \"line\": {\"width\": 1.3}, \"opacity\": 0.8, \"size\": 12, \"symbol\": \"circle\"}, \"mode\": \"lines\", \"name\": \"2014\", \"textfont\": {\"color\": \"#4D5663\"}, \"type\": \"scatter\", \"x\": [\"Female\", \"General\", \"In Labor Force\", \"Income, Poorest 40%\", \"Income, Richest 60%\", \"Male\", \"Older Adults\", \"Out Of Labor Force\", \"Primary Education Or Less\", \"Rural\", \"Secondary Education Or Less\", \"Young Adults\"], \"y\": [5.183930331820072, 6.088634946380731, 7.1856505754726365, 3.811306102728718, 7.6054856896117125, 7.007438308806215, 6.305707267770286, 4.0367081165257614, 4.159755202912142, 5.543746067725083, 9.038492205345174, 5.762644154468484]}, {\"marker\": {\"color\": \"rgba(55, 128, 191, 1.0)\", \"line\": {\"width\": 1.3}, \"opacity\": 0.8, \"size\": 12, \"symbol\": \"circle\"}, \"mode\": \"lines\", \"name\": \"2017\", \"textfont\": {\"color\": \"#4D5663\"}, \"type\": \"scatter\", \"x\": [\"Female\", \"General\", \"In Labor Force\", \"Income, Poorest 40%\", \"Income, Richest 60%\", \"Male\", \"Older Adults\", \"Out Of Labor Force\", \"Primary Education Or Less\", \"Rural\", \"Secondary Education Or Less\", \"Young Adults\"], \"y\": [11.431138236873542, 13.575523142347091, 16.213561318751967, 9.490633067894684, 16.28910815029332, 15.786021581087052, 13.39305414493834, 8.737670641531121, 9.075672346889302, 12.07360525568424, 19.40319159308846, 14.192920469605689]}],                        {\"legend\": {\"bgcolor\": \"#F5F6F9\", \"font\": {\"color\": \"#4D5663\"}}, \"paper_bgcolor\": \"#F5F6F9\", \"plot_bgcolor\": \"#F5F6F9\", \"template\": {\"data\": {\"bar\": [{\"error_x\": {\"color\": \"#2a3f5f\"}, \"error_y\": {\"color\": \"#2a3f5f\"}, \"marker\": {\"line\": {\"color\": \"#E5ECF6\", \"width\": 0.5}}, \"type\": \"bar\"}], \"barpolar\": [{\"marker\": {\"line\": {\"color\": \"#E5ECF6\", \"width\": 0.5}}, \"type\": \"barpolar\"}], \"carpet\": [{\"aaxis\": {\"endlinecolor\": \"#2a3f5f\", \"gridcolor\": \"white\", \"linecolor\": \"white\", \"minorgridcolor\": \"white\", \"startlinecolor\": \"#2a3f5f\"}, \"baxis\": {\"endlinecolor\": \"#2a3f5f\", \"gridcolor\": \"white\", \"linecolor\": \"white\", \"minorgridcolor\": \"white\", \"startlinecolor\": \"#2a3f5f\"}, \"type\": \"carpet\"}], \"choropleth\": [{\"colorbar\": {\"outlinewidth\": 0, \"ticks\": \"\"}, \"type\": \"choropleth\"}], \"contour\": [{\"colorbar\": {\"outlinewidth\": 0, \"ticks\": \"\"}, \"colorscale\": [[0.0, \"#0d0887\"], [0.1111111111111111, \"#46039f\"], [0.2222222222222222, \"#7201a8\"], [0.3333333333333333, \"#9c179e\"], [0.4444444444444444, \"#bd3786\"], [0.5555555555555556, \"#d8576b\"], [0.6666666666666666, \"#ed7953\"], [0.7777777777777778, \"#fb9f3a\"], [0.8888888888888888, \"#fdca26\"], [1.0, \"#f0f921\"]], \"type\": \"contour\"}], \"contourcarpet\": [{\"colorbar\": {\"outlinewidth\": 0, \"ticks\": \"\"}, \"type\": \"contourcarpet\"}], \"heatmap\": [{\"colorbar\": {\"outlinewidth\": 0, \"ticks\": \"\"}, \"colorscale\": [[0.0, \"#0d0887\"], [0.1111111111111111, \"#46039f\"], [0.2222222222222222, \"#7201a8\"], [0.3333333333333333, \"#9c179e\"], [0.4444444444444444, \"#bd3786\"], [0.5555555555555556, \"#d8576b\"], [0.6666666666666666, \"#ed7953\"], [0.7777777777777778, \"#fb9f3a\"], [0.8888888888888888, \"#fdca26\"], [1.0, \"#f0f921\"]], \"type\": \"heatmap\"}], \"heatmapgl\": [{\"colorbar\": {\"outlinewidth\": 0, \"ticks\": \"\"}, \"colorscale\": [[0.0, \"#0d0887\"], [0.1111111111111111, \"#46039f\"], [0.2222222222222222, \"#7201a8\"], [0.3333333333333333, \"#9c179e\"], [0.4444444444444444, \"#bd3786\"], [0.5555555555555556, \"#d8576b\"], [0.6666666666666666, \"#ed7953\"], [0.7777777777777778, \"#fb9f3a\"], [0.8888888888888888, \"#fdca26\"], [1.0, \"#f0f921\"]], \"type\": \"heatmapgl\"}], \"histogram\": [{\"marker\": {\"colorbar\": {\"outlinewidth\": 0, \"ticks\": \"\"}}, \"type\": \"histogram\"}], \"histogram2d\": [{\"colorbar\": {\"outlinewidth\": 0, \"ticks\": \"\"}, \"colorscale\": [[0.0, \"#0d0887\"], [0.1111111111111111, \"#46039f\"], [0.2222222222222222, \"#7201a8\"], [0.3333333333333333, \"#9c179e\"], [0.4444444444444444, \"#bd3786\"], [0.5555555555555556, \"#d8576b\"], [0.6666666666666666, \"#ed7953\"], [0.7777777777777778, \"#fb9f3a\"], [0.8888888888888888, \"#fdca26\"], [1.0, \"#f0f921\"]], \"type\": \"histogram2d\"}], \"histogram2dcontour\": [{\"colorbar\": {\"outlinewidth\": 0, \"ticks\": \"\"}, \"colorscale\": [[0.0, \"#0d0887\"], [0.1111111111111111, \"#46039f\"], [0.2222222222222222, \"#7201a8\"], [0.3333333333333333, \"#9c179e\"], [0.4444444444444444, \"#bd3786\"], [0.5555555555555556, \"#d8576b\"], [0.6666666666666666, \"#ed7953\"], [0.7777777777777778, \"#fb9f3a\"], [0.8888888888888888, \"#fdca26\"], [1.0, \"#f0f921\"]], \"type\": \"histogram2dcontour\"}], \"mesh3d\": [{\"colorbar\": {\"outlinewidth\": 0, \"ticks\": \"\"}, \"type\": \"mesh3d\"}], \"parcoords\": [{\"line\": {\"colorbar\": {\"outlinewidth\": 0, \"ticks\": \"\"}}, \"type\": \"parcoords\"}], \"pie\": [{\"automargin\": true, \"type\": \"pie\"}], \"scatter\": [{\"marker\": {\"colorbar\": {\"outlinewidth\": 0, \"ticks\": \"\"}}, \"type\": \"scatter\"}], \"scatter3d\": [{\"line\": {\"colorbar\": {\"outlinewidth\": 0, \"ticks\": \"\"}}, \"marker\": {\"colorbar\": {\"outlinewidth\": 0, \"ticks\": \"\"}}, \"type\": \"scatter3d\"}], \"scattercarpet\": [{\"marker\": {\"colorbar\": {\"outlinewidth\": 0, \"ticks\": \"\"}}, \"type\": \"scattercarpet\"}], \"scattergeo\": [{\"marker\": {\"colorbar\": {\"outlinewidth\": 0, \"ticks\": \"\"}}, \"type\": \"scattergeo\"}], \"scattergl\": [{\"marker\": {\"colorbar\": {\"outlinewidth\": 0, \"ticks\": \"\"}}, \"type\": \"scattergl\"}], \"scattermapbox\": [{\"marker\": {\"colorbar\": {\"outlinewidth\": 0, \"ticks\": \"\"}}, \"type\": \"scattermapbox\"}], \"scatterpolar\": [{\"marker\": {\"colorbar\": {\"outlinewidth\": 0, \"ticks\": \"\"}}, \"type\": \"scatterpolar\"}], \"scatterpolargl\": [{\"marker\": {\"colorbar\": {\"outlinewidth\": 0, \"ticks\": \"\"}}, \"type\": \"scatterpolargl\"}], \"scatterternary\": [{\"marker\": {\"colorbar\": {\"outlinewidth\": 0, \"ticks\": \"\"}}, \"type\": \"scatterternary\"}], \"surface\": [{\"colorbar\": {\"outlinewidth\": 0, \"ticks\": \"\"}, \"colorscale\": [[0.0, \"#0d0887\"], [0.1111111111111111, \"#46039f\"], [0.2222222222222222, \"#7201a8\"], [0.3333333333333333, \"#9c179e\"], [0.4444444444444444, \"#bd3786\"], [0.5555555555555556, \"#d8576b\"], [0.6666666666666666, \"#ed7953\"], [0.7777777777777778, \"#fb9f3a\"], [0.8888888888888888, \"#fdca26\"], [1.0, \"#f0f921\"]], \"type\": \"surface\"}], \"table\": [{\"cells\": {\"fill\": {\"color\": \"#EBF0F8\"}, \"line\": {\"color\": \"white\"}}, \"header\": {\"fill\": {\"color\": \"#C8D4E3\"}, \"line\": {\"color\": \"white\"}}, \"type\": \"table\"}]}, \"layout\": {\"annotationdefaults\": {\"arrowcolor\": \"#2a3f5f\", \"arrowhead\": 0, \"arrowwidth\": 1}, \"coloraxis\": {\"colorbar\": {\"outlinewidth\": 0, \"ticks\": \"\"}}, \"colorscale\": {\"diverging\": [[0, \"#8e0152\"], [0.1, \"#c51b7d\"], [0.2, \"#de77ae\"], [0.3, \"#f1b6da\"], [0.4, \"#fde0ef\"], [0.5, \"#f7f7f7\"], [0.6, \"#e6f5d0\"], [0.7, \"#b8e186\"], [0.8, \"#7fbc41\"], [0.9, \"#4d9221\"], [1, \"#276419\"]], \"sequential\": [[0.0, \"#0d0887\"], [0.1111111111111111, \"#46039f\"], [0.2222222222222222, \"#7201a8\"], [0.3333333333333333, \"#9c179e\"], [0.4444444444444444, \"#bd3786\"], [0.5555555555555556, \"#d8576b\"], [0.6666666666666666, \"#ed7953\"], [0.7777777777777778, \"#fb9f3a\"], [0.8888888888888888, \"#fdca26\"], [1.0, \"#f0f921\"]], \"sequentialminus\": [[0.0, \"#0d0887\"], [0.1111111111111111, \"#46039f\"], [0.2222222222222222, \"#7201a8\"], [0.3333333333333333, \"#9c179e\"], [0.4444444444444444, \"#bd3786\"], [0.5555555555555556, \"#d8576b\"], [0.6666666666666666, \"#ed7953\"], [0.7777777777777778, \"#fb9f3a\"], [0.8888888888888888, \"#fdca26\"], [1.0, \"#f0f921\"]]}, \"colorway\": [\"#636efa\", \"#EF553B\", \"#00cc96\", \"#ab63fa\", \"#FFA15A\", \"#19d3f3\", \"#FF6692\", \"#B6E880\", \"#FF97FF\", \"#FECB52\"], \"font\": {\"color\": \"#2a3f5f\"}, \"geo\": {\"bgcolor\": \"white\", \"lakecolor\": \"white\", \"landcolor\": \"#E5ECF6\", \"showlakes\": true, \"showland\": true, \"subunitcolor\": \"white\"}, \"hoverlabel\": {\"align\": \"left\"}, \"hovermode\": \"closest\", \"mapbox\": {\"style\": \"light\"}, \"paper_bgcolor\": \"white\", \"plot_bgcolor\": \"#E5ECF6\", \"polar\": {\"angularaxis\": {\"gridcolor\": \"white\", \"linecolor\": \"white\", \"ticks\": \"\"}, \"bgcolor\": \"#E5ECF6\", \"radialaxis\": {\"gridcolor\": \"white\", \"linecolor\": \"white\", \"ticks\": \"\"}}, \"scene\": {\"xaxis\": {\"backgroundcolor\": \"#E5ECF6\", \"gridcolor\": \"white\", \"gridwidth\": 2, \"linecolor\": \"white\", \"showbackground\": true, \"ticks\": \"\", \"zerolinecolor\": \"white\"}, \"yaxis\": {\"backgroundcolor\": \"#E5ECF6\", \"gridcolor\": \"white\", \"gridwidth\": 2, \"linecolor\": \"white\", \"showbackground\": true, \"ticks\": \"\", \"zerolinecolor\": \"white\"}, \"zaxis\": {\"backgroundcolor\": \"#E5ECF6\", \"gridcolor\": \"white\", \"gridwidth\": 2, \"linecolor\": \"white\", \"showbackground\": true, \"ticks\": \"\", \"zerolinecolor\": \"white\"}}, \"shapedefaults\": {\"line\": {\"color\": \"#2a3f5f\"}}, \"ternary\": {\"aaxis\": {\"gridcolor\": \"white\", \"linecolor\": \"white\", \"ticks\": \"\"}, \"baxis\": {\"gridcolor\": \"white\", \"linecolor\": \"white\", \"ticks\": \"\"}, \"bgcolor\": \"#E5ECF6\", \"caxis\": {\"gridcolor\": \"white\", \"linecolor\": \"white\", \"ticks\": \"\"}}, \"title\": {\"x\": 0.05}, \"xaxis\": {\"automargin\": true, \"gridcolor\": \"white\", \"linecolor\": \"white\", \"ticks\": \"\", \"title\": {\"standoff\": 15}, \"zerolinecolor\": \"white\", \"zerolinewidth\": 2}, \"yaxis\": {\"automargin\": true, \"gridcolor\": \"white\", \"linecolor\": \"white\", \"ticks\": \"\", \"title\": {\"standoff\": 15}, \"zerolinecolor\": \"white\", \"zerolinewidth\": 2}}}, \"title\": {\"font\": {\"color\": \"#4D5663\"}}, \"xaxis\": {\"gridcolor\": \"#E1E5ED\", \"showgrid\": true, \"tickfont\": {\"color\": \"#4D5663\"}, \"title\": {\"font\": {\"color\": \"#4D5663\"}, \"text\": \"\"}, \"zerolinecolor\": \"#E1E5ED\"}, \"yaxis\": {\"gridcolor\": \"#E1E5ED\", \"showgrid\": true, \"tickfont\": {\"color\": \"#4D5663\"}, \"title\": {\"font\": {\"color\": \"#4D5663\"}, \"text\": \"\"}, \"zerolinecolor\": \"#E1E5ED\"}},                        {\"showLink\": true, \"linkText\": \"Export to plot.ly\", \"plotlyServerURL\": \"https://plot.ly\", \"responsive\": true}                    ).then(function(){\n",
       "                            \n",
       "var gd = document.getElementById('73f49371-9f38-490e-98fd-f0d81c0731ff');\n",
       "var x = new MutationObserver(function (mutations, observer) {{\n",
       "        var display = window.getComputedStyle(gd).display;\n",
       "        if (!display || display === 'none') {{\n",
       "            console.log([gd, 'removed!']);\n",
       "            Plotly.purge(gd);\n",
       "            observer.disconnect();\n",
       "        }}\n",
       "}});\n",
       "\n",
       "// Listen for the removal of the full notebook cells\n",
       "var notebookContainer = gd.closest('#notebook-container');\n",
       "if (notebookContainer) {{\n",
       "    x.observe(notebookContainer, {childList: true});\n",
       "}}\n",
       "\n",
       "// Listen for the clearing of the current output cell\n",
       "var outputEl = gd.closest('.output');\n",
       "if (outputEl) {{\n",
       "    x.observe(outputEl, {childList: true});\n",
       "}}\n",
       "\n",
       "                        })                };                });            </script>        </div>"
      ]
     },
     "metadata": {},
     "output_type": "display_data"
    }
   ],
   "source": [
    "da.iplot(x='group',y='value',categories='Year',mode='lines')"
   ]
  },
  {
   "cell_type": "markdown",
   "metadata": {},
   "source": [
    "<div style='background-color:navy; color:white; padding:20px'>\n",
    "Percentage of people having Mobile Money Account witness a substential increase from 2014 to 2017 in all groups.\n",
    "</div>"
   ]
  },
  {
   "cell_type": "markdown",
   "metadata": {},
   "source": [
    "## Tidying & analysis by country in year 2017"
   ]
  },
  {
   "cell_type": "code",
   "execution_count": 29,
   "metadata": {
    "ExecuteTime": {
     "end_time": "2020-12-09T10:41:18.553718Z",
     "start_time": "2020-12-09T10:41:18.527718Z"
    }
   },
   "outputs": [],
   "source": [
    "data_2017=mob_cl.query('Year==2017').drop('Year',axis=1)\n",
    "geo=data_2017.iloc[:,:4].dropna()"
   ]
  },
  {
   "cell_type": "code",
   "execution_count": 30,
   "metadata": {
    "ExecuteTime": {
     "end_time": "2020-12-09T10:41:18.596718Z",
     "start_time": "2020-12-09T10:41:18.560717Z"
    }
   },
   "outputs": [
    {
     "data": {
      "text/html": [
       "<div>\n",
       "<style scoped>\n",
       "    .dataframe tbody tr th:only-of-type {\n",
       "        vertical-align: middle;\n",
       "    }\n",
       "\n",
       "    .dataframe tbody tr th {\n",
       "        vertical-align: top;\n",
       "    }\n",
       "\n",
       "    .dataframe thead th {\n",
       "        text-align: right;\n",
       "    }\n",
       "</style>\n",
       "<table border=\"1\" class=\"dataframe\">\n",
       "  <thead>\n",
       "    <tr style=\"text-align: right;\">\n",
       "      <th></th>\n",
       "      <th>Country</th>\n",
       "      <th>Iso</th>\n",
       "      <th>Region</th>\n",
       "      <th>General</th>\n",
       "    </tr>\n",
       "  </thead>\n",
       "  <tbody>\n",
       "    <tr>\n",
       "      <th>2</th>\n",
       "      <td>Afghanistan</td>\n",
       "      <td>AFG</td>\n",
       "      <td>South Asia</td>\n",
       "      <td>0.91</td>\n",
       "    </tr>\n",
       "    <tr>\n",
       "      <th>7</th>\n",
       "      <td>Albania</td>\n",
       "      <td>ALB</td>\n",
       "      <td>Europe &amp; Central Asia (excluding high income)</td>\n",
       "      <td>2.38</td>\n",
       "    </tr>\n",
       "    <tr>\n",
       "      <th>13</th>\n",
       "      <td>United Arab Emirates</td>\n",
       "      <td>ARE</td>\n",
       "      <td>High income</td>\n",
       "      <td>21.33</td>\n",
       "    </tr>\n",
       "    <tr>\n",
       "      <th>16</th>\n",
       "      <td>Argentina</td>\n",
       "      <td>ARG</td>\n",
       "      <td>Latin America &amp; Caribbean (excluding high income)</td>\n",
       "      <td>2.42</td>\n",
       "    </tr>\n",
       "    <tr>\n",
       "      <th>19</th>\n",
       "      <td>Armenia</td>\n",
       "      <td>ARM</td>\n",
       "      <td>Europe &amp; Central Asia (excluding high income)</td>\n",
       "      <td>9.76</td>\n",
       "    </tr>\n",
       "    <tr>\n",
       "      <th>...</th>\n",
       "      <td>...</td>\n",
       "      <td>...</td>\n",
       "      <td>...</td>\n",
       "      <td>...</td>\n",
       "    </tr>\n",
       "    <tr>\n",
       "      <th>473</th>\n",
       "      <td>Venezuela, RB</td>\n",
       "      <td>VEN</td>\n",
       "      <td>Latin America &amp; Caribbean (excluding high income)</td>\n",
       "      <td>10.97</td>\n",
       "    </tr>\n",
       "    <tr>\n",
       "      <th>476</th>\n",
       "      <td>Vietnam</td>\n",
       "      <td>VNM</td>\n",
       "      <td>East Asia &amp; Pacific (excluding high income)</td>\n",
       "      <td>3.50</td>\n",
       "    </tr>\n",
       "    <tr>\n",
       "      <th>487</th>\n",
       "      <td>South Africa</td>\n",
       "      <td>ZAF</td>\n",
       "      <td>Sub-Saharan Africa (excluding high income)</td>\n",
       "      <td>19.02</td>\n",
       "    </tr>\n",
       "    <tr>\n",
       "      <th>490</th>\n",
       "      <td>Zambia</td>\n",
       "      <td>ZMB</td>\n",
       "      <td>Sub-Saharan Africa (excluding high income)</td>\n",
       "      <td>27.84</td>\n",
       "    </tr>\n",
       "    <tr>\n",
       "      <th>493</th>\n",
       "      <td>Zimbabwe</td>\n",
       "      <td>ZWE</td>\n",
       "      <td>Sub-Saharan Africa (excluding high income)</td>\n",
       "      <td>48.58</td>\n",
       "    </tr>\n",
       "  </tbody>\n",
       "</table>\n",
       "<p>77 rows × 4 columns</p>\n",
       "</div>"
      ],
      "text/plain": [
       "                  Country  Iso  \\\n",
       "2             Afghanistan  AFG   \n",
       "7                 Albania  ALB   \n",
       "13   United Arab Emirates  ARE   \n",
       "16              Argentina  ARG   \n",
       "19                Armenia  ARM   \n",
       "..                    ...  ...   \n",
       "473         Venezuela, RB  VEN   \n",
       "476               Vietnam  VNM   \n",
       "487          South Africa  ZAF   \n",
       "490                Zambia  ZMB   \n",
       "493              Zimbabwe  ZWE   \n",
       "\n",
       "                                                Region  General  \n",
       "2                                           South Asia     0.91  \n",
       "7        Europe & Central Asia (excluding high income)     2.38  \n",
       "13                                         High income    21.33  \n",
       "16   Latin America & Caribbean (excluding high income)     2.42  \n",
       "19       Europe & Central Asia (excluding high income)     9.76  \n",
       "..                                                 ...      ...  \n",
       "473  Latin America & Caribbean (excluding high income)    10.97  \n",
       "476        East Asia & Pacific (excluding high income)     3.50  \n",
       "487         Sub-Saharan Africa (excluding high income)    19.02  \n",
       "490         Sub-Saharan Africa (excluding high income)    27.84  \n",
       "493         Sub-Saharan Africa (excluding high income)    48.58  \n",
       "\n",
       "[77 rows x 4 columns]"
      ]
     },
     "execution_count": 30,
     "metadata": {},
     "output_type": "execute_result"
    }
   ],
   "source": [
    "geo"
   ]
  },
  {
   "cell_type": "code",
   "execution_count": 31,
   "metadata": {
    "ExecuteTime": {
     "end_time": "2020-12-09T10:41:18.892722Z",
     "start_time": "2020-12-09T10:41:18.600718Z"
    }
   },
   "outputs": [
    {
     "data": {
      "application/vnd.plotly.v1+json": {
       "config": {
        "plotlyServerURL": "https://plot.ly"
       },
       "data": [
        {
         "geo": "geo",
         "hovertemplate": "<b>%{hovertext}</b><br><br>Region=South Asia<br>General=%{marker.size}<br>Iso=%{location}<extra></extra>",
         "hovertext": [
          "Afghanistan",
          "Bangladesh",
          "India",
          "Sri Lanka",
          "Pakistan"
         ],
         "legendgroup": "South Asia",
         "locations": [
          "AFG",
          "BGD",
          "IND",
          "LKA",
          "PAK"
         ],
         "marker": {
          "color": "#636efa",
          "size": [
           0.9138161316514015,
           21.245959401130676,
           1.9945431500673294,
           2.4207601323723793,
           6.885557621717453
          ],
          "sizemode": "area",
          "sizeref": 0.1823292076587677,
          "symbol": "circle"
         },
         "mode": "markers",
         "name": "South Asia",
         "showlegend": true,
         "type": "scattergeo"
        },
        {
         "geo": "geo",
         "hovertemplate": "<b>%{hovertext}</b><br><br>Region=Europe & Central Asia (excluding high income)<br>General=%{marker.size}<br>Iso=%{location}<extra></extra>",
         "hovertext": [
          "Albania",
          "Armenia",
          "Georgia",
          "Kyrgyz Republic",
          "Romania",
          "Turkey"
         ],
         "legendgroup": "Europe & Central Asia (excluding high income)",
         "locations": [
          "ALB",
          "ARM",
          "GEO",
          "KGZ",
          "ROU",
          "TUR"
         ],
         "marker": {
          "color": "#EF553B",
          "size": [
           2.377762086689472,
           9.75530669093132,
           2.2010216489434242,
           3.106876276433468,
           2.9901696369051933,
           16.411952674388885
          ],
          "sizemode": "area",
          "sizeref": 0.1823292076587677,
          "symbol": "circle"
         },
         "mode": "markers",
         "name": "Europe & Central Asia (excluding high income)",
         "showlegend": true,
         "type": "scattergeo"
        },
        {
         "geo": "geo",
         "hovertemplate": "<b>%{hovertext}</b><br><br>Region=High income<br>General=%{marker.size}<br>Iso=%{location}<extra></extra>",
         "hovertext": [
          "United Arab Emirates",
          "Chile",
          "Singapore"
         ],
         "legendgroup": "High income",
         "locations": [
          "ARE",
          "CHL",
          "SGP"
         ],
         "marker": {
          "color": "#00cc96",
          "size": [
           21.331796050071716,
           18.670815229415894,
           9.54800769686699
          ],
          "sizemode": "area",
          "sizeref": 0.1823292076587677,
          "symbol": "circle"
         },
         "mode": "markers",
         "name": "High income",
         "showlegend": true,
         "type": "scattergeo"
        },
        {
         "geo": "geo",
         "hovertemplate": "<b>%{hovertext}</b><br><br>Region=Latin America & Caribbean (excluding high income)<br>General=%{marker.size}<br>Iso=%{location}<extra></extra>",
         "hovertext": [
          "Argentina",
          "Bolivia",
          "Brazil",
          "Colombia",
          "Dominican Republic",
          "Ecuador",
          "Guatemala",
          "Honduras",
          "Haiti",
          "Mexico",
          "Nicaragua",
          "Panama",
          "Peru",
          "Paraguay",
          "El Salvador",
          "Venezuela, RB"
         ],
         "legendgroup": "Latin America & Caribbean (excluding high income)",
         "locations": [
          "ARG",
          "BOL",
          "BRA",
          "COL",
          "DOM",
          "ECU",
          "GTM",
          "HND",
          "HTI",
          "MEX",
          "NIC",
          "PAN",
          "PER",
          "PRY",
          "SLV",
          "VEN"
         ],
         "marker": {
          "color": "#ab63fa",
          "size": [
           2.4161674082279205,
           7.119389623403549,
           4.836530610918999,
           4.737451300024986,
           3.894679620862007,
           2.9369747266173363,
           2.1264059469103813,
           6.19601272046566,
           13.517189025878906,
           5.552579462528229,
           3.9274167269468307,
           3.503168746829033,
           2.634166181087494,
           28.88176739215851,
           3.5496149212121964,
           10.970383137464523
          ],
          "sizemode": "area",
          "sizeref": 0.1823292076587677,
          "symbol": "circle"
         },
         "mode": "markers",
         "name": "Latin America & Caribbean (excluding high income)",
         "showlegend": true,
         "type": "scattergeo"
        },
        {
         "geo": "geo",
         "hovertemplate": "<b>%{hovertext}</b><br><br>Region=Sub-Saharan Africa (excluding high income)<br>General=%{marker.size}<br>Iso=%{location}<extra></extra>",
         "hovertext": [
          "Benin",
          "Burkina Faso",
          "Botswana",
          "Cote d'Ivoire",
          "Cameroon",
          "Congo, Dem. Rep.",
          "Congo, Rep.",
          "Ethiopia",
          "Gabon",
          "Ghana",
          "Guinea",
          "Kenya",
          "Liberia",
          "Lesotho",
          "Madagascar",
          "Mali",
          "Mozambique",
          "Mauritania",
          "Mauritius",
          "Malawi",
          "Namibia",
          "Niger",
          "Nigeria",
          "Rwanda",
          "Senegal",
          "Sierra Leone",
          "Chad",
          "Togo",
          "Tanzania",
          "Uganda",
          "South Africa",
          "Zambia",
          "Zimbabwe"
         ],
         "legendgroup": "Sub-Saharan Africa (excluding high income)",
         "locations": [
          "BEN",
          "BFA",
          "BWA",
          "CIV",
          "CMR",
          "COD",
          "COG",
          "ETH",
          "GAB",
          "GHA",
          "GIN",
          "KEN",
          "LBR",
          "LSO",
          "MDG",
          "MLI",
          "MOZ",
          "MRT",
          "MUS",
          "MWI",
          "NAM",
          "NER",
          "NGA",
          "RWA",
          "SEN",
          "SLE",
          "TCD",
          "TGO",
          "TZA",
          "UGA",
          "ZAF",
          "ZMB",
          "ZWE"
         ],
         "marker": {
          "color": "#FFA15A",
          "size": [
           18.093837797641754,
           33.02279710769653,
           24.378307163715363,
           34.053173661231995,
           15.137830376625061,
           16.096340119838715,
           6.238438934087753,
           0.3159289015457034,
           43.5779869556427,
           38.947781920433044,
           13.780468702316284,
           72.93168306350708,
           20.843392610549927,
           27.641841769218445,
           12.055302411317825,
           24.397648870944977,
           21.866820752620697,
           4.012377932667732,
           5.626937001943588,
           20.30283212661743,
           43.42947006225586,
           8.717238157987595,
           5.6061651557683945,
           31.114640831947327,
           31.798091530799866,
           11.01861372590065,
           15.233409404754639,
           21.457375586032867,
           38.53802978992462,
           50.5812406539917,
           19.016845524311066,
           27.842390537261963,
           48.58163297176361
          ],
          "sizemode": "area",
          "sizeref": 0.1823292076587677,
          "symbol": "circle"
         },
         "mode": "markers",
         "name": "Sub-Saharan Africa (excluding high income)",
         "showlegend": true,
         "type": "scattergeo"
        },
        {
         "geo": "geo",
         "hovertemplate": "<b>%{hovertext}</b><br><br>Region=Middle East & North Africa (excluding high income)<br>General=%{marker.size}<br>Iso=%{location}<extra></extra>",
         "hovertext": [
          "Egypt, Arab Rep.",
          "Iran, Islamic Rep.",
          "Iraq",
          "Jordan",
          "Morocco",
          "Tunisia"
         ],
         "legendgroup": "Middle East & North Africa (excluding high income)",
         "locations": [
          "EGY",
          "IRN",
          "IRQ",
          "JOR",
          "MAR",
          "TUN"
         ],
         "marker": {
          "color": "#19d3f3",
          "size": [
           1.792016252875328,
           26.29660964012146,
           4.214755445718765,
           1.0609684512019157,
           0.6392114795744419,
           2.0371897146105766
          ],
          "sizemode": "area",
          "sizeref": 0.1823292076587677,
          "symbol": "circle"
         },
         "mode": "markers",
         "name": "Middle East & North Africa (excluding high income)",
         "showlegend": true,
         "type": "scattergeo"
        },
        {
         "geo": "geo",
         "hovertemplate": "<b>%{hovertext}</b><br><br>Region=East Asia & Pacific (excluding high income)<br>General=%{marker.size}<br>Iso=%{location}<extra></extra>",
         "hovertext": [
          "Indonesia",
          "Cambodia",
          "Myanmar",
          "Mongolia",
          "Malaysia",
          "Philippines",
          "Thailand",
          "Vietnam"
         ],
         "legendgroup": "East Asia & Pacific (excluding high income)",
         "locations": [
          "IDN",
          "KHM",
          "MMR",
          "MNG",
          "MYS",
          "PHL",
          "THA",
          "VNM"
         ],
         "marker": {
          "color": "#FF6692",
          "size": [
           3.1239157542586327,
           5.65950870513916,
           0.6904998794198036,
           21.897147595882416,
           10.876332968473434,
           4.521298781037331,
           8.256859332323074,
           3.4995008260011673
          ],
          "sizemode": "area",
          "sizeref": 0.1823292076587677,
          "symbol": "circle"
         },
         "mode": "markers",
         "name": "East Asia & Pacific (excluding high income)",
         "showlegend": true,
         "type": "scattergeo"
        }
       ],
       "layout": {
        "geo": {
         "center": {},
         "domain": {
          "x": [
           0,
           1
          ],
          "y": [
           0,
           1
          ]
         },
         "projection": {
          "type": "natural earth"
         }
        },
        "height": 500,
        "legend": {
         "itemsizing": "constant",
         "title": {
          "text": "Region"
         },
         "tracegroupgap": 0
        },
        "margin": {
         "t": 60
        },
        "template": {
         "data": {
          "bar": [
           {
            "error_x": {
             "color": "#2a3f5f"
            },
            "error_y": {
             "color": "#2a3f5f"
            },
            "marker": {
             "line": {
              "color": "#E5ECF6",
              "width": 0.5
             }
            },
            "type": "bar"
           }
          ],
          "barpolar": [
           {
            "marker": {
             "line": {
              "color": "#E5ECF6",
              "width": 0.5
             }
            },
            "type": "barpolar"
           }
          ],
          "carpet": [
           {
            "aaxis": {
             "endlinecolor": "#2a3f5f",
             "gridcolor": "white",
             "linecolor": "white",
             "minorgridcolor": "white",
             "startlinecolor": "#2a3f5f"
            },
            "baxis": {
             "endlinecolor": "#2a3f5f",
             "gridcolor": "white",
             "linecolor": "white",
             "minorgridcolor": "white",
             "startlinecolor": "#2a3f5f"
            },
            "type": "carpet"
           }
          ],
          "choropleth": [
           {
            "colorbar": {
             "outlinewidth": 0,
             "ticks": ""
            },
            "type": "choropleth"
           }
          ],
          "contour": [
           {
            "colorbar": {
             "outlinewidth": 0,
             "ticks": ""
            },
            "colorscale": [
             [
              0,
              "#0d0887"
             ],
             [
              0.1111111111111111,
              "#46039f"
             ],
             [
              0.2222222222222222,
              "#7201a8"
             ],
             [
              0.3333333333333333,
              "#9c179e"
             ],
             [
              0.4444444444444444,
              "#bd3786"
             ],
             [
              0.5555555555555556,
              "#d8576b"
             ],
             [
              0.6666666666666666,
              "#ed7953"
             ],
             [
              0.7777777777777778,
              "#fb9f3a"
             ],
             [
              0.8888888888888888,
              "#fdca26"
             ],
             [
              1,
              "#f0f921"
             ]
            ],
            "type": "contour"
           }
          ],
          "contourcarpet": [
           {
            "colorbar": {
             "outlinewidth": 0,
             "ticks": ""
            },
            "type": "contourcarpet"
           }
          ],
          "heatmap": [
           {
            "colorbar": {
             "outlinewidth": 0,
             "ticks": ""
            },
            "colorscale": [
             [
              0,
              "#0d0887"
             ],
             [
              0.1111111111111111,
              "#46039f"
             ],
             [
              0.2222222222222222,
              "#7201a8"
             ],
             [
              0.3333333333333333,
              "#9c179e"
             ],
             [
              0.4444444444444444,
              "#bd3786"
             ],
             [
              0.5555555555555556,
              "#d8576b"
             ],
             [
              0.6666666666666666,
              "#ed7953"
             ],
             [
              0.7777777777777778,
              "#fb9f3a"
             ],
             [
              0.8888888888888888,
              "#fdca26"
             ],
             [
              1,
              "#f0f921"
             ]
            ],
            "type": "heatmap"
           }
          ],
          "heatmapgl": [
           {
            "colorbar": {
             "outlinewidth": 0,
             "ticks": ""
            },
            "colorscale": [
             [
              0,
              "#0d0887"
             ],
             [
              0.1111111111111111,
              "#46039f"
             ],
             [
              0.2222222222222222,
              "#7201a8"
             ],
             [
              0.3333333333333333,
              "#9c179e"
             ],
             [
              0.4444444444444444,
              "#bd3786"
             ],
             [
              0.5555555555555556,
              "#d8576b"
             ],
             [
              0.6666666666666666,
              "#ed7953"
             ],
             [
              0.7777777777777778,
              "#fb9f3a"
             ],
             [
              0.8888888888888888,
              "#fdca26"
             ],
             [
              1,
              "#f0f921"
             ]
            ],
            "type": "heatmapgl"
           }
          ],
          "histogram": [
           {
            "marker": {
             "colorbar": {
              "outlinewidth": 0,
              "ticks": ""
             }
            },
            "type": "histogram"
           }
          ],
          "histogram2d": [
           {
            "colorbar": {
             "outlinewidth": 0,
             "ticks": ""
            },
            "colorscale": [
             [
              0,
              "#0d0887"
             ],
             [
              0.1111111111111111,
              "#46039f"
             ],
             [
              0.2222222222222222,
              "#7201a8"
             ],
             [
              0.3333333333333333,
              "#9c179e"
             ],
             [
              0.4444444444444444,
              "#bd3786"
             ],
             [
              0.5555555555555556,
              "#d8576b"
             ],
             [
              0.6666666666666666,
              "#ed7953"
             ],
             [
              0.7777777777777778,
              "#fb9f3a"
             ],
             [
              0.8888888888888888,
              "#fdca26"
             ],
             [
              1,
              "#f0f921"
             ]
            ],
            "type": "histogram2d"
           }
          ],
          "histogram2dcontour": [
           {
            "colorbar": {
             "outlinewidth": 0,
             "ticks": ""
            },
            "colorscale": [
             [
              0,
              "#0d0887"
             ],
             [
              0.1111111111111111,
              "#46039f"
             ],
             [
              0.2222222222222222,
              "#7201a8"
             ],
             [
              0.3333333333333333,
              "#9c179e"
             ],
             [
              0.4444444444444444,
              "#bd3786"
             ],
             [
              0.5555555555555556,
              "#d8576b"
             ],
             [
              0.6666666666666666,
              "#ed7953"
             ],
             [
              0.7777777777777778,
              "#fb9f3a"
             ],
             [
              0.8888888888888888,
              "#fdca26"
             ],
             [
              1,
              "#f0f921"
             ]
            ],
            "type": "histogram2dcontour"
           }
          ],
          "mesh3d": [
           {
            "colorbar": {
             "outlinewidth": 0,
             "ticks": ""
            },
            "type": "mesh3d"
           }
          ],
          "parcoords": [
           {
            "line": {
             "colorbar": {
              "outlinewidth": 0,
              "ticks": ""
             }
            },
            "type": "parcoords"
           }
          ],
          "pie": [
           {
            "automargin": true,
            "type": "pie"
           }
          ],
          "scatter": [
           {
            "marker": {
             "colorbar": {
              "outlinewidth": 0,
              "ticks": ""
             }
            },
            "type": "scatter"
           }
          ],
          "scatter3d": [
           {
            "line": {
             "colorbar": {
              "outlinewidth": 0,
              "ticks": ""
             }
            },
            "marker": {
             "colorbar": {
              "outlinewidth": 0,
              "ticks": ""
             }
            },
            "type": "scatter3d"
           }
          ],
          "scattercarpet": [
           {
            "marker": {
             "colorbar": {
              "outlinewidth": 0,
              "ticks": ""
             }
            },
            "type": "scattercarpet"
           }
          ],
          "scattergeo": [
           {
            "marker": {
             "colorbar": {
              "outlinewidth": 0,
              "ticks": ""
             }
            },
            "type": "scattergeo"
           }
          ],
          "scattergl": [
           {
            "marker": {
             "colorbar": {
              "outlinewidth": 0,
              "ticks": ""
             }
            },
            "type": "scattergl"
           }
          ],
          "scattermapbox": [
           {
            "marker": {
             "colorbar": {
              "outlinewidth": 0,
              "ticks": ""
             }
            },
            "type": "scattermapbox"
           }
          ],
          "scatterpolar": [
           {
            "marker": {
             "colorbar": {
              "outlinewidth": 0,
              "ticks": ""
             }
            },
            "type": "scatterpolar"
           }
          ],
          "scatterpolargl": [
           {
            "marker": {
             "colorbar": {
              "outlinewidth": 0,
              "ticks": ""
             }
            },
            "type": "scatterpolargl"
           }
          ],
          "scatterternary": [
           {
            "marker": {
             "colorbar": {
              "outlinewidth": 0,
              "ticks": ""
             }
            },
            "type": "scatterternary"
           }
          ],
          "surface": [
           {
            "colorbar": {
             "outlinewidth": 0,
             "ticks": ""
            },
            "colorscale": [
             [
              0,
              "#0d0887"
             ],
             [
              0.1111111111111111,
              "#46039f"
             ],
             [
              0.2222222222222222,
              "#7201a8"
             ],
             [
              0.3333333333333333,
              "#9c179e"
             ],
             [
              0.4444444444444444,
              "#bd3786"
             ],
             [
              0.5555555555555556,
              "#d8576b"
             ],
             [
              0.6666666666666666,
              "#ed7953"
             ],
             [
              0.7777777777777778,
              "#fb9f3a"
             ],
             [
              0.8888888888888888,
              "#fdca26"
             ],
             [
              1,
              "#f0f921"
             ]
            ],
            "type": "surface"
           }
          ],
          "table": [
           {
            "cells": {
             "fill": {
              "color": "#EBF0F8"
             },
             "line": {
              "color": "white"
             }
            },
            "header": {
             "fill": {
              "color": "#C8D4E3"
             },
             "line": {
              "color": "white"
             }
            },
            "type": "table"
           }
          ]
         },
         "layout": {
          "annotationdefaults": {
           "arrowcolor": "#2a3f5f",
           "arrowhead": 0,
           "arrowwidth": 1
          },
          "coloraxis": {
           "colorbar": {
            "outlinewidth": 0,
            "ticks": ""
           }
          },
          "colorscale": {
           "diverging": [
            [
             0,
             "#8e0152"
            ],
            [
             0.1,
             "#c51b7d"
            ],
            [
             0.2,
             "#de77ae"
            ],
            [
             0.3,
             "#f1b6da"
            ],
            [
             0.4,
             "#fde0ef"
            ],
            [
             0.5,
             "#f7f7f7"
            ],
            [
             0.6,
             "#e6f5d0"
            ],
            [
             0.7,
             "#b8e186"
            ],
            [
             0.8,
             "#7fbc41"
            ],
            [
             0.9,
             "#4d9221"
            ],
            [
             1,
             "#276419"
            ]
           ],
           "sequential": [
            [
             0,
             "#0d0887"
            ],
            [
             0.1111111111111111,
             "#46039f"
            ],
            [
             0.2222222222222222,
             "#7201a8"
            ],
            [
             0.3333333333333333,
             "#9c179e"
            ],
            [
             0.4444444444444444,
             "#bd3786"
            ],
            [
             0.5555555555555556,
             "#d8576b"
            ],
            [
             0.6666666666666666,
             "#ed7953"
            ],
            [
             0.7777777777777778,
             "#fb9f3a"
            ],
            [
             0.8888888888888888,
             "#fdca26"
            ],
            [
             1,
             "#f0f921"
            ]
           ],
           "sequentialminus": [
            [
             0,
             "#0d0887"
            ],
            [
             0.1111111111111111,
             "#46039f"
            ],
            [
             0.2222222222222222,
             "#7201a8"
            ],
            [
             0.3333333333333333,
             "#9c179e"
            ],
            [
             0.4444444444444444,
             "#bd3786"
            ],
            [
             0.5555555555555556,
             "#d8576b"
            ],
            [
             0.6666666666666666,
             "#ed7953"
            ],
            [
             0.7777777777777778,
             "#fb9f3a"
            ],
            [
             0.8888888888888888,
             "#fdca26"
            ],
            [
             1,
             "#f0f921"
            ]
           ]
          },
          "colorway": [
           "#636efa",
           "#EF553B",
           "#00cc96",
           "#ab63fa",
           "#FFA15A",
           "#19d3f3",
           "#FF6692",
           "#B6E880",
           "#FF97FF",
           "#FECB52"
          ],
          "font": {
           "color": "#2a3f5f"
          },
          "geo": {
           "bgcolor": "white",
           "lakecolor": "white",
           "landcolor": "#E5ECF6",
           "showlakes": true,
           "showland": true,
           "subunitcolor": "white"
          },
          "hoverlabel": {
           "align": "left"
          },
          "hovermode": "closest",
          "mapbox": {
           "style": "light"
          },
          "paper_bgcolor": "white",
          "plot_bgcolor": "#E5ECF6",
          "polar": {
           "angularaxis": {
            "gridcolor": "white",
            "linecolor": "white",
            "ticks": ""
           },
           "bgcolor": "#E5ECF6",
           "radialaxis": {
            "gridcolor": "white",
            "linecolor": "white",
            "ticks": ""
           }
          },
          "scene": {
           "xaxis": {
            "backgroundcolor": "#E5ECF6",
            "gridcolor": "white",
            "gridwidth": 2,
            "linecolor": "white",
            "showbackground": true,
            "ticks": "",
            "zerolinecolor": "white"
           },
           "yaxis": {
            "backgroundcolor": "#E5ECF6",
            "gridcolor": "white",
            "gridwidth": 2,
            "linecolor": "white",
            "showbackground": true,
            "ticks": "",
            "zerolinecolor": "white"
           },
           "zaxis": {
            "backgroundcolor": "#E5ECF6",
            "gridcolor": "white",
            "gridwidth": 2,
            "linecolor": "white",
            "showbackground": true,
            "ticks": "",
            "zerolinecolor": "white"
           }
          },
          "shapedefaults": {
           "line": {
            "color": "#2a3f5f"
           }
          },
          "ternary": {
           "aaxis": {
            "gridcolor": "white",
            "linecolor": "white",
            "ticks": ""
           },
           "baxis": {
            "gridcolor": "white",
            "linecolor": "white",
            "ticks": ""
           },
           "bgcolor": "#E5ECF6",
           "caxis": {
            "gridcolor": "white",
            "linecolor": "white",
            "ticks": ""
           }
          },
          "title": {
           "x": 0.05
          },
          "xaxis": {
           "automargin": true,
           "gridcolor": "white",
           "linecolor": "white",
           "ticks": "",
           "title": {
            "standoff": 15
           },
           "zerolinecolor": "white",
           "zerolinewidth": 2
          },
          "yaxis": {
           "automargin": true,
           "gridcolor": "white",
           "linecolor": "white",
           "ticks": "",
           "title": {
            "standoff": 15
           },
           "zerolinecolor": "white",
           "zerolinewidth": 2
          }
         }
        },
        "width": 1000
       }
      },
      "text/html": [
       "<div>                            <div id=\"7bd8cae3-e810-48df-9529-af37a9a85709\" class=\"plotly-graph-div\" style=\"height:500px; width:1000px;\"></div>            <script type=\"text/javascript\">                require([\"plotly\"], function(Plotly) {                    window.PLOTLYENV=window.PLOTLYENV || {};                                    if (document.getElementById(\"7bd8cae3-e810-48df-9529-af37a9a85709\")) {                    Plotly.newPlot(                        \"7bd8cae3-e810-48df-9529-af37a9a85709\",                        [{\"geo\": \"geo\", \"hovertemplate\": \"<b>%{hovertext}</b><br><br>Region=South Asia<br>General=%{marker.size}<br>Iso=%{location}<extra></extra>\", \"hovertext\": [\"Afghanistan\", \"Bangladesh\", \"India\", \"Sri Lanka\", \"Pakistan\"], \"legendgroup\": \"South Asia\", \"locations\": [\"AFG\", \"BGD\", \"IND\", \"LKA\", \"PAK\"], \"marker\": {\"color\": \"#636efa\", \"size\": [0.9138161316514015, 21.245959401130676, 1.9945431500673294, 2.4207601323723793, 6.885557621717453], \"sizemode\": \"area\", \"sizeref\": 0.1823292076587677, \"symbol\": \"circle\"}, \"mode\": \"markers\", \"name\": \"South Asia\", \"showlegend\": true, \"type\": \"scattergeo\"}, {\"geo\": \"geo\", \"hovertemplate\": \"<b>%{hovertext}</b><br><br>Region=Europe & Central Asia (excluding high income)<br>General=%{marker.size}<br>Iso=%{location}<extra></extra>\", \"hovertext\": [\"Albania\", \"Armenia\", \"Georgia\", \"Kyrgyz Republic\", \"Romania\", \"Turkey\"], \"legendgroup\": \"Europe & Central Asia (excluding high income)\", \"locations\": [\"ALB\", \"ARM\", \"GEO\", \"KGZ\", \"ROU\", \"TUR\"], \"marker\": {\"color\": \"#EF553B\", \"size\": [2.377762086689472, 9.75530669093132, 2.2010216489434242, 3.106876276433468, 2.9901696369051933, 16.411952674388885], \"sizemode\": \"area\", \"sizeref\": 0.1823292076587677, \"symbol\": \"circle\"}, \"mode\": \"markers\", \"name\": \"Europe & Central Asia (excluding high income)\", \"showlegend\": true, \"type\": \"scattergeo\"}, {\"geo\": \"geo\", \"hovertemplate\": \"<b>%{hovertext}</b><br><br>Region=High income<br>General=%{marker.size}<br>Iso=%{location}<extra></extra>\", \"hovertext\": [\"United Arab Emirates\", \"Chile\", \"Singapore\"], \"legendgroup\": \"High income\", \"locations\": [\"ARE\", \"CHL\", \"SGP\"], \"marker\": {\"color\": \"#00cc96\", \"size\": [21.331796050071716, 18.670815229415894, 9.54800769686699], \"sizemode\": \"area\", \"sizeref\": 0.1823292076587677, \"symbol\": \"circle\"}, \"mode\": \"markers\", \"name\": \"High income\", \"showlegend\": true, \"type\": \"scattergeo\"}, {\"geo\": \"geo\", \"hovertemplate\": \"<b>%{hovertext}</b><br><br>Region=Latin America & Caribbean (excluding high income)<br>General=%{marker.size}<br>Iso=%{location}<extra></extra>\", \"hovertext\": [\"Argentina\", \"Bolivia\", \"Brazil\", \"Colombia\", \"Dominican Republic\", \"Ecuador\", \"Guatemala\", \"Honduras\", \"Haiti\", \"Mexico\", \"Nicaragua\", \"Panama\", \"Peru\", \"Paraguay\", \"El Salvador\", \"Venezuela, RB\"], \"legendgroup\": \"Latin America & Caribbean (excluding high income)\", \"locations\": [\"ARG\", \"BOL\", \"BRA\", \"COL\", \"DOM\", \"ECU\", \"GTM\", \"HND\", \"HTI\", \"MEX\", \"NIC\", \"PAN\", \"PER\", \"PRY\", \"SLV\", \"VEN\"], \"marker\": {\"color\": \"#ab63fa\", \"size\": [2.4161674082279205, 7.119389623403549, 4.836530610918999, 4.737451300024986, 3.894679620862007, 2.9369747266173363, 2.1264059469103813, 6.19601272046566, 13.517189025878906, 5.552579462528229, 3.9274167269468307, 3.503168746829033, 2.634166181087494, 28.88176739215851, 3.5496149212121964, 10.970383137464523], \"sizemode\": \"area\", \"sizeref\": 0.1823292076587677, \"symbol\": \"circle\"}, \"mode\": \"markers\", \"name\": \"Latin America & Caribbean (excluding high income)\", \"showlegend\": true, \"type\": \"scattergeo\"}, {\"geo\": \"geo\", \"hovertemplate\": \"<b>%{hovertext}</b><br><br>Region=Sub-Saharan Africa (excluding high income)<br>General=%{marker.size}<br>Iso=%{location}<extra></extra>\", \"hovertext\": [\"Benin\", \"Burkina Faso\", \"Botswana\", \"Cote d'Ivoire\", \"Cameroon\", \"Congo, Dem. Rep.\", \"Congo, Rep.\", \"Ethiopia\", \"Gabon\", \"Ghana\", \"Guinea\", \"Kenya\", \"Liberia\", \"Lesotho\", \"Madagascar\", \"Mali\", \"Mozambique\", \"Mauritania\", \"Mauritius\", \"Malawi\", \"Namibia\", \"Niger\", \"Nigeria\", \"Rwanda\", \"Senegal\", \"Sierra Leone\", \"Chad\", \"Togo\", \"Tanzania\", \"Uganda\", \"South Africa\", \"Zambia\", \"Zimbabwe\"], \"legendgroup\": \"Sub-Saharan Africa (excluding high income)\", \"locations\": [\"BEN\", \"BFA\", \"BWA\", \"CIV\", \"CMR\", \"COD\", \"COG\", \"ETH\", \"GAB\", \"GHA\", \"GIN\", \"KEN\", \"LBR\", \"LSO\", \"MDG\", \"MLI\", \"MOZ\", \"MRT\", \"MUS\", \"MWI\", \"NAM\", \"NER\", \"NGA\", \"RWA\", \"SEN\", \"SLE\", \"TCD\", \"TGO\", \"TZA\", \"UGA\", \"ZAF\", \"ZMB\", \"ZWE\"], \"marker\": {\"color\": \"#FFA15A\", \"size\": [18.093837797641754, 33.02279710769653, 24.378307163715363, 34.053173661231995, 15.137830376625061, 16.096340119838715, 6.238438934087753, 0.3159289015457034, 43.5779869556427, 38.947781920433044, 13.780468702316284, 72.93168306350708, 20.843392610549927, 27.641841769218445, 12.055302411317825, 24.397648870944977, 21.866820752620697, 4.012377932667732, 5.626937001943588, 20.30283212661743, 43.42947006225586, 8.717238157987595, 5.6061651557683945, 31.114640831947327, 31.798091530799866, 11.01861372590065, 15.233409404754639, 21.457375586032867, 38.53802978992462, 50.5812406539917, 19.016845524311066, 27.842390537261963, 48.58163297176361], \"sizemode\": \"area\", \"sizeref\": 0.1823292076587677, \"symbol\": \"circle\"}, \"mode\": \"markers\", \"name\": \"Sub-Saharan Africa (excluding high income)\", \"showlegend\": true, \"type\": \"scattergeo\"}, {\"geo\": \"geo\", \"hovertemplate\": \"<b>%{hovertext}</b><br><br>Region=Middle East & North Africa (excluding high income)<br>General=%{marker.size}<br>Iso=%{location}<extra></extra>\", \"hovertext\": [\"Egypt, Arab Rep.\", \"Iran, Islamic Rep.\", \"Iraq\", \"Jordan\", \"Morocco\", \"Tunisia\"], \"legendgroup\": \"Middle East & North Africa (excluding high income)\", \"locations\": [\"EGY\", \"IRN\", \"IRQ\", \"JOR\", \"MAR\", \"TUN\"], \"marker\": {\"color\": \"#19d3f3\", \"size\": [1.792016252875328, 26.29660964012146, 4.214755445718765, 1.0609684512019157, 0.6392114795744419, 2.0371897146105766], \"sizemode\": \"area\", \"sizeref\": 0.1823292076587677, \"symbol\": \"circle\"}, \"mode\": \"markers\", \"name\": \"Middle East & North Africa (excluding high income)\", \"showlegend\": true, \"type\": \"scattergeo\"}, {\"geo\": \"geo\", \"hovertemplate\": \"<b>%{hovertext}</b><br><br>Region=East Asia & Pacific (excluding high income)<br>General=%{marker.size}<br>Iso=%{location}<extra></extra>\", \"hovertext\": [\"Indonesia\", \"Cambodia\", \"Myanmar\", \"Mongolia\", \"Malaysia\", \"Philippines\", \"Thailand\", \"Vietnam\"], \"legendgroup\": \"East Asia & Pacific (excluding high income)\", \"locations\": [\"IDN\", \"KHM\", \"MMR\", \"MNG\", \"MYS\", \"PHL\", \"THA\", \"VNM\"], \"marker\": {\"color\": \"#FF6692\", \"size\": [3.1239157542586327, 5.65950870513916, 0.6904998794198036, 21.897147595882416, 10.876332968473434, 4.521298781037331, 8.256859332323074, 3.4995008260011673], \"sizemode\": \"area\", \"sizeref\": 0.1823292076587677, \"symbol\": \"circle\"}, \"mode\": \"markers\", \"name\": \"East Asia & Pacific (excluding high income)\", \"showlegend\": true, \"type\": \"scattergeo\"}],                        {\"geo\": {\"center\": {}, \"domain\": {\"x\": [0.0, 1.0], \"y\": [0.0, 1.0]}, \"projection\": {\"type\": \"natural earth\"}}, \"height\": 500, \"legend\": {\"itemsizing\": \"constant\", \"title\": {\"text\": \"Region\"}, \"tracegroupgap\": 0}, \"margin\": {\"t\": 60}, \"template\": {\"data\": {\"bar\": [{\"error_x\": {\"color\": \"#2a3f5f\"}, \"error_y\": {\"color\": \"#2a3f5f\"}, \"marker\": {\"line\": {\"color\": \"#E5ECF6\", \"width\": 0.5}}, \"type\": \"bar\"}], \"barpolar\": [{\"marker\": {\"line\": {\"color\": \"#E5ECF6\", \"width\": 0.5}}, \"type\": \"barpolar\"}], \"carpet\": [{\"aaxis\": {\"endlinecolor\": \"#2a3f5f\", \"gridcolor\": \"white\", \"linecolor\": \"white\", \"minorgridcolor\": \"white\", \"startlinecolor\": \"#2a3f5f\"}, \"baxis\": {\"endlinecolor\": \"#2a3f5f\", \"gridcolor\": \"white\", \"linecolor\": \"white\", \"minorgridcolor\": \"white\", \"startlinecolor\": \"#2a3f5f\"}, \"type\": \"carpet\"}], \"choropleth\": [{\"colorbar\": {\"outlinewidth\": 0, \"ticks\": \"\"}, \"type\": \"choropleth\"}], \"contour\": [{\"colorbar\": {\"outlinewidth\": 0, \"ticks\": \"\"}, \"colorscale\": [[0.0, \"#0d0887\"], [0.1111111111111111, \"#46039f\"], [0.2222222222222222, \"#7201a8\"], [0.3333333333333333, \"#9c179e\"], [0.4444444444444444, \"#bd3786\"], [0.5555555555555556, \"#d8576b\"], [0.6666666666666666, \"#ed7953\"], [0.7777777777777778, \"#fb9f3a\"], [0.8888888888888888, \"#fdca26\"], [1.0, \"#f0f921\"]], \"type\": \"contour\"}], \"contourcarpet\": [{\"colorbar\": {\"outlinewidth\": 0, \"ticks\": \"\"}, \"type\": \"contourcarpet\"}], \"heatmap\": [{\"colorbar\": {\"outlinewidth\": 0, \"ticks\": \"\"}, \"colorscale\": [[0.0, \"#0d0887\"], [0.1111111111111111, \"#46039f\"], [0.2222222222222222, \"#7201a8\"], [0.3333333333333333, \"#9c179e\"], [0.4444444444444444, \"#bd3786\"], [0.5555555555555556, \"#d8576b\"], [0.6666666666666666, \"#ed7953\"], [0.7777777777777778, \"#fb9f3a\"], [0.8888888888888888, \"#fdca26\"], [1.0, \"#f0f921\"]], \"type\": \"heatmap\"}], \"heatmapgl\": [{\"colorbar\": {\"outlinewidth\": 0, \"ticks\": \"\"}, \"colorscale\": [[0.0, \"#0d0887\"], [0.1111111111111111, \"#46039f\"], [0.2222222222222222, \"#7201a8\"], [0.3333333333333333, \"#9c179e\"], [0.4444444444444444, \"#bd3786\"], [0.5555555555555556, \"#d8576b\"], [0.6666666666666666, \"#ed7953\"], [0.7777777777777778, \"#fb9f3a\"], [0.8888888888888888, \"#fdca26\"], [1.0, \"#f0f921\"]], \"type\": \"heatmapgl\"}], \"histogram\": [{\"marker\": {\"colorbar\": {\"outlinewidth\": 0, \"ticks\": \"\"}}, \"type\": \"histogram\"}], \"histogram2d\": [{\"colorbar\": {\"outlinewidth\": 0, \"ticks\": \"\"}, \"colorscale\": [[0.0, \"#0d0887\"], [0.1111111111111111, \"#46039f\"], [0.2222222222222222, \"#7201a8\"], [0.3333333333333333, \"#9c179e\"], [0.4444444444444444, \"#bd3786\"], [0.5555555555555556, \"#d8576b\"], [0.6666666666666666, \"#ed7953\"], [0.7777777777777778, \"#fb9f3a\"], [0.8888888888888888, \"#fdca26\"], [1.0, \"#f0f921\"]], \"type\": \"histogram2d\"}], \"histogram2dcontour\": [{\"colorbar\": {\"outlinewidth\": 0, \"ticks\": \"\"}, \"colorscale\": [[0.0, \"#0d0887\"], [0.1111111111111111, \"#46039f\"], [0.2222222222222222, \"#7201a8\"], [0.3333333333333333, \"#9c179e\"], [0.4444444444444444, \"#bd3786\"], [0.5555555555555556, \"#d8576b\"], [0.6666666666666666, \"#ed7953\"], [0.7777777777777778, \"#fb9f3a\"], [0.8888888888888888, \"#fdca26\"], [1.0, \"#f0f921\"]], \"type\": \"histogram2dcontour\"}], \"mesh3d\": [{\"colorbar\": {\"outlinewidth\": 0, \"ticks\": \"\"}, \"type\": \"mesh3d\"}], \"parcoords\": [{\"line\": {\"colorbar\": {\"outlinewidth\": 0, \"ticks\": \"\"}}, \"type\": \"parcoords\"}], \"pie\": [{\"automargin\": true, \"type\": \"pie\"}], \"scatter\": [{\"marker\": {\"colorbar\": {\"outlinewidth\": 0, \"ticks\": \"\"}}, \"type\": \"scatter\"}], \"scatter3d\": [{\"line\": {\"colorbar\": {\"outlinewidth\": 0, \"ticks\": \"\"}}, \"marker\": {\"colorbar\": {\"outlinewidth\": 0, \"ticks\": \"\"}}, \"type\": \"scatter3d\"}], \"scattercarpet\": [{\"marker\": {\"colorbar\": {\"outlinewidth\": 0, \"ticks\": \"\"}}, \"type\": \"scattercarpet\"}], \"scattergeo\": [{\"marker\": {\"colorbar\": {\"outlinewidth\": 0, \"ticks\": \"\"}}, \"type\": \"scattergeo\"}], \"scattergl\": [{\"marker\": {\"colorbar\": {\"outlinewidth\": 0, \"ticks\": \"\"}}, \"type\": \"scattergl\"}], \"scattermapbox\": [{\"marker\": {\"colorbar\": {\"outlinewidth\": 0, \"ticks\": \"\"}}, \"type\": \"scattermapbox\"}], \"scatterpolar\": [{\"marker\": {\"colorbar\": {\"outlinewidth\": 0, \"ticks\": \"\"}}, \"type\": \"scatterpolar\"}], \"scatterpolargl\": [{\"marker\": {\"colorbar\": {\"outlinewidth\": 0, \"ticks\": \"\"}}, \"type\": \"scatterpolargl\"}], \"scatterternary\": [{\"marker\": {\"colorbar\": {\"outlinewidth\": 0, \"ticks\": \"\"}}, \"type\": \"scatterternary\"}], \"surface\": [{\"colorbar\": {\"outlinewidth\": 0, \"ticks\": \"\"}, \"colorscale\": [[0.0, \"#0d0887\"], [0.1111111111111111, \"#46039f\"], [0.2222222222222222, \"#7201a8\"], [0.3333333333333333, \"#9c179e\"], [0.4444444444444444, \"#bd3786\"], [0.5555555555555556, \"#d8576b\"], [0.6666666666666666, \"#ed7953\"], [0.7777777777777778, \"#fb9f3a\"], [0.8888888888888888, \"#fdca26\"], [1.0, \"#f0f921\"]], \"type\": \"surface\"}], \"table\": [{\"cells\": {\"fill\": {\"color\": \"#EBF0F8\"}, \"line\": {\"color\": \"white\"}}, \"header\": {\"fill\": {\"color\": \"#C8D4E3\"}, \"line\": {\"color\": \"white\"}}, \"type\": \"table\"}]}, \"layout\": {\"annotationdefaults\": {\"arrowcolor\": \"#2a3f5f\", \"arrowhead\": 0, \"arrowwidth\": 1}, \"coloraxis\": {\"colorbar\": {\"outlinewidth\": 0, \"ticks\": \"\"}}, \"colorscale\": {\"diverging\": [[0, \"#8e0152\"], [0.1, \"#c51b7d\"], [0.2, \"#de77ae\"], [0.3, \"#f1b6da\"], [0.4, \"#fde0ef\"], [0.5, \"#f7f7f7\"], [0.6, \"#e6f5d0\"], [0.7, \"#b8e186\"], [0.8, \"#7fbc41\"], [0.9, \"#4d9221\"], [1, \"#276419\"]], \"sequential\": [[0.0, \"#0d0887\"], [0.1111111111111111, \"#46039f\"], [0.2222222222222222, \"#7201a8\"], [0.3333333333333333, \"#9c179e\"], [0.4444444444444444, \"#bd3786\"], [0.5555555555555556, \"#d8576b\"], [0.6666666666666666, \"#ed7953\"], [0.7777777777777778, \"#fb9f3a\"], [0.8888888888888888, \"#fdca26\"], [1.0, \"#f0f921\"]], \"sequentialminus\": [[0.0, \"#0d0887\"], [0.1111111111111111, \"#46039f\"], [0.2222222222222222, \"#7201a8\"], [0.3333333333333333, \"#9c179e\"], [0.4444444444444444, \"#bd3786\"], [0.5555555555555556, \"#d8576b\"], [0.6666666666666666, \"#ed7953\"], [0.7777777777777778, \"#fb9f3a\"], [0.8888888888888888, \"#fdca26\"], [1.0, \"#f0f921\"]]}, \"colorway\": [\"#636efa\", \"#EF553B\", \"#00cc96\", \"#ab63fa\", \"#FFA15A\", \"#19d3f3\", \"#FF6692\", \"#B6E880\", \"#FF97FF\", \"#FECB52\"], \"font\": {\"color\": \"#2a3f5f\"}, \"geo\": {\"bgcolor\": \"white\", \"lakecolor\": \"white\", \"landcolor\": \"#E5ECF6\", \"showlakes\": true, \"showland\": true, \"subunitcolor\": \"white\"}, \"hoverlabel\": {\"align\": \"left\"}, \"hovermode\": \"closest\", \"mapbox\": {\"style\": \"light\"}, \"paper_bgcolor\": \"white\", \"plot_bgcolor\": \"#E5ECF6\", \"polar\": {\"angularaxis\": {\"gridcolor\": \"white\", \"linecolor\": \"white\", \"ticks\": \"\"}, \"bgcolor\": \"#E5ECF6\", \"radialaxis\": {\"gridcolor\": \"white\", \"linecolor\": \"white\", \"ticks\": \"\"}}, \"scene\": {\"xaxis\": {\"backgroundcolor\": \"#E5ECF6\", \"gridcolor\": \"white\", \"gridwidth\": 2, \"linecolor\": \"white\", \"showbackground\": true, \"ticks\": \"\", \"zerolinecolor\": \"white\"}, \"yaxis\": {\"backgroundcolor\": \"#E5ECF6\", \"gridcolor\": \"white\", \"gridwidth\": 2, \"linecolor\": \"white\", \"showbackground\": true, \"ticks\": \"\", \"zerolinecolor\": \"white\"}, \"zaxis\": {\"backgroundcolor\": \"#E5ECF6\", \"gridcolor\": \"white\", \"gridwidth\": 2, \"linecolor\": \"white\", \"showbackground\": true, \"ticks\": \"\", \"zerolinecolor\": \"white\"}}, \"shapedefaults\": {\"line\": {\"color\": \"#2a3f5f\"}}, \"ternary\": {\"aaxis\": {\"gridcolor\": \"white\", \"linecolor\": \"white\", \"ticks\": \"\"}, \"baxis\": {\"gridcolor\": \"white\", \"linecolor\": \"white\", \"ticks\": \"\"}, \"bgcolor\": \"#E5ECF6\", \"caxis\": {\"gridcolor\": \"white\", \"linecolor\": \"white\", \"ticks\": \"\"}}, \"title\": {\"x\": 0.05}, \"xaxis\": {\"automargin\": true, \"gridcolor\": \"white\", \"linecolor\": \"white\", \"ticks\": \"\", \"title\": {\"standoff\": 15}, \"zerolinecolor\": \"white\", \"zerolinewidth\": 2}, \"yaxis\": {\"automargin\": true, \"gridcolor\": \"white\", \"linecolor\": \"white\", \"ticks\": \"\", \"title\": {\"standoff\": 15}, \"zerolinecolor\": \"white\", \"zerolinewidth\": 2}}}, \"width\": 1000},                        {\"responsive\": true}                    ).then(function(){\n",
       "                            \n",
       "var gd = document.getElementById('7bd8cae3-e810-48df-9529-af37a9a85709');\n",
       "var x = new MutationObserver(function (mutations, observer) {{\n",
       "        var display = window.getComputedStyle(gd).display;\n",
       "        if (!display || display === 'none') {{\n",
       "            console.log([gd, 'removed!']);\n",
       "            Plotly.purge(gd);\n",
       "            observer.disconnect();\n",
       "        }}\n",
       "}});\n",
       "\n",
       "// Listen for the removal of the full notebook cells\n",
       "var notebookContainer = gd.closest('#notebook-container');\n",
       "if (notebookContainer) {{\n",
       "    x.observe(notebookContainer, {childList: true});\n",
       "}}\n",
       "\n",
       "// Listen for the clearing of the current output cell\n",
       "var outputEl = gd.closest('.output');\n",
       "if (outputEl) {{\n",
       "    x.observe(outputEl, {childList: true});\n",
       "}}\n",
       "\n",
       "                        })                };                });            </script>        </div>"
      ]
     },
     "metadata": {},
     "output_type": "display_data"
    }
   ],
   "source": [
    "fig = px.scatter_geo(geo, locations=\"Iso\", color=\"Region\",\n",
    "                     hover_name=\"Country\", size=\"General\",\n",
    "                    projection=\"natural earth\",width=1000,height=500\n",
    "            )\n",
    "\n",
    "\n",
    "fig.show()"
   ]
  },
  {
   "cell_type": "markdown",
   "metadata": {},
   "source": [
    "<div style='background-color:navy; color:white; padding:20px'> A through back in 2017, Mobile Money Account was actively use in Africa compared to other continents. We also noticed that data in Europe and North America was missing in year 2017. Indeed, Mckinsey report goes inline with our finding: \"https://www.mckinsey.com/industries/financial-services/our-insights/mobile-financial-services-in-africa-winning-the-battle-for-the-customer#\" \n",
    "</div>"
   ]
  },
  {
   "cell_type": "markdown",
   "metadata": {},
   "source": []
  },
  {
   "cell_type": "code",
   "execution_count": 32,
   "metadata": {
    "ExecuteTime": {
     "end_time": "2020-12-09T10:41:19.013717Z",
     "start_time": "2020-12-09T10:41:18.896727Z"
    }
   },
   "outputs": [
    {
     "data": {
      "application/vnd.plotly.v1+json": {
       "config": {
        "linkText": "Export to plot.ly",
        "plotlyServerURL": "https://plot.ly",
        "showLink": true
       },
       "data": [
        {
         "line": {
          "color": "rgba(255, 153, 51, 1.0)",
          "dash": "solid",
          "shape": "linear",
          "width": 1.3
         },
         "mode": "lines",
         "name": "General",
         "text": "",
         "type": "scatter",
         "x": [
          "Afghanistan",
          "Albania",
          "United Arab Emirates",
          "Argentina",
          "Armenia",
          "Benin",
          "Burkina Faso",
          "Bangladesh",
          "Bolivia",
          "Brazil",
          "Botswana",
          "Chile",
          "Cote d'Ivoire",
          "Cameroon",
          "Congo, Dem. Rep.",
          "Congo, Rep.",
          "Colombia",
          "Dominican Republic",
          "Ecuador",
          "Egypt, Arab Rep.",
          "Ethiopia",
          "Gabon",
          "Georgia",
          "Ghana",
          "Guinea",
          "Guatemala",
          "Honduras",
          "Haiti",
          "Indonesia",
          "India",
          "Iran, Islamic Rep.",
          "Iraq",
          "Jordan",
          "Kenya",
          "Kyrgyz Republic",
          "Cambodia",
          "Liberia",
          "Sri Lanka",
          "Lesotho",
          "Morocco",
          "Madagascar",
          "Mexico",
          "Mali",
          "Myanmar",
          "Mongolia",
          "Mozambique",
          "Mauritania",
          "Mauritius",
          "Malawi",
          "Malaysia",
          "Namibia",
          "Niger",
          "Nigeria",
          "Nicaragua",
          "Pakistan",
          "Panama",
          "Peru",
          "Philippines",
          "Paraguay",
          "Romania",
          "Rwanda",
          "Senegal",
          "Singapore",
          "Sierra Leone",
          "El Salvador",
          "Chad",
          "Togo",
          "Thailand",
          "Tunisia",
          "Turkey",
          "Tanzania",
          "Uganda",
          "Venezuela, RB",
          "Vietnam",
          "South Africa",
          "Zambia",
          "Zimbabwe"
         ],
         "y": [
          0.9138161316514015,
          2.377762086689472,
          21.331796050071716,
          2.4161674082279205,
          9.75530669093132,
          18.093837797641754,
          33.02279710769653,
          21.245959401130676,
          7.119389623403549,
          4.836530610918999,
          24.378307163715363,
          18.670815229415894,
          34.053173661231995,
          15.137830376625061,
          16.096340119838715,
          6.238438934087753,
          4.737451300024986,
          3.894679620862007,
          2.9369747266173363,
          1.792016252875328,
          0.3159289015457034,
          43.5779869556427,
          2.2010216489434242,
          38.947781920433044,
          13.780468702316284,
          2.1264059469103813,
          6.19601272046566,
          13.517189025878906,
          3.1239157542586327,
          1.9945431500673294,
          26.29660964012146,
          4.214755445718765,
          1.0609684512019157,
          72.93168306350708,
          3.106876276433468,
          5.65950870513916,
          20.843392610549927,
          2.4207601323723793,
          27.641841769218445,
          0.6392114795744419,
          12.055302411317825,
          5.552579462528229,
          24.397648870944977,
          0.6904998794198036,
          21.897147595882416,
          21.866820752620697,
          4.012377932667732,
          5.626937001943588,
          20.30283212661743,
          10.876332968473434,
          43.42947006225586,
          8.717238157987595,
          5.6061651557683945,
          3.9274167269468307,
          6.885557621717453,
          3.503168746829033,
          2.634166181087494,
          4.521298781037331,
          28.88176739215851,
          2.9901696369051933,
          31.114640831947327,
          31.798091530799866,
          9.54800769686699,
          11.01861372590065,
          3.5496149212121964,
          15.233409404754639,
          21.457375586032867,
          8.256859332323074,
          2.0371897146105766,
          16.411952674388885,
          38.53802978992462,
          50.5812406539917,
          10.970383137464523,
          3.4995008260011673,
          19.016845524311066,
          27.842390537261963,
          48.58163297176361
         ]
        }
       ],
       "layout": {
        "legend": {
         "bgcolor": "#F5F6F9",
         "font": {
          "color": "#4D5663"
         }
        },
        "paper_bgcolor": "#F5F6F9",
        "plot_bgcolor": "#F5F6F9",
        "template": {
         "data": {
          "bar": [
           {
            "error_x": {
             "color": "#2a3f5f"
            },
            "error_y": {
             "color": "#2a3f5f"
            },
            "marker": {
             "line": {
              "color": "#E5ECF6",
              "width": 0.5
             }
            },
            "type": "bar"
           }
          ],
          "barpolar": [
           {
            "marker": {
             "line": {
              "color": "#E5ECF6",
              "width": 0.5
             }
            },
            "type": "barpolar"
           }
          ],
          "carpet": [
           {
            "aaxis": {
             "endlinecolor": "#2a3f5f",
             "gridcolor": "white",
             "linecolor": "white",
             "minorgridcolor": "white",
             "startlinecolor": "#2a3f5f"
            },
            "baxis": {
             "endlinecolor": "#2a3f5f",
             "gridcolor": "white",
             "linecolor": "white",
             "minorgridcolor": "white",
             "startlinecolor": "#2a3f5f"
            },
            "type": "carpet"
           }
          ],
          "choropleth": [
           {
            "colorbar": {
             "outlinewidth": 0,
             "ticks": ""
            },
            "type": "choropleth"
           }
          ],
          "contour": [
           {
            "colorbar": {
             "outlinewidth": 0,
             "ticks": ""
            },
            "colorscale": [
             [
              0,
              "#0d0887"
             ],
             [
              0.1111111111111111,
              "#46039f"
             ],
             [
              0.2222222222222222,
              "#7201a8"
             ],
             [
              0.3333333333333333,
              "#9c179e"
             ],
             [
              0.4444444444444444,
              "#bd3786"
             ],
             [
              0.5555555555555556,
              "#d8576b"
             ],
             [
              0.6666666666666666,
              "#ed7953"
             ],
             [
              0.7777777777777778,
              "#fb9f3a"
             ],
             [
              0.8888888888888888,
              "#fdca26"
             ],
             [
              1,
              "#f0f921"
             ]
            ],
            "type": "contour"
           }
          ],
          "contourcarpet": [
           {
            "colorbar": {
             "outlinewidth": 0,
             "ticks": ""
            },
            "type": "contourcarpet"
           }
          ],
          "heatmap": [
           {
            "colorbar": {
             "outlinewidth": 0,
             "ticks": ""
            },
            "colorscale": [
             [
              0,
              "#0d0887"
             ],
             [
              0.1111111111111111,
              "#46039f"
             ],
             [
              0.2222222222222222,
              "#7201a8"
             ],
             [
              0.3333333333333333,
              "#9c179e"
             ],
             [
              0.4444444444444444,
              "#bd3786"
             ],
             [
              0.5555555555555556,
              "#d8576b"
             ],
             [
              0.6666666666666666,
              "#ed7953"
             ],
             [
              0.7777777777777778,
              "#fb9f3a"
             ],
             [
              0.8888888888888888,
              "#fdca26"
             ],
             [
              1,
              "#f0f921"
             ]
            ],
            "type": "heatmap"
           }
          ],
          "heatmapgl": [
           {
            "colorbar": {
             "outlinewidth": 0,
             "ticks": ""
            },
            "colorscale": [
             [
              0,
              "#0d0887"
             ],
             [
              0.1111111111111111,
              "#46039f"
             ],
             [
              0.2222222222222222,
              "#7201a8"
             ],
             [
              0.3333333333333333,
              "#9c179e"
             ],
             [
              0.4444444444444444,
              "#bd3786"
             ],
             [
              0.5555555555555556,
              "#d8576b"
             ],
             [
              0.6666666666666666,
              "#ed7953"
             ],
             [
              0.7777777777777778,
              "#fb9f3a"
             ],
             [
              0.8888888888888888,
              "#fdca26"
             ],
             [
              1,
              "#f0f921"
             ]
            ],
            "type": "heatmapgl"
           }
          ],
          "histogram": [
           {
            "marker": {
             "colorbar": {
              "outlinewidth": 0,
              "ticks": ""
             }
            },
            "type": "histogram"
           }
          ],
          "histogram2d": [
           {
            "colorbar": {
             "outlinewidth": 0,
             "ticks": ""
            },
            "colorscale": [
             [
              0,
              "#0d0887"
             ],
             [
              0.1111111111111111,
              "#46039f"
             ],
             [
              0.2222222222222222,
              "#7201a8"
             ],
             [
              0.3333333333333333,
              "#9c179e"
             ],
             [
              0.4444444444444444,
              "#bd3786"
             ],
             [
              0.5555555555555556,
              "#d8576b"
             ],
             [
              0.6666666666666666,
              "#ed7953"
             ],
             [
              0.7777777777777778,
              "#fb9f3a"
             ],
             [
              0.8888888888888888,
              "#fdca26"
             ],
             [
              1,
              "#f0f921"
             ]
            ],
            "type": "histogram2d"
           }
          ],
          "histogram2dcontour": [
           {
            "colorbar": {
             "outlinewidth": 0,
             "ticks": ""
            },
            "colorscale": [
             [
              0,
              "#0d0887"
             ],
             [
              0.1111111111111111,
              "#46039f"
             ],
             [
              0.2222222222222222,
              "#7201a8"
             ],
             [
              0.3333333333333333,
              "#9c179e"
             ],
             [
              0.4444444444444444,
              "#bd3786"
             ],
             [
              0.5555555555555556,
              "#d8576b"
             ],
             [
              0.6666666666666666,
              "#ed7953"
             ],
             [
              0.7777777777777778,
              "#fb9f3a"
             ],
             [
              0.8888888888888888,
              "#fdca26"
             ],
             [
              1,
              "#f0f921"
             ]
            ],
            "type": "histogram2dcontour"
           }
          ],
          "mesh3d": [
           {
            "colorbar": {
             "outlinewidth": 0,
             "ticks": ""
            },
            "type": "mesh3d"
           }
          ],
          "parcoords": [
           {
            "line": {
             "colorbar": {
              "outlinewidth": 0,
              "ticks": ""
             }
            },
            "type": "parcoords"
           }
          ],
          "pie": [
           {
            "automargin": true,
            "type": "pie"
           }
          ],
          "scatter": [
           {
            "marker": {
             "colorbar": {
              "outlinewidth": 0,
              "ticks": ""
             }
            },
            "type": "scatter"
           }
          ],
          "scatter3d": [
           {
            "line": {
             "colorbar": {
              "outlinewidth": 0,
              "ticks": ""
             }
            },
            "marker": {
             "colorbar": {
              "outlinewidth": 0,
              "ticks": ""
             }
            },
            "type": "scatter3d"
           }
          ],
          "scattercarpet": [
           {
            "marker": {
             "colorbar": {
              "outlinewidth": 0,
              "ticks": ""
             }
            },
            "type": "scattercarpet"
           }
          ],
          "scattergeo": [
           {
            "marker": {
             "colorbar": {
              "outlinewidth": 0,
              "ticks": ""
             }
            },
            "type": "scattergeo"
           }
          ],
          "scattergl": [
           {
            "marker": {
             "colorbar": {
              "outlinewidth": 0,
              "ticks": ""
             }
            },
            "type": "scattergl"
           }
          ],
          "scattermapbox": [
           {
            "marker": {
             "colorbar": {
              "outlinewidth": 0,
              "ticks": ""
             }
            },
            "type": "scattermapbox"
           }
          ],
          "scatterpolar": [
           {
            "marker": {
             "colorbar": {
              "outlinewidth": 0,
              "ticks": ""
             }
            },
            "type": "scatterpolar"
           }
          ],
          "scatterpolargl": [
           {
            "marker": {
             "colorbar": {
              "outlinewidth": 0,
              "ticks": ""
             }
            },
            "type": "scatterpolargl"
           }
          ],
          "scatterternary": [
           {
            "marker": {
             "colorbar": {
              "outlinewidth": 0,
              "ticks": ""
             }
            },
            "type": "scatterternary"
           }
          ],
          "surface": [
           {
            "colorbar": {
             "outlinewidth": 0,
             "ticks": ""
            },
            "colorscale": [
             [
              0,
              "#0d0887"
             ],
             [
              0.1111111111111111,
              "#46039f"
             ],
             [
              0.2222222222222222,
              "#7201a8"
             ],
             [
              0.3333333333333333,
              "#9c179e"
             ],
             [
              0.4444444444444444,
              "#bd3786"
             ],
             [
              0.5555555555555556,
              "#d8576b"
             ],
             [
              0.6666666666666666,
              "#ed7953"
             ],
             [
              0.7777777777777778,
              "#fb9f3a"
             ],
             [
              0.8888888888888888,
              "#fdca26"
             ],
             [
              1,
              "#f0f921"
             ]
            ],
            "type": "surface"
           }
          ],
          "table": [
           {
            "cells": {
             "fill": {
              "color": "#EBF0F8"
             },
             "line": {
              "color": "white"
             }
            },
            "header": {
             "fill": {
              "color": "#C8D4E3"
             },
             "line": {
              "color": "white"
             }
            },
            "type": "table"
           }
          ]
         },
         "layout": {
          "annotationdefaults": {
           "arrowcolor": "#2a3f5f",
           "arrowhead": 0,
           "arrowwidth": 1
          },
          "coloraxis": {
           "colorbar": {
            "outlinewidth": 0,
            "ticks": ""
           }
          },
          "colorscale": {
           "diverging": [
            [
             0,
             "#8e0152"
            ],
            [
             0.1,
             "#c51b7d"
            ],
            [
             0.2,
             "#de77ae"
            ],
            [
             0.3,
             "#f1b6da"
            ],
            [
             0.4,
             "#fde0ef"
            ],
            [
             0.5,
             "#f7f7f7"
            ],
            [
             0.6,
             "#e6f5d0"
            ],
            [
             0.7,
             "#b8e186"
            ],
            [
             0.8,
             "#7fbc41"
            ],
            [
             0.9,
             "#4d9221"
            ],
            [
             1,
             "#276419"
            ]
           ],
           "sequential": [
            [
             0,
             "#0d0887"
            ],
            [
             0.1111111111111111,
             "#46039f"
            ],
            [
             0.2222222222222222,
             "#7201a8"
            ],
            [
             0.3333333333333333,
             "#9c179e"
            ],
            [
             0.4444444444444444,
             "#bd3786"
            ],
            [
             0.5555555555555556,
             "#d8576b"
            ],
            [
             0.6666666666666666,
             "#ed7953"
            ],
            [
             0.7777777777777778,
             "#fb9f3a"
            ],
            [
             0.8888888888888888,
             "#fdca26"
            ],
            [
             1,
             "#f0f921"
            ]
           ],
           "sequentialminus": [
            [
             0,
             "#0d0887"
            ],
            [
             0.1111111111111111,
             "#46039f"
            ],
            [
             0.2222222222222222,
             "#7201a8"
            ],
            [
             0.3333333333333333,
             "#9c179e"
            ],
            [
             0.4444444444444444,
             "#bd3786"
            ],
            [
             0.5555555555555556,
             "#d8576b"
            ],
            [
             0.6666666666666666,
             "#ed7953"
            ],
            [
             0.7777777777777778,
             "#fb9f3a"
            ],
            [
             0.8888888888888888,
             "#fdca26"
            ],
            [
             1,
             "#f0f921"
            ]
           ]
          },
          "colorway": [
           "#636efa",
           "#EF553B",
           "#00cc96",
           "#ab63fa",
           "#FFA15A",
           "#19d3f3",
           "#FF6692",
           "#B6E880",
           "#FF97FF",
           "#FECB52"
          ],
          "font": {
           "color": "#2a3f5f"
          },
          "geo": {
           "bgcolor": "white",
           "lakecolor": "white",
           "landcolor": "#E5ECF6",
           "showlakes": true,
           "showland": true,
           "subunitcolor": "white"
          },
          "hoverlabel": {
           "align": "left"
          },
          "hovermode": "closest",
          "mapbox": {
           "style": "light"
          },
          "paper_bgcolor": "white",
          "plot_bgcolor": "#E5ECF6",
          "polar": {
           "angularaxis": {
            "gridcolor": "white",
            "linecolor": "white",
            "ticks": ""
           },
           "bgcolor": "#E5ECF6",
           "radialaxis": {
            "gridcolor": "white",
            "linecolor": "white",
            "ticks": ""
           }
          },
          "scene": {
           "xaxis": {
            "backgroundcolor": "#E5ECF6",
            "gridcolor": "white",
            "gridwidth": 2,
            "linecolor": "white",
            "showbackground": true,
            "ticks": "",
            "zerolinecolor": "white"
           },
           "yaxis": {
            "backgroundcolor": "#E5ECF6",
            "gridcolor": "white",
            "gridwidth": 2,
            "linecolor": "white",
            "showbackground": true,
            "ticks": "",
            "zerolinecolor": "white"
           },
           "zaxis": {
            "backgroundcolor": "#E5ECF6",
            "gridcolor": "white",
            "gridwidth": 2,
            "linecolor": "white",
            "showbackground": true,
            "ticks": "",
            "zerolinecolor": "white"
           }
          },
          "shapedefaults": {
           "line": {
            "color": "#2a3f5f"
           }
          },
          "ternary": {
           "aaxis": {
            "gridcolor": "white",
            "linecolor": "white",
            "ticks": ""
           },
           "baxis": {
            "gridcolor": "white",
            "linecolor": "white",
            "ticks": ""
           },
           "bgcolor": "#E5ECF6",
           "caxis": {
            "gridcolor": "white",
            "linecolor": "white",
            "ticks": ""
           }
          },
          "title": {
           "x": 0.05
          },
          "xaxis": {
           "automargin": true,
           "gridcolor": "white",
           "linecolor": "white",
           "ticks": "",
           "title": {
            "standoff": 15
           },
           "zerolinecolor": "white",
           "zerolinewidth": 2
          },
          "yaxis": {
           "automargin": true,
           "gridcolor": "white",
           "linecolor": "white",
           "ticks": "",
           "title": {
            "standoff": 15
           },
           "zerolinecolor": "white",
           "zerolinewidth": 2
          }
         }
        },
        "title": {
         "font": {
          "color": "#4D5663"
         }
        },
        "xaxis": {
         "gridcolor": "#E1E5ED",
         "showgrid": true,
         "tickfont": {
          "color": "#4D5663"
         },
         "title": {
          "font": {
           "color": "#4D5663"
          },
          "text": ""
         },
         "zerolinecolor": "#E1E5ED"
        },
        "yaxis": {
         "gridcolor": "#E1E5ED",
         "showgrid": true,
         "tickfont": {
          "color": "#4D5663"
         },
         "title": {
          "font": {
           "color": "#4D5663"
          },
          "text": ""
         },
         "zerolinecolor": "#E1E5ED"
        }
       }
      },
      "text/html": [
       "<div>                            <div id=\"bdedb2ae-309a-44e8-8c28-e34b557da566\" class=\"plotly-graph-div\" style=\"height:525px; width:100%;\"></div>            <script type=\"text/javascript\">                require([\"plotly\"], function(Plotly) {                    window.PLOTLYENV=window.PLOTLYENV || {};\n",
       "                    window.PLOTLYENV.BASE_URL='https://plot.ly';                                    if (document.getElementById(\"bdedb2ae-309a-44e8-8c28-e34b557da566\")) {                    Plotly.newPlot(                        \"bdedb2ae-309a-44e8-8c28-e34b557da566\",                        [{\"line\": {\"color\": \"rgba(255, 153, 51, 1.0)\", \"dash\": \"solid\", \"shape\": \"linear\", \"width\": 1.3}, \"mode\": \"lines\", \"name\": \"General\", \"text\": \"\", \"type\": \"scatter\", \"x\": [\"Afghanistan\", \"Albania\", \"United Arab Emirates\", \"Argentina\", \"Armenia\", \"Benin\", \"Burkina Faso\", \"Bangladesh\", \"Bolivia\", \"Brazil\", \"Botswana\", \"Chile\", \"Cote d'Ivoire\", \"Cameroon\", \"Congo, Dem. Rep.\", \"Congo, Rep.\", \"Colombia\", \"Dominican Republic\", \"Ecuador\", \"Egypt, Arab Rep.\", \"Ethiopia\", \"Gabon\", \"Georgia\", \"Ghana\", \"Guinea\", \"Guatemala\", \"Honduras\", \"Haiti\", \"Indonesia\", \"India\", \"Iran, Islamic Rep.\", \"Iraq\", \"Jordan\", \"Kenya\", \"Kyrgyz Republic\", \"Cambodia\", \"Liberia\", \"Sri Lanka\", \"Lesotho\", \"Morocco\", \"Madagascar\", \"Mexico\", \"Mali\", \"Myanmar\", \"Mongolia\", \"Mozambique\", \"Mauritania\", \"Mauritius\", \"Malawi\", \"Malaysia\", \"Namibia\", \"Niger\", \"Nigeria\", \"Nicaragua\", \"Pakistan\", \"Panama\", \"Peru\", \"Philippines\", \"Paraguay\", \"Romania\", \"Rwanda\", \"Senegal\", \"Singapore\", \"Sierra Leone\", \"El Salvador\", \"Chad\", \"Togo\", \"Thailand\", \"Tunisia\", \"Turkey\", \"Tanzania\", \"Uganda\", \"Venezuela, RB\", \"Vietnam\", \"South Africa\", \"Zambia\", \"Zimbabwe\"], \"y\": [0.9138161316514015, 2.377762086689472, 21.331796050071716, 2.4161674082279205, 9.75530669093132, 18.093837797641754, 33.02279710769653, 21.245959401130676, 7.119389623403549, 4.836530610918999, 24.378307163715363, 18.670815229415894, 34.053173661231995, 15.137830376625061, 16.096340119838715, 6.238438934087753, 4.737451300024986, 3.894679620862007, 2.9369747266173363, 1.792016252875328, 0.3159289015457034, 43.5779869556427, 2.2010216489434242, 38.947781920433044, 13.780468702316284, 2.1264059469103813, 6.19601272046566, 13.517189025878906, 3.1239157542586327, 1.9945431500673294, 26.29660964012146, 4.214755445718765, 1.0609684512019157, 72.93168306350708, 3.106876276433468, 5.65950870513916, 20.843392610549927, 2.4207601323723793, 27.641841769218445, 0.6392114795744419, 12.055302411317825, 5.552579462528229, 24.397648870944977, 0.6904998794198036, 21.897147595882416, 21.866820752620697, 4.012377932667732, 5.626937001943588, 20.30283212661743, 10.876332968473434, 43.42947006225586, 8.717238157987595, 5.6061651557683945, 3.9274167269468307, 6.885557621717453, 3.503168746829033, 2.634166181087494, 4.521298781037331, 28.88176739215851, 2.9901696369051933, 31.114640831947327, 31.798091530799866, 9.54800769686699, 11.01861372590065, 3.5496149212121964, 15.233409404754639, 21.457375586032867, 8.256859332323074, 2.0371897146105766, 16.411952674388885, 38.53802978992462, 50.5812406539917, 10.970383137464523, 3.4995008260011673, 19.016845524311066, 27.842390537261963, 48.58163297176361]}],                        {\"legend\": {\"bgcolor\": \"#F5F6F9\", \"font\": {\"color\": \"#4D5663\"}}, \"paper_bgcolor\": \"#F5F6F9\", \"plot_bgcolor\": \"#F5F6F9\", \"template\": {\"data\": {\"bar\": [{\"error_x\": {\"color\": \"#2a3f5f\"}, \"error_y\": {\"color\": \"#2a3f5f\"}, \"marker\": {\"line\": {\"color\": \"#E5ECF6\", \"width\": 0.5}}, \"type\": \"bar\"}], \"barpolar\": [{\"marker\": {\"line\": {\"color\": \"#E5ECF6\", \"width\": 0.5}}, \"type\": \"barpolar\"}], \"carpet\": [{\"aaxis\": {\"endlinecolor\": \"#2a3f5f\", \"gridcolor\": \"white\", \"linecolor\": \"white\", \"minorgridcolor\": \"white\", \"startlinecolor\": \"#2a3f5f\"}, \"baxis\": {\"endlinecolor\": \"#2a3f5f\", \"gridcolor\": \"white\", \"linecolor\": \"white\", \"minorgridcolor\": \"white\", \"startlinecolor\": \"#2a3f5f\"}, \"type\": \"carpet\"}], \"choropleth\": [{\"colorbar\": {\"outlinewidth\": 0, \"ticks\": \"\"}, \"type\": \"choropleth\"}], \"contour\": [{\"colorbar\": {\"outlinewidth\": 0, \"ticks\": \"\"}, \"colorscale\": [[0.0, \"#0d0887\"], [0.1111111111111111, \"#46039f\"], [0.2222222222222222, \"#7201a8\"], [0.3333333333333333, \"#9c179e\"], [0.4444444444444444, \"#bd3786\"], [0.5555555555555556, \"#d8576b\"], [0.6666666666666666, \"#ed7953\"], [0.7777777777777778, \"#fb9f3a\"], [0.8888888888888888, \"#fdca26\"], [1.0, \"#f0f921\"]], \"type\": \"contour\"}], \"contourcarpet\": [{\"colorbar\": {\"outlinewidth\": 0, \"ticks\": \"\"}, \"type\": \"contourcarpet\"}], \"heatmap\": [{\"colorbar\": {\"outlinewidth\": 0, \"ticks\": \"\"}, \"colorscale\": [[0.0, \"#0d0887\"], [0.1111111111111111, \"#46039f\"], [0.2222222222222222, \"#7201a8\"], [0.3333333333333333, \"#9c179e\"], [0.4444444444444444, \"#bd3786\"], [0.5555555555555556, \"#d8576b\"], [0.6666666666666666, \"#ed7953\"], [0.7777777777777778, \"#fb9f3a\"], [0.8888888888888888, \"#fdca26\"], [1.0, \"#f0f921\"]], \"type\": \"heatmap\"}], \"heatmapgl\": [{\"colorbar\": {\"outlinewidth\": 0, \"ticks\": \"\"}, \"colorscale\": [[0.0, \"#0d0887\"], [0.1111111111111111, \"#46039f\"], [0.2222222222222222, \"#7201a8\"], [0.3333333333333333, \"#9c179e\"], [0.4444444444444444, \"#bd3786\"], [0.5555555555555556, \"#d8576b\"], [0.6666666666666666, \"#ed7953\"], [0.7777777777777778, \"#fb9f3a\"], [0.8888888888888888, \"#fdca26\"], [1.0, \"#f0f921\"]], \"type\": \"heatmapgl\"}], \"histogram\": [{\"marker\": {\"colorbar\": {\"outlinewidth\": 0, \"ticks\": \"\"}}, \"type\": \"histogram\"}], \"histogram2d\": [{\"colorbar\": {\"outlinewidth\": 0, \"ticks\": \"\"}, \"colorscale\": [[0.0, \"#0d0887\"], [0.1111111111111111, \"#46039f\"], [0.2222222222222222, \"#7201a8\"], [0.3333333333333333, \"#9c179e\"], [0.4444444444444444, \"#bd3786\"], [0.5555555555555556, \"#d8576b\"], [0.6666666666666666, \"#ed7953\"], [0.7777777777777778, \"#fb9f3a\"], [0.8888888888888888, \"#fdca26\"], [1.0, \"#f0f921\"]], \"type\": \"histogram2d\"}], \"histogram2dcontour\": [{\"colorbar\": {\"outlinewidth\": 0, \"ticks\": \"\"}, \"colorscale\": [[0.0, \"#0d0887\"], [0.1111111111111111, \"#46039f\"], [0.2222222222222222, \"#7201a8\"], [0.3333333333333333, \"#9c179e\"], [0.4444444444444444, \"#bd3786\"], [0.5555555555555556, \"#d8576b\"], [0.6666666666666666, \"#ed7953\"], [0.7777777777777778, \"#fb9f3a\"], [0.8888888888888888, \"#fdca26\"], [1.0, \"#f0f921\"]], \"type\": \"histogram2dcontour\"}], \"mesh3d\": [{\"colorbar\": {\"outlinewidth\": 0, \"ticks\": \"\"}, \"type\": \"mesh3d\"}], \"parcoords\": [{\"line\": {\"colorbar\": {\"outlinewidth\": 0, \"ticks\": \"\"}}, \"type\": \"parcoords\"}], \"pie\": [{\"automargin\": true, \"type\": \"pie\"}], \"scatter\": [{\"marker\": {\"colorbar\": {\"outlinewidth\": 0, \"ticks\": \"\"}}, \"type\": \"scatter\"}], \"scatter3d\": [{\"line\": {\"colorbar\": {\"outlinewidth\": 0, \"ticks\": \"\"}}, \"marker\": {\"colorbar\": {\"outlinewidth\": 0, \"ticks\": \"\"}}, \"type\": \"scatter3d\"}], \"scattercarpet\": [{\"marker\": {\"colorbar\": {\"outlinewidth\": 0, \"ticks\": \"\"}}, \"type\": \"scattercarpet\"}], \"scattergeo\": [{\"marker\": {\"colorbar\": {\"outlinewidth\": 0, \"ticks\": \"\"}}, \"type\": \"scattergeo\"}], \"scattergl\": [{\"marker\": {\"colorbar\": {\"outlinewidth\": 0, \"ticks\": \"\"}}, \"type\": \"scattergl\"}], \"scattermapbox\": [{\"marker\": {\"colorbar\": {\"outlinewidth\": 0, \"ticks\": \"\"}}, \"type\": \"scattermapbox\"}], \"scatterpolar\": [{\"marker\": {\"colorbar\": {\"outlinewidth\": 0, \"ticks\": \"\"}}, \"type\": \"scatterpolar\"}], \"scatterpolargl\": [{\"marker\": {\"colorbar\": {\"outlinewidth\": 0, \"ticks\": \"\"}}, \"type\": \"scatterpolargl\"}], \"scatterternary\": [{\"marker\": {\"colorbar\": {\"outlinewidth\": 0, \"ticks\": \"\"}}, \"type\": \"scatterternary\"}], \"surface\": [{\"colorbar\": {\"outlinewidth\": 0, \"ticks\": \"\"}, \"colorscale\": [[0.0, \"#0d0887\"], [0.1111111111111111, \"#46039f\"], [0.2222222222222222, \"#7201a8\"], [0.3333333333333333, \"#9c179e\"], [0.4444444444444444, \"#bd3786\"], [0.5555555555555556, \"#d8576b\"], [0.6666666666666666, \"#ed7953\"], [0.7777777777777778, \"#fb9f3a\"], [0.8888888888888888, \"#fdca26\"], [1.0, \"#f0f921\"]], \"type\": \"surface\"}], \"table\": [{\"cells\": {\"fill\": {\"color\": \"#EBF0F8\"}, \"line\": {\"color\": \"white\"}}, \"header\": {\"fill\": {\"color\": \"#C8D4E3\"}, \"line\": {\"color\": \"white\"}}, \"type\": \"table\"}]}, \"layout\": {\"annotationdefaults\": {\"arrowcolor\": \"#2a3f5f\", \"arrowhead\": 0, \"arrowwidth\": 1}, \"coloraxis\": {\"colorbar\": {\"outlinewidth\": 0, \"ticks\": \"\"}}, \"colorscale\": {\"diverging\": [[0, \"#8e0152\"], [0.1, \"#c51b7d\"], [0.2, \"#de77ae\"], [0.3, \"#f1b6da\"], [0.4, \"#fde0ef\"], [0.5, \"#f7f7f7\"], [0.6, \"#e6f5d0\"], [0.7, \"#b8e186\"], [0.8, \"#7fbc41\"], [0.9, \"#4d9221\"], [1, \"#276419\"]], \"sequential\": [[0.0, \"#0d0887\"], [0.1111111111111111, \"#46039f\"], [0.2222222222222222, \"#7201a8\"], [0.3333333333333333, \"#9c179e\"], [0.4444444444444444, \"#bd3786\"], [0.5555555555555556, \"#d8576b\"], [0.6666666666666666, \"#ed7953\"], [0.7777777777777778, \"#fb9f3a\"], [0.8888888888888888, \"#fdca26\"], [1.0, \"#f0f921\"]], \"sequentialminus\": [[0.0, \"#0d0887\"], [0.1111111111111111, \"#46039f\"], [0.2222222222222222, \"#7201a8\"], [0.3333333333333333, \"#9c179e\"], [0.4444444444444444, \"#bd3786\"], [0.5555555555555556, \"#d8576b\"], [0.6666666666666666, \"#ed7953\"], [0.7777777777777778, \"#fb9f3a\"], [0.8888888888888888, \"#fdca26\"], [1.0, \"#f0f921\"]]}, \"colorway\": [\"#636efa\", \"#EF553B\", \"#00cc96\", \"#ab63fa\", \"#FFA15A\", \"#19d3f3\", \"#FF6692\", \"#B6E880\", \"#FF97FF\", \"#FECB52\"], \"font\": {\"color\": \"#2a3f5f\"}, \"geo\": {\"bgcolor\": \"white\", \"lakecolor\": \"white\", \"landcolor\": \"#E5ECF6\", \"showlakes\": true, \"showland\": true, \"subunitcolor\": \"white\"}, \"hoverlabel\": {\"align\": \"left\"}, \"hovermode\": \"closest\", \"mapbox\": {\"style\": \"light\"}, \"paper_bgcolor\": \"white\", \"plot_bgcolor\": \"#E5ECF6\", \"polar\": {\"angularaxis\": {\"gridcolor\": \"white\", \"linecolor\": \"white\", \"ticks\": \"\"}, \"bgcolor\": \"#E5ECF6\", \"radialaxis\": {\"gridcolor\": \"white\", \"linecolor\": \"white\", \"ticks\": \"\"}}, \"scene\": {\"xaxis\": {\"backgroundcolor\": \"#E5ECF6\", \"gridcolor\": \"white\", \"gridwidth\": 2, \"linecolor\": \"white\", \"showbackground\": true, \"ticks\": \"\", \"zerolinecolor\": \"white\"}, \"yaxis\": {\"backgroundcolor\": \"#E5ECF6\", \"gridcolor\": \"white\", \"gridwidth\": 2, \"linecolor\": \"white\", \"showbackground\": true, \"ticks\": \"\", \"zerolinecolor\": \"white\"}, \"zaxis\": {\"backgroundcolor\": \"#E5ECF6\", \"gridcolor\": \"white\", \"gridwidth\": 2, \"linecolor\": \"white\", \"showbackground\": true, \"ticks\": \"\", \"zerolinecolor\": \"white\"}}, \"shapedefaults\": {\"line\": {\"color\": \"#2a3f5f\"}}, \"ternary\": {\"aaxis\": {\"gridcolor\": \"white\", \"linecolor\": \"white\", \"ticks\": \"\"}, \"baxis\": {\"gridcolor\": \"white\", \"linecolor\": \"white\", \"ticks\": \"\"}, \"bgcolor\": \"#E5ECF6\", \"caxis\": {\"gridcolor\": \"white\", \"linecolor\": \"white\", \"ticks\": \"\"}}, \"title\": {\"x\": 0.05}, \"xaxis\": {\"automargin\": true, \"gridcolor\": \"white\", \"linecolor\": \"white\", \"ticks\": \"\", \"title\": {\"standoff\": 15}, \"zerolinecolor\": \"white\", \"zerolinewidth\": 2}, \"yaxis\": {\"automargin\": true, \"gridcolor\": \"white\", \"linecolor\": \"white\", \"ticks\": \"\", \"title\": {\"standoff\": 15}, \"zerolinecolor\": \"white\", \"zerolinewidth\": 2}}}, \"title\": {\"font\": {\"color\": \"#4D5663\"}}, \"xaxis\": {\"gridcolor\": \"#E1E5ED\", \"showgrid\": true, \"tickfont\": {\"color\": \"#4D5663\"}, \"title\": {\"font\": {\"color\": \"#4D5663\"}, \"text\": \"\"}, \"zerolinecolor\": \"#E1E5ED\"}, \"yaxis\": {\"gridcolor\": \"#E1E5ED\", \"showgrid\": true, \"tickfont\": {\"color\": \"#4D5663\"}, \"title\": {\"font\": {\"color\": \"#4D5663\"}, \"text\": \"\"}, \"zerolinecolor\": \"#E1E5ED\"}},                        {\"showLink\": true, \"linkText\": \"Export to plot.ly\", \"plotlyServerURL\": \"https://plot.ly\", \"responsive\": true}                    ).then(function(){\n",
       "                            \n",
       "var gd = document.getElementById('bdedb2ae-309a-44e8-8c28-e34b557da566');\n",
       "var x = new MutationObserver(function (mutations, observer) {{\n",
       "        var display = window.getComputedStyle(gd).display;\n",
       "        if (!display || display === 'none') {{\n",
       "            console.log([gd, 'removed!']);\n",
       "            Plotly.purge(gd);\n",
       "            observer.disconnect();\n",
       "        }}\n",
       "}});\n",
       "\n",
       "// Listen for the removal of the full notebook cells\n",
       "var notebookContainer = gd.closest('#notebook-container');\n",
       "if (notebookContainer) {{\n",
       "    x.observe(notebookContainer, {childList: true});\n",
       "}}\n",
       "\n",
       "// Listen for the clearing of the current output cell\n",
       "var outputEl = gd.closest('.output');\n",
       "if (outputEl) {{\n",
       "    x.observe(outputEl, {childList: true});\n",
       "}}\n",
       "\n",
       "                        })                };                });            </script>        </div>"
      ]
     },
     "metadata": {},
     "output_type": "display_data"
    }
   ],
   "source": [
    "geo.iplot(x='Country',y='General')"
   ]
  },
  {
   "cell_type": "markdown",
   "metadata": {},
   "source": [
    "<div style='background-color:navy; color:white; padding:20px'>\n",
    "Kenya set a leading position in Mobile Money Account year 2017. Technology develops rapidly, past history can be quite a surprise. See article Harvard Business School review as below:\n",
    " </div>"
   ]
  },
  {
   "cell_type": "code",
   "execution_count": 33,
   "metadata": {
    "ExecuteTime": {
     "end_time": "2020-12-09T10:41:19.031717Z",
     "start_time": "2020-12-09T10:41:19.016719Z"
    }
   },
   "outputs": [
    {
     "data": {
      "text/html": [
       "<iframe src=\" https://digital.hbs.edu/platform-rctom/submission/how-kenya-created-the-worlds-most-successful-mobile-payments-service/\" width=\"1000\" height=\"500\"></iframe>\n"
      ],
      "text/plain": [
       "<IPython.core.display.HTML object>"
      ]
     },
     "metadata": {},
     "output_type": "display_data"
    }
   ],
   "source": [
    "%%html\n",
    "<iframe src=\" https://digital.hbs.edu/platform-rctom/submission/how-kenya-created-the-worlds-most-successful-mobile-payments-service/\" width=\"1000\" height=\"500\"></iframe>"
   ]
  }
 ],
 "metadata": {
  "kernelspec": {
   "display_name": "Python 3",
   "language": "python",
   "name": "python3"
  },
  "language_info": {
   "codemirror_mode": {
    "name": "ipython",
    "version": 3
   },
   "file_extension": ".py",
   "mimetype": "text/x-python",
   "name": "python",
   "nbconvert_exporter": "python",
   "pygments_lexer": "ipython3",
   "version": "3.8.3"
  },
  "latex_envs": {
   "LaTeX_envs_menu_present": true,
   "autoclose": false,
   "autocomplete": true,
   "bibliofile": "biblio.bib",
   "cite_by": "apalike",
   "current_citInitial": 1,
   "eqLabelWithNumbers": true,
   "eqNumInitial": 1,
   "hotkeys": {
    "equation": "Ctrl-E",
    "itemize": "Ctrl-I"
   },
   "labels_anchors": false,
   "latex_user_defs": false,
   "report_style_numbering": false,
   "user_envs_cfg": false
  },
  "toc": {
   "base_numbering": 1,
   "nav_menu": {},
   "number_sections": true,
   "sideBar": true,
   "skip_h1_title": false,
   "title_cell": "Table of Contents",
   "title_sidebar": "Contents",
   "toc_cell": false,
   "toc_position": {},
   "toc_section_display": true,
   "toc_window_display": false
  },
  "varInspector": {
   "cols": {
    "lenName": 16,
    "lenType": 16,
    "lenVar": 40
   },
   "kernels_config": {
    "python": {
     "delete_cmd_postfix": "",
     "delete_cmd_prefix": "del ",
     "library": "var_list.py",
     "varRefreshCmd": "print(var_dic_list())"
    },
    "r": {
     "delete_cmd_postfix": ") ",
     "delete_cmd_prefix": "rm(",
     "library": "var_list.r",
     "varRefreshCmd": "cat(var_dic_list()) "
    }
   },
   "types_to_exclude": [
    "module",
    "function",
    "builtin_function_or_method",
    "instance",
    "_Feature"
   ],
   "window_display": false
  }
 },
 "nbformat": 4,
 "nbformat_minor": 4
}
